{
 "cells": [
  {
   "cell_type": "code",
   "execution_count": null,
   "id": "94a85450-a4dd-42d4-b05d-94fa8b9cd651",
   "metadata": {},
   "outputs": [],
   "source": [
    "#| default_exp visualization"
   ]
  },
  {
   "cell_type": "code",
   "execution_count": null,
   "id": "c35a5a5f-31fd-4411-a7ba-482259abdf96",
   "metadata": {},
   "outputs": [],
   "source": [
    "#| hide\n",
    "%load_ext autoreload\n",
    "%autoreload 2"
   ]
  },
  {
   "cell_type": "code",
   "execution_count": null,
   "id": "7687d998-5d1a-424c-a040-516a9c219c1d",
   "metadata": {},
   "outputs": [],
   "source": [
    "#| export\n",
    "#Weight & Biases\n",
    "import wandb\n",
    "\n",
    "#Yaml\n",
    "from yaml import load, FullLoader\n",
    "\n",
    "#Embeddings\n",
    "from dvats.all import *\n",
    "from tsai.data.preparation import prepare_forecasting_data\n",
    "from tsai.data.validation import get_forecasting_splits\n",
    "from fastcore.all import *\n",
    "\n",
    "#Dimensionality reduction\n",
    "from tsai.imports import *\n",
    "\n",
    "#Clustering\n",
    "import hdbscan\n",
    "import utils.config as cfg_\n",
    "import time\n",
    "from dvats.dr import get_PCA_prjs, get_UMAP_prjs, get_TSNE_prjs\n"
   ]
  },
  {
   "cell_type": "markdown",
   "id": "c211f141-4a83-4dff-a02a-d239398af178",
   "metadata": {},
   "source": [
    "### Utilities for simpler code in 05_xai-lrp"
   ]
  },
  {
   "cell_type": "code",
   "execution_count": 2,
   "id": "a83f201c-25eb-45e6-9490-d1c06366fc1a",
   "metadata": {},
   "outputs": [],
   "source": [
    "#| export\n",
    "def get_dataset(config, run_dr, config_dr, print_flag):\n",
    "    # Botch to use artifacts offline\n",
    "    artifacts_gettr = run_dr.use_artifact if config_dr.use_wandb else api.artifact\n",
    "    enc_artifact = artifacts_gettr(config.enc_artifact, type='learner')\n",
    "    if print_flag: print (enc_artifact.name)\n",
    "    ## TODO: This only works when you run it two timeS! WTF?\n",
    "    try:\n",
    "        enc_learner = enc_artifact.to_obj()\n",
    "    except:\n",
    "        enc_learner = enc_artifact.to_obj()\n",
    "    #enc_artifact.metadata\n",
    "    ## Restore artifact\n",
    "    enc_logger = enc_artifact.logged_by()\n",
    "    enc_artifact_train = artifacts_gettr(enc_logger.config['train_artifact'], type='dataset')\n",
    "    if enc_logger.config['valid_artifact'] is not None:\n",
    "        enc_artifact_valid = artifacts_gettr(enc_logger.config['valid_artifact'], type='dataset')\n",
    "        if print_flag: print(\"enc_artifact_valid:\", enc_artifact_valid.name)\n",
    "    if print_flag: print(\"enc_artifact_train: \", enc_artifact_train.name)\n",
    "    if config_dr.dr_artifact is not None:\n",
    "        dr_artifact = artifacts_gettr(config_dr.dr_artifact)\n",
    "    else:\n",
    "        dr_artifact = enc_artifact_train\n",
    "    if print_flag: print(\"DR artifact train: \", dr_artifact.name)\n",
    "    df = dr_artifact.to_df()\n",
    "    if print_flag: display(df.head())\n",
    "    return df, dr_artifact, enc_artifact, enc_learner"
   ]
  },
  {
   "cell_type": "code",
   "execution_count": null,
   "id": "b81ea88d-c6db-40d5-b514-cb73e94a5891",
   "metadata": {},
   "outputs": [],
   "source": [
    "#| export\n",
    "def umap_parameters(config_dr, config):\n",
    "    umap_params_cpu = {\n",
    "        'n_neighbors' : config_dr.n_neighbors,\n",
    "        'min_dist' : config_dr.min_dist,\n",
    "        'random_state': np.uint64(822569775), \n",
    "        'metric': config_dr.metric,\n",
    "        #'a': 1.5769434601962196,\n",
    "        #'b': 0.8950608779914887,\n",
    "        #'metric_kwds': {'p': 2}, #No debería ser necesario, just in case\n",
    "        #'output_metric': 'euclidean',\n",
    "        'verbose': 4,\n",
    "        #'n_epochs': 200\n",
    "    }\n",
    "    umap_params_gpu = {\n",
    "        'n_neighbors' : config_dr.n_neighbors,\n",
    "        'min_dist' : config_dr.min_dist,\n",
    "        'random_state': np.uint64(1234), \n",
    "        'metric': config_dr.metric,\n",
    "        'a': 1.5769434601962196,\n",
    "        'b': 0.8950608779914887,\n",
    "        'target_metric': 'euclidean',\n",
    "        'target_n_neighbors': config_dr.n_neighbors,\n",
    "        'verbose': 4, #6, #CUML_LEVEL_TRACE\n",
    "        'n_epochs': 200*3*2,\n",
    "        'init': 'random',\n",
    "        'hash_input': True\n",
    "    }\n",
    "    if config.cpu_flag: \n",
    "        umap_params = umap_params_cpu\n",
    "    else:\n",
    "        umap_params = umap_params_gpu\n",
    "    return umap_params"
   ]
  },
  {
   "cell_type": "code",
   "execution_count": 12,
   "id": "62f8a608-a10a-4d8d-a7b7-08b801951970",
   "metadata": {},
   "outputs": [],
   "source": [
    "#| export\n",
    "def get_prjs(embs_no_nan, print_flag = False):\n",
    "    prjs_pca = get_PCA_prjs(\n",
    "        X    = embs_no_nan, \n",
    "        cpu  = False,  \n",
    "        print_flag = print_flag, \n",
    "        **umap_params\n",
    "    )\n",
    "    if print_flag: \n",
    "        print(prjs_pca.shape)\n",
    "    prjs_umap = get_UMAP_prjs(\n",
    "        input_data = prjs_pca, \n",
    "        cpu =  config.cpu_flag, #config_dr.cpu, \n",
    "        print_flag = print_flag,         \n",
    "        **umap_params\n",
    "    )\n",
    "    if print_flag: prjs_umap.shape\n",
    "    return prjs"
   ]
  }
 ],
 "metadata": {
  "kernelspec": {
   "display_name": "Python 3 (ipykernel)",
   "language": "python",
   "name": "python3"
  },
  "language_info": {
   "codemirror_mode": {
    "name": "ipython",
    "version": 3
   },
   "file_extension": ".py",
   "mimetype": "text/x-python",
   "name": "python",
   "nbconvert_exporter": "python",
   "pygments_lexer": "ipython3",
   "version": "3.10.13"
  }
 },
 "nbformat": 4,
 "nbformat_minor": 5
}

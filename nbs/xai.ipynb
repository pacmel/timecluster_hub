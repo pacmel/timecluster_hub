{
 "cells": [
  {
   "cell_type": "code",
   "execution_count": 1,
   "id": "94a85450-a4dd-42d4-b05d-94fa8b9cd651",
   "metadata": {},
   "outputs": [],
   "source": [
    "#| default_exp xai"
   ]
  },
  {
   "cell_type": "code",
   "execution_count": 16,
   "id": "7687d998-5d1a-424c-a040-516a9c219c1d",
   "metadata": {},
   "outputs": [],
   "source": [
    "#| export\n",
    "#Weight & Biases\n",
    "import wandb\n",
    "\n",
    "#Yaml\n",
    "from yaml import load, FullLoader\n",
    "\n",
    "#Embeddings\n",
    "from dvats.all import *\n",
    "from tsai.data.preparation import prepare_forecasting_data\n",
    "from tsai.data.validation import get_forecasting_splits\n",
    "from fastcore.all import *\n",
    "\n",
    "#Dimensionality reduction\n",
    "from tsai.imports import *\n",
    "\n",
    "#Clustering\n",
    "import hdbscan\n",
    "import time\n",
    "from dvats.dr import get_PCA_prjs, get_UMAP_prjs, get_TSNE_prjs\n",
    "\n",
    "import seaborn as sns\n",
    "import matplotlib.pyplot as plt\n",
    "import pandas as pd\n",
    "import ipywidgets as widgets\n",
    "from IPython.display import display\n",
    "from functools import partial\n",
    "\n",
    "from IPython.display import display, clear_output, HTML as IPHTML\n",
    "from ipywidgets import Button, Output, VBox, HBox, HTML, Layout, FloatSlider\n",
    "\n",
    "import plotly.graph_objs as go\n",
    "import plotly.offline as py\n",
    "import plotly.io as pio\n",
    "#! pip install kaleido\n",
    "import kaleido\n"
   ]
  },
  {
   "cell_type": "markdown",
   "id": "c211f141-4a83-4dff-a02a-d239398af178",
   "metadata": {},
   "source": [
    "### Utilities for simpler code in 05_xai-lrp"
   ]
  },
  {
   "cell_type": "markdown",
   "id": "57f68605-23b5-42e0-8f8c-30c50898a12a",
   "metadata": {},
   "source": [
    "#### Basics for previous notebooks' operations execution"
   ]
  },
  {
   "cell_type": "code",
   "execution_count": 3,
   "id": "a83f201c-25eb-45e6-9490-d1c06366fc1a",
   "metadata": {},
   "outputs": [],
   "source": [
    "#| export\n",
    "def get_dataset(config, run_dr, config_dr, print_flag):\n",
    "    # Botch to use artifacts offline\n",
    "    artifacts_gettr = run_dr.use_artifact if config_dr.use_wandb else api.artifact\n",
    "    enc_artifact = artifacts_gettr(config.enc_artifact, type='learner')\n",
    "    if print_flag: print (enc_artifact.name)\n",
    "    ## TODO: This only works when you run it two timeS! WTF?\n",
    "    try:\n",
    "        enc_learner = enc_artifact.to_obj()\n",
    "    except:\n",
    "        enc_learner = enc_artifact.to_obj()\n",
    "    #enc_artifact.metadata\n",
    "    ## Restore artifact\n",
    "    enc_logger = enc_artifact.logged_by()\n",
    "    enc_artifact_train = artifacts_gettr(enc_logger.config['train_artifact'], type='dataset')\n",
    "    if enc_logger.config['valid_artifact'] is not None:\n",
    "        enc_artifact_valid = artifacts_gettr(enc_logger.config['valid_artifact'], type='dataset')\n",
    "        if print_flag: print(\"enc_artifact_valid:\", enc_artifact_valid.name)\n",
    "    if print_flag: print(\"enc_artifact_train: \", enc_artifact_train.name)\n",
    "    if config_dr.dr_artifact is not None:\n",
    "        dr_artifact = artifacts_gettr(config_dr.dr_artifact)\n",
    "    else:\n",
    "        dr_artifact = enc_artifact_train\n",
    "    if print_flag: print(\"DR artifact train: \", dr_artifact.name)\n",
    "    df = dr_artifact.to_df()\n",
    "    if print_flag: display(df.head())\n",
    "    return df, dr_artifact, enc_artifact, enc_learner"
   ]
  },
  {
   "cell_type": "code",
   "execution_count": 4,
   "id": "b81ea88d-c6db-40d5-b514-cb73e94a5891",
   "metadata": {},
   "outputs": [],
   "source": [
    "#| export\n",
    "def umap_parameters(config_dr, config):\n",
    "    umap_params_cpu = {\n",
    "        'n_neighbors' : config_dr.n_neighbors,\n",
    "        'min_dist' : config_dr.min_dist,\n",
    "        'random_state': np.uint64(822569775), \n",
    "        'metric': config_dr.metric,\n",
    "        #'a': 1.5769434601962196,\n",
    "        #'b': 0.8950608779914887,\n",
    "        #'metric_kwds': {'p': 2}, #No debería ser necesario, just in case\n",
    "        #'output_metric': 'euclidean',\n",
    "        'verbose': 4,\n",
    "        #'n_epochs': 200\n",
    "    }\n",
    "    umap_params_gpu = {\n",
    "        'n_neighbors' : config_dr.n_neighbors,\n",
    "        'min_dist' : config_dr.min_dist,\n",
    "        'random_state': np.uint64(1234), \n",
    "        'metric': config_dr.metric,\n",
    "        'a': 1.5769434601962196,\n",
    "        'b': 0.8950608779914887,\n",
    "        'target_metric': 'euclidean',\n",
    "        'target_n_neighbors': config_dr.n_neighbors,\n",
    "        'verbose': 4, #6, #CUML_LEVEL_TRACE\n",
    "        'n_epochs': 200*3*2,\n",
    "        'init': 'random',\n",
    "        'hash_input': True\n",
    "    }\n",
    "    if config.cpu_flag: \n",
    "        umap_params = umap_params_cpu\n",
    "    else:\n",
    "        umap_params = umap_params_gpu\n",
    "    return umap_params"
   ]
  },
  {
   "cell_type": "code",
   "execution_count": 5,
   "id": "62f8a608-a10a-4d8d-a7b7-08b801951970",
   "metadata": {},
   "outputs": [],
   "source": [
    "#| export\n",
    "def get_prjs(embs_no_nan, config_dr, config, print_flag = False):\n",
    "    umap_params = umap_parameters(config_dr, config)\n",
    "    prjs_pca = get_PCA_prjs(\n",
    "        X    = embs_no_nan, \n",
    "        cpu  = False,  \n",
    "        print_flag = print_flag, \n",
    "        **umap_params\n",
    "    )\n",
    "    if print_flag: \n",
    "        print(prjs_pca.shape)\n",
    "    prjs_umap = get_UMAP_prjs(\n",
    "        input_data = prjs_pca, \n",
    "        cpu =  config.cpu_flag, #config_dr.cpu, \n",
    "        print_flag = print_flag,         \n",
    "        **umap_params\n",
    "    )\n",
    "    if print_flag: prjs_umap.shape\n",
    "    return prjs_umap"
   ]
  },
  {
   "cell_type": "markdown",
   "id": "c43c7102-e419-4e27-9187-29e82c9fbd1b",
   "metadata": {},
   "source": [
    "TODO: Pensar en que esto esté en encoder.ipynn.."
   ]
  },
  {
   "cell_type": "code",
   "execution_count": 6,
   "id": "37d69374-bcdb-45e8-a13d-e11698f7f642",
   "metadata": {},
   "outputs": [],
   "source": [
    "#| export\n",
    "def plot_projections(prjs, umap_params, fig_size = (25,25)):\n",
    "    \"Plot 2D projections thorugh a connected scatter plot\"\n",
    "    df_prjs = pd.DataFrame(prjs, columns = ['x1', 'x2'])\n",
    "    fig = plt.figure(figsize=(fig_size[0],fig_size[1]))\n",
    "    ax = fig.add_subplot(111)\n",
    "    ax.scatter(df_prjs['x1'], df_prjs['x2'], marker='o', facecolors='none', edgecolors='b', alpha=0.1)\n",
    "    ax.plot(df_prjs['x1'], df_prjs['x2'], alpha=0.5, picker=1)\n",
    "    plt.title('DR params -  n_neighbors:{:d} min_dist:{:f}'.format(\n",
    "        umap_params['n_neighbors'],umap_params['min_dist']))\n",
    "    return ax"
   ]
  },
  {
   "cell_type": "code",
   "execution_count": 7,
   "id": "2c2b9d11-0904-44c6-8175-6690ab66f557",
   "metadata": {},
   "outputs": [],
   "source": [
    "#| export\n",
    "def plot_projections_clusters(prjs, clusters_labels, umap_params, fig_size = (25,25)):\n",
    "    \"Plot 2D projections thorugh a connected scatter plot\"\n",
    "    df_prjs = pd.DataFrame(prjs, columns = ['x1', 'x2'])\n",
    "    df_prjs['cluster'] = clusters_labels\n",
    "    \n",
    "    fig = plt.figure(figsize=(fig_size[0],fig_size[1]))\n",
    "    ax = fig.add_subplot(111)\n",
    "    \n",
    "    # Create a scatter plot for each cluster with different colors\n",
    "    unique_labels = df_prjs['cluster'].unique()\n",
    "    print(unique_labels)\n",
    "    for label in unique_labels:\n",
    "        cluster_data = df_prjs[df_prjs['cluster'] == label]\n",
    "        ax.scatter(cluster_data['x1'], cluster_data['x2'], label=f'Cluster {label}')\n",
    "        #ax.scatter(df_prjs['x1'], df_prjs['x2'], marker='o', facecolors='none', edgecolors='b', alpha=0.1)\n",
    "    \n",
    "    #ax.plot(df_prjs['x1'], df_prjs['x2'], alpha=0.5, picker=1)\n",
    "    plt.title('DR params -  n_neighbors:{:d} min_dist:{:f}'.format(\n",
    "        umap_params['n_neighbors'],umap_params['min_dist']))\n",
    "    return ax"
   ]
  },
  {
   "cell_type": "code",
   "execution_count": 8,
   "id": "339bfca3-d399-42fa-8e2d-bd118085eb41",
   "metadata": {},
   "outputs": [],
   "source": [
    "#| export\n",
    "def calculate_cluster_stats(data, labels):\n",
    "    \"\"\"Computes the media and the standard deviation for every cluster.\"\"\"\n",
    "    cluster_stats = {}\n",
    "    for label in np.unique(labels):\n",
    "        #members = data[labels == label]\n",
    "        members = data\n",
    "        mean = np.mean(members, axis = 0)\n",
    "        std = np.std(members, axis = 0)\n",
    "        cluster_stats[label] = (mean, std)\n",
    "    return cluster_stats"
   ]
  },
  {
   "cell_type": "code",
   "execution_count": 9,
   "id": "c0b0d95e-bed9-4124-8bfe-c346ebb3e166",
   "metadata": {},
   "outputs": [],
   "source": [
    "#| export\n",
    "def anomaly_score(point, cluster_stats, label):\n",
    "    \"\"\"Computes an anomaly score for each point.\"\"\"\n",
    "    mean, std = cluster_stats[label]\n",
    "    return np.linalg.norm((point - mean) / std)"
   ]
  },
  {
   "cell_type": "code",
   "execution_count": 10,
   "id": "56b67d87-5c82-4a35-9b32-1d5d31074cfc",
   "metadata": {},
   "outputs": [],
   "source": [
    "#| export\n",
    "def detector(data, labels):\n",
    "    \"\"\"Anomaly detection function.\"\"\"\n",
    "    cluster_stats = calculate_cluster_stats(data, labels)\n",
    "    scores = []\n",
    "    for point, label in zip(data, labels):\n",
    "        score = anomaly_score(point, cluster_stats, label)\n",
    "        scores.append(score)\n",
    "    return np.array(scores)"
   ]
  },
  {
   "cell_type": "code",
   "execution_count": 15,
   "id": "caf119be-a8f3-4568-9e75-d26300f8fe43",
   "metadata": {},
   "outputs": [],
   "source": [
    "#run_dr.log({\"img\": [wandb.Image(prjs_plt.get_figure(), caption=\"dr_projections_plot\")]})\n"
   ]
  },
  {
   "cell_type": "code",
   "execution_count": 12,
   "id": "e4967972-4240-458e-9993-c574cecd9a26",
   "metadata": {},
   "outputs": [],
   "source": [
    "#| export\n",
    "def plot_anomaly_scores_distribution(anomaly_scores):\n",
    "    \"Plot the distribution of anomaly scores to check for normality\"\n",
    "    plt.figure(figsize=(10, 6))\n",
    "    sns.histplot(anomaly_scores, kde=True, bins=30)\n",
    "    plt.title(\"Distribución de Anomaly Scores\")\n",
    "    plt.xlabel(\"Anomaly Score\")\n",
    "    plt.ylabel(\"Frecuencia\")\n",
    "    plt.show()"
   ]
  },
  {
   "cell_type": "code",
   "execution_count": 13,
   "id": "f73b2f16-59dc-4861-922c-f692891d8c9d",
   "metadata": {},
   "outputs": [],
   "source": [
    "#| export\n",
    "def plot_clusters_with_anomalies(prjs, clusters_labels, anomaly_scores, threshold, fig_size=(25, 25)):\n",
    "    \"Plot 2D projections of clusters and superimpose anomalies\"\n",
    "    df_prjs = pd.DataFrame(prjs, columns=['x1', 'x2'])\n",
    "    df_prjs['cluster'] = clusters_labels\n",
    "    df_prjs['anomaly'] = anomaly_scores > threshold\n",
    "\n",
    "    fig = plt.figure(figsize=(fig_size[0], fig_size[1]))\n",
    "    ax = fig.add_subplot(111)\n",
    "\n",
    "    # Plot each cluster with different colors\n",
    "    unique_labels = df_prjs['cluster'].unique()\n",
    "    for label in unique_labels:\n",
    "        cluster_data = df_prjs[df_prjs['cluster'] == label]\n",
    "        ax.scatter(cluster_data['x1'], cluster_data['x2'], label=f'Cluster {label}', alpha=0.7)\n",
    "\n",
    "    # Superimpose anomalies\n",
    "    anomalies = df_prjs[df_prjs['anomaly']]\n",
    "    ax.scatter(anomalies['x1'], anomalies['x2'], color='red', label='Anomalies', edgecolor='k', s=50)\n",
    "\n",
    "    plt.title('Clusters and anomalies')\n",
    "    plt.legend()\n",
    "    plt.show()\n",
    "\n",
    "def update_plot(threshold, prjs_umap, clusters_labels, anomaly_scores, fig_size):\n",
    "    plot_clusters_with_anomalies(prjs_umap, clusters_labels, anomaly_scores, threshold, fig_size)\n",
    "\n",
    "def plot_clusters_with_anomalies_interactive_plot(threshold, prjs_umap, clusters_labels, anomaly_scores, fig_size):\n",
    "    threshold_slider = widgets.FloatSlider(value=threshold, min=0.001, max=3, step=0.001, description='Threshold')\n",
    "    interactive_plot =  widgets.interactive(update_plot, threshold = threshold_slider, \n",
    "                              prjs_umap = widgets.fixed(prjs_umap), \n",
    "                              clusters_labels = widgets.fixed(clusters_labels),\n",
    "                              anomaly_scores = widgets.fixed(anomaly_scores),\n",
    "                              fig_size = widgets.fixed((25,25)))\n",
    "    display(interactive_plot)\n",
    "    "
   ]
  },
  {
   "cell_type": "markdown",
   "id": "bfe7f767-b7ee-4937-b987-b917fac93106",
   "metadata": {},
   "source": [
    "## Interactive plots"
   ]
  },
  {
   "cell_type": "code",
   "execution_count": 101,
   "id": "82e91ffc-c504-4ca8-9623-a10e9de9efdd",
   "metadata": {},
   "outputs": [],
   "source": [
    "#| export\n",
    "\n",
    "import plotly.express as px"
   ]
  },
  {
   "cell_type": "code",
   "execution_count": 100,
   "id": "61aa9788-7998-43ff-a314-dae70f7c45a9",
   "metadata": {},
   "outputs": [],
   "source": [
    "#| export\n",
    "\n",
    "def plot_save(fig, w):\n",
    "    image_bytes = pio.to_image(fig, format='png')\n",
    "    with open(f\"../imgs/w={w}.png\", 'wb') as f:\n",
    "        f.write(image_bytes)\n",
    "    "
   ]
  },
  {
   "cell_type": "code",
   "execution_count": 102,
   "id": "ee7c08e3-0cf8-4521-8fba-6961d2be31fa",
   "metadata": {},
   "outputs": [],
   "source": [
    "#| export\n",
    "\n",
    "def get_anomalies(df, threshold, flag):\n",
    "    df['anomaly'] = [ (score > threshold) and flag for score in df['anomaly_score']]\n",
    "    \n",
    "def get_anomaly_styles(df, threshold, anomaly_scores, flag = False, print_flag = False):\n",
    "        if print_flag: print(\"Threshold: \", threshold)\n",
    "        if print_flag: print(\"Flag\", flag)\n",
    "        if print_flag: print(\"df ~\", df.shape)\n",
    "        df['anomaly'] = [ (score > threshold) and flag for score in df['anomaly_score'] ]\n",
    "        print(df)\n",
    "        get_anomalies(df, threshold, flag)\n",
    "        anomalies = df[df['anomaly']]\n",
    "        if flag:\n",
    "            df['anomaly'] = [ \n",
    "                (score > threshold) and flag \n",
    "                for score in anomaly_scores \n",
    "            ]\n",
    "            symbols = [\n",
    "                'x' if is_anomaly else 'circle' \n",
    "                for is_anomaly in df['anomaly']\n",
    "            ]\n",
    "            line_colors = [\n",
    "                'black'\n",
    "                if (is_anomaly and flag) else 'rgba(0,0,0,0)'\n",
    "                for is_anomaly in df['anomaly']\n",
    "            ]\n",
    "        else:\n",
    "            symbols = ['circle' for _ in df['x1']]\n",
    "            line_colors = ['rgba(0,0,0,0)' for _ in df['x1']]\n",
    "        if print_flag: print(anomalies)\n",
    "        return symbols, line_colors\n",
    "### Example of use\n",
    "#prjs_df = pd.DataFrame(prjs_umap, columns = ['x1', 'x2'])\n",
    "#prjs_df['anomaly_score'] = anomaly_scores\n",
    "#s, l = get_anomaly_styles(prjs_df, 1, True)"
   ]
  },
  {
   "cell_type": "code",
   "execution_count": 103,
   "id": "22854096-753f-42ce-aa5a-1a031c9d5747",
   "metadata": {},
   "outputs": [],
   "source": [
    "#| export\n",
    "\n",
    "def plot_initial_config(prjs, cluster_labels, anomaly_scores):\n",
    "    prjs_df = pd.DataFrame(prjs, columns = ['x1', 'x2'])\n",
    "    prjs_df['cluster'] = cluster_labels\n",
    "    prjs_df['anomaly_score'] = anomaly_scores\n",
    "    \n",
    "    cluster_colors_df = pd.DataFrame({'cluster': cluster_labels}).drop_duplicates()\n",
    "    cluster_colors_df['color'] = px.colors.qualitative.Set1[:len(cluster_colors_df)]\n",
    "    cluster_colors = dict(zip(cluster_colors_df['cluster'], cluster_colors_df['color']))\n",
    "    return prjs_df, cluster_colors"
   ]
  },
  {
   "cell_type": "code",
   "execution_count": 104,
   "id": "83ba806f-362b-49b3-bff5-f7360c43be0b",
   "metadata": {},
   "outputs": [],
   "source": []
  },
  {
   "cell_type": "code",
   "execution_count": null,
   "id": "4091c690-e0f8-4942-9bd8-1c269ac6f551",
   "metadata": {},
   "outputs": [],
   "source": []
  }
 ],
 "metadata": {
  "kernelspec": {
   "display_name": "Python 3 (ipykernel)",
   "language": "python",
   "name": "python3"
  },
  "language_info": {
   "codemirror_mode": {
    "name": "ipython",
    "version": 3
   },
   "file_extension": ".py",
   "mimetype": "text/x-python",
   "name": "python",
   "nbconvert_exporter": "python",
   "pygments_lexer": "ipython3",
   "version": "3.10.13"
  }
 },
 "nbformat": 4,
 "nbformat_minor": 5
}

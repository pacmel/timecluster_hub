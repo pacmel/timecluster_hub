{
 "cells": [
  {
   "cell_type": "code",
   "execution_count": null,
   "metadata": {},
   "outputs": [],
   "source": [
    "#| default_exp utils"
   ]
  },
  {
   "cell_type": "code",
   "execution_count": null,
   "metadata": {},
   "outputs": [],
   "source": [
    "#| hide\n",
    "%load_ext autoreload\n",
    "%autoreload 2"
   ]
  },
  {
   "cell_type": "markdown",
   "metadata": {},
   "source": [
    "# Utils\n",
    "\n",
    "> Utilities used in the rest of the notebooks"
   ]
  },
  {
   "cell_type": "code",
   "execution_count": null,
   "metadata": {},
   "outputs": [],
   "source": [
    "#| export\n",
    "from dvats.imports import *\n",
    "from fastcore.all import *\n",
    "import wandb\n",
    "import pickle\n",
    "import pandas as pd\n",
    "import numpy as np\n",
    "#import tensorflow as tf\n",
    "import torch.nn as nn\n",
    "from fastai.basics import *"
   ]
  },
  {
   "cell_type": "markdown",
   "metadata": {},
   "source": [
    "### Generate random time series dataframe"
   ]
  },
  {
   "cell_type": "code",
   "execution_count": null,
   "metadata": {},
   "outputs": [],
   "source": [
    "#| export\n",
    "def generate_TS_df(rows, cols):\n",
    "    \"Generates a dataframe containing a multivariate time series, where each column \\\n",
    "    represents a variable and each row a time point (sample). The timestamp is in the \\\n",
    "    index of the dataframe, and it is created with a even space of 1 second between samples\"\n",
    "    index = np.arange(pd.Timestamp.now(),\n",
    "                      pd.Timestamp.now() + pd.Timedelta(rows-1, 'seconds'),\n",
    "                      pd.Timedelta(1, 'seconds'))\n",
    "    data = np.random.randn(len(index), cols)\n",
    "    return pd.DataFrame(data, index=index)"
   ]
  },
  {
   "cell_type": "code",
   "execution_count": null,
   "metadata": {},
   "outputs": [],
   "source": [
    "#| hide\n",
    "df = generate_TS_df(3, 5)"
   ]
  },
  {
   "cell_type": "code",
   "execution_count": null,
   "metadata": {},
   "outputs": [],
   "source": [
    "#| hide\n",
    "test_eq(df.shape, (3, 5))"
   ]
  },
  {
   "cell_type": "markdown",
   "metadata": {},
   "source": [
    "##  pandas Dataframe utilities"
   ]
  },
  {
   "cell_type": "markdown",
   "metadata": {},
   "source": [
    "### Normalize columns"
   ]
  },
  {
   "cell_type": "code",
   "execution_count": null,
   "metadata": {},
   "outputs": [],
   "source": [
    "#| export\n",
    "def normalize_columns(df:pd.DataFrame):\n",
    "    \"Normalize columns from `df` to have 0 mean and 1 standard deviation\"\n",
    "    mean = df.mean()\n",
    "    std = df.std() + 1e-7\n",
    "    return (df-mean)/std"
   ]
  },
  {
   "cell_type": "code",
   "execution_count": null,
   "metadata": {},
   "outputs": [
    {
     "data": {
      "text/html": [
       "<div>\n",
       "<style scoped>\n",
       "    .dataframe tbody tr th:only-of-type {\n",
       "        vertical-align: middle;\n",
       "    }\n",
       "\n",
       "    .dataframe tbody tr th {\n",
       "        vertical-align: top;\n",
       "    }\n",
       "\n",
       "    .dataframe thead th {\n",
       "        text-align: right;\n",
       "    }\n",
       "</style>\n",
       "<table border=\"1\" class=\"dataframe\">\n",
       "  <thead>\n",
       "    <tr style=\"text-align: right;\">\n",
       "      <th></th>\n",
       "      <th>0</th>\n",
       "      <th>1</th>\n",
       "      <th>2</th>\n",
       "    </tr>\n",
       "  </thead>\n",
       "  <tbody>\n",
       "    <tr>\n",
       "      <th>count</th>\n",
       "      <td>3.000000</td>\n",
       "      <td>3.000000</td>\n",
       "      <td>3.000000</td>\n",
       "    </tr>\n",
       "    <tr>\n",
       "      <th>mean</th>\n",
       "      <td>0.815116</td>\n",
       "      <td>-0.509695</td>\n",
       "      <td>0.080586</td>\n",
       "    </tr>\n",
       "    <tr>\n",
       "      <th>std</th>\n",
       "      <td>0.267142</td>\n",
       "      <td>0.326170</td>\n",
       "      <td>1.210821</td>\n",
       "    </tr>\n",
       "    <tr>\n",
       "      <th>min</th>\n",
       "      <td>0.562261</td>\n",
       "      <td>-0.779326</td>\n",
       "      <td>-1.045160</td>\n",
       "    </tr>\n",
       "    <tr>\n",
       "      <th>25%</th>\n",
       "      <td>0.675396</td>\n",
       "      <td>-0.690968</td>\n",
       "      <td>-0.559881</td>\n",
       "    </tr>\n",
       "    <tr>\n",
       "      <th>50%</th>\n",
       "      <td>0.788531</td>\n",
       "      <td>-0.602610</td>\n",
       "      <td>-0.074601</td>\n",
       "    </tr>\n",
       "    <tr>\n",
       "      <th>75%</th>\n",
       "      <td>0.941544</td>\n",
       "      <td>-0.374880</td>\n",
       "      <td>0.643458</td>\n",
       "    </tr>\n",
       "    <tr>\n",
       "      <th>max</th>\n",
       "      <td>1.094556</td>\n",
       "      <td>-0.147149</td>\n",
       "      <td>1.361518</td>\n",
       "    </tr>\n",
       "  </tbody>\n",
       "</table>\n",
       "</div>"
      ],
      "text/plain": [
       "              0         1         2\n",
       "count  3.000000  3.000000  3.000000\n",
       "mean   0.815116 -0.509695  0.080586\n",
       "std    0.267142  0.326170  1.210821\n",
       "min    0.562261 -0.779326 -1.045160\n",
       "25%    0.675396 -0.690968 -0.559881\n",
       "50%    0.788531 -0.602610 -0.074601\n",
       "75%    0.941544 -0.374880  0.643458\n",
       "max    1.094556 -0.147149  1.361518"
      ]
     },
     "execution_count": null,
     "metadata": {},
     "output_type": "execute_result"
    }
   ],
   "source": [
    "#| hide\n",
    "foo = generate_TS_df(3, 3)\n",
    "foo.describe()"
   ]
  },
  {
   "cell_type": "code",
   "execution_count": null,
   "metadata": {},
   "outputs": [
    {
     "data": {
      "text/html": [
       "<div>\n",
       "<style scoped>\n",
       "    .dataframe tbody tr th:only-of-type {\n",
       "        vertical-align: middle;\n",
       "    }\n",
       "\n",
       "    .dataframe tbody tr th {\n",
       "        vertical-align: top;\n",
       "    }\n",
       "\n",
       "    .dataframe thead th {\n",
       "        text-align: right;\n",
       "    }\n",
       "</style>\n",
       "<table border=\"1\" class=\"dataframe\">\n",
       "  <thead>\n",
       "    <tr style=\"text-align: right;\">\n",
       "      <th></th>\n",
       "      <th>0</th>\n",
       "      <th>1</th>\n",
       "      <th>2</th>\n",
       "    </tr>\n",
       "  </thead>\n",
       "  <tbody>\n",
       "    <tr>\n",
       "      <th>count</th>\n",
       "      <td>3.000000e+00</td>\n",
       "      <td>3.000000e+00</td>\n",
       "      <td>3.000000e+00</td>\n",
       "    </tr>\n",
       "    <tr>\n",
       "      <th>mean</th>\n",
       "      <td>-2.914335e-16</td>\n",
       "      <td>-1.295260e-16</td>\n",
       "      <td>3.700743e-17</td>\n",
       "    </tr>\n",
       "    <tr>\n",
       "      <th>std</th>\n",
       "      <td>9.999996e-01</td>\n",
       "      <td>9.999997e-01</td>\n",
       "      <td>9.999999e-01</td>\n",
       "    </tr>\n",
       "    <tr>\n",
       "      <th>min</th>\n",
       "      <td>-9.465212e-01</td>\n",
       "      <td>-8.266579e-01</td>\n",
       "      <td>-9.297374e-01</td>\n",
       "    </tr>\n",
       "    <tr>\n",
       "      <th>25%</th>\n",
       "      <td>-5.230184e-01</td>\n",
       "      <td>-5.557622e-01</td>\n",
       "      <td>-5.289521e-01</td>\n",
       "    </tr>\n",
       "    <tr>\n",
       "      <th>50%</th>\n",
       "      <td>-9.951559e-02</td>\n",
       "      <td>-2.848665e-01</td>\n",
       "      <td>-1.281669e-01</td>\n",
       "    </tr>\n",
       "    <tr>\n",
       "      <th>75%</th>\n",
       "      <td>4.732606e-01</td>\n",
       "      <td>4.133290e-01</td>\n",
       "      <td>4.648687e-01</td>\n",
       "    </tr>\n",
       "    <tr>\n",
       "      <th>max</th>\n",
       "      <td>1.046037e+00</td>\n",
       "      <td>1.111524e+00</td>\n",
       "      <td>1.057904e+00</td>\n",
       "    </tr>\n",
       "  </tbody>\n",
       "</table>\n",
       "</div>"
      ],
      "text/plain": [
       "                  0             1             2\n",
       "count  3.000000e+00  3.000000e+00  3.000000e+00\n",
       "mean  -2.914335e-16 -1.295260e-16  3.700743e-17\n",
       "std    9.999996e-01  9.999997e-01  9.999999e-01\n",
       "min   -9.465212e-01 -8.266579e-01 -9.297374e-01\n",
       "25%   -5.230184e-01 -5.557622e-01 -5.289521e-01\n",
       "50%   -9.951559e-02 -2.848665e-01 -1.281669e-01\n",
       "75%    4.732606e-01  4.133290e-01  4.648687e-01\n",
       "max    1.046037e+00  1.111524e+00  1.057904e+00"
      ]
     },
     "execution_count": null,
     "metadata": {},
     "output_type": "execute_result"
    }
   ],
   "source": [
    "#| hide\n",
    "bar = normalize_columns(foo)\n",
    "bar.describe()"
   ]
  },
  {
   "cell_type": "code",
   "execution_count": null,
   "metadata": {},
   "outputs": [],
   "source": [
    "#| hide\n",
    "test_close(bar.describe().loc['mean'].values, np.repeat(0.0, len(bar.columns)))"
   ]
  },
  {
   "cell_type": "code",
   "execution_count": null,
   "metadata": {},
   "outputs": [],
   "source": [
    "#| hide\n",
    "test_close(bar.describe().loc['std'].values, np.repeat(1.0, len(bar.columns)))"
   ]
  },
  {
   "cell_type": "markdown",
   "metadata": {},
   "source": [
    "### Remove constant columns"
   ]
  },
  {
   "cell_type": "code",
   "execution_count": null,
   "metadata": {},
   "outputs": [],
   "source": [
    "#| export\n",
    "def remove_constant_columns(df:pd.DataFrame):\n",
    "    return df.loc[:, (df != df.iloc[0]).any()]"
   ]
  },
  {
   "cell_type": "code",
   "execution_count": null,
   "metadata": {},
   "outputs": [
    {
     "data": {
      "text/html": [
       "<div>\n",
       "<style scoped>\n",
       "    .dataframe tbody tr th:only-of-type {\n",
       "        vertical-align: middle;\n",
       "    }\n",
       "\n",
       "    .dataframe tbody tr th {\n",
       "        vertical-align: top;\n",
       "    }\n",
       "\n",
       "    .dataframe thead th {\n",
       "        text-align: right;\n",
       "    }\n",
       "</style>\n",
       "<table border=\"1\" class=\"dataframe\">\n",
       "  <thead>\n",
       "    <tr style=\"text-align: right;\">\n",
       "      <th></th>\n",
       "      <th>0</th>\n",
       "      <th>1</th>\n",
       "      <th>2</th>\n",
       "      <th>constant</th>\n",
       "    </tr>\n",
       "  </thead>\n",
       "  <tbody>\n",
       "    <tr>\n",
       "      <th>2024-04-03 09:17:26.823260</th>\n",
       "      <td>1.007134</td>\n",
       "      <td>0.195662</td>\n",
       "      <td>0.347108</td>\n",
       "      <td>0.0</td>\n",
       "    </tr>\n",
       "    <tr>\n",
       "      <th>2024-04-03 09:17:27.823260</th>\n",
       "      <td>0.190472</td>\n",
       "      <td>-0.721032</td>\n",
       "      <td>-1.919413</td>\n",
       "      <td>0.0</td>\n",
       "    </tr>\n",
       "    <tr>\n",
       "      <th>2024-04-03 09:17:28.823260</th>\n",
       "      <td>0.667243</td>\n",
       "      <td>0.308052</td>\n",
       "      <td>0.645084</td>\n",
       "      <td>0.0</td>\n",
       "    </tr>\n",
       "  </tbody>\n",
       "</table>\n",
       "</div>"
      ],
      "text/plain": [
       "                                   0         1         2  constant\n",
       "2024-04-03 09:17:26.823260  1.007134  0.195662  0.347108       0.0\n",
       "2024-04-03 09:17:27.823260  0.190472 -0.721032 -1.919413       0.0\n",
       "2024-04-03 09:17:28.823260  0.667243  0.308052  0.645084       0.0"
      ]
     },
     "execution_count": null,
     "metadata": {},
     "output_type": "execute_result"
    }
   ],
   "source": [
    "#| hide\n",
    "foo = generate_TS_df(3, 3)\n",
    "foo['constant'] = [0.0]*len(foo)\n",
    "foo"
   ]
  },
  {
   "cell_type": "code",
   "execution_count": null,
   "metadata": {},
   "outputs": [
    {
     "data": {
      "text/html": [
       "<div>\n",
       "<style scoped>\n",
       "    .dataframe tbody tr th:only-of-type {\n",
       "        vertical-align: middle;\n",
       "    }\n",
       "\n",
       "    .dataframe tbody tr th {\n",
       "        vertical-align: top;\n",
       "    }\n",
       "\n",
       "    .dataframe thead th {\n",
       "        text-align: right;\n",
       "    }\n",
       "</style>\n",
       "<table border=\"1\" class=\"dataframe\">\n",
       "  <thead>\n",
       "    <tr style=\"text-align: right;\">\n",
       "      <th></th>\n",
       "      <th>0</th>\n",
       "      <th>1</th>\n",
       "      <th>2</th>\n",
       "    </tr>\n",
       "  </thead>\n",
       "  <tbody>\n",
       "    <tr>\n",
       "      <th>2024-04-03 09:17:26.823260</th>\n",
       "      <td>1.007134</td>\n",
       "      <td>0.195662</td>\n",
       "      <td>0.347108</td>\n",
       "    </tr>\n",
       "    <tr>\n",
       "      <th>2024-04-03 09:17:27.823260</th>\n",
       "      <td>0.190472</td>\n",
       "      <td>-0.721032</td>\n",
       "      <td>-1.919413</td>\n",
       "    </tr>\n",
       "    <tr>\n",
       "      <th>2024-04-03 09:17:28.823260</th>\n",
       "      <td>0.667243</td>\n",
       "      <td>0.308052</td>\n",
       "      <td>0.645084</td>\n",
       "    </tr>\n",
       "  </tbody>\n",
       "</table>\n",
       "</div>"
      ],
      "text/plain": [
       "                                   0         1         2\n",
       "2024-04-03 09:17:26.823260  1.007134  0.195662  0.347108\n",
       "2024-04-03 09:17:27.823260  0.190472 -0.721032 -1.919413\n",
       "2024-04-03 09:17:28.823260  0.667243  0.308052  0.645084"
      ]
     },
     "execution_count": null,
     "metadata": {},
     "output_type": "execute_result"
    }
   ],
   "source": [
    "#| hide\n",
    "bar = remove_constant_columns(foo)\n",
    "bar"
   ]
  },
  {
   "cell_type": "code",
   "execution_count": null,
   "metadata": {},
   "outputs": [],
   "source": [
    "#| hide\n",
    "column_diff = set(foo.columns) - set(bar.columns)\n",
    "test_eq_type(column_diff, set(['constant']))"
   ]
  },
  {
   "cell_type": "markdown",
   "metadata": {},
   "source": [
    "## Create wandb artifact containing just the reference to an object pass as argument"
   ]
  },
  {
   "cell_type": "code",
   "execution_count": null,
   "metadata": {},
   "outputs": [],
   "source": [
    "#| export\n",
    "class ReferenceArtifact(wandb.Artifact):\n",
    "    default_storage_path = Path('data/wandb_artifacts/') # * this path is relative to Path.home()\n",
    "    \"This class is meant to create an artifact with a single reference to an object \\\n",
    "    passed as argument in the contructor. The object will be pickled, hashed and stored \\\n",
    "    in a specified folder.\"\n",
    "    @delegates(wandb.Artifact.__init__)\n",
    "    def __init__(self, obj, name, type='object', folder=None, **kwargs):\n",
    "        super().__init__(type=type, name=name, **kwargs)\n",
    "        # pickle dumps the object and then hash it\n",
    "        hash_code = str(hash(pickle.dumps(obj)))\n",
    "        folder = Path(ifnone(folder, Path.home()/self.default_storage_path))\n",
    "        with open(f'{folder}/{hash_code}', 'wb') as f:\n",
    "            pickle.dump(obj, f)\n",
    "        self.add_reference(f'file://{folder}/{hash_code}')\n",
    "        if self.metadata is None:\n",
    "            self.metadata = dict()\n",
    "        self.metadata['ref'] = dict()\n",
    "        self.metadata['ref']['hash'] = hash_code\n",
    "        self.metadata['ref']['type'] = str(obj.__class__)"
   ]
  },
  {
   "cell_type": "code",
   "execution_count": null,
   "metadata": {},
   "outputs": [
    {
     "ename": "ValueError",
     "evalue": "Path \"file://./-1885988180256686673\" must be a valid file or directory path",
     "output_type": "error",
     "traceback": [
      "\u001b[0;31m---------------------------------------------------------------------------\u001b[0m",
      "\u001b[0;31mValueError\u001b[0m                                Traceback (most recent call last)",
      "Cell \u001b[0;32mIn[17], line 3\u001b[0m\n\u001b[1;32m      1\u001b[0m \u001b[38;5;66;03m#| hide\u001b[39;00m\n\u001b[1;32m      2\u001b[0m foo \u001b[38;5;241m=\u001b[39m np\u001b[38;5;241m.\u001b[39marange(\u001b[38;5;241m10\u001b[39m)\n\u001b[0;32m----> 3\u001b[0m bar \u001b[38;5;241m=\u001b[39m \u001b[43mReferenceArtifact\u001b[49m\u001b[43m(\u001b[49m\u001b[43mobj\u001b[49m\u001b[38;5;241;43m=\u001b[39;49m\u001b[43mfoo\u001b[49m\u001b[43m,\u001b[49m\u001b[43m \u001b[49m\u001b[43mname\u001b[49m\u001b[38;5;241;43m=\u001b[39;49m\u001b[38;5;124;43m'\u001b[39;49m\u001b[38;5;124;43mfoo\u001b[39;49m\u001b[38;5;124;43m'\u001b[39;49m\u001b[43m,\u001b[49m\u001b[43m \u001b[49m\u001b[43mfolder\u001b[49m\u001b[38;5;241;43m=\u001b[39;49m\u001b[38;5;124;43m'\u001b[39;49m\u001b[38;5;124;43m.\u001b[39;49m\u001b[38;5;124;43m'\u001b[39;49m\u001b[43m)\u001b[49m\n\u001b[1;32m      4\u001b[0m bar_path \u001b[38;5;241m=\u001b[39m Path(\u001b[38;5;124mf\u001b[39m\u001b[38;5;124m'\u001b[39m\u001b[38;5;124m./\u001b[39m\u001b[38;5;132;01m{\u001b[39;00mbar\u001b[38;5;241m.\u001b[39mmetadata[\u001b[38;5;124m\"\u001b[39m\u001b[38;5;124mref\u001b[39m\u001b[38;5;124m\"\u001b[39m][\u001b[38;5;124m\"\u001b[39m\u001b[38;5;124mhash\u001b[39m\u001b[38;5;124m\"\u001b[39m]\u001b[38;5;132;01m}\u001b[39;00m\u001b[38;5;124m'\u001b[39m)\n\u001b[1;32m      5\u001b[0m test_eq(bar_path\u001b[38;5;241m.\u001b[39mexists(), \u001b[38;5;28;01mTrue\u001b[39;00m)\n",
      "Cell \u001b[0;32mIn[16], line 15\u001b[0m, in \u001b[0;36mReferenceArtifact.__init__\u001b[0;34m(self, obj, name, type, folder, **kwargs)\u001b[0m\n\u001b[1;32m     13\u001b[0m \u001b[38;5;28;01mwith\u001b[39;00m \u001b[38;5;28mopen\u001b[39m(\u001b[38;5;124mf\u001b[39m\u001b[38;5;124m'\u001b[39m\u001b[38;5;132;01m{\u001b[39;00mfolder\u001b[38;5;132;01m}\u001b[39;00m\u001b[38;5;124m/\u001b[39m\u001b[38;5;132;01m{\u001b[39;00mhash_code\u001b[38;5;132;01m}\u001b[39;00m\u001b[38;5;124m'\u001b[39m, \u001b[38;5;124m'\u001b[39m\u001b[38;5;124mwb\u001b[39m\u001b[38;5;124m'\u001b[39m) \u001b[38;5;28;01mas\u001b[39;00m f:\n\u001b[1;32m     14\u001b[0m     pickle\u001b[38;5;241m.\u001b[39mdump(obj, f)\n\u001b[0;32m---> 15\u001b[0m \u001b[38;5;28;43mself\u001b[39;49m\u001b[38;5;241;43m.\u001b[39;49m\u001b[43madd_reference\u001b[49m\u001b[43m(\u001b[49m\u001b[38;5;124;43mf\u001b[39;49m\u001b[38;5;124;43m'\u001b[39;49m\u001b[38;5;124;43mfile://\u001b[39;49m\u001b[38;5;132;43;01m{\u001b[39;49;00m\u001b[43mfolder\u001b[49m\u001b[38;5;132;43;01m}\u001b[39;49;00m\u001b[38;5;124;43m/\u001b[39;49m\u001b[38;5;132;43;01m{\u001b[39;49;00m\u001b[43mhash_code\u001b[49m\u001b[38;5;132;43;01m}\u001b[39;49;00m\u001b[38;5;124;43m'\u001b[39;49m\u001b[43m)\u001b[49m\n\u001b[1;32m     16\u001b[0m \u001b[38;5;28;01mif\u001b[39;00m \u001b[38;5;28mself\u001b[39m\u001b[38;5;241m.\u001b[39mmetadata \u001b[38;5;129;01mis\u001b[39;00m \u001b[38;5;28;01mNone\u001b[39;00m:\n\u001b[1;32m     17\u001b[0m     \u001b[38;5;28mself\u001b[39m\u001b[38;5;241m.\u001b[39mmetadata \u001b[38;5;241m=\u001b[39m \u001b[38;5;28mdict\u001b[39m()\n",
      "File \u001b[0;32m/usr/local/share/miniconda3/envs/env/lib/python3.10/site-packages/wandb/sdk/wandb_artifacts.py:479\u001b[0m, in \u001b[0;36mArtifact.add_reference\u001b[0;34m(self, uri, name, checksum, max_objects)\u001b[0m\n\u001b[1;32m    474\u001b[0m \u001b[38;5;28;01mif\u001b[39;00m \u001b[38;5;129;01mnot\u001b[39;00m url\u001b[38;5;241m.\u001b[39mscheme:\n\u001b[1;32m    475\u001b[0m     \u001b[38;5;28;01mraise\u001b[39;00m \u001b[38;5;167;01mValueError\u001b[39;00m(\n\u001b[1;32m    476\u001b[0m         \u001b[38;5;124m\"\u001b[39m\u001b[38;5;124mReferences must be URIs. To reference a local file, use file://\u001b[39m\u001b[38;5;124m\"\u001b[39m\n\u001b[1;32m    477\u001b[0m     )\n\u001b[0;32m--> 479\u001b[0m manifest_entries \u001b[38;5;241m=\u001b[39m \u001b[38;5;28;43mself\u001b[39;49m\u001b[38;5;241;43m.\u001b[39;49m\u001b[43m_storage_policy\u001b[49m\u001b[38;5;241;43m.\u001b[39;49m\u001b[43mstore_reference\u001b[49m\u001b[43m(\u001b[49m\n\u001b[1;32m    480\u001b[0m \u001b[43m    \u001b[49m\u001b[38;5;28;43mself\u001b[39;49m\u001b[43m,\u001b[49m\n\u001b[1;32m    481\u001b[0m \u001b[43m    \u001b[49m\u001b[43mURIStr\u001b[49m\u001b[43m(\u001b[49m\u001b[43muri_str\u001b[49m\u001b[43m)\u001b[49m\u001b[43m,\u001b[49m\n\u001b[1;32m    482\u001b[0m \u001b[43m    \u001b[49m\u001b[43mname\u001b[49m\u001b[38;5;241;43m=\u001b[39;49m\u001b[43mname\u001b[49m\u001b[43m,\u001b[49m\n\u001b[1;32m    483\u001b[0m \u001b[43m    \u001b[49m\u001b[43mchecksum\u001b[49m\u001b[38;5;241;43m=\u001b[39;49m\u001b[43mchecksum\u001b[49m\u001b[43m,\u001b[49m\n\u001b[1;32m    484\u001b[0m \u001b[43m    \u001b[49m\u001b[43mmax_objects\u001b[49m\u001b[38;5;241;43m=\u001b[39;49m\u001b[43mmax_objects\u001b[49m\u001b[43m,\u001b[49m\n\u001b[1;32m    485\u001b[0m \u001b[43m\u001b[49m\u001b[43m)\u001b[49m\n\u001b[1;32m    486\u001b[0m \u001b[38;5;28;01mfor\u001b[39;00m entry \u001b[38;5;129;01min\u001b[39;00m manifest_entries:\n\u001b[1;32m    487\u001b[0m     \u001b[38;5;28mself\u001b[39m\u001b[38;5;241m.\u001b[39m_manifest\u001b[38;5;241m.\u001b[39madd_entry(entry)\n",
      "File \u001b[0;32m/usr/local/share/miniconda3/envs/env/lib/python3.10/site-packages/wandb/sdk/wandb_artifacts.py:901\u001b[0m, in \u001b[0;36mWandbStoragePolicy.store_reference\u001b[0;34m(self, artifact, path, name, checksum, max_objects)\u001b[0m\n\u001b[1;32m    893\u001b[0m \u001b[38;5;28;01mdef\u001b[39;00m \u001b[38;5;21mstore_reference\u001b[39m(\n\u001b[1;32m    894\u001b[0m     \u001b[38;5;28mself\u001b[39m,\n\u001b[1;32m    895\u001b[0m     artifact: ArtifactInterface,\n\u001b[0;32m   (...)\u001b[0m\n\u001b[1;32m    899\u001b[0m     max_objects: Optional[\u001b[38;5;28mint\u001b[39m] \u001b[38;5;241m=\u001b[39m \u001b[38;5;28;01mNone\u001b[39;00m,\n\u001b[1;32m    900\u001b[0m ) \u001b[38;5;241m-\u001b[39m\u001b[38;5;241m>\u001b[39m Sequence[ArtifactManifestEntry]:\n\u001b[0;32m--> 901\u001b[0m     \u001b[38;5;28;01mreturn\u001b[39;00m \u001b[38;5;28;43mself\u001b[39;49m\u001b[38;5;241;43m.\u001b[39;49m\u001b[43m_handler\u001b[49m\u001b[38;5;241;43m.\u001b[39;49m\u001b[43mstore_path\u001b[49m\u001b[43m(\u001b[49m\n\u001b[1;32m    902\u001b[0m \u001b[43m        \u001b[49m\u001b[43martifact\u001b[49m\u001b[43m,\u001b[49m\u001b[43m \u001b[49m\u001b[43mpath\u001b[49m\u001b[43m,\u001b[49m\u001b[43m \u001b[49m\u001b[43mname\u001b[49m\u001b[38;5;241;43m=\u001b[39;49m\u001b[43mname\u001b[49m\u001b[43m,\u001b[49m\u001b[43m \u001b[49m\u001b[43mchecksum\u001b[49m\u001b[38;5;241;43m=\u001b[39;49m\u001b[43mchecksum\u001b[49m\u001b[43m,\u001b[49m\u001b[43m \u001b[49m\u001b[43mmax_objects\u001b[49m\u001b[38;5;241;43m=\u001b[39;49m\u001b[43mmax_objects\u001b[49m\n\u001b[1;32m    903\u001b[0m \u001b[43m    \u001b[49m\u001b[43m)\u001b[49m\n",
      "File \u001b[0;32m/usr/local/share/miniconda3/envs/env/lib/python3.10/site-packages/wandb/sdk/wandb_artifacts.py:1140\u001b[0m, in \u001b[0;36mMultiHandler.store_path\u001b[0;34m(self, artifact, path, name, checksum, max_objects)\u001b[0m\n\u001b[1;32m   1138\u001b[0m handler: StorageHandler\n\u001b[1;32m   1139\u001b[0m handler \u001b[38;5;241m=\u001b[39m \u001b[38;5;28mself\u001b[39m\u001b[38;5;241m.\u001b[39m_handlers[url\u001b[38;5;241m.\u001b[39mscheme]\n\u001b[0;32m-> 1140\u001b[0m \u001b[38;5;28;01mreturn\u001b[39;00m \u001b[43mhandler\u001b[49m\u001b[38;5;241;43m.\u001b[39;49m\u001b[43mstore_path\u001b[49m\u001b[43m(\u001b[49m\n\u001b[1;32m   1141\u001b[0m \u001b[43m    \u001b[49m\u001b[43martifact\u001b[49m\u001b[43m,\u001b[49m\u001b[43m \u001b[49m\u001b[43mpath\u001b[49m\u001b[43m,\u001b[49m\u001b[43m \u001b[49m\u001b[43mname\u001b[49m\u001b[38;5;241;43m=\u001b[39;49m\u001b[43mname\u001b[49m\u001b[43m,\u001b[49m\u001b[43m \u001b[49m\u001b[43mchecksum\u001b[49m\u001b[38;5;241;43m=\u001b[39;49m\u001b[43mchecksum\u001b[49m\u001b[43m,\u001b[49m\u001b[43m \u001b[49m\u001b[43mmax_objects\u001b[49m\u001b[38;5;241;43m=\u001b[39;49m\u001b[43mmax_objects\u001b[49m\n\u001b[1;32m   1142\u001b[0m \u001b[43m\u001b[49m\u001b[43m)\u001b[49m\n",
      "File \u001b[0;32m/usr/local/share/miniconda3/envs/env/lib/python3.10/site-packages/wandb/sdk/wandb_artifacts.py:1318\u001b[0m, in \u001b[0;36mLocalFileHandler.store_path\u001b[0;34m(self, artifact, path, name, checksum, max_objects)\u001b[0m\n\u001b[1;32m   1315\u001b[0m     entries\u001b[38;5;241m.\u001b[39mappend(entry)\n\u001b[1;32m   1316\u001b[0m \u001b[38;5;28;01melse\u001b[39;00m:\n\u001b[1;32m   1317\u001b[0m     \u001b[38;5;66;03m# TODO: update error message if we don't allow directories.\u001b[39;00m\n\u001b[0;32m-> 1318\u001b[0m     \u001b[38;5;28;01mraise\u001b[39;00m \u001b[38;5;167;01mValueError\u001b[39;00m(\u001b[38;5;124m'\u001b[39m\u001b[38;5;124mPath \u001b[39m\u001b[38;5;124m\"\u001b[39m\u001b[38;5;132;01m%s\u001b[39;00m\u001b[38;5;124m\"\u001b[39m\u001b[38;5;124m must be a valid file or directory path\u001b[39m\u001b[38;5;124m'\u001b[39m \u001b[38;5;241m%\u001b[39m path)\n\u001b[1;32m   1319\u001b[0m \u001b[38;5;28;01mreturn\u001b[39;00m entries\n",
      "\u001b[0;31mValueError\u001b[0m: Path \"file://./-1885988180256686673\" must be a valid file or directory path"
     ]
    }
   ],
   "source": [
    "#| hide\n",
    "foo = np.arange(10)\n",
    "bar = ReferenceArtifact(obj=foo, name='foo', folder='.')\n",
    "bar_path = Path(f'./{bar.metadata[\"ref\"][\"hash\"]}')\n",
    "test_eq(bar_path.exists(), True)\n",
    "test_eq(bar.metadata['ref']['type'], \"<class 'numpy.ndarray'>\")"
   ]
  },
  {
   "cell_type": "markdown",
   "metadata": {},
   "source": [
    "When a reference artifact is used by one wandb run, we should have a method to get the original object from it"
   ]
  },
  {
   "cell_type": "code",
   "execution_count": null,
   "metadata": {},
   "outputs": [],
   "source": [
    "#| export\n",
    "@patch\n",
    "def to_obj(self:wandb.apis.public.Artifact):\n",
    "    \"\"\"Download the files of a saved ReferenceArtifact and get the referenced object. The artifact must \\\n",
    "    come from a call to `run.use_artifact` with a proper wandb run.\"\"\"\n",
    "    if self.metadata.get('ref') is None:\n",
    "        print(f'ERROR:{self} does not come from a saved ReferenceArtifact')\n",
    "        return None\n",
    "    original_path = ReferenceArtifact.default_storage_path/self.metadata['ref']['hash']\n",
    "    path = original_path if original_path.exists() else Path(self.download()).ls()[0]\n",
    "    with open(path, 'rb') as f:\n",
    "        obj = pickle.load(f)\n",
    "    return obj"
   ]
  },
  {
   "cell_type": "markdown",
   "metadata": {},
   "source": [
    "Test with Reference artifact from a df"
   ]
  },
  {
   "cell_type": "code",
   "execution_count": null,
   "metadata": {},
   "outputs": [
    {
     "data": {
      "text/plain": [
       "dict_values([ArtifactManifestEntry(path='-8871448523836712233', digest='mwF1UtZ6D7+U+iNMWFuf4A==', ref='file:///home/macu/data/wandb_artifacts/-8871448523836712233', birth_artifact_id=None, size=1005, extra={}, local_path=None)])"
      ]
     },
     "execution_count": null,
     "metadata": {},
     "output_type": "execute_result"
    }
   ],
   "source": [
    "#| hide\n",
    "foo = generate_TS_df(3, 3)\n",
    "bar = ReferenceArtifact(obj=foo, name='test_reference_artifact')\n",
    "bar.manifest.entries.values()"
   ]
  },
  {
   "cell_type": "code",
   "execution_count": null,
   "metadata": {},
   "outputs": [],
   "source": [
    "#| hide\n",
    "test_eq(bar.name, 'test_reference_artifact')"
   ]
  },
  {
   "cell_type": "code",
   "execution_count": null,
   "metadata": {},
   "outputs": [],
   "source": [
    "#| hide\n",
    "test_eq(bar.metadata['ref']['type'], str(type(foo)))"
   ]
  },
  {
   "cell_type": "markdown",
   "metadata": {},
   "source": [
    "TODO: Test method `to_obj`"
   ]
  },
  {
   "cell_type": "markdown",
   "metadata": {},
   "source": [
    "ReferenceArtifact with a numpy array"
   ]
  },
  {
   "cell_type": "code",
   "execution_count": null,
   "metadata": {},
   "outputs": [
    {
     "data": {
      "text/plain": [
       "dict_values([ArtifactManifestEntry(path='4465931929537276473', digest='Bi6mPdsaC/6HyHjPVmI7PQ==', ref='file:///home/macu/data/wandb_artifacts/4465931929537276473', birth_artifact_id=None, size=187, extra={}, local_path=None)])"
      ]
     },
     "execution_count": null,
     "metadata": {},
     "output_type": "execute_result"
    }
   ],
   "source": [
    "#| hide\n",
    "foo = np.random.randn(5)\n",
    "bar = ReferenceArtifact(obj=foo, name='test_reference_artifact')\n",
    "bar.manifest.entries.values()"
   ]
  },
  {
   "cell_type": "code",
   "execution_count": null,
   "metadata": {},
   "outputs": [],
   "source": [
    "#| hide\n",
    "test_eq(bar.metadata['ref']['type'], str(type(foo)))"
   ]
  },
  {
   "cell_type": "code",
   "execution_count": null,
   "metadata": {},
   "outputs": [],
   "source": [
    "#| export\n",
    "import torch.nn as nn\n",
    "class PrintLayer(nn.Module):\n",
    "    def __init__(self):\n",
    "        super(PrintLayer, self).__init__()\n",
    "\n",
    "    def forward(self, x):\n",
    "        # Do your print / debug stuff here\n",
    "        print(x.shape)\n",
    "        return x"
   ]
  },
  {
   "cell_type": "code",
   "execution_count": null,
   "metadata": {},
   "outputs": [],
   "source": [
    "#| export\n",
    "@patch\n",
    "def export_and_get(self:Learner, keep_exported_file=False):\n",
    "    \"\"\"\n",
    "        Export the learner into an auxiliary file, load it and return it back.\n",
    "    \"\"\"\n",
    "    aux_path = Path('aux.pkl')\n",
    "    self.export(fname='aux.pkl')\n",
    "    aux_learn = load_learner('aux.pkl')\n",
    "    if not keep_exported_file: aux_path.unlink()\n",
    "    return aux_learn"
   ]
  },
  {
   "cell_type": "markdown",
   "metadata": {},
   "source": [
    "### get_wandb_artifacts"
   ]
  },
  {
   "cell_type": "code",
   "execution_count": null,
   "metadata": {},
   "outputs": [],
   "source": [
    "#| export\n",
    "def get_wandb_artifacts(project_path, type=None, name=None, last_version=True):\n",
    "    \"\"\"\n",
    "        Get the artifacts logged in a wandb project.\n",
    "        Input:\n",
    "        - `project_path` (str): entity/project_name\n",
    "        - `type` (str): whether to return only one type of artifacts\n",
    "        - `name` (str): Leave none to have all artifact names\n",
    "        - `last_version`: whether to return only the last version of each artifact or not\n",
    "\n",
    "        Output: List of artifacts\n",
    "    \"\"\"\n",
    "    public_api = wandb.Api()\n",
    "    if type is not None:\n",
    "        types = [public_api.artifact_type(type, project_path)]\n",
    "    else:\n",
    "        types = public_api.artifact_types(project_path)\n",
    "\n",
    "    res = L()\n",
    "    for kind in types:\n",
    "        for collection in kind.collections():\n",
    "            if name is None or name == collection.name:\n",
    "                versions = public_api.artifact_versions(\n",
    "                    kind.type,\n",
    "                    \"/\".join([kind.entity, kind.project, collection.name]),\n",
    "                    per_page=1,\n",
    "                )\n",
    "                if last_version: res += next(versions)\n",
    "                else: res += L(versions)\n",
    "    return list(res)"
   ]
  },
  {
   "cell_type": "code",
   "execution_count": null,
   "metadata": {},
   "outputs": [
    {
     "ename": "AssertionError",
     "evalue": "==:\n3\n2",
     "output_type": "error",
     "traceback": [
      "\u001b[0;31m---------------------------------------------------------------------------\u001b[0m",
      "\u001b[0;31mAssertionError\u001b[0m                            Traceback (most recent call last)",
      "Cell \u001b[0;32mIn[27], line 7\u001b[0m\n\u001b[1;32m      5\u001b[0m test_eq(\u001b[38;5;28mlen\u001b[39m(foo), \u001b[38;5;241m1\u001b[39m)\n\u001b[1;32m      6\u001b[0m foo \u001b[38;5;241m=\u001b[39m get_wandb_artifacts(\u001b[38;5;124m'\u001b[39m\u001b[38;5;124mwandb/artifacts-example\u001b[39m\u001b[38;5;124m'\u001b[39m, \u001b[38;5;28mtype\u001b[39m\u001b[38;5;241m=\u001b[39m\u001b[38;5;124m'\u001b[39m\u001b[38;5;124mmodel\u001b[39m\u001b[38;5;124m'\u001b[39m, name\u001b[38;5;241m=\u001b[39m\u001b[38;5;124m'\u001b[39m\u001b[38;5;124mconvnet\u001b[39m\u001b[38;5;124m'\u001b[39m, last_version\u001b[38;5;241m=\u001b[39m\u001b[38;5;28;01mFalse\u001b[39;00m)\n\u001b[0;32m----> 7\u001b[0m \u001b[43mtest_eq\u001b[49m\u001b[43m(\u001b[49m\u001b[38;5;28;43mlen\u001b[39;49m\u001b[43m(\u001b[49m\u001b[43mfoo\u001b[49m\u001b[43m)\u001b[49m\u001b[43m,\u001b[49m\u001b[43m \u001b[49m\u001b[38;5;241;43m2\u001b[39;49m\u001b[43m)\u001b[49m\n",
      "File \u001b[0;32m/usr/local/share/miniconda3/envs/env/lib/python3.10/site-packages/fastcore/test.py:37\u001b[0m, in \u001b[0;36mtest_eq\u001b[0;34m(a, b)\u001b[0m\n\u001b[1;32m     35\u001b[0m \u001b[38;5;28;01mdef\u001b[39;00m \u001b[38;5;21mtest_eq\u001b[39m(a,b):\n\u001b[1;32m     36\u001b[0m     \u001b[38;5;124m\"\u001b[39m\u001b[38;5;124m`test` that `a==b`\u001b[39m\u001b[38;5;124m\"\u001b[39m\n\u001b[0;32m---> 37\u001b[0m     \u001b[43mtest\u001b[49m\u001b[43m(\u001b[49m\u001b[43ma\u001b[49m\u001b[43m,\u001b[49m\u001b[43mb\u001b[49m\u001b[43m,\u001b[49m\u001b[43mequals\u001b[49m\u001b[43m,\u001b[49m\u001b[43m \u001b[49m\u001b[43mcname\u001b[49m\u001b[38;5;241;43m=\u001b[39;49m\u001b[38;5;124;43m'\u001b[39;49m\u001b[38;5;124;43m==\u001b[39;49m\u001b[38;5;124;43m'\u001b[39;49m\u001b[43m)\u001b[49m\n",
      "File \u001b[0;32m/usr/local/share/miniconda3/envs/env/lib/python3.10/site-packages/fastcore/test.py:27\u001b[0m, in \u001b[0;36mtest\u001b[0;34m(a, b, cmp, cname)\u001b[0m\n\u001b[1;32m     25\u001b[0m \u001b[38;5;124m\"\u001b[39m\u001b[38;5;124m`assert` that `cmp(a,b)`; display inputs and `cname or cmp.__name__` if it fails\u001b[39m\u001b[38;5;124m\"\u001b[39m\n\u001b[1;32m     26\u001b[0m \u001b[38;5;28;01mif\u001b[39;00m cname \u001b[38;5;129;01mis\u001b[39;00m \u001b[38;5;28;01mNone\u001b[39;00m: cname\u001b[38;5;241m=\u001b[39mcmp\u001b[38;5;241m.\u001b[39m\u001b[38;5;18m__name__\u001b[39m\n\u001b[0;32m---> 27\u001b[0m \u001b[38;5;28;01massert\u001b[39;00m cmp(a,b),\u001b[38;5;124mf\u001b[39m\u001b[38;5;124m\"\u001b[39m\u001b[38;5;132;01m{\u001b[39;00mcname\u001b[38;5;132;01m}\u001b[39;00m\u001b[38;5;124m:\u001b[39m\u001b[38;5;130;01m\\n\u001b[39;00m\u001b[38;5;132;01m{\u001b[39;00ma\u001b[38;5;132;01m}\u001b[39;00m\u001b[38;5;130;01m\\n\u001b[39;00m\u001b[38;5;132;01m{\u001b[39;00mb\u001b[38;5;132;01m}\u001b[39;00m\u001b[38;5;124m\"\u001b[39m\n",
      "\u001b[0;31mAssertionError\u001b[0m: ==:\n3\n2"
     ]
    }
   ],
   "source": [
    "#| hide\n",
    "foo = get_wandb_artifacts('wandb/artifacts-example', type='model')\n",
    "test_eq(len(foo), 2)\n",
    "foo = get_wandb_artifacts('wandb/artifacts-example', type='model', name='convnet')\n",
    "test_eq(len(foo), 1)\n",
    "foo = get_wandb_artifacts('wandb/artifacts-example', type='model', name='convnet', last_version=False)\n",
    "test_eq(len(foo), 2)"
   ]
  },
  {
   "cell_type": "markdown",
   "metadata": {},
   "source": [
    "### get_pickle_artifact"
   ]
  },
  {
   "cell_type": "code",
   "execution_count": null,
   "metadata": {},
   "outputs": [],
   "source": [
    "#| export\n",
    "def get_pickle_artifact(filename):\n",
    "\n",
    "    with open(filename, \"rb\") as f:\n",
    "        df = pickle.load(f)\n",
    "    \n",
    "    return df"
   ]
  },
  {
   "cell_type": "markdown",
   "metadata": {},
   "source": [
    "## Exec from feather"
   ]
  },
  {
   "cell_type": "code",
   "execution_count": null,
   "metadata": {},
   "outputs": [],
   "source": [
    "#| export\n",
    "import pyarrow.feather as ft\n",
    "import pickle"
   ]
  },
  {
   "cell_type": "code",
   "execution_count": null,
   "metadata": {},
   "outputs": [],
   "source": [
    "#| export\n",
    "def exec_with_feather(function, path = None, print_flag = False, *args, **kwargs):\n",
    "    result = None\n",
    "    if not (path is none):\n",
    "        if print_flag: print(\"--> Exec with feather | reading input from \", path)\n",
    "        input = ft.read_feather(path)\n",
    "        if print_flag: print(\"--> Exec with feather | Apply function \", path)\n",
    "        result = function(input, *args, **kwargs)\n",
    "        if print_flag: print(\"Exec with feather --> \", path)\n",
    "    return result"
   ]
  },
  {
   "cell_type": "code",
   "execution_count": null,
   "metadata": {},
   "outputs": [],
   "source": [
    "#| export\n",
    "def py_function(module_name, function_name, print_flag = False):\n",
    "    try:\n",
    "        function = getattr(__import__('__main__'), function_name)\n",
    "    except:\n",
    "        module = __import__(module_name, fromlist=[''])\n",
    "        function = getattr(module, function_name)\n",
    "    print(\"py function: \", function_name, \": \", function)\n",
    "    return function"
   ]
  },
  {
   "cell_type": "code",
   "execution_count": null,
   "metadata": {},
   "outputs": [
    {
     "name": "stdout",
     "output_type": "stream",
     "text": [
      "py function:  suma :  <function suma>\n",
      "3\n"
     ]
    }
   ],
   "source": [
    "#| hide\n",
    "def suma(a,b,c): return a+b+c\n",
    "foo = py_function(\"main\", \"suma\", True)\n",
    "print(foo(1,1,1))"
   ]
  },
  {
   "cell_type": "code",
   "execution_count": null,
   "metadata": {},
   "outputs": [
    {
     "name": "stdout",
     "output_type": "stream",
     "text": [
      "py function:  prepare_forecasting_data :  <function prepare_forecasting_data>\n"
     ]
    },
    {
     "data": {
      "text/plain": [
       "<function tsai.data.preparation.prepare_forecasting_data(df: 'pd.DataFrame', fcst_history: 'int', fcst_horizon: 'int' = 1, x_vars: 'str | list' = None, y_vars: 'str | list' = None, dtype: 'str' = None, unique_id_cols: 'str | list' = None) -> 'tuple(np.ndarray, np.ndarray)'>"
      ]
     },
     "execution_count": null,
     "metadata": {},
     "output_type": "execute_result"
    }
   ],
   "source": [
    "#| hide\n",
    "function_name = \"prepare_forecasting_data\"\n",
    "module_name = \"tsai.data.preparation\"\n",
    "foo = py_function(module_name, function_name, True)\n",
    "foo"
   ]
  },
  {
   "cell_type": "code",
   "execution_count": null,
   "metadata": {},
   "outputs": [],
   "source": [
    "#| export\n",
    "import time\n",
    "def exec_with_feather_k_output(function_name, module_name = \"main\", path = None, k_output = 0, print_flag = False, time_flag = False, *args, **kwargs):\n",
    "    result = None\n",
    "    function = py_function(module_name, function_name, print_flag)\n",
    "    if time_flag: t_start = time.time()\n",
    "    if not (path is None):\n",
    "        if print_flag: print(\"--> Exec with feather | reading input from \", path)\n",
    "        input = ft.read_feather(path)\n",
    "        if print_flag: print(\"--> Exec with feather | Apply function \", path)\n",
    "        result = function(input, *args, **kwargs)[k_output]\n",
    "    if time_flag:\n",
    "        t_end = time.time()\n",
    "        print(\"Exec with feather | time: \", t_end-t_start)\n",
    "    if print_flag: print(\"Exec with feather --> \", path)\n",
    "    return result"
   ]
  },
  {
   "cell_type": "code",
   "execution_count": null,
   "metadata": {},
   "outputs": [
    {
     "name": "stdout",
     "output_type": "stream",
     "text": [
      "py function:  prepare_forecasting_data :  <function prepare_forecasting_data>\n",
      "--> Exec with feather | reading input from  /home/macu/data/wandb_artifacts/-2535364569820284064\n",
      "--> Exec with feather | Apply function  /home/macu/data/wandb_artifacts/-2535364569820284064\n",
      "Exec with feather | time:  0.40880537033081055\n",
      "Exec with feather -->  /home/macu/data/wandb_artifacts/-2535364569820284064\n"
     ]
    },
    {
     "data": {
      "text/plain": [
       "array([[[0., 0., 0., ..., 0., 0., 0.]],\n",
       "\n",
       "       [[0., 0., 0., ..., 0., 0., 0.]],\n",
       "\n",
       "       [[0., 0., 0., ..., 0., 0., 0.]],\n",
       "\n",
       "       ...,\n",
       "\n",
       "       [[0., 0., 0., ..., 0., 0., 0.]],\n",
       "\n",
       "       [[0., 0., 0., ..., 0., 0., 0.]],\n",
       "\n",
       "       [[0., 0., 0., ..., 0., 0., 0.]]])"
      ]
     },
     "execution_count": null,
     "metadata": {},
     "output_type": "execute_result"
    }
   ],
   "source": [
    "#| hide\n",
    "enc_input = exec_with_feather_k_output(\n",
    "            function_name = \"prepare_forecasting_data\",\n",
    "            module_name   = \"tsai.data.preparation\",\n",
    "            path = \"/home/macu/data/wandb_artifacts/-2535364569820284064\",\n",
    "            k_output = 0,\n",
    "            print_flag = True,\n",
    "            time_flag = True,\n",
    "            fcst_history = 450\n",
    "        )\n",
    "enc_input"
   ]
  },
  {
   "cell_type": "code",
   "execution_count": null,
   "metadata": {},
   "outputs": [],
   "source": [
    "#| export\n",
    "def exec_with_and_feather_k_output(function_name, module_name = \"main\", path_input = None, path_output = None, k_output = 0, print_flag = False, time_flag = False, *args, **kwargs):\n",
    "    result = None\n",
    "    function = py_function(module_name, function_name, print_flag)\n",
    "    if time_flag: t_start = time.time()\n",
    "    if not (path_input is None):\n",
    "        if print_flag: print(\"--> Exec with feather | reading input from \", path_input)\n",
    "        input = ft.read_feather(path_input)\n",
    "        if print_flag: \n",
    "            print(\"--> Exec with feather | Apply function \", function_name, \"input type: \", type(input))\n",
    "        \n",
    "        result = function(input, *args, **kwargs)[k_output]\n",
    "        ft.write_feather(df, path, compression = 'lz4')\n",
    "    if time_flag:\n",
    "        t_end = time.time()\n",
    "        print(\"Exec with feather | time: \", t_end-t_start)\n",
    "    if print_flag: print(\"Exec with feather --> \", path_output)\n",
    "    return path_output"
   ]
  },
  {
   "cell_type": "markdown",
   "metadata": {},
   "source": [
    "## Time handling"
   ]
  },
  {
   "cell_type": "code",
   "execution_count": null,
   "metadata": {},
   "outputs": [],
   "source": [
    "#| export \n",
    "import time\n",
    "from dataclasses import dataclass, field"
   ]
  },
  {
   "cell_type": "code",
   "execution_count": null,
   "metadata": {},
   "outputs": [],
   "source": [
    "#| export\n",
    "@dataclass\n",
    "class Time:\n",
    "    time_start  : float =  None\n",
    "    time_end    : float =  None\n",
    "    time_total  : float =  0.0\n",
    "    function    : str   =  ''\n",
    "\n",
    "    def start(self, print_flag = False): \n",
    "        if print_flag: print(\"--> Start: \", self.function)\n",
    "        self.time_start = time.time()\n",
    "        return self.time_start\n",
    "\n",
    "    def end(self, print_flag = False):\n",
    "        self.time_end = time.time()\n",
    "        self.time_total = self.duration()\n",
    "        if print_flag: print(\"End: \", self.function, \"-->\")\n",
    "        return self.time_end\n",
    "        \n",
    "    def duration(self):\n",
    "        self.time_total=self.time_end - self.time_start\n",
    "        return self.time_total\n",
    "    def show(self):\n",
    "        if self.time_start is None: \n",
    "            print(f\"[{self.function}] Not started\")\n",
    "        elif self.time_end is None:\n",
    "            print(f\"[{self.function}] Not ended | Start: \", self.time_start)\n",
    "        else:\n",
    "            print(f\"[{self.function}] Start: {self.time_start} | End: {self.time_end} | Duration: {self.time_total} seconds\")\n",
    "        return self.time_total     "
   ]
  },
  {
   "cell_type": "code",
   "execution_count": null,
   "metadata": {},
   "outputs": [],
   "source": [
    "#| export\n",
    "def funcname():\n",
    "    \"\"\"Get calling function name\"\"\"\n",
    "    return inspect.stack()[1][3]"
   ]
  },
  {
   "cell_type": "code",
   "execution_count": null,
   "metadata": {},
   "outputs": [
    {
     "name": "stdout",
     "output_type": "stream",
     "text": [
      "[] Start: 1712136000.665826 | End: 1712136002.668165 | Duration: 2.0023388862609863 seconds\n"
     ]
    },
    {
     "data": {
      "text/plain": [
       "'foo'"
      ]
     },
     "execution_count": null,
     "metadata": {},
     "output_type": "execute_result"
    }
   ],
   "source": [
    "#| hide\n",
    "# Timer basic example\n",
    "foo = Time()\n",
    "foo.start()\n",
    "time.sleep(2) \n",
    "foo.end()\n",
    "foo.show()\n",
    "def foo(): return funcname()\n",
    "foo()"
   ]
  },
  {
   "cell_type": "markdown",
   "metadata": {},
   "source": [
    "## VSCode update path"
   ]
  },
  {
   "cell_type": "code",
   "execution_count": null,
   "metadata": {},
   "outputs": [],
   "source": [
    "#| export\n",
    "#Function for making notebooks clearer\n",
    "from IPython.display import clear_output, DisplayHandle\n",
    "def update_patch(self, obj):\n",
    "    clear_output(wait=True)\n",
    "    self.display(obj)\n",
    "    print(\"... Enabling Vs Code execution ...\")"
   ]
  },
  {
   "cell_type": "code",
   "execution_count": null,
   "metadata": {},
   "outputs": [],
   "source": [
    "#| hide\n",
    "#from nbdev.export import notebook2script\n",
    "#notebook2script()\n",
    "beep(1)"
   ]
  }
 ],
 "metadata": {
  "kernelspec": {
   "display_name": "Python 3 (ipykernel)",
   "language": "python",
   "name": "python3"
  }
 },
 "nbformat": 4,
 "nbformat_minor": 4
}

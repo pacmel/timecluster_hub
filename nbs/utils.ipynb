{
 "cells": [
  {
   "cell_type": "code",
   "execution_count": null,
   "metadata": {},
   "outputs": [],
   "source": [
    "#| default_exp utils"
   ]
  },
  {
   "cell_type": "code",
   "execution_count": null,
   "metadata": {},
   "outputs": [],
   "source": [
    "#| hide\n",
    "%load_ext autoreload\n",
    "%autoreload 2"
   ]
  },
  {
   "cell_type": "markdown",
   "metadata": {},
   "source": [
    "# Utils\n",
    "\n",
    "> Utilities used in the rest of the notebooks"
   ]
  },
  {
   "cell_type": "code",
   "execution_count": null,
   "metadata": {},
   "outputs": [],
   "source": [
    "#| export\n",
    "from dvats.imports import *\n",
    "from fastcore.all import *\n",
    "import wandb\n",
    "import pickle\n",
    "import pandas as pd\n",
    "import numpy as np\n",
    "#import tensorflow as tf\n",
    "import torch.nn as nn\n",
    "from fastai.basics import *"
   ]
  },
  {
   "cell_type": "markdown",
   "metadata": {},
   "source": [
    "### Generate random time series dataframe"
   ]
  },
  {
   "cell_type": "code",
   "execution_count": null,
   "metadata": {},
   "outputs": [],
   "source": [
    "#| export\n",
    "def generate_TS_df(rows, cols):\n",
    "    \"Generates a dataframe containing a multivariate time series, where each column \\\n",
    "    represents a variable and each row a time point (sample). The timestamp is in the \\\n",
    "    index of the dataframe, and it is created with a even space of 1 second between samples\"\n",
    "    index = np.arange(pd.Timestamp.now(),\n",
    "                      pd.Timestamp.now() + pd.Timedelta(rows-1, 'seconds'),\n",
    "                      pd.Timedelta(1, 'seconds'))\n",
    "    data = np.random.randn(len(index), cols)\n",
    "    return pd.DataFrame(data, index=index)"
   ]
  },
  {
   "cell_type": "code",
   "execution_count": null,
   "metadata": {},
   "outputs": [],
   "source": [
    "df = generate_TS_df(3, 5)"
   ]
  },
  {
   "cell_type": "code",
   "execution_count": null,
   "metadata": {},
   "outputs": [],
   "source": [
    "test_eq(df.shape, (3, 5))"
   ]
  },
  {
   "cell_type": "markdown",
   "metadata": {},
   "source": [
    "##  pandas Dataframe utilities"
   ]
  },
  {
   "cell_type": "markdown",
   "metadata": {},
   "source": [
    "### Normalize columns"
   ]
  },
  {
   "cell_type": "code",
   "execution_count": null,
   "metadata": {},
   "outputs": [],
   "source": [
    "#| export\n",
    "def normalize_columns(df:pd.DataFrame):\n",
    "    \"Normalize columns from `df` to have 0 mean and 1 standard deviation\"\n",
    "    mean = df.mean()\n",
    "    std = df.std() + 1e-7\n",
    "    return (df-mean)/std"
   ]
  },
  {
   "cell_type": "code",
   "execution_count": null,
   "metadata": {},
   "outputs": [
    {
     "data": {
      "text/html": [
       "<div>\n",
       "<style scoped>\n",
       "    .dataframe tbody tr th:only-of-type {\n",
       "        vertical-align: middle;\n",
       "    }\n",
       "\n",
       "    .dataframe tbody tr th {\n",
       "        vertical-align: top;\n",
       "    }\n",
       "\n",
       "    .dataframe thead th {\n",
       "        text-align: right;\n",
       "    }\n",
       "</style>\n",
       "<table border=\"1\" class=\"dataframe\">\n",
       "  <thead>\n",
       "    <tr style=\"text-align: right;\">\n",
       "      <th></th>\n",
       "      <th>0</th>\n",
       "      <th>1</th>\n",
       "      <th>2</th>\n",
       "    </tr>\n",
       "  </thead>\n",
       "  <tbody>\n",
       "    <tr>\n",
       "      <th>count</th>\n",
       "      <td>3.000000</td>\n",
       "      <td>3.000000</td>\n",
       "      <td>3.000000</td>\n",
       "    </tr>\n",
       "    <tr>\n",
       "      <th>mean</th>\n",
       "      <td>-0.356446</td>\n",
       "      <td>-0.217669</td>\n",
       "      <td>-0.451268</td>\n",
       "    </tr>\n",
       "    <tr>\n",
       "      <th>std</th>\n",
       "      <td>1.567722</td>\n",
       "      <td>0.268632</td>\n",
       "      <td>0.309269</td>\n",
       "    </tr>\n",
       "    <tr>\n",
       "      <th>min</th>\n",
       "      <td>-1.327362</td>\n",
       "      <td>-0.480470</td>\n",
       "      <td>-0.693929</td>\n",
       "    </tr>\n",
       "    <tr>\n",
       "      <th>25%</th>\n",
       "      <td>-1.260753</td>\n",
       "      <td>-0.354722</td>\n",
       "      <td>-0.625384</td>\n",
       "    </tr>\n",
       "    <tr>\n",
       "      <th>50%</th>\n",
       "      <td>-1.194144</td>\n",
       "      <td>-0.228973</td>\n",
       "      <td>-0.556840</td>\n",
       "    </tr>\n",
       "    <tr>\n",
       "      <th>75%</th>\n",
       "      <td>0.129012</td>\n",
       "      <td>-0.086268</td>\n",
       "      <td>-0.329938</td>\n",
       "    </tr>\n",
       "    <tr>\n",
       "      <th>max</th>\n",
       "      <td>1.452169</td>\n",
       "      <td>0.056437</td>\n",
       "      <td>-0.103037</td>\n",
       "    </tr>\n",
       "  </tbody>\n",
       "</table>\n",
       "</div>"
      ],
      "text/plain": [
       "              0         1         2\n",
       "count  3.000000  3.000000  3.000000\n",
       "mean  -0.356446 -0.217669 -0.451268\n",
       "std    1.567722  0.268632  0.309269\n",
       "min   -1.327362 -0.480470 -0.693929\n",
       "25%   -1.260753 -0.354722 -0.625384\n",
       "50%   -1.194144 -0.228973 -0.556840\n",
       "75%    0.129012 -0.086268 -0.329938\n",
       "max    1.452169  0.056437 -0.103037"
      ]
     },
     "execution_count": null,
     "metadata": {},
     "output_type": "execute_result"
    }
   ],
   "source": [
    "foo = generate_TS_df(3, 3)\n",
    "foo.describe()"
   ]
  },
  {
   "cell_type": "code",
   "execution_count": null,
   "metadata": {},
   "outputs": [
    {
     "data": {
      "text/html": [
       "<div>\n",
       "<style scoped>\n",
       "    .dataframe tbody tr th:only-of-type {\n",
       "        vertical-align: middle;\n",
       "    }\n",
       "\n",
       "    .dataframe tbody tr th {\n",
       "        vertical-align: top;\n",
       "    }\n",
       "\n",
       "    .dataframe thead th {\n",
       "        text-align: right;\n",
       "    }\n",
       "</style>\n",
       "<table border=\"1\" class=\"dataframe\">\n",
       "  <thead>\n",
       "    <tr style=\"text-align: right;\">\n",
       "      <th></th>\n",
       "      <th>0</th>\n",
       "      <th>1</th>\n",
       "      <th>2</th>\n",
       "    </tr>\n",
       "  </thead>\n",
       "  <tbody>\n",
       "    <tr>\n",
       "      <th>count</th>\n",
       "      <td>3.000000e+00</td>\n",
       "      <td>3.000000e+00</td>\n",
       "      <td>3.000000e+00</td>\n",
       "    </tr>\n",
       "    <tr>\n",
       "      <th>mean</th>\n",
       "      <td>-3.700743e-17</td>\n",
       "      <td>-3.700743e-17</td>\n",
       "      <td>-9.251859e-17</td>\n",
       "    </tr>\n",
       "    <tr>\n",
       "      <th>std</th>\n",
       "      <td>9.999999e-01</td>\n",
       "      <td>9.999996e-01</td>\n",
       "      <td>9.999997e-01</td>\n",
       "    </tr>\n",
       "    <tr>\n",
       "      <th>min</th>\n",
       "      <td>-6.193166e-01</td>\n",
       "      <td>-9.782957e-01</td>\n",
       "      <td>-7.846253e-01</td>\n",
       "    </tr>\n",
       "    <tr>\n",
       "      <th>25%</th>\n",
       "      <td>-5.768289e-01</td>\n",
       "      <td>-5.101875e-01</td>\n",
       "      <td>-5.629913e-01</td>\n",
       "    </tr>\n",
       "    <tr>\n",
       "      <th>50%</th>\n",
       "      <td>-5.343411e-01</td>\n",
       "      <td>-4.207935e-02</td>\n",
       "      <td>-3.413573e-01</td>\n",
       "    </tr>\n",
       "    <tr>\n",
       "      <th>75%</th>\n",
       "      <td>3.096583e-01</td>\n",
       "      <td>4.891479e-01</td>\n",
       "      <td>3.923127e-01</td>\n",
       "    </tr>\n",
       "    <tr>\n",
       "      <th>max</th>\n",
       "      <td>1.153658e+00</td>\n",
       "      <td>1.020375e+00</td>\n",
       "      <td>1.125983e+00</td>\n",
       "    </tr>\n",
       "  </tbody>\n",
       "</table>\n",
       "</div>"
      ],
      "text/plain": [
       "                  0             1             2\n",
       "count  3.000000e+00  3.000000e+00  3.000000e+00\n",
       "mean  -3.700743e-17 -3.700743e-17 -9.251859e-17\n",
       "std    9.999999e-01  9.999996e-01  9.999997e-01\n",
       "min   -6.193166e-01 -9.782957e-01 -7.846253e-01\n",
       "25%   -5.768289e-01 -5.101875e-01 -5.629913e-01\n",
       "50%   -5.343411e-01 -4.207935e-02 -3.413573e-01\n",
       "75%    3.096583e-01  4.891479e-01  3.923127e-01\n",
       "max    1.153658e+00  1.020375e+00  1.125983e+00"
      ]
     },
     "execution_count": null,
     "metadata": {},
     "output_type": "execute_result"
    }
   ],
   "source": [
    "bar = normalize_columns(foo)\n",
    "bar.describe()"
   ]
  },
  {
   "cell_type": "code",
   "execution_count": null,
   "metadata": {},
   "outputs": [],
   "source": [
    "test_close(bar.describe().loc['mean'].values, np.repeat(0.0, len(bar.columns)))"
   ]
  },
  {
   "cell_type": "code",
   "execution_count": null,
   "metadata": {},
   "outputs": [],
   "source": [
    "test_close(bar.describe().loc['std'].values, np.repeat(1.0, len(bar.columns)))"
   ]
  },
  {
   "cell_type": "markdown",
   "metadata": {},
   "source": [
    "### Remove constant columns"
   ]
  },
  {
   "cell_type": "code",
   "execution_count": null,
   "metadata": {},
   "outputs": [],
   "source": [
    "#| export\n",
    "def remove_constant_columns(df:pd.DataFrame):\n",
    "    return df.loc[:, (df != df.iloc[0]).any()]"
   ]
  },
  {
   "cell_type": "code",
   "execution_count": null,
   "metadata": {},
   "outputs": [
    {
     "data": {
      "text/html": [
       "<div>\n",
       "<style scoped>\n",
       "    .dataframe tbody tr th:only-of-type {\n",
       "        vertical-align: middle;\n",
       "    }\n",
       "\n",
       "    .dataframe tbody tr th {\n",
       "        vertical-align: top;\n",
       "    }\n",
       "\n",
       "    .dataframe thead th {\n",
       "        text-align: right;\n",
       "    }\n",
       "</style>\n",
       "<table border=\"1\" class=\"dataframe\">\n",
       "  <thead>\n",
       "    <tr style=\"text-align: right;\">\n",
       "      <th></th>\n",
       "      <th>0</th>\n",
       "      <th>1</th>\n",
       "      <th>2</th>\n",
       "      <th>constant</th>\n",
       "    </tr>\n",
       "  </thead>\n",
       "  <tbody>\n",
       "    <tr>\n",
       "      <th>2022-04-23 10:32:47.134188</th>\n",
       "      <td>-0.658749</td>\n",
       "      <td>1.680371</td>\n",
       "      <td>1.426223</td>\n",
       "      <td>0.0</td>\n",
       "    </tr>\n",
       "    <tr>\n",
       "      <th>2022-04-23 10:32:48.134188</th>\n",
       "      <td>1.961724</td>\n",
       "      <td>1.247468</td>\n",
       "      <td>-1.358013</td>\n",
       "      <td>0.0</td>\n",
       "    </tr>\n",
       "    <tr>\n",
       "      <th>2022-04-23 10:32:49.134188</th>\n",
       "      <td>-0.195324</td>\n",
       "      <td>0.413195</td>\n",
       "      <td>0.504546</td>\n",
       "      <td>0.0</td>\n",
       "    </tr>\n",
       "  </tbody>\n",
       "</table>\n",
       "</div>"
      ],
      "text/plain": [
       "                                   0         1         2  constant\n",
       "2022-04-23 10:32:47.134188 -0.658749  1.680371  1.426223       0.0\n",
       "2022-04-23 10:32:48.134188  1.961724  1.247468 -1.358013       0.0\n",
       "2022-04-23 10:32:49.134188 -0.195324  0.413195  0.504546       0.0"
      ]
     },
     "execution_count": null,
     "metadata": {},
     "output_type": "execute_result"
    }
   ],
   "source": [
    "foo = generate_TS_df(3, 3)\n",
    "foo['constant'] = [0.0]*len(foo)\n",
    "foo"
   ]
  },
  {
   "cell_type": "code",
   "execution_count": null,
   "metadata": {},
   "outputs": [
    {
     "data": {
      "text/html": [
       "<div>\n",
       "<style scoped>\n",
       "    .dataframe tbody tr th:only-of-type {\n",
       "        vertical-align: middle;\n",
       "    }\n",
       "\n",
       "    .dataframe tbody tr th {\n",
       "        vertical-align: top;\n",
       "    }\n",
       "\n",
       "    .dataframe thead th {\n",
       "        text-align: right;\n",
       "    }\n",
       "</style>\n",
       "<table border=\"1\" class=\"dataframe\">\n",
       "  <thead>\n",
       "    <tr style=\"text-align: right;\">\n",
       "      <th></th>\n",
       "      <th>0</th>\n",
       "      <th>1</th>\n",
       "      <th>2</th>\n",
       "    </tr>\n",
       "  </thead>\n",
       "  <tbody>\n",
       "    <tr>\n",
       "      <th>2022-04-23 10:32:47.134188</th>\n",
       "      <td>-0.658749</td>\n",
       "      <td>1.680371</td>\n",
       "      <td>1.426223</td>\n",
       "    </tr>\n",
       "    <tr>\n",
       "      <th>2022-04-23 10:32:48.134188</th>\n",
       "      <td>1.961724</td>\n",
       "      <td>1.247468</td>\n",
       "      <td>-1.358013</td>\n",
       "    </tr>\n",
       "    <tr>\n",
       "      <th>2022-04-23 10:32:49.134188</th>\n",
       "      <td>-0.195324</td>\n",
       "      <td>0.413195</td>\n",
       "      <td>0.504546</td>\n",
       "    </tr>\n",
       "  </tbody>\n",
       "</table>\n",
       "</div>"
      ],
      "text/plain": [
       "                                   0         1         2\n",
       "2022-04-23 10:32:47.134188 -0.658749  1.680371  1.426223\n",
       "2022-04-23 10:32:48.134188  1.961724  1.247468 -1.358013\n",
       "2022-04-23 10:32:49.134188 -0.195324  0.413195  0.504546"
      ]
     },
     "execution_count": null,
     "metadata": {},
     "output_type": "execute_result"
    }
   ],
   "source": [
    "bar = remove_constant_columns(foo)\n",
    "bar"
   ]
  },
  {
   "cell_type": "code",
   "execution_count": null,
   "metadata": {},
   "outputs": [],
   "source": [
    "column_diff = set(foo.columns) - set(bar.columns)\n",
    "test_eq_type(column_diff, set(['constant']))"
   ]
  },
  {
   "cell_type": "markdown",
   "metadata": {},
   "source": [
    "## Create wandb artifact containing just the reference to an object pass as argument"
   ]
  },
  {
   "cell_type": "code",
   "execution_count": null,
   "metadata": {},
   "outputs": [],
   "source": [
    "#| export\n",
    "class ReferenceArtifact(wandb.Artifact):\n",
    "    default_storage_path = Path('data/wandb_artifacts/') # * this path is relative to Path.home()\n",
    "    \"This class is meant to create an artifact with a single reference to an object \\\n",
    "    passed as argument in the contructor. The object will be pickled, hashed and stored \\\n",
    "    in a specified folder.\"\n",
    "    @delegates(wandb.Artifact.__init__)\n",
    "    def __init__(self, obj, name, type='object', folder=None, **kwargs):\n",
    "        super().__init__(type=type, name=name, **kwargs)\n",
    "        # pickle dumps the object and then hash it\n",
    "        hash_code = str(hash(pickle.dumps(obj)))\n",
    "        folder = Path(ifnone(folder, Path.home()/self.default_storage_path))\n",
    "        with open(f'{folder}/{hash_code}', 'wb') as f:\n",
    "            pickle.dump(obj, f)\n",
    "        self.add_reference(f'file://{folder}/{hash_code}')\n",
    "        if self.metadata is None:\n",
    "            self.metadata = dict()\n",
    "        self.metadata['ref'] = dict()\n",
    "        self.metadata['ref']['hash'] = hash_code\n",
    "        self.metadata['ref']['type'] = str(obj.__class__)"
   ]
  },
  {
   "cell_type": "code",
   "execution_count": null,
   "metadata": {},
   "outputs": [],
   "source": [
    "foo = np.arange(10)\n",
    "bar = ReferenceArtifact(obj=foo, name='foo', folder='.')\n",
    "bar_path = Path(f'./{bar.metadata[\"ref\"][\"hash\"]}')\n",
    "test_eq(bar_path.exists(), True)\n",
    "test_eq(bar.metadata['ref']['type'], \"<class 'numpy.ndarray'>\")"
   ]
  },
  {
   "cell_type": "markdown",
   "metadata": {},
   "source": [
    "When a reference artifact is used by one wandb run, we should have a method to get the original object from it"
   ]
  },
  {
   "cell_type": "code",
   "execution_count": null,
   "metadata": {},
   "outputs": [],
   "source": [
    "#| export\n",
    "@patch\n",
    "def to_obj(self:wandb.apis.public.Artifact):\n",
    "    \"\"\"Download the files of a saved ReferenceArtifact and get the referenced object. The artifact must \\\n",
    "    come from a call to `run.use_artifact` with a proper wandb run.\"\"\"\n",
    "    if self.metadata.get('ref') is None:\n",
    "        print(f'ERROR:{self} does not come from a saved ReferenceArtifact')\n",
    "        return None\n",
    "    original_path = ReferenceArtifact.default_storage_path/self.metadata['ref']['hash']\n",
    "    path = original_path if original_path.exists() else Path(self.download()).ls()[0]\n",
    "    with open(path, 'rb') as f:\n",
    "        obj = pickle.load(f)\n",
    "    return obj"
   ]
  },
  {
   "cell_type": "markdown",
   "metadata": {},
   "source": [
    "Test with Reference artifact from a df"
   ]
  },
  {
   "cell_type": "code",
   "execution_count": null,
   "metadata": {},
   "outputs": [
    {
     "data": {
      "text/plain": [
       "dict_values([<ManifestEntry ref: file:///home/dmontalvo/data/wandb_artifacts/776758047213944476/776758047213944476>])"
      ]
     },
     "execution_count": null,
     "metadata": {},
     "output_type": "execute_result"
    }
   ],
   "source": [
    "foo = generate_TS_df(3, 3)\n",
    "bar = ReferenceArtifact(obj=foo, name='test_reference_artifact')\n",
    "bar.manifest.entries.values()"
   ]
  },
  {
   "cell_type": "code",
   "execution_count": null,
   "metadata": {},
   "outputs": [],
   "source": [
    "test_eq(bar.name, 'test_reference_artifact')"
   ]
  },
  {
   "cell_type": "code",
   "execution_count": null,
   "metadata": {},
   "outputs": [],
   "source": [
    "test_eq(bar.metadata['ref']['type'], str(type(foo)))"
   ]
  },
  {
   "cell_type": "markdown",
   "metadata": {},
   "source": [
    "TODO: Test method `to_obj`"
   ]
  },
  {
   "cell_type": "markdown",
   "metadata": {},
   "source": [
    "ReferenceArtifact with a numpy array"
   ]
  },
  {
   "cell_type": "code",
   "execution_count": null,
   "metadata": {},
   "outputs": [
    {
     "data": {
      "text/plain": [
       "dict_values([<ManifestEntry ref: file:///home/dmontalvo/data/wandb_artifacts/-8161467246553937997/-8161467246553937997>])"
      ]
     },
     "execution_count": null,
     "metadata": {},
     "output_type": "execute_result"
    }
   ],
   "source": [
    "foo = np.random.randn(5)\n",
    "bar = ReferenceArtifact(obj=foo, name='test_reference_artifact')\n",
    "bar.manifest.entries.values()"
   ]
  },
  {
   "cell_type": "code",
   "execution_count": null,
   "metadata": {},
   "outputs": [],
   "source": [
    "test_eq(bar.metadata['ref']['type'], str(type(foo)))"
   ]
  },
  {
   "cell_type": "code",
   "execution_count": null,
   "metadata": {},
   "outputs": [],
   "source": [
    "#| export\n",
    "import torch.nn as nn\n",
    "class PrintLayer(nn.Module):\n",
    "    def __init__(self):\n",
    "        super(PrintLayer, self).__init__()\n",
    "\n",
    "    def forward(self, x):\n",
    "        # Do your print / debug stuff here\n",
    "        print(x.shape)\n",
    "        return x"
   ]
  },
  {
   "cell_type": "code",
   "execution_count": null,
   "metadata": {},
   "outputs": [],
   "source": [
    "#| export\n",
    "@patch\n",
    "def export_and_get(self:Learner, keep_exported_file=False):\n",
    "    \"\"\"\n",
    "        Export the learner into an auxiliary file, load it and return it back.\n",
    "    \"\"\"\n",
    "    aux_path = Path('aux.pkl')\n",
    "    self.export(fname='aux.pkl')\n",
    "    aux_learn = load_learner('aux.pkl')\n",
    "    if not keep_exported_file: aux_path.unlink()\n",
    "    return aux_learn"
   ]
  },
  {
   "cell_type": "markdown",
   "metadata": {},
   "source": [
    "### get_wandb_artifacts"
   ]
  },
  {
   "cell_type": "code",
   "execution_count": null,
   "metadata": {},
   "outputs": [],
   "source": [
    "#| export\n",
    "def get_wandb_artifacts(project_path, type=None, name=None, last_version=True):\n",
    "    \"\"\"\n",
    "        Get the artifacts logged in a wandb project.\n",
    "        Input:\n",
    "        - `project_path` (str): entity/project_name\n",
    "        - `type` (str): whether to return only one type of artifacts\n",
    "        - `name` (str): Leave none to have all artifact names\n",
    "        - `last_version`: whether to return only the last version of each artifact or not\n",
    "\n",
    "        Output: List of artifacts\n",
    "    \"\"\"\n",
    "    public_api = wandb.Api()\n",
    "    if type is not None:\n",
    "        types = [public_api.artifact_type(type, project_path)]\n",
    "    else:\n",
    "        types = public_api.artifact_types(project_path)\n",
    "\n",
    "    res = L()\n",
    "    for kind in types:\n",
    "        for collection in kind.collections():\n",
    "            if name is None or name == collection.name:\n",
    "                versions = public_api.artifact_versions(\n",
    "                    kind.type,\n",
    "                    \"/\".join([kind.entity, kind.project, collection.name]),\n",
    "                    per_page=1,\n",
    "                )\n",
    "                if last_version: res += next(versions)\n",
    "                else: res += L(versions)\n",
    "    return list(res)"
   ]
  },
  {
   "cell_type": "code",
   "execution_count": null,
   "metadata": {},
   "outputs": [],
   "source": [
    "foo = get_wandb_artifacts('wandb/artifacts-example', type='model')\n",
    "test_eq(len(foo), 2)\n",
    "foo = get_wandb_artifacts('wandb/artifacts-example', type='model', name='convnet')\n",
    "test_eq(len(foo), 1)\n",
    "foo = get_wandb_artifacts('wandb/artifacts-example', type='model', name='convnet', last_version=False)\n",
    "test_eq(len(foo), 2)"
   ]
  },
  {
   "cell_type": "markdown",
   "metadata": {},
   "source": [
    "### get_pickle_artifact"
   ]
  },
  {
   "cell_type": "code",
   "execution_count": null,
   "metadata": {},
   "outputs": [],
   "source": [
    "#| export\n",
    "def get_pickle_artifact(filename):\n",
    "\n",
    "    with open(filename, \"rb\") as f:\n",
    "        df = pickle.load(f)\n",
    "    \n",
    "    return df"
   ]
  },
  {
   "cell_type": "markdown",
   "metadata": {},
   "source": [
    "## Pickled\n",
    "Functions execution loading/saving input/output as pickled objects"
   ]
  },
  {
   "cell_type": "code",
   "execution_count": null,
   "metadata": {},
   "outputs": [],
   "source": [
    "#| export\n",
    "def pickled_file(function, filename=None, hash_code = None, include_hash_code = True):\n",
    "    filename_is_none = filename is None\n",
    "    if filename_is_none:\n",
    "        filename = f\"result_{function.__name__}\"\n",
    "    if not hash_code is None and (include_hash_code or filename_is_none):\n",
    "        filename = f\"{filename}_{hash_code}\"\n",
    "    filename = f\"{filename}.pickle\"\n",
    "    return filename"
   ]
  },
  {
   "cell_type": "code",
   "execution_count": null,
   "metadata": {},
   "outputs": [
    {
     "name": "stdout",
     "output_type": "stream",
     "text": [
      "None | None\n",
      "result_foo.pickle\n",
      "None | 1\n",
      "result_foo_1.pickle\n",
      "Potato | 1\n",
      "Potato_1.pickle\n",
      "Potato | 1\n",
      "Potato.pickle\n",
      "None | 1\n",
      "result_foo_1.pickle\n"
     ]
    }
   ],
   "source": [
    "#| hide\n",
    "filename = None\n",
    "hash_code = None\n",
    "def foo(a,b,c=1): \n",
    "    print(f\"({a}+{b})*{c}\")\n",
    "    return (a+b)*c\n",
    "    \n",
    "print(f\"{filename} | {hash_code}\")\n",
    "print(pickled_file(foo, filename, hash_code))\n",
    "\n",
    "hash_code = 1\n",
    "print(f\"{filename} | {hash_code}\")\n",
    "print(pickled_file(foo,filename, hash_code))\n",
    "\n",
    "filename = \"Potato\"\n",
    "print(f\"{filename} | {hash_code}\")\n",
    "print(pickled_file(foo, filename, hash_code))\n",
    "\n",
    "print(f\"{filename} | {hash_code}\")\n",
    "print(pickled_file(foo, filename, hash_code, False))\n",
    "\n",
    "filename = None\n",
    "print(f\"{filename} | {hash_code}\")\n",
    "print(pickled_file(foo, filename, hash_code, False))"
   ]
  },
  {
   "cell_type": "code",
   "execution_count": null,
   "metadata": {},
   "outputs": [],
   "source": [
    "def exec_and_pickle(function, filename=None, *args, **kwargs):\n",
    "    result = function(*args, **kwargs)\n",
    "    hash_code = str(hash(pickle.dumps(result)))\n",
    "    filename = pickled_file(function, filename, hash_code)\n",
    "    with open(filename, 'wb') as f:\n",
    "        pickle.dump(result,f)\n",
    "    return filename, hash_code"
   ]
  },
  {
   "cell_type": "code",
   "execution_count": null,
   "metadata": {},
   "outputs": [
    {
     "name": "stdout",
     "output_type": "stream",
     "text": [
      "(1+2)*1\n",
      "3\n",
      "(1+2)*1\n",
      "result_foo_6814786563595406894.pickle\n",
      "6814786563595406894\n"
     ]
    }
   ],
   "source": [
    "print(foo(1,2))\n",
    "filename, hash_code = exec_and_pickle(foo, None, 1, 2)\n",
    "print(filename)\n",
    "print(hash_code)"
   ]
  },
  {
   "cell_type": "code",
   "execution_count": null,
   "metadata": {},
   "outputs": [],
   "source": [
    "def exec_with_pickle(function, filename = \"\", hash_code = None, include_hash_code = True, print_flag=False, *args, **kwargs): \n",
    "    filename = pickled_file(function, filename, hash_code, include_hash_code)\n",
    "    print(filename)\n",
    "    with open(filename, 'rb') as f:\n",
    "        input = pickle.load(f)\n",
    "    if print_flag: \n",
    "        print( f\"input: {input}, args: {args}, kwargs: {kwargs}\")\n",
    "    result = function(input, *args, **kwargs) \n",
    "    return result"
   ]
  },
  {
   "cell_type": "code",
   "execution_count": null,
   "metadata": {},
   "outputs": [
    {
     "name": "stdout",
     "output_type": "stream",
     "text": [
      "result_foo_6814786563595406894.pickle\n",
      "input: 3, args: (4, 2), kwargs: {}\n",
      "(3+4)*2\n"
     ]
    },
    {
     "data": {
      "text/plain": [
       "14"
      ]
     },
     "execution_count": null,
     "metadata": {},
     "output_type": "execute_result"
    }
   ],
   "source": [
    "exec_with_pickle(foo, None, hash_code, True, True, 4, 2)"
   ]
  },
  {
   "cell_type": "code",
   "execution_count": null,
   "metadata": {},
   "outputs": [],
   "source": [
    "import os\n",
    "def remove_pickled(function, filename = None, hash_code = None, include_hash_code = True, print_flag = False):\n",
    "    filename = pickled_file(function, filename, hash_code, include_hash_code)\n",
    "    try:\n",
    "        os.remove(filename)\n",
    "        if print_flag: print(f\"Filename {filename} deleted\")\n",
    "    except FileNotFoundError:\n",
    "        print(f\"File {filename} not found\")\n",
    "    except Exception as e: \n",
    "        print(f\"Error deleting {filename}: {e}\")"
   ]
  },
  {
   "cell_type": "code",
   "execution_count": null,
   "metadata": {},
   "outputs": [
    {
     "name": "stdout",
     "output_type": "stream",
     "text": [
      "Filename result_foo_6814786563595406894.pickle deleted\n"
     ]
    }
   ],
   "source": [
    "remove_pickled(foo, None, hash_code, True, True)"
   ]
  },
  {
   "cell_type": "markdown",
   "metadata": {},
   "source": [
    "## Export"
   ]
  },
  {
   "cell_type": "code",
   "execution_count": null,
   "metadata": {},
   "outputs": [
    {
     "name": "stdout",
     "output_type": "stream",
     "text": [
      "Converted dr.ipynb.\n",
      "Converted encoder.ipynb.\n",
      "Converted index.ipynb.\n",
      "Converted load.ipynb.\n",
      "Converted utils.ipynb.\n",
      "Converted visualization.ipynb.\n"
     ]
    },
    {
     "data": {
      "text/html": [
       "\n",
       "                <audio  controls=\"controls\" autoplay=\"autoplay\">\n",
       "                    <source src=\"data:audio/wav;base64,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\" type=\"audio/wav\" />\n",
       "                    Your browser does not support the audio element.\n",
       "                </audio>\n",
       "              "
      ],
      "text/plain": [
       "<IPython.lib.display.Audio object>"
      ]
     },
     "metadata": {},
     "output_type": "display_data"
    }
   ],
   "source": [
    "#| hide\n",
    "#from nbdev.export import notebook2script\n",
    "#notebook2script()\n",
    "beep(1)"
   ]
  },
  {
   "cell_type": "code",
   "execution_count": null,
   "metadata": {},
   "outputs": [],
   "source": []
  }
 ],
 "metadata": {
  "kernelspec": {
   "display_name": "Python 3 (ipykernel)",
   "language": "python",
   "name": "python3"
  }
 },
 "nbformat": 4,
 "nbformat_minor": 4
}

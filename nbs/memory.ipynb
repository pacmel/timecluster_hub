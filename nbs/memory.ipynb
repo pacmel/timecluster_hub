{
 "cells": [
  {
   "cell_type": "code",
   "execution_count": null,
   "id": "6ba168e2-7809-465f-848d-e650a7c8b3fb",
   "metadata": {},
   "outputs": [],
   "source": [
    "#| default_exp memory"
   ]
  },
  {
   "cell_type": "code",
   "execution_count": null,
   "id": "04805c26-53ed-4a70-9e59-541f427e6331",
   "metadata": {},
   "outputs": [],
   "source": [
    "#| hide\n",
    "%load_ext autoreload\n",
    "%autoreload 2"
   ]
  },
  {
   "cell_type": "code",
   "execution_count": null,
   "id": "720129cb-7a1d-4945-8409-0374435994d9",
   "metadata": {},
   "outputs": [],
   "source": [
    "#| export\n",
    "import subprocess\n",
    "import psutil"
   ]
  },
  {
   "cell_type": "markdown",
   "id": "c0dea860-627f-4114-87ab-31af5782863e",
   "metadata": {},
   "source": [
    "## Check GPU memory usage"
   ]
  },
  {
   "cell_type": "code",
   "execution_count": null,
   "id": "858513ee-c9be-40d0-a32c-9f368de95b8a",
   "metadata": {},
   "outputs": [],
   "source": [
    "#| export\n",
    "def get_gpu_memory(device=0):\n",
    "    total_memory = subprocess.check_output([\"nvidia-smi\", \"--query-gpu=memory.total\", \"--format=csv,noheader,nounits\", \"--id=\" + str(device)])\n",
    "    total_memory = int(total_memory.decode().split('\\n')[0])\n",
    "    used_memory = subprocess.check_output([\"nvidia-smi\", \"--query-gpu=memory.used\", \"--format=csv,noheader,nounits\",  \"--id=\" + str(device)])\n",
    "    used_memory = int(used_memory.decode().split('\\n')[0])\n",
    "\n",
    "    percentage = round((used_memory / total_memory) * 100)\n",
    "    return used_memory, total_memory, percentage"
   ]
  },
  {
   "cell_type": "code",
   "execution_count": null,
   "id": "92089555-4e31-4ec9-9b69-d59d1d667564",
   "metadata": {},
   "outputs": [],
   "source": [
    "#| export\n",
    "def color_for_percentage(percentage):\n",
    "    if percentage < 20:\n",
    "        return \"\\033[90m\"  # Gray\n",
    "    elif percentage < 40:\n",
    "        return \"\\033[94m\"  # Blue\n",
    "    elif percentage < 60:\n",
    "        return \"\\033[92m\"  # Green\n",
    "    elif percentage < 80:\n",
    "        return \"\\033[93m\"  # Orange\n",
    "    else:\n",
    "        return \"\\033[91m\"  # Red"
   ]
  },
  {
   "cell_type": "code",
   "execution_count": null,
   "id": "564346ee-da56-44a4-b7fb-4cd6d3114fe6",
   "metadata": {},
   "outputs": [],
   "source": [
    "#| export\n",
    "def create_bar(percentage, color_code, length=20):\n",
    "    filled_length = int(length * percentage // 100)\n",
    "    bar = \"█\" * filled_length + \"-\" * (length - filled_length)\n",
    "    return color_code + bar + \"\\033[0m\"  # Apply color and reset after bar"
   ]
  },
  {
   "cell_type": "code",
   "execution_count": null,
   "id": "f68318aa-1245-46c8-9c55-b3c328ad044b",
   "metadata": {},
   "outputs": [],
   "source": [
    "#| export\n",
    "def gpu_memory_status(device=0):\n",
    "    used, total, percentage = get_gpu_memory(device)\n",
    "    color_code = color_for_percentage(percentage)\n",
    "    bar = create_bar(percentage, color_code)\n",
    "    print(f\"GPU | Used mem: {used}\")\n",
    "    print(f\"GPU | Used mem: {total}\")\n",
    "    print(f\"GPU | Memory Usage: [{bar}] {color_code}{percentage}%\\033[0m\")"
   ]
  },
  {
   "cell_type": "code",
   "execution_count": null,
   "id": "b2c1059f-1be5-4522-87c7-8218004f9813",
   "metadata": {},
   "outputs": [],
   "source": [
    "#| hide\n",
    "gpu_memory_status()"
   ]
  },
  {
   "cell_type": "markdown",
   "id": "31176b84-e66d-4dda-a987-99e0b1752568",
   "metadata": {},
   "source": [
    "## Check CPU memory usage"
   ]
  },
  {
   "cell_type": "code",
   "execution_count": null,
   "id": "43e103dc-a69b-403e-b6fd-6a03dbf80352",
   "metadata": {},
   "outputs": [],
   "source": [
    "#| export\n",
    "def get_cpu_memory():\n",
    "    mem = psutil.virtual_memory()\n",
    "    total_memory = mem.total // (1024**2)  # Convertir a MB\n",
    "    used_memory = (mem.total - mem.available) // (1024**2)  # Convertir a MB\n",
    "    percentage = mem.percent\n",
    "    return used_memory, total_memory, percentage"
   ]
  },
  {
   "cell_type": "code",
   "execution_count": null,
   "id": "9ec29075-d514-4602-8f4e-13cf52116d1a",
   "metadata": {},
   "outputs": [],
   "source": [
    "#| export\n",
    "def cpu_memory_status():\n",
    "    used, total, percentage = get_cpu_memory()\n",
    "    color_code = color_for_percentage(percentage)\n",
    "    bar = create_bar(percentage, color_code)\n",
    "    print(f\"CPU | Used mem: {used}\")\n",
    "    print(f\"CPU | Used mem: {total}\")\n",
    "    print(f\"CPU | Memory Usage: [{bar}] {color_code}{percentage}%\\033[0m\")"
   ]
  },
  {
   "cell_type": "code",
   "execution_count": null,
   "id": "98ffbfdf-c78e-4905-ad2b-6edaa7d8ebe5",
   "metadata": {},
   "outputs": [],
   "source": [
    "#| hide\n",
    "cpu_memory_status()"
   ]
  }
 ],
 "metadata": {
  "kernelspec": {
   "display_name": "Python 3 (ipykernel)",
   "language": "python",
   "name": "python3"
  }
 },
 "nbformat": 4,
 "nbformat_minor": 5
}

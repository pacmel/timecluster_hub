{
 "cells": [
  {
   "cell_type": "code",
   "execution_count": null,
   "id": "6ba168e2-7809-465f-848d-e650a7c8b3fb",
   "metadata": {},
   "outputs": [],
   "source": [
    "#| default_exp memory"
   ]
  },
  {
   "cell_type": "code",
   "execution_count": null,
   "id": "04805c26-53ed-4a70-9e59-541f427e6331",
   "metadata": {},
   "outputs": [],
   "source": [
    "#| hide\n",
    "%load_ext autoreload\n",
    "%autoreload 2"
   ]
  },
  {
   "cell_type": "code",
   "execution_count": null,
   "id": "720129cb-7a1d-4945-8409-0374435994d9",
   "metadata": {},
   "outputs": [],
   "source": [
    "#| export\n",
    "import subprocess\n",
    "import psutil\n",
    "import tsai.imports as ts"
   ]
  },
  {
   "cell_type": "markdown",
   "id": "c0dea860-627f-4114-87ab-31af5782863e",
   "metadata": {},
   "source": [
    "## Check GPU memory usage"
   ]
  },
  {
   "cell_type": "code",
   "execution_count": null,
   "id": "086c7e76-5d5c-413e-829d-9470eb97dc6b",
   "metadata": {},
   "outputs": [],
   "source": [
    "#| export\n",
    "def memMB2GB( mem : int) -> int: \n",
    "    return int(round(mem/1024, 2))\n",
    "def memb2GB( mem : int) -> int: \n",
    "    return int(round(mem/1024**3, 2))"
   ]
  },
  {
   "cell_type": "code",
   "execution_count": null,
   "id": "858513ee-c9be-40d0-a32c-9f368de95b8a",
   "metadata": {},
   "outputs": [],
   "source": [
    "#| export\n",
    "\n",
    "def get_decoded_memory(used_total = \"used\", device = None, print_flag = False):\n",
    "    if print_flag: print(\"Get \" + used_total + \" memory information\")\n",
    "    if device is None:\n",
    "        if print_flag: print(\"For all GPUs devices\")\n",
    "        mem_info = subprocess.check_output([\"nvidia-smi\", \"--query-gpu=memory.\"+used_total, \"--format=csv\"]).decode(\"ascii\").split(\"\\n\")[:-1][1:]\n",
    "        if print_flag: print(\"Memory info: \", mem_info)\n",
    "        mem_values = [int(x.split()[0]) for x in mem_info]\n",
    "        if print_flag: print(\"Memory values: \", mem_values)\n",
    "        return mem_values\n",
    "    else:\n",
    "        if print_flag: print(\"For device\", device)\n",
    "        return int(subprocess.check_output([\"nvidia-smi\", \"--query-gpu=memory.\"+used_total, \"--format=csv,noheader,nounits\", \"--id=\" + str(device)]).decode(\"ascii\").split(\"\\n\")[0])\n",
    "    \n",
    "def get_gpu_memory(\n",
    "    device : int = 0, \n",
    "    all : bool = False, \n",
    "    print_flag : bool = False\n",
    "):    \n",
    "    if all:\n",
    "        if print_flag: print(\"all\")\n",
    "        total_memory = ts.get_gpu_memory()\n",
    "        if print_flag: print(\"--> Get ussed memory info\")\n",
    "        used_memory = get_decoded_memory(\"used\", None, print_flag)\n",
    "        used_memory = [memMB2GB(x) for x in used_memory]\n",
    "        if print_flag: print(\"--> Compute array of percentages\")\n",
    "        percentage = [ round((x / y) * 100) for (x, y) in zip(used_memory, total_memory) ]\n",
    "    else:\n",
    "        if print_flag: print(\"one: device \", device)\n",
    "        total_memory = memMB2GB( get_decoded_memory(\"total\", device) )\n",
    "        used_memory  = memMB2GB( get_decoded_memory(\"used\", device) )\n",
    "        percentage = round((used_memory / total_memory) * 100)\n",
    "\n",
    "    if print_flag: print(\"Total \", total_memory, \" | Used \", used_memory, \" | Percentage \", percentage)\n",
    "    \n",
    "    return used_memory, total_memory, percentage"
   ]
  },
  {
   "cell_type": "code",
   "execution_count": null,
   "id": "43002983-0f4a-44d2-88dd-5e50edbb11c7",
   "metadata": {},
   "outputs": [
    {
     "name": "stdout",
     "output_type": "stream",
     "text": [
      "tsai:  [24.0, 24.0, 24.0]\n",
      "Final 1 device 0:  (0.0, 24.0, 0)\n",
      "Final all devices:  ([0.0, 0.76, 0.0], [24.0, 24.0, 24.0], [0, 3, 0])\n"
     ]
    }
   ],
   "source": [
    "#| hide\n",
    "print(\"tsai: \", ts.get_gpu_memory())\n",
    "print(\"Final 1 device 0: \", get_gpu_memory(device = 0, all = False, print_flag = False))\n",
    "print(\"Final all devices: \", get_gpu_memory(device = None, all = True, print_flag = False))"
   ]
  },
  {
   "cell_type": "code",
   "execution_count": null,
   "id": "92089555-4e31-4ec9-9b69-d59d1d667564",
   "metadata": {},
   "outputs": [],
   "source": [
    "#| export\n",
    "def color_for_percentage(percentage):\n",
    "    if percentage < 20:\n",
    "        return \"\\033[90m\"  # Gray\n",
    "    elif percentage < 40:\n",
    "        return \"\\033[94m\"  # Blue\n",
    "    elif percentage < 60:\n",
    "        return \"\\033[92m\"  # Green\n",
    "    elif percentage < 80:\n",
    "        return \"\\033[93m\"  # Orange\n",
    "    else:\n",
    "        return \"\\033[91m\"  # Red"
   ]
  },
  {
   "cell_type": "code",
   "execution_count": null,
   "id": "564346ee-da56-44a4-b7fb-4cd6d3114fe6",
   "metadata": {},
   "outputs": [],
   "source": [
    "#| export\n",
    "def create_bar(percentage, color_code, length=20):\n",
    "    filled_length = int(length * percentage // 100)\n",
    "    bar = \"█\" * filled_length + \"-\" * (length - filled_length)\n",
    "    return color_code + bar + \"\\033[0m\"  # Apply color and reset after bar"
   ]
  },
  {
   "cell_type": "code",
   "execution_count": null,
   "id": "f68318aa-1245-46c8-9c55-b3c328ad044b",
   "metadata": {},
   "outputs": [],
   "source": [
    "#| export\n",
    "def gpu_memory_status(device=0):\n",
    "    used, total, percentage = get_gpu_memory(device)\n",
    "    color_code = color_for_percentage(percentage)\n",
    "    bar = create_bar(percentage, color_code)\n",
    "    print(f\"GPU | Used mem: {used}\")\n",
    "    print(f\"GPU | Used mem: {total}\")\n",
    "    print(f\"GPU | Memory Usage: [{bar}] {color_code}{percentage}%\\033[0m\")"
   ]
  },
  {
   "cell_type": "markdown",
   "id": "31176b84-e66d-4dda-a987-99e0b1752568",
   "metadata": {},
   "source": [
    "## Check CPU memory usage"
   ]
  },
  {
   "cell_type": "code",
   "execution_count": null,
   "id": "43e103dc-a69b-403e-b6fd-6a03dbf80352",
   "metadata": {},
   "outputs": [],
   "source": [
    "#| export\n",
    "def get_cpu_memory():\n",
    "    mem = psutil.virtual_memory()\n",
    "    total_memory = memb2GB(mem.total)\n",
    "    used_memory = memb2GB(mem.total - mem.available)\n",
    "    percentage = mem.percent\n",
    "    return used_memory, total_memory, percentage"
   ]
  },
  {
   "cell_type": "code",
   "execution_count": null,
   "id": "b22c8994-b9b0-45eb-a952-cac840e6cd9d",
   "metadata": {},
   "outputs": [
    {
     "data": {
      "text/plain": [
       "(11, 251, 4.7)"
      ]
     },
     "execution_count": null,
     "metadata": {},
     "output_type": "execute_result"
    }
   ],
   "source": [
    "#| hide\n",
    "get_cpu_memory()"
   ]
  },
  {
   "cell_type": "code",
   "execution_count": null,
   "id": "9ec29075-d514-4602-8f4e-13cf52116d1a",
   "metadata": {},
   "outputs": [],
   "source": [
    "#| export\n",
    "def cpu_memory_status():\n",
    "    used, total, percentage = get_cpu_memory()\n",
    "    color_code = color_for_percentage(percentage)\n",
    "    bar = create_bar(percentage, color_code)\n",
    "    print(f\"CPU | Used mem: {used}\")\n",
    "    print(f\"CPU | Used mem: {total}\")\n",
    "    print(f\"CPU | Memory Usage: [{bar}] {color_code}{percentage}%\\033[0m\")"
   ]
  },
  {
   "cell_type": "code",
   "execution_count": null,
   "id": "98ffbfdf-c78e-4905-ad2b-6edaa7d8ebe5",
   "metadata": {},
   "outputs": [
    {
     "name": "stdout",
     "output_type": "stream",
     "text": [
      "CPU | Used mem: 11\n",
      "CPU | Used mem: 251\n",
      "CPU | Memory Usage: [\u001b[90m--------------------\u001b[0m] \u001b[90m4.7%\u001b[0m\n"
     ]
    }
   ],
   "source": [
    "#| hide\n",
    "cpu_memory_status()"
   ]
  }
 ],
 "metadata": {
  "kernelspec": {
   "display_name": "Python 3 (ipykernel)",
   "language": "python",
   "name": "python3"
  }
 },
 "nbformat": 4,
 "nbformat_minor": 5
}

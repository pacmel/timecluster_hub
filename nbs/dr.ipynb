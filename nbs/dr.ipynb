{
 "cells": [
  {
   "cell_type": "code",
   "execution_count": null,
   "metadata": {},
   "outputs": [],
   "source": [
    "#| default_exp dr"
   ]
  },
  {
   "cell_type": "code",
   "execution_count": null,
   "metadata": {},
   "outputs": [],
   "source": [
    "#| hide\n",
    "%load_ext autoreload\n",
    "%autoreload 2"
   ]
  },
  {
   "cell_type": "code",
   "execution_count": null,
   "metadata": {},
   "outputs": [],
   "source": [
    "#| export\n",
    "\n",
    "import subprocess\n",
    "def get_gpu_memory(device = 0):\n",
    "    total_memory = subprocess.check_output([\"nvidia-smi\", \"--query-gpu=memory.total\", \"--format=csv,noheader,nounits\", \"--id=\" + str(device)])\n",
    "    total_memory = int(total_memory.decode().split('\\n')[0])\n",
    "    used_memory = subprocess.check_output([\"nvidia-smi\", \"--query-gpu=memory.used\", \"--format=csv,noheader,nounits\",  \"--id=\" + str(device)])\n",
    "    used_memory = int(used_memory.decode().split('\\n')[0])\n",
    "\n",
    "    percentage = round((used_memory / total_memory) * 100)\n",
    "    return used_memory, total_memory, percentage\n",
    "\n",
    "def color_for_percentage(percentage):\n",
    "    if percentage < 20:\n",
    "        return \"\\033[90m\"  # Gray\n",
    "    elif percentage < 40:\n",
    "        return \"\\033[94m\"  # Blue\n",
    "    elif percentage < 60:\n",
    "        return \"\\033[92m\"  # Green\n",
    "    elif percentage < 80:\n",
    "        return \"\\033[93m\"  # Orange\n",
    "    else:\n",
    "        return \"\\033[91m\"  # Red\n",
    "        \n",
    "def create_bar(percentage, color_code, length=20):\n",
    "    filled_length = int(length * percentage // 100)\n",
    "    bar = \"█\" * filled_length + \"-\" * (length - filled_length)\n",
    "    return color_code + bar + \"\\033[0m\"  # Apply color and reset after bar\n",
    "\n",
    "def gpu_memory_status(device=0):\n",
    "    used, total, percentage = get_gpu_memory(device)\n",
    "    color_code = color_for_percentage(percentage)\n",
    "    bar = create_bar(percentage, color_code)\n",
    "    print(f\"Used mem: {used}\")\n",
    "    print(f\"Used mem: {total}\")\n",
    "    print(f\"Memory Usage: [{bar}] {color_code}{percentage}%\\033[0m\")"
   ]
  },
  {
   "cell_type": "markdown",
   "metadata": {},
   "source": [
    "# Dimensionality reduction"
   ]
  },
  {
   "cell_type": "code",
   "execution_count": null,
   "metadata": {},
   "outputs": [],
   "source": [
    "#| export\n",
    "import umap\n",
    "import cudf\n",
    "import cuml\n",
    "import pandas as pd\n",
    "import numpy as np\n",
    "from fastcore.all import *\n",
    "from dvats.imports import *\n",
    "from dvats.load import TSArtifact"
   ]
  },
  {
   "cell_type": "code",
   "execution_count": null,
   "metadata": {},
   "outputs": [],
   "source": [
    "#| export\n",
    "def check_compatibility(dr_ar:TSArtifact, enc_ar:TSArtifact):\n",
    "    \"Function to check that the artifact used by the encoder model and the artifact that is \\\n",
    "    going to be passed through the DR are compatible\"\n",
    "    try:\n",
    "        # Check that both artifacts have the same variables\n",
    "        chk_vars = dr_ar.metadata['TS']['vars'] == enc_ar.metadata['TS']['vars']\n",
    "        # Check that both artifacts have the same freq\n",
    "        chk_freq = dr_ar.metadata['TS']['freq'] == enc_ar.metadata['TS']['freq']\n",
    "        # Check that the dr artifact is not normalized (not normalized data has not the key normalization)\n",
    "        chk_norm = dr_ar.metadata['TS'].get('normalization') is None\n",
    "        # Check that the dr artifact has not missing values\n",
    "        chk_miss = dr_ar.metadata['TS']['has_missing_values'] == \"False\"\n",
    "        # Check all logical vars.\n",
    "        if chk_vars and chk_freq and chk_norm and chk_miss:\n",
    "            print(\"Artifacts are compatible.\")\n",
    "        else:\n",
    "            raise Exception\n",
    "    except Exception as e:\n",
    "        print(\"Artifacts are not compatible.\")\n",
    "        raise e\n",
    "    return None"
   ]
  },
  {
   "cell_type": "markdown",
   "metadata": {},
   "source": [
    "## Get projections (UMAP, T-SNET, PCA)"
   ]
  },
  {
   "cell_type": "code",
   "execution_count": null,
   "metadata": {},
   "outputs": [],
   "source": [
    "#| export\n",
    "#Comment this part after 4_seconds debugged\n",
    "import hashlib"
   ]
  },
  {
   "cell_type": "code",
   "execution_count": null,
   "metadata": {},
   "outputs": [],
   "source": [
    "#| export\n",
    "import warnings\n",
    "import sys\n",
    "from numba.core.errors import NumbaPerformanceWarning\n",
    "@delegates(cuml.UMAP)\n",
    "def get_UMAP_prjs(\n",
    "    input_data, \n",
    "    cpu=True, \n",
    "    print_flag = False, \n",
    "    check_memory_usage = True,\n",
    "    **kwargs\n",
    "):\n",
    "    \"Compute the projections of `input_data` using UMAP, with a configuration contained in `**kwargs`.\"\n",
    "    if print_flag: \n",
    "        print(\"--> get_UMAP_prjs\")\n",
    "        print(\"kwargs: \", kwargs)\n",
    "        sys.stdout.flush()\n",
    "        ####\n",
    "        checksum = hashlib.md5(input_data.tobytes()).hexdigest()\n",
    "        print(checksum)\n",
    "        ####\n",
    "        \n",
    "    if check_memory_usage: gpu_memory_status()\n",
    "    \n",
    "    warnings.filterwarnings(\"ignore\", category=NumbaPerformanceWarning) # silence NumbaPerformanceWarning\n",
    "    \n",
    "    #reducer = umap.UMAP(**kwargs) if cpu else cuml.UMAP(**kwargs)\n",
    "    if cpu:\n",
    "        print(\"-- umap.UMAP --\", cpu)\n",
    "        sys.stdout.flush()\n",
    "        reducer = umap.UMAP(**kwargs)\n",
    "    else:\n",
    "        print(\"-- cuml.UMAP --\", cpu)\n",
    "        sys.stdout.flush()\n",
    "        if 'random_state' in kwargs:\n",
    "            kwargs['random_state'] = np.uint64(kwargs['random_state'])\n",
    "        reducer = cuml.UMAP(**kwargs)\n",
    "    \n",
    "    if print_flag: \n",
    "        print(\"------- reducer --------\")\n",
    "        print(reducer)\n",
    "        print(reducer.get_params())\n",
    "        print(\"------- reducer --------\")\n",
    "        sys.stdout.flush()\n",
    "    \n",
    "    projections = reducer.fit_transform(input_data)\n",
    "    \n",
    "    if check_memory_usage: gpu_memory_status()\n",
    "    if print_flag: \n",
    "        checksum = hashlib.md5(projections.tobytes()).hexdigest()\n",
    "        print(\"prjs checksum \", checksum)\n",
    "        print(\"get_UMAP_prjs -->\")\n",
    "        sys.stdout.flush()\n",
    "    return projections"
   ]
  },
  {
   "cell_type": "code",
   "execution_count": null,
   "metadata": {},
   "outputs": [
    {
     "name": "stdout",
     "output_type": "stream",
     "text": [
      "--> get_UMAP_prjs\n",
      "kwargs:  {'random_state': 1234, 'n_neighbors': 3, 'min_dist': 0.1}\n",
      "1511f9e3c0ce668bd54ce23099714673\n",
      "Used mem: 2454\n",
      "Used mem: 24576\n",
      "Memory Usage: [\u001b[90m██------------------\u001b[0m] \u001b[90m10%\u001b[0m\n",
      "1234\n",
      "RandomState(MT19937)\n",
      "-- cuml.UMAP -- False\n",
      "------- reducer --------\n",
      "UMAP()\n",
      "{'handle': <pylibraft.common.handle.Handle object>, 'verbose': 4, 'output_type': 'input', 'n_neighbors': 3, 'n_components': 2, 'n_epochs': None, 'learning_rate': 1.0, 'min_dist': 0.1, 'spread': 1.0, 'set_op_mix_ratio': 1.0, 'local_connectivity': 1.0, 'repulsion_strength': 1.0, 'negative_sample_rate': 5, 'transform_queue_size': 4.0, 'init': 'spectral', 'a': 1.5769434601962196, 'b': 0.8950608779914887, 'target_n_neighbors': -1, 'target_weight': 0.5, 'target_metric': 'categorical', 'hash_input': False, 'random_state': 822569775, 'callback': None, 'metric': 'euclidean', 'metric_kwds': None, 'precomputed_knn': None}\n",
      "------- reducer --------\n",
      "Used mem: 2462\n",
      "Used mem: 24576\n",
      "Memory Usage: [\u001b[90m██------------------\u001b[0m] \u001b[90m10%\u001b[0m\n",
      "prjs checksum  51038866661e8b8943d9153570a0567f\n",
      "get_UMAP_prjs -->\n"
     ]
    }
   ],
   "source": [
    "#| slow\n",
    "foo = np.random.rand(5, 10)\n",
    "bar = get_UMAP_prjs(\n",
    "    foo, \n",
    "    cpu=False, \n",
    "    print_flag = True,\n",
    "    check_memory_usage = True,\n",
    "    random_state = 1234, #822569775\n",
    "    n_neighbors=3, \n",
    "    min_dist=0.1\n",
    ")\n",
    "test_eq(bar.shape, (foo.shape[0], 2))"
   ]
  },
  {
   "cell_type": "code",
   "execution_count": null,
   "metadata": {},
   "outputs": [
    {
     "name": "stdout",
     "output_type": "stream",
     "text": [
      "--> get_UMAP_prjs\n",
      "kwargs:  {'n_neighbors': 3, 'min_dist': 0.1}\n",
      "175a6ecb96ef4de7bcbf326ae624d879\n",
      "Used mem: 2428\n",
      "Used mem: 24576\n",
      "Memory Usage: [\u001b[90m██------------------\u001b[0m] \u001b[90m10%\u001b[0m\n",
      "-- cuml.UMAP -- False\n",
      "------- reducer --------\n",
      "UMAP()\n",
      "{'handle': <pylibraft.common.handle.Handle object>, 'verbose': 4, 'output_type': 'input', 'n_neighbors': 3, 'n_components': 2, 'n_epochs': None, 'learning_rate': 1.0, 'min_dist': 0.1, 'spread': 1.0, 'set_op_mix_ratio': 1.0, 'local_connectivity': 1.0, 'repulsion_strength': 1.0, 'negative_sample_rate': 5, 'transform_queue_size': 4.0, 'init': 'spectral', 'a': 1.5769434601962196, 'b': 0.8950608779914887, 'target_n_neighbors': -1, 'target_weight': 0.5, 'target_metric': 'categorical', 'hash_input': False, 'random_state': 2997075094, 'callback': None, 'metric': 'euclidean', 'metric_kwds': None, 'precomputed_knn': None}\n",
      "------- reducer --------\n",
      "Used mem: 2438\n",
      "Used mem: 24576\n",
      "Memory Usage: [\u001b[90m██------------------\u001b[0m] \u001b[90m10%\u001b[0m\n",
      "prjs checksum  28f08a32beaf2872fd87d57b643a166d\n",
      "get_UMAP_prjs -->\n"
     ]
    }
   ],
   "source": [
    "#| slow\n",
    "foo = np.random.rand(5, 10)\n",
    "bar = get_UMAP_prjs(\n",
    "    foo, \n",
    "    cpu=True, \n",
    "    print_flag = True,\n",
    "    check_memory_usage = True\n",
    "    n_neighbors=3, \n",
    "    min_dist=0.1\n",
    ")\n",
    "test_eq(bar.shape, (foo.shape[0], 2))"
   ]
  },
  {
   "cell_type": "markdown",
   "metadata": {},
   "source": [
    "If you want to have consistent results across executions, use `random_state`"
   ]
  },
  {
   "cell_type": "code",
   "execution_count": null,
   "metadata": {},
   "outputs": [
    {
     "name": "stdout",
     "output_type": "stream",
     "text": [
      "Used mem: 1944\n",
      "Used mem: 24576\n",
      "Memory Usage: [\u001b[90m█-------------------\u001b[0m] \u001b[90m8%\u001b[0m\n",
      "-- umap.UMAP -- True\n"
     ]
    },
    {
     "name": "stderr",
     "output_type": "stream",
     "text": [
      "/home/macu/env/lib/python3.10/site-packages/umap/umap_.py:1943: UserWarning: n_jobs value -1 overridden to 1 by setting random_state. Use no seed for parallelism.\n",
      "  warn(f\"n_jobs value {self.n_jobs} overridden to 1 by setting random_state. Use no seed for parallelism.\")\n"
     ]
    },
    {
     "name": "stdout",
     "output_type": "stream",
     "text": [
      "Used mem: 1944\n",
      "Used mem: 24576\n",
      "Memory Usage: [\u001b[90m█-------------------\u001b[0m] \u001b[90m8%\u001b[0m\n",
      "Used mem: 1944\n",
      "Used mem: 24576\n",
      "Memory Usage: [\u001b[90m█-------------------\u001b[0m] \u001b[90m8%\u001b[0m\n",
      "-- umap.UMAP -- True\n"
     ]
    },
    {
     "name": "stderr",
     "output_type": "stream",
     "text": [
      "/home/macu/env/lib/python3.10/site-packages/umap/umap_.py:1943: UserWarning: n_jobs value -1 overridden to 1 by setting random_state. Use no seed for parallelism.\n",
      "  warn(f\"n_jobs value {self.n_jobs} overridden to 1 by setting random_state. Use no seed for parallelism.\")\n"
     ]
    },
    {
     "name": "stdout",
     "output_type": "stream",
     "text": [
      "Used mem: 1944\n",
      "Used mem: 24576\n",
      "Memory Usage: [\u001b[90m█-------------------\u001b[0m] \u001b[90m8%\u001b[0m\n"
     ]
    }
   ],
   "source": [
    "#| hide\n",
    "bar = get_UMAP_prjs(foo, cpu=True, n_neighbors=3, random_state=1234)\n",
    "baz = get_UMAP_prjs(foo, cpu=True, n_neighbors=3, random_state=1234)\n",
    "test_eq(bar, baz)"
   ]
  },
  {
   "cell_type": "code",
   "execution_count": null,
   "metadata": {},
   "outputs": [],
   "source": [
    "#| export\n",
    "@delegates(cuml.PCA)\n",
    "def get_PCA_prjs(X, cpu=False, **kwargs):\n",
    "    r\"\"\"\n",
    "    Computes PCA projections of X\n",
    "    \"\"\"\n",
    "    if cpu:\n",
    "        raise NotImplementedError\n",
    "    else:\n",
    "        reducer = cuml.PCA(**kwargs)\n",
    "    projections = reducer.fit_transform(X)\n",
    "    return projections"
   ]
  },
  {
   "cell_type": "code",
   "execution_count": null,
   "metadata": {},
   "outputs": [],
   "source": [
    "#| hide\n",
    "# Test the function get_PCA_prjs\n",
    "foo = np.random.rand(5, 10)\n",
    "bar = get_PCA_prjs(foo, cpu=False, n_components=2)"
   ]
  },
  {
   "cell_type": "code",
   "execution_count": null,
   "metadata": {},
   "outputs": [],
   "source": [
    "#| export\n",
    "@delegates(cuml.TSNE)\n",
    "def get_TSNE_prjs(X, cpu=False, **kwargs):\n",
    "    r\"\"\"\n",
    "    Computes TSNE projections of X\n",
    "    \"\"\"\n",
    "    if cpu:\n",
    "        raise NotImplementedError\n",
    "    else:\n",
    "        reducer = cuml.TSNE(**kwargs)\n",
    "    projections = reducer.fit_transform(X)\n",
    "    return projections"
   ]
  },
  {
   "cell_type": "code",
   "execution_count": null,
   "metadata": {},
   "outputs": [
    {
     "name": "stderr",
     "output_type": "stream",
     "text": [
      "/home/macu/env/lib/python3.10/site-packages/cuml/internals/api_decorators.py:342: UserWarning: Starting from version 22.04, the default method of TSNE is 'fft'.\n",
      "  return func(**kwargs)\n"
     ]
    }
   ],
   "source": [
    "#| Test the function get_TSNE_prjs\n",
    "foo = np.random.rand(90, 10)\n",
    "bar = get_TSNE_prjs(foo, cpu=False)"
   ]
  },
  {
   "cell_type": "markdown",
   "metadata": {},
   "source": [
    "## Export "
   ]
  },
  {
   "cell_type": "code",
   "execution_count": null,
   "metadata": {},
   "outputs": [],
   "source": [
    "#| export \n",
    "\n",
    "from sklearn.metrics import silhouette_score\n",
    "def cluster_score(prjs, clusters_labels, print_flag):\n",
    "    score = silhouette_score(prjs, clusters_labels)\n",
    "    if print_flag: print(\"Silhouette_score:\", score)\n",
    "    return score"
   ]
  },
  {
   "cell_type": "code",
   "execution_count": null,
   "metadata": {},
   "outputs": [
    {
     "data": {
      "text/html": [
       "\n",
       "                <audio  controls=\"controls\" autoplay=\"autoplay\">\n",
       "                    <source src=\"data:audio/wav;base64,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\" type=\"audio/wav\" />\n",
       "                    Your browser does not support the audio element.\n",
       "                </audio>\n",
       "              "
      ],
      "text/plain": [
       "<IPython.lib.display.Audio object>"
      ]
     },
     "metadata": {},
     "output_type": "display_data"
    }
   ],
   "source": [
    "#| hide\n",
    "#from nbdev.export import notebook2script\n",
    "#notebook2script()\n",
    "beep(1)"
   ]
  }
 ],
 "metadata": {
  "kernelspec": {
   "display_name": "Python 3 (ipykernel)",
   "language": "python",
   "name": "python3"
  }
 },
 "nbformat": 4,
 "nbformat_minor": 4
}

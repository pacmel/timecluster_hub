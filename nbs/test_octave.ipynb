{
 "cells": [
  {
   "cell_type": "code",
   "execution_count": null,
   "id": "92ca1e71-3ee5-4fae-8961-f4f943983062",
   "metadata": {},
   "outputs": [
    {
     "name": "stdout",
     "output_type": "stream",
     "text": [
      "\u001b[?2004l\n",
      "\u001b[?2004h\u001b[?2004l\n",
      "\u001b[?2004h\u001b[?2004l\n",
      "\u001b[?2004h\u001b[?2004l\n",
      "\u001b[?2004h\u001b[?2004l\n",
      "\u001b[?2004h\u001b[?2004l\n",
      "\u001b[?2004h\u001b[?2004l\n",
      "\u001b[?2004h\u001b[?2004l\n",
      "\u001b[?2004h\u001b[?2004l\n",
      "\u001b[?2004h\u001b[?2004l\n",
      "\u001b[?2004h\u001b[?2004l\n",
      "\u001b[?2004h\u001b[?2004l\n",
      "\u001b[?2004h\u001b[?2004l\n",
      "\u001b[?2004h\u001b[?2004l\n",
      "\u001b[?2004h"
     ]
    }
   ],
   "source": [
    "% URL del archivo CSV\n",
    "url = 'https://zenodo.org/record/4273921/files/STUMPY_Basics_steamgen.csv?download=1';\n",
    "\n",
    "% Nombre temporal del archivo local para guardar los datos descargados\n",
    "outfile = 'tmp';\n",
    "\n",
    "% Descargar el archivo\n",
    "urlwrite(url, outfile);\n",
    "\n",
    "% Leer los datos del archivo CSV. \n",
    "% Usar 'csv2cell' si esperas datos no numéricos o encabezados.\n",
    "data = csvread(outfile);\n",
    "\n",
    "% Ahora 'data' contiene los datos del archivo CSV"
   ]
  },
  {
   "cell_type": "code",
   "execution_count": null,
   "id": "6d9764c0-0831-4664-bc62-781b3855d1d7",
   "metadata": {},
   "outputs": [
    {
     "name": "stdout",
     "output_type": "stream",
     "text": [
      "\u001b[?2004l\n",
      "\u001b[?2004h"
     ]
    }
   ],
   "source": [
    "data = data(:,4);"
   ]
  },
  {
   "cell_type": "code",
   "execution_count": null,
   "id": "14039524-6cf9-4c48-87ed-65dc9d7385bb",
   "metadata": {},
   "outputs": [
    {
     "name": "stdout",
     "output_type": "stream",
     "text": [
      "\u001b[?2004l\n",
      "\u001b[?2004h\u001b[?2004l\n",
      "\u001b[?2004h\u001b[?2004l\n",
      "\u001b[?2004h\u001b[?2004l\n",
      "\u001b[?2004h\u001b[?2004l\n",
      "\u001b[?2004h\u001b[?2004l\n",
      "\u001b[?2004h\u001b[?2004l\n",
      "\u001b[?2004h"
     ]
    }
   ],
   "source": [
    "home_dir = getenv('HOME');\n",
    "mplot_path = strcat(home_dir, '/work/nbs/mplot');\n",
    "addpath(mplot_path);\n",
    "chdir(mplot_path);\n",
    "register_graphics_toolkit('fltk')\n",
    "graphics_toolkit('fltk')\n",
    "set(0, 'defaultfigurevisible', 'on');"
   ]
  },
  {
   "cell_type": "code",
   "execution_count": null,
   "id": "90efdedd-b116-4f37-b510-8b6f4b6e7989",
   "metadata": {},
   "outputs": [
    {
     "name": "stdout",
     "output_type": "stream",
     "text": [
      "\u001b[?2004l\n",
      "\u001b[?2004h\u001b[?2004l\n",
      "\u001b[?2004h\u001b[?2004l\n",
      "\u001b[?2004h\u001b[?2004l\n",
      "\u001b[?2004h\u001b[?2004l\n",
      "\u001b[?2004h\u001b[?2004l\n",
      "\u001b[?2004h\u001b[?2004l\n",
      "\u001b[?2004h\u001b[?2004l\n",
      "plotting inside\n",
      "1\n",
      "Multires inside\n",
      "0\n",
      "MultiRes option is false\n",
      "minlag\n",
      "0\n",
      "warning: Computing Self-join similarity matrix\n",
      "warning: called from\n",
      "    SPLAT at line 73 column 5\n",
      "\n",
      "--> ADFG A DG DGF2DGF\n",
      "--> Output similarityMatrix\n",
      "\n",
      "\u001b[?2004h\n",
      "\n",
      "\u001b[?2004h"
     ]
    }
   ],
   "source": [
    "distances = SPLAT(\n",
    "    data = data, \n",
    "    subsequence_len = 640,\n",
    "    timeSeriesB = NaN,\n",
    "    plotting = 1,\n",
    "    multiresolution = 0,\n",
    "    calibration = 0\n",
    ")"
   ]
  }
 ],
 "metadata": {
  "kernelspec": {
   "display_name": "Octave",
   "language": "octave",
   "name": "octave"
  },
  "language_info": {
   "file_extension": ".m",
   "help_links": [
    {
     "text": "GNU Octave",
     "url": "https://www.gnu.org/software/octave/support.html"
    },
    {
     "text": "Octave Kernel",
     "url": "https://github.com/Calysto/octave_kernel"
    },
    {
     "text": "MetaKernel Magics",
     "url": "https://metakernel.readthedocs.io/en/latest/source/README.html"
    }
   ],
   "mimetype": "text/x-octave",
   "name": "octave",
   "version": "7.3.0"
  }
 },
 "nbformat": 4,
 "nbformat_minor": 5
}

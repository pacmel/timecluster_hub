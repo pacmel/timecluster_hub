{
 "cells": [
  {
   "cell_type": "code",
   "execution_count": 1,
   "id": "6cf1ccad-ee34-4b5a-b893-29095149689f",
   "metadata": {},
   "outputs": [
    {
     "name": "stdout",
     "output_type": "stream",
     "text": [
      "patata\n"
     ]
    }
   ],
   "source": [
    "print(\"patata\")"
   ]
  },
  {
   "cell_type": "code",
   "execution_count": 2,
   "id": "97b50807-aeed-4b25-9a16-1cebe511cdd9",
   "metadata": {},
   "outputs": [],
   "source": [
    "import torch"
   ]
  },
  {
   "cell_type": "code",
   "execution_count": 6,
   "id": "f93390de-cfdd-44a4-9641-7bc0c737a942",
   "metadata": {},
   "outputs": [],
   "source": [
    "random = torch.rand(20,20,4)"
   ]
  },
  {
   "cell_type": "code",
   "execution_count": 7,
   "id": "ab86bcc1-13eb-4722-981f-cf15d8a8b0cf",
   "metadata": {},
   "outputs": [
    {
     "data": {
      "text/plain": [
       "True"
      ]
     },
     "execution_count": 7,
     "metadata": {},
     "output_type": "execute_result"
    }
   ],
   "source": [
    "random = torch.rand(20,20,4)\n",
    "torch.cuda.is_available()"
   ]
  },
  {
   "cell_type": "code",
   "execution_count": 11,
   "id": "4492a983-fde9-4d2c-ad31-a63e7135b963",
   "metadata": {},
   "outputs": [
    {
     "data": {
      "text/plain": [
       "tensor([[[2.0276e-01, 7.6969e-01, 9.5406e-01, 6.9431e-01],\n",
       "         [1.9978e-01, 2.7677e-01, 1.0253e-01, 2.3154e-01],\n",
       "         [7.7098e-02, 4.3269e-01, 5.6024e-01, 9.1637e-01],\n",
       "         ...,\n",
       "         [1.9940e-01, 4.1677e-01, 3.9858e-01, 2.9445e-01],\n",
       "         [3.1482e-01, 6.6884e-01, 5.9021e-01, 1.3032e-01],\n",
       "         [8.0774e-01, 6.8321e-01, 5.7389e-01, 7.9571e-01]],\n",
       "\n",
       "        [[2.1625e-01, 7.8038e-01, 7.8888e-01, 3.5687e-01],\n",
       "         [5.8089e-01, 2.1914e-01, 5.8874e-02, 7.2023e-02],\n",
       "         [9.8429e-01, 6.1127e-01, 4.2872e-01, 3.3377e-01],\n",
       "         ...,\n",
       "         [6.8625e-01, 5.0012e-01, 6.2159e-01, 8.5379e-01],\n",
       "         [1.8557e-02, 3.5692e-01, 5.6478e-01, 6.6298e-01],\n",
       "         [6.6136e-01, 9.7533e-01, 4.9671e-01, 4.1326e-01]],\n",
       "\n",
       "        [[9.2576e-01, 3.9824e-01, 4.2082e-01, 1.8736e-01],\n",
       "         [3.0267e-01, 4.6901e-02, 2.5956e-01, 1.8793e-01],\n",
       "         [6.3211e-01, 1.0351e-01, 1.7345e-01, 1.8896e-01],\n",
       "         ...,\n",
       "         [5.7373e-01, 4.1415e-02, 1.1895e-01, 8.7711e-01],\n",
       "         [9.2166e-01, 1.3948e-01, 6.9622e-01, 4.7765e-01],\n",
       "         [1.0413e-02, 1.6536e-01, 1.2747e-01, 2.6979e-01]],\n",
       "\n",
       "        ...,\n",
       "\n",
       "        [[6.5367e-01, 3.8963e-01, 6.8349e-04, 9.8269e-01],\n",
       "         [9.0794e-01, 6.9774e-01, 8.6689e-01, 4.1572e-01],\n",
       "         [2.8016e-01, 9.1271e-01, 5.3905e-01, 6.2166e-01],\n",
       "         ...,\n",
       "         [1.5364e-01, 4.5878e-01, 6.3626e-02, 6.1407e-01],\n",
       "         [5.7246e-01, 1.8758e-02, 1.5539e-01, 6.3946e-01],\n",
       "         [5.4521e-01, 8.1794e-01, 7.2735e-01, 1.0123e-01]],\n",
       "\n",
       "        [[1.9008e-01, 4.9306e-01, 2.1354e-02, 9.4985e-01],\n",
       "         [8.3057e-01, 3.3801e-01, 3.5121e-01, 7.4201e-01],\n",
       "         [4.5057e-01, 1.2782e-01, 5.4056e-02, 8.2224e-01],\n",
       "         ...,\n",
       "         [7.9044e-01, 9.5951e-01, 4.3515e-01, 8.2687e-01],\n",
       "         [1.0755e-01, 1.9125e-01, 4.0799e-01, 1.1414e-01],\n",
       "         [4.4304e-01, 6.1683e-02, 9.2788e-01, 4.1867e-01]],\n",
       "\n",
       "        [[6.2737e-01, 9.2005e-01, 6.3041e-01, 8.2711e-01],\n",
       "         [6.4822e-01, 2.8693e-01, 1.3917e-01, 2.4372e-03],\n",
       "         [8.0293e-01, 8.5212e-01, 3.3761e-02, 1.2724e-01],\n",
       "         ...,\n",
       "         [3.0854e-02, 9.3368e-02, 8.4629e-02, 6.5840e-01],\n",
       "         [1.1216e-01, 6.1892e-01, 3.1077e-02, 2.9145e-01],\n",
       "         [1.9164e-01, 6.5620e-01, 1.0753e-01, 9.3413e-01]]])"
      ]
     },
     "execution_count": 11,
     "metadata": {},
     "output_type": "execute_result"
    }
   ],
   "source": [
    "random.to(\"cpu\")"
   ]
  },
  {
   "cell_type": "code",
   "execution_count": 10,
   "id": "bb691ab2-0602-418e-ad59-a3cdc66e9c20",
   "metadata": {},
   "outputs": [
    {
     "ename": "RuntimeError",
     "evalue": "The size of tensor a (20) must match the size of tensor b (13) at non-singleton dimension 0",
     "output_type": "error",
     "traceback": [
      "\u001b[0;31m---------------------------------------------------------------------------\u001b[0m",
      "\u001b[0;31mRuntimeError\u001b[0m                              Traceback (most recent call last)",
      "Cell \u001b[0;32mIn[10], line 2\u001b[0m\n\u001b[1;32m      1\u001b[0m random2 \u001b[38;5;241m=\u001b[39m torch\u001b[38;5;241m.\u001b[39mrand(\u001b[38;5;241m13\u001b[39m,\u001b[38;5;241m1\u001b[39m,\u001b[38;5;241m1\u001b[39m)\n\u001b[0;32m----> 2\u001b[0m \u001b[43mrandom\u001b[49m\u001b[38;5;241;43m*\u001b[39;49m\u001b[43mrandom2\u001b[49m\n",
      "\u001b[0;31mRuntimeError\u001b[0m: The size of tensor a (20) must match the size of tensor b (13) at non-singleton dimension 0"
     ]
    }
   ],
   "source": [
    "random2 = torch.rand(13,1,1)\n",
    "random*random2"
   ]
  }
 ],
 "metadata": {
  "kernelspec": {
   "display_name": "Python 3 (ipykernel)",
   "language": "python",
   "name": "python3"
  },
  "language_info": {
   "codemirror_mode": {
    "name": "ipython",
    "version": 3
   },
   "file_extension": ".py",
   "mimetype": "text/x-python",
   "name": "python",
   "nbconvert_exporter": "python",
   "pygments_lexer": "ipython3",
   "version": "3.10.13"
  }
 },
 "nbformat": 4,
 "nbformat_minor": 5
}

{
 "cells": [
  {
   "cell_type": "markdown",
   "id": "9a7a2c58-8905-429d-93d9-8de063251016",
   "metadata": {},
   "source": [
    "# MPlots - Eamonn\n",
    "> Following Eammon samples of Motif discovery"
   ]
  },
  {
   "cell_type": "markdown",
   "id": "ea238cdd-3466-41c7-8c06-8b4c3e89bb2c",
   "metadata": {},
   "source": [
    "## Insects"
   ]
  },
  {
   "cell_type": "markdown",
   "id": "f9a0cac3-0e3b-4eaa-ab95-8b82e4c7c240",
   "metadata": {},
   "source": [
    "### Download  & convert dataset"
   ]
  },
  {
   "cell_type": "code",
   "execution_count": 8,
   "id": "58548185-fc4b-4a99-ba42-5a7083e0d6d6",
   "metadata": {},
   "outputs": [],
   "source": [
    "from dvats.load import download_file_from_google_drive, unzip_mat, mat2csv, zip_contents\n",
    "import os"
   ]
  },
  {
   "cell_type": "code",
   "execution_count": 4,
   "id": "37feeba8-ff86-45e0-bace-41ddba5bfdf2",
   "metadata": {},
   "outputs": [],
   "source": [
    "file_id = '1qq1z2mVRd7PzDqX0TDAwY7BcWVjnXUfQ'\n",
    "data_path = os.path.expanduser('~/data')\n",
    "destination = os.path.join(data_path, 'InsectData-fig11.zip')"
   ]
  },
  {
   "cell_type": "code",
   "execution_count": 12,
   "id": "4065098c-f300-40c6-af77-5cb1cdacbed6",
   "metadata": {},
   "outputs": [
    {
     "name": "stdout",
     "output_type": "stream",
     "text": [
      "/home/macu/data/InsectData-fig11.zip\n",
      "File downloaded as: /home/macu/data/InsectData-fig11.zip\n",
      "--> Unzip_mat all /home/macu/data/InsectData-fig11.zip /home/macu/data  True\n",
      "['Insect_one_million.mat']\n",
      "['Insect_one_million.mat'] extracted to /home/macu/data\n"
     ]
    }
   ],
   "source": [
    "download_file_from_google_drive(file_id, destination)\n",
    "mat_files = zip_contents(destination)\n",
    "print(unzip_mat('all', destination, data_path))"
   ]
  },
  {
   "cell_type": "code",
   "execution_count": 13,
   "id": "b2ddefb9-4c8f-4d19-86fd-22153ec44f58",
   "metadata": {},
   "outputs": [],
   "source": [
    "mat_name = mat_files[0]"
   ]
  },
  {
   "cell_type": "code",
   "execution_count": 16,
   "id": "5dade808-23c5-4ee8-8bee-c20c8208ef4a",
   "metadata": {},
   "outputs": [
    {
     "name": "stdout",
     "output_type": "stream",
     "text": [
      "(1000000, 1)\n"
     ]
    },
    {
     "data": {
      "text/html": [
       "<div>\n",
       "<style scoped>\n",
       "    .dataframe tbody tr th:only-of-type {\n",
       "        vertical-align: middle;\n",
       "    }\n",
       "\n",
       "    .dataframe tbody tr th {\n",
       "        vertical-align: top;\n",
       "    }\n",
       "\n",
       "    .dataframe thead th {\n",
       "        text-align: right;\n",
       "    }\n",
       "</style>\n",
       "<table border=\"1\" class=\"dataframe\">\n",
       "  <thead>\n",
       "    <tr style=\"text-align: right;\">\n",
       "      <th></th>\n",
       "      <th>Insect_one_million</th>\n",
       "    </tr>\n",
       "  </thead>\n",
       "  <tbody>\n",
       "    <tr>\n",
       "      <th>0</th>\n",
       "      <td>0.236820</td>\n",
       "    </tr>\n",
       "    <tr>\n",
       "      <th>1</th>\n",
       "      <td>0.236820</td>\n",
       "    </tr>\n",
       "    <tr>\n",
       "      <th>2</th>\n",
       "      <td>0.238040</td>\n",
       "    </tr>\n",
       "    <tr>\n",
       "      <th>3</th>\n",
       "      <td>0.206300</td>\n",
       "    </tr>\n",
       "    <tr>\n",
       "      <th>4</th>\n",
       "      <td>0.026855</td>\n",
       "    </tr>\n",
       "  </tbody>\n",
       "</table>\n",
       "</div>"
      ],
      "text/plain": [
       "   Insect_one_million\n",
       "0            0.236820\n",
       "1            0.236820\n",
       "2            0.238040\n",
       "3            0.206300\n",
       "4            0.026855"
      ]
     },
     "metadata": {},
     "output_type": "display_data"
    },
    {
     "name": "stdout",
     "output_type": "stream",
     "text": [
      "Matlab matrix 'Insect_one_million' converted to CSV in: ~/data/Insect_one_million.csv\n"
     ]
    }
   ],
   "source": [
    "mat2csv(data_path+\"/\"+mat_name, print_flag = True)"
   ]
  },
  {
   "cell_type": "code",
   "execution_count": 17,
   "id": "554625bc-8a11-4552-aa96-5da90049e4d3",
   "metadata": {},
   "outputs": [],
   "source": [
    "import pandas as pd"
   ]
  },
  {
   "cell_type": "code",
   "execution_count": 18,
   "id": "69b2c810-bbeb-47cf-b2ad-5902221a040f",
   "metadata": {},
   "outputs": [
    {
     "data": {
      "text/plain": [
       "'Insect_one_million'"
      ]
     },
     "execution_count": 18,
     "metadata": {},
     "output_type": "execute_result"
    }
   ],
   "source": [
    "mat_name = mat_name.split('.')[0]\n",
    "mat_name"
   ]
  },
  {
   "cell_type": "code",
   "execution_count": 20,
   "id": "f74e16d8-32c4-4149-8bea-dbe9ee113e37",
   "metadata": {},
   "outputs": [],
   "source": [
    "df = pd.read_csv(data_path+'/'+mat_name+'.csv')"
   ]
  },
  {
   "cell_type": "code",
   "execution_count": 21,
   "id": "ff015e5f-7b4c-4df6-8289-e5382cc5c183",
   "metadata": {},
   "outputs": [
    {
     "name": "stdout",
     "output_type": "stream",
     "text": [
      "(1000000, 1)\n"
     ]
    },
    {
     "data": {
      "text/html": [
       "<div>\n",
       "<style scoped>\n",
       "    .dataframe tbody tr th:only-of-type {\n",
       "        vertical-align: middle;\n",
       "    }\n",
       "\n",
       "    .dataframe tbody tr th {\n",
       "        vertical-align: top;\n",
       "    }\n",
       "\n",
       "    .dataframe thead th {\n",
       "        text-align: right;\n",
       "    }\n",
       "</style>\n",
       "<table border=\"1\" class=\"dataframe\">\n",
       "  <thead>\n",
       "    <tr style=\"text-align: right;\">\n",
       "      <th></th>\n",
       "      <th>Insect_one_million</th>\n",
       "    </tr>\n",
       "  </thead>\n",
       "  <tbody>\n",
       "    <tr>\n",
       "      <th>0</th>\n",
       "      <td>0.236820</td>\n",
       "    </tr>\n",
       "    <tr>\n",
       "      <th>1</th>\n",
       "      <td>0.236820</td>\n",
       "    </tr>\n",
       "    <tr>\n",
       "      <th>2</th>\n",
       "      <td>0.238040</td>\n",
       "    </tr>\n",
       "    <tr>\n",
       "      <th>3</th>\n",
       "      <td>0.206300</td>\n",
       "    </tr>\n",
       "    <tr>\n",
       "      <th>4</th>\n",
       "      <td>0.026855</td>\n",
       "    </tr>\n",
       "  </tbody>\n",
       "</table>\n",
       "</div>"
      ],
      "text/plain": [
       "   Insect_one_million\n",
       "0            0.236820\n",
       "1            0.236820\n",
       "2            0.238040\n",
       "3            0.206300\n",
       "4            0.026855"
      ]
     },
     "metadata": {},
     "output_type": "display_data"
    }
   ],
   "source": [
    "print(df.shape)\n",
    "display(df.head(5))"
   ]
  }
 ],
 "metadata": {
  "kernelspec": {
   "display_name": "Python 3 (ipykernel)",
   "language": "python",
   "name": "python3"
  },
  "language_info": {
   "codemirror_mode": {
    "name": "ipython",
    "version": 3
   },
   "file_extension": ".py",
   "mimetype": "text/x-python",
   "name": "python",
   "nbconvert_exporter": "python",
   "pygments_lexer": "ipython3",
   "version": "3.10.13"
  }
 },
 "nbformat": 4,
 "nbformat_minor": 5
}

{
 "cells": [
  {
   "cell_type": "code",
   "execution_count": null,
   "id": "a10bcb41-cd4d-4419-b644-91e80ea73aa2",
   "metadata": {},
   "outputs": [
    {
     "name": "stdout",
     "output_type": "stream",
     "text": [
      "\u001b[?2004l\n",
      "\n",
      "\n",
      "\n",
      "\u001b[?2004h\n",
      "\u001b[?2004l\n",
      "\n",
      "\n",
      "\n",
      "\u001b[?2004h\n",
      "\u001b[?2004l\n",
      "\n",
      "\n",
      "\n",
      "\u001b[?2004h\n",
      "\u001b[?2004l\n",
      "\u001b[?2004h\u001b[?2004l\n",
      "\u001b[?2004h\u001b[?2004l\n",
      "\n",
      "\n",
      "\n",
      "\u001b[?2004h\n",
      "\u001b[?2004l\n",
      "\n",
      "\n",
      "\n",
      "\u001b[?2004h\n",
      "\u001b[?2004l\n",
      "\n",
      "\n",
      "\n",
      "\u001b[?2004h\n"
     ]
    }
   ],
   "source": [
    "similarityMatrix = [1, 2; 3, NaN];\n",
    "subseqLen = 5;"
   ]
  },
  {
   "cell_type": "code",
   "execution_count": null,
   "id": "716ce770-ceed-4732-8d2a-487904885d87",
   "metadata": {},
   "outputs": [
    {
     "name": "stdout",
     "output_type": "stream",
     "text": [
      "\u001b[?2004l\n",
      "error: max: cannot compute max (matrix, sq_string)\n",
      "\u001b[?2004h"
     ]
    }
   ],
   "source": [
    "max(similarityMatrix, 'includenans')"
   ]
  },
  {
   "cell_type": "code",
   "execution_count": null,
   "id": "d8616551-63e0-446b-be02-4034ff2c26f2",
   "metadata": {},
   "outputs": [
    {
     "name": "stdout",
     "output_type": "stream",
     "text": [
      "\u001b[?2004l\n",
      "\u001b[?2004h"
     ]
    }
   ],
   "source": [
    "result = max(0, 2 * (subseqLen - similarityMatrix));"
   ]
  },
  {
   "cell_type": "code",
   "execution_count": null,
   "id": "694b8fb7-9382-4a03-a361-c6a151b76124",
   "metadata": {},
   "outputs": [
    {
     "name": "stdout",
     "output_type": "stream",
     "text": [
      "\u001b[?2004l\n",
      "warning: max: second argument is ignored\n",
      "\u001b[?2004h"
     ]
    }
   ],
   "source": [
    "similarityMatrix = sqrt(max(0, 2 * (subseqLen - similarityMatrix), nanflag=1));"
   ]
  },
  {
   "cell_type": "code",
   "execution_count": null,
   "id": "760d9b94-5984-4638-a57a-0425c57a6a79",
   "metadata": {},
   "outputs": [
    {
     "name": "stdout",
     "output_type": "stream",
     "text": [
      "\u001b[?2004l\n",
      "\u001b[?2004h\u001b[?2004l\n",
      "\u001b[?2004h\u001b[?2004l\n",
      "\u001b[?2004h\u001b[?2004l\n",
      "\u001b[?2004h\u001b[?2004l\n",
      "\u001b[?2004h\u001b[?2004l\n",
      "\u001b[?2004h\u001b[?2004l\n",
      "\u001b[?2004h\u001b[?2004l\n",
      "\u001b[?2004h\u001b[?2004l\n",
      "\u001b[?2004h\u001b[?2004l\n",
      "\u001b[?2004h\u001b[?2004l\n",
      "\u001b[?2004h\u001b[?2004l\n",
      "\u001b[?2004h\u001b[?2004l\n",
      "\u001b[?2004h\u001b[?2004l\n",
      "\u001b[?2004h"
     ]
    }
   ],
   "source": [
    "function maxValue = mymax(x, A, nanflag)\n",
    "   \n",
    "    if nargin < 3 || strcmp(nanflag, 'omitnan')\n",
    "        disp('Option 1: Ignore NaN');\n",
    "        A_no_NaN = A;\n",
    "        A_no_NaN(isnan(A)) = -Inf;  \n",
    "        maxValue = max(x, A_no_NaN); \n",
    "    elseif strcmp(nanflag, 'includenan')\n",
    "        maxValue = max(x, A); \n",
    "        maxValue(isnan(A)) = NaN;\n",
    "    else\n",
    "        error('nanflag inválido. Usa ''omitnan'' o ''includenan''.');\n",
    "    end\n",
    "end\n"
   ]
  },
  {
   "cell_type": "code",
   "execution_count": null,
   "id": "59b19c36-fe31-4a9b-a93f-58044247830a",
   "metadata": {},
   "outputs": [
    {
     "name": "stdout",
     "output_type": "stream",
     "text": [
      "\u001b[?2004l\n",
      "\u001b[?2004h\u001b[?2004l\n",
      "\u001b[?2004h\u001b[?2004l\n",
      "A =\n",
      "\n",
      "     8     6\n",
      "     4   NaN\n",
      "\n",
      "\u001b[?2004h\u001b[?2004l\n",
      "     8     6\n",
      "     4   NaN\n",
      "\u001b[?2004h\u001b[?2004l\n",
      "Option 1: Ignore NaN\n",
      "A2 =\n",
      "\n",
      "   8   6\n",
      "   4   0\n",
      "\n",
      "\u001b[?2004h\u001b[?2004l\n",
      "   8   6\n",
      "   4   0\n",
      "\u001b[?2004h\u001b[?2004l\n",
      "\u001b[?2004h\u001b[?2004l\n",
      "   2.8284   2.4495\n",
      "   2.0000        0\n",
      "\u001b[?2004h"
     ]
    }
   ],
   "source": [
    "similarityMatrix = [1, 2; 3, NaN];\n",
    "subseqLen = 5;\n",
    "A = 2 * (subseqLen - similarityMatrix)\n",
    "disp(A)\n",
    "A2 = mymax(0,A,'omitnan')\n",
    "disp(A2)\n",
    "similarityMatrix = sqrt(A2);\n",
    "disp(similarityMatrix)"
   ]
  }
 ],
 "metadata": {
  "kernelspec": {
   "display_name": "Octave",
   "language": "octave",
   "name": "octave"
  }
 },
 "nbformat": 4,
 "nbformat_minor": 5
}

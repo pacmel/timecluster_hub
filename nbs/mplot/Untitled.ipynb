{
 "cells": [
  {
   "cell_type": "code",
   "execution_count": null,
   "id": "dbb37c27-c091-42c9-b4a3-2d30d07a9f9e",
   "metadata": {},
   "outputs": [],
   "source": [
    "from oct2py import octave"
   ]
  },
  {
   "cell_type": "code",
   "execution_count": null,
   "id": "20fed2c0-e593-46c5-83f9-ab1ca3ba48fc",
   "metadata": {},
   "outputs": [],
   "source": [
    "%load_ext oct2py.ipython"
   ]
  },
  {
   "cell_type": "code",
   "execution_count": null,
   "id": "d6fb32d0-9052-4e6e-af68-854325f291e6",
   "metadata": {},
   "outputs": [
    {
     "name": "stdout",
     "output_type": "stream",
     "text": [
      "The oct2py.ipython extension is already loaded. To reload it, use:\n",
      "  %reload_ext oct2py.ipython\n",
      "\u001b[?2004l\n",
      "\u001b[?2004l\n",
      "\u001b[?2004l\n",
      "\u001b[?2004l\n",
      "\u001b[?2004l\n",
      "\u001b[?2004l\n",
      "warning: using the gnuplot graphics toolkit is discouraged\n",
      "\n",
      "The gnuplot graphics toolkit is not actively maintained and has a number\n",
      "of limitations that are unlikely to be fixed.  Communication with gnuplot\n",
      "uses a one-directional pipe and limited information is passed back to the\n",
      "Octave interpreter so most changes made interactively in the plot window\n",
      "will not be reflected in the graphics properties managed by Octave.  For\n",
      "example, if the plot window is closed with a mouse click, Octave will not\n",
      "be notified and will not update its internal list of open figure windows.\n",
      "The qt toolkit is recommended instead.\n"
     ]
    },
    {
     "data": {
      "text/plain": [
       "'qt'"
      ]
     },
     "execution_count": null,
     "metadata": {},
     "output_type": "execute_result"
    }
   ],
   "source": [
    "%load_ext oct2py.ipython\n",
    "octave.register_graphics_toolkit('fltk')\n",
    "octave.graphics_toolkit('gnuplot')"
   ]
  },
  {
   "cell_type": "code",
   "execution_count": null,
   "id": "4e527390-f611-4a27-9a70-deb7a03e267c",
   "metadata": {},
   "outputs": [
    {
     "name": "stdout",
     "output_type": "stream",
     "text": [
      "\u001b[?2004l\n",
      "\u001b[?2004l\n",
      "\u001b[?2004l\n"
     ]
    },
    {
     "data": {
      "text/plain": [
       "-39.07452980099501"
      ]
     },
     "execution_count": null,
     "metadata": {},
     "output_type": "execute_result"
    }
   ],
   "source": [
    "%reload_ext oct2py.ipython\n",
    "# this works fine:\n",
    "octave.plot([1,2,3],'-o', 'linewidth', 2)\n",
    "#octave.drawnow()"
   ]
  },
  {
   "cell_type": "code",
   "execution_count": null,
   "id": "0e93ff5d-f889-461e-b2ab-62a2396d7991",
   "metadata": {},
   "outputs": [
    {
     "name": "stdout",
     "output_type": "stream",
     "text": [
      "\u001b[?2004l\n",
      "\u001b[?2004l\n",
      "\u001b[?2004l\n",
      "\u001b[?2004l\n",
      "\u001b[?2004l\n",
      "\u001b[?2004l\n"
     ]
    }
   ],
   "source": [
    "%matplotlib inline\n",
    "plot=octave.plot([1,2,3],'-o', 'linewidth', 2)\n",
    "octave.drawnow(\"expose\")"
   ]
  },
  {
   "cell_type": "code",
   "execution_count": null,
   "id": "0a2e124d-e5af-482f-8d81-63cac7e7a6d2",
   "metadata": {},
   "outputs": [
    {
     "name": "stdout",
     "output_type": "stream",
     "text": [
      "\u001b[?2004l\n",
      "\u001b[?2004l\n",
      "\u001b[?2004l\n",
      "\u001b[?2004l\n",
      "\u001b[?2004l\n"
     ]
    },
    {
     "data": {
      "text/plain": [
       "\u001b[?2004l"
      ]
     },
     "metadata": {},
     "output_type": "display_data"
    },
    {
     "data": {
      "image/svg+xml": [
       "<svg xmlns:xlink=\"http://www.w3.org/1999/xlink\" xmlns=\"http://www.w3.org/2000/svg\" viewBox=\"0 0 560 420\" width=\"560px\" height=\"420px\">\n",
       " <title>Figure 1</title>\n",
       " <desc>\n",
       "Creator: GL2PS 1.4.2, (C) 1999-2020 C. Geuzaine\n",
       "For: Octave\n",
       "CreationDate: Wed Mar 20 16:28:27 2024\n",
       "</desc>\n",
       " <defs/>\n",
       " <polygon points=\"0,0 560,0 560,420 0,420\" fill=\"#ffffff\"/>\n",
       " <g>\n",
       "  <polygon shape-rendering=\"crispEdges\" points=\"0,420 560,420 560,0 0,0\" fill=\"#ffffff\"/>\n",
       "  <clipPath id=\"cp00560420\">\n",
       "   <polygon points=\"0,420 560,420 560,0 0,0\"/>\n",
       "  </clipPath>\n",
       "  <g clip-path=\"url(#cp00560420)\">\n",
       "   <polygon shape-rendering=\"crispEdges\" points=\"72.8,373.8 506.8,373.8 506.8,31.5 72.8,31.5\" fill=\"#ffffff\"/>\n",
       "   <polyline stroke-linejoin=\"miter\" stroke-linecap=\"butt\" stroke-width=\"0.5\" points=\"72.8,373.8 72.8,369.456\" fill=\"none\" stroke=\"#262626\"/>\n",
       "   <polyline stroke-linejoin=\"miter\" stroke-linecap=\"butt\" stroke-width=\"0.5\" points=\"72.8,31.5 72.8,35.8438\" fill=\"none\" stroke=\"#262626\"/>\n",
       "   <polyline stroke-linejoin=\"miter\" stroke-linecap=\"butt\" stroke-width=\"0.5\" points=\"181.3,373.8 181.3,369.456\" fill=\"none\" stroke=\"#262626\"/>\n",
       "   <polyline stroke-linejoin=\"miter\" stroke-linecap=\"butt\" stroke-width=\"0.5\" points=\"181.3,31.5 181.3,35.8438\" fill=\"none\" stroke=\"#262626\"/>\n",
       "   <polyline stroke-linejoin=\"miter\" stroke-linecap=\"butt\" stroke-width=\"0.5\" points=\"289.8,373.8 289.8,369.456\" fill=\"none\" stroke=\"#262626\"/>\n",
       "   <polyline stroke-linejoin=\"miter\" stroke-linecap=\"butt\" stroke-width=\"0.5\" points=\"289.8,31.5 289.8,35.8438\" fill=\"none\" stroke=\"#262626\"/>\n",
       "   <polyline stroke-linejoin=\"miter\" stroke-linecap=\"butt\" stroke-width=\"0.5\" points=\"398.3,373.8 398.3,369.456\" fill=\"none\" stroke=\"#262626\"/>\n",
       "   <polyline stroke-linejoin=\"miter\" stroke-linecap=\"butt\" stroke-width=\"0.5\" points=\"398.3,31.5 398.3,35.8438\" fill=\"none\" stroke=\"#262626\"/>\n",
       "   <polyline stroke-linejoin=\"miter\" stroke-linecap=\"butt\" stroke-width=\"0.5\" points=\"506.8,373.8 506.8,369.456\" fill=\"none\" stroke=\"#262626\"/>\n",
       "   <polyline stroke-linejoin=\"miter\" stroke-linecap=\"butt\" stroke-width=\"0.5\" points=\"506.8,31.5 506.8,35.8438\" fill=\"none\" stroke=\"#262626\"/>\n",
       "   <g xml:space=\"preserve\" font-family=\"FreeSans\" font-weight=\"normal\" transform=\"translate(70.3,388.804) rotate(-0,2.5,-8)\" font-size=\"9.32989\" font-style=\"normal\">\n",
       "    <text x=\"0 \" y=\"-0\" fill=\"rgb(38,38,38)\">1</text>\n",
       "   </g>\n",
       "   <g xml:space=\"preserve\" font-family=\"FreeSans\" font-weight=\"normal\" transform=\"translate(175.3,388.804) rotate(-0,6,-8)\" font-size=\"9.32989\" font-style=\"normal\">\n",
       "    <text x=\"0 5 7 \" y=\"-0\" fill=\"rgb(38,38,38)\">1.5</text>\n",
       "   </g>\n",
       "   <g xml:space=\"preserve\" font-family=\"FreeSans\" font-weight=\"normal\" transform=\"translate(287.3,388.804) rotate(-0,2.5,-8)\" font-size=\"9.32989\" font-style=\"normal\">\n",
       "    <text x=\"0 \" y=\"-0\" fill=\"rgb(38,38,38)\">2</text>\n",
       "   </g>\n",
       "   <g xml:space=\"preserve\" font-family=\"FreeSans\" font-weight=\"normal\" transform=\"translate(392.3,388.804) rotate(-0,6,-8)\" font-size=\"9.32989\" font-style=\"normal\">\n",
       "    <text x=\"0 5 7 \" y=\"-0\" fill=\"rgb(38,38,38)\">2.5</text>\n",
       "   </g>\n",
       "   <g xml:space=\"preserve\" font-family=\"FreeSans\" font-weight=\"normal\" transform=\"translate(504.3,388.804) rotate(-0,2.5,-8)\" font-size=\"9.32989\" font-style=\"normal\">\n",
       "    <text x=\"0 \" y=\"-0\" fill=\"rgb(38,38,38)\">3</text>\n",
       "   </g>\n",
       "   <polyline stroke-linejoin=\"miter\" stroke-linecap=\"butt\" stroke-width=\"0.5\" points=\"72.8,373.8 77.14,373.8\" fill=\"none\" stroke=\"#262626\"/>\n",
       "   <polyline stroke-linejoin=\"miter\" stroke-linecap=\"butt\" stroke-width=\"0.5\" points=\"506.8,373.8 502.46,373.8\" fill=\"none\" stroke=\"#262626\"/>\n",
       "   <polyline stroke-linejoin=\"miter\" stroke-linecap=\"butt\" stroke-width=\"0.5\" points=\"72.8,288.225 77.14,288.225\" fill=\"none\" stroke=\"#262626\"/>\n",
       "   <polyline stroke-linejoin=\"miter\" stroke-linecap=\"butt\" stroke-width=\"0.5\" points=\"506.8,288.225 502.46,288.225\" fill=\"none\" stroke=\"#262626\"/>\n",
       "   <polyline stroke-linejoin=\"miter\" stroke-linecap=\"butt\" stroke-width=\"0.5\" points=\"72.8,202.65 77.14,202.65\" fill=\"none\" stroke=\"#262626\"/>\n",
       "   <polyline stroke-linejoin=\"miter\" stroke-linecap=\"butt\" stroke-width=\"0.5\" points=\"506.8,202.65 502.46,202.65\" fill=\"none\" stroke=\"#262626\"/>\n",
       "   <polyline stroke-linejoin=\"miter\" stroke-linecap=\"butt\" stroke-width=\"0.5\" points=\"72.8,117.075 77.14,117.075\" fill=\"none\" stroke=\"#262626\"/>\n",
       "   <polyline stroke-linejoin=\"miter\" stroke-linecap=\"butt\" stroke-width=\"0.5\" points=\"506.8,117.075 502.46,117.075\" fill=\"none\" stroke=\"#262626\"/>\n",
       "   <polyline stroke-linejoin=\"miter\" stroke-linecap=\"butt\" stroke-width=\"0.5\" points=\"72.8,31.5 77.14,31.5\" fill=\"none\" stroke=\"#262626\"/>\n",
       "   <polyline stroke-linejoin=\"miter\" stroke-linecap=\"butt\" stroke-width=\"0.5\" points=\"506.8,31.5 502.46,31.5\" fill=\"none\" stroke=\"#262626\"/>\n",
       "   <g xml:space=\"preserve\" font-family=\"FreeSans\" font-weight=\"normal\" transform=\"translate(63.1351,377.8) rotate(-0,5,-4)\" font-size=\"9.32989\" font-style=\"normal\">\n",
       "    <text x=\"0 \" y=\"-0\" fill=\"rgb(38,38,38)\">1</text>\n",
       "   </g>\n",
       "   <g xml:space=\"preserve\" font-family=\"FreeSans\" font-weight=\"normal\" transform=\"translate(56.1351,292.225) rotate(-0,12,-4)\" font-size=\"9.32989\" font-style=\"normal\">\n",
       "    <text x=\"0 5 7 \" y=\"-0\" fill=\"rgb(38,38,38)\">1.5</text>\n",
       "   </g>\n",
       "   <g xml:space=\"preserve\" font-family=\"FreeSans\" font-weight=\"normal\" transform=\"translate(63.1351,206.65) rotate(-0,5,-4)\" font-size=\"9.32989\" font-style=\"normal\">\n",
       "    <text x=\"0 \" y=\"-0\" fill=\"rgb(38,38,38)\">2</text>\n",
       "   </g>\n",
       "   <g xml:space=\"preserve\" font-family=\"FreeSans\" font-weight=\"normal\" transform=\"translate(56.1351,121.075) rotate(-0,12,-4)\" font-size=\"9.32989\" font-style=\"normal\">\n",
       "    <text x=\"0 5 7 \" y=\"-0\" fill=\"rgb(38,38,38)\">2.5</text>\n",
       "   </g>\n",
       "   <g xml:space=\"preserve\" font-family=\"FreeSans\" font-weight=\"normal\" transform=\"translate(63.1351,35.5) rotate(-0,5,-4)\" font-size=\"9.32989\" font-style=\"normal\">\n",
       "    <text x=\"0 \" y=\"-0\" fill=\"rgb(38,38,38)\">3</text>\n",
       "   </g>\n",
       "   <polyline stroke-linejoin=\"miter\" stroke-linecap=\"square\" stroke-width=\"0.5\" stroke-dasharray=\"16,0\" points=\"72.8,373.8 506.8,373.8\" fill=\"none\" stroke=\"#262626\"/>\n",
       "   <polyline stroke-linejoin=\"miter\" stroke-linecap=\"square\" stroke-width=\"0.5\" stroke-dasharray=\"16,0\" points=\"72.8,31.5 506.8,31.5\" fill=\"none\" stroke=\"#262626\"/>\n",
       "   <polyline stroke-linejoin=\"miter\" stroke-linecap=\"square\" stroke-width=\"0.5\" stroke-dasharray=\"16,0\" points=\"72.8,373.8 72.8,31.5\" fill=\"none\" stroke=\"#262626\"/>\n",
       "   <polyline stroke-linejoin=\"miter\" stroke-linecap=\"square\" stroke-width=\"0.5\" stroke-dasharray=\"16,0\" points=\"506.8,373.8 506.8,31.5\" fill=\"none\" stroke=\"#262626\"/>\n",
       "   <polyline stroke-linejoin=\"round\" stroke-linecap=\"butt\" stroke-width=\"2\" points=\"72.8,373.8 289.8,202.65 506.8,31.5\" fill=\"none\" stroke=\"#0071bc\"/>\n",
       "   <polyline stroke-linejoin=\"round\" stroke-linecap=\"round\" stroke-width=\"2\" points=\"75.8,373.8 75.2271,375.563 73.7271,376.653 71.8729,376.653 70.3729,375.563 69.8,373.8 70.3729,372.037 71.8729,370.947 73.7271,370.947 75.2271,372.037 75.8,373.8\" fill=\"none\" stroke=\"#0071bc\"/>\n",
       "   <polyline stroke-linejoin=\"round\" stroke-linecap=\"round\" stroke-width=\"2\" points=\"292.8,202.65 292.227,204.413 290.727,205.503 288.873,205.503 287.373,204.413 286.8,202.65 287.373,200.887 288.873,199.797 290.727,199.797 292.227,200.887 292.8,202.65\" fill=\"none\" stroke=\"#0071bc\"/>\n",
       "   <polyline stroke-linejoin=\"round\" stroke-linecap=\"round\" stroke-width=\"2\" points=\"509.8,31.5 509.227,33.2633 507.727,34.3531 505.873,34.3531 504.373,33.2633 503.8,31.5 504.373,29.7366 505.873,28.6468 507.727,28.6468 509.227,29.7366 509.8,31.5\" fill=\"none\" stroke=\"#0071bc\"/>\n",
       "  </g>\n",
       " </g>\n",
       "</svg>"
      ],
      "text/plain": [
       "<IPython.core.display.SVG object>"
      ]
     },
     "metadata": {},
     "output_type": "display_data"
    },
    {
     "data": {
      "text/plain": [
       "\u001b[?2004l"
      ]
     },
     "metadata": {},
     "output_type": "display_data"
    },
    {
     "data": {
      "text/plain": [
       "\u001b[?2004l"
      ]
     },
     "metadata": {},
     "output_type": "display_data"
    },
    {
     "name": "stdout",
     "output_type": "stream",
     "text": [
      "\u001b[?2004l\n"
     ]
    },
    {
     "data": {
      "text/plain": [
       "-1.8196951524262803"
      ]
     },
     "execution_count": null,
     "metadata": {},
     "output_type": "execute_result"
    }
   ],
   "source": [
    "%octave -f svg\n",
    "octave.plot([1,2,3],'-o', 'linewidth', 2)"
   ]
  },
  {
   "cell_type": "code",
   "execution_count": null,
   "id": "c64e44e8-dfda-4f36-85b9-6a68321c8a08",
   "metadata": {},
   "outputs": [
    {
     "name": "stdout",
     "output_type": "stream",
     "text": [
      "\u001b[?2004l\n",
      "\u001b[?2004l\n",
      "\u001b[?2004l\n"
     ]
    }
   ],
   "source": [
    "# this doesn't work:\n",
    "octave.eval(\"\"\"\\\n",
    "plot([1,2,3], '-o', 'linewidth', 2)\n",
    "\"\"\")"
   ]
  },
  {
   "cell_type": "code",
   "execution_count": null,
   "id": "5275821d-86ac-48c5-a067-356854ee6f0e",
   "metadata": {},
   "outputs": [
    {
     "name": "stdout",
     "output_type": "stream",
     "text": [
      "\u001b[?2004l\n",
      "\u001b[?2004l\n",
      "\u001b[?2004l\n",
      "\u001b[?2004l\n",
      "\u001b[?2004l\n",
      "\u001b[?2004l\n"
     ]
    }
   ],
   "source": [
    "octave.graphics_toolkit('qt')\n",
    "octave.plot([1, 2, 3], '-o');"
   ]
  },
  {
   "cell_type": "code",
   "execution_count": null,
   "id": "d21d05f1-c77a-4951-a8fb-33076cafe918",
   "metadata": {},
   "outputs": [],
   "source": []
  }
 ],
 "metadata": {
  "kernelspec": {
   "display_name": "Python 3 (ipykernel)",
   "language": "python",
   "name": "python3"
  }
 },
 "nbformat": 4,
 "nbformat_minor": 5
}

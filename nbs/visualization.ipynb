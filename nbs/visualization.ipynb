{
 "cells": [
  {
   "cell_type": "code",
   "execution_count": null,
   "metadata": {},
   "outputs": [],
   "source": [
    "#| default_exp visualization"
   ]
  },
  {
   "cell_type": "code",
   "execution_count": null,
   "metadata": {},
   "outputs": [],
   "source": [
    "#| hide\n",
    "%load_ext autoreload\n",
    "%autoreload 2"
   ]
  },
  {
   "cell_type": "markdown",
   "metadata": {},
   "source": [
    "# Visualization\n",
    "\n",
    "> Methods to visualize data for the PACMEL minining use case"
   ]
  },
  {
   "cell_type": "code",
   "execution_count": null,
   "metadata": {},
   "outputs": [],
   "source": [
    "#| export\n",
    "from fastcore.all import *\n",
    "import pandas as pd\n",
    "import numpy as np\n",
    "import matplotlib.pyplot as plt\n",
    "import torch"
   ]
  },
  {
   "cell_type": "code",
   "execution_count": null,
   "metadata": {},
   "outputs": [],
   "source": [
    "#| hide\n",
    "from dvats.imports import *\n",
    "from dvats.utils import *"
   ]
  },
  {
   "cell_type": "markdown",
   "metadata": {},
   "source": [
    "### Plot multivariate time series from a dataframe"
   ]
  },
  {
   "cell_type": "code",
   "execution_count": null,
   "metadata": {},
   "outputs": [],
   "source": [
    "#| export\n",
    "@delegates(pd.DataFrame.plot)\n",
    "def plot_TS(df:pd.core.frame.DataFrame, **kwargs):\n",
    "    df.plot(subplots=True, **kwargs)\n",
    "    plt.show()"
   ]
  },
  {
   "cell_type": "code",
   "execution_count": null,
   "metadata": {},
   "outputs": [],
   "source": [
    "plot_TS(generate_TS_df(5, 5))"
   ]
  },
  {
   "cell_type": "code",
   "execution_count": null,
   "metadata": {},
   "outputs": [],
   "source": [
    "#| export\n",
    "def plot_validation_ts_ae(prediction:np.array, original:np.array, title_str = \"Validation plot\", fig_size = (15,15), anchor = (-0.01, 0.89), window_num = 0, return_fig=True, title_pos = 0.9):\n",
    "    # Create the figure\n",
    "    fig = plt.figure(figsize=(fig_size[0],fig_size[1]))\n",
    "    # Create the subplot axes\n",
    "    axes = fig.subplots(nrows=original.shape[2], ncols=1)\n",
    "    # We iterate over the sensor data and plot both the original and the prediction\n",
    "    for i,ax in zip(range(original.shape[2]),fig.axes):\n",
    "        ax.plot(original[window_num,:,i], label='Original Data')\n",
    "        ax.plot(prediction[window_num,:,i], label='Prediction')\n",
    "    # Handle the legend configuration and position\n",
    "    lines, labels = fig.axes[-1].get_legend_handles_labels()\n",
    "    fig.legend(lines, labels,loc='upper left', ncol=2)\n",
    "    # Write the plot title (and position it closer to the top of the graph)\n",
    "    fig.suptitle(title_str, y = title_pos)\n",
    "    # Tight results:\n",
    "    fig.tight_layout()\n",
    "    # Returns\n",
    "    if return_fig:\n",
    "        return fig\n",
    "    fig\n",
    "    return None"
   ]
  },
  {
   "cell_type": "code",
   "execution_count": null,
   "metadata": {},
   "outputs": [],
   "source": [
    "input1 = np.array([[[1,2,3],[4,5,6]],[[7,8,9],[10,11,12]],[[13,14,15],[16,17,18]]])\n",
    "input2 = input1+1\n"
   ]
  },
  {
   "cell_type": "code",
   "execution_count": null,
   "metadata": {},
   "outputs": [],
   "source": [
    "testasd=plot_validation_ts_ae(input1,input2,fig_size = (10,25),window_num=0,return_fig=True,title_pos=0.99)"
   ]
  },
  {
   "cell_type": "markdown",
   "metadata": {},
   "source": [
    "## Plot mask"
   ]
  },
  {
   "cell_type": "code",
   "execution_count": null,
   "metadata": {},
   "outputs": [],
   "source": [
    "#| export\n",
    "def plot_mask(mask, i=0, fig_size=(10,10), title_str=\"Mask\", return_fig=False):\n",
    "    \"\"\"\n",
    "    Plot the mask passed as argument. The mask is a 3D boolean tensor. The first \n",
    "    dimension is the window number (or item index), the second is the variable, and the third is the time step.\n",
    "    Input:\n",
    "        mask: 3D boolean tensor\n",
    "        i: index of the window to plot\n",
    "        fig_size: size of the figure\n",
    "        title_str: title of the plot\n",
    "        return_fig: if True, returns the figure\n",
    "    Output:\n",
    "        if return_fig is True, returns the figure, otherwise, it does not return anything\n",
    "    \"\"\"\n",
    "    plt.figure(figsize=fig_size)\n",
    "    plt.pcolormesh(mask[i], cmap='cool')\n",
    "    plt.title(f'{title_str} {i}, mean: {mask[0].float().mean().item():.3f}')\n",
    "    if return_fig:\n",
    "        return plt.gcf()\n",
    "    else:\n",
    "        plt.show()\n",
    "        return None"
   ]
  },
  {
   "cell_type": "code",
   "execution_count": null,
   "metadata": {},
   "outputs": [],
   "source": [
    "# Creates a mask (3d boolean tensor) with random values masked and call the previous function to plot it\n",
    "mask = torch.rand(3,10,5) > 0.9\n",
    "test_eq(mask.dtype, torch.bool)\n",
    "plot_mask(mask, 0, fig_size=(10,5), return_fig=False)\n"
   ]
  },
  {
   "cell_type": "code",
   "execution_count": null,
   "metadata": {},
   "outputs": [],
   "source": [
    "# Test the parameter return_fig\n",
    "m = plot_mask(mask, 0, fig_size=(10,5), return_fig=True)\n",
    "m"
   ]
  },
  {
   "cell_type": "markdown",
   "metadata": {},
   "source": [
    "## Export - "
   ]
  },
  {
   "cell_type": "code",
   "execution_count": null,
   "metadata": {},
   "outputs": [],
   "source": [
    "#| hide\n",
    "#from nbdev.export import notebook2script\n",
    "#notebook2script()\n",
    "beep(1)"
   ]
  }
 ],
 "metadata": {
  "kernelspec": {
   "display_name": "Python 3 (ipykernel)",
   "language": "python",
   "name": "python3"
  }
 },
 "nbformat": 4,
 "nbformat_minor": 4
}

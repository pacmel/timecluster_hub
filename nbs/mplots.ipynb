{
 "cells": [
  {
   "cell_type": "code",
   "execution_count": 1,
   "id": "b438dc4c-146d-4cf1-bf49-3019bfdaf4ff",
   "metadata": {},
   "outputs": [],
   "source": [
    "#| default_exp mplots"
   ]
  },
  {
   "cell_type": "code",
   "execution_count": 2,
   "id": "22cd1a5f-fe76-4b6f-b7bf-629ca32e1c70",
   "metadata": {},
   "outputs": [],
   "source": [
    "#| export\n",
    "import time\n",
    "from dataclasses import dataclass\n",
    "\n",
    "@dataclass\n",
    "class Time:\n",
    "    time_start: float =  None\n",
    "    time_end : float =  None\n",
    "    time_total : float =  0.0\n",
    "\n",
    "    def start(self): \n",
    "        self.time_start = time.time()\n",
    "        return self.time_start\n",
    "\n",
    "    def end(self):\n",
    "        self.time_end = time.time()\n",
    "        return self.time_end\n",
    "        \n",
    "    def duration(self):\n",
    "        self.time_total=self.time_end - self.time_start\n",
    "        return self.duration"
   ]
  },
  {
   "cell_type": "code",
   "execution_count": 3,
   "id": "1f2b125a-7f31-4273-b8f2-848f17e8198b",
   "metadata": {},
   "outputs": [
    {
     "data": {
      "text/plain": [
       "<bound method Time.duration of Time(time_start=1710152007.449831, time_end=1710152009.4521453, time_total=2.002314329147339)>"
      ]
     },
     "execution_count": 3,
     "metadata": {},
     "output_type": "execute_result"
    }
   ],
   "source": [
    "#| hide\n",
    "# Timer basic example\n",
    "foo = Time()\n",
    "foo.start()\n",
    "time.sleep(2) \n",
    "foo.end()\n",
    "foo.duration()"
   ]
  },
  {
   "cell_type": "markdown",
   "id": "6f560448-e1f1-4bc0-8fd4-ff4097b7abf5",
   "metadata": {},
   "source": [
    "## Mplots functions"
   ]
  },
  {
   "cell_type": "code",
   "execution_count": 4,
   "id": "ce683633-bbad-4954-b724-0b2179dee53b",
   "metadata": {},
   "outputs": [],
   "source": [
    "#| export\n",
    "import pyscamp as scamp\n",
    "import stumpy as stump \n",
    "import dvats.memory as mem\n",
    "import numpy as np"
   ]
  },
  {
   "cell_type": "code",
   "execution_count": 5,
   "id": "9a5b3050-27c3-412e-ac6a-f433781315d8",
   "metadata": {},
   "outputs": [
    {
     "name": "stdout",
     "output_type": "stream",
     "text": [
      "Ts ~  (10000,)\n",
      "Expected mp length:  9951\n"
     ]
    }
   ],
   "source": [
    "#| hide \n",
    "foo = np.random.rand(10000)\n",
    "foo_m = 50\n",
    "print(\"Ts ~ \", foo.shape)\n",
    "print(\"Expected mp length: \", int(np.floor(foo.shape[0]-foo_m+1)))"
   ]
  },
  {
   "cell_type": "code",
   "execution_count": 26,
   "id": "6ba46dfe-c04e-43c5-9d0c-624963cb81fa",
   "metadata": {},
   "outputs": [],
   "source": [
    "#\\ export \n",
    "def matrix_profile(\n",
    "    data, \n",
    "    subsequence_len, \n",
    "    method = 'scamp', \n",
    "    print_flag = False, \n",
    "    debug = True, \n",
    "    timed = True\n",
    "):\n",
    "    print(\"--> matrix profile\")\n",
    "    duration = 0.0\n",
    "    if timed: \n",
    "        timer = Time()\n",
    "        timer.start()\n",
    "    match method:\n",
    "        case 'stumpy':\n",
    "            if print_flag: print(\"--> Stumpy\")\n",
    "            mp = stump.gpu_stump(data, subsequence_len)\n",
    "            index = [] #already included in mp\n",
    "        case 'scamp': \n",
    "            if print_flag: print(\"--> Scamp\")\n",
    "            if debug: \n",
    "                print(\"Check gpu use\")\n",
    "                has_gpu_support = scamp.gpu_supported()\n",
    "                print(has_gpu_support)\n",
    "            mp, index = scamp.selfjoin(data, subsequence_len)\n",
    "        case _: #default scamp\n",
    "            if print_flag: print(\"--> Invalid method. Using scamp [default]\")\n",
    "            if debug: \n",
    "                has_gpu_support = scamp.gpu_supported()\n",
    "                print(has_gpu_support)\n",
    "            mp, index = scamp.selfjoin(data, subsequence_len)\n",
    "            \n",
    "    if timed: \n",
    "        timer.end()\n",
    "        duration = timer.duration() \n",
    "    if print_flag: \n",
    "        if timed: \n",
    "            print(f\"matrix profile {duration} seconds -->\")\n",
    "        else: \n",
    "            print(\"matrix profile -->\")\n",
    "    return mp, index, duration"
   ]
  },
  {
   "cell_type": "code",
   "execution_count": 27,
   "id": "950f926e-eeb4-4787-80e3-ca69b50e5f35",
   "metadata": {},
   "outputs": [
    {
     "name": "stdout",
     "output_type": "stream",
     "text": [
      "--> matrix profile\n",
      "--> Invalid method. Using scamp [default]\n",
      "True\n",
      "matrix profile <bound method Time.duration of Time(time_start=1710152439.3174796, time_end=1710152439.3983326, time_total=0.08085298538208008)> seconds -->\n"
     ]
    },
    {
     "data": {
      "text/plain": [
       "(array([7.1280007, 7.1532564, 7.052767 , ..., 6.8556924, 7.135168 ,\n",
       "        6.948154 ], dtype=float32),\n",
       " array([3771, 3772, 7711, ..., 5512, 5513, 5148], dtype=int32),\n",
       " <bound method Time.duration of Time(time_start=1710152439.3174796, time_end=1710152439.3983326, time_total=0.08085298538208008)>)"
      ]
     },
     "execution_count": 27,
     "metadata": {},
     "output_type": "execute_result"
    }
   ],
   "source": [
    "matrix_profile(foo, foo_m, 'escampo', True)"
   ]
  },
  {
   "cell_type": "code",
   "execution_count": 28,
   "id": "3bda0f64-5b2a-4481-9031-a69c89ffe013",
   "metadata": {},
   "outputs": [
    {
     "name": "stdout",
     "output_type": "stream",
     "text": [
      "--> matrix profile\n",
      "--> Stumpy\n",
      "matrix profile <bound method Time.duration of Time(time_start=1710152460.3130288, time_end=1710152463.1483097, time_total=2.8352808952331543)> seconds -->\n"
     ]
    }
   ],
   "source": [
    "#| hide\n",
    "foo_mp_stumpy = matrix_profile(foo, foo_m, 'stumpy', True, True, True)"
   ]
  },
  {
   "cell_type": "code",
   "execution_count": 29,
   "id": "0e976b39-14eb-44cd-97ac-443af361560d",
   "metadata": {},
   "outputs": [
    {
     "name": "stdout",
     "output_type": "stream",
     "text": [
      "--> matrix profile\n",
      "--> Invalid method. Using scamp [default]\n",
      "True\n",
      "matrix profile <bound method Time.duration of Time(time_start=1710152477.0583746, time_end=1710152477.1771278, time_total=0.11875319480895996)> seconds -->\n"
     ]
    }
   ],
   "source": [
    "#| hide\n",
    "foo_mp_stumpy = matrix_profile(foo, foo_m, 'escampo', True, True, True)"
   ]
  },
  {
   "cell_type": "markdown",
   "id": "fe6b2062-4497-4da4-9d0f-77458035e0dd",
   "metadata": {},
   "source": [
    "## Plotting auxiliar functions"
   ]
  },
  {
   "cell_type": "code",
   "execution_count": null,
   "id": "49c4ab80-8037-4f79-a6a7-d1747ecad762",
   "metadata": {},
   "outputs": [],
   "source": [
    "#| export\n",
    "import dvats.load as load\n",
    "import os\n",
    "import pandas as pd\n",
    "import numpy as np\n",
    "import matplotlib\n",
    "import matplotlib.pyplot as plt\n",
    "import matplotlib.dates as dates\n",
    "from matplotlib.patches import Rectangle\n",
    "import datetime as dt\n",
    "from mpl_toolkits.axes_grid1 import ImageGrid\n",
    "from matplotlib.gridspec import GridSpec\n",
    "plt.style.use('https://raw.githubusercontent.com/TDAmeritrade/stumpy/main/docs/stumpy.mplstyle')"
   ]
  },
  {
   "cell_type": "code",
   "execution_count": null,
   "id": "e0c97dc9-35e0-4901-8d64-db8435102169",
   "metadata": {},
   "outputs": [],
   "source": []
  },
  {
   "cell_type": "code",
   "execution_count": null,
   "id": "277fdb14-9578-41da-a4b1-60a3d7d6f3a0",
   "metadata": {},
   "outputs": [],
   "source": [
    "#| export\n",
    "def plot_dataFrame(title, df, vars = [], interval = 10000):\n",
    "    if len(vars > 0):\n",
    "        num_vars = len(df.columns)\n",
    "    \n",
    "        for var_num in vars:\n",
    "            if var_num >= len(df.columns):\n",
    "                raise ValueError(\"var_num \"+var[var_num] + \"is out of the range of DataFrame columns: \" + num_vars)\n",
    "\n",
    "        num_vars = len(vars)\n",
    "        \n",
    "        ### Start the plot \n",
    "\n",
    "        #fig = plt.figure(figsize=(10, num_intervals * 3))  # Ajusta el tamaño del plot según el número de intervalos\n",
    "        \n",
    "        num_intervals = df.shape[0] // interval + 1\n",
    "        fig = plt.figure(figsize=(10, num_vars * num_intervals * 3))  ## Size\n",
    "        gs = GridSpec(num_intervals*num_vars, 1) # 1 column, len(vars) rows\n",
    "        var_pos = 0\n",
    "        for var_num  in vars:\n",
    "            var_name = df.columns[var_num]\n",
    "            data = df[var_name]\n",
    "            for i in range(num_intervals):    \n",
    "                start_idx = i * interval\n",
    "                end_idx = len(data) if i == (num_intervals - 1) else start_idx + interval\n",
    "                ax = fig.add_subplot(gs[var_pos+i])\n",
    "                ax.plot(np.arange(start_idx, end_idx), data[start_idx:end_idx], label=f\"{var_name} [{start_idx}, {end_idx}]\")\n",
    "                ax.set_title(f\"{var_name} [{start_idx}, {end_idx}]\")\n",
    "                ax.set_xlabel(\"Time\")\n",
    "                ax.set_ylabel(var_name)\n",
    "                ax.legend()\n",
    "            var_pos += 1\n",
    "                \n",
    "        plt.suptitle(title, fontsize=16)\n",
    "        plt.tight_layout()\n",
    "        plt.show()\n",
    "    else raise ValueError(\"No variable proposed for plotting\")"
   ]
  },
  {
   "cell_type": "code",
   "execution_count": null,
   "id": "66a49598-7cc7-43c4-a1bd-3df930c4e3ce",
   "metadata": {},
   "outputs": [],
   "source": [
    "#| export\n",
    "def df_plot_colored_variables(df):\n",
    "    # Show time series plot\n",
    "    fig, ax = plt.subplots(1, figsize=(15,5), )\n",
    "    cmap = matplotlib.colormaps.get_cmap('viridis')\n",
    "    #df.plot(color=cmap(0.05), ax=ax) # or use colormap=cmap\n",
    "    df.plot(colormap=cmap, ax=ax) # or use colormap=cmap\n",
    "    # rect = Rectangle((5000, -4.2), 3000, 8.4, facecolor='lightgrey', alpha=0.5)\n",
    "    # ax.add_patch(rect)\n",
    "    plt.tight_layout()\n",
    "    plt.legend()\n",
    "    display(plt.show())"
   ]
  },
  {
   "cell_type": "code",
   "execution_count": null,
   "id": "cf70d36a-6287-4dde-b368-7b46282b01ee",
   "metadata": {},
   "outputs": [],
   "source": [
    "#| export\n",
    "def plot_df_with_intervals_and_colors(title, df, interval=10000):\n",
    "    num_variables = len(df.columns)\n",
    "    num_intervals = len(df) // interval + 1  # Calcula el número necesario de intervalos/subplots\n",
    "\n",
    "    fig = plt.figure(figsize=(10, num_intervals * 3 * num_variables))  # Ajusta el tamaño del plot\n",
    "    gs = GridSpec(num_intervals * num_variables, 1)\n",
    "    \n",
    "    cmap = matplotlib.colormaps.get_cmap('viridis')\n",
    "\n",
    "    for var_num, var in enumerate(df.columns):\n",
    "        data = df[var]\n",
    "        for i in range(num_intervals):\n",
    "            ax = fig.add_subplot(gs[var_num * num_intervals + i])\n",
    "            start_idx = i * interval\n",
    "            end_idx = start_idx + interval\n",
    "\n",
    "            if i == num_intervals - 1:  # Ajusta el último intervalo para incluir todos los datos restantes\n",
    "                end_idx = len(data)\n",
    "\n",
    "            color = cmap(var_num / num_variables)  # Asigna un color basado en la variable\n",
    "            ax.plot(np.arange(start_idx, end_idx), data[start_idx:end_idx], label=f\"{var} [{start_idx}, {end_idx}]\", color=color)\n",
    "            ax.set_title(f\"{var} [{start_idx}, {end_idx}]\")\n",
    "            ax.set_xlabel(\"Index\")\n",
    "            ax.set_ylabel(var)\n",
    "            ax.legend()\n",
    "\n",
    "    plt.suptitle(title, fontsize=16)\n",
    "    plt.tight_layout()\n",
    "    plt.show()"
   ]
  },
  {
   "cell_type": "code",
   "execution_count": null,
   "id": "7355a774-1750-4eb3-8605-455ad74f05b2",
   "metadata": {},
   "outputs": [],
   "source": [
    "#| export\n",
    "def plot_motif(df, motif_idx, nearest_neighbor_idx, variable_name, title, padding = 1000, m = 1, mp = None):\n",
    "    fig, axs = plt.subplots(2, sharex = True, gridspec_kw={'hspace': 0})\n",
    "    plt.suptitle('Motif (Pattern) Discovery', fontsize='30')\n",
    "    padding = min(padding, len(df[variable_name].values) // 2)\n",
    "\n",
    "    # Calcula los límites para hacer zoom\n",
    "    x_min = max(min(motif_idx, nearest_neighbor_idx) - padding, 0)\n",
    "    x_max = min(max(motif_idx, nearest_neighbor_idx) + padding, len(df[variable_name].values))\n",
    "\n",
    "    axs[0].plot(df[variable_name].values)\n",
    "    axs[0].set_xlim([x_min, x_max])  # Aplica el zoom aquí\n",
    "    axs[0].set_ylabel(title, fontsize='20')\n",
    "        \n",
    "    axs[0].set_ylabel(title, fontsize='20')\n",
    "    rect = Rectangle((motif_idx, 0), m, 40, facecolor='lightgrey')\n",
    "    axs[0].add_patch(rect)\n",
    "    rect = Rectangle((nearest_neighbor_idx, 0), m, 40, facecolor='lightgrey')\n",
    "    axs[0].add_patch(rect)\n",
    "    axs[1].set_xlabel('Time', fontsize ='20')\n",
    "    axs[1].set_ylabel('Matrix Profile', fontsize='20')\n",
    "    axs[1].axvline(x=motif_idx, linestyle=\"dashed\")\n",
    "    axs[1].axvline(x=nearest_neighbor_idx, linestyle=\"dashed\")\n",
    "    axs[1].plot(mp)\n",
    "    plt.show()"
   ]
  },
  {
   "cell_type": "code",
   "execution_count": null,
   "id": "8155f97b-bc9c-4909-b954-cce438b387ba",
   "metadata": {},
   "outputs": [],
   "source": [
    "#| export\n",
    "def plot_motif_separated(df, motif_idx=0, nearest_neighbor_idx=0, variable_name=\"\", title=\"\", padding=1000, m=1, mp=None):\n",
    "    fig, axs = plt.subplots(4, sharex=False, figsize=( 12, 5), gridspec_kw={'hspace': 0.5})\n",
    "    plt.suptitle('Motif (Pattern) Discovery', fontsize='20')\n",
    "    \n",
    "    padding = max(m, min(padding, len(df[variable_name].values) // 2))\n",
    "\n",
    "    x_min_motif = max(motif_idx - padding, 0)\n",
    "    x_max_motif = min(motif_idx + padding, len(df[variable_name].values))\n",
    "\n",
    "    axs[0].plot(df[variable_name].values)\n",
    "    axs[0].set_xlim([x_min_motif, x_max_motif])\n",
    "    axs[0].set_ylabel(title, fontsize='10')\n",
    "    rect_motif = Rectangle((motif_idx, df[variable_name].min()), m, df[variable_name].max() - df[variable_name].min(), facecolor='lightgrey')\n",
    "    axs[0].add_patch(rect_motif)\n",
    "\n",
    "    axs[1].plot(mp)\n",
    "    axs[1].set_xlim([x_min_motif, x_max_motif])\n",
    "    axs[1].set_xlabel('Time', fontsize='10')\n",
    "    axs[1].set_ylabel('MP - Min', fontsize='10')\n",
    "    axs[1].axvline(x=motif_idx, linestyle=\"dashed\")\n",
    "\n",
    "    x_min_neighbor = max(nearest_neighbor_idx - padding, 0)\n",
    "    x_max_neighbor = min(nearest_neighbor_idx + padding, len(df[variable_name].values))\n",
    "\n",
    "    axs[2].plot(df[variable_name].values)\n",
    "    axs[2].set_xlim([x_min_neighbor, x_max_neighbor])\n",
    "    axs[2].set_ylabel(title, fontsize='10')\n",
    "    rect_neighbor = Rectangle((nearest_neighbor_idx, df[variable_name].min()), m, df[variable_name].max() - df[variable_name].min(), facecolor='lightgrey')\n",
    "    axs[2].add_patch(rect_neighbor)\n",
    "\n",
    "    axs[3].plot(mp)\n",
    "    axs[3].set_xlim([x_min_neighbor, x_max_neighbor])\n",
    "    axs[3].set_xlabel('Time', fontsize='10')\n",
    "    axs[3].set_ylabel('MP-max', fontsize='10')\n",
    "    axs[3].axvline(x=nearest_neighbor_idx, linestyle=\"dashed\")\n",
    "\n",
    "    plt.show()"
   ]
  },
  {
   "cell_type": "markdown",
   "id": "81964055-748b-477c-8a66-b51683dabab8",
   "metadata": {},
   "source": [
    "# Download & load matrices"
   ]
  },
  {
   "cell_type": "code",
   "execution_count": null,
   "id": "922b80dd-301a-479b-8417-68c054220c22",
   "metadata": {},
   "outputs": [],
   "source": [
    "#| export\n",
    "class GD_Mat:\n",
    "    def __init__(self, id,  name, data_path = '~/data'):\n",
    "        self.id = id\n",
    "        self.data_path = os.path.expanduser(data_path)\n",
    "        self.zip_path = os.path.join(self.data_path, name + '.zip')\n",
    "        self.mat_path = os.path.join(self.data_path, name + '.mat')\n",
    "        self.mats_files = None\n",
    "        self.mats = None\n",
    "        self.mats_df =  None\n",
    "        self.num_mats = 0\n",
    "        self.num_mats_extracted = 0\n",
    "        \n",
    "    def download_file_from_google_drive(self):\n",
    "        return load.download_file_from_google_drive(self.id, self.zip_path)\n",
    "        \n",
    "    def get_mat_files(self):\n",
    "        self.mats_files = [f for f in load.zip_contents(self.zip_path) if not f.startswith('__MACOSX/')]\n",
    "        self.num_mats = len(self.mats_files)\n",
    "        self.mats = self.mats_df = [None]*self.num_mats\n",
    "    \n",
    "    def unzip_mat(self, all_one, case = '', print_flag = False): \n",
    "        str = load.unzip_mat(all_one, self.zip_path, self.data_path, case, print_flag)\n",
    "        self.get_mat_files()\n",
    "        return str\n",
    "        \n",
    "    def mat2csv(self, case_id, print_flag = False):\n",
    "        if print_flag: print(\"--> mat2csv\", case_id)\n",
    "        case = self.mats_files[case_id]\n",
    "        case_path = os.path.join(self.data_path, case)\n",
    "        print(\"Mat2csv case\", case_path)\n",
    "        self.mats_df[case_id] = load.mat2csv(case_path, self.data_path, print_flag)\n",
    "        if print_flag: print(\"mat2csv\", case_id, \"-->\")\n",
    "        \n",
    "    def __str__(self): \n",
    "        str = f\"FileID: {self.id}\\nData path: {self.data_path}\\n\"\n",
    "        str += f\"zip path: {self.zip_path}\\nmat_files: {self.mats_files}\"\n",
    "        str +=f\"\\nnum_mats: {self.num_mats}\"\n",
    "        return str\n",
    "    "
   ]
  },
  {
   "cell_type": "code",
   "execution_count": null,
   "id": "441dad88-fe82-4658-af97-61c479429d1e",
   "metadata": {},
   "outputs": [],
   "source": [
    "#| hide \n",
    "file_id = '1qq1z2mVRd7PzDqX0TDAwY7BcWVjnXUfQ'\n",
    "name = 'InsectData-fig11'\n",
    "\n",
    "gd_mat = GD_Mat(file_id, name)\n",
    "print(gd_mat)\n",
    "gd_mat.unzip_mat('all')\n",
    "print(gd_mat)\n",
    "gd_mat.mat2csv(0)\n",
    "print(gd_mat)\n",
    "display(gd_mat.mats_df[0].head(5))"
   ]
  },
  {
   "cell_type": "markdown",
   "id": "fc8f05c2-5f06-47ea-8c98-dd72526a721b",
   "metadata": {},
   "source": [
    "## Global variables"
   ]
  },
  {
   "cell_type": "code",
   "execution_count": null,
   "id": "a60fdc6e-13f6-45b6-80bd-4872a68d70d1",
   "metadata": {},
   "outputs": [],
   "source": [
    "#| export\n",
    "eamonn_drive_mplots = {\n",
    "    'insects0': {\n",
    "        'id': '1qq1z2mVRd7PzDqX0TDAwY7BcWVjnXUfQ',\n",
    "        'name': 'InsectData-fig11'\n",
    "    }\n",
    "}"
   ]
  },
  {
   "cell_type": "code",
   "execution_count": null,
   "id": "d6271290-6321-4680-adcb-b361d8cd057b",
   "metadata": {},
   "outputs": [],
   "source": [
    "#| hide \n",
    "eammon_drive_mplots['insects0']['name']"
   ]
  }
 ],
 "metadata": {
  "kernelspec": {
   "display_name": "Python 3 (ipykernel)",
   "language": "python",
   "name": "python3"
  },
  "language_info": {
   "codemirror_mode": {
    "name": "ipython",
    "version": 3
   },
   "file_extension": ".py",
   "mimetype": "text/x-python",
   "name": "python",
   "nbconvert_exporter": "python",
   "pygments_lexer": "ipython3",
   "version": "3.10.13"
  }
 },
 "nbformat": 4,
 "nbformat_minor": 5
}

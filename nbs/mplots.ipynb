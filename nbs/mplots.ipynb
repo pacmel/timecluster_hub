{
 "cells": [
  {
   "cell_type": "code",
   "execution_count": 1,
   "id": "b438dc4c-146d-4cf1-bf49-3019bfdaf4ff",
   "metadata": {},
   "outputs": [],
   "source": [
    "#| default_exp mplots"
   ]
  },
  {
   "cell_type": "code",
   "execution_count": 2,
   "id": "8ee33ef2-a03b-4c5f-a0e8-b5fa32f185e0",
   "metadata": {},
   "outputs": [],
   "source": [
    "#| export\n",
    "import time\n",
    "from dataclasses import dataclass, field"
   ]
  },
  {
   "cell_type": "code",
   "execution_count": 3,
   "id": "22cd1a5f-fe76-4b6f-b7bf-629ca32e1c70",
   "metadata": {},
   "outputs": [],
   "source": [
    "#| export\n",
    "@dataclass\n",
    "class Time:\n",
    "    time_start: float =  None\n",
    "    time_end : float =  None\n",
    "    time_total : float =  0.0\n",
    "\n",
    "    def start(self): \n",
    "        self.time_start = time.time()\n",
    "        return self.time_start\n",
    "\n",
    "    def end(self):\n",
    "        self.time_end = time.time()\n",
    "        return self.time_end\n",
    "        \n",
    "    def duration(self):\n",
    "        self.time_total=self.time_end - self.time_start\n",
    "        return self.time_total"
   ]
  },
  {
   "cell_type": "code",
   "execution_count": 4,
   "id": "1f2b125a-7f31-4273-b8f2-848f17e8198b",
   "metadata": {},
   "outputs": [
    {
     "data": {
      "text/plain": [
       "2.002328395843506"
      ]
     },
     "execution_count": 4,
     "metadata": {},
     "output_type": "execute_result"
    }
   ],
   "source": [
    "#| hide\n",
    "# Timer basic example\n",
    "foo = Time()\n",
    "foo.start()\n",
    "time.sleep(2) \n",
    "foo.end()\n",
    "foo.duration()"
   ]
  },
  {
   "cell_type": "markdown",
   "id": "6f560448-e1f1-4bc0-8fd4-ff4097b7abf5",
   "metadata": {},
   "source": [
    "## Mplots functions"
   ]
  },
  {
   "cell_type": "code",
   "execution_count": 5,
   "id": "ce683633-bbad-4954-b724-0b2179dee53b",
   "metadata": {},
   "outputs": [],
   "source": [
    "#| export\n",
    "import pyscamp as scamp\n",
    "import stumpy as stump \n",
    "import dvats.memory as mem\n",
    "import numpy as np"
   ]
  },
  {
   "cell_type": "code",
   "execution_count": 6,
   "id": "9a5b3050-27c3-412e-ac6a-f433781315d8",
   "metadata": {},
   "outputs": [
    {
     "name": "stdout",
     "output_type": "stream",
     "text": [
      "Ts ~  (10000,)\n",
      "Expected mp length:  9951\n"
     ]
    }
   ],
   "source": [
    "#| hide \n",
    "foo_ts = np.random.rand(10000)\n",
    "foo_m = 50\n",
    "print(\"Ts ~ \", foo_ts.shape)\n",
    "print(\"Expected mp length: \", int(np.floor(foo_ts.shape[0]-foo_m+1)))"
   ]
  },
  {
   "cell_type": "code",
   "execution_count": 7,
   "id": "8de6cb77-b939-4b61-8e1b-2ef8f7bf553f",
   "metadata": {},
   "outputs": [],
   "source": [
    "#| export\n",
    "from typing import List"
   ]
  },
  {
   "cell_type": "code",
   "execution_count": 8,
   "id": "074d8e73-52a2-4ccc-a3f0-cb42aaf2e71c",
   "metadata": {},
   "outputs": [],
   "source": [
    "#| export\n",
    "@dataclass\n",
    "class MatrixProfile:\n",
    "    matrix_profile: List[float] =  field(default_factory=list)\n",
    "    index : List[int] =  field(default_factory=list)\n",
    "    index_left : List[int] =  field(default_factory=list)\n",
    "    index_right: List[int] = field(default_factory=list)\n",
    "    computation_time: float = 0.0\n",
    "    subsequence_len: int = 0\n",
    "    method: str = ''\n",
    "    motif_idx: int = 0\n",
    "    nearest_neighbor_idx: int = 0\n",
    "    nearest_neighbor_idx_left: int = 0\n",
    "    nearest_neighbor_idx_right: int = 0\n",
    "    def __str__(self):\n",
    "        return f\"MP: {self.matrix_profile}\\nIds: {self.index}\\nIds_left: {self.index_left}\\nIds_right: {self.index_right}\\nComputation_time: {self.computation_time}\\nsubsequence_len: {self.subsequence_len}\\nmethod: {self.method}\""
   ]
  },
  {
   "cell_type": "code",
   "execution_count": 9,
   "id": "5606091f-34e9-4b88-a2af-ae463309b88f",
   "metadata": {},
   "outputs": [
    {
     "name": "stdout",
     "output_type": "stream",
     "text": [
      "[]\n",
      "[]\n",
      "MP: []\n",
      "Ids: []\n",
      "Ids_left: []\n",
      "Ids_right: []\n",
      "Computation_time: 0.0\n",
      "subsequence_len: 0\n",
      "method: \n"
     ]
    }
   ],
   "source": [
    "#| hide\n",
    "foo = MatrixProfile()\n",
    "print(foo.matrix_profile)\n",
    "print(foo.index_left)\n",
    "print(foo)"
   ]
  },
  {
   "cell_type": "code",
   "execution_count": 10,
   "id": "6ba46dfe-c04e-43c5-9d0c-624963cb81fa",
   "metadata": {},
   "outputs": [],
   "source": [
    "#| export\n",
    "def matrix_profile(\n",
    "    data, \n",
    "    subsequence_len, \n",
    "    method = 'scamp', \n",
    "    print_flag = False, \n",
    "    debug = True, \n",
    "    timed = True\n",
    "):\n",
    "    if print_flag: print(\"--> matrix profile\")\n",
    "    duration = 0.0\n",
    "    mp = []\n",
    "    index = []\n",
    "    index_left = []\n",
    "    index_right = []\n",
    "    if timed: \n",
    "        timer = Time()\n",
    "        timer.start()\n",
    "    match method:\n",
    "        case 'stump':\n",
    "            if print_flag: print(\"--> Stump\")\n",
    "            mp = stump.gpu_stump(data, subsequence_len)\n",
    "            index = mp[:,1]\n",
    "            index_left = mp[:,2]\n",
    "            index_right = mp[:,3]\n",
    "            mp = mp[:,0]\n",
    "        case 'scamp': \n",
    "            if print_flag: print(\"--> Scamp\")\n",
    "            if debug: \n",
    "                print(\"Check gpu use\")\n",
    "                has_gpu_support = scamp.gpu_supported()\n",
    "                print(has_gpu_support)\n",
    "            mp, index = scamp.selfjoin(data, subsequence_len)\n",
    "        case _: #default scamp\n",
    "            if print_flag: print(\"--> Invalid method. Using scamp [default]\")\n",
    "            if debug: \n",
    "                has_gpu_support = scamp.gpu_supported()\n",
    "                print(has_gpu_support)\n",
    "            mp, index = scamp.selfjoin(data, subsequence_len)            \n",
    "    if timed: \n",
    "        timer.end()\n",
    "        duration = timer.duration() \n",
    "    if print_flag: \n",
    "        if timed: \n",
    "            print(f\"matrix profile {duration} seconds -->\")\n",
    "        else: \n",
    "            print(\"matrix profile -->\")\n",
    "    return mp, index, index_left, index_right, duration"
   ]
  },
  {
   "cell_type": "code",
   "execution_count": 11,
   "id": "28be9438-07de-424c-b942-f11801d17aad",
   "metadata": {},
   "outputs": [],
   "source": [
    "#| export\n",
    "def compute(self : MatrixProfile, data, subsequence_len, method = 'scamp',  print_flag = False, debug = False, timed = True):\n",
    "    if print_flag: print(\"Subsequence len: \", subsequence_len)\n",
    "    self.subsequence_len = subsequence_len\n",
    "    self.method = method\n",
    "    self.matrix_profile, self.index, self.index_left, self.index_right, self.computation_time = matrix_profile(\n",
    "        data, subsequence_len, method, print_flag, debug, timed)\n",
    "    return self.matrix_profile\n",
    "MatrixProfile.compute = compute"
   ]
  },
  {
   "cell_type": "code",
   "execution_count": 12,
   "id": "bbae2e1d-05a5-42ce-b032-86e887c108d2",
   "metadata": {},
   "outputs": [
    {
     "name": "stdout",
     "output_type": "stream",
     "text": [
      "[0.93117493 0.52103246 0.44416213 ... 0.34434971 0.6602359  0.12584182]\n",
      "50\n"
     ]
    }
   ],
   "source": [
    "foo_mp = MatrixProfile()\n",
    "print(foo_ts)\n",
    "print(foo_m)"
   ]
  },
  {
   "cell_type": "code",
   "execution_count": 13,
   "id": "8e2a18a2-060f-4d63-880a-70d46f9a5f76",
   "metadata": {},
   "outputs": [
    {
     "name": "stdout",
     "output_type": "stream",
     "text": [
      "Subsequence len:  50\n",
      "--> matrix profile\n",
      "--> Scamp\n",
      "matrix profile 0.29804062843322754 seconds -->\n",
      "MP: [6.97269   6.8503933 6.840459  ... 6.9886837 7.0753307 7.0426874]\n",
      "Ids: [7018 3314 3315 ... 5605 3142 5607]\n",
      "Ids_left: []\n",
      "Ids_right: []\n",
      "Computation_time: 0.29804062843322754\n",
      "subsequence_len: 50\n",
      "method: scamp\n"
     ]
    }
   ],
   "source": [
    "#| hide\n",
    "foo_mp.compute(foo_ts, foo_m, 'scamp', True)\n",
    "print(foo_mp)"
   ]
  },
  {
   "cell_type": "code",
   "execution_count": 14,
   "id": "3bda0f64-5b2a-4481-9031-a69c89ffe013",
   "metadata": {},
   "outputs": [
    {
     "name": "stdout",
     "output_type": "stream",
     "text": [
      "--> matrix profile\n",
      "--> Stump\n"
     ]
    },
    {
     "name": "stderr",
     "output_type": "stream",
     "text": [
      "/usr/local/share/miniconda3/envs/env/lib/python3.10/site-packages/numba/cuda/dispatcher.py:536: NumbaPerformanceWarning: \u001b[1mGrid size 20 will likely result in GPU under-utilization due to low occupancy.\u001b[0m\n",
      "  warn(NumbaPerformanceWarning(msg))\n"
     ]
    },
    {
     "name": "stdout",
     "output_type": "stream",
     "text": [
      "matrix profile 5.920179605484009 seconds -->\n"
     ]
    }
   ],
   "source": [
    "#| hide\n",
    "foo_mp_stumpy = matrix_profile(foo_ts, foo_m, 'stump', True, True, True)"
   ]
  },
  {
   "cell_type": "code",
   "execution_count": 15,
   "id": "0e976b39-14eb-44cd-97ac-443af361560d",
   "metadata": {},
   "outputs": [
    {
     "name": "stdout",
     "output_type": "stream",
     "text": [
      "--> matrix profile\n",
      "--> Invalid method. Using scamp [default]\n",
      "True\n",
      "matrix profile 0.1167144775390625 seconds -->\n"
     ]
    }
   ],
   "source": [
    "#| hide\n",
    "foo_mp_stumpy = matrix_profile(foo_ts, foo_m, 'escampo', True, True, True)"
   ]
  },
  {
   "cell_type": "code",
   "execution_count": 16,
   "id": "d1e3ea22-b30c-48f1-9029-aa87f05afa9f",
   "metadata": {},
   "outputs": [],
   "source": [
    "#| export\n",
    "import matplotlib.pyplot as plt\n",
    "from mpl_toolkits.axes_grid1 import ImageGrid\n",
    "from matplotlib.gridspec import GridSpec\n",
    "from copy import deepcopy"
   ]
  },
  {
   "cell_type": "code",
   "execution_count": 34,
   "id": "cd15f11f-267b-4ef1-8518-e5bdc24dd76a",
   "metadata": {},
   "outputs": [],
   "source": [
    "#| export \n",
    "from matplotlib.patches import Rectangle"
   ]
  },
  {
   "cell_type": "code",
   "execution_count": 36,
   "id": "c96828dd-4238-4022-ae99-5f97b5f9d188",
   "metadata": {},
   "outputs": [],
   "source": [
    "#| export\n",
    "@dataclass\n",
    "class MatrixProfiles:\n",
    "    matrix_profiles: List[MatrixProfile] =  field(default_factory=list)\n",
    "    data: np.array = field(default_factory=list)\n",
    "    subsequence_len: int = 0\n",
    "\n",
    "    def append(self, mp: MatrixProfile):\n",
    "        self.matrix_profiles.append(deepcopy(mp))\n",
    "        self.subsequence_len = mp.subsequence_len\n",
    "    def compute(self : MatrixProfile, method = 'scamp',  print_flag = False, debug = False, timed = True):\n",
    "        mp = MatrixProfile()\n",
    "        mp.compute(\n",
    "            self.data, self.subsequence_len, method, print_flag, debug, timed\n",
    "        )\n",
    "        \n",
    "        mp.method = method\n",
    "        if print_flag: \n",
    "            print(\"MPs | compute -> Subsequence len out: \", self.subsequence_len)\n",
    "            print(\"MPs | compute -> Subsequence len inside: \", mp.subsequence_len)\n",
    "        self.matrix_profiles.append(mp)\n",
    "        return mp\n",
    "    \n",
    "    def plot(self, ids = []):\n",
    "        if ids == []: ids = range(len(self.matrix_profiles))\n",
    "        num_plots = len(ids)+1\n",
    "        fig = plt.figure(figsize=(10, 6))\n",
    "        gs = GridSpec(num_plots, 1, height_ratios=[1] + [4] * (num_plots -1))\n",
    "        # Serie temporal\n",
    "        ax1 = fig.add_subplot(gs[0])\n",
    "        ax1.plot(self.data, label=\"Data\")\n",
    "        ax1.set_title(\"Time Serie\")\n",
    "        ax1.legend()\n",
    "        # MPlots\n",
    "        for i in ids:\n",
    "            ax2 = fig.add_subplot(gs[i+1], sharex=ax1)\n",
    "            mp_values = self.matrix_profiles[i].matrix_profile.astype(float)\n",
    "            ax2.imshow(mp_values.reshape(-1, 1).T, aspect='auto', origin='lower', cmap='hot', extent=(0, len(self.data), 0, self.subsequence_len))\n",
    "            ax2.set_title(f\"MPlot - {i} - {self.matrix_profiles[i].method}\")\n",
    "        plt.tight_layout()\n",
    "        plt.show()\n",
    "\n",
    "    def get_motif_idx(self, id): \n",
    "        mp_sorted = np.argsort( self.matrix_profiles[id].matrix_profile )\n",
    "        motif_idx = mp_sorted[0]\n",
    "        self.matrix_profiles[id].motif_idx = motif_idx\n",
    "        self.matrix_profiles[id].nearest_neighbor_idx = self.matrix_profiles[id].index[motif_idx]\n",
    "        \n",
    "        if ( self.matrix_profiles[id].method == 'stump' ):\n",
    "            self.matrix_profiles[id].nearest_neighbor_idx_left = self.matrix_profiles[id].index_left[motif_idx]\n",
    "            self.matrix_profiles[id].nearest_neighbor_idx_right = self.matrix_profiles[id].index_right[motif_idx]\n",
    "        return self.matrix_profiles[id].motif_idx, self.matrix_profiles[id].nearest_neighbor_idx, self.matrix_profiles[id].nearest_neighbor_idx_left, self.matrix_profiles[id].nearest_neighbor_idx_right\n",
    "            \n",
    "\n",
    "    def plot_motif(\n",
    "        self, \n",
    "        ts_name,\n",
    "        id, \n",
    "        motif_idx, \n",
    "        nearest_neighbor_idx, \n",
    "        title_fontsize = '30', \n",
    "        other_fontsize = '20'\n",
    "    ): \n",
    "        fig, axs = plt.subplots(2, sharex=True, gridspec_kw={'hspace': 0.4})\n",
    "        plt.suptitle('Motif (Pattern) Discovery | ' + self.matrix_profiles[id].method , fontsize=title_fontsize)\n",
    "\n",
    "        axs[0].plot(self.data.values)\n",
    "        axs[0].set_ylabel(ts_name, fontsize=other_fontsize)\n",
    "        rect = Rectangle((motif_idx, 0), self.subsequence_len, 40, facecolor='lightgrey')\n",
    "        axs[0].add_patch(rect)\n",
    "        rect = Rectangle((nearest_neighbor_idx, 0), self.subsequence_len, 40, facecolor='lightgrey')\n",
    "        axs[0].add_patch(rect)\n",
    "        axs[1].set_xlabel('Index', fontsize =other_fontsize)\n",
    "        axs[1].set_ylabel('Matrix Profile', fontsize=other_fontsize)\n",
    "        axs[1].axvline(x=motif_idx, linestyle=\"dashed\", color = \"black\")\n",
    "        axs[1].axvline(x=nearest_neighbor_idx, linestyle=\"dashed\", color=\"red\")\n",
    "        axs[1].plot(self.matrix_profiles[id].matrix_profile)\n",
    "        plt.show()\n",
    "        \n",
    "        \n"
   ]
  },
  {
   "cell_type": "code",
   "execution_count": 18,
   "id": "2c0fae66-08ea-405b-9713-185114205ece",
   "metadata": {},
   "outputs": [
    {
     "name": "stdout",
     "output_type": "stream",
     "text": [
      "Ts ~  (10000,)\n",
      "Expected mp length:  9951\n",
      "Subsequence len:  50\n",
      "--> matrix profile\n",
      "--> Stump\n",
      "matrix profile 2.2186570167541504 seconds -->\n",
      "MPs | compute -> Subsequence len out:  50\n",
      "MPs | compute -> Subsequence len inside:  50\n",
      "Total MPs:  1\n",
      "MP: [6.972690172347554 6.850393403863808 6.840458603524715 ...\n",
      " 6.988683566447894 7.075330913808945 7.042687188796608]\n",
      "Ids: [7018 3314 3315 ... 5605 3142 5607]\n",
      "Ids_left: [-1 -1 -1 ... 5605 3142 5607]\n",
      "Ids_right: [7018 3314 3315 ... -1 -1 -1]\n",
      "Computation_time: 2.2186570167541504\n",
      "subsequence_len: 50\n",
      "method: stump\n",
      "Subsequence len:  50\n",
      "--> matrix profile\n",
      "--> Scamp\n",
      "Check gpu use\n",
      "True\n",
      "matrix profile 0.07978439331054688 seconds -->\n",
      "MPs | compute -> Subsequence len out:  50\n",
      "MPs | compute -> Subsequence len inside:  50\n",
      "Total MPs:  2\n",
      "MP: [6.97269   6.8503933 6.840459  ... 6.9886837 7.0753307 7.0426874]\n",
      "Ids: [7018 3314 3315 ... 5605 3142 5607]\n",
      "Ids_left: []\n",
      "Ids_right: []\n",
      "Computation_time: 0.07978439331054688\n",
      "subsequence_len: 50\n",
      "method: scamp\n"
     ]
    }
   ],
   "source": [
    "#| hide\n",
    "foo_mps = MatrixProfiles()\n",
    "foo_mps.data = foo_ts\n",
    "foo_mps.subsequence_len = 50\n",
    "print(\"Ts ~ \", foo_mps.data.shape)\n",
    "print(\"Expected mp length: \", int(np.floor(foo_mps.data.shape[0]-foo_mps.subsequence_len+1)))\n",
    "foo_mps.compute('stump',  True, True, True)\n",
    "print(\"Total MPs: \", len(foo_mps.matrix_profiles))\n",
    "print(foo_mps.matrix_profiles[0])\n",
    "foo_mps.compute('scamp',  True, True, True)\n",
    "print(\"Total MPs: \", len(foo_mps.matrix_profiles))\n",
    "print(foo_mps.matrix_profiles[1])"
   ]
  },
  {
   "cell_type": "code",
   "execution_count": 20,
   "id": "e4c8d24f-2b24-4466-a37c-0aa5218b1a5d",
   "metadata": {},
   "outputs": [],
   "source": [
    "#| export\n",
    "import pandas as pd"
   ]
  },
  {
   "cell_type": "code",
   "execution_count": 37,
   "id": "5d8423f9-c04d-40eb-84c6-7e92ce677f01",
   "metadata": {},
   "outputs": [
    {
     "name": "stdout",
     "output_type": "stream",
     "text": [
      "Subsequence len:  640\n",
      "--> matrix profile\n",
      "--> Scamp\n",
      "matrix profile 0.16942524909973145 seconds -->\n",
      "MPs | compute -> Subsequence len out:  640\n",
      "MPs | compute -> Subsequence len inside:  640\n",
      "Subsequence len:  640\n",
      "--> matrix profile\n",
      "--> Stump\n",
      "matrix profile 3.1195285320281982 seconds -->\n",
      "MPs | compute -> Subsequence len out:  640\n",
      "MPs | compute -> Subsequence len inside:  640\n",
      "(855, 5269, 10, 5269)\n",
      "(5269, 855, 0, 0)\n"
     ]
    }
   ],
   "source": [
    "#| hide\n",
    "steam_df = pd.read_csv(\"https://zenodo.org/record/4273921/files/STUMPY_Basics_steamgen.csv?download=1\")\n",
    "steam_df.head()\n",
    "steam_mps = MatrixProfiles()\n",
    "steam_mps.subsequence_len = 640\n",
    "steam_mps.data = steam_df['steam flow']\n",
    "steam_mps.compute('scamp', print_flag = True, debug = False, timed = True)\n",
    "steam_mps.compute('stump', print_flag = True, debug = False, timed = True)\n",
    "print(foo_mps.get_motif_idx(0))\n",
    "print(foo_mps.get_motif_idx(1))"
   ]
  },
  {
   "cell_type": "code",
   "execution_count": 38,
   "id": "73d7bdb7-af57-4409-9ff0-acdb5ea15efa",
   "metadata": {},
   "outputs": [
    {
     "name": "stdout",
     "output_type": "stream",
     "text": [
      "643\n",
      "8724\n",
      "296\n",
      "8724\n"
     ]
    }
   ],
   "source": [
    "#| hide\n",
    "steam_mps.get_motif_idx(0)\n",
    "steam_mps.get_motif_idx(1)\n",
    "print(steam_mps.matrix_profiles[1].motif_idx)\n",
    "print(steam_mps.matrix_profiles[1].nearest_neighbor_idx)\n",
    "print(steam_mps.matrix_profiles[1].nearest_neighbor_idx_left)\n",
    "print(steam_mps.matrix_profiles[1].nearest_neighbor_idx_right)"
   ]
  },
  {
   "cell_type": "code",
   "execution_count": 41,
   "id": "2715fb7b-00c1-4f3b-aa21-ac9f42e3183d",
   "metadata": {},
   "outputs": [
    {
     "data": {
      "image/png": "[encoded data removed]",
      "text/plain": [
       "<Figure size 640x480 with 2 Axes>"
      ]
     },
     "metadata": {},
     "output_type": "display_data"
    }
   ],
   "source": [
    "#| hide\n",
    "stumpy_idxs = steam_mps.get_motif_idx(0)\n",
    "steam_mps.plot_motif(\n",
    "    ts_name = 'Steam flow', \n",
    "    id = 0, \n",
    "    motif_idx = stumpy_idxs[0], \n",
    "    nearest_neighbor_idx = stumpy_idxs[1], \n",
    "    title_fontsize = '13', \n",
    "    other_fontsize = '10'\n",
    ")"
   ]
  },
  {
   "cell_type": "code",
   "execution_count": null,
   "id": "af80d3a9-4884-4077-94a9-e895f24f7e32",
   "metadata": {},
   "outputs": [],
   "source": [
    "#| hide\n",
    "foo_mps = MatrixProfiles()"
   ]
  },
  {
   "cell_type": "code",
   "execution_count": null,
   "id": "a5623782-4651-40d0-a5ae-6da5278a732c",
   "metadata": {},
   "outputs": [],
   "source": [
    "#| hide\n",
    "foo_mps.data = foo_ts\n",
    "foo_mps.sequence_len = foo_m\n",
    "foo_mp.compute(foo_ts, foo_m, 'scamp', True)\n",
    "foo_mps.append(foo_mp)\n",
    "print(foo_mp.method)\n",
    "print(foo_mps.matrix_profiles[0].method)\n",
    "foo_mp.compute(foo_ts, foo_m, 'stumpy', True)\n",
    "foo_mps.append(foo_mp)\n",
    "print(foo_mps.matrix_profiles[0].method)\n",
    "print(foo_mps.matrix_profiles[1].method)"
   ]
  },
  {
   "cell_type": "code",
   "execution_count": null,
   "id": "c670d5aa-a8d0-48dc-aa83-ad178f37d34d",
   "metadata": {},
   "outputs": [],
   "source": [
    "#| hide\n",
    "foo_mps.plot([])"
   ]
  },
  {
   "cell_type": "code",
   "execution_count": null,
   "id": "ea5b0944-4e89-4f9d-a9e6-38a0d6a297f9",
   "metadata": {},
   "outputs": [],
   "source": [
    "#| hide \n",
    "print(foo_mps.matrix_profiles[0].computation_time)\n",
    "print(foo_mps.matrix_profiles[1].computation_time)"
   ]
  },
  {
   "cell_type": "markdown",
   "id": "fe6b2062-4497-4da4-9d0f-77458035e0dd",
   "metadata": {},
   "source": [
    "## Plotting auxiliar functions"
   ]
  },
  {
   "cell_type": "code",
   "execution_count": null,
   "id": "49c4ab80-8037-4f79-a6a7-d1747ecad762",
   "metadata": {},
   "outputs": [],
   "source": [
    "#| export\n",
    "import dvats.load as load\n",
    "import os\n",
    "import pandas as pd\n",
    "import numpy as np\n",
    "import matplotlib\n",
    "import matplotlib.pyplot as plt\n",
    "import matplotlib.dates as dates\n",
    "from matplotlib.patches import Rectangle\n",
    "import datetime as dt\n",
    "from mpl_toolkits.axes_grid1 import ImageGrid\n",
    "from matplotlib.gridspec import GridSpec\n",
    "plt.style.use('https://raw.githubusercontent.com/TDAmeritrade/stumpy/main/docs/stumpy.mplstyle')"
   ]
  },
  {
   "cell_type": "code",
   "execution_count": null,
   "id": "e0c97dc9-35e0-4901-8d64-db8435102169",
   "metadata": {},
   "outputs": [],
   "source": []
  },
  {
   "cell_type": "code",
   "execution_count": null,
   "id": "277fdb14-9578-41da-a4b1-60a3d7d6f3a0",
   "metadata": {},
   "outputs": [],
   "source": [
    "#| export\n",
    "def plot_dataFrame(title, df, vars = [], interval = 10000):\n",
    "    if len(vars) > 0:\n",
    "        num_vars = len(df.columns)\n",
    "    \n",
    "        for var_num in vars:\n",
    "            if var_num >= len(df.columns):\n",
    "                raise ValueError(\"var_num \"+var[var_num] + \"is out of the range of DataFrame columns: \" + num_vars)\n",
    "\n",
    "        num_vars = len(vars)\n",
    "        \n",
    "        ### Start the plot \n",
    "\n",
    "        #fig = plt.figure(figsize=(10, num_intervals * 3))  # Ajusta el tamaño del plot según el número de intervalos\n",
    "        \n",
    "        num_intervals = df.shape[0] // interval + 1\n",
    "        fig = plt.figure(figsize=(10, num_vars * num_intervals * 3))  ## Size\n",
    "        gs = GridSpec(num_intervals*num_vars, 1) # 1 column, len(vars) rows\n",
    "        var_pos = 0\n",
    "        for var_num  in vars:\n",
    "            var_name = df.columns[var_num]\n",
    "            data = df[var_name]\n",
    "            for i in range(num_intervals):    \n",
    "                start_idx = i * interval\n",
    "                end_idx = len(data) if i == (num_intervals - 1) else start_idx + interval\n",
    "                ax = fig.add_subplot(gs[var_pos+i])\n",
    "                ax.plot(np.arange(start_idx, end_idx), data[start_idx:end_idx], label=f\"{var_name} [{start_idx}, {end_idx}]\")\n",
    "                ax.set_title(f\"{var_name} [{start_idx}, {end_idx}]\")\n",
    "                ax.set_xlabel(\"Time\")\n",
    "                ax.set_ylabel(var_name)\n",
    "                ax.legend()\n",
    "            var_pos += 1\n",
    "                \n",
    "        plt.suptitle(title, fontsize=16)\n",
    "        plt.tight_layout()\n",
    "        plt.show()\n",
    "    else: raise ValueError(\"No variable proposed for plotting\")"
   ]
  },
  {
   "cell_type": "code",
   "execution_count": null,
   "id": "847a5ddc-1a9d-45e0-b2ff-72a9117cf65d",
   "metadata": {},
   "outputs": [],
   "source": [
    "#| export \n",
    "def plot_dataFrame_compareSubsequences(\n",
    "    title, df, var, subsequence_len, seq1_init, seq2_init, \n",
    "    title_fontsize = '30',\n",
    "    others_fontsize='20'\n",
    "):\n",
    "    fig, axs = plt.subplots(2)\n",
    "    fig.subplots_adjust(hspace=0.4) \n",
    "    plt.suptitle(title, fontsize=title_fontsize)\n",
    "    var_name = df.columns[var]\n",
    "    axs[0].set_ylabel(var_name, fontsize=others_fontsize)\n",
    "    axs[0].plot(df[var_name], alpha=0.5, linewidth=1)\n",
    "    axs[0].plot(df[var_name].iloc[seq1_init:seq1_init+subsequence_len])\n",
    "    axs[0].plot(df[var_name].iloc[seq2_init:seq2_init+subsequence_len])\n",
    "    rect = Rectangle((seq1_init, 0), subsequence_len, 40, facecolor='lightgrey')\n",
    "    axs[0].add_patch(rect)\n",
    "    axs[0].set_xlabel(\"Index\", fontsize=others_fontsize)\n",
    "\n",
    "    rect = Rectangle((seq2_init, 0), subsequence_len, 40, facecolor='lightgrey')\n",
    "    axs[0].add_patch(rect)\n",
    "    axs[1].set_xlabel(\"Relative Index (subsequence)\", fontsize=others_fontsize)\n",
    "    axs[1].set_ylabel(var_name, fontsize=others_fontsize)\n",
    "    axs[1].plot(df[var_name].values[seq1_init:seq1_init+subsequence_len], color='C1')\n",
    "    axs[1].plot(df[var_name].values[seq2_init:seq2_init+subsequence_len], color='C2')\n",
    "    plt.show()\n",
    "    "
   ]
  },
  {
   "cell_type": "code",
   "execution_count": null,
   "id": "4c81bd32-12cd-4128-a623-02ba25061bd9",
   "metadata": {},
   "outputs": [],
   "source": [
    "#| hide\n",
    "import pandas as pd\n",
    "steam_df = pd.read_csv(\"https://zenodo.org/record/4273921/files/STUMPY_Basics_steamgen.csv?download=1\")\n",
    "steam_df.head()\n",
    "plot_dataFrame_compareSubsequences('Steamgen Dataset', steam_df, 3, 640, 643, 8724, '16', '10')"
   ]
  },
  {
   "cell_type": "code",
   "execution_count": null,
   "id": "66a49598-7cc7-43c4-a1bd-3df930c4e3ce",
   "metadata": {},
   "outputs": [],
   "source": [
    "#| export\n",
    "def df_plot_colored_variables(df):\n",
    "    # Show time series plot\n",
    "    fig, ax = plt.subplots(1, figsize=(15,5), )\n",
    "    cmap = matplotlib.colormaps.get_cmap('viridis')\n",
    "    #df.plot(color=cmap(0.05), ax=ax) # or use colormap=cmap\n",
    "    df.plot(colormap=cmap, ax=ax) # or use colormap=cmap\n",
    "    # rect = Rectangle((5000, -4.2), 3000, 8.4, facecolor='lightgrey', alpha=0.5)\n",
    "    # ax.add_patch(rect)\n",
    "    plt.tight_layout()\n",
    "    plt.legend()\n",
    "    display(plt.show())"
   ]
  },
  {
   "cell_type": "code",
   "execution_count": null,
   "id": "cf70d36a-6287-4dde-b368-7b46282b01ee",
   "metadata": {},
   "outputs": [],
   "source": [
    "#| export\n",
    "def plot_df_with_intervals_and_colors(title, df, interval=10000):\n",
    "    num_variables = len(df.columns)\n",
    "    num_intervals = len(df) // interval + 1  # Calcula el número necesario de intervalos/subplots\n",
    "\n",
    "    fig = plt.figure(figsize=(10, num_intervals * 3 * num_variables))  # Ajusta el tamaño del plot\n",
    "    gs = GridSpec(num_intervals * num_variables, 1)\n",
    "    \n",
    "    cmap = matplotlib.colormaps.get_cmap('viridis')\n",
    "\n",
    "    for var_num, var in enumerate(df.columns):\n",
    "        data = df[var]\n",
    "        for i in range(num_intervals):\n",
    "            ax = fig.add_subplot(gs[var_num * num_intervals + i])\n",
    "            start_idx = i * interval\n",
    "            end_idx = start_idx + interval\n",
    "\n",
    "            if i == num_intervals - 1:  # Ajusta el último intervalo para incluir todos los datos restantes\n",
    "                end_idx = len(data)\n",
    "\n",
    "            color = cmap(var_num / num_variables)  # Asigna un color basado en la variable\n",
    "            ax.plot(np.arange(start_idx, end_idx), data[start_idx:end_idx], label=f\"{var} [{start_idx}, {end_idx}]\", color=color)\n",
    "            ax.set_title(f\"{var} [{start_idx}, {end_idx}]\")\n",
    "            ax.set_xlabel(\"Index\")\n",
    "            ax.set_ylabel(var)\n",
    "            ax.legend()\n",
    "\n",
    "    plt.suptitle(title, fontsize=16)\n",
    "    plt.tight_layout()\n",
    "    plt.show()"
   ]
  },
  {
   "cell_type": "code",
   "execution_count": null,
   "id": "7355a774-1750-4eb3-8605-455ad74f05b2",
   "metadata": {},
   "outputs": [],
   "source": [
    "#| export\n",
    "def plot_motif(df, motif_idx, nearest_neighbor_idx, variable_name, title, padding = 1000, m = 1, mp = None):\n",
    "    fig, axs = plt.subplots(2, sharex = True, gridspec_kw={'hspace': 0})\n",
    "    plt.suptitle('Motif (Pattern) Discovery', fontsize='30')\n",
    "    padding = min(padding, len(df[variable_name].values) // 2)\n",
    "\n",
    "    # Calcula los límites para hacer zoom\n",
    "    x_min = max(min(motif_idx, nearest_neighbor_idx) - padding, 0)\n",
    "    x_max = min(max(motif_idx, nearest_neighbor_idx) + padding, len(df[variable_name].values))\n",
    "\n",
    "    axs[0].plot(df[variable_name].values)\n",
    "    axs[0].set_xlim([x_min, x_max])  # Aplica el zoom aquí\n",
    "    axs[0].set_ylabel(title, fontsize='20')\n",
    "        \n",
    "    axs[0].set_ylabel(title, fontsize='20')\n",
    "    rect = Rectangle((motif_idx, 0), m, 40, facecolor='lightgrey')\n",
    "    axs[0].add_patch(rect)\n",
    "    rect = Rectangle((nearest_neighbor_idx, 0), m, 40, facecolor='lightgrey')\n",
    "    axs[0].add_patch(rect)\n",
    "    axs[1].set_xlabel('Time', fontsize ='20')\n",
    "    axs[1].set_ylabel('Matrix Profile', fontsize='20')\n",
    "    axs[1].axvline(x=motif_idx, linestyle=\"dashed\")\n",
    "    axs[1].axvline(x=nearest_neighbor_idx, linestyle=\"dashed\")\n",
    "    axs[1].plot(mp)\n",
    "    plt.show()"
   ]
  },
  {
   "cell_type": "code",
   "execution_count": null,
   "id": "8155f97b-bc9c-4909-b954-cce438b387ba",
   "metadata": {},
   "outputs": [],
   "source": [
    "#| export\n",
    "def plot_motif_separated(df, motif_idx=0, nearest_neighbor_idx=0, variable_name=\"\", title=\"\", padding=1000, m=1, mp=None):\n",
    "    fig, axs = plt.subplots(4, sharex=False, figsize=( 12, 5), gridspec_kw={'hspace': 0.5})\n",
    "    plt.suptitle('Motif (Pattern) Discovery', fontsize='20')\n",
    "    \n",
    "    padding = max(m, min(padding, len(df[variable_name].values) // 2))\n",
    "\n",
    "    x_min_motif = max(motif_idx - padding, 0)\n",
    "    x_max_motif = min(motif_idx + padding, len(df[variable_name].values))\n",
    "\n",
    "    axs[0].plot(df[variable_name].values)\n",
    "    axs[0].set_xlim([x_min_motif, x_max_motif])\n",
    "    axs[0].set_ylabel(title, fontsize='10')\n",
    "    rect_motif = Rectangle((motif_idx, df[variable_name].min()), m, df[variable_name].max() - df[variable_name].min(), facecolor='lightgrey')\n",
    "    axs[0].add_patch(rect_motif)\n",
    "\n",
    "    axs[1].plot(mp)\n",
    "    axs[1].set_xlim([x_min_motif, x_max_motif])\n",
    "    axs[1].set_xlabel('Time', fontsize='10')\n",
    "    axs[1].set_ylabel('MP - Min', fontsize='10')\n",
    "    axs[1].axvline(x=motif_idx, linestyle=\"dashed\")\n",
    "\n",
    "    x_min_neighbor = max(nearest_neighbor_idx - padding, 0)\n",
    "    x_max_neighbor = min(nearest_neighbor_idx + padding, len(df[variable_name].values))\n",
    "\n",
    "    axs[2].plot(df[variable_name].values)\n",
    "    axs[2].set_xlim([x_min_neighbor, x_max_neighbor])\n",
    "    axs[2].set_ylabel(title, fontsize='10')\n",
    "    rect_neighbor = Rectangle((nearest_neighbor_idx, df[variable_name].min()), m, df[variable_name].max() - df[variable_name].min(), facecolor='lightgrey')\n",
    "    axs[2].add_patch(rect_neighbor)\n",
    "\n",
    "    axs[3].plot(mp)\n",
    "    axs[3].set_xlim([x_min_neighbor, x_max_neighbor])\n",
    "    axs[3].set_xlabel('Time', fontsize='10')\n",
    "    axs[3].set_ylabel('MP-max', fontsize='10')\n",
    "    axs[3].axvline(x=nearest_neighbor_idx, linestyle=\"dashed\")\n",
    "\n",
    "    plt.show()"
   ]
  },
  {
   "cell_type": "markdown",
   "id": "81964055-748b-477c-8a66-b51683dabab8",
   "metadata": {},
   "source": [
    "# Download & load matrices"
   ]
  },
  {
   "cell_type": "code",
   "execution_count": null,
   "id": "922b80dd-301a-479b-8417-68c054220c22",
   "metadata": {},
   "outputs": [],
   "source": [
    "#| export\n",
    "class GD_Mat:\n",
    "    def __init__(self, id,  name, data_path = '~/data'):\n",
    "        self.id = id\n",
    "        self.data_path = os.path.expanduser(data_path)\n",
    "        self.zip_path = os.path.join(self.data_path, name + '.zip')\n",
    "        self.mat_path = os.path.join(self.data_path, name + '.mat')\n",
    "        self.mats_files = None\n",
    "        self.mats = None\n",
    "        self.mats_df =  None\n",
    "        self.num_mats = 0\n",
    "        self.num_mats_extracted = 0\n",
    "        \n",
    "    def download_file_from_google_drive(self):\n",
    "        return load.download_file_from_google_drive(self.id, self.zip_path)\n",
    "        \n",
    "    def get_mat_files(self):\n",
    "        self.mats_files = [f for f in load.zip_contents(self.zip_path) if not f.startswith('__MACOSX/')]\n",
    "        self.num_mats = len(self.mats_files)\n",
    "        self.mats = self.mats_df = [None]*self.num_mats\n",
    "    \n",
    "    def unzip_mat(self, all_one, case = '', print_flag = False): \n",
    "        str = load.unzip_mat(all_one, self.zip_path, self.data_path, case, print_flag)\n",
    "        self.get_mat_files()\n",
    "        return str\n",
    "        \n",
    "    def mat2csv(self, case_id, print_flag = False):\n",
    "        if print_flag: print(\"--> mat2csv\", case_id)\n",
    "        case = self.mats_files[case_id]\n",
    "        case_path = os.path.join(self.data_path, case)\n",
    "        print(\"Mat2csv case\", case_path)\n",
    "        self.mats_df[case_id] = load.mat2csv(case_path, self.data_path, print_flag)\n",
    "        if print_flag: print(\"mat2csv\", case_id, \"-->\")\n",
    "        \n",
    "    def __str__(self): \n",
    "        str = f\"FileID: {self.id}\\nData path: {self.data_path}\\n\"\n",
    "        str += f\"zip path: {self.zip_path}\\nmat_files: {self.mats_files}\"\n",
    "        str +=f\"\\nnum_mats: {self.num_mats}\"\n",
    "        return str\n",
    "    "
   ]
  },
  {
   "cell_type": "code",
   "execution_count": null,
   "id": "441dad88-fe82-4658-af97-61c479429d1e",
   "metadata": {},
   "outputs": [],
   "source": [
    "#| hide \n",
    "file_id = '1qq1z2mVRd7PzDqX0TDAwY7BcWVjnXUfQ'\n",
    "name = 'InsectData-fig11'\n",
    "\n",
    "gd_mat = GD_Mat(file_id, name)\n",
    "print(gd_mat)\n",
    "gd_mat.unzip_mat('all')\n",
    "print(gd_mat)\n",
    "gd_mat.mat2csv(0)\n",
    "print(gd_mat)\n",
    "display(gd_mat.mats_df[0].head(5))"
   ]
  },
  {
   "cell_type": "markdown",
   "id": "fc8f05c2-5f06-47ea-8c98-dd72526a721b",
   "metadata": {},
   "source": [
    "## Global variables"
   ]
  },
  {
   "cell_type": "code",
   "execution_count": null,
   "id": "a60fdc6e-13f6-45b6-80bd-4872a68d70d1",
   "metadata": {},
   "outputs": [],
   "source": [
    "#| export\n",
    "eamonn_drive_mplots = {\n",
    "    'insects0': {\n",
    "        'id': '1qq1z2mVRd7PzDqX0TDAwY7BcWVjnXUfQ',\n",
    "        'name': 'InsectData-fig11'\n",
    "    }\n",
    "}"
   ]
  },
  {
   "cell_type": "code",
   "execution_count": null,
   "id": "d6271290-6321-4680-adcb-b361d8cd057b",
   "metadata": {},
   "outputs": [],
   "source": [
    "#| hide \n",
    "eammon_drive_mplots['insects0']['name']"
   ]
  }
 ],
 "metadata": {
  "kernelspec": {
   "display_name": "Python 3 (ipykernel)",
   "language": "python",
   "name": "python3"
  },
  "language_info": {
   "codemirror_mode": {
    "name": "ipython",
    "version": 3
   },
   "file_extension": ".py",
   "mimetype": "text/x-python",
   "name": "python",
   "nbconvert_exporter": "python",
   "pygments_lexer": "ipython3",
   "version": "3.10.13"
  }
 },
 "nbformat": 4,
 "nbformat_minor": 5
}

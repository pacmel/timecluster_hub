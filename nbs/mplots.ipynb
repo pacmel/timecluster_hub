{
 "cells": [
  {
   "cell_type": "code",
   "execution_count": 1,
   "id": "b438dc4c-146d-4cf1-bf49-3019bfdaf4ff",
   "metadata": {},
   "outputs": [],
   "source": [
    "#| default_exp mplots"
   ]
  },
  {
   "cell_type": "code",
   "execution_count": 2,
   "id": "22cd1a5f-fe76-4b6f-b7bf-629ca32e1c70",
   "metadata": {},
   "outputs": [],
   "source": [
    "#| export\n",
    "import time\n",
    "\n",
    "class Time:\n",
    "    def __init__(self):\n",
    "        self.time_start = None\n",
    "        self.time_end = None\n",
    "        self.time_total = 0\n",
    "\n",
    "    def start(self): \n",
    "        self.time_start = time.time()\n",
    "        return self.time_start\n",
    "\n",
    "    def end(self):\n",
    "        self.time_end = time.time()\n",
    "        return self.time_end\n",
    "        \n",
    "    def duration(self):\n",
    "        self.time_total=self.time_end - self.time_start\n",
    "        return self.duration\n",
    "\n",
    "    def __str__(self):\n",
    "        \"\"\"\n",
    "        Representación en cadena de la clase Time.\n",
    "\n",
    "        :return: Cadena que representa la instancia de Time.\n",
    "        \"\"\"\n",
    "        if (self.time_total == 0): self.duration();\n",
    "        return f\"Time Start: {self.time_start}, Time End: {self.time_end}, Duration: {self.time_total}\"\n"
   ]
  },
  {
   "cell_type": "code",
   "execution_count": 3,
   "id": "ce683633-bbad-4954-b724-0b2179dee53b",
   "metadata": {},
   "outputs": [],
   "source": [
    "#| export\n",
    "import dvats.load as load\n",
    "import os"
   ]
  },
  {
   "cell_type": "code",
   "execution_count": 4,
   "id": "922b80dd-301a-479b-8417-68c054220c22",
   "metadata": {},
   "outputs": [],
   "source": [
    "#| export\n",
    "class GD_Mat:\n",
    "    def __init__(self, id,  name, data_path = '~/data'):\n",
    "        self.id = id\n",
    "        self.data_path = os.path.expanduser(data_path)\n",
    "        self.zip_path = os.path.join(self.data_path, name + '.zip')\n",
    "        self.mat_path = os.path.join(self.data_path, name + '.mat')\n",
    "        self.mats_files = None\n",
    "        self.mats = None\n",
    "        self.mats_df =  None\n",
    "        self.num_mats = 0\n",
    "        self.num_mats_extracted = 0\n",
    "        \n",
    "    def download_file_from_google_drive(self):\n",
    "        return load.download_file_from_google_drive(self.id, self.zip_path)\n",
    "        \n",
    "    def get_mat_files(self):\n",
    "        self.mats_files = [f for f in load.zip_contents(self.zip_path) if not f.startswith('__MACOSX/')]\n",
    "        self.num_mats = len(self.mats_files)\n",
    "        self.mats = self.mats_df = [None]*self.num_mats\n",
    "    \n",
    "    def unzip_mat(self, all_one, case = '', print_flag = False): \n",
    "        str = load.unzip_mat(all_one, self.zip_path, self.data_path, case, print_flag)\n",
    "        self.get_mat_files()\n",
    "        return str\n",
    "        \n",
    "    def mat2csv(self, case_id, print_flag = False):\n",
    "        if print_flag: print(\"--> mat2csv\", case_id)\n",
    "        case = self.mats_files[case_id]\n",
    "        case_path = os.path.join(self.data_path, case)\n",
    "        print(\"Mat2csv case\", case_path)\n",
    "        self.mats_df[case_id] = load.mat2csv(case_path, self.data_path, print_flag)\n",
    "        if print_flag: print(\"mat2csv\", case_id, \"-->\")\n",
    "        \n",
    "    def __str__(self): \n",
    "        str = f\"FileID: {self.id}\\nData path: {self.data_path}\\n\"\n",
    "        str += f\"zip path: {self.zip_path}\\nmat_files: {self.mats_files}\"\n",
    "        str +=f\"\\nnum_mats: {self.num_mats}\"\n",
    "        return str\n",
    "    "
   ]
  },
  {
   "cell_type": "code",
   "execution_count": 7,
   "id": "441dad88-fe82-4658-af97-61c479429d1e",
   "metadata": {},
   "outputs": [
    {
     "name": "stdout",
     "output_type": "stream",
     "text": [
      "FileID: 1qq1z2mVRd7PzDqX0TDAwY7BcWVjnXUfQ\n",
      "Data path: /home/macu/data\n",
      "zip path: /home/macu/data/InsectData-fig11.zip\n",
      "mat_files: None\n",
      "num_mats: 0\n",
      "FileID: 1qq1z2mVRd7PzDqX0TDAwY7BcWVjnXUfQ\n",
      "Data path: /home/macu/data\n",
      "zip path: /home/macu/data/InsectData-fig11.zip\n",
      "mat_files: ['Insect_one_million.mat']\n",
      "num_mats: 1\n",
      "Mat2csv case /home/macu/data/Insect_one_million.mat\n",
      "FileID: 1qq1z2mVRd7PzDqX0TDAwY7BcWVjnXUfQ\n",
      "Data path: /home/macu/data\n",
      "zip path: /home/macu/data/InsectData-fig11.zip\n",
      "mat_files: ['Insect_one_million.mat']\n",
      "num_mats: 1\n"
     ]
    },
    {
     "data": {
      "text/html": [
       "<div>\n",
       "<style scoped>\n",
       "    .dataframe tbody tr th:only-of-type {\n",
       "        vertical-align: middle;\n",
       "    }\n",
       "\n",
       "    .dataframe tbody tr th {\n",
       "        vertical-align: top;\n",
       "    }\n",
       "\n",
       "    .dataframe thead th {\n",
       "        text-align: right;\n",
       "    }\n",
       "</style>\n",
       "<table border=\"1\" class=\"dataframe\">\n",
       "  <thead>\n",
       "    <tr style=\"text-align: right;\">\n",
       "      <th></th>\n",
       "      <th>Insect_one_million</th>\n",
       "    </tr>\n",
       "  </thead>\n",
       "  <tbody>\n",
       "    <tr>\n",
       "      <th>0</th>\n",
       "      <td>0.236820</td>\n",
       "    </tr>\n",
       "    <tr>\n",
       "      <th>1</th>\n",
       "      <td>0.236820</td>\n",
       "    </tr>\n",
       "    <tr>\n",
       "      <th>2</th>\n",
       "      <td>0.238040</td>\n",
       "    </tr>\n",
       "    <tr>\n",
       "      <th>3</th>\n",
       "      <td>0.206300</td>\n",
       "    </tr>\n",
       "    <tr>\n",
       "      <th>4</th>\n",
       "      <td>0.026855</td>\n",
       "    </tr>\n",
       "  </tbody>\n",
       "</table>\n",
       "</div>"
      ],
      "text/plain": [
       "   Insect_one_million\n",
       "0            0.236820\n",
       "1            0.236820\n",
       "2            0.238040\n",
       "3            0.206300\n",
       "4            0.026855"
      ]
     },
     "metadata": {},
     "output_type": "display_data"
    }
   ],
   "source": [
    "#| hide \n",
    "file_id = '1qq1z2mVRd7PzDqX0TDAwY7BcWVjnXUfQ'\n",
    "name = 'InsectData-fig11'\n",
    "\n",
    "gd_mat = GD_Mat(file_id, name)\n",
    "print(gd_mat)\n",
    "gd_mat.unzip_mat('all')\n",
    "print(gd_mat)\n",
    "gd_mat.mat2csv(0)\n",
    "print(gd_mat)\n",
    "display(gd_mat.mats_df[0].head(5))"
   ]
  },
  {
   "cell_type": "code",
   "execution_count": 9,
   "id": "a60fdc6e-13f6-45b6-80bd-4872a68d70d1",
   "metadata": {},
   "outputs": [],
   "source": [
    "#| export\n",
    "eammon_drive_mplots = {\n",
    "    'insects0': {\n",
    "        id: '1qq1z2mVRd7PzDqX0TDAwY7BcWVjnXUfQ',\n",
    "        name: 'InsectData-fig11'\n",
    "    }\n",
    "}"
   ]
  },
  {
   "cell_type": "code",
   "execution_count": 11,
   "id": "d6271290-6321-4680-adcb-b361d8cd057b",
   "metadata": {},
   "outputs": [
    {
     "data": {
      "text/plain": [
       "'InsectData-fig11'"
      ]
     },
     "execution_count": 11,
     "metadata": {},
     "output_type": "execute_result"
    }
   ],
   "source": [
    "#| hide \n",
    "eammon_drive_mplots['insects0'][name]"
   ]
  }
 ],
 "metadata": {
  "kernelspec": {
   "display_name": "Python 3 (ipykernel)",
   "language": "python",
   "name": "python3"
  },
  "language_info": {
   "codemirror_mode": {
    "name": "ipython",
    "version": 3
   },
   "file_extension": ".py",
   "mimetype": "text/x-python",
   "name": "python",
   "nbconvert_exporter": "python",
   "pygments_lexer": "ipython3",
   "version": "3.10.13"
  }
 },
 "nbformat": 4,
 "nbformat_minor": 5
}

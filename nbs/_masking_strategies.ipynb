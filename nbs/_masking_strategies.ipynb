{
 "cells": [
  {
   "cell_type": "code",
   "execution_count": null,
   "id": "a3ae7575-fdcf-4bfc-b3d7-dbf2a30abede",
   "metadata": {},
   "outputs": [],
   "source": [
    "import torch\n",
    "import matplotlib.pyplot as plt\n",
    "import matplotlib.colors as colors\n",
    "from tsai.callback.MVP import *\n",
    "from fastcore.all import *"
   ]
  },
  {
   "cell_type": "code",
   "execution_count": null,
   "id": "7cd66cac-8cce-4d84-9d4e-de80334c4e05",
   "metadata": {},
   "outputs": [],
   "source": [
    "mask_future = False, # Mask future samples\n",
    "mask_stateful = True, # True: mask stateful samples, False: mask individual time steps\n",
    "mask_sync = False, # (only for multivariate ts) mask all variables at once\n",
    "r = 0.3, # probability of masking in MVP"
   ]
  },
  {
   "cell_type": "code",
   "execution_count": null,
   "id": "c1192e19-8c53-4dec-be61-6638fd03df3f",
   "metadata": {},
   "outputs": [],
   "source": [
    "def create_mask(r, mask_future=False, mask_stateful=None, mask_sync=False, length=100):\n",
    "    \n",
    "    t = torch.rand(1, 3, length)\n",
    "    \n",
    "    if mask_future:\n",
    "        mask = create_future_mask(t, r, sync=mask_sync)\n",
    "    else:\n",
    "        mask = create_subsequence_mask(t, r, stateful=mask_stateful, sync=mask_sync)\n",
    "    fig, ax = plt.subplots(figsize=(10, 2))\n",
    "    plt.pcolormesh(mask[0], cmap=colors.ListedColormap(['whitesmoke', 'orchid']))\n",
    "    plt.title(f'r={r},  future={mask_future},  stateful={mask_stateful},  sync={mask_sync}')\n",
    "    ax.set_ylabel('variables')\n",
    "    plt.show()"
   ]
  },
  {
   "cell_type": "code",
   "execution_count": null,
   "id": "6c46eed6-1c8e-40da-939b-e75026d59c18",
   "metadata": {},
   "outputs": [],
   "source": [
    "length = 50"
   ]
  },
  {
   "cell_type": "code",
   "execution_count": null,
   "id": "f4853837-f5bd-43f8-a70b-9810916a7f1b",
   "metadata": {},
   "outputs": [],
   "source": [
    "create_mask(r=0.3, mask_future=False, mask_stateful=True, mask_sync=False, length=length)"
   ]
  },
  {
   "cell_type": "code",
   "execution_count": null,
   "id": "2b436868-477d-4184-8b14-6a458695c2f8",
   "metadata": {},
   "outputs": [],
   "source": [
    "create_mask(r=0.3, mask_future=False, mask_stateful=False, mask_sync=False, length=length)"
   ]
  },
  {
   "cell_type": "code",
   "execution_count": null,
   "id": "c9caeefe-aa26-4d23-bc0f-b565bbfaf478",
   "metadata": {},
   "outputs": [],
   "source": [
    "create_mask(r=0.3, mask_future=False, mask_stateful=True, mask_sync=True, length=length)"
   ]
  },
  {
   "cell_type": "code",
   "execution_count": null,
   "id": "ce43d418-ea10-4dbf-b9f2-b5b50eec52e8",
   "metadata": {},
   "outputs": [],
   "source": [
    "create_mask(r=0.3, mask_future=True, mask_stateful=None, mask_sync=True, length=length)"
   ]
  },
  {
   "cell_type": "code",
   "execution_count": null,
   "id": "94a0c7d0-1752-4e9d-9207-08d18b857555",
   "metadata": {},
   "outputs": [],
   "source": [
    "create_mask(r=0.3, mask_future=True, mask_stateful=None, mask_sync=False, length=length)"
   ]
  },
  {
   "cell_type": "code",
   "execution_count": null,
   "id": "d664a306-bf97-41de-8fd8-41fe5fbdbb76",
   "metadata": {},
   "outputs": [],
   "source": [
    "create_mask(r=0.8, mask_future=False, mask_stateful=True, mask_sync=False, length=length)"
   ]
  },
  {
   "cell_type": "code",
   "execution_count": null,
   "id": "a4bc396b-61b8-4300-8802-abf6b2769460",
   "metadata": {},
   "outputs": [],
   "source": []
  },
  {
   "cell_type": "code",
   "execution_count": null,
   "id": "2fab5309-7085-4149-958d-d255a7bf4119",
   "metadata": {},
   "outputs": [],
   "source": []
  },
  {
   "cell_type": "code",
   "execution_count": null,
   "id": "9a267bc6-fa66-44d9-b054-461df94d2fd0",
   "metadata": {},
   "outputs": [],
   "source": []
  }
 ],
 "metadata": {
  "kernelspec": {
   "display_name": "python3",
   "language": "python",
   "name": "python3"
  }
 },
 "nbformat": 4,
 "nbformat_minor": 5
}

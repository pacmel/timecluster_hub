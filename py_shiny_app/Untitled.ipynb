{
 "cells": [
  {
   "cell_type": "code",
   "execution_count": 4,
   "id": "652131f5-47a0-4452-8740-a2b00d2e0c0b",
   "metadata": {},
   "outputs": [
    {
     "ename": "NameError",
     "evalue": "name 'app_server' is not defined",
     "output_type": "error",
     "traceback": [
      "\u001b[0;31m---------------------------------------------------------------------------\u001b[0m",
      "\u001b[0;31mNameError\u001b[0m                                 Traceback (most recent call last)",
      "Cell \u001b[0;32mIn[4], line 7\u001b[0m\n\u001b[1;32m      3\u001b[0m app_ui \u001b[38;5;241m=\u001b[39m ui\u001b[38;5;241m.\u001b[39mpage_fluid(ui\u001b[38;5;241m.\u001b[39mh1(\u001b[38;5;124m\"\u001b[39m\u001b[38;5;124mMy App\u001b[39m\u001b[38;5;124m\"\u001b[39m))\n\u001b[1;32m      5\u001b[0m \u001b[38;5;66;03m#app = App(app_ui, None) # create and run demo\u001b[39;00m\n\u001b[0;32m----> 7\u001b[0m app \u001b[38;5;241m=\u001b[39m App(ui\u001b[38;5;241m=\u001b[39mapp_ui, server\u001b[38;5;241m=\u001b[39m\u001b[43mapp_server\u001b[49m)\n\u001b[1;32m      8\u001b[0m app\u001b[38;5;241m.\u001b[39mrun()\n",
      "\u001b[0;31mNameError\u001b[0m: name 'app_server' is not defined"
     ]
    }
   ],
   "source": [
    "from shiny import App, ui\n",
    "\n",
    "app_ui = ui.page_fluid(ui.h1(\"My App\"))\n",
    "\n",
    "#app = App(app_ui, None) # create and run demo\n",
    "\n",
    "app = App(ui=app_ui, server=app_server)\n",
    "app.run()\n",
    "\n",
    "#shiny create my_app\n",
    "#shiny run --reload my_app/app.py"
   ]
  }
 ],
 "metadata": {
  "kernelspec": {
   "display_name": "Python 3 (ipykernel)",
   "language": "python",
   "name": "python3"
  },
  "language_info": {
   "codemirror_mode": {
    "name": "ipython",
    "version": 3
   },
   "file_extension": ".py",
   "mimetype": "text/x-python",
   "name": "python",
   "nbconvert_exporter": "python",
   "pygments_lexer": "ipython3",
   "version": "3.10.13"
  }
 },
 "nbformat": 4,
 "nbformat_minor": 5
}

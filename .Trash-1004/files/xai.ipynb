{
 "cells": [
  {
   "cell_type": "markdown",
   "id": "e31dafdd-9c37-4a0c-8390-307c1eb81e96",
   "metadata": {},
   "source": [
    "# Dimensionality reduction \n",
    "> Transform 04 to functions for direct call\n",
    "> Get projection of the embeddings"
   ]
  },
  {
   "cell_type": "code",
   "execution_count": 9,
   "id": "2ae22a52-8871-40c1-92c4-69b77f664184",
   "metadata": {},
   "outputs": [],
   "source": [
    "#Basics\n",
    "import os\n",
    "\n",
    "#Weight & Biases\n",
    "import wandb\n",
    "\n",
    "#Yaml\n",
    "from yaml import load, FullLoader\n",
    "\n",
    "#Embeddings\n",
    "from dvats.all import *\n",
    "from tsai.data.preparation import prepare_forecasting_data\n",
    "from tsai.data.validation import get_forecasting_splits\n",
    "from fastcore.all import *\n",
    "\n",
    "#Dimensionality reduction\n",
    "from tsai.imports import *\n",
    "\n",
    "#Clustering\n",
    "import hdbscan\n",
    "\n",
    "import nbs_pipeline.utils.memory as mem\n",
    "import torch "
   ]
  },
  {
   "cell_type": "code",
   "execution_count": 18,
   "id": "7425f6fa-272a-4e67-adf7-1c04e82c3de7",
   "metadata": {},
   "outputs": [],
   "source": [
    "def get_prjs(config_dr, check_memory_usage = True, print_flag = False):\n",
    "    if check_memory_usage:\n",
    "        gpu_device = torch.cuda.current_device()\n",
    "        mem.gpu_memory_status(gpu_device)\n",
    "    #Get W&B API\n",
    "    api = wandb.Api()\n",
    "    # Object for storing hyperparameters\n",
    "    #config_dr = wandb.config\n",
    "    # Botch to use artifacts offline\n",
    "    artifacts_gettr = run.use_artifact if config_dr.use_wandb else api.artifact\n",
    "    # Restore the encoder model and its associated configuration\n",
    "    enc_artifact = artifacts_gettr(config.enc_artifact, type='learner')\n",
    "    if print_flag:\n",
    "        print(\"--------> Encoder artifact metadata <----------\")\n",
    "        enc_artifact.metadata\n",
    "        enc_artifact.name\n",
    "    \n",
    "    run_dr = wandb.init(\n",
    "        entity=config.wandb_entity,\n",
    "        project=config.wandb_project if config.use_wandb else 'work-nbs', \n",
    "        group=config.wandb_group,\n",
    "        allow_val_change=True, \n",
    "        job_type='dimensionality_reduction', \n",
    "        mode='online' if config.use_wandb else 'disabled',\n",
    "        anonymous = 'never' if config.use_wandb else 'must',\n",
    "        config=config,\n",
    "        resume = 'allow',\n",
    "        name = runname\n",
    "        #resume=False\n",
    "    )"
   ]
  }
 ],
 "metadata": {
  "kernelspec": {
   "display_name": "Python 3 (ipykernel)",
   "language": "python",
   "name": "python3"
  },
  "language_info": {
   "codemirror_mode": {
    "name": "ipython",
    "version": 3
   },
   "file_extension": ".py",
   "mimetype": "text/x-python",
   "name": "python",
   "nbconvert_exporter": "python",
   "pygments_lexer": "ipython3",
   "version": "3.10.13"
  }
 },
 "nbformat": 4,
 "nbformat_minor": 5
}

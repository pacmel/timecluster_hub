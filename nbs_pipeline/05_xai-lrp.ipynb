{
 "cells": [
  {
   "cell_type": "markdown",
   "metadata": {},
   "source": [
    "TODO: \n",
    "----- > Motif "
   ]
  },
  {
   "attachments": {},
   "cell_type": "markdown",
   "metadata": {},
   "source": [
    "# Layer-wise Relevance Propagation\n",
    "\n",
    "> This notebooks has five main parts:\n",
    "> - Introduction to Layer-wise Relevance Propagation\n",
    "> - Dimensionality reduction\n",
    ">\n",
    ">   Following the steps of 04_dr notebooks.\n",
    ">   - Gets the embeddings (or latent space) from a vultivariate time series given by an encoder (e.g. autoencoder) \n",
    ">   - Uses the obtained embeddings as input for a dimensionality reduction algorithm, to generate projections of the embeddings. (As 04.. does)\n",
    ">\n",
    "> - Compute Clusters\n",
    ">   Following the steps of 04_dr notebooks. ¿Maybe it should also be in another notebook?\n",
    ">   - The projections are clustered via hdbscan \n",
    "> - Anomalies simple detector\n",
    ">   - Use basic statistics to obtain an anomaly score to visualize annomalies using a dynamic plot. Just for clarity.\n",
    "> - Layer-wise relevance propagation\n",
    ">   - Different implementations ti apply LRP to check the importance of each feature in the embeddings obtainment.\n",
    ">   - Same check for selecting some points in the projections plot (assuming random selection). Checks the importance for each feature in the obtainment of the associated part of the embeddings.\n",
    "\n",
    "> <span style=\"color:red; display:block;\">\n",
    ">  TODO: Save in 04_... an Artifact as in the previous nbs_pipeline notebooks and divide this notebooks in two (one for clustering and other for layer propagation. ¿Deberíamos separar también 04 en dos notebooks?\n",
    "> </span>"
   ]
  },
  {
   "cell_type": "markdown",
   "metadata": {},
   "source": [
    "## Introduction to Layer-wise Relevance Propagation\n",
    "Layer-wise Relevance Propagation is a XAI technique introduced in 2015 by [Bach et all](https://journals.plos.org/plosone/article?id=10.1371/journal.pone.0130140&ref=blog.paperspace.com) for vision computing deep learning models that has been extensively used in different DL domains for better explainability. \n",
    "\n",
    "This method belongs to the attribution methods cattegory. According to [Towards Better Understanding Attribution Methods](https://openaccess.thecvf.com/content/CVPR2022/html/Rao_Towards_Better_Understanding_Attribution_Methods_CVPR_2022_paper.html) and [Oportunities and Challengues in Explainable Artificial Intelligence (XAI): A Survey](https://arxiv.org/pdf/2006.11371.pdf), it can be classified into three main groups: backpropagation based methods, activation based methods and perturbation-based methods."
   ]
  },
  {
   "cell_type": "markdown",
   "metadata": {},
   "source": [
    "TODO: Mejorar/revisar\n",
    "la clasificación con https://arxiv.org/pdf/2006.11371.pdf"
   ]
  },
  {
   "cell_type": "markdown",
   "metadata": {},
   "source": [
    "### Backpropagation-based or Gradient-based methods\n",
    "These methods use backpropagation to calculate the relevance of input features, based on each feature's contribution to the model's output. Tipically rely on the gradients:\n",
    "- with respect to the input\n",
    "  - [DeepLift: Propagating Activation Differences](https://arxiv.org/abs/1704.02685). Decomposes the oitput prediction of a neural network on a especific input by backpropagating the activation of each neuron to its ```reference activation``` and assigns coontribution scores according to the difference.\n",
    "  - [Guided BackPropagation/Guided saliency](https://arxiv.org/abs/1412.6806). \"Variant of the [deconvolution approach](https://link.springer.com/chapter/10.1007/978-3-319-10590-1_53) for visualizing features learned by CNNs, which can also be applied to a broad range of network structures. Under this approach, the use of max-pooling in convolutional neural networks for small images is questioned and the replacement of max-pooling layers by a convolutional layer with increased stride is proposed, resulting in no loss of accuracy on several image recognition benchmarks.\" \n",
    "- with respect to intermediate layers\n",
    "  - Saliency Maps. \"Visualizing gradients, neural activation of individual layers using DeConv nets, guided backpropagation, etc. as images.\"\n",
    "     - [NormGrad](https://openaccess.thecvf.com/content_CVPR_2020/html/Rebuffi_There_and_Back_Again_Revisiting_Backpropagation_Saliency_Methods_CVPR_2020_paper.html). \"Based on the spatial contribution of gradients of convolutional weights\"\n",
    "       - Saliency maps combination at different layers to test the ability of saliency methods to extract complementary information at different network levels\n",
    "        - Class-sensitivity metric and meta-learning inspired paradigm applicable to any saliency method for improving sensitivity to the output class being explained\n",
    "     - [Compute gradient of the class score with respect to the input case](https://arxiv.org/pdf/1312.6034.pdf). Visualisation techniques for Convolutional Networks used for classification.\n",
    "     - [Salient Deconvolutional Networks](https://link.springer.com/chapter/10.1007/978-3-319-46466-4_8).\n",
    "  -  [Salient Relevance Maps](https://sciencedirect.com/science/article/pii/S0262885619300149)\n",
    "  - [Excitation Backprop](https://link.springer.com/article/10.1007/s11263-017-1059-x). Top-down attention of a CNN classifier for generating task-specific attention map.\n",
    "  \n",
    "  - [FullGrad: Full-Gradient Representation for NN Visualization](https://proceedings.neurips.cc/paper/2019/hash/80537a945c7aaa788ccfcdf1b99b5d8f-Abstract.html). Decomposes the NN response into input sensitivity and per-neuron sensitivity components. \n",
    "- With respect to the last layer\n",
    "  - [GradCam](https://openaccess.thecvf.com/content_iccv_2017/html/Selvaraju_Grad-CAM_Visual_Explanations_ICCV_2017_paper.html), [GradCam++](https://ieeexplore.ieee.org/abstract/document/8354201)\n",
    "- With respect to different layers\n",
    "  - [LayerCAM: Hierarchical Class Activation Maps](https://ieeexplore.ieee.org/abstract/document/9462463)\n",
    "  \n",
    "Also, LRP can be included as a backpropagation-based methods. But it focuses on propagating relevances with different rules instead on focusing on the gradients. \n",
    "- [LRP: Layer-wise Relevance Propagation](https://iphome.hhi.de/samek/pdf/MonXAI19.pdf). \"Operates by propagating the prediction backward in the neural network, using a set of purposely designed propagation rules\".\n"
   ]
  },
  {
   "cell_type": "markdown",
   "metadata": {},
   "source": [
    "### Activation-based methods\n",
    "\n",
    "Weigh activation maps to assign importance of the final convolutional layer:\n",
    "  - weighted by their gradients:\n",
    "    - [GradCam](https://openaccess.thecvf.com/content_iccv_2017/html/Selvaraju_Grad-CAM_Visual_Explanations_ICCV_2017_paper.html), [GradCam++](https://ieeexplore.ieee.org/abstract/document/8354201)\n",
    "    - [LayerCAM: Hierarchical Class Activation Maps](https://ieeexplore.ieee.org/abstract/document/9462463)\n",
    "    - [Gap CAM: Using Global Average Pooling in CNNs for generating class activation maps](https://openaccess.thecvf.com/content_cvpr_2016/html/Zhou_Learning_Deep_Features_CVPR_2016_paper.html)\n",
    "  - Estimating their importance to the classification score \n",
    "    - [Ablation-cam](https://scholar.google.com/scholar?hl=es&as_sdt=0%2C5&q=Saurabh+Desai+and+Harish+G.+Ramaswamy.+Ablation-CAM%3A+Visual+Explanations+for+Deep+Convolutional+Network+via+Gradient-free+Localization.+In+WACV%2C+pages+983%E2%80%93991%2C+2020.&btnG=). Visual explanations for deep CNN via gradient-free localization. \"Uses Ablation analysis to determine the importance (weights) of individual feature map units wrt class. Hilights the important regions in the image for predicting the concept. ...\"\n",
    "    - [Flow restiction](https://arxiv.org/abs/2001.00396), Adds noise to intermediate feature maps to restrict the flow of information and quantify how much information image regions provide.\n",
    "<span style=\"color:red\">TODO: quizá en TS largas pueda tener sentido algo del estilo aplicar algoritmos menos pesados, comprobar las secciones más relevantes y reducir la serie temporal seleccionando sólo las partes más importantes. </span>\n",
    "      "
   ]
  },
  {
   "cell_type": "markdown",
   "metadata": {},
   "source": [
    "### Perturbation-based methods\n",
    "\n",
    "This methods treat the network as a black-box and assign importance by observing the change in output on perturbing the input. The explanation is generated by iteratively probing a trained ML model with those variations of the input. This can be done using different techniques:\n",
    "\n",
    "- Occluding parts of the image\n",
    "  - [Rise: Randomised Input Sampling for Explanation of black-box models](https://arxiv.org/abs/1806.07421). \"Generates an importance map indicating how salient each pixel is for the model's prediction.\" \"Estimates importance empirically by proving the model with randomly masked versions of the input image and obtaining the corresponding outputs.\"\n",
    "  -  [LIME: Learning and Interpretable Model locally around the prediction](https://dl.acm.org/doi/abs/10.1145/2939672.2939778). \"Explains the prediction of any classifier in an interpretable and faithful manner\"\n",
    "  - [Loss derivative back-propagation](https://link.springer.com/chapter/10.1007/978-3-319-10590-1_53). Classification of labelled images. \"We train these models using a large set of N labeled images {x,y}, where label y_i is a discrete variable indicating the true class. A cross-entropy loss function, suoitable for image classification, is used to compare ~y_i and u_i. The parameters of the networks are trained by back-propagating the derivative of the loss with respect to the parameters throghout the network, and updating the parameters via stochastic gradient descent\"\n",
    "  - [DeconvNet: DeConvolution networks for convolution visualizations](https://link.springer.com/chapter/10.1007/978-3-319-10590-1_53). Activate the neourons of individual layers by occluding input instance and visualizing using DeConv\n",
    "Nets.\n",
    "- Optimising for a mask that maximizes/minimizes class confidence\n",
    "  - [Real Time Image Saliency for black box classifiers](https://proceedings.neurips.cc/paper_files/paper/2017/hash/0060ef47b12160b9198302ebdb144dcf-Abstract.html). Saliency detection method. \n",
    "  - [Interpretable explanation of black boxes by Meaningful Perturbation](https://openaccess.thecvf.com/content_iccv_2017/html/Fong_Interpretable_Explanations_of_ICCV_2017_paper.html). Goal: find the part of an image most responsible for a classifier decision. Model-agnostic and testable. Interpretable image perturbations.\n",
    "\n",
    "- Selecting specific features\n",
    "   - [SHAP: A Unified Approach to Interpreting Model Predictions\n",
    "](https://proceedings.neurips.cc/paper/2017/hash/8a20a8621978632d76c43dfd28b67767-Abstract.html) proves feature correlations by removing features in a game theoretic framework.\n",
    "   - [Prediction Difference Analysis](https://arxiv.org/abs/1702.04595). Remove individual fetures  and finds the positive and negative correlation of individual features towards the output\n",
    "- Features replacements. [Interpreting Black Box Models via Hypothesis Testing\n",
    "](https://dl.acm.org/doi/abs/10.1145/3412815.3416889). \"Conterfactual replacements of features to study feature importance. \n",
    "> TODO: REVISAR el artículo principal. Propone un modo de evaluar algoritmos de atribución. ¿Merece la pena revisarlo? Creo que se sale del scope."
   ]
  },
  {
   "cell_type": "markdown",
   "metadata": {},
   "source": [
    "## Dimensionality reduction\n",
    "\n",
    "Generate projectsion of the embeddings"
   ]
  },
  {
   "cell_type": "code",
   "execution_count": null,
   "metadata": {},
   "outputs": [],
   "source": [
    "#Weight & Biases\n",
    "import wandb\n",
    "\n",
    "#Yaml\n",
    "from yaml import load, FullLoader\n",
    "\n",
    "#Embeddings\n",
    "from dvats.all import *\n",
    "from tsai.data.preparation import prepare_forecasting_data\n",
    "from tsai.data.validation import get_forecasting_splits\n",
    "from fastcore.all import *\n",
    "\n",
    "#Dimensionality reduction\n",
    "from tsai.imports import *\n",
    "\n",
    "#Clustering\n",
    "import hdbscan\n",
    "import utils.config as cfg_\n",
    "import time\n",
    "import seaborn as sns\n"
   ]
  },
  {
   "cell_type": "code",
   "execution_count": null,
   "metadata": {},
   "outputs": [],
   "source": [
    "check_memory_usage = True\n",
    "print_flag = True\n",
    "show_time_series_flag = False"
   ]
  },
  {
   "cell_type": "code",
   "execution_count": null,
   "metadata": {},
   "outputs": [],
   "source": [
    "if check_memory_usage:\n",
    "    import nbs_pipeline.utils.memory as mem\n",
    "    import torch \n",
    "    gpu_device = torch.cuda.current_device()\n",
    "    mem.gpu_memory_status(gpu_device)"
   ]
  },
  {
   "cell_type": "code",
   "execution_count": null,
   "metadata": {},
   "outputs": [],
   "source": [
    "#Get W&B API\n",
    "api = wandb.Api()"
   ]
  },
  {
   "cell_type": "markdown",
   "metadata": {},
   "source": [
    "### Get configuration parameters"
   ]
  },
  {
   "cell_type": "markdown",
   "metadata": {},
   "source": [
    "This model needs to restore the encoder model fitted in the notebook `02x`, as well as the data and configuration"
   ]
  },
  {
   "cell_type": "code",
   "execution_count": null,
   "metadata": {},
   "outputs": [],
   "source": [
    "import os\n",
    "path = os.path.expanduser(\"~/work/nbs_pipeline/\")\n",
    "name=\"05-xai-lrp\"\n",
    "runname = name\n",
    "os.environ[\"WANDB_NOTEBOOK_NAME\"] = path+name+\".ipynb\""
   ]
  },
  {
   "cell_type": "code",
   "execution_count": null,
   "metadata": {},
   "outputs": [],
   "source": [
    "config_lrp = cfg_.get_artifact_config_xai_lrp(False)\n",
    "if print_flag: cfg_.show_attrdict(config_lrp)"
   ]
  },
  {
   "cell_type": "markdown",
   "metadata": {},
   "source": [
    "### W&B initialization"
   ]
  },
  {
   "cell_type": "code",
   "execution_count": null,
   "metadata": {},
   "outputs": [],
   "source": [
    "run_lrp = wandb.init(\n",
    "    entity           = config_lrp.wandb_entity,\n",
    "    project          = config_lrp.wandb_project if config_lrp.use_wandb else 'work-nbs', \n",
    "    group            = config_lrp.wandb_group,\n",
    "    allow_val_change = config_lrp.allow_val_change, \n",
    "    job_type         = config_lrp.job_type, \n",
    "    mode             = 'online' if config_lrp.use_wandb else 'disabled',\n",
    "    anonymous        = 'never' if config_lrp.use_wandb else 'must',\n",
    "    config           =  config_lrp,\n",
    "    resume           = 'allow',\n",
    "    name = runname\n",
    ")\n",
    "config_lrp = wandb.config # Object for storing hyperparameters"
   ]
  },
  {
   "cell_type": "markdown",
   "metadata": {},
   "source": [
    "### Restore the encoder model and its associated configuration\n",
    "This model is neccesary for getting back the projections"
   ]
  },
  {
   "cell_type": "code",
   "execution_count": null,
   "metadata": {},
   "outputs": [],
   "source": [
    "embs, emb_artifact, emb_config = get_embeddings(config_lrp, run_lrp, api, print_flag)"
   ]
  },
  {
   "cell_type": "code",
   "execution_count": null,
   "metadata": {},
   "outputs": [],
   "source": [
    "if print_flag: \n",
    "    print(embs.shape)\n",
    "    cfg_.show_attrdict(emb_config)\n",
    "    print(emb_artifact.name)"
   ]
  },
  {
   "cell_type": "code",
   "execution_count": null,
   "metadata": {},
   "outputs": [],
   "source": [
    "config_dr, _ = cfg_.get_artifact_config_dimensionality_reduction(False)"
   ]
  },
  {
   "cell_type": "code",
   "execution_count": null,
   "metadata": {},
   "outputs": [],
   "source": [
    "cfg_.show_attrdict(config_dr)"
   ]
  },
  {
   "cell_type": "code",
   "execution_count": null,
   "metadata": {},
   "outputs": [],
   "source": [
    "df, df_artifact, enc_artifact, enc_learner = get_dataset(\n",
    "    config_lrp, emb_config, config_dr,\n",
    "    run_lrp, api, print_flag\n",
    ")"
   ]
  },
  {
   "cell_type": "code",
   "execution_count": null,
   "metadata": {},
   "outputs": [],
   "source": [
    "if show_time_series_flag:\n",
    "    # Show time series plot\n",
    "    fig, ax = plt.subplots(1, figsize=(15,5), )\n",
    "    cmap = matplotlib.colormaps.get_cmap('viridis')\n",
    "    df.plot(color=cmap(0.05), ax=ax) # or use colormap=cmap\n",
    "    # rect = Rectangle((5000, -4.2), 3000, 8.4, facecolor='lightgrey', alpha=0.5)\n",
    "    # ax.add_patch(rect)\n",
    "    plt.tight_layout()\n",
    "    plt.legend()\n",
    "    plt.show()"
   ]
  },
  {
   "cell_type": "markdown",
   "metadata": {},
   "source": [
    "## Check embeddings and prepare enc_input"
   ]
  },
  {
   "cell_type": "markdown",
   "metadata": {},
   "source": [
    "### Main parameters"
   ]
  },
  {
   "cell_type": "code",
   "execution_count": null,
   "metadata": {},
   "outputs": [],
   "source": [
    "config_lrp['stride']"
   ]
  },
  {
   "cell_type": "code",
   "execution_count": null,
   "metadata": {},
   "outputs": [],
   "source": [
    "stride = enc_artifact.metadata['stride']\n",
    "print(stride)\n",
    "batch_size = df_artifact['batch_size']\n",
    "w = enc_artifact.metadata['w']"
   ]
  },
  {
   "cell_type": "code",
   "execution_count": null,
   "metadata": {},
   "outputs": [],
   "source": [
    "t_start = time.time()\n",
    "enc_input, _ = prepare_forecasting_data(df, fcst_history = w)\n",
    "t_end = time.time()\n",
    "t = t_end - t_start\n",
    "print(\"SW start | \" , t_start, \" | end \", t_end, \"total (secs): \", t)\n",
    "print(enc_input.shape)"
   ]
  },
  {
   "cell_type": "code",
   "execution_count": null,
   "metadata": {},
   "outputs": [],
   "source": [
    "if check_memory_usage: mem.gpu_memory_status(gpu_device)"
   ]
  },
  {
   "cell_type": "code",
   "execution_count": null,
   "metadata": {},
   "outputs": [],
   "source": [
    "if config_lrp['stride'] != stride:\n",
    "    if stride != 1:\n",
    "        print(\"Not implemented. Are the training and current stride values compatible?\")\n",
    "    else:\n",
    "        stride = config_lrp['stride']\n",
    "        if print_flag: print(\"stride --> \", stride)\n",
    "        embs = embs[::stride]"
   ]
  },
  {
   "cell_type": "code",
   "execution_count": null,
   "metadata": {},
   "outputs": [],
   "source": [
    "if print_flag:\n",
    "    print(\"w\", w)\n",
    "    print(\"stride\", stride)\n",
    "    print(\"batch_size\", batch_size)\n",
    "    print(\"enc_input ~\", enc_input.shape)\n",
    "    print(\"enc_artifact\", enc_artifact.name)\n",
    "    print(\"embs ~\", embs.shape)"
   ]
  },
  {
   "cell_type": "markdown",
   "metadata": {},
   "source": [
    "### Dimensions check"
   ]
  },
  {
   "cell_type": "code",
   "execution_count": null,
   "metadata": {},
   "outputs": [],
   "source": [
    "#Dimensions check\n",
    "num_inputs = np.ceil(enc_input.shape[0]/stride)\n",
    "num_embs = embs.shape[0]\n",
    "test_eq(num_inputs, num_embs )\n",
    "print(num_inputs, num_embs)"
   ]
  },
  {
   "cell_type": "markdown",
   "metadata": {},
   "source": [
    "Average embeddings in the time dimension, if needed"
   ]
  },
  {
   "cell_type": "markdown",
   "metadata": {},
   "source": [
    "## Dimensionality reduction using UMAP"
   ]
  },
  {
   "cell_type": "code",
   "execution_count": null,
   "metadata": {},
   "outputs": [],
   "source": [
    "#Ensure no nan ((Intento de Macu. La celda de comentada abajo es la original. Pero falla por Nan con sunspot))\n",
    "embs_no_nan = embs[~np.isnan(embs).any(axis=1)]\n",
    "embs_no_nan.shape"
   ]
  },
  {
   "cell_type": "code",
   "execution_count": null,
   "metadata": {},
   "outputs": [],
   "source": [
    "embs_no_nan.shape"
   ]
  },
  {
   "cell_type": "code",
   "execution_count": null,
   "metadata": {},
   "outputs": [],
   "source": [
    "config_dr"
   ]
  },
  {
   "cell_type": "code",
   "execution_count": null,
   "metadata": {},
   "outputs": [],
   "source": [
    "prjs = get_prjs(embs_no_nan, config_dr, config_lrp, False)"
   ]
  },
  {
   "cell_type": "code",
   "execution_count": null,
   "metadata": {},
   "outputs": [],
   "source": [
    "beep(0.15)\n",
    "beep(0.15)\n",
    "beep(0.15)\n"
   ]
  },
  {
   "cell_type": "code",
   "execution_count": null,
   "metadata": {},
   "outputs": [],
   "source": [
    "prjs[0:10] # En R head(res[1,],10)"
   ]
  },
  {
   "attachments": {},
   "cell_type": "markdown",
   "metadata": {},
   "source": [
    "Save the projections as an artifact"
   ]
  },
  {
   "cell_type": "code",
   "execution_count": null,
   "metadata": {},
   "outputs": [],
   "source": [
    "if config_lrp.use_wandb: \n",
    "    run_lrp.log_artifact(\n",
    "        ReferenceArtifact(\n",
    "            prjs, \n",
    "            'projections-xai-LRP-mvp-SWV', \n",
    "            type='projections', \n",
    "            metadata=dict(run_lrp.config)\n",
    "        ), \n",
    "        aliases=f'run-{run_lrp.project}-{run_lrp.id}'\n",
    "    )"
   ]
  },
  {
   "cell_type": "markdown",
   "metadata": {},
   "source": [
    "## Create Precomputed Clusters"
   ]
  },
  {
   "cell_type": "markdown",
   "metadata": {},
   "source": [
    "In order to integrate precomputed clusters into the embedding space, it's necessary to log artifacts that include the labels of the newly created clusters. \n",
    "\n",
    "The cluster creation process is presented below. This creation procedure can be modified according to specific needs. However, the structure of the new artifact must be preserved (it must be a numpy.ndarray and the number of elements must be equal to the number of points in the embedding space)."
   ]
  },
  {
   "cell_type": "code",
   "execution_count": null,
   "metadata": {},
   "outputs": [],
   "source": [
    "print(f'HDBSCAN supported metrics: {list(hdbscan.dist_metrics.METRIC_MAPPING.keys())}')"
   ]
  },
  {
   "cell_type": "code",
   "execution_count": null,
   "metadata": {},
   "outputs": [],
   "source": [
    "# Define HDBSCAN parameters\n",
    "hdbscan_kwargs = {\n",
    "    'min_cluster_size' : 7, #100, #100,\n",
    "    'min_samples' : 3,\n",
    "    'cluster_selection_epsilon' : 0.0001,\n",
    "}\n",
    "metric_kwargs = {\n",
    "    'metric' : 'euclidean' #'jaccard'\n",
    "}"
   ]
  },
  {
   "cell_type": "code",
   "execution_count": null,
   "metadata": {},
   "outputs": [],
   "source": [
    "# Create clusters using HDBSCAN\n",
    "clusters = hdbscan.HDBSCAN(**hdbscan_kwargs, **metric_kwargs).fit(prjs)\n",
    "clusters_labels = clusters.labels_\n",
    "list(Counter(clusters_labels).items())"
   ]
  },
  {
   "cell_type": "markdown",
   "metadata": {},
   "source": [
    "### Check cluster score"
   ]
  },
  {
   "cell_type": "code",
   "execution_count": null,
   "metadata": {},
   "outputs": [],
   "source": [
    "score = cluster_score(prjs, clusters_labels, True)"
   ]
  },
  {
   "cell_type": "code",
   "execution_count": null,
   "metadata": {},
   "outputs": [],
   "source": [
    "# Testing artifact structure \n",
    "test_eq_type(type(clusters_labels), np.ndarray)\n",
    "test_eq(clusters_labels.size, prjs.shape[0])"
   ]
  },
  {
   "cell_type": "code",
   "execution_count": null,
   "metadata": {},
   "outputs": [],
   "source": [
    "# Create and log 'clusters_labels' artifact\n",
    "clusters_ar = ReferenceArtifact(\n",
    "    obj  = clusters_labels, \n",
    "    name = 'clusters_labels-xai-lrp-mvp-SWV',\n",
    "    type = 'clusters'\n",
    ")\n",
    "clusters_ar.metadata, clusters_ar.manifest.entries.values()"
   ]
  },
  {
   "cell_type": "code",
   "execution_count": null,
   "metadata": {},
   "outputs": [],
   "source": [
    "run_lrp.log_artifact(clusters_ar, aliases=['hdbscan_jaccard'])"
   ]
  },
  {
   "cell_type": "code",
   "execution_count": null,
   "metadata": {},
   "outputs": [],
   "source": [
    "beep(0.25)\n",
    "beep(0.25)\n",
    "beep(0.25)"
   ]
  },
  {
   "cell_type": "markdown",
   "metadata": {},
   "source": [
    "## Dynamic plot for determining whether a window of the time series is anomalous"
   ]
  },
  {
   "cell_type": "markdown",
   "metadata": {},
   "source": [
    "#### Get Anomaly Score"
   ]
  },
  {
   "cell_type": "code",
   "execution_count": null,
   "metadata": {},
   "outputs": [],
   "source": [
    "# Create clusters using HDBSCAN\n",
    "clusters = hdbscan.HDBSCAN(**hdbscan_kwargs, **metric_kwargs).fit(prjs)\n",
    "clusters_labels = clusters.labels_\n",
    "list(Counter(clusters_labels).items())"
   ]
  },
  {
   "cell_type": "code",
   "execution_count": null,
   "metadata": {},
   "outputs": [],
   "source": [
    "#anomaly_scores = detector(prjs_umap, clusters_labels)\n",
    "anomaly_scores = clusters.outlier_scores_\n",
    "if print_flag: print(anomaly_scores)"
   ]
  },
  {
   "cell_type": "markdown",
   "metadata": {},
   "source": [
    "#### Check anomaly scores distribution"
   ]
  },
  {
   "cell_type": "code",
   "execution_count": null,
   "metadata": {},
   "outputs": [],
   "source": [
    "import seaborn as sns\n",
    "plot_anomaly_scores_distribution(anomaly_scores)"
   ]
  },
  {
   "cell_type": "markdown",
   "metadata": {},
   "source": [
    "## Select a threshold"
   ]
  },
  {
   "cell_type": "code",
   "execution_count": null,
   "metadata": {},
   "outputs": [],
   "source": [
    "print(anomaly_scores.shape)\n",
    "print(\"min \", np.min(anomaly_scores))\n",
    "print(\"max \", np.max(anomaly_scores))\n",
    "anomaly_scores_mean = np.mean(anomaly_scores)\n",
    "print(\"media \", anomaly_scores_mean)\n",
    "anomaly_scores_std = np.std(anomaly_scores)\n",
    "print(\"std \", anomaly_scores_std)"
   ]
  },
  {
   "cell_type": "code",
   "execution_count": null,
   "metadata": {},
   "outputs": [],
   "source": [
    "threshold = pd.Series(clusters.outlier_scores_).quantile(0.9)"
   ]
  },
  {
   "cell_type": "markdown",
   "metadata": {},
   "source": [
    "## LRP"
   ]
  },
  {
   "cell_type": "markdown",
   "metadata": {},
   "source": [
    "LRP is a technique of explainable artifficial intelligence (XAI). It is used to explain the predictions of models that are structured as neural networks. It operates by backpropagating the prediction in the neural network using a set of designed local ```propagation rules```."
   ]
  },
  {
   "cell_type": "markdown",
   "metadata": {},
   "source": [
    "### LRP structure\n",
    "\n",
    "- Define the Neural Network (NN) model. It will be composed by different layers, each one wich its own neurons.\n",
    "- Backpropagation\n",
    "  - Propagation starts at the top layer (usually, the output layer of the NN)\n",
    "  - Local Propagation Rules\n",
    "\n",
    "    In each neuron, specific local ```propagation rules``` are applied to calculate how much ```relevance``` or importance should be passed to the next layer. The ```relevance``` is a real number defined via the ```propagation rule```.\n",
    "  - Propagation\n",
    "  \n",
    "    The relevances calculated in the layer are transmitted downwards to the next layer.\n",
    "\n",
    "      - Conservation property: the total amount of relevance received by each neuron is equally redistributed to the neurons in the layer bellow.\n",
    "  - Repeat layer by layer. The propagation continues until it reaches the input features of the NN. At this point, each input feature has received a relevance score that reflects its contribution to the NN prediction. \n",
    "   \n"
   ]
  },
  {
   "cell_type": "markdown",
   "metadata": {},
   "source": [
    "### Comparison with other techniques\n",
    "LRP distinguishes itself from other explainability techniques in two ways:\n",
    "- Other techniques are often more computationally expensive, as many of them involve multiple neural network evaluations.\n",
    "- Some alternative techniques replace the gradient with a coarser estimate of effect. That involves optimising some local surrogate model or the explanation itself.\n",
    "\n",
    "In contrast, LRP leverages the graph structure of deep neural networks to compute explanations quickly and reliably​​."
   ]
  },
  {
   "cell_type": "markdown",
   "metadata": {},
   "source": [
    "### Limitations\n",
    "\n",
    "The main limitation of LRP is the way it handles features' contributions. The method for dealing with positive and negative contributions during the propagation phase may limit how much these relevances can grow. \n",
    "\n",
    "This may result on less detailed representation of how the input features may affect to the NN output. However, this aids in providing more stable explanations. \n",
    "\n",
    "Also, this mean that LRP is more focused on global trend or most influence features instead of granulated details or minor variations... \n",
    "\n",
    "...**and that is exactly what we are looking for here!** \n",
    "\n",
    "Great!"
   ]
  },
  {
   "cell_type": "markdown",
   "metadata": {},
   "source": [
    "### LRP implementations\n",
    "In order to decide a library for implementing LRP into deepvats, ```GitHub``` and ```PyPI``` available libraries have been checked.\n",
    "ctions) |\r\n"
   ]
  },
  {
   "cell_type": "markdown",
   "metadata": {},
   "source": [
    "| Library | GitHub URL | Base Framework | Supported Data Types | Associated Paper |\n",
    "|---------|------------|----------------|----------------------|------------------|\n",
    "| iNNvestigate | [GitHub](https://github.com/albermax/innvestigate) [PyPI](https://pypi.org/project/innvestigate/)| Various (Keras, TensorFlow, PyTorch - added in 2019) | Not specified. The paper talks about pixels and classifiers. Assumed to be used for vision classification models | [Paper](https://journals.plos.org/plosone/article?id=10.1371/journal.pone.0130140&ref=blog.paperspace.com) |\n",
    "| Zennit | [PyPI](https://pypi.org/project/zennit/) | PyTorch | Not specified (Adaptable to different data types) | [Paper](https://arxiv.org/abs/2106.13200) |\n",
    "| PyTorchRelevancePropagation | [GitHub](https://github.com/kaifishr/PyTorchRelevancePropagation) | PyTorch | Not specified | Not available |\n",
    "| TorchLRP | [GitHub](https://github.com/fhvilshoj/TorchLRP) | PyTorch | Not specified | Not available, not in PyPI => Not relevant for this study|\n",
    "| Layerwise-Relevance-Propagation-for-LSTMs | [GitHub](https://github.com/alewarne/Layerwise-Relevance-Propagation-for-LSTMs) | TensorFlow | Time Series (Specifically for LSTMs) | Not available |\n",
    "| LRP Toolbox | [GitHub](https://github.com/sebastian-lapuschkin/lrp_toolbox) | Matlab, Python (no PyTorch in requirements), Caffe | Not specified. Examples show images and text. | Not available |\n",
    "| lrp-pf-auc | [PyPI](https://pypi.org/project/lrp-pf-auc/) [Zenodo](https://zenodo.org/records/6821295) | Python (no PyTorch in requirements) | Not specified | Not available |\n",
    "| keras-explain | [PyPI](https://pypi.org/project/keras-explain/) | Keras | Not specified | Not available |\n",
    "| captum | [PyPI]() [GitHub]() | PyTorch | Not specified | [Paper](https://arxiv.org/abs/2009.07896) |"
   ]
  },
  {
   "cell_type": "markdown",
   "metadata": {},
   "source": [
    "Thus, there are two options that can potentially be used for training our models and have associated papers: ```iNNvestigate```, ```Zennit``` and ```captum```. For simplicity, as we are focused on ```Pytorch``` and ```LRP```, ```zennit``` has been tested for integrating LRP into ```DeepVATS```. Basic use is shown in the next section going through its [tutorial](https://zennit.readthedocs.io/en/latest/getting-started.html), \n",
    "\n",
    "> Aquí intentos en Google Collab de usar captum y zennit con datos tabulares: [GCollab](https://colab.research.google.com/drive/1Bt-csfh1M-ttU2ww6akY_BwRJUA8uND5?authuser=0#scrollTo=lqgM6bIzHb6I)"
   ]
  },
  {
   "cell_type": "markdown",
   "metadata": {},
   "source": [
    "<span style=\"color:red; display:inline-block;\">\n",
    "\n",
    "> TODO: Posible análisis para el paper/otro paper: analizar si iNNvestigate y captum se pueden incluir en DeepVATS y si merece la pena para poder visualizar otros modelos en el futuro o no. De primeras, Zennit me ha parecido el más sencillo de seguir y permite una selección clara de reglas usando tres clases sencillas para manejar el modelo\n",
    "</span>."
   ]
  },
  {
   "cell_type": "markdown",
   "metadata": {},
   "source": [
    "https://colab.research.google.com/drive/1Bt-csfh1M-ttU2ww6akY_BwRJUA8uND5?authuser=0#scrollTo=QKjyonIIRS_h"
   ]
  },
  {
   "cell_type": "markdown",
   "metadata": {},
   "source": [
    "### Zennit: Get Started"
   ]
  },
  {
   "cell_type": "markdown",
   "metadata": {},
   "source": [
    "[Zennit](https://zennit.readthedocs.io/en/latest/getting-started.html) is a library that implements **propagation-based attribution methods** by *overwriting the gradient of PyTorch modules* in PyTorch's auto-differentiation engine (the part associated to the automatic gradient calculus of 'complex' functions).  Zennit uses this engine for modifying the way gradients are computed within the attribution process, allowing to apply attribution methods based on propagation. \n",
    "\n",
    "*Zennit will only work on models which are strictly implemented using Pytorch modules. Including activation functions.*"
   ]
  },
  {
   "cell_type": "markdown",
   "metadata": {},
   "source": [
    "#### Introduction\n",
    "\n",
    "\n",
    "\n",
    "##### Attribution process\n",
    "The \"attribution process\" in the context of neural networks and machine learning refers to the technique of determining how different parts of the input to a model contribute to its output. \n",
    "    \n",
    "The goal is to explain a model's decisions or predictions by identifying which input features are responsible for the final prediction and how much these features influence it. This process is crucial for understanding, interpreting, and trusting machine learning models, especially those that are complex and opaque, such as deep neural networks.\n",
    "\n",
    "Some key considerations about the attribution process include:\n",
    "    \n",
    "- **Interpretability:** Provides a clear insight into why a model makes certain decisions, which is especially important in fields where decisions need to be explainable and justifiable, such as in medicine or banking.\n",
    "\n",
    "- **Identification of Important Features:** Helps understand which features are most influential for the model's predictions, which can be useful for feature engineering or gaining a better understanding of the problem under study.\n",
    "\n",
    "- **Attribution Techniques:** There are different methods for conducting the attribution process, such as Layer-wise Relevance Propagation (LRP), Shapley Decomposition, Grad-CAM, and others. Each of these methods has its own advantages, limitations, and suitable use cases.\n",
    "\n",
    "- **Applications in Various Fields:** The attribution process is applied in a variety of fields, from image recognition and natural language processing to disease prediction and financial decision-making.\n",
    "\n",
    "  In summary, the attribution process is a fundamental part of analyzing machine learning models, providing transparency and understanding in how models make predictions or decisions based on input data."
   ]
  },
  {
   "cell_type": "markdown",
   "metadata": {},
   "source": [
    "##### Propagation-based attribution methods\n",
    "Explainable-AI techniques that propagate the  contribution of output neurons back to the input layers. Essentially, these methods attempt to explain how the input features of a model contribute to its final prediction. In the context of Zennit, these methods modify the gradients of the PyTorch modules during the autodifferentiation process to compute these contributions."
   ]
  },
  {
   "cell_type": "markdown",
   "metadata": {},
   "source": [
    "#### Main Zennit structures\n",
    "The most important high-level structures in Zennit are ```composites```, ```Attributors```, and ```Canonizers```"
   ]
  },
  {
   "cell_type": "markdown",
   "metadata": {},
   "source": [
    "##### Composites\n",
    "Structures that map ```Rules``` to modules (torch.nn, MVP) based on their properties and context to modify their gradient. The most common composites for ```LRP``` are implemented in ```zennit.composites```.\n",
    "That is: \n",
    "\n",
    "- Map ```Rules``` to modules. Each module (convolutional layers, ReLU activation layers, ...) may need specifics ways for computing their contribution to the module output. ```Composites``` are used to assign different rules to those modules to define how to get those contributions.\n",
    "- Based on their propierties and context. The assignation of this rules is not random and depends on the charasteristics of each module and its context insithe the module.\n",
    "- This mapping/assignation changes the way gradient is computed within retropropagation.\n",
    "\n",
    "\n",
    "[Predefined composites](https://zennit.readthedocs.io/en/latest/reference/zennit.composites.html#module-zennit.composites): \n",
    "<span style=\"color:red; display:block;\">\n",
    "La relevancia se la he pedido a ChatGPT entendiendola como: demasiado metida en Imagen (esperará 3D), Aparentemente útil, Seguro que se puede usar. Hay que revisarlo investigando un poco más de cada una de ellas a la hora de fijarlas y de escribir el artículo. Tener en cuenta que nos interesa que sea algo especialmente genérico. O proponer las que sean úties y que el destinatario decida cuál quiere usar.\n",
    "</span>\n",
    "| Composite Name            | Description                                                        | Reference                                                                                     | Relevance for Time Series (MVP) |\n",
    "|---------------------------|--------------------------------------------------------------------|-----------------------------------------------------------------------------------------------|---------------------------------|\n",
    "| BetaSmooth                | Explicit composite to modify ReLU gradients to smooth softplus gradients [Dombrowski et al., 2019]. | Dombrowski, A.-K., Alber, M., Anders, C. J., Ackermann, M., Müller, K.-R., & Kessel, P. (2019). Explanations can be manipulated and geometry is to blame. In Advances in Neural Information Processing Systems 32: Annual Conference on Neural Information Processing Systems 2019, NeurIPS 2019, December 8-14, 2019, Vancouver, BC, Canada, 13567–13578. [Link](https://proceedings.neurips.cc/paper/2019/hash/bb836c01cdc9120a9c984c525e4b1a4a-Abstract.html) | ![#FFA500](https://via.placeholder.com/15/FFA500/000000?text=+) Review |\n",
    "| DeconvNet                 | Modifying gradients of all ReLUs according to DeconvNet [Zeiler and Fergus, 2014]. | Zeiler, M. D., & Fergus, R. (2014). Visualizing and understanding convolutional networks. In Computer Vision - ECCV 2014 - 13th European Conference, Zurich, Switzerland, September 6-12, 2014, Proceedings, Part I, volume 8689 of Lecture Notes in Computer Science, 818–833. Springer. [Link](https://doi.org/10.1007/978-3-319-10590-1_53) | ![#808080](https://via.placeholder.com/15/808080/000000?text=+) Not Relevant |\n",
    "| EpsilonAlpha2Beta1        | Alpha2-beta1 rule for convolutional and epsilon rule for fully connected layers. | -                                     | ![#008000](https://via.placeholder.com/15/008000/000000?text=+) Useful |\n",
    "| EpsilonAlpha2Beta1Flat    | Flat rule for first linear layer, alpha2-beta1 for convolutional, epsilon for fully connected layers. | -                                     | ![#008000](https://via.placeholder.com/15/008000/000000?text=+) Useful |\n",
    "| EpsilonGammaBox           | ZBox rule for first convolutional layer, gamma for following convolutional, epsilon for fully connected layers. | -                                     | ![#FFA500](https://via.placeholder.com/15/FFA500/000000?text=+) Review |\n",
    "| EpsilonPlus               | Zplus rule for convolutional layers and epsilon rule for fully connected layers. | -                                     | ![#008000](https://via.placeholder.com/15/008000/000000?text=+) Useful |\n",
    "| EpsilonPlusFlat           | Flat rule for any first linear layer, zplus for other convolutional, epsilon for other fully connected layers. | -                                     | ![#008000](https://via.placeholder.com/15/008000/000000?text=+) Useful |\n",
    "| ExcitationBackprop        | Implementing ExcitationBackprop [Zhang et al., 2016]. | Zhang, J., Lin, Z. L., Brandt, J., Shen, X., & Sclaroff, S. (2016). Top-down neural attention by excitation backprop. In Computer Vision - ECCV 2016 - 14th European Conference, Amsterdam, The Netherlands, October 11-14, 2016, Proceedings, Part IV, volume 9908 of Lecture Notes in Computer Science, 543–559. Springer. [Link](https://doi.org/10.1007/978-3-319-46493-0_33) | ![#808080](https://via.placeholder.com/15/808080/000000?text=+) Not Relevant |\n",
    "| GuidedBackprop            | Modifying gradients of all ReLUs according to GuidedBackprop [Springenberg et al., 2015]. | Springenberg, J. T., Dosovitskiy, A., Brox, T., & Riedmiller, M. A. (2015). Striving for simplicity: the all convolutional net. In 3rd International Conference on Learning Representations, ICLR 2015, San Diego, CA, USA, May 7-9, 2015, Workshop Track Proceedings. [Link](http://arxiv.org/abs/1412.6806) | ![#FFA500](https://via.placeholder.com/15/FFA500/000000?text=+) Review |\n",
    "| LayerMapComposite         | A Composite for which hooks are specified by a mapping from module types to hooks. | -                                     | ![#008000](https://via.placeholder.com/15/008000/000000?text=+) Useful |\n",
    "| MixedComposite            | A Composite for which hooks are specified by a list of composites.  | -                                     | ![#FFA500](https://via.placeholder.com/15/FFA500/000000?text=+) Review |\n",
    "| NameLayerMapComposite     | A Composite for which hooks are specified by both a mapping from module names and module types to hooks. | -                                     | ![#FFA500](https://via.placeholder.com/15/FFA500/000000?text=+) Review |\n",
    "| NameMapComposite          | A Composite for which hooks are specified by a mapping from module names to hooks. | -                                     | ![#FFA500](https://via.placeholder.com/15/FFA500/000000?text=+) Review |\n",
    "| SpecialFirstLayerMapComposite | A Composite for which hooks are specified by a mapping from module types to hooks. | -                                     | ![#FFA500](https://via.placeholder.com/15/FFA500/000000?text=+) Review |\n"
   ]
  },
  {
   "cell_type": "markdown",
   "metadata": {},
   "source": [
    "##### [Predefined rules](https://zennit.readthedocs.io/en/latest/how-to/use-rules-composites-and-canonizers.html#rules)\n",
    "| Rule Name              | Description                                                        | Relevance for Time Series (MVP) | Advantages                                      | Disadvantages                                 |\r\n",
    "|------------------------|--------------------------------------------------------------------|---------------------------------|-------------------------------------------------|-----------------------------------------------|\r\n",
    "| AlphaBeta              | Adaptable rule for different layer types.                          | ![#FFA500](https://via.placeholder.com/15/FFA500/000000?text=+) To Review | Adaptable to different layers.                   | Increases in complexity with layer depth.      |\r\n",
    "| Epsilon                | A stable rule, often used as a default for many layers.            | ![#008000](https://via.placeholder.com/15/008000/000000?text=+) Useful    | Simple and stable.                               | Might not capture all relevant features.      |\r\n",
    "| Flat                   | Suitable for input layers; provides a basic relevance mapping.     | ![#FFA500](https://via.placeholder.com/15/FFA500/000000?text=+) To Review | Beneficial for input layers.                     | Less informative for deeper layers.            |\r\n",
    "| Gamma                  | Balances positive and negative contributions in layers.            | ![#FFA500](https://via.placeholder.com/15/FFA500/000000?text=+) To Review | Balances positive and negative contributions.    | Sensitive to hyperparameter tuning.            |\r\n",
    "| ZBox                   | Specific to input normalisation processes.                         | ![#808080](https://via.placeholder.com/15/808080/000000?text=+) Not Relevant | Specific to input normalization.                | Limited general applicability.                 |\r\n",
    "| ZPlus                  | Focuses on positive contributions from the layers.                 | ![#FFA500](https://via.placeholder.com/15/FFA500/000000?text=+) To Review | Focuses on positive contributions.               | Neglects negative contributions.               |\r\n",
    "| ZB                     | A balanced approach to attributing relevance.                     | ![#808080](https://via.placeholder.com/15/808080/000000?text=+) Not Relevant | Provides a balanced attribution.                | Requires careful calibration and tuning.       |\r\n",
    "| WSquare                | Emphasises the importance of weights in the network.              | ![#808080](https://via.placeholder.com/15/808080/000000?text=+) Not Relevant | Highlights weight significance.                  | Not universally suitable for all networks.     |\r\n",
    "| WSquareFlat            | A combination of WSquare and Flat rules.                           | ![#808080](https://via.placeholder.com/15/808080/000000?text=+) Not Relevant | Combines features of WSquare and Flat rules.     | Limited in scope and application.              |\r\n",
    "| GuidedBackpropReLU     | Alters ReLU gradients for visualisation in convolutional networks. | ![#808080](https://via.placeholder.com/15/808080/000000?text=+) Not Relevant | Focused on visualisation in CNNs.                | Specific to CNNs and similar architectures.    |\r\n",
    "| PatternAttribution     | Considers layer-wise patterns for attribution.                     | ![#808080](https://via.placeholder.com/15/808080/000000?text=+) Not Relevant | Accounts for layer-specific patterns.            | Complexity due to need for precomputed patterns. |\r\n",
    "| PatternNet             | Provides detailed layer-wise analysis based on patterns.           | ![#808080](https://via.placeholder.com/15/808080/000000?text=+) Not Relevant | Detailed layer analysis.                         | Requires extensive pre-computation.            |\r\n",
    "\n"
   ]
  },
  {
   "cell_type": "markdown",
   "metadata": {},
   "source": [
    "Teniendo en cuenta los comentarios de ChatGPT y que queremos explicar las atribuciones del recorrido completo, usando varias capas, la tabla quedaría más bien así\n",
    "| Rule Name              | Description                                                        | Relevance for Time Series (MVP) | Advantages                                      | Disadvantages                                 |\n",
    "|------------------------|--------------------------------------------------------------------|---------------------------------|-------------------------------------------------|-----------------------------------------------|\n",
    "| AlphaBeta              | Adaptable rule for different layer types.                          | ![#FFA500](https://via.placeholder.com/15/FFA500/000000?text=+) To Review | Adaptable to different layers.                   | Increases in complexity with layer depth.      |\n",
    "| Epsilon                | A stable rule, often used as a default for many layers.            | ![#008000](https://via.placeholder.com/15/008000/000000?text=+) Useful    | Simple and stable.                               | Might not capture all relevant features.      |\n",
    "| Flat                   | Suitable for input layers; provides a basic relevance mapping.     | ![#808080](https://via.placeholder.com/15/808080/000000?text=+) Not Relevant | Beneficial for input layers.                     | Less informative for deeper layers.            |\n",
    "| Gamma                  | Balances positive and negative contributions in layers.            | ![#FFA500](https://via.placeholder.com/15/FFA500/000000?text=+) To Review | Balances positive and negative contributions.    | Sensitive to hyperparameter tuning.            |\n",
    "| ZBox                   | Specific to input normalisation processes.                         | ![#808080](https://via.placeholder.com/15/808080/000000?text=+) Not Relevant | Specific to input normalization.                | Limited general applicability.                 |\n",
    "| ZPlus                  | Focuses on positive contributions from the layers.                 | ![#FFA500](https://via.placeholder.com/15/FFA500/000000?text=+) To Review | Focuses on positive contributions.               | Neglects negative contributions.               |\n",
    "| ZB                     | A balanced approach to attributing relevance.                     | ![#808080](https://via.placeholder.com/15/808080/000000?text=+) Not Relevant | Provides a balanced attribution.                | Requires careful calibration and tuning.       |\n",
    "| WSquare                | Emphasises the importance of weights in the network.              | ![#808080](https://via.placeholder.com/15/808080/000000?text=+) Not Relevant | Highlights weight significance.                  | Not universally suitable for all networks.     |\n",
    "| WSquareFlat            | A combination of WSquare and Flat rules.                           | ![#808080](https://via.placeholder.com/15/808080/000000?text=+) Not Relevant | Combines features of WSquare and Flat rules.     | Limited in scope and application.              |\n",
    "| GuidedBackpropReLU     | Alters ReLU gradients for visualisation in convolutional networks. | ![#808080](https://via.placeholder.com/15/808080/000000?text=+) Not Relevant | Focused on visualisation in CNNs.                | Specific to CNNs and similar architectures.    |\n",
    "| PatternAttribution     | Considers layer-wise patterns for attribution.                     | ![#808080](https://via.placeholder.com/15/808080/000000?text=+) Not Relevant | Accounts for layer-specific patterns.            | Complexity due to need for precomputed patterns. |\n",
    "| PatternNet             | Provides detailed layer-wise analysis based on patterns.           | ![#808080](https://via.placeholder.com/15/808080/000000?text=+) Not Relevant | Detailed layer analysis.                         | Requires extensive pre-computation.            |\n"
   ]
  },
  {
   "cell_type": "markdown",
   "metadata": {},
   "source": [
    "##### Attributors\n",
    "\n",
    "[Attributtors](https://zennit.readthedocs.io/en/latest/how-to/write-custom-attributors.html) provide an additional layer of abstraction over the context of Composites. \n",
    "\n",
    "They are used to directly produce attributions, which may or may not be computed with modified gradients, if they are used, from Composites. \n",
    "More information on Attributors, examples and their use can be found in [Using Attributors](https://zennit.readthedocs.io/en/latest/how-to/use-attributors.html).\r\n",
    "\r\n",
    "Attributors can be used to implement non-layer-wise or only partly layer-wise attribution methods. For this, it is enough to define a subclass of zennit.attribution.Attributor and implement its forward() and optionally its __init__() methods\n",
    "We are focused on Layer-wise-retropropagation. However, in order to check the tool. The example attributor based in Gradient method will be implemented..: "
   ]
  },
  {
   "cell_type": "markdown",
   "metadata": {},
   "source": [
    "##### Canonizers(https://zennit.readthedocs.io/en/latest/how-to/use-rules-composites-and-canonizers.html)\n",
    "\n",
    "Zennit implements propagation-based attribution methods by overwriting the gradient of PyTorch modules within PyTorch’s auto-differentiation engine. There are three building blocks in Zennit to achieve attributions: Rules, Composites and Canonizers. In short, Rules specify how to overwrite the gradient, Composites map rules to modules, and Canonizers transform some module types and configurations to a canonical form, necessary in some cases.\n",
    "\n",
    "For some modules and operations, Layer-wise Relevance Propagation (LRP) is not implementation-invariant, eg. ```BatchNorm -> Dense -> ReLU``` will be attributed differently than ```Dense -> BatchNorm -> ReLU```. \n",
    "\n",
    "Therefore, LRP needs a canonical form of the model, which is implemented in Canonizers. \n"
   ]
  },
  {
   "cell_type": "markdown",
   "metadata": {},
   "source": [
    "### Compute LRP relevance \n",
    "> Following the Startting Guide & using relevat composites, attributtors and canonizers according to chatGPT. Well, attributtors should not at first be used, but let's check how they work."
   ]
  },
  {
   "cell_type": "markdown",
   "metadata": {},
   "source": [
    "#### Submodules summary for rules decision\n",
    "\n",
    "Before computing the LRP relevance, let's check the layer in the model so we can better decide the rules that we should use according to their nature."
   ]
  },
  {
   "cell_type": "code",
   "execution_count": null,
   "metadata": {},
   "outputs": [],
   "source": [
    "_, _ = learner_module_leaves_subtables(enc_learner, True)"
   ]
  },
  {
   "cell_type": "markdown",
   "metadata": {},
   "source": [
    "#### Import the data to be analysed\n",
    "> TODO: Addapt so only a specific range of TS is used according to a selected ProjectionPoints plot section"
   ]
  },
  {
   "cell_type": "code",
   "execution_count": null,
   "metadata": {},
   "outputs": [],
   "source": [
    "from tsai.data.core import get_ts_dls\n",
    "from tsai.basics import *"
   ]
  },
  {
   "cell_type": "code",
   "execution_count": null,
   "metadata": {},
   "outputs": [],
   "source": [
    "lrp_input = enc_input #[ ::enc_artifact.metadata['stride']]\n",
    "lrp_input.shape"
   ]
  },
  {
   "cell_type": "code",
   "execution_count": null,
   "metadata": {},
   "outputs": [],
   "source": [
    "w = 30\n",
    "stride = 5\n",
    "print(enc_artifact.metadata['stride'])\n",
    "#stride = enc_artifact.metadata['stride']\n",
    "splits = get_forecasting_splits(\n",
    "        df = df, \n",
    "        fcst_history = w,\n",
    "        fcst_horizon = 1,\n",
    "        stride = enc_artifact.metadata['stride'], \n",
    "        test_size = 0.2,\n",
    "        show_plot = True\n",
    "    )"
   ]
  },
  {
   "cell_type": "code",
   "execution_count": null,
   "metadata": {},
   "outputs": [],
   "source": [
    "tfms = [ToFloat(), None]\n",
    "batch_tfms = [\n",
    "    TSStandardize(\n",
    "        by_sample=enc_artifact.metadata['norm_by_sample'],\n",
    "        use_single_batch=enc_artifact.metadata['norm_use_single_batch']\n",
    "    )\n",
    "]\n",
    "dls = get_ts_dls(\n",
    "    lrp_input, \n",
    "    splits=splits, \n",
    "    tfms=tfms, \n",
    "    bs=enc_artifact.metadata['batch_size'], \n",
    "    batch_tfms=batch_tfms\n",
    ")\n",
    "dls.show_at(0)"
   ]
  },
  {
   "cell_type": "markdown",
   "metadata": {},
   "source": [
    "##### Prepare the data"
   ]
  },
  {
   "cell_type": "code",
   "execution_count": null,
   "metadata": {},
   "outputs": [],
   "source": [
    "lrp_input = enc_input\n",
    "print(lrp_input.shape)\n",
    "lrp_input_strided = lrp_input[::enc_artifact.metadata['stride']]\n",
    "print(lrp_input_strided.shape)\n",
    "print(type(lrp_input_strided))\n",
    "rows_with_nan = np.isnan(lrp_input_strided).any(axis=(1,2))\n",
    "lrp_input_strided = lrp_input_strided[~rows_with_nan]\n",
    "lrp_input_strided.shape"
   ]
  },
  {
   "cell_type": "code",
   "execution_count": null,
   "metadata": {},
   "outputs": [],
   "source": [
    "# make sure the input requires a gradient\n",
    "lrp_input_torch = torch.cuda.FloatTensor(lrp_input_strided)\n",
    "lrp_input_torch.requires_grad = True\n",
    "# Ensure input to be in GPU\n",
    "lrp_input_torch.to('cuda')\n",
    "lrp_input_torch.shape"
   ]
  },
  {
   "cell_type": "markdown",
   "metadata": {},
   "source": [
    "#### Load the trained model"
   ]
  },
  {
   "cell_type": "code",
   "execution_count": null,
   "metadata": {},
   "outputs": [],
   "source": [
    "#window_size = enc_artifact.metadata['w']\n",
    "#window_size"
   ]
  },
  {
   "cell_type": "code",
   "execution_count": null,
   "metadata": {},
   "outputs": [],
   "source": [
    "#batch_size = enc_artifact.metadata['batch_size']\n",
    "#batch_size"
   ]
  },
  {
   "cell_type": "code",
   "execution_count": null,
   "metadata": {},
   "outputs": [],
   "source": [
    "# Ensure model to be in GPU\n",
    "model = enc_learner.model.to('cuda')"
   ]
  },
  {
   "cell_type": "markdown",
   "metadata": {},
   "source": [
    "#### Option 1: composite (basic version)\n",
    "\n",
    "> Using ```EpsilonPlusFlat``` composite"
   ]
  },
  {
   "cell_type": "markdown",
   "metadata": {},
   "source": [
    "Create a composite instance"
   ]
  },
  {
   "cell_type": "code",
   "execution_count": null,
   "metadata": {},
   "outputs": [],
   "source": [
    "from zennit.composites import EpsilonPlusFlat\n",
    "import copy"
   ]
  },
  {
   "cell_type": "code",
   "execution_count": null,
   "metadata": {},
   "outputs": [],
   "source": [
    "# create a composite instance\n",
    "composite = EpsilonPlusFlat()"
   ]
  },
  {
   "cell_type": "code",
   "execution_count": null,
   "metadata": {},
   "outputs": [],
   "source": [
    "# compute the output and gradient within the composite's context\n",
    "def compute_output_and_gradient(model, input_data):\n",
    "    model.eval()\n",
    "    # Just in case to check if the difference in the relevance is cause of no-reversion (not should as it is inside with)\n",
    "    original_state_dict = copy.deepcopy(model.state_dict())\n",
    "\n",
    "    with composite.context(model) as modified_model:\n",
    "        output = modified_model(input_data)\n",
    "        output.backward(\n",
    "            gradient=torch.ones_like(input_data),\n",
    "            retain_graph = True\n",
    "        ) \n",
    "        relevance = torch.autograd.grad(\n",
    "            output, input_data, \n",
    "            torch.ones_like(input_data),\n",
    "            retain_graph=True\n",
    "        )\n",
    "    model.load_state_dict(original_state_dict)\n",
    "    return output, relevance"
   ]
  },
  {
   "cell_type": "code",
   "execution_count": null,
   "metadata": {},
   "outputs": [],
   "source": [
    "# TODO: Revisar por qué salen NaNs\n",
    "output, relevance = compute_output_and_gradient(model, lrp_input_torch)\n",
    "relevance = relevance[0]\n",
    "relevance.shape"
   ]
  },
  {
   "cell_type": "markdown",
   "metadata": {},
   "source": [
    "##### Reduce relevance dimensions to get an array with a relevance per each feature"
   ]
  },
  {
   "cell_type": "code",
   "execution_count": null,
   "metadata": {},
   "outputs": [],
   "source": [
    "def reduce_dimensions(relevance):\n",
    "    #Get the mean per each feature\n",
    "    print(relevance.shape)\n",
    "    importances = relevance.nanmean(axis=2)\n",
    "    print(importances.shape)\n",
    "    #Get a global mean instead of one per sample\n",
    "    importances_mean = importances.nanmean(dim=0).detach().cpu().numpy()\n",
    "    print(importances_mean.shape)\n",
    "    #print(importances_mean)\n",
    "    #Take care of negative values\n",
    "    min_importance = min(importances_mean)\n",
    "    if  min_importance < 0:\n",
    "        importances_mean = importances_mean - min_importance\n",
    "    print(min(importances_mean))\n",
    "    print(importances_mean)\n",
    "    #See as percentage\n",
    "    importances_sum = np.nansum(importances_mean)\n",
    "    importances_percentage = (importances_mean/importances_sum)\n",
    "    print(importances_percentage)\n",
    "    return importances_percentage"
   ]
  },
  {
   "cell_type": "code",
   "execution_count": null,
   "metadata": {},
   "outputs": [],
   "source": [
    "importances = reduce_dimensions(relevance)"
   ]
  },
  {
   "cell_type": "markdown",
   "metadata": {},
   "source": [
    "##### Visualize"
   ]
  },
  {
   "cell_type": "markdown",
   "metadata": {},
   "source": [
    "###### Get feature names"
   ]
  },
  {
   "cell_type": "code",
   "execution_count": null,
   "metadata": {},
   "outputs": [],
   "source": [
    "features_names = list(df.columns)\n",
    "features_names"
   ]
  },
  {
   "cell_type": "markdown",
   "metadata": {},
   "source": [
    "###### Create auxiliar function to check a diagram bar\n",
    "> TODO: Think how a heatmap would be sawn as and implement if possible"
   ]
  },
  {
   "cell_type": "code",
   "execution_count": null,
   "metadata": {},
   "outputs": [],
   "source": [
    "import matplotlib.pyplot as plt"
   ]
  },
  {
   "cell_type": "code",
   "execution_count": null,
   "metadata": {},
   "outputs": [],
   "source": [
    "def plot_features_importance(title, features_names, importances_percentage):\n",
    "    # Crear diagrama de barras\n",
    "    plt.figure(figsize=(10, 6))\n",
    "    plt.bar(features_names, importances_percentage)\n",
    "    plt.xlabel('Features')\n",
    "    plt.ylabel('Importance')\n",
    "    plt.title(title + '| Features importance (%)')\n",
    "    plt.xticks(rotation=45)\n",
    "    plt.show()"
   ]
  },
  {
   "cell_type": "code",
   "execution_count": null,
   "metadata": {},
   "outputs": [],
   "source": [
    "plot_features_importance ('LRP', features_names, importances)"
   ]
  },
  {
   "cell_type": "markdown",
   "metadata": {},
   "source": [
    "Thus, the two most meaningful features are"
   ]
  },
  {
   "cell_type": "code",
   "execution_count": null,
   "metadata": {},
   "outputs": [],
   "source": [
    "def get_meaningful_ids(importances, features_names, numvars = 2):\n",
    "    meaningful_ids = np.argsort(importances)[-numvars:]\n",
    "    meaningful_features = [(i,features_names[i], importances[i]) for i in meaningful_ids]\n",
    "    return meaningful_features, meaningful_ids"
   ]
  },
  {
   "cell_type": "code",
   "execution_count": null,
   "metadata": {},
   "outputs": [],
   "source": [
    "meaningful_features, meaningful_ids = get_meaningful_ids(importances, features_names, 2)\n",
    "meaningful_features"
   ]
  },
  {
   "cell_type": "markdown",
   "metadata": {},
   "source": [
    "#### Option 2: attributtors \n",
    "> Using ```SmoothGrad``` attributor as in the example\n",
    ">\n",
    "> Allows to use other attribution-based XAI techniques\n",
    "> \n",
    "> Not relevant as we want to use RLP. But tried for checking"
   ]
  },
  {
   "cell_type": "code",
   "execution_count": null,
   "metadata": {},
   "outputs": [],
   "source": [
    "from zennit.attribution import SmoothGrad"
   ]
  },
  {
   "cell_type": "code",
   "execution_count": null,
   "metadata": {},
   "outputs": [],
   "source": [
    "attributor = SmoothGrad(model, noise_level=0.1, n_iter=10)"
   ]
  },
  {
   "cell_type": "code",
   "execution_count": null,
   "metadata": {},
   "outputs": [],
   "source": [
    "def compute_output_and_relevance_atributor(model, attributor, input):\n",
    "    # we do not need a composite to compute vanilla SmoothGrad\n",
    "    model.eval()\n",
    "    #with atributor_ as attributor:\n",
    "    with attributor:\n",
    "         # gradient/ relevance\n",
    "         output, relevance = attributor(\n",
    "             input, \n",
    "             torch.ones_like(input)\n",
    "        )\n",
    "    print('Attributor:', relevance[:2], relevance.shape)\n",
    "    return output, relevance"
   ]
  },
  {
   "cell_type": "code",
   "execution_count": null,
   "metadata": {},
   "outputs": [],
   "source": [
    "_, relevance_smooth_grad = compute_output_and_relevance_atributor(model, attributor, lrp_input_torch)\n",
    "print(relevance_smooth_grad.shape)"
   ]
  },
  {
   "cell_type": "code",
   "execution_count": null,
   "metadata": {},
   "outputs": [],
   "source": [
    "importances_attributor = reduce_dimensions(relevance_smooth_grad)"
   ]
  },
  {
   "cell_type": "code",
   "execution_count": null,
   "metadata": {},
   "outputs": [],
   "source": [
    "plot_features_importance('LRP | Attributor Smooth Grad', features_names, importances_attributor)"
   ]
  },
  {
   "cell_type": "code",
   "execution_count": null,
   "metadata": {},
   "outputs": [],
   "source": [
    "meaningful_features_attributors, meaningful_ids_attributors = get_meaningful_ids(importances_attributor, features_names)\n",
    "meaningful_features_attributors"
   ]
  },
  {
   "cell_type": "code",
   "execution_count": null,
   "metadata": {},
   "outputs": [],
   "source": [
    "# Remember to compare\n",
    "meaningful_features"
   ]
  },
  {
   "cell_type": "markdown",
   "metadata": {},
   "source": [
    "#### Option 3: Canonizers & Attributor & Rule\n",
    "> Using ```SequentialMergeBatchNorm``` canonizer\n",
    "\n",
    "> and ```Gradient``` attributor\n",
    "\n",
    "> and ```EpsilonGammaBox``` as rule"
   ]
  },
  {
   "cell_type": "code",
   "execution_count": null,
   "metadata": {},
   "outputs": [],
   "source": [
    "from zennit.canonizers import SequentialMergeBatchNorm\n",
    "from zennit.attribution import Gradient\n",
    "from zennit.composites import EpsilonGammaBox"
   ]
  },
  {
   "cell_type": "code",
   "execution_count": null,
   "metadata": {},
   "outputs": [],
   "source": [
    "model.eval()\n",
    "canonizers = [SequentialMergeBatchNorm()]\n",
    "composite = EpsilonGammaBox(low=-3., high=3., canonizers=canonizers)\n",
    "attributor = Gradient(model, composite)"
   ]
  },
  {
   "cell_type": "code",
   "execution_count": null,
   "metadata": {},
   "outputs": [],
   "source": [
    "def compute_output_and_relevance_canonizer_atributor(model, composite, attributor, input):\n",
    "    composite.register(model)\n",
    "    with attributor:\n",
    "        output, relevance = attributor(\n",
    "             input,\n",
    "             torch.ones_like(input)\n",
    "        )\n",
    "    composite.remove()\n",
    "    return output, relevance"
   ]
  },
  {
   "cell_type": "code",
   "execution_count": null,
   "metadata": {},
   "outputs": [],
   "source": [
    "_, relevance_canonizer_atributor_rule = compute_output_and_relevance_canonizer_atributor(model, composite, attributor, lrp_input_torch)\n",
    "importances_canonizer_atributor_rule = reduce_dimensions(relevance_canonizer_atributor_rule)"
   ]
  },
  {
   "cell_type": "code",
   "execution_count": null,
   "metadata": {},
   "outputs": [],
   "source": [
    "plot_features_importance('LRP | Canonizer SequentialMergeBatchNorm', features_names, importances_canonizer_atributor_rule)"
   ]
  },
  {
   "cell_type": "code",
   "execution_count": null,
   "metadata": {},
   "outputs": [],
   "source": [
    "meaningful_features_canonizer_attributor_rule, meaningful_ids_canonizer_attributor_rule = get_meaningful_ids(importances_canonizer_atributor_rule, features_names)\n",
    "meaningful_features_canonizer_attributor_rule"
   ]
  },
  {
   "cell_type": "code",
   "execution_count": null,
   "metadata": {},
   "outputs": [],
   "source": [
    "print(\"Sumarise\")\n",
    "print(\"Composite meaningful features: \", meaningful_features)\n",
    "print(\"Attributor meaningful features: \", meaningful_features_attributors)\n",
    "print(\"Canonizer & Atributor & Rule meaningful features: \", meaningful_features_canonizer_attributor_rule)"
   ]
  },
  {
   "cell_type": "markdown",
   "metadata": {},
   "source": [
    "#### Option 4: Canonizer & Rule\n",
    "> The best option for our goal. Next step: select specific rules for our model (MPV)\n",
    "\n",
    "> Using ```SequentialMergeBatchNorm``` composite\n",
    "\n",
    "> and ```EpsilonGammaBox``` as rule"
   ]
  },
  {
   "cell_type": "code",
   "execution_count": null,
   "metadata": {},
   "outputs": [],
   "source": [
    "from zennit.canonizers import SequentialMergeBatchNorm\n",
    "from zennit.composites import EpsilonGammaBox"
   ]
  },
  {
   "cell_type": "code",
   "execution_count": null,
   "metadata": {},
   "outputs": [],
   "source": [
    "model.eval()\n",
    "canonizer2 = SequentialMergeBatchNorm()\n",
    "composite2 = EpsilonGammaBox(low=-3., high=3., canonizers=canonizer2)"
   ]
  },
  {
   "cell_type": "code",
   "execution_count": null,
   "metadata": {},
   "outputs": [],
   "source": [
    "# compute the output and gradient within the composite's context\n",
    "def compute_output_and_gradient_canonizer_rule(model, composite2, input_data):\n",
    "    model.eval()\n",
    "    \n",
    "    composite.register(model)\n",
    "\n",
    "    #Do something with the model\n",
    "    output = model(input_data)\n",
    "    \n",
    "    relevance, = torch.autograd.grad(\n",
    "        output, input_data, \n",
    "        torch.ones_like(input_data),\n",
    "        retain_graph=True\n",
    "    )\n",
    "    \n",
    "    composite.remove()\n",
    "    return output, relevance"
   ]
  },
  {
   "cell_type": "code",
   "execution_count": null,
   "metadata": {},
   "outputs": [],
   "source": [
    "_, relevance_canonizer_rule = compute_output_and_gradient_canonizer_rule(model, composite2, lrp_input_torch)"
   ]
  },
  {
   "cell_type": "code",
   "execution_count": null,
   "metadata": {},
   "outputs": [],
   "source": [
    "importances_canonizer_rule = reduce_dimensions(relevance_canonizer_rule)"
   ]
  },
  {
   "cell_type": "code",
   "execution_count": null,
   "metadata": {},
   "outputs": [],
   "source": [
    "plot_features_importance('LRP | Canonizer SequentialMergeBatchNorm', features_names, importances_canonizer_rule)"
   ]
  },
  {
   "cell_type": "code",
   "execution_count": null,
   "metadata": {},
   "outputs": [],
   "source": [
    "meaningful_features_canonizer_rule, meaningful_ids_canonizer_rule = get_meaningful_ids(importances_canonizer_rule, features_names)\n",
    "meaningful_features_canonizer_rule"
   ]
  },
  {
   "cell_type": "code",
   "execution_count": null,
   "metadata": {},
   "outputs": [],
   "source": [
    "print(\"Sumarise\")\n",
    "print(\"Composite meaningful features: \", meaningful_features)\n",
    "print(\"Attributor meaningful features: \", meaningful_features_attributors)\n",
    "print(\"Canonizer & Atributor & Rule meaningful features: \", meaningful_features_canonizer_attributor_rule)\n",
    "print(\"Canonizer & Rule meaningful features: \", meaningful_features_canonizer_rule)"
   ]
  },
  {
   "cell_type": "markdown",
   "metadata": {},
   "source": [
    "## Final decision"
   ]
  },
  {
   "cell_type": "markdown",
   "metadata": {},
   "source": [
    "For MVP, the modules types are \n",
    "\n",
    "- Add\n",
    "- BatchNorm1d\n",
    "- Concat\n",
    "- Conv1d\n",
    "- Dropout\n",
    "- MaxPool1d\n",
    "- ReLU\n",
    "\n",
    "The main for LRP analysis are the following, sumarised to check the rules and composites that may be used\n"
   ]
  },
  {
   "cell_type": "markdown",
   "metadata": {},
   "source": [
    "| Layer Type  | Rule Recommendation | Composite Recommendation | Canonizer Recommendation | Notes |\n",
    "|-------------|---------------------|--------------------------|-------------------------|-------|\n",
    "| BatchNorm1d | - | - | SequentialMergeBatchNorm() for ensuring correct execution order | Ideal for normalizing batch layers. |\n",
    "| Conv1d      | Epsilon rule | Epsilon - * | - | Further investigation needed to select the specific composite. |\n",
    "| MaxPool1d   | - | Epsilon | - | Epsilon is stable, no change needed. |\n",
    "| ReLU        | - | BetaSmooth; DeconvNet | - | DeconvNet may be more suited to visual computing. |"
   ]
  },
  {
   "cell_type": "markdown",
   "metadata": {},
   "source": [
    "Thus, final implementation should look like ```compute_output_and_gradient_canonizer_rule``` version. The next step is to select the parameters for epsilon composite"
   ]
  },
  {
   "cell_type": "code",
   "execution_count": null,
   "metadata": {},
   "outputs": [],
   "source": []
  },
  {
   "cell_type": "markdown",
   "metadata": {},
   "source": [
    "## Embedding selection"
   ]
  },
  {
   "cell_type": "markdown",
   "metadata": {},
   "source": [
    "In this section, you must select a subset of the plot. By default, some random indices will be selected at first."
   ]
  },
  {
   "cell_type": "code",
   "execution_count": null,
   "metadata": {},
   "outputs": [],
   "source": [
    "#!pip install -U plotly\n",
    "#! pip install -U kaleido"
   ]
  },
  {
   "cell_type": "code",
   "execution_count": null,
   "metadata": {},
   "outputs": [],
   "source": [
    "#\n",
    "#! mamba install canvas -c conda-forge | No conseguido, usar pip install canvas si hace falta | En revisión\n",
    "#! mamba install -y -c conda-forge ipympl==0.9.3 #0.5.1\n",
    "#! mamba update -y -c conda-forge nbdime\n",
    "#! conda install -y -c conda-forge ipywidgets\n",
    "#! jupyter nbextension enable --py --sys-prefix ipympl"
   ]
  },
  {
   "cell_type": "code",
   "execution_count": null,
   "metadata": {},
   "outputs": [],
   "source": [
    "from IPython.display import display, clear_output, HTML as IPHTML\n",
    "from ipywidgets import Button, Output, VBox, HBox, HTML, Layout, FloatSlider\n",
    "\n",
    "import plotly.graph_objs as go\n",
    "import plotly.offline as py\n",
    "import plotly.io as pio\n",
    "! pip install kaleido\n",
    "import kaleido"
   ]
  },
  {
   "cell_type": "markdown",
   "metadata": {},
   "source": [
    "### Default selection"
   ]
  },
  {
   "cell_type": "code",
   "execution_count": null,
   "metadata": {},
   "outputs": [],
   "source": [
    "selected_prjs_points_total = min(prjs.shape[0], 10)\n",
    "selected_indices = np.random.permutation(lrp_input_torch.size(0))[:selected_prjs_points_total]\n",
    "print(selected_indices)"
   ]
  },
  {
   "cell_type": "markdown",
   "metadata": {},
   "source": [
    "### Interactive plot"
   ]
  },
  {
   "cell_type": "code",
   "execution_count": null,
   "metadata": {},
   "outputs": [],
   "source": [
    "# TODO: Lo suyo sería pasar cosas a funciones/a W&B y que el notebook empezara directamente aquí, usando para prjs el array de proyecciones que se haya calculado en el notebook anterior en lugar de volverlo a recalcular"
   ]
  },
  {
   "cell_type": "code",
   "execution_count": null,
   "metadata": {},
   "outputs": [],
   "source": [
    "import seaborn as sns\n",
    "import matplotlib.pyplot as plt\n",
    "import pandas as pd\n",
    "import ipywidgets as widgets\n",
    "from IPython.display import display\n",
    "from functools import partial"
   ]
  },
  {
   "cell_type": "code",
   "execution_count": null,
   "metadata": {},
   "outputs": [],
   "source": [
    "# Crear una instancia de la clase InteractivePlotter\n",
    "anomaly_plotter = InteractiveAnomalyPlot(selected_indices, threshold, True, w)"
   ]
  },
  {
   "cell_type": "code",
   "execution_count": null,
   "metadata": {},
   "outputs": [],
   "source": [
    "threshold"
   ]
  },
  {
   "cell_type": "code",
   "execution_count": null,
   "metadata": {},
   "outputs": [],
   "source": [
    "anomaly_plotter.plot_projections_clusters_interactive(\n",
    "    prjs,clusters_labels, umap_parameters(config_dr, config_lrp), anomaly_scores, print_flag = False)"
   ]
  },
  {
   "cell_type": "code",
   "execution_count": null,
   "metadata": {},
   "outputs": [],
   "source": [
    "anomaly_plotter.selected_indices"
   ]
  },
  {
   "cell_type": "code",
   "execution_count": null,
   "metadata": {},
   "outputs": [],
   "source": [
    "#anomaly_scores"
   ]
  },
  {
   "cell_type": "markdown",
   "metadata": {},
   "source": [
    "### Compute LRP"
   ]
  },
  {
   "cell_type": "code",
   "execution_count": null,
   "metadata": {},
   "outputs": [],
   "source": [
    "lrp_input_subset_torch = lrp_input_torch[selected_indices]\n",
    "lrp_input_subset_torch.shape"
   ]
  },
  {
   "cell_type": "code",
   "execution_count": null,
   "metadata": {},
   "outputs": [],
   "source": [
    "model.eval()\n",
    "canonizer_subset = SequentialMergeBatchNorm()"
   ]
  },
  {
   "cell_type": "code",
   "execution_count": null,
   "metadata": {},
   "outputs": [],
   "source": [
    "_, relevance_subset = compute_output_and_gradient_canonizer_rule(model, canonizer_subset, lrp_input_subset_torch)"
   ]
  },
  {
   "cell_type": "code",
   "execution_count": null,
   "metadata": {},
   "outputs": [],
   "source": [
    "importances_subset = reduce_dimensions(relevance_subset)"
   ]
  },
  {
   "cell_type": "code",
   "execution_count": null,
   "metadata": {},
   "outputs": [],
   "source": [
    "plot_features_importance('LRP | Canonizer SequentialMergeBatchNorm', features_names, importances_subset)"
   ]
  },
  {
   "cell_type": "code",
   "execution_count": null,
   "metadata": {},
   "outputs": [],
   "source": [
    "#meaningful_features_subset, meaningful_features_subset_ids = get_meaningful_ids(importances_canonizer_rule, features_names)\n",
    "meaningful_features_subset, meaningful_features_subset_ids = get_meaningful_ids(importances_subset, features_names)"
   ]
  },
  {
   "cell_type": "code",
   "execution_count": null,
   "metadata": {},
   "outputs": [],
   "source": [
    "meaningful_features_subset"
   ]
  },
  {
   "cell_type": "markdown",
   "metadata": {},
   "source": [
    "### Linking back points of the 2D projection to the original time series and plotting the associated windows\n",
    "The variable ```selected_indices``` contains an array of the selected points indices selected in the previous 2D projection. From this indices, we will get the corresponding windows of the original space"
   ]
  },
  {
   "cell_type": "code",
   "execution_count": null,
   "metadata": {},
   "outputs": [],
   "source": [
    "anomaly_plotter.selected_indices"
   ]
  },
  {
   "cell_type": "code",
   "execution_count": null,
   "metadata": {},
   "outputs": [],
   "source": [
    "lrp_input.shape"
   ]
  },
  {
   "cell_type": "code",
   "execution_count": null,
   "metadata": {},
   "outputs": [],
   "source": [
    "# Crear el gráfico interactivo\n",
    "ts_plot_interactive(df, anomaly_plotter.selected_indices, meaningful_features_subset_ids, w, stride = stride)"
   ]
  },
  {
   "cell_type": "code",
   "execution_count": null,
   "metadata": {},
   "outputs": [],
   "source": [
    "#| hide\n",
    "run_lrp.finish()"
   ]
  },
  {
   "cell_type": "code",
   "execution_count": null,
   "metadata": {},
   "outputs": [],
   "source": [
    "beep(0.025)\n",
    "beep(0.025)\n",
    "beep(0.025)\n",
    "print(\"Execution ended\")"
   ]
  }
 ],
 "metadata": {
  "kernelspec": {
   "display_name": "Python 3.10 (XPython)",
   "language": "python",
   "name": "xpython"
  }
 },
 "nbformat": 4,
 "nbformat_minor": 4
}

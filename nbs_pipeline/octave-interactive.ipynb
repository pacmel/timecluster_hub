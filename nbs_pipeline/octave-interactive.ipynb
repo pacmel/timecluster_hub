{
 "cells": [
  {
   "cell_type": "code",
   "execution_count": 1,
   "id": "1668c079-c1a1-4fec-89c5-933210528318",
   "metadata": {},
   "outputs": [],
   "source": [
    "import subprocess\n",
    "import os\n",
    "from oct2py import octave"
   ]
  },
  {
   "cell_type": "code",
   "execution_count": 2,
   "id": "ea3737b5-4b58-48fa-91de-b7a318f795ec",
   "metadata": {},
   "outputs": [
    {
     "name": "stdout",
     "output_type": "stream",
     "text": [
      "/home/macu/work/nbs_pipeline\n",
      "/home/macu/work/nbs_pipeline/octave-tests/\n",
      "\u001b[?2004l\n",
      "Path correctly added to octave instance.\n"
     ]
    }
   ],
   "source": [
    "current_path = os.getcwd()\n",
    "path2add = current_path + \"/octave-tests/\"\n",
    "print(current_path)\n",
    "print(path2add)\n",
    "\n",
    "if os.path.exists(path2add):\n",
    "    octave.addpath(path2add)\n",
    "    print(\"Path correctly added to octave instance.\")\n",
    "else:\n",
    "    print(\"The path is not available\")"
   ]
  },
  {
   "cell_type": "code",
   "execution_count": 3,
   "id": "b4aedebb-edbb-4c77-b563-d648463b3f3f",
   "metadata": {},
   "outputs": [
    {
     "name": "stdout",
     "output_type": "stream",
     "text": [
      "\u001b[?2004l\n",
      "\u001b[?2004l\n",
      "\u001b[?2004l\n",
      "/home/macu/work/nbs_pipeline\n",
      "\u001b[?2004l\n",
      "\u001b[?2004l\n",
      "\u001b[?2004l\n",
      "Hola Mundo\n"
     ]
    }
   ],
   "source": [
    "print(octave.cd(path2add))\n",
    "octave.source(\"hola_mundo.m\")"
   ]
  },
  {
   "cell_type": "code",
   "execution_count": 4,
   "id": "e50e468e-b852-4a3a-acdc-d5c5b288a982",
   "metadata": {},
   "outputs": [
    {
     "name": "stdout",
     "output_type": "stream",
     "text": [
      "---> Python is here\n",
      "/home/macu/work/nbs_pipeline\n",
      "---> Console too!\n",
      "/home/macu/work/nbs_pipeline\n"
     ]
    }
   ],
   "source": [
    "print(\"---> Python is here\")\n",
    "print(os.getcwd())\n",
    "print(\"---> Console too!\")\n",
    "! pwd"
   ]
  },
  {
   "cell_type": "code",
   "execution_count": 5,
   "id": "fc619372-73da-419f-be57-f32dc6a6cfca",
   "metadata": {},
   "outputs": [
    {
     "name": "stdout",
     "output_type": "stream",
     "text": [
      "octave-tests/interactiveMatrixProfileVer3.m\n"
     ]
    }
   ],
   "source": [
    "filename = 'interactiveMatrixProfileVer3'\n",
    "! ls octave-tests/{filename}.m"
   ]
  },
  {
   "cell_type": "code",
   "execution_count": 6,
   "id": "3b9daa9e-ac7c-4a47-a475-1d3ed8875ef9",
   "metadata": {},
   "outputs": [],
   "source": [
    "filename = 'MP_first_test_penguin_sample.mat'"
   ]
  },
  {
   "cell_type": "code",
   "execution_count": 7,
   "id": "26737a09-5875-42f4-920b-a95637279dd5",
   "metadata": {},
   "outputs": [],
   "source": [
    "## -- Classes & types\n",
    "from dataclasses import dataclass, field\n",
    "from typing import List\n",
    "import warnings "
   ]
  },
  {
   "cell_type": "code",
   "execution_count": 8,
   "id": "019eb4c7-bfcf-4f33-8ca0-905c5935fa40",
   "metadata": {},
   "outputs": [],
   "source": [
    "@dataclass\n",
    "class MatlabMatrix: \n",
    "    filename : str = \"\"\n",
    "    matname : str = \"\"\n",
    "    data : List [ float ] = None\n",
    "    data_dict : dict = field (default_factory = dict)\n",
    "    smoothing_window_len : int = None\n",
    "    \n",
    "    def load(self, numcol : int, print_flag : bool = False):\n",
    "        self.dict = octave.load(self.filename)\n",
    "        data = self.dict[self.matname]\n",
    "        if print_flag: print(data.dtype)\n",
    "        self.data = np.array(data[:,numcol])\n",
    "        return self.data\n",
    "    def smooth(self, window_len=11, print_flag = False):\n",
    "        # window_len: smoothing window size needs, which must be odd number,\n",
    "        # Step 1: Apply the moving average to the main part of the data using convolution\n",
    "        self.smoothing_window_len = window_len\n",
    "        if self.smoothing_window_len % 2 == 0:\n",
    "            warnings.warn(\"Window len must be odd! Adding 1 to your length.\")\n",
    "            self.smoothing_window_len += 1\n",
    "        if print_flag: print(\"---> About to get out0\")\n",
    "        out0 = np.convolve(\n",
    "            self.data, \n",
    "            np.ones(self.smoothing_window_len, dtype=int),\n",
    "            'valid'\n",
    "        ) / self.smoothing_window_len\n",
    "    \n",
    "        # Step 2: Handle the beginning of the array (start)\n",
    "        # Use cumulative sum and then average it by the increasing window size\n",
    "    \n",
    "        if print_flag : \n",
    "            print(\"out0 ~\", out0.shape)\n",
    "            print(\"---> About to get start\")\n",
    "    \n",
    "        r = np.arange(1, self.smoothing_window_len-1, 2)\n",
    "    \n",
    "        if print_flag: print(\"r\", r)\n",
    "    \n",
    "        start = np.cumsum(self.data[:self.smoothing_window_len-1])[::2] / r\n",
    "    \n",
    "        if print_flag:\n",
    "            print(\"start\", start)\n",
    "            print(\"---> About to get stop\")\n",
    "    \n",
    "        # Step 3: Handle the end of the array (stop)\n",
    "        # Reverse the array, use cumulative sum, and then average it by the increasing window size\n",
    "    \n",
    "        stop = (np.cumsum(self.data[:-self.smoothing_window_len:-1])[::2] / r)[::-1]\n",
    "\n",
    "        if print_flag: \n",
    "            print(\"stop\", stop)\n",
    "    \n",
    "        # Step 4: Combine the start, middle, and end parts together\n",
    "        return np.concatenate((start, out0, stop))\n",
    "\n"
   ]
  },
  {
   "cell_type": "code",
   "execution_count": 9,
   "id": "9c4b0212-b999-4dc0-af96-b42ff70dc7a5",
   "metadata": {},
   "outputs": [],
   "source": [
    "import numpy as np\n",
    "import oct2py"
   ]
  },
  {
   "cell_type": "code",
   "execution_count": 10,
   "id": "fd4be5b1-7108-4332-a1ae-a8d30727a76c",
   "metadata": {},
   "outputs": [
    {
     "name": "stdout",
     "output_type": "stream",
     "text": [
      "\u001b[?2004l\n",
      "\u001b[?2004l\n",
      "\u001b[?2004l\n",
      "float64\n"
     ]
    },
    {
     "data": {
      "text/plain": [
       "array([0.253906 , 0.259033 , 0.269287 , ..., 0.0559082, 0.064209 ,\n",
       "       0.059082 ])"
      ]
     },
     "execution_count": 10,
     "metadata": {},
     "output_type": "execute_result"
    }
   ],
   "source": [
    "penguins_sample = MatlabMatrix(filename = 'MP_first_test_penguin_sample', matname = 'penguin_sample')\n",
    "penguins_sample.load( numcol = 0, print_flag = True )"
   ]
  },
  {
   "cell_type": "code",
   "execution_count": 11,
   "id": "f990f390-8d40-4acf-9056-81e03f6e1431",
   "metadata": {},
   "outputs": [],
   "source": [
    "subsequence_len = 800"
   ]
  },
  {
   "cell_type": "code",
   "execution_count": 12,
   "id": "8010282d-36dd-4a38-af75-3b857b8b58bd",
   "metadata": {},
   "outputs": [],
   "source": [
    "%load_ext oct2py.ipython"
   ]
  },
  {
   "cell_type": "code",
   "execution_count": 13,
   "id": "3ca32ceb-19f8-4e9c-a84f-479203056aff",
   "metadata": {},
   "outputs": [
    {
     "name": "stdout",
     "output_type": "stream",
     "text": [
      "\u001b[?2004l\n",
      "\u001b[?2004l\n",
      "\u001b[?2004l\n",
      "\u001b[?2004l\n",
      "\u001b[?2004l\n"
     ]
    },
    {
     "data": {
      "text/plain": [
       "\u001b[?2004l"
      ]
     },
     "metadata": {},
     "output_type": "display_data"
    },
    {
     "data": {
      "text/plain": [
       "t ="
      ]
     },
     "metadata": {},
     "output_type": "display_data"
    },
    {
     "data": {
      "text/plain": []
     },
     "metadata": {},
     "output_type": "display_data"
    },
    {
     "data": {
      "text/plain": [
       " Columns 1 through 6:"
      ]
     },
     "metadata": {},
     "output_type": "display_data"
    },
    {
     "data": {
      "text/plain": []
     },
     "metadata": {},
     "output_type": "display_data"
    },
    {
     "data": {
      "text/plain": [
       "  -1.0000e+01  -9.9800e+00  -9.9600e+00  -9.9399e+00  -9.9199e+00  -9.8999e+00"
      ]
     },
     "metadata": {},
     "output_type": "display_data"
    },
    {
     "data": {
      "text/plain": []
     },
     "metadata": {},
     "output_type": "display_data"
    },
    {
     "data": {
      "text/plain": [
       " Columns 7 through 12:"
      ]
     },
     "metadata": {},
     "output_type": "display_data"
    },
    {
     "data": {
      "text/plain": []
     },
     "metadata": {},
     "output_type": "display_data"
    },
    {
     "data": {
      "text/plain": [
       "  -9.8799e+00  -9.8599e+00  -9.8398e+00  -9.8198e+00  -9.7998e+00  -9.7798e+00"
      ]
     },
     "metadata": {},
     "output_type": "display_data"
    },
    {
     "data": {
      "text/plain": []
     },
     "metadata": {},
     "output_type": "display_data"
    },
    {
     "data": {
      "text/plain": [
       " Columns 13 through 18:"
      ]
     },
     "metadata": {},
     "output_type": "display_data"
    },
    {
     "data": {
      "text/plain": []
     },
     "metadata": {},
     "output_type": "display_data"
    },
    {
     "data": {
      "text/plain": [
       "  -9.7598e+00  -9.7397e+00  -9.7197e+00  -9.6997e+00  -9.6797e+00  -9.6597e+00"
      ]
     },
     "metadata": {},
     "output_type": "display_data"
    },
    {
     "data": {
      "text/plain": []
     },
     "metadata": {},
     "output_type": "display_data"
    },
    {
     "data": {
      "text/plain": [
       " Columns 19 through 24:"
      ]
     },
     "metadata": {},
     "output_type": "display_data"
    },
    {
     "data": {
      "text/plain": []
     },
     "metadata": {},
     "output_type": "display_data"
    },
    {
     "data": {
      "text/plain": [
       "  -9.6396e+00  -9.6196e+00  -9.5996e+00  -9.5796e+00  -9.5596e+00  -9.5395e+00"
      ]
     },
     "metadata": {},
     "output_type": "display_data"
    },
    {
     "data": {
      "text/plain": []
     },
     "metadata": {},
     "output_type": "display_data"
    },
    {
     "data": {
      "text/plain": [
       " Columns 25 through 30:"
      ]
     },
     "metadata": {},
     "output_type": "display_data"
    },
    {
     "data": {
      "text/plain": []
     },
     "metadata": {},
     "output_type": "display_data"
    },
    {
     "data": {
      "text/plain": [
       "  -9.5195e+00  -9.4995e+00  -9.4795e+00  -9.4595e+00  -9.4394e+00  -9.4194e+00"
      ]
     },
     "metadata": {},
     "output_type": "display_data"
    },
    {
     "data": {
      "text/plain": []
     },
     "metadata": {},
     "output_type": "display_data"
    },
    {
     "data": {
      "text/plain": [
       " Columns 31 through 36:"
      ]
     },
     "metadata": {},
     "output_type": "display_data"
    },
    {
     "data": {
      "text/plain": []
     },
     "metadata": {},
     "output_type": "display_data"
    },
    {
     "data": {
      "text/plain": [
       "  -9.3994e+00  -9.3794e+00  -9.3594e+00  -9.3393e+00  -9.3193e+00  -9.2993e+00"
      ]
     },
     "metadata": {},
     "output_type": "display_data"
    },
    {
     "data": {
      "text/plain": []
     },
     "metadata": {},
     "output_type": "display_data"
    },
    {
     "data": {
      "text/plain": [
       " Columns 37 through 42:"
      ]
     },
     "metadata": {},
     "output_type": "display_data"
    },
    {
     "data": {
      "text/plain": []
     },
     "metadata": {},
     "output_type": "display_data"
    },
    {
     "data": {
      "text/plain": [
       "  -9.2793e+00  -9.2593e+00  -9.2392e+00  -9.2192e+00  -9.1992e+00  -9.1792e+00"
      ]
     },
     "metadata": {},
     "output_type": "display_data"
    },
    {
     "data": {
      "text/plain": []
     },
     "metadata": {},
     "output_type": "display_data"
    },
    {
     "data": {
      "text/plain": [
       " Columns 43 through 48:"
      ]
     },
     "metadata": {},
     "output_type": "display_data"
    },
    {
     "data": {
      "text/plain": []
     },
     "metadata": {},
     "output_type": "display_data"
    },
    {
     "data": {
      "text/plain": [
       "  -9.1592e+00  -9.1391e+00  -9.1191e+00  -9.0991e+00  -9.0791e+00  -9.0591e+00"
      ]
     },
     "metadata": {},
     "output_type": "display_data"
    },
    {
     "data": {
      "text/plain": []
     },
     "metadata": {},
     "output_type": "display_data"
    },
    {
     "data": {
      "text/plain": [
       " Columns 49 through 54:"
      ]
     },
     "metadata": {},
     "output_type": "display_data"
    },
    {
     "data": {
      "text/plain": []
     },
     "metadata": {},
     "output_type": "display_data"
    },
    {
     "data": {
      "text/plain": [
       "  -9.0390e+00  -9.0190e+00  -8.9990e+00  -8.9790e+00  -8.9590e+00  -8.9389e+00"
      ]
     },
     "metadata": {},
     "output_type": "display_data"
    },
    {
     "data": {
      "text/plain": []
     },
     "metadata": {},
     "output_type": "display_data"
    },
    {
     "data": {
      "text/plain": [
       " Columns 55 through 60:"
      ]
     },
     "metadata": {},
     "output_type": "display_data"
    },
    {
     "data": {
      "text/plain": []
     },
     "metadata": {},
     "output_type": "display_data"
    },
    {
     "data": {
      "text/plain": [
       "  -8.9189e+00  -8.8989e+00  -8.8789e+00  -8.8589e+00  -8.8388e+00  -8.8188e+00"
      ]
     },
     "metadata": {},
     "output_type": "display_data"
    },
    {
     "data": {
      "text/plain": []
     },
     "metadata": {},
     "output_type": "display_data"
    },
    {
     "data": {
      "text/plain": [
       " Columns 61 through 66:"
      ]
     },
     "metadata": {},
     "output_type": "display_data"
    },
    {
     "data": {
      "text/plain": []
     },
     "metadata": {},
     "output_type": "display_data"
    },
    {
     "data": {
      "text/plain": [
       "  -8.7988e+00  -8.7788e+00  -8.7588e+00  -8.7387e+00  -8.7187e+00  -8.6987e+00"
      ]
     },
     "metadata": {},
     "output_type": "display_data"
    },
    {
     "data": {
      "text/plain": []
     },
     "metadata": {},
     "output_type": "display_data"
    },
    {
     "data": {
      "text/plain": [
       " Columns 67 through 72:"
      ]
     },
     "metadata": {},
     "output_type": "display_data"
    },
    {
     "data": {
      "text/plain": []
     },
     "metadata": {},
     "output_type": "display_data"
    },
    {
     "data": {
      "text/plain": [
       "  -8.6787e+00  -8.6587e+00  -8.6386e+00  -8.6186e+00  -8.5986e+00  -8.5786e+00"
      ]
     },
     "metadata": {},
     "output_type": "display_data"
    },
    {
     "data": {
      "text/plain": []
     },
     "metadata": {},
     "output_type": "display_data"
    },
    {
     "data": {
      "text/plain": [
       " Columns 73 through 78:"
      ]
     },
     "metadata": {},
     "output_type": "display_data"
    },
    {
     "data": {
      "text/plain": []
     },
     "metadata": {},
     "output_type": "display_data"
    },
    {
     "data": {
      "text/plain": [
       "  -8.5586e+00  -8.5385e+00  -8.5185e+00  -8.4985e+00  -8.4785e+00  -8.4585e+00"
      ]
     },
     "metadata": {},
     "output_type": "display_data"
    },
    {
     "data": {
      "text/plain": []
     },
     "metadata": {},
     "output_type": "display_data"
    },
    {
     "data": {
      "text/plain": [
       " Columns 79 through 84:"
      ]
     },
     "metadata": {},
     "output_type": "display_data"
    },
    {
     "data": {
      "text/plain": []
     },
     "metadata": {},
     "output_type": "display_data"
    },
    {
     "data": {
      "text/plain": [
       "  -8.4384e+00  -8.4184e+00  -8.3984e+00  -8.3784e+00  -8.3584e+00  -8.3383e+00"
      ]
     },
     "metadata": {},
     "output_type": "display_data"
    },
    {
     "data": {
      "text/plain": []
     },
     "metadata": {},
     "output_type": "display_data"
    },
    {
     "data": {
      "text/plain": [
       " Columns 85 through 90:"
      ]
     },
     "metadata": {},
     "output_type": "display_data"
    },
    {
     "data": {
      "text/plain": []
     },
     "metadata": {},
     "output_type": "display_data"
    },
    {
     "data": {
      "text/plain": [
       "  -8.3183e+00  -8.2983e+00  -8.2783e+00  -8.2583e+00  -8.2382e+00  -8.2182e+00"
      ]
     },
     "metadata": {},
     "output_type": "display_data"
    },
    {
     "data": {
      "text/plain": []
     },
     "metadata": {},
     "output_type": "display_data"
    },
    {
     "data": {
      "text/plain": [
       " Columns 91 through 96:"
      ]
     },
     "metadata": {},
     "output_type": "display_data"
    },
    {
     "data": {
      "text/plain": []
     },
     "metadata": {},
     "output_type": "display_data"
    },
    {
     "data": {
      "text/plain": [
       "  -8.1982e+00  -8.1782e+00  -8.1582e+00  -8.1381e+00  -8.1181e+00  -8.0981e+00"
      ]
     },
     "metadata": {},
     "output_type": "display_data"
    },
    {
     "data": {
      "text/plain": []
     },
     "metadata": {},
     "output_type": "display_data"
    },
    {
     "data": {
      "text/plain": [
       " Columns 97 through 102:"
      ]
     },
     "metadata": {},
     "output_type": "display_data"
    },
    {
     "data": {
      "text/plain": []
     },
     "metadata": {},
     "output_type": "display_data"
    },
    {
     "data": {
      "text/plain": [
       "  -8.0781e+00  -8.0581e+00  -8.0380e+00  -8.0180e+00  -7.9980e+00  -7.9780e+00"
      ]
     },
     "metadata": {},
     "output_type": "display_data"
    },
    {
     "data": {
      "text/plain": []
     },
     "metadata": {},
     "output_type": "display_data"
    },
    {
     "data": {
      "text/plain": [
       " Columns 103 through 108:"
      ]
     },
     "metadata": {},
     "output_type": "display_data"
    },
    {
     "data": {
      "text/plain": []
     },
     "metadata": {},
     "output_type": "display_data"
    },
    {
     "data": {
      "text/plain": [
       "  -7.9580e+00  -7.9379e+00  -7.9179e+00  -7.8979e+00  -7.8779e+00  -7.8579e+00"
      ]
     },
     "metadata": {},
     "output_type": "display_data"
    },
    {
     "data": {
      "text/plain": []
     },
     "metadata": {},
     "output_type": "display_data"
    },
    {
     "data": {
      "text/plain": [
       " Columns 109 through 114:"
      ]
     },
     "metadata": {},
     "output_type": "display_data"
    },
    {
     "data": {
      "text/plain": []
     },
     "metadata": {},
     "output_type": "display_data"
    },
    {
     "data": {
      "text/plain": [
       "  -7.8378e+00  -7.8178e+00  -7.7978e+00  -7.7778e+00  -7.7578e+00  -7.7377e+00"
      ]
     },
     "metadata": {},
     "output_type": "display_data"
    },
    {
     "data": {
      "text/plain": []
     },
     "metadata": {},
     "output_type": "display_data"
    },
    {
     "data": {
      "text/plain": [
       " Columns 115 through 120:"
      ]
     },
     "metadata": {},
     "output_type": "display_data"
    },
    {
     "data": {
      "text/plain": []
     },
     "metadata": {},
     "output_type": "display_data"
    },
    {
     "data": {
      "text/plain": [
       "  -7.7177e+00  -7.6977e+00  -7.6777e+00  -7.6577e+00  -7.6376e+00  -7.6176e+00"
      ]
     },
     "metadata": {},
     "output_type": "display_data"
    },
    {
     "data": {
      "text/plain": []
     },
     "metadata": {},
     "output_type": "display_data"
    },
    {
     "data": {
      "text/plain": [
       " Columns 121 through 126:"
      ]
     },
     "metadata": {},
     "output_type": "display_data"
    },
    {
     "data": {
      "text/plain": []
     },
     "metadata": {},
     "output_type": "display_data"
    },
    {
     "data": {
      "text/plain": [
       "  -7.5976e+00  -7.5776e+00  -7.5576e+00  -7.5375e+00  -7.5175e+00  -7.4975e+00"
      ]
     },
     "metadata": {},
     "output_type": "display_data"
    },
    {
     "data": {
      "text/plain": []
     },
     "metadata": {},
     "output_type": "display_data"
    },
    {
     "data": {
      "text/plain": [
       " Columns 127 through 132:"
      ]
     },
     "metadata": {},
     "output_type": "display_data"
    },
    {
     "data": {
      "text/plain": []
     },
     "metadata": {},
     "output_type": "display_data"
    },
    {
     "data": {
      "text/plain": [
       "  -7.4775e+00  -7.4575e+00  -7.4374e+00  -7.4174e+00  -7.3974e+00  -7.3774e+00"
      ]
     },
     "metadata": {},
     "output_type": "display_data"
    },
    {
     "data": {
      "text/plain": []
     },
     "metadata": {},
     "output_type": "display_data"
    },
    {
     "data": {
      "text/plain": [
       " Columns 133 through 138:"
      ]
     },
     "metadata": {},
     "output_type": "display_data"
    },
    {
     "data": {
      "text/plain": []
     },
     "metadata": {},
     "output_type": "display_data"
    },
    {
     "data": {
      "text/plain": [
       "  -7.3574e+00  -7.3373e+00  -7.3173e+00  -7.2973e+00  -7.2773e+00  -7.2573e+00"
      ]
     },
     "metadata": {},
     "output_type": "display_data"
    },
    {
     "data": {
      "text/plain": []
     },
     "metadata": {},
     "output_type": "display_data"
    },
    {
     "data": {
      "text/plain": [
       " Columns 139 through 144:"
      ]
     },
     "metadata": {},
     "output_type": "display_data"
    },
    {
     "data": {
      "text/plain": []
     },
     "metadata": {},
     "output_type": "display_data"
    },
    {
     "data": {
      "text/plain": [
       "  -7.2372e+00  -7.2172e+00  -7.1972e+00  -7.1772e+00  -7.1572e+00  -7.1371e+00"
      ]
     },
     "metadata": {},
     "output_type": "display_data"
    },
    {
     "data": {
      "text/plain": []
     },
     "metadata": {},
     "output_type": "display_data"
    },
    {
     "data": {
      "text/plain": [
       " Columns 145 through 150:"
      ]
     },
     "metadata": {},
     "output_type": "display_data"
    },
    {
     "data": {
      "text/plain": []
     },
     "metadata": {},
     "output_type": "display_data"
    },
    {
     "data": {
      "text/plain": [
       "  -7.1171e+00  -7.0971e+00  -7.0771e+00  -7.0571e+00  -7.0370e+00  -7.0170e+00"
      ]
     },
     "metadata": {},
     "output_type": "display_data"
    },
    {
     "data": {
      "text/plain": []
     },
     "metadata": {},
     "output_type": "display_data"
    },
    {
     "data": {
      "text/plain": [
       " Columns 151 through 156:"
      ]
     },
     "metadata": {},
     "output_type": "display_data"
    },
    {
     "data": {
      "text/plain": []
     },
     "metadata": {},
     "output_type": "display_data"
    },
    {
     "data": {
      "text/plain": [
       "  -6.9970e+00  -6.9770e+00  -6.9570e+00  -6.9369e+00  -6.9169e+00  -6.8969e+00"
      ]
     },
     "metadata": {},
     "output_type": "display_data"
    },
    {
     "data": {
      "text/plain": []
     },
     "metadata": {},
     "output_type": "display_data"
    },
    {
     "data": {
      "text/plain": [
       " Columns 157 through 162:"
      ]
     },
     "metadata": {},
     "output_type": "display_data"
    },
    {
     "data": {
      "text/plain": []
     },
     "metadata": {},
     "output_type": "display_data"
    },
    {
     "data": {
      "text/plain": [
       "  -6.8769e+00  -6.8569e+00  -6.8368e+00  -6.8168e+00  -6.7968e+00  -6.7768e+00"
      ]
     },
     "metadata": {},
     "output_type": "display_data"
    },
    {
     "data": {
      "text/plain": []
     },
     "metadata": {},
     "output_type": "display_data"
    },
    {
     "data": {
      "text/plain": [
       " Columns 163 through 168:"
      ]
     },
     "metadata": {},
     "output_type": "display_data"
    },
    {
     "data": {
      "text/plain": []
     },
     "metadata": {},
     "output_type": "display_data"
    },
    {
     "data": {
      "text/plain": [
       "  -6.7568e+00  -6.7367e+00  -6.7167e+00  -6.6967e+00  -6.6767e+00  -6.6567e+00"
      ]
     },
     "metadata": {},
     "output_type": "display_data"
    },
    {
     "data": {
      "text/plain": []
     },
     "metadata": {},
     "output_type": "display_data"
    },
    {
     "data": {
      "text/plain": [
       " Columns 169 through 174:"
      ]
     },
     "metadata": {},
     "output_type": "display_data"
    },
    {
     "data": {
      "text/plain": []
     },
     "metadata": {},
     "output_type": "display_data"
    },
    {
     "data": {
      "text/plain": [
       "  -6.6366e+00  -6.6166e+00  -6.5966e+00  -6.5766e+00  -6.5566e+00  -6.5365e+00"
      ]
     },
     "metadata": {},
     "output_type": "display_data"
    },
    {
     "data": {
      "text/plain": []
     },
     "metadata": {},
     "output_type": "display_data"
    },
    {
     "data": {
      "text/plain": [
       " Columns 175 through 180:"
      ]
     },
     "metadata": {},
     "output_type": "display_data"
    },
    {
     "data": {
      "text/plain": []
     },
     "metadata": {},
     "output_type": "display_data"
    },
    {
     "data": {
      "text/plain": [
       "  -6.5165e+00  -6.4965e+00  -6.4765e+00  -6.4565e+00  -6.4364e+00  -6.4164e+00"
      ]
     },
     "metadata": {},
     "output_type": "display_data"
    },
    {
     "data": {
      "text/plain": []
     },
     "metadata": {},
     "output_type": "display_data"
    },
    {
     "data": {
      "text/plain": [
       " Columns 181 through 186:"
      ]
     },
     "metadata": {},
     "output_type": "display_data"
    },
    {
     "data": {
      "text/plain": []
     },
     "metadata": {},
     "output_type": "display_data"
    },
    {
     "data": {
      "text/plain": [
       "  -6.3964e+00  -6.3764e+00  -6.3564e+00  -6.3363e+00  -6.3163e+00  -6.2963e+00"
      ]
     },
     "metadata": {},
     "output_type": "display_data"
    },
    {
     "data": {
      "text/plain": []
     },
     "metadata": {},
     "output_type": "display_data"
    },
    {
     "data": {
      "text/plain": [
       " Columns 187 through 192:"
      ]
     },
     "metadata": {},
     "output_type": "display_data"
    },
    {
     "data": {
      "text/plain": []
     },
     "metadata": {},
     "output_type": "display_data"
    },
    {
     "data": {
      "text/plain": [
       "  -6.2763e+00  -6.2563e+00  -6.2362e+00  -6.2162e+00  -6.1962e+00  -6.1762e+00"
      ]
     },
     "metadata": {},
     "output_type": "display_data"
    },
    {
     "data": {
      "text/plain": []
     },
     "metadata": {},
     "output_type": "display_data"
    },
    {
     "data": {
      "text/plain": [
       " Columns 193 through 198:"
      ]
     },
     "metadata": {},
     "output_type": "display_data"
    },
    {
     "data": {
      "text/plain": []
     },
     "metadata": {},
     "output_type": "display_data"
    },
    {
     "data": {
      "text/plain": [
       "  -6.1562e+00  -6.1361e+00  -6.1161e+00  -6.0961e+00  -6.0761e+00  -6.0561e+00"
      ]
     },
     "metadata": {},
     "output_type": "display_data"
    },
    {
     "data": {
      "text/plain": []
     },
     "metadata": {},
     "output_type": "display_data"
    },
    {
     "data": {
      "text/plain": [
       " Columns 199 through 204:"
      ]
     },
     "metadata": {},
     "output_type": "display_data"
    },
    {
     "data": {
      "text/plain": []
     },
     "metadata": {},
     "output_type": "display_data"
    },
    {
     "data": {
      "text/plain": [
       "  -6.0360e+00  -6.0160e+00  -5.9960e+00  -5.9760e+00  -5.9560e+00  -5.9359e+00"
      ]
     },
     "metadata": {},
     "output_type": "display_data"
    },
    {
     "data": {
      "text/plain": []
     },
     "metadata": {},
     "output_type": "display_data"
    },
    {
     "data": {
      "text/plain": [
       " Columns 205 through 210:"
      ]
     },
     "metadata": {},
     "output_type": "display_data"
    },
    {
     "data": {
      "text/plain": []
     },
     "metadata": {},
     "output_type": "display_data"
    },
    {
     "data": {
      "text/plain": [
       "  -5.9159e+00  -5.8959e+00  -5.8759e+00  -5.8559e+00  -5.8358e+00  -5.8158e+00"
      ]
     },
     "metadata": {},
     "output_type": "display_data"
    },
    {
     "data": {
      "text/plain": []
     },
     "metadata": {},
     "output_type": "display_data"
    },
    {
     "data": {
      "text/plain": [
       " Columns 211 through 216:"
      ]
     },
     "metadata": {},
     "output_type": "display_data"
    },
    {
     "data": {
      "text/plain": []
     },
     "metadata": {},
     "output_type": "display_data"
    },
    {
     "data": {
      "text/plain": [
       "  -5.7958e+00  -5.7758e+00  -5.7558e+00  -5.7357e+00  -5.7157e+00  -5.6957e+00"
      ]
     },
     "metadata": {},
     "output_type": "display_data"
    },
    {
     "data": {
      "text/plain": []
     },
     "metadata": {},
     "output_type": "display_data"
    },
    {
     "data": {
      "text/plain": [
       " Columns 217 through 222:"
      ]
     },
     "metadata": {},
     "output_type": "display_data"
    },
    {
     "data": {
      "text/plain": []
     },
     "metadata": {},
     "output_type": "display_data"
    },
    {
     "data": {
      "text/plain": [
       "  -5.6757e+00  -5.6557e+00  -5.6356e+00  -5.6156e+00  -5.5956e+00  -5.5756e+00"
      ]
     },
     "metadata": {},
     "output_type": "display_data"
    },
    {
     "data": {
      "text/plain": []
     },
     "metadata": {},
     "output_type": "display_data"
    },
    {
     "data": {
      "text/plain": [
       " Columns 223 through 228:"
      ]
     },
     "metadata": {},
     "output_type": "display_data"
    },
    {
     "data": {
      "text/plain": []
     },
     "metadata": {},
     "output_type": "display_data"
    },
    {
     "data": {
      "text/plain": [
       "  -5.5556e+00  -5.5355e+00  -5.5155e+00  -5.4955e+00  -5.4755e+00  -5.4555e+00"
      ]
     },
     "metadata": {},
     "output_type": "display_data"
    },
    {
     "data": {
      "text/plain": []
     },
     "metadata": {},
     "output_type": "display_data"
    },
    {
     "data": {
      "text/plain": [
       " Columns 229 through 234:"
      ]
     },
     "metadata": {},
     "output_type": "display_data"
    },
    {
     "data": {
      "text/plain": []
     },
     "metadata": {},
     "output_type": "display_data"
    },
    {
     "data": {
      "text/plain": [
       "  -5.4354e+00  -5.4154e+00  -5.3954e+00  -5.3754e+00  -5.3554e+00  -5.3353e+00"
      ]
     },
     "metadata": {},
     "output_type": "display_data"
    },
    {
     "data": {
      "text/plain": []
     },
     "metadata": {},
     "output_type": "display_data"
    },
    {
     "data": {
      "text/plain": [
       " Columns 235 through 240:"
      ]
     },
     "metadata": {},
     "output_type": "display_data"
    },
    {
     "data": {
      "text/plain": []
     },
     "metadata": {},
     "output_type": "display_data"
    },
    {
     "data": {
      "text/plain": [
       "  -5.3153e+00  -5.2953e+00  -5.2753e+00  -5.2553e+00  -5.2352e+00  -5.2152e+00"
      ]
     },
     "metadata": {},
     "output_type": "display_data"
    },
    {
     "data": {
      "text/plain": []
     },
     "metadata": {},
     "output_type": "display_data"
    },
    {
     "data": {
      "text/plain": [
       " Columns 241 through 246:"
      ]
     },
     "metadata": {},
     "output_type": "display_data"
    },
    {
     "data": {
      "text/plain": []
     },
     "metadata": {},
     "output_type": "display_data"
    },
    {
     "data": {
      "text/plain": [
       "  -5.1952e+00  -5.1752e+00  -5.1552e+00  -5.1351e+00  -5.1151e+00  -5.0951e+00"
      ]
     },
     "metadata": {},
     "output_type": "display_data"
    },
    {
     "data": {
      "text/plain": []
     },
     "metadata": {},
     "output_type": "display_data"
    },
    {
     "data": {
      "text/plain": [
       " Columns 247 through 252:"
      ]
     },
     "metadata": {},
     "output_type": "display_data"
    },
    {
     "data": {
      "text/plain": []
     },
     "metadata": {},
     "output_type": "display_data"
    },
    {
     "data": {
      "text/plain": [
       "  -5.0751e+00  -5.0551e+00  -5.0350e+00  -5.0150e+00  -4.9950e+00  -4.9750e+00"
      ]
     },
     "metadata": {},
     "output_type": "display_data"
    },
    {
     "data": {
      "text/plain": []
     },
     "metadata": {},
     "output_type": "display_data"
    },
    {
     "data": {
      "text/plain": [
       " Columns 253 through 258:"
      ]
     },
     "metadata": {},
     "output_type": "display_data"
    },
    {
     "data": {
      "text/plain": []
     },
     "metadata": {},
     "output_type": "display_data"
    },
    {
     "data": {
      "text/plain": [
       "  -4.9550e+00  -4.9349e+00  -4.9149e+00  -4.8949e+00  -4.8749e+00  -4.8549e+00"
      ]
     },
     "metadata": {},
     "output_type": "display_data"
    },
    {
     "data": {
      "text/plain": []
     },
     "metadata": {},
     "output_type": "display_data"
    },
    {
     "data": {
      "text/plain": [
       " Columns 259 through 264:"
      ]
     },
     "metadata": {},
     "output_type": "display_data"
    },
    {
     "data": {
      "text/plain": []
     },
     "metadata": {},
     "output_type": "display_data"
    },
    {
     "data": {
      "text/plain": [
       "  -4.8348e+00  -4.8148e+00  -4.7948e+00  -4.7748e+00  -4.7548e+00  -4.7347e+00"
      ]
     },
     "metadata": {},
     "output_type": "display_data"
    },
    {
     "data": {
      "text/plain": []
     },
     "metadata": {},
     "output_type": "display_data"
    },
    {
     "data": {
      "text/plain": [
       " Columns 265 through 270:"
      ]
     },
     "metadata": {},
     "output_type": "display_data"
    },
    {
     "data": {
      "text/plain": []
     },
     "metadata": {},
     "output_type": "display_data"
    },
    {
     "data": {
      "text/plain": [
       "  -4.7147e+00  -4.6947e+00  -4.6747e+00  -4.6547e+00  -4.6346e+00  -4.6146e+00"
      ]
     },
     "metadata": {},
     "output_type": "display_data"
    },
    {
     "data": {
      "text/plain": []
     },
     "metadata": {},
     "output_type": "display_data"
    },
    {
     "data": {
      "text/plain": [
       " Columns 271 through 276:"
      ]
     },
     "metadata": {},
     "output_type": "display_data"
    },
    {
     "data": {
      "text/plain": []
     },
     "metadata": {},
     "output_type": "display_data"
    },
    {
     "data": {
      "text/plain": [
       "  -4.5946e+00  -4.5746e+00  -4.5546e+00  -4.5345e+00  -4.5145e+00  -4.4945e+00"
      ]
     },
     "metadata": {},
     "output_type": "display_data"
    },
    {
     "data": {
      "text/plain": []
     },
     "metadata": {},
     "output_type": "display_data"
    },
    {
     "data": {
      "text/plain": [
       " Columns 277 through 282:"
      ]
     },
     "metadata": {},
     "output_type": "display_data"
    },
    {
     "data": {
      "text/plain": []
     },
     "metadata": {},
     "output_type": "display_data"
    },
    {
     "data": {
      "text/plain": [
       "  -4.4745e+00  -4.4545e+00  -4.4344e+00  -4.4144e+00  -4.3944e+00  -4.3744e+00"
      ]
     },
     "metadata": {},
     "output_type": "display_data"
    },
    {
     "data": {
      "text/plain": []
     },
     "metadata": {},
     "output_type": "display_data"
    },
    {
     "data": {
      "text/plain": [
       " Columns 283 through 288:"
      ]
     },
     "metadata": {},
     "output_type": "display_data"
    },
    {
     "data": {
      "text/plain": []
     },
     "metadata": {},
     "output_type": "display_data"
    },
    {
     "data": {
      "text/plain": [
       "  -4.3544e+00  -4.3343e+00  -4.3143e+00  -4.2943e+00  -4.2743e+00  -4.2543e+00"
      ]
     },
     "metadata": {},
     "output_type": "display_data"
    },
    {
     "data": {
      "text/plain": []
     },
     "metadata": {},
     "output_type": "display_data"
    },
    {
     "data": {
      "text/plain": [
       " Columns 289 through 294:"
      ]
     },
     "metadata": {},
     "output_type": "display_data"
    },
    {
     "data": {
      "text/plain": []
     },
     "metadata": {},
     "output_type": "display_data"
    },
    {
     "data": {
      "text/plain": [
       "  -4.2342e+00  -4.2142e+00  -4.1942e+00  -4.1742e+00  -4.1542e+00  -4.1341e+00"
      ]
     },
     "metadata": {},
     "output_type": "display_data"
    },
    {
     "data": {
      "text/plain": []
     },
     "metadata": {},
     "output_type": "display_data"
    },
    {
     "data": {
      "text/plain": [
       " Columns 295 through 300:"
      ]
     },
     "metadata": {},
     "output_type": "display_data"
    },
    {
     "data": {
      "text/plain": []
     },
     "metadata": {},
     "output_type": "display_data"
    },
    {
     "data": {
      "text/plain": [
       "  -4.1141e+00  -4.0941e+00  -4.0741e+00  -4.0541e+00  -4.0340e+00  -4.0140e+00"
      ]
     },
     "metadata": {},
     "output_type": "display_data"
    },
    {
     "data": {
      "text/plain": []
     },
     "metadata": {},
     "output_type": "display_data"
    },
    {
     "data": {
      "text/plain": [
       " Columns 301 through 306:"
      ]
     },
     "metadata": {},
     "output_type": "display_data"
    },
    {
     "data": {
      "text/plain": []
     },
     "metadata": {},
     "output_type": "display_data"
    },
    {
     "data": {
      "text/plain": [
       "  -3.9940e+00  -3.9740e+00  -3.9540e+00  -3.9339e+00  -3.9139e+00  -3.8939e+00"
      ]
     },
     "metadata": {},
     "output_type": "display_data"
    },
    {
     "data": {
      "text/plain": []
     },
     "metadata": {},
     "output_type": "display_data"
    },
    {
     "data": {
      "text/plain": [
       " Columns 307 through 312:"
      ]
     },
     "metadata": {},
     "output_type": "display_data"
    },
    {
     "data": {
      "text/plain": []
     },
     "metadata": {},
     "output_type": "display_data"
    },
    {
     "data": {
      "text/plain": [
       "  -3.8739e+00  -3.8539e+00  -3.8338e+00  -3.8138e+00  -3.7938e+00  -3.7738e+00"
      ]
     },
     "metadata": {},
     "output_type": "display_data"
    },
    {
     "data": {
      "text/plain": []
     },
     "metadata": {},
     "output_type": "display_data"
    },
    {
     "data": {
      "text/plain": [
       " Columns 313 through 318:"
      ]
     },
     "metadata": {},
     "output_type": "display_data"
    },
    {
     "data": {
      "text/plain": []
     },
     "metadata": {},
     "output_type": "display_data"
    },
    {
     "data": {
      "text/plain": [
       "  -3.7538e+00  -3.7337e+00  -3.7137e+00  -3.6937e+00  -3.6737e+00  -3.6537e+00"
      ]
     },
     "metadata": {},
     "output_type": "display_data"
    },
    {
     "data": {
      "text/plain": []
     },
     "metadata": {},
     "output_type": "display_data"
    },
    {
     "data": {
      "text/plain": [
       " Columns 319 through 324:"
      ]
     },
     "metadata": {},
     "output_type": "display_data"
    },
    {
     "data": {
      "text/plain": []
     },
     "metadata": {},
     "output_type": "display_data"
    },
    {
     "data": {
      "text/plain": [
       "  -3.6336e+00  -3.6136e+00  -3.5936e+00  -3.5736e+00  -3.5536e+00  -3.5335e+00"
      ]
     },
     "metadata": {},
     "output_type": "display_data"
    },
    {
     "data": {
      "text/plain": []
     },
     "metadata": {},
     "output_type": "display_data"
    },
    {
     "data": {
      "text/plain": [
       " Columns 325 through 330:"
      ]
     },
     "metadata": {},
     "output_type": "display_data"
    },
    {
     "data": {
      "text/plain": []
     },
     "metadata": {},
     "output_type": "display_data"
    },
    {
     "data": {
      "text/plain": [
       "  -3.5135e+00  -3.4935e+00  -3.4735e+00  -3.4535e+00  -3.4334e+00  -3.4134e+00"
      ]
     },
     "metadata": {},
     "output_type": "display_data"
    },
    {
     "data": {
      "text/plain": []
     },
     "metadata": {},
     "output_type": "display_data"
    },
    {
     "data": {
      "text/plain": [
       " Columns 331 through 336:"
      ]
     },
     "metadata": {},
     "output_type": "display_data"
    },
    {
     "data": {
      "text/plain": []
     },
     "metadata": {},
     "output_type": "display_data"
    },
    {
     "data": {
      "text/plain": [
       "  -3.3934e+00  -3.3734e+00  -3.3534e+00  -3.3333e+00  -3.3133e+00  -3.2933e+00"
      ]
     },
     "metadata": {},
     "output_type": "display_data"
    },
    {
     "data": {
      "text/plain": []
     },
     "metadata": {},
     "output_type": "display_data"
    },
    {
     "data": {
      "text/plain": [
       " Columns 337 through 342:"
      ]
     },
     "metadata": {},
     "output_type": "display_data"
    },
    {
     "data": {
      "text/plain": []
     },
     "metadata": {},
     "output_type": "display_data"
    },
    {
     "data": {
      "text/plain": [
       "  -3.2733e+00  -3.2533e+00  -3.2332e+00  -3.2132e+00  -3.1932e+00  -3.1732e+00"
      ]
     },
     "metadata": {},
     "output_type": "display_data"
    },
    {
     "data": {
      "text/plain": []
     },
     "metadata": {},
     "output_type": "display_data"
    },
    {
     "data": {
      "text/plain": [
       " Columns 343 through 348:"
      ]
     },
     "metadata": {},
     "output_type": "display_data"
    },
    {
     "data": {
      "text/plain": []
     },
     "metadata": {},
     "output_type": "display_data"
    },
    {
     "data": {
      "text/plain": [
       "  -3.1532e+00  -3.1331e+00  -3.1131e+00  -3.0931e+00  -3.0731e+00  -3.0531e+00"
      ]
     },
     "metadata": {},
     "output_type": "display_data"
    },
    {
     "data": {
      "text/plain": []
     },
     "metadata": {},
     "output_type": "display_data"
    },
    {
     "data": {
      "text/plain": [
       " Columns 349 through 354:"
      ]
     },
     "metadata": {},
     "output_type": "display_data"
    },
    {
     "data": {
      "text/plain": []
     },
     "metadata": {},
     "output_type": "display_data"
    },
    {
     "data": {
      "text/plain": [
       "  -3.0330e+00  -3.0130e+00  -2.9930e+00  -2.9730e+00  -2.9530e+00  -2.9329e+00"
      ]
     },
     "metadata": {},
     "output_type": "display_data"
    },
    {
     "data": {
      "text/plain": []
     },
     "metadata": {},
     "output_type": "display_data"
    },
    {
     "data": {
      "text/plain": [
       " Columns 355 through 360:"
      ]
     },
     "metadata": {},
     "output_type": "display_data"
    },
    {
     "data": {
      "text/plain": []
     },
     "metadata": {},
     "output_type": "display_data"
    },
    {
     "data": {
      "text/plain": [
       "  -2.9129e+00  -2.8929e+00  -2.8729e+00  -2.8529e+00  -2.8328e+00  -2.8128e+00"
      ]
     },
     "metadata": {},
     "output_type": "display_data"
    },
    {
     "data": {
      "text/plain": []
     },
     "metadata": {},
     "output_type": "display_data"
    },
    {
     "data": {
      "text/plain": [
       " Columns 361 through 366:"
      ]
     },
     "metadata": {},
     "output_type": "display_data"
    },
    {
     "data": {
      "text/plain": []
     },
     "metadata": {},
     "output_type": "display_data"
    },
    {
     "data": {
      "text/plain": [
       "  -2.7928e+00  -2.7728e+00  -2.7528e+00  -2.7327e+00  -2.7127e+00  -2.6927e+00"
      ]
     },
     "metadata": {},
     "output_type": "display_data"
    },
    {
     "data": {
      "text/plain": []
     },
     "metadata": {},
     "output_type": "display_data"
    },
    {
     "data": {
      "text/plain": [
       " Columns 367 through 372:"
      ]
     },
     "metadata": {},
     "output_type": "display_data"
    },
    {
     "data": {
      "text/plain": []
     },
     "metadata": {},
     "output_type": "display_data"
    },
    {
     "data": {
      "text/plain": [
       "  -2.6727e+00  -2.6527e+00  -2.6326e+00  -2.6126e+00  -2.5926e+00  -2.5726e+00"
      ]
     },
     "metadata": {},
     "output_type": "display_data"
    },
    {
     "data": {
      "text/plain": []
     },
     "metadata": {},
     "output_type": "display_data"
    },
    {
     "data": {
      "text/plain": [
       " Columns 373 through 378:"
      ]
     },
     "metadata": {},
     "output_type": "display_data"
    },
    {
     "data": {
      "text/plain": []
     },
     "metadata": {},
     "output_type": "display_data"
    },
    {
     "data": {
      "text/plain": [
       "  -2.5526e+00  -2.5325e+00  -2.5125e+00  -2.4925e+00  -2.4725e+00  -2.4525e+00"
      ]
     },
     "metadata": {},
     "output_type": "display_data"
    },
    {
     "data": {
      "text/plain": []
     },
     "metadata": {},
     "output_type": "display_data"
    },
    {
     "data": {
      "text/plain": [
       " Columns 379 through 384:"
      ]
     },
     "metadata": {},
     "output_type": "display_data"
    },
    {
     "data": {
      "text/plain": []
     },
     "metadata": {},
     "output_type": "display_data"
    },
    {
     "data": {
      "text/plain": [
       "  -2.4324e+00  -2.4124e+00  -2.3924e+00  -2.3724e+00  -2.3524e+00  -2.3323e+00"
      ]
     },
     "metadata": {},
     "output_type": "display_data"
    },
    {
     "data": {
      "text/plain": []
     },
     "metadata": {},
     "output_type": "display_data"
    },
    {
     "data": {
      "text/plain": [
       " Columns 385 through 390:"
      ]
     },
     "metadata": {},
     "output_type": "display_data"
    },
    {
     "data": {
      "text/plain": []
     },
     "metadata": {},
     "output_type": "display_data"
    },
    {
     "data": {
      "text/plain": [
       "  -2.3123e+00  -2.2923e+00  -2.2723e+00  -2.2523e+00  -2.2322e+00  -2.2122e+00"
      ]
     },
     "metadata": {},
     "output_type": "display_data"
    },
    {
     "data": {
      "text/plain": []
     },
     "metadata": {},
     "output_type": "display_data"
    },
    {
     "data": {
      "text/plain": [
       " Columns 391 through 396:"
      ]
     },
     "metadata": {},
     "output_type": "display_data"
    },
    {
     "data": {
      "text/plain": []
     },
     "metadata": {},
     "output_type": "display_data"
    },
    {
     "data": {
      "text/plain": [
       "  -2.1922e+00  -2.1722e+00  -2.1522e+00  -2.1321e+00  -2.1121e+00  -2.0921e+00"
      ]
     },
     "metadata": {},
     "output_type": "display_data"
    },
    {
     "data": {
      "text/plain": []
     },
     "metadata": {},
     "output_type": "display_data"
    },
    {
     "data": {
      "text/plain": [
       " Columns 397 through 402:"
      ]
     },
     "metadata": {},
     "output_type": "display_data"
    },
    {
     "data": {
      "text/plain": []
     },
     "metadata": {},
     "output_type": "display_data"
    },
    {
     "data": {
      "text/plain": [
       "  -2.0721e+00  -2.0521e+00  -2.0320e+00  -2.0120e+00  -1.9920e+00  -1.9720e+00"
      ]
     },
     "metadata": {},
     "output_type": "display_data"
    },
    {
     "data": {
      "text/plain": []
     },
     "metadata": {},
     "output_type": "display_data"
    },
    {
     "data": {
      "text/plain": [
       " Columns 403 through 408:"
      ]
     },
     "metadata": {},
     "output_type": "display_data"
    },
    {
     "data": {
      "text/plain": []
     },
     "metadata": {},
     "output_type": "display_data"
    },
    {
     "data": {
      "text/plain": [
       "  -1.9520e+00  -1.9319e+00  -1.9119e+00  -1.8919e+00  -1.8719e+00  -1.8519e+00"
      ]
     },
     "metadata": {},
     "output_type": "display_data"
    },
    {
     "data": {
      "text/plain": []
     },
     "metadata": {},
     "output_type": "display_data"
    },
    {
     "data": {
      "text/plain": [
       " Columns 409 through 414:"
      ]
     },
     "metadata": {},
     "output_type": "display_data"
    },
    {
     "data": {
      "text/plain": []
     },
     "metadata": {},
     "output_type": "display_data"
    },
    {
     "data": {
      "text/plain": [
       "  -1.8318e+00  -1.8118e+00  -1.7918e+00  -1.7718e+00  -1.7518e+00  -1.7317e+00"
      ]
     },
     "metadata": {},
     "output_type": "display_data"
    },
    {
     "data": {
      "text/plain": []
     },
     "metadata": {},
     "output_type": "display_data"
    },
    {
     "data": {
      "text/plain": [
       " Columns 415 through 420:"
      ]
     },
     "metadata": {},
     "output_type": "display_data"
    },
    {
     "data": {
      "text/plain": []
     },
     "metadata": {},
     "output_type": "display_data"
    },
    {
     "data": {
      "text/plain": [
       "  -1.7117e+00  -1.6917e+00  -1.6717e+00  -1.6517e+00  -1.6316e+00  -1.6116e+00"
      ]
     },
     "metadata": {},
     "output_type": "display_data"
    },
    {
     "data": {
      "text/plain": []
     },
     "metadata": {},
     "output_type": "display_data"
    },
    {
     "data": {
      "text/plain": [
       " Columns 421 through 426:"
      ]
     },
     "metadata": {},
     "output_type": "display_data"
    },
    {
     "data": {
      "text/plain": []
     },
     "metadata": {},
     "output_type": "display_data"
    },
    {
     "data": {
      "text/plain": [
       "  -1.5916e+00  -1.5716e+00  -1.5516e+00  -1.5315e+00  -1.5115e+00  -1.4915e+00"
      ]
     },
     "metadata": {},
     "output_type": "display_data"
    },
    {
     "data": {
      "text/plain": []
     },
     "metadata": {},
     "output_type": "display_data"
    },
    {
     "data": {
      "text/plain": [
       " Columns 427 through 432:"
      ]
     },
     "metadata": {},
     "output_type": "display_data"
    },
    {
     "data": {
      "text/plain": []
     },
     "metadata": {},
     "output_type": "display_data"
    },
    {
     "data": {
      "text/plain": [
       "  -1.4715e+00  -1.4515e+00  -1.4314e+00  -1.4114e+00  -1.3914e+00  -1.3714e+00"
      ]
     },
     "metadata": {},
     "output_type": "display_data"
    },
    {
     "data": {
      "text/plain": []
     },
     "metadata": {},
     "output_type": "display_data"
    },
    {
     "data": {
      "text/plain": [
       " Columns 433 through 438:"
      ]
     },
     "metadata": {},
     "output_type": "display_data"
    },
    {
     "data": {
      "text/plain": []
     },
     "metadata": {},
     "output_type": "display_data"
    },
    {
     "data": {
      "text/plain": [
       "  -1.3514e+00  -1.3313e+00  -1.3113e+00  -1.2913e+00  -1.2713e+00  -1.2513e+00"
      ]
     },
     "metadata": {},
     "output_type": "display_data"
    },
    {
     "data": {
      "text/plain": []
     },
     "metadata": {},
     "output_type": "display_data"
    },
    {
     "data": {
      "text/plain": [
       " Columns 439 through 444:"
      ]
     },
     "metadata": {},
     "output_type": "display_data"
    },
    {
     "data": {
      "text/plain": []
     },
     "metadata": {},
     "output_type": "display_data"
    },
    {
     "data": {
      "text/plain": [
       "  -1.2312e+00  -1.2112e+00  -1.1912e+00  -1.1712e+00  -1.1512e+00  -1.1311e+00"
      ]
     },
     "metadata": {},
     "output_type": "display_data"
    },
    {
     "data": {
      "text/plain": []
     },
     "metadata": {},
     "output_type": "display_data"
    },
    {
     "data": {
      "text/plain": [
       " Columns 445 through 450:"
      ]
     },
     "metadata": {},
     "output_type": "display_data"
    },
    {
     "data": {
      "text/plain": []
     },
     "metadata": {},
     "output_type": "display_data"
    },
    {
     "data": {
      "text/plain": [
       "  -1.1111e+00  -1.0911e+00  -1.0711e+00  -1.0511e+00  -1.0310e+00  -1.0110e+00"
      ]
     },
     "metadata": {},
     "output_type": "display_data"
    },
    {
     "data": {
      "text/plain": []
     },
     "metadata": {},
     "output_type": "display_data"
    },
    {
     "data": {
      "text/plain": [
       " Columns 451 through 456:"
      ]
     },
     "metadata": {},
     "output_type": "display_data"
    },
    {
     "data": {
      "text/plain": []
     },
     "metadata": {},
     "output_type": "display_data"
    },
    {
     "data": {
      "text/plain": [
       "  -9.9099e-01  -9.7097e-01  -9.5095e-01  -9.3093e-01  -9.1091e-01  -8.9089e-01"
      ]
     },
     "metadata": {},
     "output_type": "display_data"
    },
    {
     "data": {
      "text/plain": []
     },
     "metadata": {},
     "output_type": "display_data"
    },
    {
     "data": {
      "text/plain": [
       " Columns 457 through 462:"
      ]
     },
     "metadata": {},
     "output_type": "display_data"
    },
    {
     "data": {
      "text/plain": []
     },
     "metadata": {},
     "output_type": "display_data"
    },
    {
     "data": {
      "text/plain": [
       "  -8.7087e-01  -8.5085e-01  -8.3083e-01  -8.1081e-01  -7.9079e-01  -7.7077e-01"
      ]
     },
     "metadata": {},
     "output_type": "display_data"
    },
    {
     "data": {
      "text/plain": []
     },
     "metadata": {},
     "output_type": "display_data"
    },
    {
     "data": {
      "text/plain": [
       " Columns 463 through 468:"
      ]
     },
     "metadata": {},
     "output_type": "display_data"
    },
    {
     "data": {
      "text/plain": []
     },
     "metadata": {},
     "output_type": "display_data"
    },
    {
     "data": {
      "text/plain": [
       "  -7.5075e-01  -7.3073e-01  -7.1071e-01  -6.9069e-01  -6.7067e-01  -6.5065e-01"
      ]
     },
     "metadata": {},
     "output_type": "display_data"
    },
    {
     "data": {
      "text/plain": []
     },
     "metadata": {},
     "output_type": "display_data"
    },
    {
     "data": {
      "text/plain": [
       " Columns 469 through 474:"
      ]
     },
     "metadata": {},
     "output_type": "display_data"
    },
    {
     "data": {
      "text/plain": []
     },
     "metadata": {},
     "output_type": "display_data"
    },
    {
     "data": {
      "text/plain": [
       "  -6.3063e-01  -6.1061e-01  -5.9059e-01  -5.7057e-01  -5.5055e-01  -5.3053e-01"
      ]
     },
     "metadata": {},
     "output_type": "display_data"
    },
    {
     "data": {
      "text/plain": []
     },
     "metadata": {},
     "output_type": "display_data"
    },
    {
     "data": {
      "text/plain": [
       " Columns 475 through 480:"
      ]
     },
     "metadata": {},
     "output_type": "display_data"
    },
    {
     "data": {
      "text/plain": []
     },
     "metadata": {},
     "output_type": "display_data"
    },
    {
     "data": {
      "text/plain": [
       "  -5.1051e-01  -4.9049e-01  -4.7047e-01  -4.5045e-01  -4.3043e-01  -4.1041e-01"
      ]
     },
     "metadata": {},
     "output_type": "display_data"
    },
    {
     "data": {
      "text/plain": []
     },
     "metadata": {},
     "output_type": "display_data"
    },
    {
     "data": {
      "text/plain": [
       " Columns 481 through 486:"
      ]
     },
     "metadata": {},
     "output_type": "display_data"
    },
    {
     "data": {
      "text/plain": []
     },
     "metadata": {},
     "output_type": "display_data"
    },
    {
     "data": {
      "text/plain": [
       "  -3.9039e-01  -3.7037e-01  -3.5035e-01  -3.3033e-01  -3.1031e-01  -2.9029e-01"
      ]
     },
     "metadata": {},
     "output_type": "display_data"
    },
    {
     "data": {
      "text/plain": []
     },
     "metadata": {},
     "output_type": "display_data"
    },
    {
     "data": {
      "text/plain": [
       " Columns 487 through 492:"
      ]
     },
     "metadata": {},
     "output_type": "display_data"
    },
    {
     "data": {
      "text/plain": []
     },
     "metadata": {},
     "output_type": "display_data"
    },
    {
     "data": {
      "text/plain": [
       "  -2.7027e-01  -2.5025e-01  -2.3023e-01  -2.1021e-01  -1.9019e-01  -1.7017e-01"
      ]
     },
     "metadata": {},
     "output_type": "display_data"
    },
    {
     "data": {
      "text/plain": []
     },
     "metadata": {},
     "output_type": "display_data"
    },
    {
     "data": {
      "text/plain": [
       " Columns 493 through 498:"
      ]
     },
     "metadata": {},
     "output_type": "display_data"
    },
    {
     "data": {
      "text/plain": []
     },
     "metadata": {},
     "output_type": "display_data"
    },
    {
     "data": {
      "text/plain": [
       "  -1.5015e-01  -1.3013e-01  -1.1011e-01  -9.0090e-02  -7.0070e-02  -5.0050e-02"
      ]
     },
     "metadata": {},
     "output_type": "display_data"
    },
    {
     "data": {
      "text/plain": []
     },
     "metadata": {},
     "output_type": "display_data"
    },
    {
     "data": {
      "text/plain": [
       " Columns 499 through 504:"
      ]
     },
     "metadata": {},
     "output_type": "display_data"
    },
    {
     "data": {
      "text/plain": []
     },
     "metadata": {},
     "output_type": "display_data"
    },
    {
     "data": {
      "text/plain": [
       "  -3.0030e-02  -1.0010e-02   1.0010e-02   3.0030e-02   5.0050e-02   7.0070e-02"
      ]
     },
     "metadata": {},
     "output_type": "display_data"
    },
    {
     "data": {
      "text/plain": []
     },
     "metadata": {},
     "output_type": "display_data"
    },
    {
     "data": {
      "text/plain": [
       " Columns 505 through 510:"
      ]
     },
     "metadata": {},
     "output_type": "display_data"
    },
    {
     "data": {
      "text/plain": []
     },
     "metadata": {},
     "output_type": "display_data"
    },
    {
     "data": {
      "text/plain": [
       "   9.0090e-02   1.1011e-01   1.3013e-01   1.5015e-01   1.7017e-01   1.9019e-01"
      ]
     },
     "metadata": {},
     "output_type": "display_data"
    },
    {
     "data": {
      "text/plain": []
     },
     "metadata": {},
     "output_type": "display_data"
    },
    {
     "data": {
      "text/plain": [
       " Columns 511 through 516:"
      ]
     },
     "metadata": {},
     "output_type": "display_data"
    },
    {
     "data": {
      "text/plain": []
     },
     "metadata": {},
     "output_type": "display_data"
    },
    {
     "data": {
      "text/plain": [
       "   2.1021e-01   2.3023e-01   2.5025e-01   2.7027e-01   2.9029e-01   3.1031e-01"
      ]
     },
     "metadata": {},
     "output_type": "display_data"
    },
    {
     "data": {
      "text/plain": []
     },
     "metadata": {},
     "output_type": "display_data"
    },
    {
     "data": {
      "text/plain": [
       " Columns 517 through 522:"
      ]
     },
     "metadata": {},
     "output_type": "display_data"
    },
    {
     "data": {
      "text/plain": []
     },
     "metadata": {},
     "output_type": "display_data"
    },
    {
     "data": {
      "text/plain": [
       "   3.3033e-01   3.5035e-01   3.7037e-01   3.9039e-01   4.1041e-01   4.3043e-01"
      ]
     },
     "metadata": {},
     "output_type": "display_data"
    },
    {
     "data": {
      "text/plain": []
     },
     "metadata": {},
     "output_type": "display_data"
    },
    {
     "data": {
      "text/plain": [
       " Columns 523 through 528:"
      ]
     },
     "metadata": {},
     "output_type": "display_data"
    },
    {
     "data": {
      "text/plain": []
     },
     "metadata": {},
     "output_type": "display_data"
    },
    {
     "data": {
      "text/plain": [
       "   4.5045e-01   4.7047e-01   4.9049e-01   5.1051e-01   5.3053e-01   5.5055e-01"
      ]
     },
     "metadata": {},
     "output_type": "display_data"
    },
    {
     "data": {
      "text/plain": []
     },
     "metadata": {},
     "output_type": "display_data"
    },
    {
     "data": {
      "text/plain": [
       " Columns 529 through 534:"
      ]
     },
     "metadata": {},
     "output_type": "display_data"
    },
    {
     "data": {
      "text/plain": []
     },
     "metadata": {},
     "output_type": "display_data"
    },
    {
     "data": {
      "text/plain": [
       "   5.7057e-01   5.9059e-01   6.1061e-01   6.3063e-01   6.5065e-01   6.7067e-01"
      ]
     },
     "metadata": {},
     "output_type": "display_data"
    },
    {
     "data": {
      "text/plain": []
     },
     "metadata": {},
     "output_type": "display_data"
    },
    {
     "data": {
      "text/plain": [
       " Columns 535 through 540:"
      ]
     },
     "metadata": {},
     "output_type": "display_data"
    },
    {
     "data": {
      "text/plain": []
     },
     "metadata": {},
     "output_type": "display_data"
    },
    {
     "data": {
      "text/plain": [
       "   6.9069e-01   7.1071e-01   7.3073e-01   7.5075e-01   7.7077e-01   7.9079e-01"
      ]
     },
     "metadata": {},
     "output_type": "display_data"
    },
    {
     "data": {
      "text/plain": []
     },
     "metadata": {},
     "output_type": "display_data"
    },
    {
     "data": {
      "text/plain": [
       " Columns 541 through 546:"
      ]
     },
     "metadata": {},
     "output_type": "display_data"
    },
    {
     "data": {
      "text/plain": []
     },
     "metadata": {},
     "output_type": "display_data"
    },
    {
     "data": {
      "text/plain": [
       "   8.1081e-01   8.3083e-01   8.5085e-01   8.7087e-01   8.9089e-01   9.1091e-01"
      ]
     },
     "metadata": {},
     "output_type": "display_data"
    },
    {
     "data": {
      "text/plain": []
     },
     "metadata": {},
     "output_type": "display_data"
    },
    {
     "data": {
      "text/plain": [
       " Columns 547 through 552:"
      ]
     },
     "metadata": {},
     "output_type": "display_data"
    },
    {
     "data": {
      "text/plain": []
     },
     "metadata": {},
     "output_type": "display_data"
    },
    {
     "data": {
      "text/plain": [
       "   9.3093e-01   9.5095e-01   9.7097e-01   9.9099e-01   1.0110e+00   1.0310e+00"
      ]
     },
     "metadata": {},
     "output_type": "display_data"
    },
    {
     "data": {
      "text/plain": []
     },
     "metadata": {},
     "output_type": "display_data"
    },
    {
     "data": {
      "text/plain": [
       " Columns 553 through 558:"
      ]
     },
     "metadata": {},
     "output_type": "display_data"
    },
    {
     "data": {
      "text/plain": []
     },
     "metadata": {},
     "output_type": "display_data"
    },
    {
     "data": {
      "text/plain": [
       "   1.0511e+00   1.0711e+00   1.0911e+00   1.1111e+00   1.1311e+00   1.1512e+00"
      ]
     },
     "metadata": {},
     "output_type": "display_data"
    },
    {
     "data": {
      "text/plain": []
     },
     "metadata": {},
     "output_type": "display_data"
    },
    {
     "data": {
      "text/plain": [
       " Columns 559 through 564:"
      ]
     },
     "metadata": {},
     "output_type": "display_data"
    },
    {
     "data": {
      "text/plain": []
     },
     "metadata": {},
     "output_type": "display_data"
    },
    {
     "data": {
      "text/plain": [
       "   1.1712e+00   1.1912e+00   1.2112e+00   1.2312e+00   1.2513e+00   1.2713e+00"
      ]
     },
     "metadata": {},
     "output_type": "display_data"
    },
    {
     "data": {
      "text/plain": []
     },
     "metadata": {},
     "output_type": "display_data"
    },
    {
     "data": {
      "text/plain": [
       " Columns 565 through 570:"
      ]
     },
     "metadata": {},
     "output_type": "display_data"
    },
    {
     "data": {
      "text/plain": []
     },
     "metadata": {},
     "output_type": "display_data"
    },
    {
     "data": {
      "text/plain": [
       "   1.2913e+00   1.3113e+00   1.3313e+00   1.3514e+00   1.3714e+00   1.3914e+00"
      ]
     },
     "metadata": {},
     "output_type": "display_data"
    },
    {
     "data": {
      "text/plain": []
     },
     "metadata": {},
     "output_type": "display_data"
    },
    {
     "data": {
      "text/plain": [
       " Columns 571 through 576:"
      ]
     },
     "metadata": {},
     "output_type": "display_data"
    },
    {
     "data": {
      "text/plain": []
     },
     "metadata": {},
     "output_type": "display_data"
    },
    {
     "data": {
      "text/plain": [
       "   1.4114e+00   1.4314e+00   1.4515e+00   1.4715e+00   1.4915e+00   1.5115e+00"
      ]
     },
     "metadata": {},
     "output_type": "display_data"
    },
    {
     "data": {
      "text/plain": []
     },
     "metadata": {},
     "output_type": "display_data"
    },
    {
     "data": {
      "text/plain": [
       " Columns 577 through 582:"
      ]
     },
     "metadata": {},
     "output_type": "display_data"
    },
    {
     "data": {
      "text/plain": []
     },
     "metadata": {},
     "output_type": "display_data"
    },
    {
     "data": {
      "text/plain": [
       "   1.5315e+00   1.5516e+00   1.5716e+00   1.5916e+00   1.6116e+00   1.6316e+00"
      ]
     },
     "metadata": {},
     "output_type": "display_data"
    },
    {
     "data": {
      "text/plain": []
     },
     "metadata": {},
     "output_type": "display_data"
    },
    {
     "data": {
      "text/plain": [
       " Columns 583 through 588:"
      ]
     },
     "metadata": {},
     "output_type": "display_data"
    },
    {
     "data": {
      "text/plain": []
     },
     "metadata": {},
     "output_type": "display_data"
    },
    {
     "data": {
      "text/plain": [
       "   1.6517e+00   1.6717e+00   1.6917e+00   1.7117e+00   1.7317e+00   1.7518e+00"
      ]
     },
     "metadata": {},
     "output_type": "display_data"
    },
    {
     "data": {
      "text/plain": []
     },
     "metadata": {},
     "output_type": "display_data"
    },
    {
     "data": {
      "text/plain": [
       " Columns 589 through 594:"
      ]
     },
     "metadata": {},
     "output_type": "display_data"
    },
    {
     "data": {
      "text/plain": []
     },
     "metadata": {},
     "output_type": "display_data"
    },
    {
     "data": {
      "text/plain": [
       "   1.7718e+00   1.7918e+00   1.8118e+00   1.8318e+00   1.8519e+00   1.8719e+00"
      ]
     },
     "metadata": {},
     "output_type": "display_data"
    },
    {
     "data": {
      "text/plain": []
     },
     "metadata": {},
     "output_type": "display_data"
    },
    {
     "data": {
      "text/plain": [
       " Columns 595 through 600:"
      ]
     },
     "metadata": {},
     "output_type": "display_data"
    },
    {
     "data": {
      "text/plain": []
     },
     "metadata": {},
     "output_type": "display_data"
    },
    {
     "data": {
      "text/plain": [
       "   1.8919e+00   1.9119e+00   1.9319e+00   1.9520e+00   1.9720e+00   1.9920e+00"
      ]
     },
     "metadata": {},
     "output_type": "display_data"
    },
    {
     "data": {
      "text/plain": []
     },
     "metadata": {},
     "output_type": "display_data"
    },
    {
     "data": {
      "text/plain": [
       " Columns 601 through 606:"
      ]
     },
     "metadata": {},
     "output_type": "display_data"
    },
    {
     "data": {
      "text/plain": []
     },
     "metadata": {},
     "output_type": "display_data"
    },
    {
     "data": {
      "text/plain": [
       "   2.0120e+00   2.0320e+00   2.0521e+00   2.0721e+00   2.0921e+00   2.1121e+00"
      ]
     },
     "metadata": {},
     "output_type": "display_data"
    },
    {
     "data": {
      "text/plain": []
     },
     "metadata": {},
     "output_type": "display_data"
    },
    {
     "data": {
      "text/plain": [
       " Columns 607 through 612:"
      ]
     },
     "metadata": {},
     "output_type": "display_data"
    },
    {
     "data": {
      "text/plain": []
     },
     "metadata": {},
     "output_type": "display_data"
    },
    {
     "data": {
      "text/plain": [
       "   2.1321e+00   2.1522e+00   2.1722e+00   2.1922e+00   2.2122e+00   2.2322e+00"
      ]
     },
     "metadata": {},
     "output_type": "display_data"
    },
    {
     "data": {
      "text/plain": []
     },
     "metadata": {},
     "output_type": "display_data"
    },
    {
     "data": {
      "text/plain": [
       " Columns 613 through 618:"
      ]
     },
     "metadata": {},
     "output_type": "display_data"
    },
    {
     "data": {
      "text/plain": []
     },
     "metadata": {},
     "output_type": "display_data"
    },
    {
     "data": {
      "text/plain": [
       "   2.2523e+00   2.2723e+00   2.2923e+00   2.3123e+00   2.3323e+00   2.3524e+00"
      ]
     },
     "metadata": {},
     "output_type": "display_data"
    },
    {
     "data": {
      "text/plain": []
     },
     "metadata": {},
     "output_type": "display_data"
    },
    {
     "data": {
      "text/plain": [
       " Columns 619 through 624:"
      ]
     },
     "metadata": {},
     "output_type": "display_data"
    },
    {
     "data": {
      "text/plain": []
     },
     "metadata": {},
     "output_type": "display_data"
    },
    {
     "data": {
      "text/plain": [
       "   2.3724e+00   2.3924e+00   2.4124e+00   2.4324e+00   2.4525e+00   2.4725e+00"
      ]
     },
     "metadata": {},
     "output_type": "display_data"
    },
    {
     "data": {
      "text/plain": []
     },
     "metadata": {},
     "output_type": "display_data"
    },
    {
     "data": {
      "text/plain": [
       " Columns 625 through 630:"
      ]
     },
     "metadata": {},
     "output_type": "display_data"
    },
    {
     "data": {
      "text/plain": []
     },
     "metadata": {},
     "output_type": "display_data"
    },
    {
     "data": {
      "text/plain": [
       "   2.4925e+00   2.5125e+00   2.5325e+00   2.5526e+00   2.5726e+00   2.5926e+00"
      ]
     },
     "metadata": {},
     "output_type": "display_data"
    },
    {
     "data": {
      "text/plain": []
     },
     "metadata": {},
     "output_type": "display_data"
    },
    {
     "data": {
      "text/plain": [
       " Columns 631 through 636:"
      ]
     },
     "metadata": {},
     "output_type": "display_data"
    },
    {
     "data": {
      "text/plain": []
     },
     "metadata": {},
     "output_type": "display_data"
    },
    {
     "data": {
      "text/plain": [
       "   2.6126e+00   2.6326e+00   2.6527e+00   2.6727e+00   2.6927e+00   2.7127e+00"
      ]
     },
     "metadata": {},
     "output_type": "display_data"
    },
    {
     "data": {
      "text/plain": []
     },
     "metadata": {},
     "output_type": "display_data"
    },
    {
     "data": {
      "text/plain": [
       " Columns 637 through 642:"
      ]
     },
     "metadata": {},
     "output_type": "display_data"
    },
    {
     "data": {
      "text/plain": []
     },
     "metadata": {},
     "output_type": "display_data"
    },
    {
     "data": {
      "text/plain": [
       "   2.7327e+00   2.7528e+00   2.7728e+00   2.7928e+00   2.8128e+00   2.8328e+00"
      ]
     },
     "metadata": {},
     "output_type": "display_data"
    },
    {
     "data": {
      "text/plain": []
     },
     "metadata": {},
     "output_type": "display_data"
    },
    {
     "data": {
      "text/plain": [
       " Columns 643 through 648:"
      ]
     },
     "metadata": {},
     "output_type": "display_data"
    },
    {
     "data": {
      "text/plain": []
     },
     "metadata": {},
     "output_type": "display_data"
    },
    {
     "data": {
      "text/plain": [
       "   2.8529e+00   2.8729e+00   2.8929e+00   2.9129e+00   2.9329e+00   2.9530e+00"
      ]
     },
     "metadata": {},
     "output_type": "display_data"
    },
    {
     "data": {
      "text/plain": []
     },
     "metadata": {},
     "output_type": "display_data"
    },
    {
     "data": {
      "text/plain": [
       " Columns 649 through 654:"
      ]
     },
     "metadata": {},
     "output_type": "display_data"
    },
    {
     "data": {
      "text/plain": []
     },
     "metadata": {},
     "output_type": "display_data"
    },
    {
     "data": {
      "text/plain": [
       "   2.9730e+00   2.9930e+00   3.0130e+00   3.0330e+00   3.0531e+00   3.0731e+00"
      ]
     },
     "metadata": {},
     "output_type": "display_data"
    },
    {
     "data": {
      "text/plain": []
     },
     "metadata": {},
     "output_type": "display_data"
    },
    {
     "data": {
      "text/plain": [
       " Columns 655 through 660:"
      ]
     },
     "metadata": {},
     "output_type": "display_data"
    },
    {
     "data": {
      "text/plain": []
     },
     "metadata": {},
     "output_type": "display_data"
    },
    {
     "data": {
      "text/plain": [
       "   3.0931e+00   3.1131e+00   3.1331e+00   3.1532e+00   3.1732e+00   3.1932e+00"
      ]
     },
     "metadata": {},
     "output_type": "display_data"
    },
    {
     "data": {
      "text/plain": []
     },
     "metadata": {},
     "output_type": "display_data"
    },
    {
     "data": {
      "text/plain": [
       " Columns 661 through 666:"
      ]
     },
     "metadata": {},
     "output_type": "display_data"
    },
    {
     "data": {
      "text/plain": []
     },
     "metadata": {},
     "output_type": "display_data"
    },
    {
     "data": {
      "text/plain": [
       "   3.2132e+00   3.2332e+00   3.2533e+00   3.2733e+00   3.2933e+00   3.3133e+00"
      ]
     },
     "metadata": {},
     "output_type": "display_data"
    },
    {
     "data": {
      "text/plain": []
     },
     "metadata": {},
     "output_type": "display_data"
    },
    {
     "data": {
      "text/plain": [
       " Columns 667 through 672:"
      ]
     },
     "metadata": {},
     "output_type": "display_data"
    },
    {
     "data": {
      "text/plain": []
     },
     "metadata": {},
     "output_type": "display_data"
    },
    {
     "data": {
      "text/plain": [
       "   3.3333e+00   3.3534e+00   3.3734e+00   3.3934e+00   3.4134e+00   3.4334e+00"
      ]
     },
     "metadata": {},
     "output_type": "display_data"
    },
    {
     "data": {
      "text/plain": []
     },
     "metadata": {},
     "output_type": "display_data"
    },
    {
     "data": {
      "text/plain": [
       " Columns 673 through 678:"
      ]
     },
     "metadata": {},
     "output_type": "display_data"
    },
    {
     "data": {
      "text/plain": []
     },
     "metadata": {},
     "output_type": "display_data"
    },
    {
     "data": {
      "text/plain": [
       "   3.4535e+00   3.4735e+00   3.4935e+00   3.5135e+00   3.5335e+00   3.5536e+00"
      ]
     },
     "metadata": {},
     "output_type": "display_data"
    },
    {
     "data": {
      "text/plain": []
     },
     "metadata": {},
     "output_type": "display_data"
    },
    {
     "data": {
      "text/plain": [
       " Columns 679 through 684:"
      ]
     },
     "metadata": {},
     "output_type": "display_data"
    },
    {
     "data": {
      "text/plain": []
     },
     "metadata": {},
     "output_type": "display_data"
    },
    {
     "data": {
      "text/plain": [
       "   3.5736e+00   3.5936e+00   3.6136e+00   3.6336e+00   3.6537e+00   3.6737e+00"
      ]
     },
     "metadata": {},
     "output_type": "display_data"
    },
    {
     "data": {
      "text/plain": []
     },
     "metadata": {},
     "output_type": "display_data"
    },
    {
     "data": {
      "text/plain": [
       " Columns 685 through 690:"
      ]
     },
     "metadata": {},
     "output_type": "display_data"
    },
    {
     "data": {
      "text/plain": []
     },
     "metadata": {},
     "output_type": "display_data"
    },
    {
     "data": {
      "text/plain": [
       "   3.6937e+00   3.7137e+00   3.7337e+00   3.7538e+00   3.7738e+00   3.7938e+00"
      ]
     },
     "metadata": {},
     "output_type": "display_data"
    },
    {
     "data": {
      "text/plain": []
     },
     "metadata": {},
     "output_type": "display_data"
    },
    {
     "data": {
      "text/plain": [
       " Columns 691 through 696:"
      ]
     },
     "metadata": {},
     "output_type": "display_data"
    },
    {
     "data": {
      "text/plain": []
     },
     "metadata": {},
     "output_type": "display_data"
    },
    {
     "data": {
      "text/plain": [
       "   3.8138e+00   3.8338e+00   3.8539e+00   3.8739e+00   3.8939e+00   3.9139e+00"
      ]
     },
     "metadata": {},
     "output_type": "display_data"
    },
    {
     "data": {
      "text/plain": []
     },
     "metadata": {},
     "output_type": "display_data"
    },
    {
     "data": {
      "text/plain": [
       " Columns 697 through 702:"
      ]
     },
     "metadata": {},
     "output_type": "display_data"
    },
    {
     "data": {
      "text/plain": []
     },
     "metadata": {},
     "output_type": "display_data"
    },
    {
     "data": {
      "text/plain": [
       "   3.9339e+00   3.9540e+00   3.9740e+00   3.9940e+00   4.0140e+00   4.0340e+00"
      ]
     },
     "metadata": {},
     "output_type": "display_data"
    },
    {
     "data": {
      "text/plain": []
     },
     "metadata": {},
     "output_type": "display_data"
    },
    {
     "data": {
      "text/plain": [
       " Columns 703 through 708:"
      ]
     },
     "metadata": {},
     "output_type": "display_data"
    },
    {
     "data": {
      "text/plain": []
     },
     "metadata": {},
     "output_type": "display_data"
    },
    {
     "data": {
      "text/plain": [
       "   4.0541e+00   4.0741e+00   4.0941e+00   4.1141e+00   4.1341e+00   4.1542e+00"
      ]
     },
     "metadata": {},
     "output_type": "display_data"
    },
    {
     "data": {
      "text/plain": []
     },
     "metadata": {},
     "output_type": "display_data"
    },
    {
     "data": {
      "text/plain": [
       " Columns 709 through 714:"
      ]
     },
     "metadata": {},
     "output_type": "display_data"
    },
    {
     "data": {
      "text/plain": []
     },
     "metadata": {},
     "output_type": "display_data"
    },
    {
     "data": {
      "text/plain": [
       "   4.1742e+00   4.1942e+00   4.2142e+00   4.2342e+00   4.2543e+00   4.2743e+00"
      ]
     },
     "metadata": {},
     "output_type": "display_data"
    },
    {
     "data": {
      "text/plain": []
     },
     "metadata": {},
     "output_type": "display_data"
    },
    {
     "data": {
      "text/plain": [
       " Columns 715 through 720:"
      ]
     },
     "metadata": {},
     "output_type": "display_data"
    },
    {
     "data": {
      "text/plain": []
     },
     "metadata": {},
     "output_type": "display_data"
    },
    {
     "data": {
      "text/plain": [
       "   4.2943e+00   4.3143e+00   4.3343e+00   4.3544e+00   4.3744e+00   4.3944e+00"
      ]
     },
     "metadata": {},
     "output_type": "display_data"
    },
    {
     "data": {
      "text/plain": []
     },
     "metadata": {},
     "output_type": "display_data"
    },
    {
     "data": {
      "text/plain": [
       " Columns 721 through 726:"
      ]
     },
     "metadata": {},
     "output_type": "display_data"
    },
    {
     "data": {
      "text/plain": []
     },
     "metadata": {},
     "output_type": "display_data"
    },
    {
     "data": {
      "text/plain": [
       "   4.4144e+00   4.4344e+00   4.4545e+00   4.4745e+00   4.4945e+00   4.5145e+00"
      ]
     },
     "metadata": {},
     "output_type": "display_data"
    },
    {
     "data": {
      "text/plain": []
     },
     "metadata": {},
     "output_type": "display_data"
    },
    {
     "data": {
      "text/plain": [
       " Columns 727 through 732:"
      ]
     },
     "metadata": {},
     "output_type": "display_data"
    },
    {
     "data": {
      "text/plain": []
     },
     "metadata": {},
     "output_type": "display_data"
    },
    {
     "data": {
      "text/plain": [
       "   4.5345e+00   4.5546e+00   4.5746e+00   4.5946e+00   4.6146e+00   4.6346e+00"
      ]
     },
     "metadata": {},
     "output_type": "display_data"
    },
    {
     "data": {
      "text/plain": []
     },
     "metadata": {},
     "output_type": "display_data"
    },
    {
     "data": {
      "text/plain": [
       " Columns 733 through 738:"
      ]
     },
     "metadata": {},
     "output_type": "display_data"
    },
    {
     "data": {
      "text/plain": []
     },
     "metadata": {},
     "output_type": "display_data"
    },
    {
     "data": {
      "text/plain": [
       "   4.6547e+00   4.6747e+00   4.6947e+00   4.7147e+00   4.7347e+00   4.7548e+00"
      ]
     },
     "metadata": {},
     "output_type": "display_data"
    },
    {
     "data": {
      "text/plain": []
     },
     "metadata": {},
     "output_type": "display_data"
    },
    {
     "data": {
      "text/plain": [
       " Columns 739 through 744:"
      ]
     },
     "metadata": {},
     "output_type": "display_data"
    },
    {
     "data": {
      "text/plain": []
     },
     "metadata": {},
     "output_type": "display_data"
    },
    {
     "data": {
      "text/plain": [
       "   4.7748e+00   4.7948e+00   4.8148e+00   4.8348e+00   4.8549e+00   4.8749e+00"
      ]
     },
     "metadata": {},
     "output_type": "display_data"
    },
    {
     "data": {
      "text/plain": []
     },
     "metadata": {},
     "output_type": "display_data"
    },
    {
     "data": {
      "text/plain": [
       " Columns 745 through 750:"
      ]
     },
     "metadata": {},
     "output_type": "display_data"
    },
    {
     "data": {
      "text/plain": []
     },
     "metadata": {},
     "output_type": "display_data"
    },
    {
     "data": {
      "text/plain": [
       "   4.8949e+00   4.9149e+00   4.9349e+00   4.9550e+00   4.9750e+00   4.9950e+00"
      ]
     },
     "metadata": {},
     "output_type": "display_data"
    },
    {
     "data": {
      "text/plain": []
     },
     "metadata": {},
     "output_type": "display_data"
    },
    {
     "data": {
      "text/plain": [
       " Columns 751 through 756:"
      ]
     },
     "metadata": {},
     "output_type": "display_data"
    },
    {
     "data": {
      "text/plain": []
     },
     "metadata": {},
     "output_type": "display_data"
    },
    {
     "data": {
      "text/plain": [
       "   5.0150e+00   5.0350e+00   5.0551e+00   5.0751e+00   5.0951e+00   5.1151e+00"
      ]
     },
     "metadata": {},
     "output_type": "display_data"
    },
    {
     "data": {
      "text/plain": []
     },
     "metadata": {},
     "output_type": "display_data"
    },
    {
     "data": {
      "text/plain": [
       " Columns 757 through 762:"
      ]
     },
     "metadata": {},
     "output_type": "display_data"
    },
    {
     "data": {
      "text/plain": []
     },
     "metadata": {},
     "output_type": "display_data"
    },
    {
     "data": {
      "text/plain": [
       "   5.1351e+00   5.1552e+00   5.1752e+00   5.1952e+00   5.2152e+00   5.2352e+00"
      ]
     },
     "metadata": {},
     "output_type": "display_data"
    },
    {
     "data": {
      "text/plain": []
     },
     "metadata": {},
     "output_type": "display_data"
    },
    {
     "data": {
      "text/plain": [
       " Columns 763 through 768:"
      ]
     },
     "metadata": {},
     "output_type": "display_data"
    },
    {
     "data": {
      "text/plain": []
     },
     "metadata": {},
     "output_type": "display_data"
    },
    {
     "data": {
      "text/plain": [
       "   5.2553e+00   5.2753e+00   5.2953e+00   5.3153e+00   5.3353e+00   5.3554e+00"
      ]
     },
     "metadata": {},
     "output_type": "display_data"
    },
    {
     "data": {
      "text/plain": []
     },
     "metadata": {},
     "output_type": "display_data"
    },
    {
     "data": {
      "text/plain": [
       " Columns 769 through 774:"
      ]
     },
     "metadata": {},
     "output_type": "display_data"
    },
    {
     "data": {
      "text/plain": []
     },
     "metadata": {},
     "output_type": "display_data"
    },
    {
     "data": {
      "text/plain": [
       "   5.3754e+00   5.3954e+00   5.4154e+00   5.4354e+00   5.4555e+00   5.4755e+00"
      ]
     },
     "metadata": {},
     "output_type": "display_data"
    },
    {
     "data": {
      "text/plain": []
     },
     "metadata": {},
     "output_type": "display_data"
    },
    {
     "data": {
      "text/plain": [
       " Columns 775 through 780:"
      ]
     },
     "metadata": {},
     "output_type": "display_data"
    },
    {
     "data": {
      "text/plain": []
     },
     "metadata": {},
     "output_type": "display_data"
    },
    {
     "data": {
      "text/plain": [
       "   5.4955e+00   5.5155e+00   5.5355e+00   5.5556e+00   5.5756e+00   5.5956e+00"
      ]
     },
     "metadata": {},
     "output_type": "display_data"
    },
    {
     "data": {
      "text/plain": []
     },
     "metadata": {},
     "output_type": "display_data"
    },
    {
     "data": {
      "text/plain": [
       " Columns 781 through 786:"
      ]
     },
     "metadata": {},
     "output_type": "display_data"
    },
    {
     "data": {
      "text/plain": []
     },
     "metadata": {},
     "output_type": "display_data"
    },
    {
     "data": {
      "text/plain": [
       "   5.6156e+00   5.6356e+00   5.6557e+00   5.6757e+00   5.6957e+00   5.7157e+00"
      ]
     },
     "metadata": {},
     "output_type": "display_data"
    },
    {
     "data": {
      "text/plain": []
     },
     "metadata": {},
     "output_type": "display_data"
    },
    {
     "data": {
      "text/plain": [
       " Columns 787 through 792:"
      ]
     },
     "metadata": {},
     "output_type": "display_data"
    },
    {
     "data": {
      "text/plain": []
     },
     "metadata": {},
     "output_type": "display_data"
    },
    {
     "data": {
      "text/plain": [
       "   5.7357e+00   5.7558e+00   5.7758e+00   5.7958e+00   5.8158e+00   5.8358e+00"
      ]
     },
     "metadata": {},
     "output_type": "display_data"
    },
    {
     "data": {
      "text/plain": []
     },
     "metadata": {},
     "output_type": "display_data"
    },
    {
     "data": {
      "text/plain": [
       " Columns 793 through 798:"
      ]
     },
     "metadata": {},
     "output_type": "display_data"
    },
    {
     "data": {
      "text/plain": []
     },
     "metadata": {},
     "output_type": "display_data"
    },
    {
     "data": {
      "text/plain": [
       "   5.8559e+00   5.8759e+00   5.8959e+00   5.9159e+00   5.9359e+00   5.9560e+00"
      ]
     },
     "metadata": {},
     "output_type": "display_data"
    },
    {
     "data": {
      "text/plain": []
     },
     "metadata": {},
     "output_type": "display_data"
    },
    {
     "data": {
      "text/plain": [
       " Columns 799 through 804:"
      ]
     },
     "metadata": {},
     "output_type": "display_data"
    },
    {
     "data": {
      "text/plain": []
     },
     "metadata": {},
     "output_type": "display_data"
    },
    {
     "data": {
      "text/plain": [
       "   5.9760e+00   5.9960e+00   6.0160e+00   6.0360e+00   6.0561e+00   6.0761e+00"
      ]
     },
     "metadata": {},
     "output_type": "display_data"
    },
    {
     "data": {
      "text/plain": []
     },
     "metadata": {},
     "output_type": "display_data"
    },
    {
     "data": {
      "text/plain": [
       " Columns 805 through 810:"
      ]
     },
     "metadata": {},
     "output_type": "display_data"
    },
    {
     "data": {
      "text/plain": []
     },
     "metadata": {},
     "output_type": "display_data"
    },
    {
     "data": {
      "text/plain": [
       "   6.0961e+00   6.1161e+00   6.1361e+00   6.1562e+00   6.1762e+00   6.1962e+00"
      ]
     },
     "metadata": {},
     "output_type": "display_data"
    },
    {
     "data": {
      "text/plain": []
     },
     "metadata": {},
     "output_type": "display_data"
    },
    {
     "data": {
      "text/plain": [
       " Columns 811 through 816:"
      ]
     },
     "metadata": {},
     "output_type": "display_data"
    },
    {
     "data": {
      "text/plain": []
     },
     "metadata": {},
     "output_type": "display_data"
    },
    {
     "data": {
      "text/plain": [
       "   6.2162e+00   6.2362e+00   6.2563e+00   6.2763e+00   6.2963e+00   6.3163e+00"
      ]
     },
     "metadata": {},
     "output_type": "display_data"
    },
    {
     "data": {
      "text/plain": []
     },
     "metadata": {},
     "output_type": "display_data"
    },
    {
     "data": {
      "text/plain": [
       " Columns 817 through 822:"
      ]
     },
     "metadata": {},
     "output_type": "display_data"
    },
    {
     "data": {
      "text/plain": []
     },
     "metadata": {},
     "output_type": "display_data"
    },
    {
     "data": {
      "text/plain": [
       "   6.3363e+00   6.3564e+00   6.3764e+00   6.3964e+00   6.4164e+00   6.4364e+00"
      ]
     },
     "metadata": {},
     "output_type": "display_data"
    },
    {
     "data": {
      "text/plain": []
     },
     "metadata": {},
     "output_type": "display_data"
    },
    {
     "data": {
      "text/plain": [
       " Columns 823 through 828:"
      ]
     },
     "metadata": {},
     "output_type": "display_data"
    },
    {
     "data": {
      "text/plain": []
     },
     "metadata": {},
     "output_type": "display_data"
    },
    {
     "data": {
      "text/plain": [
       "   6.4565e+00   6.4765e+00   6.4965e+00   6.5165e+00   6.5365e+00   6.5566e+00"
      ]
     },
     "metadata": {},
     "output_type": "display_data"
    },
    {
     "data": {
      "text/plain": []
     },
     "metadata": {},
     "output_type": "display_data"
    },
    {
     "data": {
      "text/plain": [
       " Columns 829 through 834:"
      ]
     },
     "metadata": {},
     "output_type": "display_data"
    },
    {
     "data": {
      "text/plain": []
     },
     "metadata": {},
     "output_type": "display_data"
    },
    {
     "data": {
      "text/plain": [
       "   6.5766e+00   6.5966e+00   6.6166e+00   6.6366e+00   6.6567e+00   6.6767e+00"
      ]
     },
     "metadata": {},
     "output_type": "display_data"
    },
    {
     "data": {
      "text/plain": []
     },
     "metadata": {},
     "output_type": "display_data"
    },
    {
     "data": {
      "text/plain": [
       " Columns 835 through 840:"
      ]
     },
     "metadata": {},
     "output_type": "display_data"
    },
    {
     "data": {
      "text/plain": []
     },
     "metadata": {},
     "output_type": "display_data"
    },
    {
     "data": {
      "text/plain": [
       "   6.6967e+00   6.7167e+00   6.7367e+00   6.7568e+00   6.7768e+00   6.7968e+00"
      ]
     },
     "metadata": {},
     "output_type": "display_data"
    },
    {
     "data": {
      "text/plain": []
     },
     "metadata": {},
     "output_type": "display_data"
    },
    {
     "data": {
      "text/plain": [
       " Columns 841 through 846:"
      ]
     },
     "metadata": {},
     "output_type": "display_data"
    },
    {
     "data": {
      "text/plain": []
     },
     "metadata": {},
     "output_type": "display_data"
    },
    {
     "data": {
      "text/plain": [
       "   6.8168e+00   6.8368e+00   6.8569e+00   6.8769e+00   6.8969e+00   6.9169e+00"
      ]
     },
     "metadata": {},
     "output_type": "display_data"
    },
    {
     "data": {
      "text/plain": []
     },
     "metadata": {},
     "output_type": "display_data"
    },
    {
     "data": {
      "text/plain": [
       " Columns 847 through 852:"
      ]
     },
     "metadata": {},
     "output_type": "display_data"
    },
    {
     "data": {
      "text/plain": []
     },
     "metadata": {},
     "output_type": "display_data"
    },
    {
     "data": {
      "text/plain": [
       "   6.9369e+00   6.9570e+00   6.9770e+00   6.9970e+00   7.0170e+00   7.0370e+00"
      ]
     },
     "metadata": {},
     "output_type": "display_data"
    },
    {
     "data": {
      "text/plain": []
     },
     "metadata": {},
     "output_type": "display_data"
    },
    {
     "data": {
      "text/plain": [
       " Columns 853 through 858:"
      ]
     },
     "metadata": {},
     "output_type": "display_data"
    },
    {
     "data": {
      "text/plain": []
     },
     "metadata": {},
     "output_type": "display_data"
    },
    {
     "data": {
      "text/plain": [
       "   7.0571e+00   7.0771e+00   7.0971e+00   7.1171e+00   7.1371e+00   7.1572e+00"
      ]
     },
     "metadata": {},
     "output_type": "display_data"
    },
    {
     "data": {
      "text/plain": []
     },
     "metadata": {},
     "output_type": "display_data"
    },
    {
     "data": {
      "text/plain": [
       " Columns 859 through 864:"
      ]
     },
     "metadata": {},
     "output_type": "display_data"
    },
    {
     "data": {
      "text/plain": []
     },
     "metadata": {},
     "output_type": "display_data"
    },
    {
     "data": {
      "text/plain": [
       "   7.1772e+00   7.1972e+00   7.2172e+00   7.2372e+00   7.2573e+00   7.2773e+00"
      ]
     },
     "metadata": {},
     "output_type": "display_data"
    },
    {
     "data": {
      "text/plain": []
     },
     "metadata": {},
     "output_type": "display_data"
    },
    {
     "data": {
      "text/plain": [
       " Columns 865 through 870:"
      ]
     },
     "metadata": {},
     "output_type": "display_data"
    },
    {
     "data": {
      "text/plain": []
     },
     "metadata": {},
     "output_type": "display_data"
    },
    {
     "data": {
      "text/plain": [
       "   7.2973e+00   7.3173e+00   7.3373e+00   7.3574e+00   7.3774e+00   7.3974e+00"
      ]
     },
     "metadata": {},
     "output_type": "display_data"
    },
    {
     "data": {
      "text/plain": []
     },
     "metadata": {},
     "output_type": "display_data"
    },
    {
     "data": {
      "text/plain": [
       " Columns 871 through 876:"
      ]
     },
     "metadata": {},
     "output_type": "display_data"
    },
    {
     "data": {
      "text/plain": []
     },
     "metadata": {},
     "output_type": "display_data"
    },
    {
     "data": {
      "text/plain": [
       "   7.4174e+00   7.4374e+00   7.4575e+00   7.4775e+00   7.4975e+00   7.5175e+00"
      ]
     },
     "metadata": {},
     "output_type": "display_data"
    },
    {
     "data": {
      "text/plain": []
     },
     "metadata": {},
     "output_type": "display_data"
    },
    {
     "data": {
      "text/plain": [
       " Columns 877 through 882:"
      ]
     },
     "metadata": {},
     "output_type": "display_data"
    },
    {
     "data": {
      "text/plain": []
     },
     "metadata": {},
     "output_type": "display_data"
    },
    {
     "data": {
      "text/plain": [
       "   7.5375e+00   7.5576e+00   7.5776e+00   7.5976e+00   7.6176e+00   7.6376e+00"
      ]
     },
     "metadata": {},
     "output_type": "display_data"
    },
    {
     "data": {
      "text/plain": []
     },
     "metadata": {},
     "output_type": "display_data"
    },
    {
     "data": {
      "text/plain": [
       " Columns 883 through 888:"
      ]
     },
     "metadata": {},
     "output_type": "display_data"
    },
    {
     "data": {
      "text/plain": []
     },
     "metadata": {},
     "output_type": "display_data"
    },
    {
     "data": {
      "text/plain": [
       "   7.6577e+00   7.6777e+00   7.6977e+00   7.7177e+00   7.7377e+00   7.7578e+00"
      ]
     },
     "metadata": {},
     "output_type": "display_data"
    },
    {
     "data": {
      "text/plain": []
     },
     "metadata": {},
     "output_type": "display_data"
    },
    {
     "data": {
      "text/plain": [
       " Columns 889 through 894:"
      ]
     },
     "metadata": {},
     "output_type": "display_data"
    },
    {
     "data": {
      "text/plain": []
     },
     "metadata": {},
     "output_type": "display_data"
    },
    {
     "data": {
      "text/plain": [
       "   7.7778e+00   7.7978e+00   7.8178e+00   7.8378e+00   7.8579e+00   7.8779e+00"
      ]
     },
     "metadata": {},
     "output_type": "display_data"
    },
    {
     "data": {
      "text/plain": []
     },
     "metadata": {},
     "output_type": "display_data"
    },
    {
     "data": {
      "text/plain": [
       " Columns 895 through 900:"
      ]
     },
     "metadata": {},
     "output_type": "display_data"
    },
    {
     "data": {
      "text/plain": []
     },
     "metadata": {},
     "output_type": "display_data"
    },
    {
     "data": {
      "text/plain": [
       "   7.8979e+00   7.9179e+00   7.9379e+00   7.9580e+00   7.9780e+00   7.9980e+00"
      ]
     },
     "metadata": {},
     "output_type": "display_data"
    },
    {
     "data": {
      "text/plain": []
     },
     "metadata": {},
     "output_type": "display_data"
    },
    {
     "data": {
      "text/plain": [
       " Columns 901 through 906:"
      ]
     },
     "metadata": {},
     "output_type": "display_data"
    },
    {
     "data": {
      "text/plain": []
     },
     "metadata": {},
     "output_type": "display_data"
    },
    {
     "data": {
      "text/plain": [
       "   8.0180e+00   8.0380e+00   8.0581e+00   8.0781e+00   8.0981e+00   8.1181e+00"
      ]
     },
     "metadata": {},
     "output_type": "display_data"
    },
    {
     "data": {
      "text/plain": []
     },
     "metadata": {},
     "output_type": "display_data"
    },
    {
     "data": {
      "text/plain": [
       " Columns 907 through 912:"
      ]
     },
     "metadata": {},
     "output_type": "display_data"
    },
    {
     "data": {
      "text/plain": []
     },
     "metadata": {},
     "output_type": "display_data"
    },
    {
     "data": {
      "text/plain": [
       "   8.1381e+00   8.1582e+00   8.1782e+00   8.1982e+00   8.2182e+00   8.2382e+00"
      ]
     },
     "metadata": {},
     "output_type": "display_data"
    },
    {
     "data": {
      "text/plain": []
     },
     "metadata": {},
     "output_type": "display_data"
    },
    {
     "data": {
      "text/plain": [
       " Columns 913 through 918:"
      ]
     },
     "metadata": {},
     "output_type": "display_data"
    },
    {
     "data": {
      "text/plain": []
     },
     "metadata": {},
     "output_type": "display_data"
    },
    {
     "data": {
      "text/plain": [
       "   8.2583e+00   8.2783e+00   8.2983e+00   8.3183e+00   8.3383e+00   8.3584e+00"
      ]
     },
     "metadata": {},
     "output_type": "display_data"
    },
    {
     "data": {
      "text/plain": []
     },
     "metadata": {},
     "output_type": "display_data"
    },
    {
     "data": {
      "text/plain": [
       " Columns 919 through 924:"
      ]
     },
     "metadata": {},
     "output_type": "display_data"
    },
    {
     "data": {
      "text/plain": []
     },
     "metadata": {},
     "output_type": "display_data"
    },
    {
     "data": {
      "text/plain": [
       "   8.3784e+00   8.3984e+00   8.4184e+00   8.4384e+00   8.4585e+00   8.4785e+00"
      ]
     },
     "metadata": {},
     "output_type": "display_data"
    },
    {
     "data": {
      "text/plain": []
     },
     "metadata": {},
     "output_type": "display_data"
    },
    {
     "data": {
      "text/plain": [
       " Columns 925 through 930:"
      ]
     },
     "metadata": {},
     "output_type": "display_data"
    },
    {
     "data": {
      "text/plain": []
     },
     "metadata": {},
     "output_type": "display_data"
    },
    {
     "data": {
      "text/plain": [
       "   8.4985e+00   8.5185e+00   8.5385e+00   8.5586e+00   8.5786e+00   8.5986e+00"
      ]
     },
     "metadata": {},
     "output_type": "display_data"
    },
    {
     "data": {
      "text/plain": []
     },
     "metadata": {},
     "output_type": "display_data"
    },
    {
     "data": {
      "text/plain": [
       " Columns 931 through 936:"
      ]
     },
     "metadata": {},
     "output_type": "display_data"
    },
    {
     "data": {
      "text/plain": []
     },
     "metadata": {},
     "output_type": "display_data"
    },
    {
     "data": {
      "text/plain": [
       "   8.6186e+00   8.6386e+00   8.6587e+00   8.6787e+00   8.6987e+00   8.7187e+00"
      ]
     },
     "metadata": {},
     "output_type": "display_data"
    },
    {
     "data": {
      "text/plain": []
     },
     "metadata": {},
     "output_type": "display_data"
    },
    {
     "data": {
      "text/plain": [
       " Columns 937 through 942:"
      ]
     },
     "metadata": {},
     "output_type": "display_data"
    },
    {
     "data": {
      "text/plain": []
     },
     "metadata": {},
     "output_type": "display_data"
    },
    {
     "data": {
      "text/plain": [
       "   8.7387e+00   8.7588e+00   8.7788e+00   8.7988e+00   8.8188e+00   8.8388e+00"
      ]
     },
     "metadata": {},
     "output_type": "display_data"
    },
    {
     "data": {
      "text/plain": []
     },
     "metadata": {},
     "output_type": "display_data"
    },
    {
     "data": {
      "text/plain": [
       " Columns 943 through 948:"
      ]
     },
     "metadata": {},
     "output_type": "display_data"
    },
    {
     "data": {
      "text/plain": []
     },
     "metadata": {},
     "output_type": "display_data"
    },
    {
     "data": {
      "text/plain": [
       "   8.8589e+00   8.8789e+00   8.8989e+00   8.9189e+00   8.9389e+00   8.9590e+00"
      ]
     },
     "metadata": {},
     "output_type": "display_data"
    },
    {
     "data": {
      "text/plain": []
     },
     "metadata": {},
     "output_type": "display_data"
    },
    {
     "data": {
      "text/plain": [
       " Columns 949 through 954:"
      ]
     },
     "metadata": {},
     "output_type": "display_data"
    },
    {
     "data": {
      "text/plain": []
     },
     "metadata": {},
     "output_type": "display_data"
    },
    {
     "data": {
      "text/plain": [
       "   8.9790e+00   8.9990e+00   9.0190e+00   9.0390e+00   9.0591e+00   9.0791e+00"
      ]
     },
     "metadata": {},
     "output_type": "display_data"
    },
    {
     "data": {
      "text/plain": []
     },
     "metadata": {},
     "output_type": "display_data"
    },
    {
     "data": {
      "text/plain": [
       " Columns 955 through 960:"
      ]
     },
     "metadata": {},
     "output_type": "display_data"
    },
    {
     "data": {
      "text/plain": []
     },
     "metadata": {},
     "output_type": "display_data"
    },
    {
     "data": {
      "text/plain": [
       "   9.0991e+00   9.1191e+00   9.1391e+00   9.1592e+00   9.1792e+00   9.1992e+00"
      ]
     },
     "metadata": {},
     "output_type": "display_data"
    },
    {
     "data": {
      "text/plain": []
     },
     "metadata": {},
     "output_type": "display_data"
    },
    {
     "data": {
      "text/plain": [
       " Columns 961 through 966:"
      ]
     },
     "metadata": {},
     "output_type": "display_data"
    },
    {
     "data": {
      "text/plain": []
     },
     "metadata": {},
     "output_type": "display_data"
    },
    {
     "data": {
      "text/plain": [
       "   9.2192e+00   9.2392e+00   9.2593e+00   9.2793e+00   9.2993e+00   9.3193e+00"
      ]
     },
     "metadata": {},
     "output_type": "display_data"
    },
    {
     "data": {
      "text/plain": []
     },
     "metadata": {},
     "output_type": "display_data"
    },
    {
     "data": {
      "text/plain": [
       " Columns 967 through 972:"
      ]
     },
     "metadata": {},
     "output_type": "display_data"
    },
    {
     "data": {
      "text/plain": []
     },
     "metadata": {},
     "output_type": "display_data"
    },
    {
     "data": {
      "text/plain": [
       "   9.3393e+00   9.3594e+00   9.3794e+00   9.3994e+00   9.4194e+00   9.4394e+00"
      ]
     },
     "metadata": {},
     "output_type": "display_data"
    },
    {
     "data": {
      "text/plain": []
     },
     "metadata": {},
     "output_type": "display_data"
    },
    {
     "data": {
      "text/plain": [
       " Columns 973 through 978:"
      ]
     },
     "metadata": {},
     "output_type": "display_data"
    },
    {
     "data": {
      "text/plain": []
     },
     "metadata": {},
     "output_type": "display_data"
    },
    {
     "data": {
      "text/plain": [
       "   9.4595e+00   9.4795e+00   9.4995e+00   9.5195e+00   9.5395e+00   9.5596e+00"
      ]
     },
     "metadata": {},
     "output_type": "display_data"
    },
    {
     "data": {
      "text/plain": []
     },
     "metadata": {},
     "output_type": "display_data"
    },
    {
     "data": {
      "text/plain": [
       " Columns 979 through 984:"
      ]
     },
     "metadata": {},
     "output_type": "display_data"
    },
    {
     "data": {
      "text/plain": []
     },
     "metadata": {},
     "output_type": "display_data"
    },
    {
     "data": {
      "text/plain": [
       "   9.5796e+00   9.5996e+00   9.6196e+00   9.6396e+00   9.6597e+00   9.6797e+00"
      ]
     },
     "metadata": {},
     "output_type": "display_data"
    },
    {
     "data": {
      "text/plain": []
     },
     "metadata": {},
     "output_type": "display_data"
    },
    {
     "data": {
      "text/plain": [
       " Columns 985 through 990:"
      ]
     },
     "metadata": {},
     "output_type": "display_data"
    },
    {
     "data": {
      "text/plain": []
     },
     "metadata": {},
     "output_type": "display_data"
    },
    {
     "data": {
      "text/plain": [
       "   9.6997e+00   9.7197e+00   9.7397e+00   9.7598e+00   9.7798e+00   9.7998e+00"
      ]
     },
     "metadata": {},
     "output_type": "display_data"
    },
    {
     "data": {
      "text/plain": []
     },
     "metadata": {},
     "output_type": "display_data"
    },
    {
     "data": {
      "text/plain": [
       " Columns 991 through 996:"
      ]
     },
     "metadata": {},
     "output_type": "display_data"
    },
    {
     "data": {
      "text/plain": []
     },
     "metadata": {},
     "output_type": "display_data"
    },
    {
     "data": {
      "text/plain": [
       "   9.8198e+00   9.8398e+00   9.8599e+00   9.8799e+00   9.8999e+00   9.9199e+00"
      ]
     },
     "metadata": {},
     "output_type": "display_data"
    },
    {
     "data": {
      "text/plain": []
     },
     "metadata": {},
     "output_type": "display_data"
    },
    {
     "data": {
      "text/plain": [
       " Columns 997 through 1000:"
      ]
     },
     "metadata": {},
     "output_type": "display_data"
    },
    {
     "data": {
      "text/plain": []
     },
     "metadata": {},
     "output_type": "display_data"
    },
    {
     "data": {
      "text/plain": [
       "   9.9399e+00   9.9600e+00   9.9800e+00   1.0000e+01"
      ]
     },
     "metadata": {},
     "output_type": "display_data"
    },
    {
     "data": {
      "text/plain": []
     },
     "metadata": {},
     "output_type": "display_data"
    }
   ],
   "source": [
    "%%octave -f svg\n",
    "t = linspace(-10, 10, 1000)"
   ]
  },
  {
   "cell_type": "code",
   "execution_count": 14,
   "id": "ab58b9f0-6f6d-4687-bcd1-59e56c728c05",
   "metadata": {},
   "outputs": [
    {
     "data": {
      "text/plain": [
       "\u001b[?2004l"
      ]
     },
     "metadata": {},
     "output_type": "display_data"
    },
    {
     "data": {
      "text/plain": [
       "\u001b[?2004l"
      ]
     },
     "metadata": {},
     "output_type": "display_data"
    },
    {
     "name": "stdout",
     "output_type": "stream",
     "text": [
      "\u001b[?2004l\n",
      "\u001b[?2004l\n",
      "\u001b[?2004l\n"
     ]
    },
    {
     "data": {
      "text/plain": [
       "\u001b[?2004l"
      ]
     },
     "metadata": {},
     "output_type": "display_data"
    },
    {
     "data": {
      "text/plain": [
       "warning: using the gnuplot graphics toolkit is discouraged"
      ]
     },
     "metadata": {},
     "output_type": "display_data"
    },
    {
     "data": {
      "text/plain": []
     },
     "metadata": {},
     "output_type": "display_data"
    },
    {
     "data": {
      "text/plain": [
       "The gnuplot graphics toolkit is not actively maintained and has a number"
      ]
     },
     "metadata": {},
     "output_type": "display_data"
    },
    {
     "data": {
      "text/plain": [
       "of limitations that are unlikely to be fixed.  Communication with gnuplot"
      ]
     },
     "metadata": {},
     "output_type": "display_data"
    },
    {
     "data": {
      "text/plain": [
       "uses a one-directional pipe and limited information is passed back to the"
      ]
     },
     "metadata": {},
     "output_type": "display_data"
    },
    {
     "data": {
      "text/plain": [
       "Octave interpreter so most changes made interactively in the plot window"
      ]
     },
     "metadata": {},
     "output_type": "display_data"
    },
    {
     "data": {
      "text/plain": [
       "will not be reflected in the graphics properties managed by Octave.  For"
      ]
     },
     "metadata": {},
     "output_type": "display_data"
    },
    {
     "data": {
      "text/plain": [
       "example, if the plot window is closed with a mouse click, Octave will not"
      ]
     },
     "metadata": {},
     "output_type": "display_data"
    },
    {
     "data": {
      "text/plain": [
       "be notified and will not update its internal list of open figure windows."
      ]
     },
     "metadata": {},
     "output_type": "display_data"
    },
    {
     "data": {
      "text/plain": [
       "The qt toolkit is recommended instead."
      ]
     },
     "metadata": {},
     "output_type": "display_data"
    },
    {
     "data": {
      "image/svg+xml": [
       "<svg xmlns=\"http://www.w3.org/2000/svg\" xmlns:xlink=\"http://www.w3.org/1999/xlink\" width=\"560px\" height=\"420px\" viewBox=\"0 0 560 420\">\n",
       "\n",
       "<title>Gnuplot</title>\n",
       "<desc>Produced by GNUPLOT 5.4 patchlevel 5 </desc>\n",
       "\n",
       "<g id=\"gnuplot_canvas\">\n",
       "\n",
       "<rect x=\"0\" y=\"0\" width=\"560\" height=\"420\" fill=\"none\"/>\n",
       "<defs>\n",
       "\n",
       "\t<circle id=\"gpDot\" r=\"0.5\" stroke-width=\"0.5\" stroke=\"currentColor\"/>\n",
       "\t<path id=\"gpPt0\" stroke-width=\"0.222\" stroke=\"currentColor\" d=\"M-1,0 h2 M0,-1 v2\"/>\n",
       "\t<path id=\"gpPt1\" stroke-width=\"0.222\" stroke=\"currentColor\" d=\"M-1,-1 L1,1 M1,-1 L-1,1\"/>\n",
       "\t<path id=\"gpPt2\" stroke-width=\"0.222\" stroke=\"currentColor\" d=\"M-1,0 L1,0 M0,-1 L0,1 M-1,-1 L1,1 M-1,1 L1,-1\"/>\n",
       "\t<rect id=\"gpPt3\" stroke-width=\"0.222\" stroke=\"currentColor\" x=\"-1\" y=\"-1\" width=\"2\" height=\"2\"/>\n",
       "\t<rect id=\"gpPt4\" stroke-width=\"0.222\" stroke=\"currentColor\" fill=\"currentColor\" x=\"-1\" y=\"-1\" width=\"2\" height=\"2\"/>\n",
       "\t<circle id=\"gpPt5\" stroke-width=\"0.222\" stroke=\"currentColor\" cx=\"0\" cy=\"0\" r=\"1\"/>\n",
       "\t<use xlink:href=\"#gpPt5\" id=\"gpPt6\" fill=\"currentColor\" stroke=\"none\"/>\n",
       "\t<path id=\"gpPt7\" stroke-width=\"0.222\" stroke=\"currentColor\" d=\"M0,-1.33 L-1.33,0.67 L1.33,0.67 z\"/>\n",
       "\t<use xlink:href=\"#gpPt7\" id=\"gpPt8\" fill=\"currentColor\" stroke=\"none\"/>\n",
       "\t<use xlink:href=\"#gpPt7\" id=\"gpPt9\" stroke=\"currentColor\" transform=\"rotate(180)\"/>\n",
       "\t<use xlink:href=\"#gpPt9\" id=\"gpPt10\" fill=\"currentColor\" stroke=\"none\"/>\n",
       "\t<use xlink:href=\"#gpPt3\" id=\"gpPt11\" stroke=\"currentColor\" transform=\"rotate(45)\"/>\n",
       "\t<use xlink:href=\"#gpPt11\" id=\"gpPt12\" fill=\"currentColor\" stroke=\"none\"/>\n",
       "\t<path id=\"gpPt13\" stroke-width=\"0.222\" stroke=\"currentColor\" d=\"M0,1.330 L1.265,0.411 L0.782,-1.067 L-0.782,-1.076 L-1.265,0.411 z\"/>\n",
       "\t<use xlink:href=\"#gpPt13\" id=\"gpPt14\" fill=\"currentColor\" stroke=\"none\"/>\n",
       "\t<filter id=\"textbox\" filterUnits=\"objectBoundingBox\" x=\"0\" y=\"0\" height=\"1\" width=\"1\">\n",
       "\t  <feFlood flood-color=\"white\" flood-opacity=\"1\" result=\"bgnd\"/>\n",
       "\t  <feComposite in=\"SourceGraphic\" in2=\"bgnd\" operator=\"atop\"/>\n",
       "\t</filter>\n",
       "\t<filter id=\"greybox\" filterUnits=\"objectBoundingBox\" x=\"0\" y=\"0\" height=\"1\" width=\"1\">\n",
       "\t  <feFlood flood-color=\"lightgrey\" flood-opacity=\"1\" result=\"grey\"/>\n",
       "\t  <feComposite in=\"SourceGraphic\" in2=\"grey\" operator=\"atop\"/>\n",
       "\t</filter>\n",
       "</defs>\n",
       "<g fill=\"none\" color=\"white\" stroke=\"currentColor\" stroke-width=\"1.00\" stroke-linecap=\"butt\" stroke-linejoin=\"miter\">\n",
       "</g>\n",
       "<g fill=\"none\" color=\"black\" stroke=\"currentColor\" stroke-width=\"1.00\" stroke-linecap=\"butt\" stroke-linejoin=\"miter\">\n",
       "\t<g stroke=\"none\" shape-rendering=\"crispEdges\">\n",
       "\t\t<polygon fill=\"rgb(255, 255, 255)\" points=\"54.53,384.00 534.81,384.00 534.81,18.02 54.53,18.02 \"/>\n",
       "\t</g>\n",
       "</g>\n",
       "<g fill=\"none\" color=\"black\" stroke=\"currentColor\" stroke-width=\"1.00\" stroke-linecap=\"butt\" stroke-linejoin=\"miter\">\n",
       "\t<path stroke=\"rgb(  0,   0,   0)\" d=\"M54.53,384.00 L67.13,384.00 M534.82,384.00 L522.22,384.00  \"/>\t<g transform=\"translate(46.14,387.25)\" stroke=\"none\" fill=\"rgb(38,38,38)\" font-family=\"Arial\" font-size=\"10.00\" text-anchor=\"end\">\n",
       "\t\t<text><tspan font-family=\"Arial\">-1</tspan></text>\n",
       "\t</g>\n",
       "</g>\n",
       "<g fill=\"none\" color=\"black\" stroke=\"currentColor\" stroke-width=\"1.00\" stroke-linecap=\"butt\" stroke-linejoin=\"miter\">\n",
       "\t<path stroke=\"rgb(  0,   0,   0)\" d=\"M54.53,292.50 L67.13,292.50 M534.82,292.50 L522.22,292.50  \"/>\t<g transform=\"translate(46.14,295.75)\" stroke=\"none\" fill=\"rgb(38,38,38)\" font-family=\"Arial\" font-size=\"10.00\" text-anchor=\"end\">\n",
       "\t\t<text><tspan font-family=\"Arial\">-0.5</tspan></text>\n",
       "\t</g>\n",
       "</g>\n",
       "<g fill=\"none\" color=\"black\" stroke=\"currentColor\" stroke-width=\"1.00\" stroke-linecap=\"butt\" stroke-linejoin=\"miter\">\n",
       "\t<path stroke=\"rgb(  0,   0,   0)\" d=\"M54.53,201.00 L67.13,201.00 M534.82,201.00 L522.22,201.00  \"/>\t<g transform=\"translate(46.14,204.25)\" stroke=\"none\" fill=\"rgb(38,38,38)\" font-family=\"Arial\" font-size=\"10.00\" text-anchor=\"end\">\n",
       "\t\t<text><tspan font-family=\"Arial\">0</tspan></text>\n",
       "\t</g>\n",
       "</g>\n",
       "<g fill=\"none\" color=\"black\" stroke=\"currentColor\" stroke-width=\"1.00\" stroke-linecap=\"butt\" stroke-linejoin=\"miter\">\n",
       "\t<path stroke=\"rgb(  0,   0,   0)\" d=\"M54.53,109.51 L67.13,109.51 M534.82,109.51 L522.22,109.51  \"/>\t<g transform=\"translate(46.14,112.76)\" stroke=\"none\" fill=\"rgb(38,38,38)\" font-family=\"Arial\" font-size=\"10.00\" text-anchor=\"end\">\n",
       "\t\t<text><tspan font-family=\"Arial\">0.5</tspan></text>\n",
       "\t</g>\n",
       "</g>\n",
       "<g fill=\"none\" color=\"black\" stroke=\"currentColor\" stroke-width=\"1.00\" stroke-linecap=\"butt\" stroke-linejoin=\"miter\">\n",
       "\t<path stroke=\"rgb(  0,   0,   0)\" d=\"M54.53,18.01 L67.13,18.01 M534.82,18.01 L522.22,18.01  \"/>\t<g transform=\"translate(46.14,21.26)\" stroke=\"none\" fill=\"rgb(38,38,38)\" font-family=\"Arial\" font-size=\"10.00\" text-anchor=\"end\">\n",
       "\t\t<text><tspan font-family=\"Arial\">1</tspan></text>\n",
       "\t</g>\n",
       "</g>\n",
       "<g fill=\"none\" color=\"black\" stroke=\"currentColor\" stroke-width=\"1.00\" stroke-linecap=\"butt\" stroke-linejoin=\"miter\">\n",
       "\t<path stroke=\"rgb(  0,   0,   0)\" d=\"M54.53,384.00 L54.53,371.40 M54.53,18.01 L54.53,30.61  \"/>\t<g transform=\"translate(54.53,405.25)\" stroke=\"none\" fill=\"rgb(38,38,38)\" font-family=\"Arial\" font-size=\"10.00\" text-anchor=\"middle\">\n",
       "\t\t<text><tspan font-family=\"Arial\">-10</tspan></text>\n",
       "\t</g>\n",
       "</g>\n",
       "<g fill=\"none\" color=\"black\" stroke=\"currentColor\" stroke-width=\"1.00\" stroke-linecap=\"butt\" stroke-linejoin=\"miter\">\n",
       "\t<path stroke=\"rgb(  0,   0,   0)\" d=\"M174.60,384.00 L174.60,371.40 M174.60,18.01 L174.60,30.61  \"/>\t<g transform=\"translate(174.60,405.25)\" stroke=\"none\" fill=\"rgb(38,38,38)\" font-family=\"Arial\" font-size=\"10.00\" text-anchor=\"middle\">\n",
       "\t\t<text><tspan font-family=\"Arial\">-5</tspan></text>\n",
       "\t</g>\n",
       "</g>\n",
       "<g fill=\"none\" color=\"black\" stroke=\"currentColor\" stroke-width=\"1.00\" stroke-linecap=\"butt\" stroke-linejoin=\"miter\">\n",
       "\t<path stroke=\"rgb(  0,   0,   0)\" d=\"M294.68,384.00 L294.68,371.40 M294.68,18.01 L294.68,30.61  \"/>\t<g transform=\"translate(294.68,405.25)\" stroke=\"none\" fill=\"rgb(38,38,38)\" font-family=\"Arial\" font-size=\"10.00\" text-anchor=\"middle\">\n",
       "\t\t<text><tspan font-family=\"Arial\">0</tspan></text>\n",
       "\t</g>\n",
       "</g>\n",
       "<g fill=\"none\" color=\"black\" stroke=\"currentColor\" stroke-width=\"1.00\" stroke-linecap=\"butt\" stroke-linejoin=\"miter\">\n",
       "\t<path stroke=\"rgb(  0,   0,   0)\" d=\"M414.75,384.00 L414.75,371.40 M414.75,18.01 L414.75,30.61  \"/>\t<g transform=\"translate(414.75,405.25)\" stroke=\"none\" fill=\"rgb(38,38,38)\" font-family=\"Arial\" font-size=\"10.00\" text-anchor=\"middle\">\n",
       "\t\t<text><tspan font-family=\"Arial\">5</tspan></text>\n",
       "\t</g>\n",
       "</g>\n",
       "<g fill=\"none\" color=\"black\" stroke=\"currentColor\" stroke-width=\"1.00\" stroke-linecap=\"butt\" stroke-linejoin=\"miter\">\n",
       "\t<path stroke=\"rgb(  0,   0,   0)\" d=\"M534.82,384.00 L534.82,371.40 M534.82,18.01 L534.82,30.61  \"/>\t<g transform=\"translate(534.82,405.25)\" stroke=\"none\" fill=\"rgb(38,38,38)\" font-family=\"Arial\" font-size=\"10.00\" text-anchor=\"middle\">\n",
       "\t\t<text><tspan font-family=\"Arial\">10</tspan></text>\n",
       "\t</g>\n",
       "</g>\n",
       "<g fill=\"none\" color=\"black\" stroke=\"currentColor\" stroke-width=\"1.00\" stroke-linecap=\"butt\" stroke-linejoin=\"miter\">\n",
       "</g>\n",
       "<g fill=\"none\" color=\"black\" stroke=\"currentColor\" stroke-width=\"1.00\" stroke-linecap=\"butt\" stroke-linejoin=\"miter\">\n",
       "</g>\n",
       "\t<g id=\"gnuplot_plot_1a\"><title>gnuplot_plot_1a</title>\n",
       "<g fill=\"none\" color=\"white\" stroke=\"rgb(  0,   0,   0)\" stroke-width=\"0.50\" stroke-linecap=\"butt\" stroke-linejoin=\"miter\">\n",
       "</g>\n",
       "<g fill=\"none\" color=\"black\" stroke=\"currentColor\" stroke-width=\"0.50\" stroke-linecap=\"butt\" stroke-linejoin=\"miter\">\n",
       "\t<path stroke=\"rgb(  0, 114, 189)\" d=\"M54.53,101.45 L55.01,104.55 L55.49,107.68 L55.97,110.85 L56.45,114.05 L56.93,117.29 L57.41,120.57 L57.90,123.88   L58.38,127.21 L58.86,130.58 L59.34,133.98 L59.82,137.40 L60.30,140.85 L60.78,144.32 L61.26,147.81 L61.74,151.33   L62.22,154.86 L62.70,158.42 L63.18,161.99 L63.66,165.58 L64.15,169.18 L64.63,172.79 L65.11,176.42 L65.59,180.05   L66.07,183.69 L66.55,187.34 L67.03,191.00 L67.51,194.66 L67.99,198.32 L68.47,201.99 L68.95,205.65 L69.43,209.31   L69.91,212.97 L70.40,216.62 L70.88,220.27 L71.36,223.91 L71.84,227.54 L72.32,231.16 L72.80,234.76 L73.28,238.36   L73.76,241.94 L74.24,245.50 L74.72,249.04 L75.20,252.57 L75.68,256.07 L76.16,259.55 L76.65,263.01 L77.13,266.45   L77.61,269.86 L78.09,273.24 L78.57,276.59 L79.05,279.91 L79.53,283.20 L80.01,286.45 L80.49,289.68 L80.97,292.86   L81.45,296.01 L81.93,299.13 L82.41,302.20 L82.90,305.23 L83.38,308.22 L83.86,311.17 L84.34,314.07 L84.82,316.93   L85.30,319.74 L85.78,322.50 L86.26,325.22 L86.74,327.88 L87.22,330.50 L87.70,333.06 L88.18,335.57 L88.66,338.03   L89.15,340.43 L89.63,342.77 L90.11,345.06 L90.59,347.29 L91.07,349.46 L91.55,351.57 L92.03,353.63 L92.51,355.62   L92.99,357.54 L93.47,359.41 L93.95,361.21 L94.43,362.95 L94.91,364.62 L95.40,366.23 L95.88,367.77 L96.36,369.25   L96.84,370.66 L97.32,371.99 L97.80,373.27 L98.28,374.47 L98.76,375.60 L99.24,376.66 L99.72,377.65 L100.20,378.57   L100.68,379.42 L101.16,380.20 L101.65,380.91 L102.13,381.54 L102.61,382.11 L103.09,382.60 L103.57,383.01 L104.05,383.36   L104.53,383.63 L105.01,383.82 L105.49,383.95 L105.97,384.00 L106.45,383.98 L106.93,383.88 L107.41,383.71 L107.90,383.47   L108.38,383.15 L108.86,382.77 L109.34,382.30 L109.82,381.77 L110.30,381.16 L110.78,380.48 L111.26,379.73 L111.74,378.91   L112.22,378.02 L112.70,377.05 L113.18,376.02 L113.66,374.91 L114.15,373.74 L114.63,372.50 L115.11,371.18 L115.59,369.80   L116.07,368.35 L116.55,366.84 L117.03,365.25 L117.51,363.61 L117.99,361.89 L118.47,360.12 L118.95,358.27 L119.43,356.37   L119.91,354.40 L120.40,352.37 L120.88,350.29 L121.36,348.14 L121.84,345.93 L122.32,343.66 L122.80,341.34 L123.28,338.96   L123.76,336.53 L124.24,334.04 L124.72,331.50 L125.20,328.90 L125.68,326.26 L126.16,323.56 L126.65,320.82 L127.13,318.02   L127.61,315.18 L128.09,312.30 L128.57,309.37 L129.05,306.39 L129.53,303.38 L130.01,300.32 L130.49,297.22 L130.97,294.09   L131.45,290.92 L131.93,287.71 L132.41,284.46 L132.90,281.19 L133.38,277.88 L133.86,274.54 L134.34,271.17 L134.82,267.77   L135.30,264.35 L135.78,260.90 L136.26,257.42 L136.74,253.93 L137.22,250.41 L137.70,246.87 L138.18,243.32 L138.66,239.74   L139.15,236.16 L139.63,232.55 L140.11,228.94 L140.59,225.31 L141.07,221.68 L141.55,218.03 L142.03,214.38 L142.51,210.73   L142.99,207.07 L143.47,203.40 L143.95,199.74 L144.43,196.08 L144.91,192.42 L145.40,188.76 L145.88,185.11 L146.36,181.46   L146.84,177.82 L147.32,174.19 L147.80,170.57 L148.28,166.97 L148.76,163.38 L149.24,159.80 L149.72,156.24 L150.20,152.69   L150.68,149.17 L151.16,145.67 L151.65,142.19 L152.13,138.73 L152.61,135.30 L153.09,131.89 L153.57,128.51 L154.05,125.16   L154.53,121.85 L155.01,118.56 L155.49,115.30 L155.97,112.09 L156.45,108.90 L156.93,105.75 L157.41,102.65 L157.90,99.58   L158.38,96.55 L158.86,93.56 L159.34,90.62 L159.82,87.72 L160.30,84.86 L160.78,82.05 L161.26,79.29 L161.74,76.58   L162.22,73.92 L162.70,71.31 L163.18,68.75 L163.66,66.25 L164.15,63.80 L164.63,61.40 L165.11,59.06 L165.59,56.78   L166.07,54.55 L166.55,52.38 L167.03,50.28 L167.51,48.23 L167.99,46.24 L168.47,44.32 L168.95,42.46 L169.43,40.66   L169.91,38.93 L170.40,37.26 L170.88,35.66 L171.36,34.12 L171.84,32.65 L172.32,31.25 L172.80,29.91 L173.28,28.65   L173.76,27.45 L174.24,26.33 L174.72,25.27 L175.20,24.28 L175.68,23.37 L176.17,22.52 L176.65,21.75 L177.13,21.05   L177.61,20.42 L178.09,19.86 L178.57,19.38 L179.05,18.97 L179.53,18.63 L180.01,18.37 L180.49,18.17 L180.97,18.06   L181.45,18.01 L181.93,18.04 L182.42,18.14 L182.90,18.31 L183.38,18.56 L183.86,18.88 L184.34,19.28 L184.82,19.75   L185.30,20.28 L185.78,20.90 L186.26,21.58 L186.74,22.34 L187.22,23.16 L187.70,24.06 L188.18,25.03 L188.67,26.07   L189.15,27.18 L189.63,28.36 L190.11,29.61 L190.59,30.93 L191.07,32.32 L191.55,33.77 L192.03,35.29 L192.51,36.88   L192.99,38.53 L193.47,40.25 L193.95,42.03 L194.43,43.88 L194.92,45.79 L195.40,47.76 L195.88,49.79 L196.36,51.89   L196.84,54.04 L197.32,56.25 L197.80,58.52 L198.28,60.85 L198.76,63.23 L199.24,65.67 L199.72,68.17 L200.20,70.71   L200.68,73.31 L201.17,75.96 L201.65,78.66 L202.13,81.41 L202.61,84.21 L203.09,87.05 L203.57,89.94 L204.05,92.87   L204.53,95.85 L205.01,98.87 L205.49,101.93 L205.97,105.03 L206.45,108.17 L206.93,111.34 L207.42,114.55 L207.90,117.80   L208.38,121.08 L208.86,124.39 L209.34,127.73 L209.82,131.10 L210.30,134.50 L210.78,137.93 L211.26,141.38 L211.74,144.86   L212.22,148.35 L212.70,151.87 L213.18,155.41 L213.67,158.97 L214.15,162.54 L214.63,166.13 L215.11,169.74 L215.59,173.35   L216.07,176.98 L216.55,180.61 L217.03,184.26 L217.51,187.91 L217.99,191.57 L218.47,195.23 L218.95,198.89 L219.43,202.55   L219.92,206.22 L220.40,209.88 L220.88,213.53 L221.36,217.19 L221.84,220.83 L222.32,224.47 L222.80,228.10 L223.28,231.72   L223.76,235.32 L224.24,238.91 L224.72,242.49 L225.20,246.05 L225.68,249.59 L226.17,253.11 L226.65,256.61 L227.13,260.09   L227.61,263.55 L228.09,266.98 L228.57,270.38 L229.05,273.76 L229.53,277.10 L230.01,280.42 L230.49,283.70 L230.97,286.96   L231.45,290.17 L231.93,293.35 L232.42,296.50 L232.90,299.60 L233.38,302.67 L233.86,305.70 L234.34,308.68 L234.82,311.62   L235.30,314.52 L235.78,317.37 L236.26,320.17 L236.74,322.93 L237.22,325.63 L237.70,328.29 L238.18,330.90 L238.67,333.45   L239.15,335.95 L239.63,338.40 L240.11,340.79 L240.59,343.13 L241.07,345.41 L241.55,347.63 L242.03,349.79 L242.51,351.89   L242.99,353.94 L243.47,355.92 L243.95,357.84 L244.43,359.69 L244.92,361.49 L245.40,363.21 L245.88,364.88 L246.36,366.48   L246.84,368.01 L247.32,369.47 L247.80,370.87 L248.28,372.20 L248.76,373.46 L249.24,374.65 L249.72,375.77 L250.20,376.82   L250.68,377.80 L251.17,378.71 L251.65,379.55 L252.13,380.32 L252.61,381.01 L253.09,381.64 L253.57,382.19 L254.05,382.66   L254.53,383.07 L255.01,383.40 L255.49,383.66 L255.97,383.85 L256.45,383.96 L256.93,384.00 L257.42,383.97 L257.90,383.86   L258.38,383.68 L258.86,383.42 L259.34,383.10 L259.82,382.70 L260.30,382.23 L260.78,381.68 L261.26,381.06 L261.74,380.37   L262.22,379.61 L262.70,378.78 L263.18,377.87 L263.67,376.90 L264.15,375.85 L264.63,374.74 L265.11,373.55 L265.59,372.30   L266.07,370.97 L266.55,369.58 L267.03,368.12 L267.51,366.60 L267.99,365.00 L268.47,363.35 L268.95,361.62 L269.43,359.83   L269.92,357.98 L270.40,356.07 L270.88,354.09 L271.36,352.06 L271.84,349.96 L272.32,347.80 L272.80,345.58 L273.28,343.31   L273.76,340.98 L274.24,338.59 L274.72,336.15 L275.20,333.65 L275.68,331.10 L276.17,328.50 L276.65,325.84 L277.13,323.14   L277.61,320.39 L278.09,317.59 L278.57,314.74 L279.05,311.85 L279.53,308.91 L280.01,305.93 L280.49,302.91 L280.97,299.84   L281.45,296.74 L281.93,293.60 L282.42,290.42 L282.90,287.21 L283.38,283.96 L283.86,280.68 L284.34,277.36 L284.82,274.02   L285.30,270.64 L285.78,267.24 L286.26,263.81 L286.74,260.36 L287.22,256.88 L287.70,253.38 L288.18,249.86 L288.67,246.32   L289.15,242.76 L289.63,239.19 L290.11,235.60 L290.59,232.00 L291.07,228.38 L291.55,224.75 L292.03,221.11 L292.51,217.47   L292.99,213.82 L293.47,210.16 L293.95,206.50 L294.43,202.84 L294.92,199.17 L295.40,195.51 L295.88,191.85 L296.36,188.19   L296.84,184.54 L297.32,180.90 L297.80,177.26 L298.28,173.63 L298.76,170.01 L299.24,166.41 L299.72,162.82 L300.20,159.25   L300.68,155.69 L301.17,152.15 L301.65,148.63 L302.13,145.13 L302.61,141.65 L303.09,138.20 L303.57,134.77 L304.05,131.37   L304.53,127.99 L305.01,124.65 L305.49,121.33 L305.97,118.05 L306.45,114.80 L306.93,111.59 L307.42,108.41 L307.90,105.27   L308.38,102.17 L308.86,99.10 L309.34,96.08 L309.82,93.10 L310.30,90.16 L310.78,87.27 L311.26,84.42 L311.74,81.62   L312.22,78.87 L312.70,76.17 L313.18,73.51 L313.67,70.91 L314.15,68.36 L314.63,65.86 L315.11,63.42 L315.59,61.03   L316.07,58.70 L316.55,56.43 L317.03,54.21 L317.51,52.05 L317.99,49.95 L318.47,47.92 L318.95,45.94 L319.43,44.03   L319.92,42.18 L320.40,40.39 L320.88,38.66 L321.36,37.01 L321.84,35.41 L322.32,33.89 L322.80,32.43 L323.28,31.04   L323.76,29.71 L324.24,28.46 L324.72,27.27 L325.20,26.16 L325.68,25.11 L326.17,24.14 L326.65,23.23 L327.13,22.40   L327.61,21.64 L328.09,20.95 L328.57,20.33 L329.05,19.78 L329.53,19.31 L330.01,18.91 L330.49,18.59 L330.97,18.33   L331.45,18.15 L331.93,18.04 L332.42,18.01 L332.90,18.05 L333.38,18.16 L333.86,18.35 L334.34,18.61 L334.82,18.94   L335.30,19.35 L335.78,19.82 L336.26,20.37 L336.74,21.00 L337.22,21.69 L337.70,22.46 L338.18,23.30 L338.67,24.21   L339.15,25.19 L339.63,26.24 L340.11,27.36 L340.59,28.55 L341.07,29.81 L341.55,31.14 L342.03,32.54 L342.51,34.00   L342.99,35.53 L343.47,37.13 L343.95,38.80 L344.43,40.52 L344.92,42.32 L345.40,44.17 L345.88,46.09 L346.36,48.07   L346.84,50.12 L347.32,52.22 L347.80,54.38 L348.28,56.60 L348.76,58.88 L349.24,61.22 L349.72,63.61 L350.20,66.06   L350.68,68.56 L351.17,71.11 L351.65,73.72 L352.13,76.38 L352.61,79.08 L353.09,81.84 L353.57,84.64 L354.05,87.49   L354.53,90.39 L355.01,93.33 L355.49,96.31 L355.97,99.34 L356.45,102.41 L356.93,105.51 L357.42,108.66 L357.90,111.84   L358.38,115.05 L358.86,118.31 L359.34,121.59 L359.82,124.91 L360.30,128.25 L360.78,131.63 L361.26,135.03 L361.74,138.46   L362.22,141.92 L362.70,145.40 L363.18,148.90 L363.67,152.42 L364.15,155.96 L364.63,159.52 L365.11,163.10 L365.59,166.69   L366.07,170.29 L366.55,173.91 L367.03,177.54 L367.51,181.18 L367.99,184.82 L368.47,188.48 L368.95,192.13 L369.43,195.79   L369.92,199.46 L370.40,203.12 L370.88,206.78 L371.36,210.44 L371.84,214.10 L372.32,217.75 L372.80,221.40 L373.28,225.03   L373.76,228.66 L374.24,232.27 L374.72,235.88 L375.20,239.47 L375.68,243.04 L376.17,246.60 L376.65,250.14 L377.13,253.66   L377.61,257.15 L378.09,260.63 L378.57,264.08 L379.05,267.51 L379.53,270.91 L380.01,274.28 L380.49,277.62 L380.97,280.93   L381.45,284.21 L381.93,287.46 L382.42,290.67 L382.90,293.84 L383.38,296.98 L383.86,300.08 L384.34,303.14 L384.82,306.16   L385.30,309.14 L385.78,312.07 L386.26,314.96 L386.74,317.80 L387.22,320.60 L387.70,323.35 L388.18,326.05 L388.67,328.70   L389.15,331.30 L389.63,333.84 L390.11,336.34 L390.59,338.78 L391.07,341.16 L391.55,343.49 L392.03,345.76 L392.51,347.97   L392.99,350.12 L393.47,352.22 L393.95,354.25 L394.43,356.22 L394.92,358.13 L395.40,359.98 L395.88,361.76 L396.36,363.48   L396.84,365.13 L397.32,366.72 L397.80,368.24 L398.28,369.69 L398.76,371.08 L399.24,372.40 L399.72,373.65 L400.20,374.83   L400.68,375.94 L401.17,376.98 L401.65,377.95 L402.13,378.85 L402.61,379.67 L403.09,380.43 L403.57,381.11 L404.05,381.73   L404.53,382.26 L405.01,382.73 L405.49,383.13 L405.97,383.45 L406.45,383.70 L406.93,383.87 L407.42,383.97 L407.90,384.00   L408.38,383.95 L408.86,383.84 L409.34,383.64 L409.82,383.38 L410.30,383.04 L410.78,382.63 L411.26,382.15 L411.74,381.59   L412.22,380.96 L412.70,380.26 L413.18,379.49 L413.67,378.64 L414.15,377.73 L414.63,376.74 L415.11,375.68 L415.59,374.56   L416.07,373.36 L416.55,372.10 L417.03,370.76 L417.51,369.36 L417.99,367.89 L418.47,366.35 L418.95,364.75 L419.44,363.08   L419.92,361.35 L420.40,359.55 L420.88,357.69 L421.36,355.77 L421.84,353.78 L422.32,351.73 L422.80,349.63 L423.28,347.46   L423.76,345.23 L424.24,342.95 L424.72,340.61 L425.20,338.21 L425.69,335.76 L426.17,333.26 L426.65,330.70 L427.13,328.09   L427.61,325.43 L428.09,322.72 L428.57,319.96 L429.05,317.15 L429.53,314.29 L430.01,311.39 L430.49,308.45 L430.97,305.46   L431.45,302.43 L431.94,299.36 L432.42,296.26 L432.90,293.11 L433.38,289.92 L433.86,286.71 L434.34,283.45 L434.82,280.16   L435.30,276.85 L435.78,273.50 L436.26,270.12 L436.74,266.71 L437.22,263.28 L437.70,259.82 L438.19,256.34 L438.67,252.84   L439.15,249.32 L439.63,245.77 L440.11,242.21 L440.59,238.63 L441.07,235.04 L441.55,231.44 L442.03,227.82 L442.51,224.19   L442.99,220.55 L443.47,216.90 L443.95,213.25 L444.44,209.59 L444.92,205.93 L445.40,202.27 L445.88,198.61 L446.36,194.94   L446.84,191.28 L447.32,187.63 L447.80,183.98 L448.28,180.33 L448.76,176.70 L449.24,173.07 L449.72,169.46 L450.20,165.85   L450.69,162.27 L451.17,158.69 L451.65,155.14 L452.13,151.60 L452.61,148.08 L453.09,144.59 L453.57,141.11 L454.05,137.66   L454.53,134.24 L455.01,130.84 L455.49,127.47 L455.97,124.13 L456.45,120.82 L456.94,117.55 L457.42,114.30 L457.90,111.09   L458.38,107.92 L458.86,104.79 L459.34,101.69 L459.82,98.63 L460.30,95.62 L460.78,92.64 L461.26,89.71 L461.74,86.83   L462.22,83.99 L462.70,81.19 L463.19,78.45 L463.67,75.75 L464.15,73.11 L464.63,70.51 L465.11,67.97 L465.59,65.48   L466.07,63.05 L466.55,60.67 L467.03,58.35 L467.51,56.08 L467.99,53.87 L468.47,51.72 L468.95,49.64 L469.44,47.61   L469.92,45.64 L470.40,43.74 L470.88,41.89 L471.36,40.12 L471.84,38.40 L472.32,36.76 L472.80,35.17 L473.28,33.66   L473.76,32.21 L474.24,30.83 L474.72,29.51 L475.20,28.27 L475.69,27.10 L476.17,25.99 L476.65,24.96 L477.13,23.99   L477.61,23.10 L478.09,22.28 L478.57,21.53 L479.05,20.85 L479.53,20.24 L480.01,19.71 L480.49,19.24 L480.97,18.86   L481.45,18.54 L481.94,18.30 L482.42,18.13 L482.90,18.03 L483.38,18.01 L483.86,18.06 L484.34,18.19 L484.82,18.38   L485.30,18.65 L485.78,19.00 L486.26,19.41 L486.74,19.90 L487.22,20.47 L487.70,21.10 L488.19,21.81 L488.67,22.59   L489.15,23.44 L489.63,24.36 L490.11,25.35 L490.59,26.41 L491.07,27.54 L491.55,28.74 L492.03,30.02 L492.51,31.35   L492.99,32.76 L493.47,34.24 L493.95,35.78 L494.44,37.39 L494.92,39.06 L495.40,40.80 L495.88,42.60 L496.36,44.47   L496.84,46.39 L497.32,48.38 L497.80,50.44 L498.28,52.55 L498.76,54.72 L499.24,56.95 L499.72,59.24 L500.20,61.58   L500.69,63.98 L501.17,66.44 L501.65,68.95 L502.13,71.51 L502.61,74.13 L503.09,76.79 L503.57,79.51 L504.05,82.27   L504.53,85.08 L505.01,87.94 L505.49,90.84 L505.97,93.79 L506.45,96.78 L506.94,99.81 L507.42,102.88 L507.90,106.00   L508.38,109.15 L508.86,112.33 L509.34,115.56 L509.82,118.81 L510.30,122.10 L510.78,125.42 L511.26,128.77 L511.74,132.15   L512.22,135.56 L512.70,139.00 L513.19,142.46 L513.67,145.94 L514.15,149.44 L514.63,152.97 L515.11,156.51 L515.59,160.07   L516.07,163.65 L516.55,167.25 L517.03,170.85 L517.51,174.47 L517.99,178.10 L518.47,181.74 L518.95,185.39 L519.44,189.04   L519.92,192.70 L520.40,196.36 L520.88,200.02 L521.36,203.69 L521.84,207.35 L522.32,211.01 L522.80,214.67 L523.28,218.32   L523.76,221.96 L524.24,225.59 L524.72,229.22 L525.20,232.83 L525.69,236.43 L526.17,240.02 L526.65,243.59 L527.13,247.15   L527.61,250.68 L528.09,254.20 L528.57,257.69 L529.05,261.16 L529.53,264.61 L530.01,268.03 L530.49,271.43 L530.97,274.80   L531.45,278.13 L531.94,281.44 L532.42,284.72 L532.90,287.96 L533.38,291.16 L533.86,294.33 L534.34,297.46 L534.82,300.56    \"/></g>\n",
       "\t</g>\n",
       "<g fill=\"none\" color=\"white\" stroke=\"rgb(  0, 114, 189)\" stroke-width=\"2.00\" stroke-linecap=\"butt\" stroke-linejoin=\"miter\">\n",
       "</g>\n",
       "<g fill=\"none\" color=\"black\" stroke=\"currentColor\" stroke-width=\"2.00\" stroke-linecap=\"butt\" stroke-linejoin=\"miter\">\n",
       "</g>\n",
       "<g fill=\"none\" color=\"black\" stroke=\"black\" stroke-width=\"0.50\" stroke-linecap=\"butt\" stroke-linejoin=\"miter\">\n",
       "\t<path stroke=\"rgb( 38,  38,  38)\" d=\"M54.54,383.99 L534.83,383.99 M54.54,18.00 L534.83,18.00 M54.54,383.99 L54.54,18.00 M534.83,383.99 L534.83,18.00    \"/></g>\n",
       "<g fill=\"none\" color=\"black\" stroke=\"rgb( 38,  38,  38)\" stroke-width=\"1.00\" stroke-linecap=\"butt\" stroke-linejoin=\"miter\">\n",
       "</g>\n",
       "<g fill=\"none\" color=\"black\" stroke=\"currentColor\" stroke-width=\"1.00\" stroke-linecap=\"butt\" stroke-linejoin=\"miter\">\n",
       "</g>\n",
       "</g>\n",
       "</svg>"
      ],
      "text/plain": [
       "<IPython.core.display.SVG object>"
      ]
     },
     "metadata": {},
     "output_type": "display_data"
    }
   ],
   "source": [
    "%%octave -f svg\n",
    "graphics_toolkit('gnuplot');\n",
    "plot(t,sin(t))"
   ]
  },
  {
   "cell_type": "code",
   "execution_count": 15,
   "id": "603c1444-106f-4407-97ba-d7cb95d0003c",
   "metadata": {},
   "outputs": [
    {
     "data": {
      "text/plain": [
       "\u001b[?2004l"
      ]
     },
     "metadata": {},
     "output_type": "display_data"
    },
    {
     "data": {
      "text/plain": [
       "\u001b[?2004l"
      ]
     },
     "metadata": {},
     "output_type": "display_data"
    },
    {
     "name": "stdout",
     "output_type": "stream",
     "text": [
      "\u001b[?2004l\n",
      "warning: load: '/home/macu/work/nbs_pipeline/octave-tests/MP_first_test_penguin_sample.mat' found by searching load path\n",
      "warning: called from\n",
      "    _pyeval at line 57 column 30\n",
      "\n",
      "float64\n"
     ]
    },
    {
     "data": {
      "text/plain": [
       "array([0.253906 , 0.259033 , 0.269287 , ..., 0.0559082, 0.064209 ,\n",
       "       0.059082 ])"
      ]
     },
     "execution_count": 15,
     "metadata": {},
     "output_type": "execute_result"
    }
   ],
   "source": [
    "penguins_sample = MatlabMatrix(filename = 'MP_first_test_penguin_sample', matname = 'penguin_sample')\n",
    "penguins_sample.load( numcol = 0, print_flag = True )"
   ]
  },
  {
   "cell_type": "code",
   "execution_count": 16,
   "id": "6e4124d8-a68e-4dd0-a4aa-44d233ede40a",
   "metadata": {},
   "outputs": [
    {
     "name": "stdout",
     "output_type": "stream",
     "text": [
      "109842\n"
     ]
    }
   ],
   "source": [
    "subsequence_len = 800\n",
    "print(len(penguins_sample.data))"
   ]
  },
  {
   "cell_type": "code",
   "execution_count": 17,
   "id": "496438ea-d751-4960-8f80-73e6e9460075",
   "metadata": {},
   "outputs": [
    {
     "name": "stdout",
     "output_type": "stream",
     "text": [
      "---> About to get out0\n",
      "out0 ~ (109832,)\n",
      "---> About to get start\n",
      "r [1 3 5 7 9]\n",
      "start [0.253906   0.260742   0.2637206  0.260777   0.25518111]\n",
      "---> About to get stop\n",
      "stop [0.06643338 0.0637207  0.06069336 0.05973307 0.059082  ]\n"
     ]
    },
    {
     "name": "stderr",
     "output_type": "stream",
     "text": [
      "/tmp/ipykernel_102/277727543.py:20: UserWarning: Window len must be odd! Adding 1 to your length.\n",
      "  warnings.warn(\"Window len must be odd! Adding 1 to your length.\")\n"
     ]
    },
    {
     "name": "stdout",
     "output_type": "stream",
     "text": [
      "\u001b[?2004l\n",
      "\u001b[?2004l\n",
      "\u001b[?2004l\n",
      "\u001b[?2004l\n",
      "\u001b[?2004l\n",
      "\u001b[?2004l\n"
     ]
    }
   ],
   "source": [
    "penguins_sample.smooth(window_len = 10, print_flag = True)\n",
    "octave.push('penguins_data', penguins_sample.data)\n",
    "octave.push('subsequence_len', subsequence_len)"
   ]
  },
  {
   "cell_type": "code",
   "execution_count": 18,
   "id": "10de4dde-98b8-4e82-acb2-b52d9735a18b",
   "metadata": {},
   "outputs": [],
   "source": [
    "%matplotlib inline"
   ]
  },
  {
   "cell_type": "code",
   "execution_count": 19,
   "id": "fc7b095e-abfb-4601-935e-224fa6a04f90",
   "metadata": {},
   "outputs": [
    {
     "name": "stdout",
     "output_type": "stream",
     "text": [
      "\u001b[?2004l\n",
      "\u001b[?2004l\n",
      "\u001b[?2004l\n"
     ]
    }
   ],
   "source": [
    "octave.register_graphics_toolkit('fltk')"
   ]
  },
  {
   "cell_type": "code",
   "execution_count": null,
   "id": "7428e043-9fa4-48c1-a66c-dc3a2e6a41a2",
   "metadata": {},
   "outputs": [
    {
     "name": "stdout",
     "output_type": "stream",
     "text": [
      "\u001b[?2004l\n",
      "\u001b[?2004l\n",
      "\u001b[?2004l\n",
      "\u001b[?2004l\n",
      "\u001b[?2004l\n"
     ]
    },
    {
     "data": {
      "text/plain": [
       "\u001b[?2004l"
      ]
     },
     "metadata": {},
     "output_type": "display_data"
    },
    {
     "data": {
      "text/plain": [
       "109842"
      ]
     },
     "metadata": {},
     "output_type": "display_data"
    }
   ],
   "source": [
    "%%octave -f svg\n",
    "graphics_toolkit('fltk');\n",
    "[mp, p_index, motif_index, discord_index] = interactiveMatrixProfileVer3(\n",
    "    penguins_data,\n",
    "    subsequence_len\n",
    ");"
   ]
  }
 ],
 "metadata": {
  "kernelspec": {
   "display_name": "Python 3 (ipykernel)",
   "language": "python",
   "name": "python3"
  },
  "language_info": {
   "codemirror_mode": {
    "name": "ipython",
    "version": 3
   },
   "file_extension": ".py",
   "mimetype": "text/x-python",
   "name": "python",
   "nbconvert_exporter": "python",
   "pygments_lexer": "ipython3",
   "version": "3.10.13"
  }
 },
 "nbformat": 4,
 "nbformat_minor": 5
}

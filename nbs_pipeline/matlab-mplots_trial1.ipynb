{
 "cells": [
  {
   "cell_type": "code",
   "execution_count": 1,
   "id": "5e696786-e716-41c1-993e-cbb6b3886c8f",
   "metadata": {},
   "outputs": [],
   "source": [
    "import os\n",
    "import numpy as np\n",
    "import subprocess\n",
    "from oct2py import octave"
   ]
  },
  {
   "cell_type": "code",
   "execution_count": 2,
   "id": "ea6691bc-e64a-41ba-8f03-5f57b3becb65",
   "metadata": {},
   "outputs": [
    {
     "name": "stdout",
     "output_type": "stream",
     "text": [
      "/home/macu/work/nbs/mplot\n",
      "\u001b[?2004l\n",
      "Path correctly added to octave instance.\n"
     ]
    }
   ],
   "source": [
    "path2add = os.path.expanduser(\"~/work/nbs/mplot\")\n",
    "print(path2add)\n",
    "\n",
    "if os.path.exists(path2add):\n",
    "    octave.addpath(path2add)\n",
    "    print(\"Path correctly added to octave instance.\")\n",
    "else:\n",
    "    print(\"The path is not available\")"
   ]
  },
  {
   "cell_type": "code",
   "execution_count": 3,
   "id": "f58216e4-624e-457d-8ae8-5ef6ae839638",
   "metadata": {},
   "outputs": [
    {
     "name": "stdout",
     "output_type": "stream",
     "text": [
      " MASS_s2.m    SPLAT.m\t getPaaFactor.m   piecewiseSplat.m  '~$README.docx'\n",
      " README.pdf   SimMat.m\t paa.m\t\t  runsplat.m\n"
     ]
    }
   ],
   "source": [
    "! ls {path2add}"
   ]
  },
  {
   "cell_type": "code",
   "execution_count": 4,
   "id": "0dd43657-2443-4299-b435-384e4a83d694",
   "metadata": {},
   "outputs": [],
   "source": [
    "subsequence_length = 800"
   ]
  },
  {
   "cell_type": "code",
   "execution_count": 5,
   "id": "bd8d42cb-1d66-4b91-af65-c12c5e62bd0e",
   "metadata": {},
   "outputs": [],
   "source": [
    "## -- Classes & types\n",
    "from dataclasses import dataclass, field\n",
    "from typing import List\n",
    "import warnings "
   ]
  },
  {
   "cell_type": "code",
   "execution_count": 6,
   "id": "29cf0732-2222-470f-b0dc-d2d2cb4f7d6c",
   "metadata": {},
   "outputs": [],
   "source": [
    "@dataclass\n",
    "class MatlabMatrix: \n",
    "    filename : str = \"\"\n",
    "    matname : str = \"\"\n",
    "    data : List [ float ] = None\n",
    "    data_dict : dict = field (default_factory = dict)\n",
    "    smoothing_window_len : int = None\n",
    "    path : str = None\n",
    "    \n",
    "    def load(self, numcol : int, print_flag : bool = False, path = \"./\"):\n",
    "        if self.path is None:\n",
    "            self.path = path\n",
    "\n",
    "        dir = self.path + '/' + self.filename\n",
    "        \n",
    "        self.dict = octave.load(dir)\n",
    "        data = self.dict[self.matname]\n",
    "        if print_flag: print(data.dtype)\n",
    "        self.data = np.array(data[:,numcol])\n",
    "        return self.data\n",
    "    def smooth(self, window_len=11, print_flag = False):\n",
    "        # window_len: smoothing window size needs, which must be odd number,\n",
    "        # Step 1: Apply the moving average to the main part of the data using convolution\n",
    "        self.smoothing_window_len = window_len\n",
    "        if self.smoothing_window_len % 2 == 0:\n",
    "            warnings.warn(\"Window len must be odd! Adding 1 to your length.\")\n",
    "            self.smoothing_window_len += 1\n",
    "        if print_flag: print(\"---> About to get out0\")\n",
    "        out0 = np.convolve(\n",
    "            self.data, \n",
    "            np.ones(self.smoothing_window_len, dtype=int),\n",
    "            'valid'\n",
    "        ) / self.smoothing_window_len\n",
    "    \n",
    "        # Step 2: Handle the beginning of the array (start)\n",
    "        # Use cumulative sum and then average it by the increasing window size\n",
    "    \n",
    "        if print_flag : \n",
    "            print(\"out0 ~\", out0.shape)\n",
    "            print(\"---> About to get start\")\n",
    "    \n",
    "        r = np.arange(1, self.smoothing_window_len-1, 2)\n",
    "    \n",
    "        if print_flag: print(\"r\", r)\n",
    "    \n",
    "        start = np.cumsum(self.data[:self.smoothing_window_len-1])[::2] / r\n",
    "    \n",
    "        if print_flag:\n",
    "            print(\"start\", start)\n",
    "            print(\"---> About to get stop\")\n",
    "    \n",
    "        # Step 3: Handle the end of the array (stop)\n",
    "        # Reverse the array, use cumulative sum, and then average it by the increasing window size\n",
    "    \n",
    "        stop = (np.cumsum(self.data[:-self.smoothing_window_len:-1])[::2] / r)[::-1]\n",
    "\n",
    "        if print_flag: \n",
    "            print(\"stop\", stop)\n",
    "    \n",
    "        # Step 4: Combine the start, middle, and end parts together\n",
    "        return np.concatenate((start, out0, stop))\n",
    "\n"
   ]
  },
  {
   "cell_type": "code",
   "execution_count": 7,
   "id": "8358920f-e514-4de1-88e9-a83009bfb8f4",
   "metadata": {},
   "outputs": [
    {
     "name": "stdout",
     "output_type": "stream",
     "text": [
      "\u001b[?2004l\n",
      "\u001b[?2004l\n",
      "\u001b[?2004l\n",
      "float64\n"
     ]
    },
    {
     "data": {
      "text/plain": [
       "array([0.253906 , 0.259033 , 0.269287 , ..., 0.0559082, 0.064209 ,\n",
       "       0.059082 ])"
      ]
     },
     "execution_count": 7,
     "metadata": {},
     "output_type": "execute_result"
    }
   ],
   "source": [
    "penguins_sample = MatlabMatrix(\n",
    "    filename = 'MP_first_test_penguin_sample', \n",
    "    matname = 'penguin_sample',\n",
    "    path = os.path.expanduser('~/work/nbs_pipeline/octave-tests')\n",
    ")\n",
    "penguins_sample.load( numcol = 0, print_flag = True )"
   ]
  },
  {
   "cell_type": "code",
   "execution_count": 8,
   "id": "f537dfc0-5f49-42c3-a49b-0ff15509cbc5",
   "metadata": {},
   "outputs": [
    {
     "data": {
      "text/plain": [
       "109842"
      ]
     },
     "execution_count": 8,
     "metadata": {},
     "output_type": "execute_result"
    }
   ],
   "source": [
    "len(penguins_sample.data)"
   ]
  },
  {
   "cell_type": "code",
   "execution_count": 9,
   "id": "19992cf3-c7f6-4093-a2c4-66cb067e35cb",
   "metadata": {},
   "outputs": [
    {
     "name": "stdout",
     "output_type": "stream",
     "text": [
      "\u001b[?2004l\n",
      "\u001b[?2004l\n",
      "\u001b[?2004l\n",
      "\u001b[?2004l\n",
      "\u001b[?2004l\n",
      "\u001b[?2004l\n"
     ]
    },
    {
     "data": {
      "text/plain": [
       "'qt'"
      ]
     },
     "execution_count": 9,
     "metadata": {},
     "output_type": "execute_result"
    }
   ],
   "source": [
    "%load_ext oct2py.ipython\n",
    "octave.register_graphics_toolkit('fltk')\n",
    "octave.graphics_toolkit('fltk')"
   ]
  },
  {
   "cell_type": "code",
   "execution_count": 10,
   "id": "816f3c28-e878-4fd5-a3f5-90ac684654c5",
   "metadata": {},
   "outputs": [
    {
     "name": "stdout",
     "output_type": "stream",
     "text": [
      "\u001b[?2004l\n",
      "\u001b[?2004l\n",
      "\u001b[?2004l\n"
     ]
    }
   ],
   "source": [
    "octave.set(0, 'defaultfigurevisible', 'on');"
   ]
  },
  {
   "cell_type": "code",
   "execution_count": 25,
   "id": "7664a536-7d08-4103-99db-bcf92f79c988",
   "metadata": {},
   "outputs": [
    {
     "name": "stdout",
     "output_type": "stream",
     "text": [
      "\u001b[?2004l\n",
      "\u001b[?2004l\n",
      "\u001b[?2004l\n",
      "opción Splat\n",
      "1\n",
      "plotting inside\n",
      "1\n",
      "warning: Computing Self-join similarity matrix\n",
      "warning: called from\n",
      "    SPLAT at line 62 column 5\n",
      "    runsplat at line 48 column 18\n",
      "    _pyeval at line 57 column 30\n",
      "\n",
      "plotting antes del if\n",
      "1\n",
      "Ploteate\n",
      "1\n",
      "--> drawnow\n",
      "drawnow -->\n"
     ]
    }
   ],
   "source": [
    "%reload_ext oct2py.ipython\n",
    "mp, t = octave.runsplat(\n",
    "    80, \n",
    "    penguins_sample.data[:1000], \n",
    "    np.nan, \n",
    "    1, \n",
    "    False, \n",
    "    True, \n",
    "    False, \n",
    "    5000, \n",
    "    nout=2\n",
    ")"
   ]
  },
  {
   "cell_type": "code",
   "execution_count": 22,
   "id": "26719ba2-e619-4242-90f3-a754dd17815a",
   "metadata": {},
   "outputs": [
    {
     "name": "stdout",
     "output_type": "stream",
     "text": [
      "mp ~ (921, 921)\n",
      "time_splat = 6.547044992446899\n"
     ]
    }
   ],
   "source": [
    "print(\"mp ~\", mp.shape)\n",
    "print(\"time_splat =\", t)"
   ]
  },
  {
   "cell_type": "code",
   "execution_count": null,
   "id": "55640c54-da37-4e0a-ba3a-c1d3fdaf144b",
   "metadata": {},
   "outputs": [],
   "source": [
    "print(\"mp ~\", mp.shape)\n",
    "print(\"splat time ~\", t)"
   ]
  },
  {
   "cell_type": "code",
   "execution_count": null,
   "id": "ad2562c4-038c-427e-bdd8-4654d5372f25",
   "metadata": {},
   "outputs": [],
   "source": [
    "octave.push('subsequence_length', int(80))\n",
    "octave.push('timeseriesA', penguins_sample.data[:1000])\n",
    "octave.push('timeseriesB', np.nan)\n",
    "octave.push('multiresolution', int(1))\n",
    "octave.push('calibration', False)\n",
    "octave.push('display_mplot', True)\n",
    "octave.push('piecewise', False)\n",
    "octave.push('patch_size', int(5000))"
   ]
  },
  {
   "cell_type": "code",
   "execution_count": null,
   "id": "d2cbcd9b-78b6-4b7e-b2d4-b7a4f94608fe",
   "metadata": {},
   "outputs": [],
   "source": [
    "#octave.SPLAT(penguins_sample.data[:1000], 80, np.nan, 1, 0, 0)"
   ]
  },
  {
   "cell_type": "code",
   "execution_count": null,
   "id": "16793c9f-3972-4a20-a245-6668c9e78b65",
   "metadata": {},
   "outputs": [],
   "source": [
    "octave.eval(\"runsplat\")"
   ]
  },
  {
   "cell_type": "code",
   "execution_count": null,
   "id": "8c49ba71-4e17-491f-b332-dd9cfd463bbf",
   "metadata": {},
   "outputs": [],
   "source": [
    "%%octave \n",
    "subsequence_length=800;\n",
    "timeSeriesA = timeSeriesA;\n",
    "timeSeriesB = nan\n",
    "multiresolution = 1;\n",
    "calibration = false\n",
    "display_mplot = true\n",
    "picewise = 0;\n",
    "patch_size = 5000;\n",
    "runsplat()"
   ]
  },
  {
   "cell_type": "code",
   "execution_count": null,
   "id": "19c28c2f-38b2-4480-bd9a-540bb6664c7f",
   "metadata": {},
   "outputs": [],
   "source": [
    "%%octave\n",
    "\n",
    "SPLAT(timeSeriesA, subsequence_length, timeSeriesB, 1, 0, 0);"
   ]
  },
  {
   "cell_type": "code",
   "execution_count": null,
   "id": "b6184721-78cd-4b4f-a1b8-fcb92546dc3c",
   "metadata": {},
   "outputs": [],
   "source": [
    "#--> No funciona en este modo\n",
    "#octave.runsplat()"
   ]
  }
 ],
 "metadata": {
  "kernelspec": {
   "display_name": "Python 3 (ipykernel)",
   "language": "python",
   "name": "python3"
  },
  "language_info": {
   "codemirror_mode": {
    "name": "ipython",
    "version": 3
   },
   "file_extension": ".py",
   "mimetype": "text/x-python",
   "name": "python",
   "nbconvert_exporter": "python",
   "pygments_lexer": "ipython3",
   "version": "3.10.13"
  }
 },
 "nbformat": 4,
 "nbformat_minor": 5
}

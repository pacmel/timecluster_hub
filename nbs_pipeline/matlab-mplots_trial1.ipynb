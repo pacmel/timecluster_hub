{
 "cells": [
  {
   "cell_type": "code",
   "execution_count": 1,
   "id": "5e696786-e716-41c1-993e-cbb6b3886c8f",
   "metadata": {},
   "outputs": [],
   "source": [
    "import os\n",
    "import numpy as np\n",
    "import subprocess\n",
    "from oct2py import octave"
   ]
  },
  {
   "cell_type": "code",
   "execution_count": 2,
   "id": "ea6691bc-e64a-41ba-8f03-5f57b3becb65",
   "metadata": {},
   "outputs": [
    {
     "name": "stdout",
     "output_type": "stream",
     "text": [
      "/home/macu/work/nbs/mplot\n",
      "\u001b[?2004l\n",
      "Path correctly added to octave instance.\n"
     ]
    }
   ],
   "source": [
    "path2add = os.path.expanduser(\"~/work/nbs/mplot\")\n",
    "print(path2add)\n",
    "\n",
    "if os.path.exists(path2add):\n",
    "    octave.addpath(path2add)\n",
    "    print(\"Path correctly added to octave instance.\")\n",
    "else:\n",
    "    print(\"The path is not available\")"
   ]
  },
  {
   "cell_type": "code",
   "execution_count": 3,
   "id": "f58216e4-624e-457d-8ae8-5ef6ae839638",
   "metadata": {},
   "outputs": [
    {
     "name": "stdout",
     "output_type": "stream",
     "text": [
      " MASS_s2.m    SimMat.m\t       hello_world.m\t  runsplat.m\n",
      " README.pdf   Untitled.ipynb   paa.m\t\t  test_octave.ipynb\n",
      " SPLAT.m      getPaaFactor.m   piecewiseSplat.m  '~$README.docx'\n"
     ]
    }
   ],
   "source": [
    "! ls {path2add}"
   ]
  },
  {
   "cell_type": "code",
   "execution_count": 4,
   "id": "0dd43657-2443-4299-b435-384e4a83d694",
   "metadata": {},
   "outputs": [],
   "source": [
    "subsequence_length = 800"
   ]
  },
  {
   "cell_type": "code",
   "execution_count": 5,
   "id": "bd8d42cb-1d66-4b91-af65-c12c5e62bd0e",
   "metadata": {},
   "outputs": [],
   "source": [
    "## -- Classes & types\n",
    "from dataclasses import dataclass, field\n",
    "from typing import List\n",
    "import warnings "
   ]
  },
  {
   "cell_type": "code",
   "execution_count": 6,
   "id": "29cf0732-2222-470f-b0dc-d2d2cb4f7d6c",
   "metadata": {},
   "outputs": [],
   "source": [
    "@dataclass\n",
    "class MatlabMatrix: \n",
    "    filename : str = \"\"\n",
    "    matname : str = \"\"\n",
    "    data : List [ float ] = None\n",
    "    data_dict : dict = field (default_factory = dict)\n",
    "    smoothing_window_len : int = None\n",
    "    path : str = None\n",
    "    \n",
    "    def load(self, numcol : int, print_flag : bool = False, path = \"./\"):\n",
    "        if self.path is None:\n",
    "            self.path = path\n",
    "\n",
    "        dir = self.path + '/' + self.filename\n",
    "        \n",
    "        self.dict = octave.load(dir)\n",
    "        data = self.dict[self.matname]\n",
    "        if print_flag: print(data.dtype)\n",
    "        self.data = np.array(data[:,numcol])\n",
    "        return self.data\n",
    "    def smooth(self, window_len=11, print_flag = False):\n",
    "        # window_len: smoothing window size needs, which must be odd number,\n",
    "        # Step 1: Apply the moving average to the main part of the data using convolution\n",
    "        self.smoothing_window_len = window_len\n",
    "        if self.smoothing_window_len % 2 == 0:\n",
    "            warnings.warn(\"Window len must be odd! Adding 1 to your length.\")\n",
    "            self.smoothing_window_len += 1\n",
    "        if print_flag: print(\"---> About to get out0\")\n",
    "        out0 = np.convolve(\n",
    "            self.data, \n",
    "            np.ones(self.smoothing_window_len, dtype=int),\n",
    "            'valid'\n",
    "        ) / self.smoothing_window_len\n",
    "    \n",
    "        # Step 2: Handle the beginning of the array (start)\n",
    "        # Use cumulative sum and then average it by the increasing window size\n",
    "    \n",
    "        if print_flag : \n",
    "            print(\"out0 ~\", out0.shape)\n",
    "            print(\"---> About to get start\")\n",
    "    \n",
    "        r = np.arange(1, self.smoothing_window_len-1, 2)\n",
    "    \n",
    "        if print_flag: print(\"r\", r)\n",
    "    \n",
    "        start = np.cumsum(self.data[:self.smoothing_window_len-1])[::2] / r\n",
    "    \n",
    "        if print_flag:\n",
    "            print(\"start\", start)\n",
    "            print(\"---> About to get stop\")\n",
    "    \n",
    "        # Step 3: Handle the end of the array (stop)\n",
    "        # Reverse the array, use cumulative sum, and then average it by the increasing window size\n",
    "    \n",
    "        stop = (np.cumsum(self.data[:-self.smoothing_window_len:-1])[::2] / r)[::-1]\n",
    "\n",
    "        if print_flag: \n",
    "            print(\"stop\", stop)\n",
    "    \n",
    "        # Step 4: Combine the start, middle, and end parts together\n",
    "        return np.concatenate((start, out0, stop))\n",
    "\n"
   ]
  },
  {
   "cell_type": "code",
   "execution_count": 7,
   "id": "8358920f-e514-4de1-88e9-a83009bfb8f4",
   "metadata": {},
   "outputs": [
    {
     "name": "stdout",
     "output_type": "stream",
     "text": [
      "\u001b[?2004l\n",
      "\u001b[?2004l\n",
      "\u001b[?2004l\n",
      "float64\n"
     ]
    },
    {
     "data": {
      "text/plain": [
       "array([0.253906 , 0.259033 , 0.269287 , ..., 0.0559082, 0.064209 ,\n",
       "       0.059082 ])"
      ]
     },
     "execution_count": 7,
     "metadata": {},
     "output_type": "execute_result"
    }
   ],
   "source": [
    "penguins_sample = MatlabMatrix(\n",
    "    filename = 'MP_first_test_penguin_sample', \n",
    "    matname = 'penguin_sample',\n",
    "    path = os.path.expanduser('~/work/nbs_pipeline/octave-tests')\n",
    ")\n",
    "penguins_sample.load( numcol = 0, print_flag = True )"
   ]
  },
  {
   "cell_type": "code",
   "execution_count": 8,
   "id": "f537dfc0-5f49-42c3-a49b-0ff15509cbc5",
   "metadata": {},
   "outputs": [
    {
     "data": {
      "text/plain": [
       "109842"
      ]
     },
     "execution_count": 8,
     "metadata": {},
     "output_type": "execute_result"
    }
   ],
   "source": [
    "len(penguins_sample.data)"
   ]
  },
  {
   "cell_type": "code",
   "execution_count": 9,
   "id": "19992cf3-c7f6-4093-a2c4-66cb067e35cb",
   "metadata": {},
   "outputs": [
    {
     "name": "stdout",
     "output_type": "stream",
     "text": [
      "\u001b[?2004l\n",
      "\u001b[?2004l\n",
      "\u001b[?2004l\n",
      "\u001b[?2004l\n",
      "\u001b[?2004l\n",
      "\u001b[?2004l\n"
     ]
    },
    {
     "data": {
      "text/plain": [
       "'qt'"
      ]
     },
     "execution_count": 9,
     "metadata": {},
     "output_type": "execute_result"
    }
   ],
   "source": [
    "%load_ext oct2py.ipython\n",
    "octave.register_graphics_toolkit('fltk')\n",
    "octave.graphics_toolkit('fltk')"
   ]
  },
  {
   "cell_type": "code",
   "execution_count": 10,
   "id": "816f3c28-e878-4fd5-a3f5-90ac684654c5",
   "metadata": {},
   "outputs": [
    {
     "name": "stdout",
     "output_type": "stream",
     "text": [
      "\u001b[?2004l\n",
      "\u001b[?2004l\n",
      "\u001b[?2004l\n"
     ]
    }
   ],
   "source": [
    "octave.set(0, 'defaultfigurevisible', 'on');"
   ]
  },
  {
   "cell_type": "code",
   "execution_count": 11,
   "id": "7664a536-7d08-4103-99db-bcf92f79c988",
   "metadata": {},
   "outputs": [
    {
     "name": "stdout",
     "output_type": "stream",
     "text": [
      "\u001b[?2004l\n",
      "\u001b[?2004l\n",
      "\u001b[?2004l\n",
      "opción Splat\n",
      "1\n",
      "plotting inside\n",
      "1\n",
      "Multires inside\n",
      "1\n",
      "-> Here - option 2 calibration\n",
      "minlag\n",
      "0\n",
      "[SPLAT] |1 |1000\n",
      " Columns 1 through 8:\n",
      "\n",
      "   0.2539   0.2590   0.2693   0.2712   0.2651   0.2600   0.2468   0.2397\n",
      "\n",
      " Columns 9 and 10:\n",
      "\n",
      "   0.2314   0.2305\n",
      "warning: Computing Self-join similarity matrix\n",
      "warning: called from\n",
      "    SPLAT at line 77 column 5\n",
      "    runsplat at line 48 column 18\n",
      "    _pyeval at line 57 column 30\n",
      "\n",
      "--> Computing!\n",
      "--> ADFG A DG DGF2DGF\n",
      "--> Output similarityMatrix\n",
      "--> For diag loop\n",
      "0\n",
      "921\n",
      "After diag loop. Now for the rest\n",
      "plotting antes del if\n",
      "1\n",
      "Ploteate\n",
      "1\n",
      "--> drawnow\n",
      "drawnow -->\n"
     ]
    }
   ],
   "source": [
    "%reload_ext oct2py.ipython\n",
    "mp, t = octave.runsplat(\n",
    "    80, \n",
    "    penguins_sample.data[:1000], \n",
    "    np.nan, \n",
    "    1, \n",
    "    False, \n",
    "    True, \n",
    "    False, \n",
    "    5000, \n",
    "    nout=2\n",
    ")"
   ]
  },
  {
   "cell_type": "code",
   "execution_count": 12,
   "id": "26719ba2-e619-4242-90f3-a754dd17815a",
   "metadata": {},
   "outputs": [
    {
     "name": "stdout",
     "output_type": "stream",
     "text": [
      "mp ~ (921, 921)\n",
      "time_splat = 7.230057001113892\n"
     ]
    }
   ],
   "source": [
    "print(\"mp ~\", mp.shape)\n",
    "print(\"time_splat =\", t)"
   ]
  },
  {
   "cell_type": "code",
   "execution_count": 13,
   "id": "55640c54-da37-4e0a-ba3a-c1d3fdaf144b",
   "metadata": {},
   "outputs": [
    {
     "name": "stdout",
     "output_type": "stream",
     "text": [
      "mp ~ (921, 921)\n",
      "splat time ~ 7.230057001113892\n"
     ]
    }
   ],
   "source": [
    "print(\"mp ~\", mp.shape)\n",
    "print(\"splat time ~\", t)"
   ]
  },
  {
   "cell_type": "code",
   "execution_count": 14,
   "id": "ad2562c4-038c-427e-bdd8-4654d5372f25",
   "metadata": {},
   "outputs": [
    {
     "name": "stdout",
     "output_type": "stream",
     "text": [
      "\u001b[?2004l\n",
      "\u001b[?2004l\n",
      "\u001b[?2004l\n",
      "\u001b[?2004l\n",
      "\u001b[?2004l\n",
      "\u001b[?2004l\n",
      "\u001b[?2004l\n",
      "\u001b[?2004l\n",
      "\u001b[?2004l\n",
      "\u001b[?2004l\n",
      "\u001b[?2004l\n",
      "\u001b[?2004l\n",
      "\u001b[?2004l\n",
      "\u001b[?2004l\n",
      "\u001b[?2004l\n",
      "\u001b[?2004l\n",
      "\u001b[?2004l\n",
      "\u001b[?2004l\n",
      "\u001b[?2004l\n",
      "\u001b[?2004l\n",
      "\u001b[?2004l\n",
      "\u001b[?2004l\n",
      "\u001b[?2004l\n",
      "\u001b[?2004l\n"
     ]
    }
   ],
   "source": [
    "octave.push('subsequence_length', int(80))\n",
    "octave.push('timeseriesA', penguins_sample.data[:1000])\n",
    "octave.push('timeseriesB', np.nan)\n",
    "octave.push('multiresolution', int(1))\n",
    "octave.push('calibration', False)\n",
    "octave.push('display_mplot', True)\n",
    "octave.push('piecewise', False)\n",
    "octave.push('patch_size', int(5000))"
   ]
  },
  {
   "cell_type": "code",
   "execution_count": 15,
   "id": "d2cbcd9b-78b6-4b7e-b2d4-b7a4f94608fe",
   "metadata": {},
   "outputs": [],
   "source": [
    "#octave.SPLAT(penguins_sample.data[:1000], 80, np.nan, 1, 0, 0)"
   ]
  },
  {
   "cell_type": "code",
   "execution_count": 16,
   "id": "16793c9f-3972-4a20-a245-6668c9e78b65",
   "metadata": {},
   "outputs": [
    {
     "name": "stdout",
     "output_type": "stream",
     "text": [
      "\u001b[?2004l\n",
      "\u001b[?2004l\n",
      "\u001b[?2004l\n"
     ]
    },
    {
     "ename": "Oct2PyError",
     "evalue": "Octave evaluation error:\nerror: 'timeseriesA' undefined near line 3, column 16\nerror: called from:\n    runsplat at line 3, column 8",
     "output_type": "error",
     "traceback": [
      "\u001b[0;31m---------------------------------------------------------------------------\u001b[0m",
      "\u001b[0;31mOct2PyError\u001b[0m                               Traceback (most recent call last)",
      "Cell \u001b[0;32mIn[16], line 1\u001b[0m\n\u001b[0;32m----> 1\u001b[0m \u001b[43moctave\u001b[49m\u001b[38;5;241;43m.\u001b[39;49m\u001b[43meval\u001b[49m\u001b[43m(\u001b[49m\u001b[38;5;124;43m\"\u001b[39;49m\u001b[38;5;124;43mrunsplat\u001b[39;49m\u001b[38;5;124;43m\"\u001b[39;49m\u001b[43m)\u001b[49m\n",
      "File \u001b[0;32m/usr/local/share/miniconda3/envs/env/lib/python3.10/site-packages/oct2py/core.py:537\u001b[0m, in \u001b[0;36mOct2Py.eval\u001b[0;34m(self, cmds, verbose, timeout, stream_handler, temp_dir, plot_dir, plot_name, plot_format, plot_backend, plot_width, plot_height, plot_res, nout, **kwargs)\u001b[0m\n\u001b[1;32m    535\u001b[0m ans \u001b[38;5;241m=\u001b[39m \u001b[38;5;28;01mNone\u001b[39;00m\n\u001b[1;32m    536\u001b[0m \u001b[38;5;28;01mfor\u001b[39;00m cmd \u001b[38;5;129;01min\u001b[39;00m cmds:\n\u001b[0;32m--> 537\u001b[0m     resp \u001b[38;5;241m=\u001b[39m \u001b[38;5;28;43mself\u001b[39;49m\u001b[38;5;241;43m.\u001b[39;49m\u001b[43mfeval\u001b[49m\u001b[43m(\u001b[49m\n\u001b[1;32m    538\u001b[0m \u001b[43m        \u001b[49m\u001b[38;5;124;43m\"\u001b[39;49m\u001b[38;5;124;43mevalin\u001b[39;49m\u001b[38;5;124;43m\"\u001b[39;49m\u001b[43m,\u001b[49m\n\u001b[1;32m    539\u001b[0m \u001b[43m        \u001b[49m\u001b[38;5;124;43m\"\u001b[39;49m\u001b[38;5;124;43mbase\u001b[39;49m\u001b[38;5;124;43m\"\u001b[39;49m\u001b[43m,\u001b[49m\n\u001b[1;32m    540\u001b[0m \u001b[43m        \u001b[49m\u001b[43mcmd\u001b[49m\u001b[43m,\u001b[49m\n\u001b[1;32m    541\u001b[0m \u001b[43m        \u001b[49m\u001b[43mnout\u001b[49m\u001b[38;5;241;43m=\u001b[39;49m\u001b[43mnout\u001b[49m\u001b[43m,\u001b[49m\n\u001b[1;32m    542\u001b[0m \u001b[43m        \u001b[49m\u001b[43mtimeout\u001b[49m\u001b[38;5;241;43m=\u001b[39;49m\u001b[43mtimeout\u001b[49m\u001b[43m,\u001b[49m\n\u001b[1;32m    543\u001b[0m \u001b[43m        \u001b[49m\u001b[43mstream_handler\u001b[49m\u001b[38;5;241;43m=\u001b[39;49m\u001b[43mstream_handler\u001b[49m\u001b[43m,\u001b[49m\n\u001b[1;32m    544\u001b[0m \u001b[43m        \u001b[49m\u001b[43mverbose\u001b[49m\u001b[38;5;241;43m=\u001b[39;49m\u001b[43mverbose\u001b[49m\u001b[43m,\u001b[49m\n\u001b[1;32m    545\u001b[0m \u001b[43m        \u001b[49m\u001b[43mplot_dir\u001b[49m\u001b[38;5;241;43m=\u001b[39;49m\u001b[43mplot_dir\u001b[49m\u001b[43m,\u001b[49m\n\u001b[1;32m    546\u001b[0m \u001b[43m        \u001b[49m\u001b[43mplot_name\u001b[49m\u001b[38;5;241;43m=\u001b[39;49m\u001b[43mplot_name\u001b[49m\u001b[43m,\u001b[49m\n\u001b[1;32m    547\u001b[0m \u001b[43m        \u001b[49m\u001b[43mplot_format\u001b[49m\u001b[38;5;241;43m=\u001b[39;49m\u001b[43mplot_format\u001b[49m\u001b[43m,\u001b[49m\n\u001b[1;32m    548\u001b[0m \u001b[43m        \u001b[49m\u001b[43mplot_backend\u001b[49m\u001b[38;5;241;43m=\u001b[39;49m\u001b[43mplot_backend\u001b[49m\u001b[43m,\u001b[49m\n\u001b[1;32m    549\u001b[0m \u001b[43m        \u001b[49m\u001b[43mplot_width\u001b[49m\u001b[38;5;241;43m=\u001b[39;49m\u001b[43mplot_width\u001b[49m\u001b[43m,\u001b[49m\n\u001b[1;32m    550\u001b[0m \u001b[43m        \u001b[49m\u001b[43mplot_height\u001b[49m\u001b[38;5;241;43m=\u001b[39;49m\u001b[43mplot_height\u001b[49m\u001b[43m,\u001b[49m\n\u001b[1;32m    551\u001b[0m \u001b[43m        \u001b[49m\u001b[43mplot_res\u001b[49m\u001b[38;5;241;43m=\u001b[39;49m\u001b[43mplot_res\u001b[49m\u001b[43m,\u001b[49m\n\u001b[1;32m    552\u001b[0m \u001b[43m    \u001b[49m\u001b[43m)\u001b[49m\n\u001b[1;32m    553\u001b[0m     \u001b[38;5;28;01mif\u001b[39;00m resp \u001b[38;5;129;01mis\u001b[39;00m \u001b[38;5;129;01mnot\u001b[39;00m \u001b[38;5;28;01mNone\u001b[39;00m:\n\u001b[1;32m    554\u001b[0m         ans \u001b[38;5;241m=\u001b[39m resp\n",
      "File \u001b[0;32m/usr/local/share/miniconda3/envs/env/lib/python3.10/site-packages/oct2py/core.py:403\u001b[0m, in \u001b[0;36mOct2Py.feval\u001b[0;34m(self, func_path, *func_args, **kwargs)\u001b[0m\n\u001b[1;32m    400\u001b[0m \u001b[38;5;28;01mif\u001b[39;00m \u001b[38;5;129;01mnot\u001b[39;00m stream_handler:\n\u001b[1;32m    401\u001b[0m     stream_handler \u001b[38;5;241m=\u001b[39m \u001b[38;5;28mself\u001b[39m\u001b[38;5;241m.\u001b[39mlogger\u001b[38;5;241m.\u001b[39minfo \u001b[38;5;28;01mif\u001b[39;00m verbose \u001b[38;5;28;01melse\u001b[39;00m \u001b[38;5;28mself\u001b[39m\u001b[38;5;241m.\u001b[39mlogger\u001b[38;5;241m.\u001b[39mdebug\n\u001b[0;32m--> 403\u001b[0m \u001b[38;5;28;01mreturn\u001b[39;00m \u001b[38;5;28;43mself\u001b[39;49m\u001b[38;5;241;43m.\u001b[39;49m\u001b[43m_feval\u001b[49m\u001b[43m(\u001b[49m\n\u001b[1;32m    404\u001b[0m \u001b[43m    \u001b[49m\u001b[43mfunc_name\u001b[49m\u001b[43m,\u001b[49m\n\u001b[1;32m    405\u001b[0m \u001b[43m    \u001b[49m\u001b[43mfunc_args\u001b[49m\u001b[43m,\u001b[49m\n\u001b[1;32m    406\u001b[0m \u001b[43m    \u001b[49m\u001b[43mdname\u001b[49m\u001b[38;5;241;43m=\u001b[39;49m\u001b[43mdname\u001b[49m\u001b[43m,\u001b[49m\n\u001b[1;32m    407\u001b[0m \u001b[43m    \u001b[49m\u001b[43mnout\u001b[49m\u001b[38;5;241;43m=\u001b[39;49m\u001b[43mnout\u001b[49m\u001b[43m,\u001b[49m\n\u001b[1;32m    408\u001b[0m \u001b[43m    \u001b[49m\u001b[43mtimeout\u001b[49m\u001b[38;5;241;43m=\u001b[39;49m\u001b[43mtimeout\u001b[49m\u001b[43m,\u001b[49m\n\u001b[1;32m    409\u001b[0m \u001b[43m    \u001b[49m\u001b[43mstream_handler\u001b[49m\u001b[38;5;241;43m=\u001b[39;49m\u001b[43mstream_handler\u001b[49m\u001b[43m,\u001b[49m\n\u001b[1;32m    410\u001b[0m \u001b[43m    \u001b[49m\u001b[43mstore_as\u001b[49m\u001b[38;5;241;43m=\u001b[39;49m\u001b[43mstore_as\u001b[49m\u001b[43m,\u001b[49m\n\u001b[1;32m    411\u001b[0m \u001b[43m    \u001b[49m\u001b[43mplot_dir\u001b[49m\u001b[38;5;241;43m=\u001b[39;49m\u001b[43mplot_dir\u001b[49m\u001b[43m,\u001b[49m\n\u001b[1;32m    412\u001b[0m \u001b[43m\u001b[49m\u001b[43m)\u001b[49m\n",
      "File \u001b[0;32m/usr/local/share/miniconda3/envs/env/lib/python3.10/site-packages/oct2py/core.py:648\u001b[0m, in \u001b[0;36mOct2Py._feval\u001b[0;34m(self, func_name, func_args, dname, nout, timeout, stream_handler, store_as, plot_dir)\u001b[0m\n\u001b[1;32m    646\u001b[0m \u001b[38;5;28;01mif\u001b[39;00m resp[\u001b[38;5;124m\"\u001b[39m\u001b[38;5;124merr\u001b[39m\u001b[38;5;124m\"\u001b[39m]:\n\u001b[1;32m    647\u001b[0m     msg \u001b[38;5;241m=\u001b[39m \u001b[38;5;28mself\u001b[39m\u001b[38;5;241m.\u001b[39m_parse_error(resp[\u001b[38;5;124m\"\u001b[39m\u001b[38;5;124merr\u001b[39m\u001b[38;5;124m\"\u001b[39m])\n\u001b[0;32m--> 648\u001b[0m     \u001b[38;5;28;01mraise\u001b[39;00m Oct2PyError(msg)\n\u001b[1;32m    650\u001b[0m result \u001b[38;5;241m=\u001b[39m resp[\u001b[38;5;124m\"\u001b[39m\u001b[38;5;124mresult\u001b[39m\u001b[38;5;124m\"\u001b[39m]\u001b[38;5;241m.\u001b[39mravel()\u001b[38;5;241m.\u001b[39mtolist()\n\u001b[1;32m    651\u001b[0m \u001b[38;5;28;01mif\u001b[39;00m \u001b[38;5;28misinstance\u001b[39m(result, \u001b[38;5;28mlist\u001b[39m) \u001b[38;5;129;01mand\u001b[39;00m \u001b[38;5;28mlen\u001b[39m(result) \u001b[38;5;241m==\u001b[39m \u001b[38;5;241m1\u001b[39m:\n",
      "\u001b[0;31mOct2PyError\u001b[0m: Octave evaluation error:\nerror: 'timeseriesA' undefined near line 3, column 16\nerror: called from:\n    runsplat at line 3, column 8"
     ]
    }
   ],
   "source": [
    "octave.eval(\"runsplat\")"
   ]
  },
  {
   "cell_type": "code",
   "execution_count": null,
   "id": "8c49ba71-4e17-491f-b332-dd9cfd463bbf",
   "metadata": {},
   "outputs": [],
   "source": [
    "%%octave \n",
    "subsequence_length=800;\n",
    "timeSeriesA = timeSeriesA;\n",
    "timeSeriesB = nan\n",
    "multiresolution = 1;\n",
    "calibration = false\n",
    "display_mplot = true\n",
    "picewise = 0;\n",
    "patch_size = 5000;\n",
    "runsplat()"
   ]
  },
  {
   "cell_type": "code",
   "execution_count": null,
   "id": "19c28c2f-38b2-4480-bd9a-540bb6664c7f",
   "metadata": {},
   "outputs": [],
   "source": [
    "%%octave\n",
    "\n",
    "SPLAT(timeSeriesA, subsequence_length, timeSeriesB, 1, 0, 0);"
   ]
  },
  {
   "cell_type": "code",
   "execution_count": null,
   "id": "b6184721-78cd-4b4f-a1b8-fcb92546dc3c",
   "metadata": {},
   "outputs": [],
   "source": [
    "#--> No funciona en este modo\n",
    "#octave.runsplat()"
   ]
  }
 ],
 "metadata": {
  "kernelspec": {
   "display_name": "Python 3 (ipykernel)",
   "language": "python",
   "name": "python3"
  },
  "language_info": {
   "codemirror_mode": {
    "name": "ipython",
    "version": 3
   },
   "file_extension": ".py",
   "mimetype": "text/x-python",
   "name": "python",
   "nbconvert_exporter": "python",
   "pygments_lexer": "ipython3",
   "version": "3.10.13"
  }
 },
 "nbformat": 4,
 "nbformat_minor": 5
}

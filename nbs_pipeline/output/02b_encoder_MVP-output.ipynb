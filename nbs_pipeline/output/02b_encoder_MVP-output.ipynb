{
 "cells": [
  {
   "cell_type": "code",
   "execution_count": 1,
   "id": "0772dd88-bbee-46b3-859d-d6db0bbeb148",
   "metadata": {
    "editable": true,
    "ploomber": {
     "timestamp_end": 1725539524.138599,
     "timestamp_start": 1725539524.137536
    },
    "slideshow": {
     "slide_type": ""
    },
    "tags": [
     "parameters"
    ]
   },
   "outputs": [],
   "source": [
    "#| export\n",
    "verbose                       = None\n",
    "check_memory_usage            = None\n",
    "time_flag                     = None\n",
    "window_size_percentage        = None\n",
    "show_plots                    = None\n",
    "reset_kernel                  = None\n",
    "pre_configured_case           = None\n",
    "case_id                       = None\n",
    "frequency_factor              = None\n",
    "frequency_factor_change_alias = None\n",
    "check_parameters              = True\n",
    "cuda_device                   = None"
   ]
  },
  {
   "cell_type": "code",
   "execution_count": 2,
   "id": "d61cad6d",
   "metadata": {
    "ploomber": {
     "timestamp_end": 1725539524.139605,
     "timestamp_start": 1725539524.138821
    },
    "tags": [
     "injected-parameters"
    ]
   },
   "outputs": [],
   "source": [
    "# Injected parameters\n",
    "verbose = 0\n",
    "show_plots = False\n",
    "reset_kernel = False\n",
    "pre_configured_case = True\n",
    "case_id = 7\n",
    "frequency_factor = 1\n",
    "frequency_factor_change_alias = True\n",
    "cuda_device = 2\n",
    "check_memory_usage = \"(False,)\"\n",
    "time_flag = \"(False,)\"\n",
    "window_size_percentage = \"(None,)\"\n"
   ]
  },
  {
   "cell_type": "markdown",
   "id": "3d7674d1-7376-457d-bda1-968f4c8a6e04",
   "metadata": {
    "editable": true,
    "slideshow": {
     "slide_type": ""
    },
    "tags": []
   },
   "source": [
    "## Set default input parameter values ensuring no errors\n",
    "### Values explained below in their natural execution place"
   ]
  },
  {
   "cell_type": "code",
   "execution_count": 3,
   "id": "5cb62ce7-315a-4396-ae27-21fa32dc03a2",
   "metadata": {
    "editable": true,
    "ploomber": {
     "timestamp_end": 1725539524.141088,
     "timestamp_start": 1725539524.139794
    },
    "slideshow": {
     "slide_type": ""
    },
    "tags": []
   },
   "outputs": [],
   "source": [
    "#| export\n",
    "verbose                       = 1     if verbose is None else verbose\n",
    "check_memory_usage            = True  if check_memory_usage is None else check_memory_usage\n",
    "time_flag                     = True  if time_flag is None else time_flag\n",
    "window_size_percentage        = False if window_size_percentage is None else window_size_percentage\n",
    "show_plots                    = True if show_plots is None else show_plots\n",
    "reset_kernel                  = False  if reset_kernel is None else reset_kernel\n",
    "pre_configured_case           = True if pre_configured_case is None else pre_configured_case\n",
    "case_id                       = 7 if case_id is None else case_id\n",
    "frequency_factor              = 1 if frequency_factor is None else frequency_factor\n",
    "frequency_factor_change_alias = True if frequency_factor_change_alias is None else frequency_factor_change_alias\n",
    "cuda_device                   = 2 if  cuda_device is None else cuda_device"
   ]
  },
  {
   "cell_type": "code",
   "execution_count": 4,
   "id": "b72e5230-99b5-41ab-b848-02701320f74c",
   "metadata": {
    "editable": true,
    "ploomber": {
     "timestamp_end": 1725539524.142084,
     "timestamp_start": 1725539524.141277
    },
    "slideshow": {
     "slide_type": ""
    },
    "tags": []
   },
   "outputs": [
    {
     "name": "stdout",
     "output_type": "stream",
     "text": [
      "--- Check parameters ---\n",
      "verbose: 0 check_memory_usage (False,) time_flag: (False,) window_size_percentage: (None,) show_plots: False reset_kernel: False pre_configured_case: True case_id: 7 frequency_factor: 1 frequency_factor_change_alias True cuda_device 2\n"
     ]
    }
   ],
   "source": [
    "#| export\n",
    "if check_parameters:\n",
    "    print(\"--- Check parameters ---\")\n",
    "    print(\n",
    "        \"verbose:\", verbose,\n",
    "        \"check_memory_usage\", check_memory_usage,\n",
    "        \"time_flag:\", time_flag,\n",
    "        \"window_size_percentage:\" , window_size_percentage,\n",
    "        \"show_plots:\",show_plots,\n",
    "        \"reset_kernel:\",reset_kernel,\n",
    "        \"pre_configured_case:\",pre_configured_case,\n",
    "        \"case_id:\",case_id,\n",
    "        \"frequency_factor:\", frequency_factor, \n",
    "        \"frequency_factor_change_alias\", frequency_factor_change_alias,\n",
    "        \"cuda_device\", cuda_device\n",
    ")"
   ]
  },
  {
   "cell_type": "markdown",
   "id": "c7b6c9b7-dd2a-4d74-bf5a-cedadcc9347f",
   "metadata": {},
   "source": [
    "# Encoder - MVP\n",
    "\n",
    "> Self supervised learning Masked Value Prediction (MVP) as a way to create the embeddings.\n",
    "Based on tsai's MVP"
   ]
  },
  {
   "cell_type": "markdown",
   "id": "03d63d7b-2b27-4180-9f43-ca9851300300",
   "metadata": {},
   "source": [
    "## Set-up\n",
    "Initial notebook setup and specific debugging and pre-configured cases selection.\n",
    "### VsCode update patch\n",
    "Initial notebook setup when using VSCode."
   ]
  },
  {
   "cell_type": "code",
   "execution_count": 5,
   "id": "185023c6",
   "metadata": {
    "ploomber": {
     "timestamp_end": 1725539524.143232,
     "timestamp_start": 1725539524.142603
    }
   },
   "outputs": [],
   "source": [
    "#| export\n",
    "# This is only needed if the notebook is run in VSCode\n",
    "import sys\n",
    "import dvats.utils as ut\n",
    "if '--vscode' in sys.argv:\n",
    "    print(\"Executing inside vscode\")\n",
    "    ut.DisplayHandle.update = ut.update_patch"
   ]
  },
  {
   "cell_type": "markdown",
   "id": "fbf364a8-70c8-4b35-b8b9-3b0c57c6c135",
   "metadata": {
    "editable": true,
    "slideshow": {
     "slide_type": ""
    },
    "tags": []
   },
   "source": [
    "### Debugging variables\n",
    "\n",
    "- `verbose`. If ` > 0` it adds debbuging messages in those functions that allows so.\n",
    "- `reset_kernel`. If `True` it resets the kernel by the end of the execution. Use only in case that memory management is needed.\n",
    "- `check_memory_usage`. If `True`, it adds some lines for checking the GPU memmory ussage along the execution.\n",
    "- `time_flag`. If `True` it get the execution time along the notebook as well as inside those functions that allows so.\n",
    "- `window_size_percentage`. If `True`, MVP will be used directly with the proposed windows sizes. Otherwise, it will be asumed that they have been taken as absolute values and execution will be take that into account.\n",
    "- `show_plots`. If `True` all plots are shown within the execution of the notebook. Otherwise, none of them will be plotted."
   ]
  },
  {
   "cell_type": "markdown",
   "id": "0393011d-2b66-463c-8607-1eddb975bf65",
   "metadata": {},
   "source": [
    "## Preconfigurated cases selection\n",
    "- `pre_configured_case`. If `True`, a preconfigured case will be selected, forcing the artifact to get the expected configuration based on the information in `config\\*.yml` and `utils\\config.py`.\n",
    "- `case_id`. If `preconfigured_case` is `True`, it forces to select the configuration of the `case_id` preconfigured samples. The available preconfigured samples are shown in the next cell.\n",
    "- `frequency_factor`. If `pre_configured_case` is `True`, frequency will be resampled by `config.freq*frequency_factor`\n",
    "  `frequency_factor_change_alias`. If `pre_configured_case` is `True` and `frequency_factor != 1` then the dataset alias will be modified for adding the new frequency as suffix."
   ]
  },
  {
   "cell_type": "code",
   "execution_count": 6,
   "id": "72ded847-f1d7-4f3d-a199-9602449299e9",
   "metadata": {
    "ploomber": {
     "timestamp_end": 1725539524.143714,
     "timestamp_start": 1725539524.143425
    }
   },
   "outputs": [],
   "source": [
    "#| export\n",
    "import dvats.config as cfg_"
   ]
  },
  {
   "cell_type": "markdown",
   "id": "54333729-4770-4315-9416-e1d8b17d8235",
   "metadata": {},
   "source": [
    "## Main code\n",
    "### Import libraries"
   ]
  },
  {
   "cell_type": "code",
   "execution_count": 7,
   "id": "4a511d12-df7f-420e-b570-f37bc13d1781",
   "metadata": {
    "ploomber": {
     "timestamp_end": 1725539530.130644,
     "timestamp_start": 1725539524.143892
    }
   },
   "outputs": [],
   "source": [
    "#| export\n",
    "import warnings\n",
    "warnings.filterwarnings(\"ignore\", module=\"umap\")\n",
    "import os\n",
    "import sys\n",
    "sys.path.append(os.path.abspath('..'))\n",
    "from dvats.all import *\n",
    "from fastcore.all import *\n",
    "from tsai.basics import *\n",
    "from tsai.models.InceptionTimePlus import *\n",
    "from tsai.callback.MVP import *\n",
    "import matplotlib.colors as colors\n",
    "from fastai.callback.wandb import WandbCallback\n",
    "from fastai.callback.progress import ShowGraphCallback\n",
    "from fastai.callback.schedule import *\n",
    "from fastai.callback.tracker import EarlyStoppingCallback\n",
    "import wandb"
   ]
  },
  {
   "cell_type": "markdown",
   "id": "42a0deb6-ffc2-44ce-aa19-b658a4640b63",
   "metadata": {},
   "source": [
    "### Initialize and Configurate Artifact"
   ]
  },
  {
   "cell_type": "code",
   "execution_count": 8,
   "id": "ec3cf58a-8b57-4f6d-a577-f0643b66ee25",
   "metadata": {
    "ploomber": {
     "timestamp_end": 1725539530.132991,
     "timestamp_start": 1725539530.131461
    }
   },
   "outputs": [],
   "source": [
    "#| export\n",
    "wandb_api = wandb.Api()"
   ]
  },
  {
   "cell_type": "markdown",
   "id": "991646a6-d976-4183-be76-8cf01c25b059",
   "metadata": {},
   "source": [
    "#### Setup CUDA"
   ]
  },
  {
   "cell_type": "code",
   "execution_count": 9,
   "id": "cb164924-13e2-4099-ba35-06e675035d34",
   "metadata": {
    "ploomber": {
     "timestamp_end": 1725539530.249263,
     "timestamp_start": 1725539530.133197
    }
   },
   "outputs": [
    {
     "name": "stdout",
     "output_type": "stream",
     "text": [
      "GPU | Used mem: 0\n",
      "GPU | Used mem: 24\n",
      "GPU | Memory Usage: [\u001b[90m--------------------\u001b[0m] \u001b[90m0%\u001b[0m\n"
     ]
    }
   ],
   "source": [
    "#| export\n",
    "device = torch.device(f'cuda:{cuda_device}' if torch.cuda.is_available() else 'cpu')\n",
    "torch.cuda.set_device(device)\n",
    "if check_memory_usage:\n",
    "    gpu_device = torch.cuda.current_device()\n",
    "    gpu_memory_status(gpu_device)"
   ]
  },
  {
   "cell_type": "markdown",
   "id": "28cb7848-0ac0-4f55-a6e6-49478d7cac25",
   "metadata": {},
   "source": [
    "### Get configutation from yml\n",
    "> This file used the configuration files './config/base.yml' and './config/02b_encoder_MVP.ipynb'"
   ]
  },
  {
   "cell_type": "code",
   "execution_count": 10,
   "id": "5b845205-b133-4ee1-baaf-acc2ddd6533b",
   "metadata": {
    "editable": true,
    "ploomber": {
     "timestamp_end": 1725539530.299365,
     "timestamp_start": 1725539530.251969
    },
    "slideshow": {
     "slide_type": ""
    },
    "tags": []
   },
   "outputs": [],
   "source": [
    "#| export\n",
    "user, project, version, data, config, job_type = cfg_.get_artifact_config_MVP(False)\n",
    "if pre_configured_case: \n",
    "    cfg_.force_artifact_config_mvp(\n",
    "        config = config,\n",
    "        id = case_id,\n",
    "        verbose = verbose, \n",
    "        both = verbose > 0,\n",
    "        frequency_factor = frequency_factor,\n",
    "        frequency_factor_change_alias = frequency_factor_change_alias\n",
    "    )"
   ]
  },
  {
   "cell_type": "markdown",
   "id": "71052bbf-f65b-45ea-aa8f-e3ee665f27ba",
   "metadata": {},
   "source": [
    "### Setup Weights & biases artiffact"
   ]
  },
  {
   "cell_type": "code",
   "execution_count": 11,
   "id": "f30caa23",
   "metadata": {
    "editable": true,
    "ploomber": {
     "timestamp_end": 1725539530.301271,
     "timestamp_start": 1725539530.299773
    },
    "slideshow": {
     "slide_type": ""
    },
    "tags": []
   },
   "outputs": [],
   "source": [
    "#| export\n",
    "path = os.path.expanduser(\"~/work/nbs_pipeline/\")\n",
    "name=\"02a_encoder_MVP\"\n",
    "os.environ[\"WANDB_NOTEBOOK_NAME\"] = path+name+\".ipynb\"\n",
    "runname=name\n",
    "if verbose > 0: print(\"runname: \"+runname)\n",
    "if verbose > 0: cfg_.show_attrdict(config)"
   ]
  },
  {
   "cell_type": "code",
   "execution_count": 12,
   "id": "e4411368-d772-4381-9cc0-5c9b7ea5361a",
   "metadata": {
    "ploomber": {
     "timestamp_end": 1725539542.771626,
     "timestamp_start": 1725539530.301604
    }
   },
   "outputs": [
    {
     "data": {
      "text/html": [
       "Changes to your `wandb` environment variables will be ignored because your `wandb` session has already started. For more information on how to modify your settings with `wandb.init()` arguments, please refer to <a href='https://wandb.me/wandb-init' target=\"_blank\">the W&B docs</a>."
      ],
      "text/plain": [
       "<IPython.core.display.HTML object>"
      ]
     },
     "metadata": {},
     "output_type": "display_data"
    },
    {
     "data": {
      "text/html": [
       "wandb version 0.17.8 is available!  To upgrade, please run:\n",
       " $ pip install wandb --upgrade"
      ],
      "text/plain": [
       "<IPython.core.display.HTML object>"
      ]
     },
     "metadata": {},
     "output_type": "display_data"
    },
    {
     "data": {
      "text/html": [
       "Tracking run with wandb version 0.14.2"
      ],
      "text/plain": [
       "<IPython.core.display.HTML object>"
      ]
     },
     "metadata": {},
     "output_type": "display_data"
    },
    {
     "data": {
      "text/html": [
       "Run data is saved locally in <code>/home/macu/work/wandb/run-20240905_123210-l8adt9na</code>"
      ],
      "text/plain": [
       "<IPython.core.display.HTML object>"
      ]
     },
     "metadata": {},
     "output_type": "display_data"
    },
    {
     "data": {
      "text/html": [
       "Syncing run <strong><a href='https://wandb.ai/mi-santamaria/deepvats/runs/l8adt9na' target=\"_blank\">02a_encoder_MVP</a></strong> to <a href='https://wandb.ai/mi-santamaria/deepvats' target=\"_blank\">Weights & Biases</a> (<a href='https://wandb.me/run' target=\"_blank\">docs</a>)<br/>"
      ],
      "text/plain": [
       "<IPython.core.display.HTML object>"
      ]
     },
     "metadata": {},
     "output_type": "display_data"
    },
    {
     "data": {
      "text/html": [
       " View project at <a href='https://wandb.ai/mi-santamaria/deepvats' target=\"_blank\">https://wandb.ai/mi-santamaria/deepvats</a>"
      ],
      "text/plain": [
       "<IPython.core.display.HTML object>"
      ]
     },
     "metadata": {},
     "output_type": "display_data"
    },
    {
     "data": {
      "text/html": [
       " View run at <a href='https://wandb.ai/mi-santamaria/deepvats/runs/l8adt9na' target=\"_blank\">https://wandb.ai/mi-santamaria/deepvats/runs/l8adt9na</a>"
      ],
      "text/plain": [
       "<IPython.core.display.HTML object>"
      ]
     },
     "metadata": {},
     "output_type": "display_data"
    }
   ],
   "source": [
    "#| export\n",
    "if verbose > 0: print(\"--> Wandb init\")\n",
    "run = wandb.init(\n",
    "    entity = user,\n",
    "    # work-nbs is a place to log draft runs\n",
    "    project=project,\n",
    "    group=config.wandb_group,\n",
    "    job_type=job_type,\n",
    "    allow_val_change=True,\n",
    "    mode=config.analysis_mode,\n",
    "    config=config,\n",
    "    # When use_wandb is false the run is not linked to a personal account\n",
    "    #NOTE: This is not working right now\n",
    "    anonymous = 'never' if config.use_wandb else 'must', \n",
    "    resume=False,\n",
    "    name = runname\n",
    ")\n",
    "if verbose > 0: print(\"Wandb init -->\")\n",
    "config = run.config  # Object for storing hyperparameters\n",
    "artifacts_gettr = run.use_artifact if config.use_wandb else wandb_api.artifact\n"
   ]
  },
  {
   "cell_type": "markdown",
   "id": "9ad0515d-4f2a-4ba6-8c41-a6f480ff6f4b",
   "metadata": {},
   "source": [
    "## Split data using Sliding Window & Get training artiffact"
   ]
  },
  {
   "cell_type": "markdown",
   "id": "b4a82ad4-45ca-4c9e-8d87-aa56f4d2fdd2",
   "metadata": {},
   "source": [
    "### Get W&B train artifact\n",
    "Build artifact selector\n",
    "Botch to use artifacts offline"
   ]
  },
  {
   "cell_type": "code",
   "execution_count": 13,
   "id": "78dced3c-8280-460e-bd11-8188495bf470",
   "metadata": {
    "ploomber": {
     "timestamp_end": 1725539543.331026,
     "timestamp_start": 1725539542.772047
    }
   },
   "outputs": [],
   "source": [
    "#| export\n",
    "config = run.config  # Object for storing hyperparameters\n",
    "if verbose > 0: cfg_.show_attrdict(config)\n",
    "artifacts_gettr = run.use_artifact if config.use_wandb else wandb_api.artifact\n",
    "train_artifact = artifacts_gettr(config.train_artifact)\n",
    "if verbose > 0: print(\"---> W&B Train Artifact\")\n"
   ]
  },
  {
   "cell_type": "code",
   "execution_count": 14,
   "id": "8acf714f-0fe1-4aed-8b57-23ccd31b22fe",
   "metadata": {
    "ploomber": {
     "timestamp_end": 1725539543.767229,
     "timestamp_start": 1725539543.33216
    }
   },
   "outputs": [
    {
     "name": "stderr",
     "output_type": "stream",
     "text": [
      "wandb:   1 of 1 files downloaded.  \n"
     ]
    },
    {
     "data": {
      "text/plain": [
       "(550, 3)"
      ]
     },
     "execution_count": 14,
     "metadata": {},
     "output_type": "execute_result"
    }
   ],
   "source": [
    "#| export\n",
    "import pyarrow.feather as ft\n",
    "df_train = train_artifact.to_df()\n",
    "df_train.shape"
   ]
  },
  {
   "cell_type": "code",
   "execution_count": 15,
   "id": "12a30559-6db8-4dca-a949-1b1fb1650b42",
   "metadata": {
    "ploomber": {
     "timestamp_end": 1725539543.788527,
     "timestamp_start": 1725539543.768351
    }
   },
   "outputs": [
    {
     "name": "stdout",
     "output_type": "stream",
     "text": [
      "(550, 3)\n"
     ]
    },
    {
     "data": {
      "text/html": [
       "<div>\n",
       "<style scoped>\n",
       "    .dataframe tbody tr th:only-of-type {\n",
       "        vertical-align: middle;\n",
       "    }\n",
       "\n",
       "    .dataframe tbody tr th {\n",
       "        vertical-align: top;\n",
       "    }\n",
       "\n",
       "    .dataframe thead th {\n",
       "        text-align: right;\n",
       "    }\n",
       "</style>\n",
       "<table border=\"1\" class=\"dataframe\">\n",
       "  <thead>\n",
       "    <tr style=\"text-align: right;\">\n",
       "      <th></th>\n",
       "      <th>T3</th>\n",
       "      <th>T2</th>\n",
       "      <th>T1</th>\n",
       "    </tr>\n",
       "  </thead>\n",
       "  <tbody>\n",
       "    <tr>\n",
       "      <th>1970-01-01 00:00:00</th>\n",
       "      <td>0.741822</td>\n",
       "      <td>0.637180</td>\n",
       "      <td>0.565117</td>\n",
       "    </tr>\n",
       "    <tr>\n",
       "      <th>1970-01-01 00:00:01</th>\n",
       "      <td>0.739731</td>\n",
       "      <td>0.629415</td>\n",
       "      <td>0.493513</td>\n",
       "    </tr>\n",
       "    <tr>\n",
       "      <th>1970-01-01 00:00:02</th>\n",
       "      <td>0.718757</td>\n",
       "      <td>0.539220</td>\n",
       "      <td>0.469350</td>\n",
       "    </tr>\n",
       "    <tr>\n",
       "      <th>1970-01-01 00:00:03</th>\n",
       "      <td>0.730169</td>\n",
       "      <td>0.577670</td>\n",
       "      <td>0.444100</td>\n",
       "    </tr>\n",
       "    <tr>\n",
       "      <th>1970-01-01 00:00:04</th>\n",
       "      <td>0.752406</td>\n",
       "      <td>0.570180</td>\n",
       "      <td>0.373008</td>\n",
       "    </tr>\n",
       "  </tbody>\n",
       "</table>\n",
       "</div>"
      ],
      "text/plain": [
       "                           T3  ...        T1\n",
       "1970-01-01 00:00:00  0.741822  ...  0.565117\n",
       "1970-01-01 00:00:01  0.739731  ...  0.493513\n",
       "1970-01-01 00:00:02  0.718757  ...  0.469350\n",
       "1970-01-01 00:00:03  0.730169  ...  0.444100\n",
       "1970-01-01 00:00:04  0.752406  ...  0.373008\n",
       "\n",
       "[5 rows x 3 columns]"
      ]
     },
     "metadata": {},
     "output_type": "display_data"
    }
   ],
   "source": [
    "print(df_train.shape)\n",
    "display(df_train.head())"
   ]
  },
  {
   "cell_type": "code",
   "execution_count": 16,
   "id": "b10283f9",
   "metadata": {
    "ploomber": {
     "timestamp_end": 1725539543.790682,
     "timestamp_start": 1725539543.789286
    }
   },
   "outputs": [],
   "source": [
    "#| export\n",
    "if verbose > 0: \n",
    "    print(df_train.shape)\n",
    "    display(df_train.head)\n",
    "    print(\"df_train ~ \", df_train.shape)\n",
    "    print(\"window_sizes = \", config.mvp_ws)\n",
    "    print(\"wlen = \", config.w)\n",
    "    df_train.head"
   ]
  },
  {
   "cell_type": "markdown",
   "id": "30e5e800-ace5-48e9-bb27-d288abfc108e",
   "metadata": {},
   "source": [
    "#### Get training set\n",
    "Once we have build the windows, we can apply strides in order to check have the same structure as when used via sliding window"
   ]
  },
  {
   "cell_type": "code",
   "execution_count": 17,
   "id": "8d25ab5a-b1e6-4eb7-8542-e4dc87f2a883",
   "metadata": {
    "ploomber": {
     "timestamp_end": 1725539543.793584,
     "timestamp_start": 1725539543.790942
    }
   },
   "outputs": [],
   "source": [
    "#| export\n",
    "if verbose > 0: print(\"---> Sliding window | \", config.w,  \" | \", config.stride )\n",
    "sw = SlidingWindow(window_len=config.w, stride=config.stride, get_y=[])\n",
    "if verbose > 0: print(\" Sliding window | \", config.w,  \" | \", config.stride, \"---> | df_train ~ \", df_train.shape )\n",
    "X_train, _ = sw(df_train)\n",
    "if verbose > 0: print(\" sw_df_train | \", config.w,  \" | \", config.stride, \"--->\" )"
   ]
  },
  {
   "cell_type": "markdown",
   "id": "e8154ab5-1001-4b59-bf4a-99dfcc0c8913",
   "metadata": {},
   "source": [
    "### Split training set into training and test dataset"
   ]
  },
  {
   "cell_type": "code",
   "execution_count": 18,
   "id": "bb1e270e-c6a2-4dc0-a54d-8f6fdc7565b1",
   "metadata": {
    "ploomber": {
     "timestamp_end": 1725539543.79604,
     "timestamp_start": 1725539543.793856
    }
   },
   "outputs": [],
   "source": [
    "#| export\n",
    "assert config.analysis_mode in ['offline','online'], 'Invalid analysis mode'\n",
    "\n",
    "X = X_train\n",
    "if verbose > 0: print(\"len(X): \", len(X));\n",
    "if config.analysis_mode == 'online':\n",
    "    if verbose > 0: print(\"--> Split 1\")\n",
    "    splits = TimeSplitter(valid_size=0.2, show_plot=show_plots)(X)\n",
    "elif config.analysis_mode == 'offline':\n",
    "    if verbose > 0: print(\"--> Split 2\")\n",
    "    splits = get_splits(np.arange(len(X)), valid_size=config.valid_size, show_plot = show_plots)\n",
    "if verbose > 0: \n",
    "    print(\"Split -->\", len(splits[0]))\n"
   ]
  },
  {
   "cell_type": "markdown",
   "id": "2fb702b4-8b10-4164-8755-456ffd2759f9",
   "metadata": {},
   "source": [
    "## MVP - Encoder training\n",
    "> Train MVP with optional adaptable window sizes, to allow for inference with different\n",
    "window sizes, to provide an easier exploration of the embedding space through different\n",
    "ways of sliding the data."
   ]
  },
  {
   "cell_type": "markdown",
   "id": "156687d8-27b4-451c-b4ae-d5e6859fce25",
   "metadata": {},
   "source": [
    "### Set callback list"
   ]
  },
  {
   "cell_type": "code",
   "execution_count": 19,
   "id": "c7c3cd99",
   "metadata": {
    "ploomber": {
     "timestamp_end": 1725539543.797452,
     "timestamp_start": 1725539543.796246
    }
   },
   "outputs": [],
   "source": [
    "#| export\n",
    "if verbose > 0: print(\"--> About to set callbacks\")\n",
    "cbs = L(WandbCallback(log_preds=False)) if config.use_wandb else L()"
   ]
  },
  {
   "cell_type": "markdown",
   "id": "31668027-6769-405d-8223-09699a4f1b7f",
   "metadata": {},
   "source": [
    "### Set transformations"
   ]
  },
  {
   "cell_type": "code",
   "execution_count": 20,
   "id": "b97038fe-116f-4d6c-8569-e9a9c015a434",
   "metadata": {
    "ploomber": {
     "timestamp_end": 1725539543.798714,
     "timestamp_start": 1725539543.797656
    }
   },
   "outputs": [],
   "source": [
    "#| export\n",
    "if verbose > 0: print(\"--> About to set batch tfms\")\n",
    "tfms = [ToFloat(), None]\n",
    "batch_tfms = [TSStandardize(by_sample=config.norm_by_sample, \n",
    "               use_single_batch=config.norm_use_single_batch)]"
   ]
  },
  {
   "cell_type": "markdown",
   "id": "496ae849-6b83-4298-9132-b68746b982f8",
   "metadata": {},
   "source": [
    "### Get data loaders"
   ]
  },
  {
   "cell_type": "code",
   "execution_count": 21,
   "id": "668e7b5a",
   "metadata": {
    "ploomber": {
     "timestamp_end": 1725539543.972121,
     "timestamp_start": 1725539543.798919
    }
   },
   "outputs": [],
   "source": [
    "#| export\n",
    "dls = get_ts_dls(X, splits=splits, tfms=tfms, bs=config.batch_size, batch_tfms=batch_tfms)\n",
    "if verbose > 0: print(\"get dls -->\")"
   ]
  },
  {
   "cell_type": "markdown",
   "id": "3b997218-945b-49df-b48e-e83eff7f3463",
   "metadata": {},
   "source": [
    "### Build MVP TS Learner"
   ]
  },
  {
   "cell_type": "code",
   "execution_count": 22,
   "id": "f17ebe25-b894-4674-aed5-32e9d8f284a9",
   "metadata": {
    "ploomber": {
     "timestamp_end": 1725539544.014505,
     "timestamp_start": 1725539543.972854
    }
   },
   "outputs": [
    {
     "name": "stdout",
     "output_type": "stream",
     "text": [
      "\t learn | cbs + MVP\n"
     ]
    }
   ],
   "source": [
    "#| export\n",
    "if not show_plots: #When .py this is the only option that should be available. That's why this is not an 'else' but a exported cell\n",
    "    print(\"\\t learn | cbs + MVP\")\n",
    "    learn = ts_learner(\n",
    "        dls, \n",
    "        InceptionTimePlus, \n",
    "        cbs= cbs + MVP(\n",
    "            r = config.r, \n",
    "            window_size=config.mvp_ws, \n",
    "            future_mask = config.mask_future, \n",
    "            target_dir='./models', \n",
    "            sync = config.mask_sync, \n",
    "            stateful = config.mask_stateful,\n",
    "            fname=f'encoder_MVP'\n",
    "        ), y_range=[X.min(), X.max()])\n",
    "    \n",
    "if verbose > 0: print(\"learn -->\")"
   ]
  },
  {
   "cell_type": "markdown",
   "id": "675240ed-a3b9-4a8d-b5cb-41c48b68909c",
   "metadata": {},
   "source": [
    "### Example mask"
   ]
  },
  {
   "cell_type": "markdown",
   "id": "a74c923f-31e8-49f2-b3d9-8b1fe370bcc6",
   "metadata": {},
   "source": [
    "#### Create mask"
   ]
  },
  {
   "cell_type": "markdown",
   "id": "e58d81f4-2d4a-484c-bf9b-88ccab1cd4d6",
   "metadata": {},
   "source": [
    "#### Show mask"
   ]
  },
  {
   "cell_type": "markdown",
   "id": "2ffb64be-3389-4f2b-997d-a8799e1a5469",
   "metadata": {},
   "source": [
    " ## Check window size configuration"
   ]
  },
  {
   "cell_type": "markdown",
   "id": "9d63c043-6d89-47f6-a579-2f028980237e",
   "metadata": {},
   "source": [
    "### Check config attributes"
   ]
  },
  {
   "cell_type": "code",
   "execution_count": 23,
   "id": "ab1d5cc8-fac5-4f9d-bbd9-4083c2c60d8a",
   "metadata": {
    "ploomber": {
     "timestamp_end": 1725539544.016169,
     "timestamp_start": 1725539544.015168
    }
   },
   "outputs": [],
   "source": [
    "#| export\n",
    "expected_window_size = config.mvp_ws"
   ]
  },
  {
   "cell_type": "markdown",
   "id": "21896f59-e2a0-434f-9437-aa958f90fb67",
   "metadata": {},
   "source": [
    "### Check obtained attributes"
   ]
  },
  {
   "cell_type": "code",
   "execution_count": 24,
   "id": "385e5d4c-84de-440c-9572-8688951c2873",
   "metadata": {
    "ploomber": {
     "timestamp_end": 1725539544.017533,
     "timestamp_start": 1725539544.016437
    }
   },
   "outputs": [],
   "source": [
    "#| export\n",
    "mvp_cb = learn.cbs.filter(lambda cb: isinstance(cb, MVP))[0]  # Encuentra el callback MVP\n",
    "obtained_window_size=mvp_cb.window_size"
   ]
  },
  {
   "cell_type": "code",
   "execution_count": 25,
   "id": "ce3a3112-ba6b-4756-9ce1-e15e4c2af1fd",
   "metadata": {
    "ploomber": {
     "timestamp_end": 1725539544.018727,
     "timestamp_start": 1725539544.017751
    }
   },
   "outputs": [
    {
     "name": "stdout",
     "output_type": "stream",
     "text": [
      "Obtained window size tuple is the expected one. Continue!\n"
     ]
    }
   ],
   "source": [
    "#| export\n",
    "if (expected_window_size != obtained_window_size):\n",
    "    raise ValueError(\"Obtained window_size for MVP training different from expected window size. Check size, ws1 & ws2 parameters in '02b-encoder_MVP.yaml'\")\n",
    "else: \n",
    "    print(\"Obtained window size tuple is the expected one. Continue!\")"
   ]
  },
  {
   "cell_type": "markdown",
   "id": "bcc784e8-59a1-45e9-8af1-b61ba01a9fc6",
   "metadata": {},
   "source": [
    "#### Check w1 < w2 for MVP random window size selection"
   ]
  },
  {
   "cell_type": "code",
   "execution_count": 26,
   "id": "9272a132-9026-419c-81b0-d16d03894f70",
   "metadata": {
    "ploomber": {
     "timestamp_end": 1725539544.020374,
     "timestamp_start": 1725539544.01921
    }
   },
   "outputs": [],
   "source": [
    "#| export\n",
    "if (obtained_window_size[1] < obtained_window_size[0]):\n",
    "    raise ValueError(\"Ws2 must be greater than Ws1 as they are the maximun and minimum window size respectively. Please ensure w2 > w1\")\n",
    "else: \n",
    "    w_sizes = np.random.randint(obtained_window_size)"
   ]
  },
  {
   "cell_type": "markdown",
   "id": "f16a4a5f-23ba-46a0-abd4-f9854356c3a9",
   "metadata": {},
   "source": [
    "#### Check self.x.shape[-1] for np.random.randint(0, self.x.shape[-1] - ws) MVP calculus"
   ]
  },
  {
   "cell_type": "code",
   "execution_count": 27,
   "id": "437a49d0-7ee1-4519-a871-b4f82f94c1a4",
   "metadata": {
    "ploomber": {
     "timestamp_end": 1725539544.023667,
     "timestamp_start": 1725539544.020584
    }
   },
   "outputs": [],
   "source": [
    "#| export\n",
    "#Get data batch\n",
    "x = next(iter(dls.train))\n",
    "if verbose > 0: print(\"x\", x)\n",
    "x_data=x[0]\n",
    "if verbose > 0: print(\"Data shape: \" + str( x_data.shape))\n",
    "time_serie_len = x_data.shape[-1]\n",
    "if verbose > 0: print(\"Time serie len: \" + str( time_serie_len))\n",
    "#Just in case\n",
    "for ws in w_sizes:\n",
    "    diff = time_serie_len - ws\n",
    "    if verbose > 0: print(\"diff time serie len - ws\", diff)\n",
    "    result = np.random.randint(0, diff)\n",
    "    if verbose > 0: print(\"ws \", ws, \"diff\", diff, \"result\",  result)"
   ]
  },
  {
   "cell_type": "markdown",
   "id": "05917f56-5e62-4e45-b546-5996a72106bd",
   "metadata": {},
   "source": [
    "### Train the model"
   ]
  },
  {
   "cell_type": "code",
   "execution_count": 28,
   "id": "9c155928-deb5-4aca-b337-fe6a29bca0bc",
   "metadata": {
    "ploomber": {
     "timestamp_end": 1725539544.025749,
     "timestamp_start": 1725539544.023889
    }
   },
   "outputs": [
    {
     "data": {
      "text/plain": [
       "1725539544.0246334"
      ]
     },
     "execution_count": 28,
     "metadata": {},
     "output_type": "execute_result"
    }
   ],
   "source": [
    "timer = ut.Time()\n",
    "timer.start()"
   ]
  },
  {
   "cell_type": "code",
   "execution_count": 29,
   "id": "610dd97f-1cb2-4364-9748-db882ac6162a",
   "metadata": {
    "ploomber": {
     "timestamp_end": 1725539561.510919,
     "timestamp_start": 1725539544.025968
    }
   },
   "outputs": [
    {
     "name": "stdout",
     "output_type": "stream",
     "text": [
      "█\r",
      "█\r",
      "\r",
      "Epoch 1/8 : || 0.00% [0/13 00:00<?]\r",
      "\r",
      "Epoch 1/8 : || 7.69% [1/13 00:00<00:03]\r",
      "\r",
      "Epoch 1/8 : || 15.38% [2/13 00:00<00:02 1.4404]\r",
      "\r",
      "Epoch 1/8 : || 23.08% [3/13 00:00<00:01 1.4930]\r",
      "\r",
      "Epoch 1/8 : || 30.77% [4/13 00:00<00:00 1.4332]\r",
      "\r",
      "Epoch 1/8 : || 38.46% [5/13 00:00<00:00 1.4269]\r",
      "\r",
      "Epoch 1/8 : || 53.85% [7/13 00:00<00:00 1.4262]\r",
      "\r",
      "Epoch 1/8 : || 69.23% [9/13 00:00<00:00 1.4552]\r",
      "\r",
      "Epoch 1/8 : || 84.62% [11/13 00:00<00:00 1.4384]\r",
      "\r",
      "Epoch 1/8 : || 100.00% [13/13 00:00<00:00 1.4279]\r",
      "\r",
      "Epoch 1/8 :                                      \r",
      "\r",
      "Epoch 1/8 :                                      \r",
      "█\r",
      "\r",
      "Epoch 1/8 : || 0.00% [0/4 00:00<?]\r",
      "\r",
      "Epoch 1/8 :                       \r",
      "█\r",
      "\r",
      "Epoch 2/8 : || 0.00% [0/13 00:00<?]\r",
      "\r",
      "Epoch 2/8 : || 7.69% [1/13 00:00<00:00]\r",
      "\r",
      "Epoch 2/8 : || 15.38% [2/13 00:00<00:00 1.4174]\r",
      "\r",
      "Epoch 2/8 : || 23.08% [3/13 00:00<00:00 1.4196]\r",
      "\r",
      "Epoch 2/8 : || 30.77% [4/13 00:00<00:00 1.4149]\r",
      "\r",
      "Epoch 2/8 : || 38.46% [5/13 00:00<00:00 1.4147]\r",
      "\r",
      "Epoch 2/8 : || 76.92% [10/13 00:00<00:00 1.3979]\r",
      "\r",
      "Epoch 2/8 : || 100.00% [13/13 00:00<00:00 1.3793]\r",
      "\r",
      "Epoch 2/8 :                                      \r",
      "\r",
      "Epoch 2/8 :                                      \r",
      "█\r",
      "\r",
      "Epoch 2/8 : || 0.00% [0/4 00:00<?]\r",
      "\r",
      "Epoch 2/8 :                       \r",
      "█\r",
      "\r",
      "Epoch 3/8 : || 0.00% [0/13 00:00<?]\r",
      "\r",
      "Epoch 3/8 : || 7.69% [1/13 00:00<00:00]\r",
      "\r",
      "Epoch 3/8 : || 15.38% [2/13 00:00<00:00 1.3827]\r",
      "\r",
      "Epoch 3/8 : || 23.08% [3/13 00:00<00:00 1.3804]\r",
      "\r",
      "Epoch 3/8 : || 30.77% [4/13 00:00<00:00 1.3772]\r",
      "\r",
      "Epoch 3/8 : || 38.46% [5/13 00:00<00:00 1.3702]\r",
      "\r",
      "Epoch 3/8 : || 84.62% [11/13 00:00<00:00 1.3243]\r",
      "\r",
      "Epoch 3/8 : || 100.00% [13/13 00:00<00:00 1.3073]\r",
      "\r",
      "Epoch 3/8 :                                      \r",
      "\r",
      "Epoch 3/8 :                                      \r",
      "█\r",
      "\r",
      "Epoch 3/8 : || 0.00% [0/4 00:00<?]\r",
      "\r",
      "Epoch 3/8 :                       \r",
      "█\r",
      "\r",
      "Epoch 4/8 : || 0.00% [0/13 00:00<?]\r",
      "\r",
      "Epoch 4/8 : || 7.69% [1/13 00:00<00:00]\r",
      "\r",
      "Epoch 4/8 : || 15.38% [2/13 00:00<00:00 1.2756]\r",
      "\r",
      "Epoch 4/8 : || 23.08% [3/13 00:00<00:00 1.2534]\r",
      "\r",
      "Epoch 4/8 : || 30.77% [4/13 00:00<00:00 1.2342]\r",
      "\r",
      "Epoch 4/8 : || 38.46% [5/13 00:00<00:00 1.2159]\r",
      "\r",
      "Epoch 4/8 : || 84.62% [11/13 00:00<00:00 1.1046]\r",
      "\r",
      "Epoch 4/8 : || 100.00% [13/13 00:00<00:00 1.0668]\r",
      "\r",
      "Epoch 4/8 :                                      \r",
      "\r",
      "Epoch 4/8 :                                      \r",
      "█\r",
      "\r",
      "Epoch 4/8 : || 0.00% [0/4 00:00<?]\r",
      "\r",
      "Epoch 4/8 :                       \r",
      "█\r",
      "\r",
      "Epoch 5/8 : || 0.00% [0/13 00:00<?]\r",
      "\r",
      "Epoch 5/8 : || 7.69% [1/13 00:00<00:00]\r",
      "\r",
      "Epoch 5/8 : || 15.38% [2/13 00:00<00:00 1.0255]\r",
      "\r",
      "Epoch 5/8 : || 23.08% [3/13 00:00<00:00 1.0045]\r",
      "\r",
      "Epoch 5/8 : || 30.77% [4/13 00:00<00:00 0.9842]\r",
      "\r",
      "Epoch 5/8 : || 38.46% [5/13 00:00<00:00 0.9642]\r",
      "\r",
      "Epoch 5/8 : || 84.62% [11/13 00:00<00:00 0.8553]\r",
      "\r",
      "Epoch 5/8 : || 100.00% [13/13 00:00<00:00 0.8262]\r",
      "\r",
      "Epoch 5/8 :                                      \r",
      "\r",
      "Epoch 5/8 :                                      \r",
      "█\r",
      "\r",
      "Epoch 5/8 : || 0.00% [0/4 00:00<?]\r",
      "\r",
      "Epoch 5/8 :                       \r",
      "█\r",
      "\r",
      "Epoch 6/8 : || 0.00% [0/13 00:00<?]\r",
      "\r",
      "Epoch 6/8 : || 7.69% [1/13 00:00<00:00]\r",
      "\r",
      "Epoch 6/8 : || 15.38% [2/13 00:00<00:00 0.7972]\r",
      "\r",
      "Epoch 6/8 : || 23.08% [3/13 00:00<00:00 0.7841]\r",
      "\r",
      "Epoch 6/8 : || 30.77% [4/13 00:00<00:00 0.7701]\r",
      "\r",
      "Epoch 6/8 : || 38.46% [5/13 00:00<00:00 0.7563]\r",
      "\r",
      "Epoch 6/8 : || 84.62% [11/13 00:00<00:00 0.6876]\r",
      "\r",
      "Epoch 6/8 : || 100.00% [13/13 00:00<00:00 0.6689]\r",
      "\r",
      "Epoch 6/8 :                                      \r",
      "\r",
      "Epoch 6/8 :                                      \r",
      "█\r",
      "\r",
      "Epoch 6/8 : || 0.00% [0/4 00:00<?]\r",
      "\r",
      "Epoch 6/8 :                       \r",
      "█\r",
      "\r",
      "Epoch 7/8 : || 0.00% [0/13 00:00<?]\r",
      "\r",
      "Epoch 7/8 : || 7.69% [1/13 00:00<00:00]\r",
      "\r",
      "Epoch 7/8 : || 15.38% [2/13 00:00<00:00 0.6496]\r",
      "\r",
      "Epoch 7/8 : || 23.08% [3/13 00:00<00:00 0.6406]\r",
      "\r",
      "Epoch 7/8 : || 30.77% [4/13 00:00<00:00 0.6311]\r",
      "\r",
      "Epoch 7/8 : || 38.46% [5/13 00:00<00:00 0.6204]\r",
      "\r",
      "Epoch 7/8 : || 76.92% [10/13 00:00<00:00 0.5770]\r",
      "\r",
      "Epoch 7/8 : || 100.00% [13/13 00:00<00:00 0.5548]\r",
      "\r",
      "Epoch 7/8 :                                      \r",
      "\r",
      "Epoch 7/8 :                                      \r",
      "█\r",
      "\r",
      "Epoch 7/8 : || 0.00% [0/4 00:00<?]\r",
      "\r",
      "Epoch 7/8 :                       \r",
      "█\r",
      "\r",
      "Epoch 8/8 : || 0.00% [0/13 00:00<?]\r",
      "\r",
      "Epoch 8/8 : || 7.69% [1/13 00:00<00:00]\r",
      "\r",
      "Epoch 8/8 : || 15.38% [2/13 00:00<00:00 0.5387]\r",
      "\r",
      "Epoch 8/8 : || 23.08% [3/13 00:00<00:00 0.5340]\r",
      "\r",
      "Epoch 8/8 : || 30.77% [4/13 00:00<00:00 0.5295]\r",
      "\r",
      "Epoch 8/8 : || 38.46% [5/13 00:00<00:00 0.5262]\r",
      "█\r",
      "epoch     train_loss  valid_loss  time    \n",
      "█\r",
      "\r",
      "Epoch 1/100 : || 0.00% [0/13 00:00<?]\r",
      "\r",
      "Epoch 1/100 : || 7.69% [1/13 00:00<00:00]\r",
      "\r",
      "Epoch 1/100 : || 15.38% [2/13 00:00<00:00 1.3429]\r",
      "\r",
      "Epoch 1/100 : || 23.08% [3/13 00:00<00:00 1.3242]\r",
      "\r",
      "Epoch 1/100 : || 30.77% [4/13 00:00<00:00 1.3254]\r",
      "\r",
      "Epoch 1/100 : || 38.46% [5/13 00:00<00:00 1.2586]\r",
      "\r",
      "Epoch 1/100 : || 84.62% [11/13 00:00<00:00 1.0619]\r",
      "\r",
      "Epoch 1/100 : || 100.00% [13/13 00:00<00:00 0.9913]\r",
      "\r",
      "Epoch 1/100 :                                      \r",
      "\r",
      "Epoch 1/100 :                                      \r",
      "█\r",
      "\r",
      "Epoch 1/100 : || 0.00% [0/4 00:00<?]\r",
      "\r",
      "Epoch 1/100 : || 25.00% [1/4 00:00<00:00]\r",
      "\r",
      "Epoch 1/100 : || 50.00% [2/4 00:00<00:00 0.9662]\r",
      "\r",
      "Epoch 1/100 : || 75.00% [3/4 00:00<00:00 0.9662]\r",
      "\r",
      "Epoch 1/100 : || 100.00% [4/4 00:00<00:00 0.9662]\r",
      "\r",
      "Epoch 1/100 :                                    \r",
      "\r",
      "Epoch 1/100 :                                    \r",
      "0         0.966218    1.358849    00:00     \n",
      "█\r",
      "\r",
      "Epoch 2/100 : || 0.00% [0/13 00:00<?]\r",
      "\r",
      "Epoch 2/100 : || 7.69% [1/13 00:00<00:00]\r",
      "\r",
      "Epoch 2/100 : || 15.38% [2/13 00:00<00:00 0.9380]\r",
      "\r",
      "Epoch 2/100 : || 23.08% [3/13 00:00<00:00 0.9246]\r",
      "\r",
      "Epoch 2/100 : || 30.77% [4/13 00:00<00:00 0.9067]\r",
      "\r",
      "Epoch 2/100 : || 38.46% [5/13 00:00<00:00 0.8840]\r",
      "\r",
      "Epoch 2/100 : || 84.62% [11/13 00:00<00:00 0.7818]\r",
      "\r",
      "Epoch 2/100 : || 100.00% [13/13 00:00<00:00 0.7579]\r",
      "\r",
      "Epoch 2/100 :                                      \r",
      "\r",
      "Epoch 2/100 :                                      \r",
      "█\r",
      "\r",
      "Epoch 2/100 : || 0.00% [0/4 00:00<?]\r",
      "\r",
      "Epoch 2/100 : || 25.00% [1/4 00:00<00:00]\r",
      "\r",
      "Epoch 2/100 : || 50.00% [2/4 00:00<00:00 0.7493]\r",
      "\r",
      "Epoch 2/100 : || 75.00% [3/4 00:00<00:00 0.7493]\r",
      "\r",
      "Epoch 2/100 : || 100.00% [4/4 00:00<00:00 0.7493]\r",
      "\r",
      "Epoch 2/100 :                                    \r",
      "\r",
      "Epoch 2/100 :                                    \r",
      "1         0.749280    1.103490    00:00     \n",
      "█\r",
      "\r",
      "Epoch 3/100 : || 0.00% [0/13 00:00<?]\r",
      "\r",
      "Epoch 3/100 : || 7.69% [1/13 00:00<00:00]\r",
      "\r",
      "Epoch 3/100 : || 15.38% [2/13 00:00<00:00 0.7401]\r",
      "\r",
      "Epoch 3/100 : || 23.08% [3/13 00:00<00:00 0.7248]\r",
      "\r",
      "Epoch 3/100 : || 30.77% [4/13 00:00<00:00 0.7166]\r",
      "\r",
      "Epoch 3/100 : || 38.46% [5/13 00:00<00:00 0.7131]\r",
      "\r",
      "Epoch 3/100 : || 84.62% [11/13 00:00<00:00 0.6484]\r",
      "\r",
      "Epoch 3/100 : || 100.00% [13/13 00:00<00:00 0.6321]\r",
      "\r",
      "Epoch 3/100 :                                      \r",
      "\r",
      "Epoch 3/100 :                                      \r",
      "█\r",
      "\r",
      "Epoch 3/100 : || 0.00% [0/4 00:00<?]\r",
      "\r",
      "Epoch 3/100 : || 25.00% [1/4 00:00<00:00]\r",
      "\r",
      "Epoch 3/100 : || 50.00% [2/4 00:00<00:00 0.6224]\r",
      "\r",
      "Epoch 3/100 : || 75.00% [3/4 00:00<00:00 0.6224]\r",
      "\r",
      "Epoch 3/100 : || 100.00% [4/4 00:00<00:00 0.6224]\r",
      "\r",
      "Epoch 3/100 :                                    \r",
      "\r",
      "Epoch 3/100 :                                    \r",
      "2         0.622443    0.700138    00:00     \n",
      "█\r",
      "\r",
      "Epoch 4/100 : || 0.00% [0/13 00:00<?]\r",
      "\r",
      "Epoch 4/100 : || 7.69% [1/13 00:00<00:00]\r",
      "\r",
      "Epoch 4/100 : || 15.38% [2/13 00:00<00:00 0.6143]\r",
      "\r",
      "Epoch 4/100 : || 23.08% [3/13 00:00<00:00 0.6047]\r",
      "\r",
      "Epoch 4/100 : || 30.77% [4/13 00:00<00:00 0.5957]\r",
      "\r",
      "Epoch 4/100 : || 38.46% [5/13 00:00<00:00 0.5872]\r",
      "\r",
      "Epoch 4/100 : || 84.62% [11/13 00:00<00:00 0.5417]\r",
      "\r",
      "Epoch 4/100 : || 100.00% [13/13 00:00<00:00 0.5255]\r",
      "\r",
      "Epoch 4/100 :                                      \r",
      "\r",
      "Epoch 4/100 :                                      \r",
      "█\r",
      "\r",
      "Epoch 4/100 : || 0.00% [0/4 00:00<?]\r",
      "\r",
      "Epoch 4/100 : || 25.00% [1/4 00:00<00:00]\r",
      "\r",
      "Epoch 4/100 : || 50.00% [2/4 00:00<00:00 0.5210]\r",
      "\r",
      "Epoch 4/100 : || 75.00% [3/4 00:00<00:00 0.5210]\r",
      "\r",
      "Epoch 4/100 : || 100.00% [4/4 00:00<00:00 0.5210]\r",
      "\r",
      "Epoch 4/100 :                                    \r",
      "\r",
      "Epoch 4/100 :                                    \r",
      "3         0.521025    0.630442    00:00     \n",
      "█\r",
      "\r",
      "Epoch 5/100 : || 0.00% [0/13 00:00<?]\r",
      "\r",
      "Epoch 5/100 : || 7.69% [1/13 00:00<00:00]\r",
      "\r",
      "Epoch 5/100 : || 15.38% [2/13 00:00<00:00 0.5136]\r",
      "\r",
      "Epoch 5/100 : || 23.08% [3/13 00:00<00:00 0.5052]\r",
      "\r",
      "Epoch 5/100 : || 30.77% [4/13 00:00<00:00 0.4992]\r",
      "\r",
      "Epoch 5/100 : || 38.46% [5/13 00:00<00:00 0.4946]\r",
      "\r",
      "Epoch 5/100 : || 84.62% [11/13 00:00<00:00 0.4619]\r",
      "\r",
      "Epoch 5/100 : || 100.00% [13/13 00:00<00:00 0.4514]\r",
      "\r",
      "Epoch 5/100 :                                      \r",
      "\r",
      "Epoch 5/100 :                                      \r",
      "█\r",
      "\r",
      "Epoch 5/100 : || 0.00% [0/4 00:00<?]\r",
      "\r",
      "Epoch 5/100 : || 25.00% [1/4 00:00<00:00]\r",
      "\r",
      "Epoch 5/100 : || 50.00% [2/4 00:00<00:00 0.4472]\r",
      "\r",
      "Epoch 5/100 : || 75.00% [3/4 00:00<00:00 0.4472]\r",
      "\r",
      "Epoch 5/100 : || 100.00% [4/4 00:00<00:00 0.4472]\r",
      "\r",
      "Epoch 5/100 :                                    \r",
      "\r",
      "Epoch 5/100 :                                    \r",
      "4         0.447246    0.698389    00:00     \n",
      "█\r",
      "\r",
      "Epoch 6/100 : || 0.00% [0/13 00:00<?]\r",
      "\r",
      "Epoch 6/100 : || 7.69% [1/13 00:00<00:00]\r",
      "\r",
      "Epoch 6/100 : || 15.38% [2/13 00:00<00:00 0.4429]\r",
      "\r",
      "Epoch 6/100 : || 23.08% [3/13 00:00<00:00 0.4361]\r",
      "\r",
      "Epoch 6/100 : || 30.77% [4/13 00:00<00:00 0.4315]\r",
      "\r",
      "Epoch 6/100 : || 38.46% [5/13 00:00<00:00 0.4299]\r",
      "\r",
      "Epoch 6/100 : || 84.62% [11/13 00:00<00:00 0.4072]\r",
      "\r",
      "Epoch 6/100 : || 100.00% [13/13 00:00<00:00 0.4007]\r",
      "\r",
      "Epoch 6/100 :                                      \r",
      "\r",
      "Epoch 6/100 :                                      \r",
      "█\r",
      "\r",
      "Epoch 6/100 : || 0.00% [0/4 00:00<?]\r",
      "\r",
      "Epoch 6/100 : || 25.00% [1/4 00:00<00:00]\r",
      "\r",
      "Epoch 6/100 : || 50.00% [2/4 00:00<00:00 0.3961]\r",
      "\r",
      "Epoch 6/100 : || 75.00% [3/4 00:00<00:00 0.3961]\r",
      "\r",
      "Epoch 6/100 : || 100.00% [4/4 00:00<00:00 0.3961]\r",
      "\r",
      "Epoch 6/100 :                                    \r",
      "\r",
      "Epoch 6/100 :                                    \r",
      "5         0.396068    0.813869    00:00     \n",
      "█\r",
      "\r",
      "Epoch 7/100 : || 0.00% [0/13 00:00<?]\r",
      "\r",
      "Epoch 7/100 : || 7.69% [1/13 00:00<00:00]\r",
      "\r",
      "Epoch 7/100 : || 15.38% [2/13 00:00<00:00 0.3932]\r",
      "\r",
      "Epoch 7/100 : || 23.08% [3/13 00:00<00:00 0.3897]\r",
      "\r",
      "Epoch 7/100 : || 30.77% [4/13 00:00<00:00 0.3852]\r",
      "\r",
      "Epoch 7/100 : || 38.46% [5/13 00:00<00:00 0.3814]\r",
      "\r",
      "Epoch 7/100 : || 84.62% [11/13 00:00<00:00 0.3607]\r",
      "\r",
      "Epoch 7/100 : || 100.00% [13/13 00:00<00:00 0.3540]\r",
      "\r",
      "Epoch 7/100 :                                      \r",
      "\r",
      "Epoch 7/100 :                                      \r",
      "█\r",
      "\r",
      "Epoch 7/100 : || 0.00% [0/4 00:00<?]\r",
      "\r",
      "Epoch 7/100 : || 25.00% [1/4 00:00<00:00]\r",
      "\r",
      "Epoch 7/100 : || 50.00% [2/4 00:00<00:00 0.3516]\r",
      "\r",
      "Epoch 7/100 : || 75.00% [3/4 00:00<00:00 0.3516]\r",
      "\r",
      "Epoch 7/100 : || 100.00% [4/4 00:00<00:00 0.3516]\r",
      "\r",
      "Epoch 7/100 :                                    \r",
      "\r",
      "Epoch 7/100 :                                    \r",
      "6         0.351569    1.027597    00:00     \n",
      "█\r",
      "\r",
      "Epoch 8/100 : || 0.00% [0/13 00:00<?]\r",
      "\r",
      "Epoch 8/100 : || 7.69% [1/13 00:00<00:00]\r",
      "\r",
      "Epoch 8/100 : || 15.38% [2/13 00:00<00:00 0.3495]\r",
      "\r",
      "Epoch 8/100 : || 23.08% [3/13 00:00<00:00 0.3480]\r",
      "\r",
      "Epoch 8/100 : || 30.77% [4/13 00:00<00:00 0.3443]\r",
      "\r",
      "Epoch 8/100 : || 38.46% [5/13 00:00<00:00 0.3421]\r",
      "\r",
      "Epoch 8/100 : || 84.62% [11/13 00:00<00:00 0.3265]\r",
      "\r",
      "Epoch 8/100 : || 100.00% [13/13 00:00<00:00 0.3217]\r",
      "\r",
      "Epoch 8/100 :                                      \r",
      "\r",
      "Epoch 8/100 :                                      \r",
      "█\r",
      "\r",
      "Epoch 8/100 : || 0.00% [0/4 00:00<?]\r",
      "\r",
      "Epoch 8/100 : || 25.00% [1/4 00:00<00:00]\r",
      "\r",
      "Epoch 8/100 : || 50.00% [2/4 00:00<00:00 0.3196]\r",
      "\r",
      "Epoch 8/100 : || 75.00% [3/4 00:00<00:00 0.3196]\r",
      "\r",
      "Epoch 8/100 : || 100.00% [4/4 00:00<00:00 0.3196]\r",
      "\r",
      "Epoch 8/100 :                                    \r",
      "\r",
      "Epoch 8/100 :                                    \r",
      "7         0.319636    1.191193    00:00     \n",
      "█\r",
      "\r",
      "Epoch 9/100 : || 0.00% [0/13 00:00<?]\r",
      "\r",
      "Epoch 9/100 : || 7.69% [1/13 00:00<00:00]\r",
      "\r",
      "Epoch 9/100 : || 15.38% [2/13 00:00<00:00 0.3166]\r",
      "\r",
      "Epoch 9/100 : || 23.08% [3/13 00:00<00:00 0.3150]\r",
      "\r",
      "Epoch 9/100 : || 30.77% [4/13 00:00<00:00 0.3124]\r",
      "\r",
      "Epoch 9/100 : || 38.46% [5/13 00:00<00:00 0.3110]\r",
      "\r",
      "Epoch 9/100 : || 76.92% [10/13 00:00<00:00 0.2980]\r",
      "\r",
      "Epoch 9/100 : || 100.00% [13/13 00:00<00:00 0.2923]\r",
      "\r",
      "Epoch 9/100 :                                      \r",
      "\r",
      "Epoch 9/100 :                                      \r",
      "█\r",
      "\r",
      "Epoch 9/100 : || 0.00% [0/4 00:00<?]\r",
      "\r",
      "Epoch 9/100 : || 25.00% [1/4 00:00<00:00]\r",
      "\r",
      "Epoch 9/100 : || 50.00% [2/4 00:00<00:00 0.2901]\r",
      "\r",
      "Epoch 9/100 : || 75.00% [3/4 00:00<00:00 0.2901]\r",
      "\r",
      "Epoch 9/100 : || 100.00% [4/4 00:00<00:00 0.2901]\r",
      "\r",
      "Epoch 9/100 :                                    \r",
      "\r",
      "Epoch 9/100 :                                    \r",
      "8         0.290077    0.578304    00:00     \n",
      "█\r",
      "\r",
      "Epoch 10/100 : || 0.00% [0/13 00:00<?]\r",
      "\r",
      "Epoch 10/100 : || 7.69% [1/13 00:00<00:00]\r",
      "\r",
      "Epoch 10/100 : || 15.38% [2/13 00:00<00:00 0.2889]\r",
      "\r",
      "Epoch 10/100 : || 23.08% [3/13 00:00<00:00 0.2873]\r",
      "\r",
      "Epoch 10/100 : || 30.77% [4/13 00:00<00:00 0.2857]\r",
      "\r",
      "Epoch 10/100 : || 38.46% [5/13 00:00<00:00 0.2839]\r",
      "\r",
      "Epoch 10/100 : || 84.62% [11/13 00:00<00:00 0.2739]\r",
      "\r",
      "Epoch 10/100 : || 100.00% [13/13 00:00<00:00 0.2699]\r",
      "\r",
      "Epoch 10/100 :                                      \r",
      "\r",
      "Epoch 10/100 :                                      \r",
      "█\r",
      "\r",
      "Epoch 10/100 : || 0.00% [0/4 00:00<?]\r",
      "\r",
      "Epoch 10/100 : || 25.00% [1/4 00:00<00:00]\r",
      "\r",
      "Epoch 10/100 : || 50.00% [2/4 00:00<00:00 0.2696]\r",
      "\r",
      "Epoch 10/100 : || 75.00% [3/4 00:00<00:00 0.2696]\r",
      "\r",
      "Epoch 10/100 : || 100.00% [4/4 00:00<00:00 0.2696]\r",
      "\r",
      "Epoch 10/100 :                                    \r",
      "\r",
      "Epoch 10/100 :                                    \r",
      "9         0.269592    0.653661    00:00     \n",
      "█\r",
      "\r",
      "Epoch 11/100 : || 0.00% [0/13 00:00<?]\r",
      "\r",
      "Epoch 11/100 : || 7.69% [1/13 00:00<00:00]\r",
      "\r",
      "Epoch 11/100 : || 15.38% [2/13 00:00<00:00 0.2675]\r",
      "\r",
      "Epoch 11/100 : || 23.08% [3/13 00:00<00:00 0.2652]\r",
      "\r",
      "Epoch 11/100 : || 30.77% [4/13 00:00<00:00 0.2636]\r",
      "\r",
      "Epoch 11/100 : || 38.46% [5/13 00:00<00:00 0.2636]\r",
      "\r",
      "Epoch 11/100 : || 84.62% [11/13 00:00<00:00 0.2561]\r",
      "\r",
      "Epoch 11/100 : || 100.00% [13/13 00:00<00:00 0.2569]\r",
      "\r",
      "Epoch 11/100 :                                      \r",
      "\r",
      "Epoch 11/100 :                                      \r",
      "█\r",
      "\r",
      "Epoch 11/100 : || 0.00% [0/4 00:00<?]\r",
      "\r",
      "Epoch 11/100 : || 25.00% [1/4 00:00<00:00]\r",
      "\r",
      "Epoch 11/100 : || 50.00% [2/4 00:00<00:00 0.2550]\r",
      "\r",
      "Epoch 11/100 : || 75.00% [3/4 00:00<00:00 0.2550]\r",
      "\r",
      "Epoch 11/100 : || 100.00% [4/4 00:00<00:00 0.2550]\r",
      "\r",
      "Epoch 11/100 :                                    \r",
      "\r",
      "Epoch 11/100 :                                    \r",
      "10        0.254962    0.639100    00:00     \n",
      "█\r",
      "\r",
      "Epoch 12/100 : || 0.00% [0/13 00:00<?]\r",
      "\r",
      "Epoch 12/100 : || 7.69% [1/13 00:00<00:00]\r",
      "\r",
      "Epoch 12/100 : || 15.38% [2/13 00:00<00:00 0.2535]\r",
      "\r",
      "Epoch 12/100 : || 23.08% [3/13 00:00<00:00 0.2519]\r",
      "\r",
      "Epoch 12/100 : || 30.77% [4/13 00:00<00:00 0.2500]\r",
      "\r",
      "Epoch 12/100 : || 38.46% [5/13 00:00<00:00 0.2482]\r",
      "\r",
      "Epoch 12/100 : || 84.62% [11/13 00:00<00:00 0.2399]\r",
      "\r",
      "Epoch 12/100 : || 100.00% [13/13 00:00<00:00 0.2388]\r",
      "\r",
      "Epoch 12/100 :                                      \r",
      "\r",
      "Epoch 12/100 :                                      \r",
      "█\r",
      "\r",
      "Epoch 12/100 : || 0.00% [0/4 00:00<?]\r",
      "\r",
      "Epoch 12/100 : || 25.00% [1/4 00:00<00:00]\r",
      "\r",
      "Epoch 12/100 : || 50.00% [2/4 00:00<00:00 0.2394]\r",
      "\r",
      "Epoch 12/100 : || 75.00% [3/4 00:00<00:00 0.2394]\r",
      "\r",
      "Epoch 12/100 : || 100.00% [4/4 00:00<00:00 0.2394]\r",
      "\r",
      "Epoch 12/100 :                                    \r",
      "\r",
      "Epoch 12/100 :                                    \r",
      "11        0.239407    0.896966    00:00     \n",
      "█\r",
      "\r",
      "Epoch 13/100 : || 0.00% [0/13 00:00<?]\r",
      "\r",
      "Epoch 13/100 : || 7.69% [1/13 00:00<00:00]\r",
      "\r",
      "Epoch 13/100 : || 15.38% [2/13 00:00<00:00 0.2395]\r",
      "\r",
      "Epoch 13/100 : || 23.08% [3/13 00:00<00:00 0.2389]\r",
      "\r",
      "Epoch 13/100 : || 30.77% [4/13 00:00<00:00 0.2386]\r",
      "\r",
      "Epoch 13/100 : || 38.46% [5/13 00:00<00:00 0.2386]\r",
      "\r",
      "Epoch 13/100 : || 84.62% [11/13 00:00<00:00 0.2313]\r",
      "\r",
      "Epoch 13/100 : || 100.00% [13/13 00:00<00:00 0.2296]\r",
      "\r",
      "Epoch 13/100 :                                      \r",
      "\r",
      "Epoch 13/100 :                                      \r",
      "█\r",
      "\r",
      "Epoch 13/100 : || 0.00% [0/4 00:00<?]\r",
      "\r",
      "Epoch 13/100 : || 25.00% [1/4 00:00<00:00]\r",
      "\r",
      "Epoch 13/100 : || 50.00% [2/4 00:00<00:00 0.2289]\r",
      "\r",
      "Epoch 13/100 : || 75.00% [3/4 00:00<00:00 0.2289]\r",
      "\r",
      "Epoch 13/100 : || 100.00% [4/4 00:00<00:00 0.2289]\r",
      "\r",
      "Epoch 13/100 :                                    \r",
      "\r",
      "Epoch 13/100 :                                    \r",
      "12        0.228924    0.835848    00:00     \n",
      "█\r",
      "\r",
      "Epoch 14/100 : || 0.00% [0/13 00:00<?]\r",
      "\r",
      "Epoch 14/100 : || 7.69% [1/13 00:00<00:00]\r",
      "\r",
      "Epoch 14/100 : || 15.38% [2/13 00:00<00:00 0.2277]\r",
      "\r",
      "Epoch 14/100 : || 23.08% [3/13 00:00<00:00 0.2271]\r",
      "\r",
      "Epoch 14/100 : || 30.77% [4/13 00:00<00:00 0.2264]\r",
      "\r",
      "Epoch 14/100 : || 38.46% [5/13 00:00<00:00 0.2250]\r",
      "\r",
      "Epoch 14/100 : || 84.62% [11/13 00:00<00:00 0.2203]\r",
      "\r",
      "Epoch 14/100 : || 100.00% [13/13 00:00<00:00 0.2189]\r",
      "\r",
      "Epoch 14/100 :                                      \r",
      "\r",
      "Epoch 14/100 :                                      \r",
      "█\r",
      "\r",
      "Epoch 14/100 : || 0.00% [0/4 00:00<?]\r",
      "\r",
      "Epoch 14/100 : || 25.00% [1/4 00:00<00:00]\r",
      "\r",
      "Epoch 14/100 : || 50.00% [2/4 00:00<00:00 0.2178]\r",
      "\r",
      "Epoch 14/100 : || 75.00% [3/4 00:00<00:00 0.2178]\r",
      "\r",
      "Epoch 14/100 : || 100.00% [4/4 00:00<00:00 0.2178]\r",
      "\r",
      "Epoch 14/100 :                                    \r",
      "\r",
      "Epoch 14/100 :                                    \r",
      "13        0.217800    0.708418    00:00     \n",
      "█\r",
      "\r",
      "Epoch 15/100 : || 0.00% [0/13 00:00<?]\r",
      "\r",
      "Epoch 15/100 : || 7.69% [1/13 00:00<00:00]\r",
      "\r",
      "Epoch 15/100 : || 15.38% [2/13 00:00<00:00 0.2171]\r",
      "\r",
      "Epoch 15/100 : || 23.08% [3/13 00:00<00:00 0.2172]\r",
      "\r",
      "Epoch 15/100 : || 30.77% [4/13 00:00<00:00 0.2159]\r",
      "\r",
      "Epoch 15/100 : || 38.46% [5/13 00:00<00:00 0.2144]\r",
      "\r",
      "Epoch 15/100 : || 84.62% [11/13 00:00<00:00 0.2120]\r",
      "\r",
      "Epoch 15/100 : || 100.00% [13/13 00:00<00:00 0.2106]\r",
      "\r",
      "Epoch 15/100 :                                      \r",
      "\r",
      "Epoch 15/100 :                                      \r",
      "█\r",
      "\r",
      "Epoch 15/100 : || 0.00% [0/4 00:00<?]\r",
      "\r",
      "Epoch 15/100 : || 25.00% [1/4 00:00<00:00]\r",
      "\r",
      "Epoch 15/100 : || 50.00% [2/4 00:00<00:00 0.2106]\r",
      "\r",
      "Epoch 15/100 : || 75.00% [3/4 00:00<00:00 0.2106]\r",
      "\r",
      "Epoch 15/100 : || 100.00% [4/4 00:00<00:00 0.2106]\r",
      "\r",
      "Epoch 15/100 :                                    \r",
      "\r",
      "Epoch 15/100 :                                    \r",
      "14        0.210588    0.736299    00:00     \n",
      "█\r",
      "\r",
      "Epoch 16/100 : || 0.00% [0/13 00:00<?]\r",
      "\r",
      "Epoch 16/100 : || 7.69% [1/13 00:00<00:00]\r",
      "\r",
      "Epoch 16/100 : || 15.38% [2/13 00:00<00:00 0.2092]\r",
      "\r",
      "Epoch 16/100 : || 23.08% [3/13 00:00<00:00 0.2083]\r",
      "\r",
      "Epoch 16/100 : || 30.77% [4/13 00:00<00:00 0.2079]\r",
      "\r",
      "Epoch 16/100 : || 38.46% [5/13 00:00<00:00 0.2071]\r",
      "\r",
      "Epoch 16/100 : || 84.62% [11/13 00:00<00:00 0.2017]\r",
      "\r",
      "Epoch 16/100 : || 100.00% [13/13 00:00<00:00 0.2011]\r",
      "\r",
      "Epoch 16/100 :                                      \r",
      "\r",
      "Epoch 16/100 :                                      \r",
      "█\r",
      "\r",
      "Epoch 16/100 : || 0.00% [0/4 00:00<?]\r",
      "\r",
      "Epoch 16/100 : || 25.00% [1/4 00:00<00:00]\r",
      "\r",
      "Epoch 16/100 : || 50.00% [2/4 00:00<00:00 0.2005]\r",
      "\r",
      "Epoch 16/100 : || 75.00% [3/4 00:00<00:00 0.2005]\r",
      "\r",
      "Epoch 16/100 : || 100.00% [4/4 00:00<00:00 0.2005]\r",
      "\r",
      "Epoch 16/100 :                                    \r",
      "\r",
      "Epoch 16/100 :                                    \r",
      "15        0.200530    0.593218    00:00     \n",
      "█\r",
      "\r",
      "Epoch 17/100 : || 0.00% [0/13 00:00<?]\r",
      "\r",
      "Epoch 17/100 : || 7.69% [1/13 00:00<00:00]\r",
      "\r",
      "Epoch 17/100 : || 15.38% [2/13 00:00<00:00 0.2001]\r",
      "\r",
      "Epoch 17/100 : || 23.08% [3/13 00:00<00:00 0.1995]\r",
      "\r",
      "Epoch 17/100 : || 30.77% [4/13 00:00<00:00 0.1985]\r",
      "\r",
      "Epoch 17/100 : || 38.46% [5/13 00:00<00:00 0.1974]\r",
      "\r",
      "Epoch 17/100 : || 84.62% [11/13 00:00<00:00 0.1950]\r",
      "\r",
      "Epoch 17/100 : || 100.00% [13/13 00:00<00:00 0.1934]\r",
      "\r",
      "Epoch 17/100 :                                      \r",
      "\r",
      "Epoch 17/100 :                                      \r",
      "█\r",
      "\r",
      "Epoch 17/100 : || 0.00% [0/4 00:00<?]\r",
      "\r",
      "Epoch 17/100 : || 25.00% [1/4 00:00<00:00]\r",
      "\r",
      "Epoch 17/100 : || 50.00% [2/4 00:00<00:00 0.1930]\r",
      "\r",
      "Epoch 17/100 : || 75.00% [3/4 00:00<00:00 0.1930]\r",
      "\r",
      "Epoch 17/100 : || 100.00% [4/4 00:00<00:00 0.1930]\r",
      "\r",
      "Epoch 17/100 :                                    \r",
      "\r",
      "Epoch 17/100 :                                    \r",
      "16        0.192981    1.087784    00:00     \n",
      "█\r",
      "\r",
      "Epoch 18/100 : || 0.00% [0/13 00:00<?]\r",
      "\r",
      "Epoch 18/100 : || 7.69% [1/13 00:00<00:00]\r",
      "\r",
      "Epoch 18/100 : || 15.38% [2/13 00:00<00:00 0.1916]\r",
      "\r",
      "Epoch 18/100 : || 23.08% [3/13 00:00<00:00 0.1909]\r",
      "\r",
      "Epoch 18/100 : || 30.77% [4/13 00:00<00:00 0.1899]\r",
      "\r",
      "Epoch 18/100 : || 38.46% [5/13 00:00<00:00 0.1891]\r",
      "\r",
      "Epoch 18/100 : || 76.92% [10/13 00:00<00:00 0.1883]\r",
      "\r",
      "Epoch 18/100 : || 100.00% [13/13 00:00<00:00 0.1856]\r",
      "\r",
      "Epoch 18/100 :                                      \r",
      "\r",
      "Epoch 18/100 :                                      \r",
      "█\r",
      "\r",
      "Epoch 18/100 : || 0.00% [0/4 00:00<?]\r",
      "\r",
      "Epoch 18/100 : || 25.00% [1/4 00:00<00:00]\r",
      "\r",
      "Epoch 18/100 : || 50.00% [2/4 00:00<00:00 0.1854]\r",
      "\r",
      "Epoch 18/100 : || 75.00% [3/4 00:00<00:00 0.1854]\r",
      "\r",
      "Epoch 18/100 : || 100.00% [4/4 00:00<00:00 0.1854]\r",
      "\r",
      "Epoch 18/100 :                                    \r",
      "\r",
      "Epoch 18/100 :                                    \r",
      "17        0.185355    0.555127    00:00     \n",
      "█\r",
      "\r",
      "Epoch 19/100 : || 0.00% [0/13 00:00<?]\r",
      "\r",
      "Epoch 19/100 : || 7.69% [1/13 00:00<00:00]\r",
      "\r",
      "Epoch 19/100 : || 15.38% [2/13 00:00<00:00 0.1840]\r",
      "\r",
      "Epoch 19/100 : || 23.08% [3/13 00:00<00:00 0.1830]\r",
      "\r",
      "Epoch 19/100 : || 30.77% [4/13 00:00<00:00 0.1824]\r",
      "\r",
      "Epoch 19/100 : || 38.46% [5/13 00:00<00:00 0.1816]\r",
      "\r",
      "Epoch 19/100 : || 84.62% [11/13 00:00<00:00 0.1784]\r",
      "\r",
      "Epoch 19/100 : || 100.00% [13/13 00:00<00:00 0.1776]\r",
      "\r",
      "Epoch 19/100 :                                      \r",
      "\r",
      "Epoch 19/100 :                                      \r",
      "█\r",
      "\r",
      "Epoch 19/100 : || 0.00% [0/4 00:00<?]\r",
      "\r",
      "Epoch 19/100 : || 25.00% [1/4 00:00<00:00]\r",
      "\r",
      "Epoch 19/100 : || 50.00% [2/4 00:00<00:00 0.1775]\r",
      "\r",
      "Epoch 19/100 : || 75.00% [3/4 00:00<00:00 0.1775]\r",
      "\r",
      "Epoch 19/100 : || 100.00% [4/4 00:00<00:00 0.1775]\r",
      "\r",
      "Epoch 19/100 :                                    \r",
      "\r",
      "Epoch 19/100 :                                    \r",
      "18        0.177496    1.173599    00:00     \n",
      "█\r",
      "\r",
      "Epoch 20/100 : || 0.00% [0/13 00:00<?]\r",
      "\r",
      "Epoch 20/100 : || 7.69% [1/13 00:00<00:00]\r",
      "\r",
      "Epoch 20/100 : || 15.38% [2/13 00:00<00:00 0.1779]\r",
      "\r",
      "Epoch 20/100 : || 23.08% [3/13 00:00<00:00 0.1773]\r",
      "\r",
      "Epoch 20/100 : || 30.77% [4/13 00:00<00:00 0.1774]\r",
      "\r",
      "Epoch 20/100 : || 38.46% [5/13 00:00<00:00 0.1778]\r",
      "\r",
      "Epoch 20/100 : || 84.62% [11/13 00:00<00:00 0.1773]\r",
      "\r",
      "Epoch 20/100 : || 100.00% [13/13 00:00<00:00 0.1774]\r",
      "\r",
      "Epoch 20/100 :                                      \r",
      "\r",
      "Epoch 20/100 :                                      \r",
      "█\r",
      "\r",
      "Epoch 20/100 : || 0.00% [0/4 00:00<?]\r",
      "\r",
      "Epoch 20/100 : || 25.00% [1/4 00:00<00:00]\r",
      "\r",
      "Epoch 20/100 : || 50.00% [2/4 00:00<00:00 0.1784]\r",
      "\r",
      "Epoch 20/100 : || 75.00% [3/4 00:00<00:00 0.1784]\r",
      "\r",
      "Epoch 20/100 : || 100.00% [4/4 00:00<00:00 0.1784]\r",
      "\r",
      "Epoch 20/100 :                                    \r",
      "\r",
      "Epoch 20/100 :                                    \r",
      "19        0.178375    1.069025    00:00     \n",
      "█\r",
      "\r",
      "Epoch 21/100 : || 0.00% [0/13 00:00<?]\r",
      "\r",
      "Epoch 21/100 : || 7.69% [1/13 00:00<00:00]\r",
      "\r",
      "Epoch 21/100 : || 15.38% [2/13 00:00<00:00 0.1781]\r",
      "\r",
      "Epoch 21/100 : || 23.08% [3/13 00:00<00:00 0.1791]\r",
      "\r",
      "Epoch 21/100 : || 30.77% [4/13 00:00<00:00 0.1791]\r",
      "\r",
      "Epoch 21/100 : || 38.46% [5/13 00:00<00:00 0.1804]\r",
      "\r",
      "Epoch 21/100 : || 84.62% [11/13 00:00<00:00 0.1797]\r",
      "\r",
      "Epoch 21/100 : || 100.00% [13/13 00:00<00:00 0.1797]\r",
      "\r",
      "Epoch 21/100 :                                      \r",
      "\r",
      "Epoch 21/100 :                                      \r",
      "█\r",
      "\r",
      "Epoch 21/100 : || 0.00% [0/4 00:00<?]\r",
      "\r",
      "Epoch 21/100 : || 25.00% [1/4 00:00<00:00]\r",
      "\r",
      "Epoch 21/100 : || 50.00% [2/4 00:00<00:00 0.1792]\r",
      "\r",
      "Epoch 21/100 : || 75.00% [3/4 00:00<00:00 0.1792]\r",
      "\r",
      "Epoch 21/100 : || 100.00% [4/4 00:00<00:00 0.1792]\r",
      "\r",
      "Epoch 21/100 :                                    \r",
      "\r",
      "Epoch 21/100 :                                    \r",
      "20        0.179221    0.821907    00:00     \n",
      "█\r",
      "\r",
      "Epoch 22/100 : || 0.00% [0/13 00:00<?]\r",
      "\r",
      "Epoch 22/100 : || 7.69% [1/13 00:00<00:00]\r",
      "\r",
      "Epoch 22/100 : || 15.38% [2/13 00:00<00:00 0.1789]\r",
      "\r",
      "Epoch 22/100 : || 23.08% [3/13 00:00<00:00 0.1788]\r",
      "\r",
      "Epoch 22/100 : || 30.77% [4/13 00:00<00:00 0.1791]\r",
      "\r",
      "Epoch 22/100 : || 38.46% [5/13 00:00<00:00 0.1793]\r",
      "\r",
      "Epoch 22/100 : || 84.62% [11/13 00:00<00:00 0.1803]\r",
      "\r",
      "Epoch 22/100 : || 100.00% [13/13 00:00<00:00 0.1793]\r",
      "\r",
      "Epoch 22/100 :                                      \r",
      "\r",
      "Epoch 22/100 :                                      \r",
      "█\r",
      "\r",
      "Epoch 22/100 : || 0.00% [0/4 00:00<?]\r",
      "\r",
      "Epoch 22/100 : || 25.00% [1/4 00:00<00:00]\r",
      "\r",
      "Epoch 22/100 : || 50.00% [2/4 00:00<00:00 0.1789]\r",
      "\r",
      "Epoch 22/100 : || 75.00% [3/4 00:00<00:00 0.1789]\r",
      "\r",
      "Epoch 22/100 : || 100.00% [4/4 00:00<00:00 0.1789]\r",
      "\r",
      "Epoch 22/100 :                                    \r",
      "\r",
      "Epoch 22/100 :                                    \r",
      "21        0.178925    0.627208    00:00     \n",
      "█\r",
      "\r",
      "Epoch 23/100 : || 0.00% [0/13 00:00<?]\r",
      "\r",
      "Epoch 23/100 : || 7.69% [1/13 00:00<00:00]\r",
      "\r",
      "Epoch 23/100 : || 15.38% [2/13 00:00<00:00 0.1801]\r",
      "\r",
      "Epoch 23/100 : || 23.08% [3/13 00:00<00:00 0.1793]\r",
      "\r",
      "Epoch 23/100 : || 30.77% [4/13 00:00<00:00 0.1786]\r",
      "\r",
      "Epoch 23/100 : || 38.46% [5/13 00:00<00:00 0.1776]\r",
      "\r",
      "Epoch 23/100 : || 84.62% [11/13 00:00<00:00 0.1723]\r",
      "\r",
      "Epoch 23/100 : || 100.00% [13/13 00:00<00:00 0.1705]\r",
      "\r",
      "Epoch 23/100 :                                      \r",
      "\r",
      "Epoch 23/100 :                                      \r",
      "█\r",
      "\r",
      "Epoch 23/100 : || 0.00% [0/4 00:00<?]\r",
      "\r",
      "Epoch 23/100 : || 25.00% [1/4 00:00<00:00]\r",
      "\r",
      "Epoch 23/100 : || 50.00% [2/4 00:00<00:00 0.1705]\r",
      "\r",
      "Epoch 23/100 : || 75.00% [3/4 00:00<00:00 0.1705]\r",
      "\r",
      "Epoch 23/100 : || 100.00% [4/4 00:00<00:00 0.1705]\r",
      "\r",
      "Epoch 23/100 :                                    \r",
      "\r",
      "Epoch 23/100 :                                    \r",
      "22        0.170513    0.583936    00:00     \n",
      "█\r",
      "\r",
      "Epoch 24/100 : || 0.00% [0/13 00:00<?]\r",
      "\r",
      "Epoch 24/100 : || 7.69% [1/13 00:00<00:00]\r",
      "\r",
      "Epoch 24/100 : || 15.38% [2/13 00:00<00:00 0.1712]\r",
      "\r",
      "Epoch 24/100 : || 23.08% [3/13 00:00<00:00 0.1709]\r",
      "\r",
      "Epoch 24/100 : || 30.77% [4/13 00:00<00:00 0.1701]\r",
      "\r",
      "Epoch 24/100 : || 38.46% [5/13 00:00<00:00 0.1696]\r",
      "\r",
      "Epoch 24/100 : || 84.62% [11/13 00:00<00:00 0.1691]\r",
      "\r",
      "Epoch 24/100 : || 100.00% [13/13 00:00<00:00 0.1681]\r",
      "\r",
      "Epoch 24/100 :                                      \r",
      "\r",
      "Epoch 24/100 :                                      \r",
      "█\r",
      "\r",
      "Epoch 24/100 : || 0.00% [0/4 00:00<?]\r",
      "\r",
      "Epoch 24/100 : || 25.00% [1/4 00:00<00:00]\r",
      "\r",
      "Epoch 24/100 : || 50.00% [2/4 00:00<00:00 0.1672]\r",
      "\r",
      "Epoch 24/100 : || 75.00% [3/4 00:00<00:00 0.1672]\r",
      "\r",
      "Epoch 24/100 : || 100.00% [4/4 00:00<00:00 0.1672]\r",
      "\r",
      "Epoch 24/100 :                                    \r",
      "\r",
      "Epoch 24/100 :                                    \r",
      "23        0.167221    0.571619    00:00     \n",
      "█\r",
      "\r",
      "Epoch 25/100 : || 0.00% [0/13 00:00<?]\r",
      "\r",
      "Epoch 25/100 : || 7.69% [1/13 00:00<00:00]\r",
      "\r",
      "Epoch 25/100 : || 15.38% [2/13 00:00<00:00 0.1664]\r",
      "\r",
      "Epoch 25/100 : || 23.08% [3/13 00:00<00:00 0.1661]\r",
      "\r",
      "Epoch 25/100 : || 30.77% [4/13 00:00<00:00 0.1655]\r",
      "\r",
      "Epoch 25/100 : || 38.46% [5/13 00:00<00:00 0.1641]\r",
      "\r",
      "Epoch 25/100 : || 84.62% [11/13 00:00<00:00 0.1626]\r",
      "\r",
      "Epoch 25/100 : || 100.00% [13/13 00:00<00:00 0.1623]\r",
      "\r",
      "Epoch 25/100 :                                      \r",
      "\r",
      "Epoch 25/100 :                                      \r",
      "█\r",
      "\r",
      "Epoch 25/100 : || 0.00% [0/4 00:00<?]\r",
      "\r",
      "Epoch 25/100 : || 25.00% [1/4 00:00<00:00]\r",
      "\r",
      "Epoch 25/100 : || 50.00% [2/4 00:00<00:00 0.1622]\r",
      "\r",
      "Epoch 25/100 : || 75.00% [3/4 00:00<00:00 0.1622]\r",
      "\r",
      "Epoch 25/100 : || 100.00% [4/4 00:00<00:00 0.1622]\r",
      "\r",
      "Epoch 25/100 :                                    \r",
      "\r",
      "Epoch 25/100 :                                    \r",
      "24        0.162187    0.823745    00:00     \n",
      "█\r",
      "\r",
      "Epoch 26/100 : || 0.00% [0/13 00:00<?]\r",
      "\r",
      "Epoch 26/100 : || 7.69% [1/13 00:00<00:00]\r",
      "\r",
      "Epoch 26/100 : || 15.38% [2/13 00:00<00:00 0.1618]\r",
      "\r",
      "Epoch 26/100 : || 23.08% [3/13 00:00<00:00 0.1622]\r",
      "\r",
      "Epoch 26/100 : || 30.77% [4/13 00:00<00:00 0.1624]\r",
      "\r",
      "Epoch 26/100 : || 38.46% [5/13 00:00<00:00 0.1612]\r",
      "\r",
      "Epoch 26/100 : || 84.62% [11/13 00:00<00:00 0.1599]\r",
      "\r",
      "Epoch 26/100 : || 100.00% [13/13 00:00<00:00 0.1585]\r",
      "\r",
      "Epoch 26/100 :                                      \r",
      "\r",
      "Epoch 26/100 :                                      \r",
      "█\r",
      "\r",
      "Epoch 26/100 : || 0.00% [0/4 00:00<?]\r",
      "\r",
      "Epoch 26/100 : || 25.00% [1/4 00:00<00:00]\r",
      "\r",
      "Epoch 26/100 : || 50.00% [2/4 00:00<00:00 0.1579]\r",
      "\r",
      "Epoch 26/100 : || 75.00% [3/4 00:00<00:00 0.1579]\r",
      "\r",
      "Epoch 26/100 : || 100.00% [4/4 00:00<00:00 0.1579]\r",
      "\r",
      "Epoch 26/100 :                                    \r",
      "\r",
      "Epoch 26/100 :                                    \r",
      "25        0.157855    0.799091    00:00     \n",
      "█\r",
      "\r",
      "Epoch 27/100 : || 0.00% [0/13 00:00<?]\r",
      "\r",
      "Epoch 27/100 : || 7.69% [1/13 00:00<00:00]\r",
      "\r",
      "Epoch 27/100 : || 15.38% [2/13 00:00<00:00 0.1573]\r",
      "\r",
      "Epoch 27/100 : || 23.08% [3/13 00:00<00:00 0.1562]\r",
      "\r",
      "Epoch 27/100 : || 30.77% [4/13 00:00<00:00 0.1556]\r",
      "\r",
      "Epoch 27/100 : || 38.46% [5/13 00:00<00:00 0.1550]\r",
      "\r",
      "Epoch 27/100 : || 84.62% [11/13 00:00<00:00 0.1520]\r",
      "\r",
      "Epoch 27/100 : || 100.00% [13/13 00:00<00:00 0.1509]\r",
      "\r",
      "Epoch 27/100 :                                      \r",
      "\r",
      "Epoch 27/100 :                                      \r",
      "█\r",
      "\r",
      "Epoch 27/100 : || 0.00% [0/4 00:00<?]\r",
      "\r",
      "Epoch 27/100 : || 25.00% [1/4 00:00<00:00]\r",
      "\r",
      "Epoch 27/100 : || 50.00% [2/4 00:00<00:00 0.1501]\r",
      "\r",
      "Epoch 27/100 : || 75.00% [3/4 00:00<00:00 0.1501]\r",
      "\r",
      "Epoch 27/100 : || 100.00% [4/4 00:00<00:00 0.1501]\r",
      "\r",
      "Epoch 27/100 :                                    \r",
      "\r",
      "Epoch 27/100 :                                    \r",
      "26        0.150129    0.671046    00:00     \n",
      "█\r",
      "\r",
      "Epoch 28/100 : || 0.00% [0/13 00:00<?]\r",
      "\r",
      "Epoch 28/100 : || 7.69% [1/13 00:00<00:00]\r",
      "\r",
      "Epoch 28/100 : || 15.38% [2/13 00:00<00:00 0.1501]\r",
      "\r",
      "Epoch 28/100 : || 23.08% [3/13 00:00<00:00 0.1494]\r",
      "\r",
      "Epoch 28/100 : || 30.77% [4/13 00:00<00:00 0.1500]\r",
      "\r",
      "Epoch 28/100 : || 38.46% [5/13 00:00<00:00 0.1492]\r",
      "\r",
      "Epoch 28/100 : || 84.62% [11/13 00:00<00:00 0.1473]\r",
      "\r",
      "Epoch 28/100 : || 100.00% [13/13 00:00<00:00 0.1475]\r",
      "\r",
      "Epoch 28/100 :                                      \r",
      "\r",
      "Epoch 28/100 :                                      \r",
      "█\r",
      "\r",
      "Epoch 28/100 : || 0.00% [0/4 00:00<?]\r",
      "\r",
      "Epoch 28/100 : || 25.00% [1/4 00:00<00:00]\r",
      "\r",
      "Epoch 28/100 : || 50.00% [2/4 00:00<00:00 0.1468]\r",
      "\r",
      "Epoch 28/100 : || 75.00% [3/4 00:00<00:00 0.1468]\r",
      "\r",
      "Epoch 28/100 : || 100.00% [4/4 00:00<00:00 0.1468]\r",
      "\r",
      "Epoch 28/100 :                                    \r",
      "\r",
      "Epoch 28/100 :                                    \r",
      "27        0.146834    0.683355    00:00     \n",
      "No improvement since epoch 17: early stopping\n"
     ]
    }
   ],
   "source": [
    "#| export\n",
    "if verbose > 0: print(\"--> Train\")\n",
    "lr_valley, lr_steep = learn.lr_find(suggest_funcs=(valley, steep), show_plot=show_plots)\n",
    "learn.fit_one_cycle(n_epoch=config.epochs, lr_max=lr_valley,  cbs=[EarlyStoppingCallback(monitor='valid_loss', min_delta=0.000001, patience=10)])"
   ]
  },
  {
   "cell_type": "code",
   "execution_count": 30,
   "id": "420ab07e-be97-453a-bfd4-8a920d8c21cc",
   "metadata": {
    "ploomber": {
     "timestamp_end": 1725539561.515029,
     "timestamp_start": 1725539561.512563
    }
   },
   "outputs": [
    {
     "name": "stdout",
     "output_type": "stream",
     "text": [
      "[] Start: 1725539544.0246334 | End: 1725539561.513463 | Duration: 17.488829612731934 seconds\n"
     ]
    },
    {
     "data": {
      "text/plain": [
       "17.488829612731934"
      ]
     },
     "execution_count": 30,
     "metadata": {},
     "output_type": "execute_result"
    }
   ],
   "source": [
    "timer.end()\n",
    "timer.show()"
   ]
  },
  {
   "cell_type": "markdown",
   "id": "2ae82aae-70dd-40de-baf8-22a2bf3d99c0",
   "metadata": {},
   "source": [
    "#### Validate the model"
   ]
  },
  {
   "cell_type": "code",
   "execution_count": 31,
   "id": "b546f8d3",
   "metadata": {
    "ploomber": {
     "timestamp_end": 1725539561.633986,
     "timestamp_start": 1725539561.515568
    }
   },
   "outputs": [
    {
     "name": "stdout",
     "output_type": "stream",
     "text": [
      "█\r",
      "\r",
      " || 0.00% [0/4 00:00<?]\r",
      "\r",
      " || 25.00% [1/4 00:00<00:00]\r",
      "\r",
      " || 50.00% [2/4 00:00<00:00 0.1468]\r",
      "\r",
      " || 75.00% [3/4 00:00<00:00 0.1468]\r",
      "\r",
      " || 100.00% [4/4 00:00<00:00 0.1468]\r",
      "\r",
      "                                    \r",
      "\r",
      "                                    \r"
     ]
    }
   ],
   "source": [
    "#| export\n",
    "if verbose > 0: print(\"Train -->\")\n",
    "learn.validate()\n",
    "if verbose > 0: print(\"Validate -->\")"
   ]
  },
  {
   "cell_type": "markdown",
   "id": "98db4834-1e28-4251-8f58-662cdf5f24bf",
   "metadata": {},
   "source": [
    "## Visualize predictions"
   ]
  },
  {
   "cell_type": "markdown",
   "id": "5ad4ff29-1d59-4c1d-8499-a8e2b0b6c012",
   "metadata": {},
   "source": [
    "## Save artifact to W&B\n",
    "> Remove extra information and saving the learner object as an weight and biases artifact"
   ]
  },
  {
   "cell_type": "code",
   "execution_count": 32,
   "id": "9cc0de64-aced-433e-9c10-28fbcf4f9a91",
   "metadata": {
    "ploomber": {
     "timestamp_end": 1725539561.916993,
     "timestamp_start": 1725539561.634873
    }
   },
   "outputs": [],
   "source": [
    "#| export\n",
    "# Log the learner without the datasets\n",
    "aux_learn = learn.export_and_get()\n",
    "if config.use_wandb: \n",
    "    run.log_artifact(\n",
    "        ReferenceArtifact(\n",
    "            aux_learn, \n",
    "            f'mvp', \n",
    "            type='learner', \n",
    "            metadata=dict(run.config)\n",
    "        ), \n",
    "        aliases=config.alias\n",
    "    )"
   ]
  },
  {
   "cell_type": "markdown",
   "id": "c97de068-dc91-4cfc-b0a0-2a52b52a9f80",
   "metadata": {},
   "source": [
    "## Close W&B"
   ]
  },
  {
   "cell_type": "code",
   "execution_count": 33,
   "id": "ddfe12cd-6e5f-40eb-8f84-12d2db7a355b",
   "metadata": {
    "ploomber": {
     "timestamp_end": 1725539566.333255,
     "timestamp_start": 1725539561.917856
    }
   },
   "outputs": [
    {
     "data": {
      "text/html": [
       "Waiting for W&B process to finish... <strong style=\"color:green\">(success).</strong>"
      ],
      "text/plain": [
       "<IPython.core.display.HTML object>"
      ]
     },
     "metadata": {},
     "output_type": "display_data"
    },
    {
     "data": {
      "application/vnd.jupyter.widget-view+json": {
       "model_id": "a1f747412ec742d29c12b0ac88f8c98c",
       "version_major": 2,
       "version_minor": 0
      },
      "text/plain": [
       "VBox(children=(Label(value='0.006 MB of 0.006 MB uploaded (0.000 MB deduped)\\r'), FloatProgress(value=1.0, max…"
      ]
     },
     "metadata": {},
     "output_type": "display_data"
    },
    {
     "data": {
      "text/html": [
       "<style>\n",
       "    table.wandb td:nth-child(1) { padding: 0 10px; text-align: left ; width: auto;} td:nth-child(2) {text-align: left ; width: 100%}\n",
       "    .wandb-row { display: flex; flex-direction: row; flex-wrap: wrap; justify-content: flex-start; width: 100% }\n",
       "    .wandb-col { display: flex; flex-direction: column; flex-basis: 100%; flex: 1; padding: 10px; }\n",
       "    </style>\n",
       "<div class=\"wandb-row\"><div class=\"wandb-col\"><h3>Run summary:</h3><br/><table class=\"wandb\"><tr><td>epoch</td><td>28</td></tr><tr><td>eps_0</td><td>1e-05</td></tr><tr><td>eps_1</td><td>1e-05</td></tr><tr><td>lr_0</td><td>0.00173</td></tr><tr><td>lr_1</td><td>0.00173</td></tr><tr><td>mom_0</td><td>0.85037</td></tr><tr><td>mom_1</td><td>0.85037</td></tr><tr><td>raw_loss</td><td>0.11601</td></tr><tr><td>sqr_mom_0</td><td>0.99</td></tr><tr><td>sqr_mom_1</td><td>0.99</td></tr><tr><td>train_loss</td><td>0.14683</td></tr><tr><td>train_samples_per_sec</td><td>977.84257</td></tr><tr><td>valid_loss</td><td>0.68336</td></tr><tr><td>wd_0</td><td>0.01</td></tr><tr><td>wd_1</td><td>0.01</td></tr></table><br/></div></div>"
      ],
      "text/plain": [
       "<IPython.core.display.HTML object>"
      ]
     },
     "metadata": {},
     "output_type": "display_data"
    },
    {
     "data": {
      "text/html": [
       " View run <strong style=\"color:#cdcd00\">02a_encoder_MVP</strong> at: <a href='https://wandb.ai/mi-santamaria/deepvats/runs/l8adt9na' target=\"_blank\">https://wandb.ai/mi-santamaria/deepvats/runs/l8adt9na</a><br/>Synced 5 W&B file(s), 0 media file(s), 0 artifact file(s) and 0 other file(s)"
      ],
      "text/plain": [
       "<IPython.core.display.HTML object>"
      ]
     },
     "metadata": {},
     "output_type": "display_data"
    },
    {
     "data": {
      "text/html": [
       "Find logs at: <code>/home/macu/work/wandb/run-20240905_123210-l8adt9na/logs</code>"
      ],
      "text/plain": [
       "<IPython.core.display.HTML object>"
      ]
     },
     "metadata": {},
     "output_type": "display_data"
    }
   ],
   "source": [
    "#| export\n",
    "if verbose > 0: print(\"Artifact logged | About to finish run\")\n",
    "run.finish()"
   ]
  },
  {
   "cell_type": "code",
   "execution_count": 34,
   "id": "9c0422ca-555a-42ab-8d37-6191ec9d6c82",
   "metadata": {
    "ploomber": {
     "timestamp_end": 1725539571.358642,
     "timestamp_start": 1725539566.334005
    }
   },
   "outputs": [
    {
     "data": {
      "text/html": [
       "\n",
       "                <audio  controls=\"controls\" autoplay=\"autoplay\">\n",
       "                    <source src=\"data:audio/wav;base64,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\" type=\"audio/wav\" />\n",
       "                    Your browser does not support the audio element.\n",
       "                </audio>\n",
       "              "
      ],
      "text/plain": [
       "<IPython.lib.display.Audio object>"
      ]
     },
     "metadata": {},
     "output_type": "display_data"
    },
    {
     "data": {
      "text/html": [
       "\n",
       "                <audio  controls=\"controls\" autoplay=\"autoplay\">\n",
       "                    <source src=\"data:audio/wav;base64,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\" type=\"audio/wav\" />\n",
       "                    Your browser does not support the audio element.\n",
       "                </audio>\n",
       "              "
      ],
      "text/plain": [
       "<IPython.lib.display.Audio object>"
      ]
     },
     "metadata": {},
     "output_type": "display_data"
    },
    {
     "data": {
      "text/html": [
       "\n",
       "                <audio  controls=\"controls\" autoplay=\"autoplay\">\n",
       "                    <source src=\"data:audio/wav;base64,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\" type=\"audio/wav\" />\n",
       "                    Your browser does not support the audio element.\n",
       "                </audio>\n",
       "              "
      ],
      "text/plain": [
       "<IPython.lib.display.Audio object>"
      ]
     },
     "metadata": {},
     "output_type": "display_data"
    },
    {
     "data": {
      "text/html": [
       "\n",
       "                <audio  controls=\"controls\" autoplay=\"autoplay\">\n",
       "                    <source src=\"data:audio/wav;base64,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\" type=\"audio/wav\" />\n",
       "                    Your browser does not support the audio element.\n",
       "                </audio>\n",
       "              "
      ],
      "text/plain": [
       "<IPython.lib.display.Audio object>"
      ]
     },
     "metadata": {},
     "output_type": "display_data"
    },
    {
     "data": {
      "text/html": [
       "\n",
       "                <audio  controls=\"controls\" autoplay=\"autoplay\">\n",
       "                    <source src=\"data:audio/wav;base64,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\" type=\"audio/wav\" />\n",
       "                    Your browser does not support the audio element.\n",
       "                </audio>\n",
       "              "
      ],
      "text/plain": [
       "<IPython.lib.display.Audio object>"
      ]
     },
     "metadata": {},
     "output_type": "display_data"
    }
   ],
   "source": [
    "#| export\n",
    "if verbose > 0: print(\"Execution ended\")\n",
    "from dvats.imports import beep\n",
    "beep(1)\n",
    "beep(1)\n",
    "beep(1)\n",
    "beep(1)\n",
    "beep(1)"
   ]
  }
 ],
 "metadata": {
  "kernelspec": {
   "display_name": "Python 3 (ipykernel)",
   "language": "python",
   "name": "python3"
  },
  "language_info": {
   "codemirror_mode": {
    "name": "ipython",
    "version": 3
   },
   "file_extension": ".py",
   "mimetype": "text/x-python",
   "name": "python",
   "nbconvert_exporter": "python",
   "pygments_lexer": "ipython3",
   "version": "3.10.13"
  }
 },
 "nbformat": 4,
 "nbformat_minor": 5
}

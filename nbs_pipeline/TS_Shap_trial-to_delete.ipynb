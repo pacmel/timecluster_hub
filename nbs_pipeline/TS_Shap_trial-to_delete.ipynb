{
 "cells": [
  {
   "cell_type": "markdown",
   "id": "d769c4e9-38db-4f70-87f5-a1335be11691",
   "metadata": {},
   "source": [
    "## TsSHAP\n",
    "Este notebook es un intento de replicar https://arxiv.org/abs/2303.12316 para entender si es compatible con deepVATS, que debería"
   ]
  },
  {
   "cell_type": "code",
   "execution_count": 1,
   "id": "9dc6f26c-ae39-4745-b47a-4dc6d350917b",
   "metadata": {},
   "outputs": [],
   "source": [
    "import shap\n",
    "import numpy as np\n",
    "import pandas as pd\n",
    "from fastcore.foundation import L"
   ]
  },
  {
   "cell_type": "markdown",
   "id": "b68df9cc-aed7-4faf-b2ef-107928c99468",
   "metadata": {},
   "source": [
    "# Datasets\n",
    "El primer paso es obtener los datasets. En el paper se mencionan estos: \n",
    "\n",
    "dataset ( size)\n",
    "- jeans-sales-daily (1095)\n",
    "- jeans-sales-weekly (158)\n",
    "- us-unemployment (872). https://www.kaggle.com/datasets/aniruddhasshirahatti/us-unemployment-dataset-2010-2020\n",
    "- peyton-maning (2905) https://raw.githubusercontent.com/facebook/prophet/main/examples/example_wp_log_peyton_manning.csv\n",
    "- bike-sharing (731)\n",
    "\n",
    "\n",
    "De todos ellos, voy a empezar con peyton-manning por ser el más largo (aunque todas las series son bace más directo"
   ]
  },
  {
   "cell_type": "markdown",
   "id": "70cba0ef-ecfd-45fb-9e42-e84c403861c5",
   "metadata": {},
   "source": [
    "## Obtain the dataset"
   ]
  },
  {
   "cell_type": "code",
   "execution_count": 2,
   "id": "2aba3b0d-a826-4008-9ed6-c3e16dadc766",
   "metadata": {},
   "outputs": [
    {
     "name": "stdout",
     "output_type": "stream",
     "text": [
      "--2024-01-17 10:57:37--  https://raw.githubusercontent.com/facebook/prophet/main/examples/example_wp_log_peyton_manning.csv\n",
      "Resolving raw.githubusercontent.com (raw.githubusercontent.com)... 185.199.108.133, 185.199.109.133, 185.199.110.133, ...\n",
      "Connecting to raw.githubusercontent.com (raw.githubusercontent.com)|185.199.108.133|:443... connected.\n",
      "HTTP request sent, awaiting response... 200 OK\n",
      "Length: 86845 (85K) [text/plain]\n",
      "Saving to: ‘example_wp_log_peyton_manning.csv’\n",
      "\n",
      "example_wp_log_peyt 100%[===================>]  84.81K  --.-KB/s    in 0.005s  \n",
      "\n",
      "2024-01-17 10:57:37 (16.8 MB/s) - ‘example_wp_log_peyton_manning.csv’ saved [86845/86845]\n",
      "\n"
     ]
    }
   ],
   "source": [
    "! wget \"https://raw.githubusercontent.com/facebook/prophet/main/examples/example_wp_log_peyton_manning.csv\""
   ]
  },
  {
   "cell_type": "code",
   "execution_count": 3,
   "id": "2b7be8d7-c09f-4e56-9edc-7f8f09ec58cf",
   "metadata": {},
   "outputs": [],
   "source": [
    "df_peyton = pd.read_csv(\"example_wp_log_peyton_manning.csv\")"
   ]
  },
  {
   "cell_type": "code",
   "execution_count": 4,
   "id": "043a34da-eea2-4da9-9659-06762ceab592",
   "metadata": {},
   "outputs": [
    {
     "data": {
      "text/plain": [
       "(2905, 2)"
      ]
     },
     "execution_count": 4,
     "metadata": {},
     "output_type": "execute_result"
    }
   ],
   "source": [
    "df_peyton.shape"
   ]
  },
  {
   "cell_type": "code",
   "execution_count": 5,
   "id": "eab68853-9e7a-48cb-ba7d-f01b534d66db",
   "metadata": {},
   "outputs": [
    {
     "data": {
      "text/plain": [
       "<bound method NDFrame.head of               ds          y\n",
       "0     2007-12-10   9.590761\n",
       "1     2007-12-11   8.519590\n",
       "2     2007-12-12   8.183677\n",
       "3     2007-12-13   8.072467\n",
       "4     2007-12-14   7.893572\n",
       "...          ...        ...\n",
       "2900  2016-01-16   7.817223\n",
       "2901  2016-01-17   9.273878\n",
       "2902  2016-01-18  10.333775\n",
       "2903  2016-01-19   9.125871\n",
       "2904  2016-01-20   8.891374\n",
       "\n",
       "[2905 rows x 2 columns]>"
      ]
     },
     "execution_count": 5,
     "metadata": {},
     "output_type": "execute_result"
    }
   ],
   "source": [
    "df_peyton.head"
   ]
  },
  {
   "cell_type": "code",
   "execution_count": 6,
   "id": "0c735c55-a369-437b-a4a7-cd514b0e91ef",
   "metadata": {},
   "outputs": [],
   "source": [
    "! rm \"example_wp_log_peyton_manning.csv\""
   ]
  },
  {
   "cell_type": "code",
   "execution_count": 7,
   "id": "87679378-6e42-4999-bcb4-e9b7632afcb9",
   "metadata": {},
   "outputs": [],
   "source": [
    "from dvats.load import TSArtifact, infer_or_inject_freq\n",
    "import matplotlib\n",
    "import matplotlib.pyplot as plt\n",
    "import matplotlib.patches as patches\n",
    "\n",
    "from fastai.tabular.all import * \n",
    "from tsai.all import *"
   ]
  },
  {
   "cell_type": "code",
   "execution_count": 8,
   "id": "e0bf1ca1-251c-4fba-b525-870d0de8d038",
   "metadata": {},
   "outputs": [],
   "source": [
    "peyton_time_col = 0\n",
    "peyton_date_offset = 0"
   ]
  },
  {
   "cell_type": "code",
   "execution_count": 9,
   "id": "ccfbf4ff-823d-4354-a49d-6de7aa6ee274",
   "metadata": {},
   "outputs": [],
   "source": [
    "datetime = df_peyton.iloc[:, peyton_time_col]"
   ]
  },
  {
   "cell_type": "code",
   "execution_count": 10,
   "id": "464e2f3b-4e91-46e3-a310-939d46f7eb20",
   "metadata": {},
   "outputs": [
    {
     "data": {
      "text/plain": [
       "0       2007-12-10\n",
       "1       2007-12-11\n",
       "2       2007-12-12\n",
       "3       2007-12-13\n",
       "4       2007-12-14\n",
       "           ...    \n",
       "2900    2016-01-16\n",
       "2901    2016-01-17\n",
       "2902    2016-01-18\n",
       "2903    2016-01-19\n",
       "2904    2016-01-20\n",
       "Name: ds, Length: 2905, dtype: object"
      ]
     },
     "execution_count": 10,
     "metadata": {},
     "output_type": "execute_result"
    }
   ],
   "source": [
    "datetime"
   ]
  },
  {
   "cell_type": "code",
   "execution_count": 11,
   "id": "415b16a8-05db-47c6-85e8-1390c884b7d0",
   "metadata": {},
   "outputs": [
    {
     "data": {
      "text/plain": [
       "DatetimeIndex(['2007-12-10', '2007-12-11', '2007-12-12', '2007-12-13',\n",
       "               '2007-12-14', '2007-12-15', '2007-12-16', '2007-12-17',\n",
       "               '2007-12-18', '2007-12-19',\n",
       "               ...\n",
       "               '2016-01-11', '2016-01-12', '2016-01-13', '2016-01-14',\n",
       "               '2016-01-15', '2016-01-16', '2016-01-17', '2016-01-18',\n",
       "               '2016-01-19', '2016-01-20'],\n",
       "              dtype='datetime64[ns]', name='ds', length=2905, freq=None)"
      ]
     },
     "execution_count": 11,
     "metadata": {},
     "output_type": "execute_result"
    }
   ],
   "source": [
    "# Get original index\n",
    "index = pd.DatetimeIndex(datetime)\n",
    "index"
   ]
  },
  {
   "cell_type": "code",
   "execution_count": 12,
   "id": "a5558adc-5336-496d-a7ec-7f5cd15e517d",
   "metadata": {},
   "outputs": [],
   "source": [
    "# Add offset\n",
    "offset_timedelta = pd.to_timedelta(peyton_date_offset, unit='D')\n",
    "index += offset_timedelta"
   ]
  },
  {
   "cell_type": "code",
   "execution_count": 13,
   "id": "19ac58d0-7786-41be-8ec2-27e0dcadf00b",
   "metadata": {},
   "outputs": [
    {
     "data": {
      "text/plain": [
       "<bound method NDFrame.head of               y\n",
       "0      9.590761\n",
       "1      8.519590\n",
       "2      8.183677\n",
       "3      8.072467\n",
       "4      7.893572\n",
       "...         ...\n",
       "2900   7.817223\n",
       "2901   9.273878\n",
       "2902  10.333775\n",
       "2903   9.125871\n",
       "2904   8.891374\n",
       "\n",
       "[2905 rows x 1 columns]>"
      ]
     },
     "execution_count": 13,
     "metadata": {},
     "output_type": "execute_result"
    }
   ],
   "source": [
    "# Delete time column\n",
    "col_name = df_peyton.columns[peyton_time_col]\n",
    "df_peyton = df_peyton.drop(col_name, axis=1)\n",
    "df_peyton.head"
   ]
  },
  {
   "cell_type": "code",
   "execution_count": 14,
   "id": "96b86df9-d8ee-4a5f-bd67-d599c8034a53",
   "metadata": {},
   "outputs": [
    {
     "name": "stdout",
     "output_type": "stream",
     "text": [
      "<Day>\n"
     ]
    }
   ],
   "source": [
    "df_peyton = infer_or_inject_freq(\n",
    "    df_peyton, \n",
    "    injected_freq= '1d', \n",
    "    start_date = '2007-12-10', \n",
    "    format = '%Y-%m-%d %H:%M:%S'\n",
    ")\n",
    "print(df_peyton.index.freq)"
   ]
  },
  {
   "cell_type": "code",
   "execution_count": 15,
   "id": "287310c8-235a-4fc7-bcad-06d6b5926aa0",
   "metadata": {},
   "outputs": [
    {
     "data": {
      "text/plain": [
       "<bound method NDFrame.head of                     y\n",
       "2007-12-10   9.590761\n",
       "2007-12-11   8.519590\n",
       "2007-12-12   8.183677\n",
       "2007-12-13   8.072467\n",
       "2007-12-14   7.893572\n",
       "...               ...\n",
       "2015-11-18   7.817223\n",
       "2015-11-19   9.273878\n",
       "2015-11-20  10.333775\n",
       "2015-11-21   9.125871\n",
       "2015-11-22   8.891374\n",
       "\n",
       "[2905 rows x 1 columns]>"
      ]
     },
     "execution_count": 15,
     "metadata": {},
     "output_type": "execute_result"
    }
   ],
   "source": [
    "df_peyton.head"
   ]
  },
  {
   "cell_type": "markdown",
   "id": "2fd6e4f5-54b2-4ffa-945b-4cf21691d7ab",
   "metadata": {},
   "source": [
    "## Backtesting"
   ]
  },
  {
   "cell_type": "code",
   "execution_count": 16,
   "id": "66b996ac-4053-462b-96d3-d76d12beb7bc",
   "metadata": {},
   "outputs": [],
   "source": [
    "window_length = 30\n",
    "horizon = 15\n",
    "num_windows = 5"
   ]
  },
  {
   "cell_type": "markdown",
   "id": "b017d693-bd39-411b-99d5-b258c01babfc",
   "metadata": {},
   "source": [
    "Expanding Window Split\n",
    "Ver sección 4.2 del paper"
   ]
  },
  {
   "cell_type": "code",
   "execution_count": 17,
   "id": "47c7ff1a-4e27-4875-8558-a53831079695",
   "metadata": {},
   "outputs": [],
   "source": [
    "def split_time_serie(df, window_size, horizon): \n",
    "    n = len(df)\n",
    "    train_indices = L()\n",
    "    test_indices = L()\n",
    "    train_dates = L()\n",
    "    test_dates = L()\n",
    "    train_values = []\n",
    "    test_values = []\n",
    "    for start in range(0, n, horizon):\n",
    "        end_train = start + window_size + (start // horizon) * horizon\n",
    "\n",
    "        # Asegurarse de que la ventana de entrenamiento no excede el tamaño del DataFrame\n",
    "        if end_train > n:\n",
    "            break\n",
    "        train_date = df.index[0:end_train]\n",
    "        train_id = L(range(0,end_train))\n",
    "        train_value = df.iloc[train_id].values.flatten()\n",
    "        end_test = end_train + horizon\n",
    "        # Asegurarse de que la ventana de prueba no excede el tamaño del DataFrame\n",
    "        if end_test > n:\n",
    "            test_date = df.index[end_train:]\n",
    "            test_id = L(range(end_train, n)) #len(test_dates))\n",
    "            test_value = df.iloc[end_train:].values.flatten()\n",
    "        else:\n",
    "            test_date = df.index[end_train:end_test]\n",
    "            test_id = L(range(end_train,end_test))\n",
    "            test_value = df.iloc[end_train:end_test].values.flatten()\n",
    "\n",
    "        train_indices.append(train_id)\n",
    "        train_dates.append(train_date)\n",
    "        train_values.append(train_value)\n",
    "        test_indices.append(test_id)\n",
    "        test_dates.append(test_date)\n",
    "        test_values.append(test_value)\n",
    "    return (train_indices, test_indices), (train_dates, test_dates), (train_values, test_values)"
   ]
  },
  {
   "cell_type": "code",
   "execution_count": 18,
   "id": "e82a38d8-112f-49a2-bacd-ff19dab8f6bf",
   "metadata": {},
   "outputs": [],
   "source": [
    "splits, splits_dates, splits_values = split_time_serie(df_peyton, window_length, horizon)"
   ]
  },
  {
   "cell_type": "code",
   "execution_count": 19,
   "id": "ba5edc1c-1710-4838-91dc-23c5cb5eee1d",
   "metadata": {},
   "outputs": [
    {
     "data": {
      "text/plain": [
       "array([9.59076114, 8.51959032, 8.18367658, 8.07246737, 7.89357207,\n",
       "       7.7836406 , 8.41405243, 8.82922635, 8.38251829, 8.06965531,\n",
       "       7.87929149, 7.76174498, 7.52940646, 8.38526052, 8.62011073,\n",
       "       7.85243909, 7.85399309, 8.05197808, 7.9266026 , 7.83834332,\n",
       "       9.70314458, 9.38597294, 8.29379961, 8.43468077, 8.26204284,\n",
       "       8.10681604, 7.95014989, 9.50925908, 8.84678467, 8.43054538])"
      ]
     },
     "execution_count": 19,
     "metadata": {},
     "output_type": "execute_result"
    }
   ],
   "source": [
    "X_train = splits_values[0]\n",
    "X_train[0]"
   ]
  },
  {
   "cell_type": "code",
   "execution_count": 20,
   "id": "12c3052d-d454-4f02-944e-251b9826ac0d",
   "metadata": {},
   "outputs": [
    {
     "data": {
      "text/plain": [
       "array([ 8.24826745,  8.28172399,  8.29279886,  8.19918936,  9.99652242,\n",
       "       10.12707101,  8.93379604,  8.56617381,  8.5477224 ,  8.39976009,\n",
       "        8.22309055,  8.83898679, 10.89720218,  9.44493807,  8.92332474])"
      ]
     },
     "execution_count": 20,
     "metadata": {},
     "output_type": "execute_result"
    }
   ],
   "source": [
    "X_test = splits_values[1]\n",
    "X_test[0]"
   ]
  },
  {
   "cell_type": "code",
   "execution_count": 21,
   "id": "22b1cb32-cf17-4218-935f-485a6728a710",
   "metadata": {},
   "outputs": [
    {
     "data": {
      "text/plain": [
       "(#30) [0,1,2,3,4,5,6,7,8,9...]"
      ]
     },
     "execution_count": 21,
     "metadata": {},
     "output_type": "execute_result"
    }
   ],
   "source": [
    "splits[0][0]"
   ]
  },
  {
   "cell_type": "code",
   "execution_count": 22,
   "id": "403b0929-8f97-4930-b5a3-b187910bf41b",
   "metadata": {},
   "outputs": [],
   "source": [
    "batch_tfms = [TSStandardize(by_sample=False, by_var=False, by_step=False)]"
   ]
  },
  {
   "cell_type": "code",
   "execution_count": 23,
   "id": "1bc53c7e-a46d-4153-b1bd-ae13ea02ff68",
   "metadata": {},
   "outputs": [],
   "source": [
    "tfms = [TSStandardize(by_sample=False, by_var=False, by_step=False)]"
   ]
  },
  {
   "cell_type": "code",
   "execution_count": 24,
   "id": "29cd06c2-aaf7-42de-a279-7c070428c842",
   "metadata": {},
   "outputs": [],
   "source": [
    "from torch.utils.data import Dataset\n",
    "from fastai.data.core import DataLoaders\n",
    "class ExpandingWindowDataset(Dataset):\n",
    "    def __init__(self, X, n_vars, n_features, ts_vars = 1):\n",
    "        self.X = X  # X should be a list of arrays, one for each expanding window\n",
    "        self.vars = n_vars\n",
    "        self.c = n_features\n",
    "        self.len = max([len(x) for x in X])\n",
    "        self.d = ts_vars\n",
    "    def __len__(self):\n",
    "        return len(self.X)\n",
    "\n",
    "    def __getitem__(self, idx):\n",
    "        return torch.tensor(self.X[idx], dtype=torch.float)"
   ]
  },
  {
   "cell_type": "code",
   "execution_count": 25,
   "id": "ad952f45-46b5-4fb5-bbb3-fe60433ca058",
   "metadata": {},
   "outputs": [
    {
     "data": {
      "text/plain": [
       "<__main__.ExpandingWindowDataset at 0x7f7b645b3550>"
      ]
     },
     "execution_count": 25,
     "metadata": {},
     "output_type": "execute_result"
    }
   ],
   "source": [
    "train_ds = ExpandingWindowDataset(X_train, 1, 1)\n",
    "train_ds"
   ]
  },
  {
   "cell_type": "code",
   "execution_count": 26,
   "id": "c3461d6d-3e5e-43d7-bfa7-3baddd23d661",
   "metadata": {},
   "outputs": [
    {
     "data": {
      "text/plain": [
       "<__main__.ExpandingWindowDataset at 0x7f7b645b3460>"
      ]
     },
     "execution_count": 26,
     "metadata": {},
     "output_type": "execute_result"
    }
   ],
   "source": [
    "test_ds = ExpandingWindowDataset(X_test, 1, 1)\n",
    "test_ds"
   ]
  },
  {
   "cell_type": "code",
   "execution_count": 73,
   "id": "d18b28fd-5be6-4104-bc54-70ea2fb68762",
   "metadata": {},
   "outputs": [],
   "source": [
    "train_dl = TSDataLoader(train_ds, batch_size = 64, shuffle = True)"
   ]
  },
  {
   "cell_type": "code",
   "execution_count": 74,
   "id": "87edd91b-c1f6-42b3-92e1-411950fbe343",
   "metadata": {},
   "outputs": [],
   "source": [
    "test_dl = TSDataLoader(test_ds, batch_size = 64, shuffle = False)"
   ]
  },
  {
   "cell_type": "code",
   "execution_count": 81,
   "id": "6f1a978b-e0b4-4ad6-aa10-75a59571995d",
   "metadata": {},
   "outputs": [],
   "source": [
    "dls = TSDataLoaders(train_dl, test_dl)"
   ]
  },
  {
   "cell_type": "code",
   "execution_count": 30,
   "id": "0373b1a0-5339-43fa-80b1-717b7dd5204f",
   "metadata": {},
   "outputs": [],
   "source": [
    "#### No sabría ahora mismo implementar tfms, bs y batch_tfms\n",
    "## dls = get_ts_dls(X_train, splits = splits[0], tfms = tfms, bs = 64, batch_tfms = batch_tfms)\n",
    "## No funciona porque al ser expanding windows no son uniformes"
   ]
  },
  {
   "cell_type": "code",
   "execution_count": 31,
   "id": "dd66caf6-c48f-4e66-afa0-58d37c1bf43e",
   "metadata": {},
   "outputs": [],
   "source": [
    "def plot_split_distribution(splits):\n",
    "    fig, ax = plt.subplots(figsize=(10, 2))\n",
    "    for i, (train_split, test_split) in enumerate(zip(splits[0], splits[1])):\n",
    "        ax.broken_barh([(min(train_split), len(train_split)), (min(test_split), len(test_split))], (i, 0.8), facecolors=('grey', 'orange'))\n",
    "    ax.set_yticks([])\n",
    "    ax.set_title('Split distribution')\n",
    "    plt.show()"
   ]
  },
  {
   "cell_type": "code",
   "execution_count": 32,
   "id": "6071f0f2-2b3c-45df-8022-a762fb2fad3a",
   "metadata": {},
   "outputs": [
    {
     "data": {
      "image/png": "[encoded data removed]",
      "text/plain": [
       "<Figure size 1000x200 with 1 Axes>"
      ]
     },
     "metadata": {},
     "output_type": "display_data"
    }
   ],
   "source": [
    "plot_split_distribution(splits)"
   ]
  },
  {
   "cell_type": "code",
   "execution_count": 33,
   "id": "913f87bc-de35-4251-841f-5887341a47df",
   "metadata": {},
   "outputs": [
    {
     "data": {
      "text/plain": [
       "96"
      ]
     },
     "execution_count": 33,
     "metadata": {},
     "output_type": "execute_result"
    }
   ],
   "source": [
    "len(splits[0])"
   ]
  },
  {
   "cell_type": "code",
   "execution_count": 34,
   "id": "0e32e286-d439-4fa9-8bf2-8fc9bf9671c0",
   "metadata": {},
   "outputs": [
    {
     "data": {
      "text/plain": [
       "96"
      ]
     },
     "execution_count": 34,
     "metadata": {},
     "output_type": "execute_result"
    }
   ],
   "source": [
    "len(splits[0])"
   ]
  },
  {
   "cell_type": "code",
   "execution_count": 35,
   "id": "170a2a3f-1b6b-4b6d-9291-f973e9b00a02",
   "metadata": {},
   "outputs": [
    {
     "name": "stdout",
     "output_type": "stream",
     "text": [
      "DatetimeIndex(['2007-12-10', '2007-12-11', '2007-12-12', '2007-12-13',\n",
      "               '2007-12-14', '2007-12-15', '2007-12-16', '2007-12-17',\n",
      "               '2007-12-18', '2007-12-19', '2007-12-20', '2007-12-21',\n",
      "               '2007-12-22', '2007-12-23', '2007-12-24', '2007-12-25',\n",
      "               '2007-12-26', '2007-12-27', '2007-12-28', '2007-12-29',\n",
      "               '2007-12-30', '2007-12-31', '2008-01-01', '2008-01-02',\n",
      "               '2008-01-03', '2008-01-04', '2008-01-05', '2008-01-06',\n",
      "               '2008-01-07', '2008-01-08'],\n",
      "              dtype='datetime64[ns]', freq='D')\n",
      "30\n"
     ]
    }
   ],
   "source": [
    "print(splits_dates[0][0])\n",
    "print(len(splits[0][0]))"
   ]
  },
  {
   "cell_type": "code",
   "execution_count": 36,
   "id": "6ce25bab-020c-4720-8552-67e8ba2ae702",
   "metadata": {},
   "outputs": [
    {
     "name": "stdout",
     "output_type": "stream",
     "text": [
      "DatetimeIndex(['2008-01-09', '2008-01-10', '2008-01-11', '2008-01-12',\n",
      "               '2008-01-13', '2008-01-14', '2008-01-15', '2008-01-16',\n",
      "               '2008-01-17', '2008-01-18', '2008-01-19', '2008-01-20',\n",
      "               '2008-01-21', '2008-01-22', '2008-01-23'],\n",
      "              dtype='datetime64[ns]', freq='D')\n",
      "15\n"
     ]
    }
   ],
   "source": [
    "print(splits_dates[1][0])\n",
    "print(len(splits[1][0]))"
   ]
  },
  {
   "cell_type": "code",
   "execution_count": 37,
   "id": "ca42030e-0d8e-43b6-93e8-962b172ab268",
   "metadata": {},
   "outputs": [
    {
     "name": "stdout",
     "output_type": "stream",
     "text": [
      "[0, 1, 2, 3, 4, 5, 6, 7, 8, 9, 10, 11, 12, 13, 14, 15, 16, 17, 18, 19, 20, 21, 22, 23, 24, 25, 26, 27, 28, 29]\n",
      "[0, 1, 2, 3, 4, 5, 6, 7, 8, 9, 10, 11, 12, 13, 14, 15, 16, 17, 18, 19, 20, 21, 22, 23, 24, 25, 26, 27, 28, 29, 30, 31, 32, 33, 34, 35, 36, 37, 38, 39, 40, 41, 42, 43, 44, 45, 46, 47, 48, 49, 50, 51, 52, 53, 54, 55, 56, 57, 58, 59]\n"
     ]
    }
   ],
   "source": [
    "print(splits[0][0])\n",
    "print(splits[0][1])"
   ]
  },
  {
   "cell_type": "code",
   "execution_count": 38,
   "id": "9208cd04-c78b-43fe-9fab-e70feeaea23c",
   "metadata": {},
   "outputs": [
    {
     "name": "stdout",
     "output_type": "stream",
     "text": [
      "[30, 31, 32, 33, 34, 35, 36, 37, 38, 39, 40, 41, 42, 43, 44]\n",
      "[60, 61, 62, 63, 64, 65, 66, 67, 68, 69, 70, 71, 72, 73, 74]\n"
     ]
    }
   ],
   "source": [
    "print(splits[1][0])\n",
    "print(splits[1][1])"
   ]
  },
  {
   "cell_type": "code",
   "execution_count": 39,
   "id": "e7e1b31b-aac8-4d57-aa44-b9a373869910",
   "metadata": {},
   "outputs": [
    {
     "name": "stdout",
     "output_type": "stream",
     "text": [
      "DatetimeIndex(['2007-12-10', '2007-12-11', '2007-12-12', '2007-12-13',\n",
      "               '2007-12-14', '2007-12-15', '2007-12-16', '2007-12-17',\n",
      "               '2007-12-18', '2007-12-19',\n",
      "               ...\n",
      "               '2015-10-19', '2015-10-20', '2015-10-21', '2015-10-22',\n",
      "               '2015-10-23', '2015-10-24', '2015-10-25', '2015-10-26',\n",
      "               '2015-10-27', '2015-10-28'],\n",
      "              dtype='datetime64[ns]', length=2880, freq='D')\n",
      "[0, 1, 2, 3, 4]\n",
      "[2880, 2881, 2882, 2883, 2884]\n"
     ]
    }
   ],
   "source": [
    "print(splits_dates[0][95])\n",
    "print(splits[0][95][:5])\n",
    "print(splits[1][95][:5])"
   ]
  },
  {
   "cell_type": "code",
   "execution_count": 40,
   "id": "883513ac-164e-407c-808a-e49a47b50609",
   "metadata": {},
   "outputs": [],
   "source": [
    "from matplotlib.ticker import MaxNLocator\n",
    "import seaborn as sns\n",
    "from warnings import simplefilter\n",
    "\n",
    "import numpy as np\n",
    "import pandas as pd\n",
    "import matplotlib.pyplot as plt\n",
    "from matplotlib.ticker import MaxNLocator\n",
    "import seaborn as sns\n",
    "from warnings import simplefilter\n",
    "\n",
    "def plot_windows(y, train_windows, test_windows, num_windows = 5, title=\"\"):\n",
    "    \"\"\"Visualize training and test windows.\"\"\"\n",
    "    simplefilter(\"ignore\", category=UserWarning)\n",
    "\n",
    "    def get_y(length, split):\n",
    "        \"\"\"Create a constant vector based on the split for y-axis.\"\"\"\n",
    "        return np.ones(length) * split\n",
    "\n",
    "    n_splits = len(train_windows)\n",
    "    n_timepoints = len(y)\n",
    "    len_test = len(test_windows[0])\n",
    "\n",
    "    train_color, test_color = sns.color_palette(\"colorblind\")[:2]\n",
    "\n",
    "    fig, ax = plt.subplots(figsize=plt.figaspect(0.3))\n",
    "    \n",
    "    for i in range(min(n_splits, num_windows)):\n",
    "        train = train_windows[i]\n",
    "        test = test_windows[i]\n",
    "\n",
    "        ax.plot(\n",
    "            y.index[train], get_y(len(train), i), marker=\"o\", c=train_color, \n",
    "            label=\"Entrenamiento\" if i == 0 else \"\"\n",
    "        )\n",
    "        ax.plot(\n",
    "            y.index[test],  # Usar los índices de la serie de tiempo para el eje x\n",
    "            get_y(len(test), i),\n",
    "            marker=\"o\",\n",
    "            c=test_color,\n",
    "            label=\"Prueba\" if i == 0 else \"\"\n",
    "        )\n",
    "        ax.invert_yaxis()\n",
    "        ax.yaxis.set_major_locator(MaxNLocator(integer=True))\n",
    "        ax.set(\n",
    "            title=title,\n",
    "            ylabel=\"Número de ventana\",\n",
    "            xlabel=\"Tiempo\"\n",
    "        )\n",
    "\n",
    "    # Set the x-ticks to be the index of y, rotated for better readability\n",
    "    ax.set_xticks(y.index)\n",
    "    ax.set_xticklabels([str(idx) for idx in y.index], rotation=135, ha='right')\n",
    "\n",
    "    # Seleccionar un subconjunto de etiquetas para mostrar\n",
    "    ticks_to_show = np.linspace(0, n_timepoints - 1, min(20, n_timepoints), dtype=int)\n",
    "    ax.set_xticks(y.index[ticks_to_show])\n",
    "    ax.set_xticklabels([str(y.index[idx]) for idx in ticks_to_show], rotation=90, ha='right')\n",
    "\n",
    "    # Remove duplicate labels/handles\n",
    "\n",
    "    plt.tight_layout()  # Ajustar el layout para evitar solapamientos\n",
    "    plt.show()\n"
   ]
  },
  {
   "cell_type": "code",
   "execution_count": 41,
   "id": "4560e2e2-03d5-41c4-82bf-5f6a67810d35",
   "metadata": {},
   "outputs": [],
   "source": [
    "train_windows, test_windows = splits"
   ]
  },
  {
   "cell_type": "code",
   "execution_count": 42,
   "id": "22a59c6d-c537-4916-9e39-1c6c1aa0830e",
   "metadata": {},
   "outputs": [
    {
     "data": {
      "image/png": "[encoded data removed]",
      "text/plain": [
       "<Figure size 1600x480 with 1 Axes>"
      ]
     },
     "metadata": {},
     "output_type": "display_data"
    }
   ],
   "source": [
    "plot_windows(df_peyton, train_windows, test_windows, num_windows = 6, title   = \"Peyton Expand Windows\")"
   ]
  },
  {
   "cell_type": "code",
   "execution_count": 43,
   "id": "c021ebb7-5109-40a5-83a9-78179bb438b2",
   "metadata": {},
   "outputs": [
    {
     "data": {
      "image/png": "[encoded data removed]",
      "text/plain": [
       "<Figure size 1600x480 with 1 Axes>"
      ]
     },
     "metadata": {},
     "output_type": "display_data"
    }
   ],
   "source": [
    "plot_windows(df_peyton, train_windows, test_windows, num_windows = 95, title   = \"Peyton Expand Windows\")"
   ]
  },
  {
   "cell_type": "code",
   "execution_count": 76,
   "id": "f42770a9-19c5-4bd7-8261-038001b40a8e",
   "metadata": {},
   "outputs": [
    {
     "ename": "TypeError",
     "evalue": "list indices must be integers or slices, not list",
     "output_type": "error",
     "traceback": [
      "\u001b[0;31m---------------------------------------------------------------------------\u001b[0m",
      "\u001b[0;31mTypeError\u001b[0m                                 Traceback (most recent call last)",
      "Cell \u001b[0;32mIn[76], line 1\u001b[0m\n\u001b[0;32m----> 1\u001b[0m model \u001b[38;5;241m=\u001b[39m create_model(InceptionTime, c_in\u001b[38;5;241m=\u001b[39m\u001b[43mtrain_dl\u001b[49m\u001b[38;5;241;43m.\u001b[39;49m\u001b[43mvars\u001b[49m, c_out\u001b[38;5;241m=\u001b[39mtrain_dl\u001b[38;5;241m.\u001b[39mc, seq_len\u001b[38;5;241m=\u001b[39mtrain_dl\u001b[38;5;241m.\u001b[39mlen)\n",
      "File \u001b[0;32m~/env/lib/python3.10/site-packages/tsai/data/core.py:839\u001b[0m, in \u001b[0;36mTSDataLoader.vars\u001b[0;34m(self)\u001b[0m\n\u001b[1;32m    836\u001b[0m \u001b[38;5;129m@property\u001b[39m\n\u001b[1;32m    837\u001b[0m \u001b[38;5;28;01mdef\u001b[39;00m \u001b[38;5;21mvars\u001b[39m(\u001b[38;5;28mself\u001b[39m):\n\u001b[1;32m    838\u001b[0m     \u001b[38;5;28;01mif\u001b[39;00m \u001b[38;5;28mlen\u001b[39m(\u001b[38;5;28mself\u001b[39m\u001b[38;5;241m.\u001b[39mdataset) \u001b[38;5;241m==\u001b[39m \u001b[38;5;241m0\u001b[39m: \u001b[38;5;28;01mreturn\u001b[39;00m \u001b[38;5;241m0\u001b[39m\n\u001b[0;32m--> 839\u001b[0m     b \u001b[38;5;241m=\u001b[39m \u001b[38;5;28;43mself\u001b[39;49m\u001b[38;5;241;43m.\u001b[39;49m\u001b[43mone_batch\u001b[49m\u001b[43m(\u001b[49m\u001b[43m)\u001b[49m\n\u001b[1;32m    840\u001b[0m     i \u001b[38;5;241m=\u001b[39m \u001b[38;5;28mgetattr\u001b[39m(\u001b[38;5;28mself\u001b[39m, \u001b[38;5;124m'\u001b[39m\u001b[38;5;124mn_inp\u001b[39m\u001b[38;5;124m'\u001b[39m, \u001b[38;5;241m1\u001b[39m \u001b[38;5;28;01mif\u001b[39;00m \u001b[38;5;28mlen\u001b[39m(b)\u001b[38;5;241m==\u001b[39m\u001b[38;5;241m1\u001b[39m \u001b[38;5;28;01melse\u001b[39;00m \u001b[38;5;28mlen\u001b[39m(b)\u001b[38;5;241m-\u001b[39m\u001b[38;5;241m1\u001b[39m)\n\u001b[1;32m    841\u001b[0m     xb \u001b[38;5;241m=\u001b[39m b[:i]\n",
      "File \u001b[0;32m~/env/lib/python3.10/site-packages/fastai/data/load.py:172\u001b[0m, in \u001b[0;36mDataLoader.one_batch\u001b[0;34m(self)\u001b[0m\n\u001b[1;32m    170\u001b[0m \u001b[38;5;28;01mdef\u001b[39;00m \u001b[38;5;21mone_batch\u001b[39m(\u001b[38;5;28mself\u001b[39m):\n\u001b[1;32m    171\u001b[0m     \u001b[38;5;28;01mif\u001b[39;00m \u001b[38;5;28mself\u001b[39m\u001b[38;5;241m.\u001b[39mn \u001b[38;5;129;01mis\u001b[39;00m \u001b[38;5;129;01mnot\u001b[39;00m \u001b[38;5;28;01mNone\u001b[39;00m \u001b[38;5;129;01mand\u001b[39;00m \u001b[38;5;28mlen\u001b[39m(\u001b[38;5;28mself\u001b[39m)\u001b[38;5;241m==\u001b[39m\u001b[38;5;241m0\u001b[39m: \u001b[38;5;28;01mraise\u001b[39;00m \u001b[38;5;167;01mValueError\u001b[39;00m(\u001b[38;5;124mf\u001b[39m\u001b[38;5;124m'\u001b[39m\u001b[38;5;124mThis DataLoader does not contain any batches\u001b[39m\u001b[38;5;124m'\u001b[39m)\n\u001b[0;32m--> 172\u001b[0m     \u001b[38;5;28;01mwith\u001b[39;00m \u001b[38;5;28mself\u001b[39m\u001b[38;5;241m.\u001b[39mfake_l\u001b[38;5;241m.\u001b[39mno_multiproc(): res \u001b[38;5;241m=\u001b[39m \u001b[43mfirst\u001b[49m\u001b[43m(\u001b[49m\u001b[38;5;28;43mself\u001b[39;49m\u001b[43m)\u001b[49m\n\u001b[1;32m    173\u001b[0m     \u001b[38;5;28;01mif\u001b[39;00m \u001b[38;5;28mhasattr\u001b[39m(\u001b[38;5;28mself\u001b[39m, \u001b[38;5;124m'\u001b[39m\u001b[38;5;124mit\u001b[39m\u001b[38;5;124m'\u001b[39m): \u001b[38;5;28mdelattr\u001b[39m(\u001b[38;5;28mself\u001b[39m, \u001b[38;5;124m'\u001b[39m\u001b[38;5;124mit\u001b[39m\u001b[38;5;124m'\u001b[39m)\n\u001b[1;32m    174\u001b[0m     \u001b[38;5;28;01mreturn\u001b[39;00m res\n",
      "File \u001b[0;32m~/env/lib/python3.10/site-packages/fastcore/basics.py:660\u001b[0m, in \u001b[0;36mfirst\u001b[0;34m(x, f, negate, **kwargs)\u001b[0m\n\u001b[1;32m    658\u001b[0m x \u001b[38;5;241m=\u001b[39m \u001b[38;5;28miter\u001b[39m(x)\n\u001b[1;32m    659\u001b[0m \u001b[38;5;28;01mif\u001b[39;00m f: x \u001b[38;5;241m=\u001b[39m filter_ex(x, f\u001b[38;5;241m=\u001b[39mf, negate\u001b[38;5;241m=\u001b[39mnegate, gen\u001b[38;5;241m=\u001b[39m\u001b[38;5;28;01mTrue\u001b[39;00m, \u001b[38;5;241m*\u001b[39m\u001b[38;5;241m*\u001b[39mkwargs)\n\u001b[0;32m--> 660\u001b[0m \u001b[38;5;28;01mreturn\u001b[39;00m \u001b[38;5;28;43mnext\u001b[39;49m\u001b[43m(\u001b[49m\u001b[43mx\u001b[49m\u001b[43m,\u001b[49m\u001b[43m \u001b[49m\u001b[38;5;28;43;01mNone\u001b[39;49;00m\u001b[43m)\u001b[49m\n",
      "File \u001b[0;32m~/env/lib/python3.10/site-packages/fastai/data/load.py:127\u001b[0m, in \u001b[0;36mDataLoader.__iter__\u001b[0;34m(self)\u001b[0m\n\u001b[1;32m    125\u001b[0m \u001b[38;5;28mself\u001b[39m\u001b[38;5;241m.\u001b[39mbefore_iter()\n\u001b[1;32m    126\u001b[0m \u001b[38;5;28mself\u001b[39m\u001b[38;5;241m.\u001b[39m__idxs\u001b[38;5;241m=\u001b[39m\u001b[38;5;28mself\u001b[39m\u001b[38;5;241m.\u001b[39mget_idxs() \u001b[38;5;66;03m# called in context of main process (not workers/subprocesses)\u001b[39;00m\n\u001b[0;32m--> 127\u001b[0m \u001b[38;5;28;01mfor\u001b[39;00m b \u001b[38;5;129;01min\u001b[39;00m _loaders[\u001b[38;5;28mself\u001b[39m\u001b[38;5;241m.\u001b[39mfake_l\u001b[38;5;241m.\u001b[39mnum_workers\u001b[38;5;241m==\u001b[39m\u001b[38;5;241m0\u001b[39m](\u001b[38;5;28mself\u001b[39m\u001b[38;5;241m.\u001b[39mfake_l):\n\u001b[1;32m    128\u001b[0m     \u001b[38;5;66;03m# pin_memory causes tuples to be converted to lists, so convert them back to tuples\u001b[39;00m\n\u001b[1;32m    129\u001b[0m     \u001b[38;5;28;01mif\u001b[39;00m \u001b[38;5;28mself\u001b[39m\u001b[38;5;241m.\u001b[39mpin_memory \u001b[38;5;129;01mand\u001b[39;00m \u001b[38;5;28mtype\u001b[39m(b) \u001b[38;5;241m==\u001b[39m \u001b[38;5;28mlist\u001b[39m: b \u001b[38;5;241m=\u001b[39m \u001b[38;5;28mtuple\u001b[39m(b)\n\u001b[1;32m    130\u001b[0m     \u001b[38;5;28;01mif\u001b[39;00m \u001b[38;5;28mself\u001b[39m\u001b[38;5;241m.\u001b[39mdevice \u001b[38;5;129;01mis\u001b[39;00m \u001b[38;5;129;01mnot\u001b[39;00m \u001b[38;5;28;01mNone\u001b[39;00m: b \u001b[38;5;241m=\u001b[39m to_device(b, \u001b[38;5;28mself\u001b[39m\u001b[38;5;241m.\u001b[39mdevice)\n",
      "File \u001b[0;32m~/env/lib/python3.10/site-packages/torch/utils/data/dataloader.py:628\u001b[0m, in \u001b[0;36m_BaseDataLoaderIter.__next__\u001b[0;34m(self)\u001b[0m\n\u001b[1;32m    625\u001b[0m \u001b[38;5;28;01mif\u001b[39;00m \u001b[38;5;28mself\u001b[39m\u001b[38;5;241m.\u001b[39m_sampler_iter \u001b[38;5;129;01mis\u001b[39;00m \u001b[38;5;28;01mNone\u001b[39;00m:\n\u001b[1;32m    626\u001b[0m     \u001b[38;5;66;03m# TODO(https://github.com/pytorch/pytorch/issues/76750)\u001b[39;00m\n\u001b[1;32m    627\u001b[0m     \u001b[38;5;28mself\u001b[39m\u001b[38;5;241m.\u001b[39m_reset()  \u001b[38;5;66;03m# type: ignore[call-arg]\u001b[39;00m\n\u001b[0;32m--> 628\u001b[0m data \u001b[38;5;241m=\u001b[39m \u001b[38;5;28;43mself\u001b[39;49m\u001b[38;5;241;43m.\u001b[39;49m\u001b[43m_next_data\u001b[49m\u001b[43m(\u001b[49m\u001b[43m)\u001b[49m\n\u001b[1;32m    629\u001b[0m \u001b[38;5;28mself\u001b[39m\u001b[38;5;241m.\u001b[39m_num_yielded \u001b[38;5;241m+\u001b[39m\u001b[38;5;241m=\u001b[39m \u001b[38;5;241m1\u001b[39m\n\u001b[1;32m    630\u001b[0m \u001b[38;5;28;01mif\u001b[39;00m \u001b[38;5;28mself\u001b[39m\u001b[38;5;241m.\u001b[39m_dataset_kind \u001b[38;5;241m==\u001b[39m _DatasetKind\u001b[38;5;241m.\u001b[39mIterable \u001b[38;5;129;01mand\u001b[39;00m \\\n\u001b[1;32m    631\u001b[0m         \u001b[38;5;28mself\u001b[39m\u001b[38;5;241m.\u001b[39m_IterableDataset_len_called \u001b[38;5;129;01mis\u001b[39;00m \u001b[38;5;129;01mnot\u001b[39;00m \u001b[38;5;28;01mNone\u001b[39;00m \u001b[38;5;129;01mand\u001b[39;00m \\\n\u001b[1;32m    632\u001b[0m         \u001b[38;5;28mself\u001b[39m\u001b[38;5;241m.\u001b[39m_num_yielded \u001b[38;5;241m>\u001b[39m \u001b[38;5;28mself\u001b[39m\u001b[38;5;241m.\u001b[39m_IterableDataset_len_called:\n",
      "File \u001b[0;32m~/env/lib/python3.10/site-packages/torch/utils/data/dataloader.py:671\u001b[0m, in \u001b[0;36m_SingleProcessDataLoaderIter._next_data\u001b[0;34m(self)\u001b[0m\n\u001b[1;32m    669\u001b[0m \u001b[38;5;28;01mdef\u001b[39;00m \u001b[38;5;21m_next_data\u001b[39m(\u001b[38;5;28mself\u001b[39m):\n\u001b[1;32m    670\u001b[0m     index \u001b[38;5;241m=\u001b[39m \u001b[38;5;28mself\u001b[39m\u001b[38;5;241m.\u001b[39m_next_index()  \u001b[38;5;66;03m# may raise StopIteration\u001b[39;00m\n\u001b[0;32m--> 671\u001b[0m     data \u001b[38;5;241m=\u001b[39m \u001b[38;5;28;43mself\u001b[39;49m\u001b[38;5;241;43m.\u001b[39;49m\u001b[43m_dataset_fetcher\u001b[49m\u001b[38;5;241;43m.\u001b[39;49m\u001b[43mfetch\u001b[49m\u001b[43m(\u001b[49m\u001b[43mindex\u001b[49m\u001b[43m)\u001b[49m  \u001b[38;5;66;03m# may raise StopIteration\u001b[39;00m\n\u001b[1;32m    672\u001b[0m     \u001b[38;5;28;01mif\u001b[39;00m \u001b[38;5;28mself\u001b[39m\u001b[38;5;241m.\u001b[39m_pin_memory:\n\u001b[1;32m    673\u001b[0m         data \u001b[38;5;241m=\u001b[39m _utils\u001b[38;5;241m.\u001b[39mpin_memory\u001b[38;5;241m.\u001b[39mpin_memory(data, \u001b[38;5;28mself\u001b[39m\u001b[38;5;241m.\u001b[39m_pin_memory_device)\n",
      "File \u001b[0;32m~/env/lib/python3.10/site-packages/torch/utils/data/_utils/fetch.py:43\u001b[0m, in \u001b[0;36m_IterableDatasetFetcher.fetch\u001b[0;34m(self, possibly_batched_index)\u001b[0m\n\u001b[1;32m     41\u001b[0m         \u001b[38;5;28;01mraise\u001b[39;00m \u001b[38;5;167;01mStopIteration\u001b[39;00m\n\u001b[1;32m     42\u001b[0m \u001b[38;5;28;01melse\u001b[39;00m:\n\u001b[0;32m---> 43\u001b[0m     data \u001b[38;5;241m=\u001b[39m \u001b[38;5;28;43mnext\u001b[39;49m\u001b[43m(\u001b[49m\u001b[38;5;28;43mself\u001b[39;49m\u001b[38;5;241;43m.\u001b[39;49m\u001b[43mdataset_iter\u001b[49m\u001b[43m)\u001b[49m\n\u001b[1;32m     44\u001b[0m \u001b[38;5;28;01mreturn\u001b[39;00m \u001b[38;5;28mself\u001b[39m\u001b[38;5;241m.\u001b[39mcollate_fn(data)\n",
      "File \u001b[0;32m~/env/lib/python3.10/site-packages/fastai/data/load.py:138\u001b[0m, in \u001b[0;36mDataLoader.create_batches\u001b[0;34m(self, samps)\u001b[0m\n\u001b[1;32m    136\u001b[0m \u001b[38;5;28;01mif\u001b[39;00m \u001b[38;5;28mself\u001b[39m\u001b[38;5;241m.\u001b[39mdataset \u001b[38;5;129;01mis\u001b[39;00m \u001b[38;5;129;01mnot\u001b[39;00m \u001b[38;5;28;01mNone\u001b[39;00m: \u001b[38;5;28mself\u001b[39m\u001b[38;5;241m.\u001b[39mit \u001b[38;5;241m=\u001b[39m \u001b[38;5;28miter\u001b[39m(\u001b[38;5;28mself\u001b[39m\u001b[38;5;241m.\u001b[39mdataset)\n\u001b[1;32m    137\u001b[0m res \u001b[38;5;241m=\u001b[39m \u001b[38;5;28mfilter\u001b[39m(\u001b[38;5;28;01mlambda\u001b[39;00m o:o \u001b[38;5;129;01mis\u001b[39;00m \u001b[38;5;129;01mnot\u001b[39;00m \u001b[38;5;28;01mNone\u001b[39;00m, \u001b[38;5;28mmap\u001b[39m(\u001b[38;5;28mself\u001b[39m\u001b[38;5;241m.\u001b[39mdo_item, samps))\n\u001b[0;32m--> 138\u001b[0m \u001b[38;5;28;01myield from\u001b[39;00m \u001b[38;5;28mmap\u001b[39m(\u001b[38;5;28mself\u001b[39m\u001b[38;5;241m.\u001b[39mdo_batch, \u001b[38;5;28mself\u001b[39m\u001b[38;5;241m.\u001b[39mchunkify(res))\n",
      "File \u001b[0;32m~/env/lib/python3.10/site-packages/fastai/data/load.py:168\u001b[0m, in \u001b[0;36mDataLoader.do_batch\u001b[0;34m(self, b)\u001b[0m\n\u001b[0;32m--> 168\u001b[0m \u001b[38;5;28;01mdef\u001b[39;00m \u001b[38;5;21mdo_batch\u001b[39m(\u001b[38;5;28mself\u001b[39m, b): \u001b[38;5;28;01mreturn\u001b[39;00m \u001b[38;5;28mself\u001b[39m\u001b[38;5;241m.\u001b[39mretain(\u001b[38;5;28;43mself\u001b[39;49m\u001b[38;5;241;43m.\u001b[39;49m\u001b[43mcreate_batch\u001b[49m\u001b[43m(\u001b[49m\u001b[38;5;28;43mself\u001b[39;49m\u001b[38;5;241;43m.\u001b[39;49m\u001b[43mbefore_batch\u001b[49m\u001b[43m(\u001b[49m\u001b[43mb\u001b[49m\u001b[43m)\u001b[49m\u001b[43m)\u001b[49m, b)\n",
      "File \u001b[0;32m~/env/lib/python3.10/site-packages/tsai/data/core.py:656\u001b[0m, in \u001b[0;36mNumpyDataLoader.create_batch\u001b[0;34m(self, b)\u001b[0m\n\u001b[1;32m    654\u001b[0m     \u001b[38;5;28mself\u001b[39m\u001b[38;5;241m.\u001b[39minput_idxs \u001b[38;5;241m=\u001b[39m \u001b[38;5;28mself\u001b[39m\u001b[38;5;241m.\u001b[39msplit_idxs[b]\n\u001b[1;32m    655\u001b[0m \u001b[38;5;28;01melse\u001b[39;00m: \u001b[38;5;28mself\u001b[39m\u001b[38;5;241m.\u001b[39minput_idxs \u001b[38;5;241m=\u001b[39m \u001b[38;5;28mself\u001b[39m\u001b[38;5;241m.\u001b[39midxs\n\u001b[0;32m--> 656\u001b[0m \u001b[38;5;28;01mreturn\u001b[39;00m \u001b[38;5;28;43mself\u001b[39;49m\u001b[38;5;241;43m.\u001b[39;49m\u001b[43mdataset\u001b[49m\u001b[43m[\u001b[49m\u001b[43mb\u001b[49m\u001b[43m]\u001b[49m\n",
      "Cell \u001b[0;32mIn[24], line 14\u001b[0m, in \u001b[0;36mExpandingWindowDataset.__getitem__\u001b[0;34m(self, idx)\u001b[0m\n\u001b[1;32m     13\u001b[0m \u001b[38;5;28;01mdef\u001b[39;00m \u001b[38;5;21m__getitem__\u001b[39m(\u001b[38;5;28mself\u001b[39m, idx):\n\u001b[0;32m---> 14\u001b[0m     \u001b[38;5;28;01mreturn\u001b[39;00m torch\u001b[38;5;241m.\u001b[39mtensor(\u001b[38;5;28;43mself\u001b[39;49m\u001b[38;5;241;43m.\u001b[39;49m\u001b[43mX\u001b[49m\u001b[43m[\u001b[49m\u001b[43midx\u001b[49m\u001b[43m]\u001b[49m, dtype\u001b[38;5;241m=\u001b[39mtorch\u001b[38;5;241m.\u001b[39mfloat)\n",
      "\u001b[0;31mTypeError\u001b[0m: list indices must be integers or slices, not list"
     ]
    }
   ],
   "source": [
    "model = create_model(InceptionTime, c_in=train_dl.vars, c_out=train_dl.c, seq_len=train_dl.len)"
   ]
  },
  {
   "cell_type": "code",
   "execution_count": 82,
   "id": "9bb56fc8-266d-4846-83bc-1c52df21f2f4",
   "metadata": {},
   "outputs": [
    {
     "ename": "TypeError",
     "evalue": "list indices must be integers or slices, not list",
     "output_type": "error",
     "traceback": [
      "\u001b[0;31m---------------------------------------------------------------------------\u001b[0m",
      "\u001b[0;31mTypeError\u001b[0m                                 Traceback (most recent call last)",
      "Cell \u001b[0;32mIn[82], line 1\u001b[0m\n\u001b[0;32m----> 1\u001b[0m learn \u001b[38;5;241m=\u001b[39m \u001b[43mts_learner\u001b[49m\u001b[43m(\u001b[49m\u001b[43mdls\u001b[49m\u001b[43m,\u001b[49m\u001b[43m \u001b[49m\u001b[43mInceptionTime\u001b[49m\u001b[43m,\u001b[49m\u001b[43m \u001b[49m\u001b[43mmetrics\u001b[49m\u001b[38;5;241;43m=\u001b[39;49m\u001b[43m[\u001b[49m\u001b[43mrmse\u001b[49m\u001b[43m]\u001b[49m\u001b[43m)\u001b[49m\n",
      "File \u001b[0;32m~/env/lib/python3.10/site-packages/tsai/learner.py:614\u001b[0m, in \u001b[0;36mts_learner\u001b[0;34m(dls, arch, c_in, c_out, seq_len, d, s_cat_idxs, s_cat_embeddings, s_cat_embedding_dims, s_cont_idxs, o_cat_idxs, o_cat_embeddings, o_cat_embedding_dims, o_cont_idxs, splitter, loss_func, opt_func, lr, cbs, metrics, path, model_dir, wd, wd_bn_bias, train_bn, moms, train_metrics, valid_metrics, seed, **kwargs)\u001b[0m\n\u001b[1;32m    612\u001b[0m     \u001b[38;5;28;01mif\u001b[39;00m arch \u001b[38;5;129;01mis\u001b[39;00m \u001b[38;5;28;01mNone\u001b[39;00m: arch \u001b[38;5;241m=\u001b[39m InceptionTimePlus\n\u001b[1;32m    613\u001b[0m     \u001b[38;5;28;01melif\u001b[39;00m \u001b[38;5;28misinstance\u001b[39m(arch, \u001b[38;5;28mstr\u001b[39m): arch \u001b[38;5;241m=\u001b[39m get_arch(arch)\n\u001b[0;32m--> 614\u001b[0m     model \u001b[38;5;241m=\u001b[39m \u001b[43mbuild_ts_model\u001b[49m\u001b[43m(\u001b[49m\u001b[43march\u001b[49m\u001b[43m,\u001b[49m\u001b[43m \u001b[49m\u001b[43mdls\u001b[49m\u001b[38;5;241;43m=\u001b[39;49m\u001b[43mdls\u001b[49m\u001b[43m,\u001b[49m\u001b[43m \u001b[49m\u001b[43mc_in\u001b[49m\u001b[38;5;241;43m=\u001b[39;49m\u001b[43mc_in\u001b[49m\u001b[43m,\u001b[49m\u001b[43m \u001b[49m\u001b[43mc_out\u001b[49m\u001b[38;5;241;43m=\u001b[39;49m\u001b[43mc_out\u001b[49m\u001b[43m,\u001b[49m\u001b[43m \u001b[49m\u001b[43mseq_len\u001b[49m\u001b[38;5;241;43m=\u001b[39;49m\u001b[43mseq_len\u001b[49m\u001b[43m,\u001b[49m\u001b[43m \u001b[49m\u001b[43md\u001b[49m\u001b[38;5;241;43m=\u001b[39;49m\u001b[43md\u001b[49m\u001b[43m,\u001b[49m\u001b[43m \u001b[49m\n\u001b[1;32m    615\u001b[0m \u001b[43m                           \u001b[49m\u001b[43ms_cat_idxs\u001b[49m\u001b[38;5;241;43m=\u001b[39;49m\u001b[43ms_cat_idxs\u001b[49m\u001b[43m,\u001b[49m\u001b[43m \u001b[49m\u001b[43ms_cat_embeddings\u001b[49m\u001b[38;5;241;43m=\u001b[39;49m\u001b[43ms_cat_embeddings\u001b[49m\u001b[43m,\u001b[49m\u001b[43m \u001b[49m\u001b[43ms_cat_embedding_dims\u001b[49m\u001b[38;5;241;43m=\u001b[39;49m\u001b[43ms_cat_embedding_dims\u001b[49m\u001b[43m,\u001b[49m\u001b[43m \u001b[49m\u001b[43ms_cont_idxs\u001b[49m\u001b[38;5;241;43m=\u001b[39;49m\u001b[43ms_cont_idxs\u001b[49m\u001b[43m,\u001b[49m\u001b[43m \u001b[49m\n\u001b[1;32m    616\u001b[0m \u001b[43m                           \u001b[49m\u001b[43mo_cat_idxs\u001b[49m\u001b[38;5;241;43m=\u001b[39;49m\u001b[43mo_cat_idxs\u001b[49m\u001b[43m,\u001b[49m\u001b[43m \u001b[49m\u001b[43mo_cat_embeddings\u001b[49m\u001b[38;5;241;43m=\u001b[39;49m\u001b[43mo_cat_embeddings\u001b[49m\u001b[43m,\u001b[49m\u001b[43m \u001b[49m\u001b[43mo_cat_embedding_dims\u001b[49m\u001b[38;5;241;43m=\u001b[39;49m\u001b[43mo_cat_embedding_dims\u001b[49m\u001b[43m,\u001b[49m\u001b[43m \u001b[49m\u001b[43mo_cont_idxs\u001b[49m\u001b[38;5;241;43m=\u001b[39;49m\u001b[43mo_cont_idxs\u001b[49m\u001b[43m,\u001b[49m\u001b[43m \u001b[49m\u001b[38;5;241;43m*\u001b[39;49m\u001b[38;5;241;43m*\u001b[39;49m\u001b[43mkwargs\u001b[49m\u001b[43m)\u001b[49m\n\u001b[1;32m    617\u001b[0m \u001b[38;5;28;01mif\u001b[39;00m \u001b[38;5;28mhasattr\u001b[39m(model, \u001b[38;5;124m\"\u001b[39m\u001b[38;5;124mbackbone\u001b[39m\u001b[38;5;124m\"\u001b[39m) \u001b[38;5;129;01mand\u001b[39;00m \u001b[38;5;28mhasattr\u001b[39m(model, \u001b[38;5;124m\"\u001b[39m\u001b[38;5;124mhead\u001b[39m\u001b[38;5;124m\"\u001b[39m):\n\u001b[1;32m    618\u001b[0m     splitter \u001b[38;5;241m=\u001b[39m ts_splitter\n",
      "File \u001b[0;32m~/env/lib/python3.10/site-packages/tsai/models/utils.py:150\u001b[0m, in \u001b[0;36mbuild_ts_model\u001b[0;34m(arch, c_in, c_out, seq_len, d, dls, device, verbose, s_cat_idxs, s_cat_embeddings, s_cat_embedding_dims, s_cont_idxs, o_cat_idxs, o_cat_embeddings, o_cat_embedding_dims, o_cont_idxs, patch_len, patch_stride, fusion_layers, fusion_act, fusion_dropout, fusion_use_bn, pretrained, weights_path, exclude_head, cut, init, arch_config, **kwargs)\u001b[0m\n\u001b[1;32m    148\u001b[0m device \u001b[38;5;241m=\u001b[39m ifnone(device, default_device())\n\u001b[1;32m    149\u001b[0m \u001b[38;5;28;01mif\u001b[39;00m dls \u001b[38;5;129;01mis\u001b[39;00m \u001b[38;5;129;01mnot\u001b[39;00m \u001b[38;5;28;01mNone\u001b[39;00m:\n\u001b[0;32m--> 150\u001b[0m     c_in \u001b[38;5;241m=\u001b[39m ifnone(c_in, \u001b[43mdls\u001b[49m\u001b[38;5;241;43m.\u001b[39;49m\u001b[43mvars\u001b[49m)\n\u001b[1;32m    151\u001b[0m     c_out \u001b[38;5;241m=\u001b[39m ifnone(c_out, dls\u001b[38;5;241m.\u001b[39mc)\n\u001b[1;32m    152\u001b[0m     seq_len \u001b[38;5;241m=\u001b[39m ifnone(seq_len, dls\u001b[38;5;241m.\u001b[39mlen)\n",
      "File \u001b[0;32m~/env/lib/python3.10/site-packages/fastcore/basics.py:496\u001b[0m, in \u001b[0;36mGetAttr.__getattr__\u001b[0;34m(self, k)\u001b[0m\n\u001b[1;32m    494\u001b[0m \u001b[38;5;28;01mif\u001b[39;00m \u001b[38;5;28mself\u001b[39m\u001b[38;5;241m.\u001b[39m_component_attr_filter(k):\n\u001b[1;32m    495\u001b[0m     attr \u001b[38;5;241m=\u001b[39m \u001b[38;5;28mgetattr\u001b[39m(\u001b[38;5;28mself\u001b[39m,\u001b[38;5;28mself\u001b[39m\u001b[38;5;241m.\u001b[39m_default,\u001b[38;5;28;01mNone\u001b[39;00m)\n\u001b[0;32m--> 496\u001b[0m     \u001b[38;5;28;01mif\u001b[39;00m attr \u001b[38;5;129;01mis\u001b[39;00m \u001b[38;5;129;01mnot\u001b[39;00m \u001b[38;5;28;01mNone\u001b[39;00m: \u001b[38;5;28;01mreturn\u001b[39;00m \u001b[38;5;28;43mgetattr\u001b[39;49m\u001b[43m(\u001b[49m\u001b[43mattr\u001b[49m\u001b[43m,\u001b[49m\u001b[43mk\u001b[49m\u001b[43m)\u001b[49m\n\u001b[1;32m    497\u001b[0m \u001b[38;5;28;01mraise\u001b[39;00m \u001b[38;5;167;01mAttributeError\u001b[39;00m(k)\n",
      "File \u001b[0;32m~/env/lib/python3.10/site-packages/tsai/data/core.py:839\u001b[0m, in \u001b[0;36mTSDataLoader.vars\u001b[0;34m(self)\u001b[0m\n\u001b[1;32m    836\u001b[0m \u001b[38;5;129m@property\u001b[39m\n\u001b[1;32m    837\u001b[0m \u001b[38;5;28;01mdef\u001b[39;00m \u001b[38;5;21mvars\u001b[39m(\u001b[38;5;28mself\u001b[39m):\n\u001b[1;32m    838\u001b[0m     \u001b[38;5;28;01mif\u001b[39;00m \u001b[38;5;28mlen\u001b[39m(\u001b[38;5;28mself\u001b[39m\u001b[38;5;241m.\u001b[39mdataset) \u001b[38;5;241m==\u001b[39m \u001b[38;5;241m0\u001b[39m: \u001b[38;5;28;01mreturn\u001b[39;00m \u001b[38;5;241m0\u001b[39m\n\u001b[0;32m--> 839\u001b[0m     b \u001b[38;5;241m=\u001b[39m \u001b[38;5;28;43mself\u001b[39;49m\u001b[38;5;241;43m.\u001b[39;49m\u001b[43mone_batch\u001b[49m\u001b[43m(\u001b[49m\u001b[43m)\u001b[49m\n\u001b[1;32m    840\u001b[0m     i \u001b[38;5;241m=\u001b[39m \u001b[38;5;28mgetattr\u001b[39m(\u001b[38;5;28mself\u001b[39m, \u001b[38;5;124m'\u001b[39m\u001b[38;5;124mn_inp\u001b[39m\u001b[38;5;124m'\u001b[39m, \u001b[38;5;241m1\u001b[39m \u001b[38;5;28;01mif\u001b[39;00m \u001b[38;5;28mlen\u001b[39m(b)\u001b[38;5;241m==\u001b[39m\u001b[38;5;241m1\u001b[39m \u001b[38;5;28;01melse\u001b[39;00m \u001b[38;5;28mlen\u001b[39m(b)\u001b[38;5;241m-\u001b[39m\u001b[38;5;241m1\u001b[39m)\n\u001b[1;32m    841\u001b[0m     xb \u001b[38;5;241m=\u001b[39m b[:i]\n",
      "File \u001b[0;32m~/env/lib/python3.10/site-packages/fastai/data/load.py:172\u001b[0m, in \u001b[0;36mDataLoader.one_batch\u001b[0;34m(self)\u001b[0m\n\u001b[1;32m    170\u001b[0m \u001b[38;5;28;01mdef\u001b[39;00m \u001b[38;5;21mone_batch\u001b[39m(\u001b[38;5;28mself\u001b[39m):\n\u001b[1;32m    171\u001b[0m     \u001b[38;5;28;01mif\u001b[39;00m \u001b[38;5;28mself\u001b[39m\u001b[38;5;241m.\u001b[39mn \u001b[38;5;129;01mis\u001b[39;00m \u001b[38;5;129;01mnot\u001b[39;00m \u001b[38;5;28;01mNone\u001b[39;00m \u001b[38;5;129;01mand\u001b[39;00m \u001b[38;5;28mlen\u001b[39m(\u001b[38;5;28mself\u001b[39m)\u001b[38;5;241m==\u001b[39m\u001b[38;5;241m0\u001b[39m: \u001b[38;5;28;01mraise\u001b[39;00m \u001b[38;5;167;01mValueError\u001b[39;00m(\u001b[38;5;124mf\u001b[39m\u001b[38;5;124m'\u001b[39m\u001b[38;5;124mThis DataLoader does not contain any batches\u001b[39m\u001b[38;5;124m'\u001b[39m)\n\u001b[0;32m--> 172\u001b[0m     \u001b[38;5;28;01mwith\u001b[39;00m \u001b[38;5;28mself\u001b[39m\u001b[38;5;241m.\u001b[39mfake_l\u001b[38;5;241m.\u001b[39mno_multiproc(): res \u001b[38;5;241m=\u001b[39m \u001b[43mfirst\u001b[49m\u001b[43m(\u001b[49m\u001b[38;5;28;43mself\u001b[39;49m\u001b[43m)\u001b[49m\n\u001b[1;32m    173\u001b[0m     \u001b[38;5;28;01mif\u001b[39;00m \u001b[38;5;28mhasattr\u001b[39m(\u001b[38;5;28mself\u001b[39m, \u001b[38;5;124m'\u001b[39m\u001b[38;5;124mit\u001b[39m\u001b[38;5;124m'\u001b[39m): \u001b[38;5;28mdelattr\u001b[39m(\u001b[38;5;28mself\u001b[39m, \u001b[38;5;124m'\u001b[39m\u001b[38;5;124mit\u001b[39m\u001b[38;5;124m'\u001b[39m)\n\u001b[1;32m    174\u001b[0m     \u001b[38;5;28;01mreturn\u001b[39;00m res\n",
      "File \u001b[0;32m~/env/lib/python3.10/site-packages/fastcore/basics.py:660\u001b[0m, in \u001b[0;36mfirst\u001b[0;34m(x, f, negate, **kwargs)\u001b[0m\n\u001b[1;32m    658\u001b[0m x \u001b[38;5;241m=\u001b[39m \u001b[38;5;28miter\u001b[39m(x)\n\u001b[1;32m    659\u001b[0m \u001b[38;5;28;01mif\u001b[39;00m f: x \u001b[38;5;241m=\u001b[39m filter_ex(x, f\u001b[38;5;241m=\u001b[39mf, negate\u001b[38;5;241m=\u001b[39mnegate, gen\u001b[38;5;241m=\u001b[39m\u001b[38;5;28;01mTrue\u001b[39;00m, \u001b[38;5;241m*\u001b[39m\u001b[38;5;241m*\u001b[39mkwargs)\n\u001b[0;32m--> 660\u001b[0m \u001b[38;5;28;01mreturn\u001b[39;00m \u001b[38;5;28;43mnext\u001b[39;49m\u001b[43m(\u001b[49m\u001b[43mx\u001b[49m\u001b[43m,\u001b[49m\u001b[43m \u001b[49m\u001b[38;5;28;43;01mNone\u001b[39;49;00m\u001b[43m)\u001b[49m\n",
      "File \u001b[0;32m~/env/lib/python3.10/site-packages/fastai/data/load.py:127\u001b[0m, in \u001b[0;36mDataLoader.__iter__\u001b[0;34m(self)\u001b[0m\n\u001b[1;32m    125\u001b[0m \u001b[38;5;28mself\u001b[39m\u001b[38;5;241m.\u001b[39mbefore_iter()\n\u001b[1;32m    126\u001b[0m \u001b[38;5;28mself\u001b[39m\u001b[38;5;241m.\u001b[39m__idxs\u001b[38;5;241m=\u001b[39m\u001b[38;5;28mself\u001b[39m\u001b[38;5;241m.\u001b[39mget_idxs() \u001b[38;5;66;03m# called in context of main process (not workers/subprocesses)\u001b[39;00m\n\u001b[0;32m--> 127\u001b[0m \u001b[38;5;28;01mfor\u001b[39;00m b \u001b[38;5;129;01min\u001b[39;00m _loaders[\u001b[38;5;28mself\u001b[39m\u001b[38;5;241m.\u001b[39mfake_l\u001b[38;5;241m.\u001b[39mnum_workers\u001b[38;5;241m==\u001b[39m\u001b[38;5;241m0\u001b[39m](\u001b[38;5;28mself\u001b[39m\u001b[38;5;241m.\u001b[39mfake_l):\n\u001b[1;32m    128\u001b[0m     \u001b[38;5;66;03m# pin_memory causes tuples to be converted to lists, so convert them back to tuples\u001b[39;00m\n\u001b[1;32m    129\u001b[0m     \u001b[38;5;28;01mif\u001b[39;00m \u001b[38;5;28mself\u001b[39m\u001b[38;5;241m.\u001b[39mpin_memory \u001b[38;5;129;01mand\u001b[39;00m \u001b[38;5;28mtype\u001b[39m(b) \u001b[38;5;241m==\u001b[39m \u001b[38;5;28mlist\u001b[39m: b \u001b[38;5;241m=\u001b[39m \u001b[38;5;28mtuple\u001b[39m(b)\n\u001b[1;32m    130\u001b[0m     \u001b[38;5;28;01mif\u001b[39;00m \u001b[38;5;28mself\u001b[39m\u001b[38;5;241m.\u001b[39mdevice \u001b[38;5;129;01mis\u001b[39;00m \u001b[38;5;129;01mnot\u001b[39;00m \u001b[38;5;28;01mNone\u001b[39;00m: b \u001b[38;5;241m=\u001b[39m to_device(b, \u001b[38;5;28mself\u001b[39m\u001b[38;5;241m.\u001b[39mdevice)\n",
      "File \u001b[0;32m~/env/lib/python3.10/site-packages/torch/utils/data/dataloader.py:628\u001b[0m, in \u001b[0;36m_BaseDataLoaderIter.__next__\u001b[0;34m(self)\u001b[0m\n\u001b[1;32m    625\u001b[0m \u001b[38;5;28;01mif\u001b[39;00m \u001b[38;5;28mself\u001b[39m\u001b[38;5;241m.\u001b[39m_sampler_iter \u001b[38;5;129;01mis\u001b[39;00m \u001b[38;5;28;01mNone\u001b[39;00m:\n\u001b[1;32m    626\u001b[0m     \u001b[38;5;66;03m# TODO(https://github.com/pytorch/pytorch/issues/76750)\u001b[39;00m\n\u001b[1;32m    627\u001b[0m     \u001b[38;5;28mself\u001b[39m\u001b[38;5;241m.\u001b[39m_reset()  \u001b[38;5;66;03m# type: ignore[call-arg]\u001b[39;00m\n\u001b[0;32m--> 628\u001b[0m data \u001b[38;5;241m=\u001b[39m \u001b[38;5;28;43mself\u001b[39;49m\u001b[38;5;241;43m.\u001b[39;49m\u001b[43m_next_data\u001b[49m\u001b[43m(\u001b[49m\u001b[43m)\u001b[49m\n\u001b[1;32m    629\u001b[0m \u001b[38;5;28mself\u001b[39m\u001b[38;5;241m.\u001b[39m_num_yielded \u001b[38;5;241m+\u001b[39m\u001b[38;5;241m=\u001b[39m \u001b[38;5;241m1\u001b[39m\n\u001b[1;32m    630\u001b[0m \u001b[38;5;28;01mif\u001b[39;00m \u001b[38;5;28mself\u001b[39m\u001b[38;5;241m.\u001b[39m_dataset_kind \u001b[38;5;241m==\u001b[39m _DatasetKind\u001b[38;5;241m.\u001b[39mIterable \u001b[38;5;129;01mand\u001b[39;00m \\\n\u001b[1;32m    631\u001b[0m         \u001b[38;5;28mself\u001b[39m\u001b[38;5;241m.\u001b[39m_IterableDataset_len_called \u001b[38;5;129;01mis\u001b[39;00m \u001b[38;5;129;01mnot\u001b[39;00m \u001b[38;5;28;01mNone\u001b[39;00m \u001b[38;5;129;01mand\u001b[39;00m \\\n\u001b[1;32m    632\u001b[0m         \u001b[38;5;28mself\u001b[39m\u001b[38;5;241m.\u001b[39m_num_yielded \u001b[38;5;241m>\u001b[39m \u001b[38;5;28mself\u001b[39m\u001b[38;5;241m.\u001b[39m_IterableDataset_len_called:\n",
      "File \u001b[0;32m~/env/lib/python3.10/site-packages/torch/utils/data/dataloader.py:671\u001b[0m, in \u001b[0;36m_SingleProcessDataLoaderIter._next_data\u001b[0;34m(self)\u001b[0m\n\u001b[1;32m    669\u001b[0m \u001b[38;5;28;01mdef\u001b[39;00m \u001b[38;5;21m_next_data\u001b[39m(\u001b[38;5;28mself\u001b[39m):\n\u001b[1;32m    670\u001b[0m     index \u001b[38;5;241m=\u001b[39m \u001b[38;5;28mself\u001b[39m\u001b[38;5;241m.\u001b[39m_next_index()  \u001b[38;5;66;03m# may raise StopIteration\u001b[39;00m\n\u001b[0;32m--> 671\u001b[0m     data \u001b[38;5;241m=\u001b[39m \u001b[38;5;28;43mself\u001b[39;49m\u001b[38;5;241;43m.\u001b[39;49m\u001b[43m_dataset_fetcher\u001b[49m\u001b[38;5;241;43m.\u001b[39;49m\u001b[43mfetch\u001b[49m\u001b[43m(\u001b[49m\u001b[43mindex\u001b[49m\u001b[43m)\u001b[49m  \u001b[38;5;66;03m# may raise StopIteration\u001b[39;00m\n\u001b[1;32m    672\u001b[0m     \u001b[38;5;28;01mif\u001b[39;00m \u001b[38;5;28mself\u001b[39m\u001b[38;5;241m.\u001b[39m_pin_memory:\n\u001b[1;32m    673\u001b[0m         data \u001b[38;5;241m=\u001b[39m _utils\u001b[38;5;241m.\u001b[39mpin_memory\u001b[38;5;241m.\u001b[39mpin_memory(data, \u001b[38;5;28mself\u001b[39m\u001b[38;5;241m.\u001b[39m_pin_memory_device)\n",
      "File \u001b[0;32m~/env/lib/python3.10/site-packages/torch/utils/data/_utils/fetch.py:43\u001b[0m, in \u001b[0;36m_IterableDatasetFetcher.fetch\u001b[0;34m(self, possibly_batched_index)\u001b[0m\n\u001b[1;32m     41\u001b[0m         \u001b[38;5;28;01mraise\u001b[39;00m \u001b[38;5;167;01mStopIteration\u001b[39;00m\n\u001b[1;32m     42\u001b[0m \u001b[38;5;28;01melse\u001b[39;00m:\n\u001b[0;32m---> 43\u001b[0m     data \u001b[38;5;241m=\u001b[39m \u001b[38;5;28;43mnext\u001b[39;49m\u001b[43m(\u001b[49m\u001b[38;5;28;43mself\u001b[39;49m\u001b[38;5;241;43m.\u001b[39;49m\u001b[43mdataset_iter\u001b[49m\u001b[43m)\u001b[49m\n\u001b[1;32m     44\u001b[0m \u001b[38;5;28;01mreturn\u001b[39;00m \u001b[38;5;28mself\u001b[39m\u001b[38;5;241m.\u001b[39mcollate_fn(data)\n",
      "File \u001b[0;32m~/env/lib/python3.10/site-packages/fastai/data/load.py:138\u001b[0m, in \u001b[0;36mDataLoader.create_batches\u001b[0;34m(self, samps)\u001b[0m\n\u001b[1;32m    136\u001b[0m \u001b[38;5;28;01mif\u001b[39;00m \u001b[38;5;28mself\u001b[39m\u001b[38;5;241m.\u001b[39mdataset \u001b[38;5;129;01mis\u001b[39;00m \u001b[38;5;129;01mnot\u001b[39;00m \u001b[38;5;28;01mNone\u001b[39;00m: \u001b[38;5;28mself\u001b[39m\u001b[38;5;241m.\u001b[39mit \u001b[38;5;241m=\u001b[39m \u001b[38;5;28miter\u001b[39m(\u001b[38;5;28mself\u001b[39m\u001b[38;5;241m.\u001b[39mdataset)\n\u001b[1;32m    137\u001b[0m res \u001b[38;5;241m=\u001b[39m \u001b[38;5;28mfilter\u001b[39m(\u001b[38;5;28;01mlambda\u001b[39;00m o:o \u001b[38;5;129;01mis\u001b[39;00m \u001b[38;5;129;01mnot\u001b[39;00m \u001b[38;5;28;01mNone\u001b[39;00m, \u001b[38;5;28mmap\u001b[39m(\u001b[38;5;28mself\u001b[39m\u001b[38;5;241m.\u001b[39mdo_item, samps))\n\u001b[0;32m--> 138\u001b[0m \u001b[38;5;28;01myield from\u001b[39;00m \u001b[38;5;28mmap\u001b[39m(\u001b[38;5;28mself\u001b[39m\u001b[38;5;241m.\u001b[39mdo_batch, \u001b[38;5;28mself\u001b[39m\u001b[38;5;241m.\u001b[39mchunkify(res))\n",
      "File \u001b[0;32m~/env/lib/python3.10/site-packages/fastai/data/load.py:168\u001b[0m, in \u001b[0;36mDataLoader.do_batch\u001b[0;34m(self, b)\u001b[0m\n\u001b[0;32m--> 168\u001b[0m \u001b[38;5;28;01mdef\u001b[39;00m \u001b[38;5;21mdo_batch\u001b[39m(\u001b[38;5;28mself\u001b[39m, b): \u001b[38;5;28;01mreturn\u001b[39;00m \u001b[38;5;28mself\u001b[39m\u001b[38;5;241m.\u001b[39mretain(\u001b[38;5;28;43mself\u001b[39;49m\u001b[38;5;241;43m.\u001b[39;49m\u001b[43mcreate_batch\u001b[49m\u001b[43m(\u001b[49m\u001b[38;5;28;43mself\u001b[39;49m\u001b[38;5;241;43m.\u001b[39;49m\u001b[43mbefore_batch\u001b[49m\u001b[43m(\u001b[49m\u001b[43mb\u001b[49m\u001b[43m)\u001b[49m\u001b[43m)\u001b[49m, b)\n",
      "File \u001b[0;32m~/env/lib/python3.10/site-packages/tsai/data/core.py:656\u001b[0m, in \u001b[0;36mNumpyDataLoader.create_batch\u001b[0;34m(self, b)\u001b[0m\n\u001b[1;32m    654\u001b[0m     \u001b[38;5;28mself\u001b[39m\u001b[38;5;241m.\u001b[39minput_idxs \u001b[38;5;241m=\u001b[39m \u001b[38;5;28mself\u001b[39m\u001b[38;5;241m.\u001b[39msplit_idxs[b]\n\u001b[1;32m    655\u001b[0m \u001b[38;5;28;01melse\u001b[39;00m: \u001b[38;5;28mself\u001b[39m\u001b[38;5;241m.\u001b[39minput_idxs \u001b[38;5;241m=\u001b[39m \u001b[38;5;28mself\u001b[39m\u001b[38;5;241m.\u001b[39midxs\n\u001b[0;32m--> 656\u001b[0m \u001b[38;5;28;01mreturn\u001b[39;00m \u001b[38;5;28;43mself\u001b[39;49m\u001b[38;5;241;43m.\u001b[39;49m\u001b[43mdataset\u001b[49m\u001b[43m[\u001b[49m\u001b[43mb\u001b[49m\u001b[43m]\u001b[49m\n",
      "Cell \u001b[0;32mIn[24], line 14\u001b[0m, in \u001b[0;36mExpandingWindowDataset.__getitem__\u001b[0;34m(self, idx)\u001b[0m\n\u001b[1;32m     13\u001b[0m \u001b[38;5;28;01mdef\u001b[39;00m \u001b[38;5;21m__getitem__\u001b[39m(\u001b[38;5;28mself\u001b[39m, idx):\n\u001b[0;32m---> 14\u001b[0m     \u001b[38;5;28;01mreturn\u001b[39;00m torch\u001b[38;5;241m.\u001b[39mtensor(\u001b[38;5;28;43mself\u001b[39;49m\u001b[38;5;241;43m.\u001b[39;49m\u001b[43mX\u001b[49m\u001b[43m[\u001b[49m\u001b[43midx\u001b[49m\u001b[43m]\u001b[49m, dtype\u001b[38;5;241m=\u001b[39mtorch\u001b[38;5;241m.\u001b[39mfloat)\n",
      "\u001b[0;31mTypeError\u001b[0m: list indices must be integers or slices, not list"
     ]
    }
   ],
   "source": [
    "learn = ts_learner(dls, InceptionTime, metrics=[rmse])"
   ]
  },
  {
   "cell_type": "code",
   "execution_count": 77,
   "id": "bfae89f2-375b-40b9-9ad8-a1234e1cc124",
   "metadata": {},
   "outputs": [],
   "source": [
    "# Flatten the list of arrays\n",
    "flattened_X_train = np.hstack(X_train)\n",
    "\n",
    "# Now you can find the min and max\n",
    "y_range = (np.min(flattened_X_train), np.max(flattened_X_train))"
   ]
  },
  {
   "cell_type": "code",
   "execution_count": 69,
   "id": "1342b79b-3bca-47c5-b369-f85b116b3de0",
   "metadata": {},
   "outputs": [],
   "source": [
    "## Revisar que de esto no estoy nada segura. Tiene que haber un naive ya definido\n",
    "from tsai.models.all import *\n",
    "class NaiveModel(nn.Module):\n",
    "    def forward(self, x):\n",
    "        # Simplemente retornar la última observación como predicción\n",
    "        return x[:, -1]"
   ]
  },
  {
   "cell_type": "code",
   "execution_count": 78,
   "id": "dc456205-f91d-41ee-80b3-4e11473b315c",
   "metadata": {},
   "outputs": [],
   "source": [
    "from tsai.learner import ts_learner\n",
    "from fastai.losses import MSELossFlat\n",
    "\n",
    "naive_model = NaiveModel()\n",
    "learn = ts_learner(\n",
    "    dls, \n",
    "    naive_model,\n",
    "    #InceptionTimePlus, \n",
    "    #cbs = model,\n",
    "    y_range=y_range,\n",
    "    loss_func = MSELossFlat()\n",
    "    #metrics = accurracy\n",
    ")"
   ]
  },
  {
   "cell_type": "code",
   "execution_count": 79,
   "id": "0de3a9bf-158f-4f5f-8a45-1a31ef3f9123",
   "metadata": {},
   "outputs": [
    {
     "ename": "IndexError",
     "evalue": "list index out of range",
     "output_type": "error",
     "traceback": [
      "\u001b[0;31m---------------------------------------------------------------------------\u001b[0m",
      "\u001b[0;31mIndexError\u001b[0m                                Traceback (most recent call last)",
      "Cell \u001b[0;32mIn[79], line 2\u001b[0m\n\u001b[1;32m      1\u001b[0m \u001b[38;5;66;03m# Train the model\u001b[39;00m\n\u001b[0;32m----> 2\u001b[0m \u001b[43mlearn\u001b[49m\u001b[38;5;241;43m.\u001b[39;49m\u001b[43mfit_one_cycle\u001b[49m\u001b[43m(\u001b[49m\u001b[38;5;241;43m1\u001b[39;49m\u001b[43m)\u001b[49m\n",
      "File \u001b[0;32m~/env/lib/python3.10/site-packages/fastai/callback/schedule.py:114\u001b[0m, in \u001b[0;36mfit_one_cycle\u001b[0;34m(self, n_epoch, lr_max, div, div_final, pct_start, wd, moms, cbs, reset_opt, start_epoch)\u001b[0m\n\u001b[1;32m    110\u001b[0m \u001b[38;5;129m@patch\u001b[39m\n\u001b[1;32m    111\u001b[0m \u001b[38;5;28;01mdef\u001b[39;00m \u001b[38;5;21mfit_one_cycle\u001b[39m(\u001b[38;5;28mself\u001b[39m:Learner, n_epoch, lr_max\u001b[38;5;241m=\u001b[39m\u001b[38;5;28;01mNone\u001b[39;00m, div\u001b[38;5;241m=\u001b[39m\u001b[38;5;241m25.\u001b[39m, div_final\u001b[38;5;241m=\u001b[39m\u001b[38;5;241m1e5\u001b[39m, pct_start\u001b[38;5;241m=\u001b[39m\u001b[38;5;241m0.25\u001b[39m, wd\u001b[38;5;241m=\u001b[39m\u001b[38;5;28;01mNone\u001b[39;00m,\n\u001b[1;32m    112\u001b[0m                   moms\u001b[38;5;241m=\u001b[39m\u001b[38;5;28;01mNone\u001b[39;00m, cbs\u001b[38;5;241m=\u001b[39m\u001b[38;5;28;01mNone\u001b[39;00m, reset_opt\u001b[38;5;241m=\u001b[39m\u001b[38;5;28;01mFalse\u001b[39;00m, start_epoch\u001b[38;5;241m=\u001b[39m\u001b[38;5;241m0\u001b[39m):\n\u001b[1;32m    113\u001b[0m     \u001b[38;5;124m\"\u001b[39m\u001b[38;5;124mFit `self.model` for `n_epoch` using the 1cycle policy.\u001b[39m\u001b[38;5;124m\"\u001b[39m\n\u001b[0;32m--> 114\u001b[0m     \u001b[38;5;28;01mif\u001b[39;00m \u001b[38;5;28mself\u001b[39m\u001b[38;5;241m.\u001b[39mopt \u001b[38;5;129;01mis\u001b[39;00m \u001b[38;5;28;01mNone\u001b[39;00m: \u001b[38;5;28;43mself\u001b[39;49m\u001b[38;5;241;43m.\u001b[39;49m\u001b[43mcreate_opt\u001b[49m\u001b[43m(\u001b[49m\u001b[43m)\u001b[49m\n\u001b[1;32m    115\u001b[0m     \u001b[38;5;28mself\u001b[39m\u001b[38;5;241m.\u001b[39mopt\u001b[38;5;241m.\u001b[39mset_hyper(\u001b[38;5;124m'\u001b[39m\u001b[38;5;124mlr\u001b[39m\u001b[38;5;124m'\u001b[39m, \u001b[38;5;28mself\u001b[39m\u001b[38;5;241m.\u001b[39mlr \u001b[38;5;28;01mif\u001b[39;00m lr_max \u001b[38;5;129;01mis\u001b[39;00m \u001b[38;5;28;01mNone\u001b[39;00m \u001b[38;5;28;01melse\u001b[39;00m lr_max)\n\u001b[1;32m    116\u001b[0m     lr_max \u001b[38;5;241m=\u001b[39m np\u001b[38;5;241m.\u001b[39marray([h[\u001b[38;5;124m'\u001b[39m\u001b[38;5;124mlr\u001b[39m\u001b[38;5;124m'\u001b[39m] \u001b[38;5;28;01mfor\u001b[39;00m h \u001b[38;5;129;01min\u001b[39;00m \u001b[38;5;28mself\u001b[39m\u001b[38;5;241m.\u001b[39mopt\u001b[38;5;241m.\u001b[39mhypers])\n",
      "File \u001b[0;32m~/env/lib/python3.10/site-packages/fastai/learner.py:188\u001b[0m, in \u001b[0;36mLearner.create_opt\u001b[0;34m(self)\u001b[0m\n\u001b[1;32m    186\u001b[0m     \u001b[38;5;28mself\u001b[39m\u001b[38;5;241m.\u001b[39mopt\u001b[38;5;241m.\u001b[39mclear_state()\n\u001b[1;32m    187\u001b[0m \u001b[38;5;28;01melse\u001b[39;00m:\n\u001b[0;32m--> 188\u001b[0m     \u001b[38;5;28mself\u001b[39m\u001b[38;5;241m.\u001b[39mopt \u001b[38;5;241m=\u001b[39m \u001b[38;5;28;43mself\u001b[39;49m\u001b[38;5;241;43m.\u001b[39;49m\u001b[43mopt_func\u001b[49m\u001b[43m(\u001b[49m\u001b[38;5;28;43mself\u001b[39;49m\u001b[38;5;241;43m.\u001b[39;49m\u001b[43msplitter\u001b[49m\u001b[43m(\u001b[49m\u001b[38;5;28;43mself\u001b[39;49m\u001b[38;5;241;43m.\u001b[39;49m\u001b[43mmodel\u001b[49m\u001b[43m)\u001b[49m\u001b[43m,\u001b[49m\u001b[43m \u001b[49m\u001b[43mlr\u001b[49m\u001b[38;5;241;43m=\u001b[39;49m\u001b[38;5;28;43mself\u001b[39;49m\u001b[38;5;241;43m.\u001b[39;49m\u001b[43mlr\u001b[49m\u001b[43m)\u001b[49m\n\u001b[1;32m    189\u001b[0m \u001b[38;5;28;01mif\u001b[39;00m \u001b[38;5;129;01mnot\u001b[39;00m \u001b[38;5;28mself\u001b[39m\u001b[38;5;241m.\u001b[39mwd_bn_bias:\n\u001b[1;32m    190\u001b[0m     \u001b[38;5;28;01mfor\u001b[39;00m p \u001b[38;5;129;01min\u001b[39;00m \u001b[38;5;28mself\u001b[39m\u001b[38;5;241m.\u001b[39m_bn_bias_state(\u001b[38;5;28;01mTrue\u001b[39;00m ): p[\u001b[38;5;124m'\u001b[39m\u001b[38;5;124mdo_wd\u001b[39m\u001b[38;5;124m'\u001b[39m] \u001b[38;5;241m=\u001b[39m \u001b[38;5;28;01mFalse\u001b[39;00m\n",
      "File \u001b[0;32m~/env/lib/python3.10/site-packages/fastai/optimizer.py:242\u001b[0m, in \u001b[0;36mAdam\u001b[0;34m(params, lr, mom, sqr_mom, eps, wd, decouple_wd)\u001b[0m\n\u001b[1;32m    240\u001b[0m cbs \u001b[38;5;241m=\u001b[39m [weight_decay] \u001b[38;5;28;01mif\u001b[39;00m decouple_wd \u001b[38;5;28;01melse\u001b[39;00m [l2_reg]\n\u001b[1;32m    241\u001b[0m cbs \u001b[38;5;241m+\u001b[39m\u001b[38;5;241m=\u001b[39m [partial(average_grad, dampening\u001b[38;5;241m=\u001b[39m\u001b[38;5;28;01mTrue\u001b[39;00m), average_sqr_grad, step_stat, adam_step]\n\u001b[0;32m--> 242\u001b[0m \u001b[38;5;28;01mreturn\u001b[39;00m \u001b[43mOptimizer\u001b[49m\u001b[43m(\u001b[49m\u001b[43mparams\u001b[49m\u001b[43m,\u001b[49m\u001b[43m \u001b[49m\u001b[43mcbs\u001b[49m\u001b[43m,\u001b[49m\u001b[43m \u001b[49m\u001b[43mlr\u001b[49m\u001b[38;5;241;43m=\u001b[39;49m\u001b[43mlr\u001b[49m\u001b[43m,\u001b[49m\u001b[43m \u001b[49m\u001b[43mmom\u001b[49m\u001b[38;5;241;43m=\u001b[39;49m\u001b[43mmom\u001b[49m\u001b[43m,\u001b[49m\u001b[43m \u001b[49m\u001b[43msqr_mom\u001b[49m\u001b[38;5;241;43m=\u001b[39;49m\u001b[43msqr_mom\u001b[49m\u001b[43m,\u001b[49m\u001b[43m \u001b[49m\u001b[43meps\u001b[49m\u001b[38;5;241;43m=\u001b[39;49m\u001b[43meps\u001b[49m\u001b[43m,\u001b[49m\u001b[43m \u001b[49m\u001b[43mwd\u001b[49m\u001b[38;5;241;43m=\u001b[39;49m\u001b[43mwd\u001b[49m\u001b[43m)\u001b[49m\n",
      "File \u001b[0;32m~/env/lib/python3.10/site-packages/fastai/optimizer.py:98\u001b[0m, in \u001b[0;36mOptimizer.__init__\u001b[0;34m(self, params, cbs, **defaults)\u001b[0m\n\u001b[1;32m     96\u001b[0m \u001b[38;5;28mself\u001b[39m\u001b[38;5;241m.\u001b[39mcbs,\u001b[38;5;28mself\u001b[39m\u001b[38;5;241m.\u001b[39mstate \u001b[38;5;241m=\u001b[39m L(cbs),defaultdict(\u001b[38;5;28mdict\u001b[39m)\n\u001b[1;32m     97\u001b[0m defaults \u001b[38;5;241m=\u001b[39m merge(\u001b[38;5;241m*\u001b[39m\u001b[38;5;28mself\u001b[39m\u001b[38;5;241m.\u001b[39mcbs\u001b[38;5;241m.\u001b[39mattrgot(\u001b[38;5;124m'\u001b[39m\u001b[38;5;124mdefaults\u001b[39m\u001b[38;5;124m'\u001b[39m), defaults)\n\u001b[0;32m---> 98\u001b[0m \u001b[38;5;28mself\u001b[39m\u001b[38;5;241m.\u001b[39mparam_lists \u001b[38;5;241m=\u001b[39m L(L(p) \u001b[38;5;28;01mfor\u001b[39;00m p \u001b[38;5;129;01min\u001b[39;00m params) \u001b[38;5;28;01mif\u001b[39;00m \u001b[38;5;28misinstance\u001b[39m(\u001b[43mparams\u001b[49m\u001b[43m[\u001b[49m\u001b[38;5;241;43m0\u001b[39;49m\u001b[43m]\u001b[49m, (L,\u001b[38;5;28mlist\u001b[39m)) \u001b[38;5;28;01melse\u001b[39;00m L([params])\n\u001b[1;32m     99\u001b[0m \u001b[38;5;28mself\u001b[39m\u001b[38;5;241m.\u001b[39mhypers \u001b[38;5;241m=\u001b[39m L({} \u001b[38;5;28;01mfor\u001b[39;00m _ \u001b[38;5;129;01min\u001b[39;00m range_of(\u001b[38;5;28mself\u001b[39m\u001b[38;5;241m.\u001b[39mparam_lists))\n\u001b[1;32m    100\u001b[0m \u001b[38;5;28mself\u001b[39m\u001b[38;5;241m.\u001b[39mset_hypers(\u001b[38;5;241m*\u001b[39m\u001b[38;5;241m*\u001b[39mdefaults)\n",
      "File \u001b[0;32m~/env/lib/python3.10/site-packages/fastcore/foundation.py:112\u001b[0m, in \u001b[0;36mL.__getitem__\u001b[0;34m(self, idx)\u001b[0m\n\u001b[0;32m--> 112\u001b[0m \u001b[38;5;28;01mdef\u001b[39;00m \u001b[38;5;21m__getitem__\u001b[39m(\u001b[38;5;28mself\u001b[39m, idx): \u001b[38;5;28;01mreturn\u001b[39;00m \u001b[38;5;28;43mself\u001b[39;49m\u001b[38;5;241;43m.\u001b[39;49m\u001b[43m_get\u001b[49m\u001b[43m(\u001b[49m\u001b[43midx\u001b[49m\u001b[43m)\u001b[49m \u001b[38;5;28;01mif\u001b[39;00m is_indexer(idx) \u001b[38;5;28;01melse\u001b[39;00m L(\u001b[38;5;28mself\u001b[39m\u001b[38;5;241m.\u001b[39m_get(idx), use_list\u001b[38;5;241m=\u001b[39m\u001b[38;5;28;01mNone\u001b[39;00m)\n",
      "File \u001b[0;32m~/env/lib/python3.10/site-packages/fastcore/foundation.py:116\u001b[0m, in \u001b[0;36mL._get\u001b[0;34m(self, i)\u001b[0m\n\u001b[1;32m    115\u001b[0m \u001b[38;5;28;01mdef\u001b[39;00m \u001b[38;5;21m_get\u001b[39m(\u001b[38;5;28mself\u001b[39m, i):\n\u001b[0;32m--> 116\u001b[0m     \u001b[38;5;28;01mif\u001b[39;00m is_indexer(i) \u001b[38;5;129;01mor\u001b[39;00m \u001b[38;5;28misinstance\u001b[39m(i,\u001b[38;5;28mslice\u001b[39m): \u001b[38;5;28;01mreturn\u001b[39;00m \u001b[38;5;28;43mgetattr\u001b[39;49m\u001b[43m(\u001b[49m\u001b[38;5;28;43mself\u001b[39;49m\u001b[38;5;241;43m.\u001b[39;49m\u001b[43mitems\u001b[49m\u001b[43m,\u001b[49m\u001b[38;5;124;43m'\u001b[39;49m\u001b[38;5;124;43miloc\u001b[39;49m\u001b[38;5;124;43m'\u001b[39;49m\u001b[43m,\u001b[49m\u001b[38;5;28;43mself\u001b[39;49m\u001b[38;5;241;43m.\u001b[39;49m\u001b[43mitems\u001b[49m\u001b[43m)\u001b[49m\u001b[43m[\u001b[49m\u001b[43mi\u001b[49m\u001b[43m]\u001b[49m\n\u001b[1;32m    117\u001b[0m     i \u001b[38;5;241m=\u001b[39m mask2idxs(i)\n\u001b[1;32m    118\u001b[0m     \u001b[38;5;28;01mreturn\u001b[39;00m (\u001b[38;5;28mself\u001b[39m\u001b[38;5;241m.\u001b[39mitems\u001b[38;5;241m.\u001b[39miloc[\u001b[38;5;28mlist\u001b[39m(i)] \u001b[38;5;28;01mif\u001b[39;00m \u001b[38;5;28mhasattr\u001b[39m(\u001b[38;5;28mself\u001b[39m\u001b[38;5;241m.\u001b[39mitems,\u001b[38;5;124m'\u001b[39m\u001b[38;5;124miloc\u001b[39m\u001b[38;5;124m'\u001b[39m)\n\u001b[1;32m    119\u001b[0m             \u001b[38;5;28;01melse\u001b[39;00m \u001b[38;5;28mself\u001b[39m\u001b[38;5;241m.\u001b[39mitems\u001b[38;5;241m.\u001b[39m__array__()[(i,)] \u001b[38;5;28;01mif\u001b[39;00m \u001b[38;5;28mhasattr\u001b[39m(\u001b[38;5;28mself\u001b[39m\u001b[38;5;241m.\u001b[39mitems,\u001b[38;5;124m'\u001b[39m\u001b[38;5;124m__array__\u001b[39m\u001b[38;5;124m'\u001b[39m)\n\u001b[1;32m    120\u001b[0m             \u001b[38;5;28;01melse\u001b[39;00m [\u001b[38;5;28mself\u001b[39m\u001b[38;5;241m.\u001b[39mitems[i_] \u001b[38;5;28;01mfor\u001b[39;00m i_ \u001b[38;5;129;01min\u001b[39;00m i])\n",
      "\u001b[0;31mIndexError\u001b[0m: list index out of range"
     ]
    }
   ],
   "source": [
    "# Train the model\n",
    "learn.fit_one_cycle(1)"
   ]
  },
  {
   "cell_type": "code",
   "execution_count": null,
   "id": "538f7ebb-66fb-4343-9dca-98d749a04e06",
   "metadata": {},
   "outputs": [],
   "source": [
    "# Generate predictions \n",
    "predictions = []\n",
    "for x, y in dls.valid:\n",
    "    preds, _, _ = learn.predict(x)\n",
    "    predictions.append(preds)"
   ]
  },
  {
   "cell_type": "code",
   "execution_count": null,
   "id": "7935142f-171a-4ddd-a451-95f5f56f4848",
   "metadata": {},
   "outputs": [],
   "source": [
    "# Evaluate the model "
   ]
  },
  {
   "cell_type": "code",
   "execution_count": null,
   "id": "b4b3e1fa-20a9-46fd-9aec-433d34de1eee",
   "metadata": {},
   "outputs": [],
   "source": [
    "# Compare predictions with actual values"
   ]
  },
  {
   "cell_type": "markdown",
   "id": "627d5e2d-be93-4d37-8dfd-cead06158506",
   "metadata": {},
   "source": [
    "## Regressor reduction"
   ]
  },
  {
   "cell_type": "code",
   "execution_count": null,
   "id": "390321b5-2a5d-45d8-845d-594a57ca3862",
   "metadata": {},
   "outputs": [],
   "source": []
  }
 ],
 "metadata": {
  "kernelspec": {
   "display_name": "Python 3 (ipykernel)",
   "language": "python",
   "name": "python3"
  },
  "language_info": {
   "codemirror_mode": {
    "name": "ipython",
    "version": 3
   },
   "file_extension": ".py",
   "mimetype": "text/x-python",
   "name": "python",
   "nbconvert_exporter": "python",
   "pygments_lexer": "ipython3",
   "version": "3.10.13"
  }
 },
 "nbformat": 4,
 "nbformat_minor": 5
}

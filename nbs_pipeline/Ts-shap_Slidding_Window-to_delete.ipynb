{
 "cells": [
  {
   "cell_type": "markdown",
   "id": "43ff0b4c-4f33-4014-a4f3-6b809ff0e317",
   "metadata": {},
   "source": [
    "# TsSHAP con Sliding window"
   ]
  },
  {
   "cell_type": "code",
   "execution_count": 1,
   "id": "fb8130ae-7107-40eb-b7af-4011947f3a19",
   "metadata": {},
   "outputs": [],
   "source": [
    "import shap\n",
    "import numpy as np\n",
    "import pandas as pd\n",
    "from fastcore.foundation import L\n",
    "from dvats.load import TSArtifact, infer_or_inject_freq\n",
    "import matplotlib\n",
    "import matplotlib.pyplot as plt\n",
    "import matplotlib.patches as patches\n",
    "\n",
    "from fastai.tabular.all import * \n",
    "from tsai.all import *"
   ]
  },
  {
   "cell_type": "code",
   "execution_count": 2,
   "id": "9aa13c3a-dd66-4b8b-9224-11f4bac9d625",
   "metadata": {},
   "outputs": [],
   "source": [
    "print_flag = True\n",
    "reset_kernel = False"
   ]
  },
  {
   "cell_type": "markdown",
   "id": "12d2c42c-e2c0-4e44-907f-4ac0d790c359",
   "metadata": {},
   "source": [
    "## Obtain the dataset"
   ]
  },
  {
   "cell_type": "code",
   "execution_count": 3,
   "id": "050074cf-7d2b-4f0d-a3f2-5a7fa2581c97",
   "metadata": {},
   "outputs": [
    {
     "name": "stdout",
     "output_type": "stream",
     "text": [
      "--2024-01-17 16:47:57--  https://raw.githubusercontent.com/facebook/prophet/main/examples/example_wp_log_peyton_manning.csv\n",
      "Resolving raw.githubusercontent.com (raw.githubusercontent.com)... 185.199.111.133, 185.199.109.133, 185.199.108.133, ...\n",
      "Connecting to raw.githubusercontent.com (raw.githubusercontent.com)|185.199.111.133|:443... connected.\n",
      "HTTP request sent, awaiting response... 200 OK\n",
      "Length: 86845 (85K) [text/plain]\n",
      "Saving to: ‘example_wp_log_peyton_manning.csv’\n",
      "\n",
      "example_wp_log_peyt 100%[===================>]  84.81K  --.-KB/s    in 0.005s  \n",
      "\n",
      "2024-01-17 16:47:57 (16.5 MB/s) - ‘example_wp_log_peyton_manning.csv’ saved [86845/86845]\n",
      "\n"
     ]
    }
   ],
   "source": [
    "! wget \"https://raw.githubusercontent.com/facebook/prophet/main/examples/example_wp_log_peyton_manning.csv\""
   ]
  },
  {
   "cell_type": "code",
   "execution_count": 4,
   "id": "05b187fe-0a70-4389-9223-769905f4f0d5",
   "metadata": {},
   "outputs": [],
   "source": [
    "df_peyton = pd.read_csv(\"example_wp_log_peyton_manning.csv\")"
   ]
  },
  {
   "cell_type": "code",
   "execution_count": 5,
   "id": "9d4905f9-c25e-4d8c-82e8-fe5e672e86d5",
   "metadata": {},
   "outputs": [],
   "source": [
    "! rm \"example_wp_log_peyton_manning.csv\""
   ]
  },
  {
   "cell_type": "code",
   "execution_count": 6,
   "id": "70fef057-77c3-4203-b0dc-110e31113aa3",
   "metadata": {},
   "outputs": [],
   "source": [
    "peyton_time_col = 0\n",
    "peyton_date_offset = 0"
   ]
  },
  {
   "cell_type": "code",
   "execution_count": 7,
   "id": "e2409254-7712-4c30-b9f5-680006e96b9d",
   "metadata": {},
   "outputs": [
    {
     "data": {
      "text/plain": [
       "DatetimeIndex(['2007-12-10', '2007-12-11', '2007-12-12', '2007-12-13',\n",
       "               '2007-12-14', '2007-12-15', '2007-12-16', '2007-12-17',\n",
       "               '2007-12-18', '2007-12-19',\n",
       "               ...\n",
       "               '2016-01-11', '2016-01-12', '2016-01-13', '2016-01-14',\n",
       "               '2016-01-15', '2016-01-16', '2016-01-17', '2016-01-18',\n",
       "               '2016-01-19', '2016-01-20'],\n",
       "              dtype='datetime64[ns]', name='ds', length=2905, freq=None)"
      ]
     },
     "execution_count": 7,
     "metadata": {},
     "output_type": "execute_result"
    }
   ],
   "source": [
    "index = pd.DatetimeIndex(df_peyton.iloc[:, peyton_time_col])\n",
    "index"
   ]
  },
  {
   "cell_type": "code",
   "execution_count": 8,
   "id": "d19f919d-679f-4389-9319-7b82d397d168",
   "metadata": {},
   "outputs": [],
   "source": [
    "# Add offset\n",
    "offset_timedelta = pd.to_timedelta(peyton_date_offset, unit='D')\n",
    "index += offset_timedelta"
   ]
  },
  {
   "cell_type": "code",
   "execution_count": 9,
   "id": "0105adc1-c47a-454e-a850-6c0782f53961",
   "metadata": {},
   "outputs": [
    {
     "data": {
      "text/plain": [
       "<bound method NDFrame.head of               y\n",
       "0      9.590761\n",
       "1      8.519590\n",
       "2      8.183677\n",
       "3      8.072467\n",
       "4      7.893572\n",
       "...         ...\n",
       "2900   7.817223\n",
       "2901   9.273878\n",
       "2902  10.333775\n",
       "2903   9.125871\n",
       "2904   8.891374\n",
       "\n",
       "[2905 rows x 1 columns]>"
      ]
     },
     "execution_count": 9,
     "metadata": {},
     "output_type": "execute_result"
    }
   ],
   "source": [
    "# Delete time column\n",
    "col_name = df_peyton.columns[peyton_time_col]\n",
    "df_peyton = df_peyton.drop(col_name, axis=1)\n",
    "df_peyton.head"
   ]
  },
  {
   "cell_type": "code",
   "execution_count": 10,
   "id": "ef78980c-d90d-4b48-acf8-ed40876d4b22",
   "metadata": {},
   "outputs": [
    {
     "name": "stdout",
     "output_type": "stream",
     "text": [
      "<Day>\n"
     ]
    }
   ],
   "source": [
    "df_train = infer_or_inject_freq(\n",
    "    df_peyton, \n",
    "    injected_freq= '1d', \n",
    "    start_date = '2007-12-10', \n",
    "    format = '%Y-%m-%d %H:%M:%S'\n",
    ")\n",
    "print(df_train.index.freq)"
   ]
  },
  {
   "cell_type": "markdown",
   "id": "e15109a5-e231-41a2-a8d3-094d494fc6e7",
   "metadata": {},
   "source": [
    "## Backtested historical forecasts"
   ]
  },
  {
   "cell_type": "code",
   "execution_count": 11,
   "id": "3202844b-5552-4d1b-825b-75630c4d96e9",
   "metadata": {},
   "outputs": [
    {
     "name": "stdout",
     "output_type": "stream",
     "text": [
      "X ~ (2875, 1, 30)\n"
     ]
    }
   ],
   "source": [
    "window_length = 30\n",
    "horizon = 15\n",
    "X_train, _ = prepare_forecasting_data(df_train, fcst_history = window_length, fcst_horizon =1)\n",
    "if print_flag:\n",
    "    print(\"X ~\", X_train.shape)"
   ]
  },
  {
   "cell_type": "code",
   "execution_count": 12,
   "id": "b5856709-d3d7-4f16-9fa0-86f4cb5a9302",
   "metadata": {},
   "outputs": [
    {
     "data": {
      "image/png": "[encoded data removed]",
      "text/plain": [
       "<Figure size 1600x50 with 1 Axes>"
      ]
     },
     "metadata": {},
     "output_type": "display_data"
    }
   ],
   "source": [
    "splits = get_forecasting_splits(\n",
    "        df = df_train, \n",
    "        fcst_history = window_length,\n",
    "        fcst_horizon = 1,\n",
    "        stride = horizon,\n",
    "        test_size = 0.2,\n",
    "        show_plot = True\n",
    "    )"
   ]
  },
  {
   "cell_type": "markdown",
   "id": "bcbfddd0-a09a-4b99-b675-b1ca0f8cf10d",
   "metadata": {},
   "source": [
    "## Interpretable features"
   ]
  },
  {
   "cell_type": "code",
   "execution_count": 13,
   "id": "6dedfabc-08b0-48d2-9dbb-a91d4c7240ab",
   "metadata": {},
   "outputs": [],
   "source": [
    "def lagged_val(df, t, lagged_id): return  df.iloc[lagged_id].values[0]"
   ]
  },
  {
   "cell_type": "code",
   "execution_count": 14,
   "id": "c64335ce-f481-4822-a685-46fcc9a3150f",
   "metadata": {},
   "outputs": [],
   "source": [
    "def lag_features(df, t, lags=3):\n",
    "    \"\"\"Value at previous time steps\"\"\"\n",
    "    lagged_id = t-lags\n",
    "    val = lagged_val (df, t, lagged_id)\n",
    "    print(\"t \", t, \" lagged \", lagged_id, \" val \", val)\n",
    "    return val"
   ]
  },
  {
   "cell_type": "code",
   "execution_count": 15,
   "id": "42f2b0a6-e11c-4067-913e-798e3004633f",
   "metadata": {},
   "outputs": [
    {
     "name": "stdout",
     "output_type": "stream",
     "text": [
      "t  10  lagged  7  val  8.82922635473185\n"
     ]
    },
    {
     "data": {
      "text/plain": [
       "8.82922635473185"
      ]
     },
     "execution_count": 15,
     "metadata": {},
     "output_type": "execute_result"
    }
   ],
   "source": [
    "lag_features(df_peyton, 10)"
   ]
  },
  {
   "cell_type": "code",
   "execution_count": 16,
   "id": "6e2b5d9e-6156-4594-af76-10534206131e",
   "metadata": {},
   "outputs": [],
   "source": [
    "def seasonal_lag_features(df, t, lags = 2, m = 365):\n",
    "    \"\"\"Vakue at time steps for the previous seasons\"\"\"\n",
    "    lagged_id = t - (lags*m)\n",
    "    val = lagged_val (df, t, lagged_id)\n",
    "    print(\"t \", t, \" lagged \", lagged_id, \" val \", val)\n",
    "    return val"
   ]
  },
  {
   "cell_type": "code",
   "execution_count": 17,
   "id": "f84c4941-7b24-411d-9409-af597dd71c0e",
   "metadata": {},
   "outputs": [
    {
     "name": "stdout",
     "output_type": "stream",
     "text": [
      "t  1000  lagged  270  val  7.44949800538285\n"
     ]
    },
    {
     "data": {
      "text/plain": [
       "7.44949800538285"
      ]
     },
     "execution_count": 17,
     "metadata": {},
     "output_type": "execute_result"
    }
   ],
   "source": [
    "seasonal_lag_features(df_peyton, 1000)"
   ]
  },
  {
   "cell_type": "code",
   "execution_count": 32,
   "id": "e050ade3-8fe7-43d1-8d6e-b7199f1d41ca",
   "metadata": {},
   "outputs": [],
   "source": [
    "def rolling_windows_features(df, t, window = 3, print_flag = print_flag):\n",
    "    \"\"\"Rolling window statistics (mean, max, min). The max of the past 3 values\"\"\"\n",
    "    val_1 = lagged_val(df, t, 1)\n",
    "    val_2 = lagged_val(df, t, 2)\n",
    "    val_3 = lagged_val(df, t, 3)\n",
    "    mean_ = (val_1 + val_2 + val_3)/3\n",
    "    max_ = max(val_1, val_2, val_3)\n",
    "    min_ = min(val_1, val_2, val_3)\n",
    "    if print_flag: print(val_1, val_2, val_3, mean_, max_, min_)\n",
    "    return mean_, max_, min_"
   ]
  },
  {
   "cell_type": "code",
   "execution_count": 33,
   "id": "4906ff65-5949-44ef-93bb-b61e43cc1b8c",
   "metadata": {},
   "outputs": [
    {
     "name": "stdout",
     "output_type": "stream",
     "text": [
      "8.51959031601596 8.18367658262066 8.07246736935477 8.258578089330463 8.51959031601596 8.07246736935477\n"
     ]
    },
    {
     "data": {
      "text/plain": [
       "(8.258578089330463, 8.51959031601596, 8.07246736935477)"
      ]
     },
     "execution_count": 33,
     "metadata": {},
     "output_type": "execute_result"
    }
   ],
   "source": [
    "rolling_windows_features(df_peyton, 10)"
   ]
  },
  {
   "cell_type": "code",
   "execution_count": null,
   "id": "2cc80570-6a32-4955-97eb-262804015f53",
   "metadata": {},
   "outputs": [],
   "source": []
  },
  {
   "cell_type": "code",
   "execution_count": null,
   "id": "7aa6490a-6d18-46eb-bb79-a58c19616421",
   "metadata": {},
   "outputs": [],
   "source": []
  },
  {
   "cell_type": "code",
   "execution_count": null,
   "id": "ced343a6-fac5-4cce-9ecf-cc5faf81c656",
   "metadata": {},
   "outputs": [],
   "source": []
  },
  {
   "cell_type": "code",
   "execution_count": null,
   "id": "b60cde05-1974-41ed-9997-dc2172a508c4",
   "metadata": {},
   "outputs": [],
   "source": []
  },
  {
   "cell_type": "code",
   "execution_count": null,
   "id": "bce2a176-d12a-453b-9e73-6f8390d3a0f6",
   "metadata": {},
   "outputs": [],
   "source": []
  },
  {
   "cell_type": "code",
   "execution_count": null,
   "id": "10321a81-677b-4eec-b21b-1b7aacdb2549",
   "metadata": {},
   "outputs": [],
   "source": [
    "for train_id in splits[0]:\n",
    "    if np.max(train_id) >= X_train.shape[0]:\n",
    "        print(\"Any train id exceedes de limits.\")\n",
    "\n",
    "for test_id in splits[1]:\n",
    "    if np.max(test_id) >= X_train.shape[0]:\n",
    "        print(\"Any test id exceedes de limits.\")"
   ]
  },
  {
   "cell_type": "code",
   "execution_count": null,
   "id": "1cc8c2a0-cebd-4217-a2a6-10fc8ad8ab3d",
   "metadata": {},
   "outputs": [],
   "source": []
  },
  {
   "cell_type": "code",
   "execution_count": null,
   "id": "8f6af8eb-f5d3-45c5-89c5-9c2a7f6dffd6",
   "metadata": {},
   "outputs": [],
   "source": [
    "cbs = L()\n",
    "tfms = [ToFloat(), None]\n",
    "batch_tfms = [TSStandardize(by_sample=False, use_single_batch=False)]"
   ]
  },
  {
   "cell_type": "code",
   "execution_count": null,
   "id": "e1c6763d-a2b7-4e61-86ad-3c25065529a8",
   "metadata": {},
   "outputs": [],
   "source": [
    "dls = get_ts_dls(X_train, splits=splits, tfms=tfms, bs=64, batch_tfms=batch_tfms)"
   ]
  },
  {
   "cell_type": "code",
   "execution_count": null,
   "id": "3655e73a-ba6a-41fd-9864-6853c148a035",
   "metadata": {},
   "outputs": [],
   "source": [
    "learn = ts_learner(dls, InceptionTimePlus, metrics=[rmse], y_range=[X_train.min(), X_train.max()])\n",
    "learn.fit_one_cycle(10)"
   ]
  },
  {
   "cell_type": "code",
   "execution_count": null,
   "id": "ece969b5-ced9-41c1-aafd-5d184b9a505c",
   "metadata": {},
   "outputs": [],
   "source": [
    "learn.validate()"
   ]
  },
  {
   "cell_type": "code",
   "execution_count": null,
   "id": "68f386ee-fb2c-4fbe-8ef1-2daeea7593ff",
   "metadata": {},
   "outputs": [],
   "source": [
    "rmse_score = learn.validate()[1].item()\n",
    "rmse_scores.append(rmse_score)"
   ]
  },
  {
   "cell_type": "code",
   "execution_count": null,
   "id": "42366927-95b1-4b07-a947-d0be900dccc1",
   "metadata": {},
   "outputs": [],
   "source": [
    "print(\"Execution ended\")\n",
    "beep(1)\n",
    "if reset_kernel:\n",
    "    import os\n",
    "    os._exit(00)"
   ]
  }
 ],
 "metadata": {
  "kernelspec": {
   "display_name": "Python 3 (ipykernel)",
   "language": "python",
   "name": "python3"
  },
  "language_info": {
   "codemirror_mode": {
    "name": "ipython",
    "version": 3
   },
   "file_extension": ".py",
   "mimetype": "text/x-python",
   "name": "python",
   "nbconvert_exporter": "python",
   "pygments_lexer": "ipython3",
   "version": "3.10.13"
  }
 },
 "nbformat": 4,
 "nbformat_minor": 5
}

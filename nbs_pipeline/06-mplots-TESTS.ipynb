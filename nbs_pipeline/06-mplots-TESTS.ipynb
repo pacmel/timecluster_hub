{
 "cells": [
  {
   "cell_type": "markdown",
   "id": "7e5d93f6-1b3a-429d-8ad5-3796f58d4214",
   "metadata": {},
   "source": [
    "# Matrix Profile MPlots\n",
    "> Entendiendo los MPLOTS para intentar la propuesta de Eaonn Keogh\n",
    "> Objetivo: Tener un tab equivalente al de los embeddings en el que en lugar de analizarse el plot de Embeddings se analice un MPlot\n",
    "\n",
    "\n",
    "## Artículos de Eon Keogh en los que se describen los MPlots\n",
    "- [IEEE - Matrix Profile XXVI: Mplots: Scaling Time Series Similarity Matrices to Massive Data](https://ieeexplore.ieee.org/stamp/stamp.jsp?tp=&arnumber=10027730) "
   ]
  },
  {
   "cell_type": "markdown",
   "id": "ef2d5b2c-0183-454f-9457-3b680fa3c7b8",
   "metadata": {},
   "source": [
    "## Tratando de entender las Time Series similarity matrices / recurrence plots\n",
    "\n",
    "Un Time Series Similarity Matrix o Recurrence Plot es una herramienta útil en el análisis de datos de series temporales. Permite visualizar y cuantificar las recurrencias en los datos, es decir, los momentos en los que un sistema o conjunto de datos visita un estado previo o uno muy similar en el espacio de fase.\n",
    "\n",
    "La construcción de un Recurrence Plot implica la creación de una matriz de recurrencia, donde los ejes representan el tiempo y los puntos dentro de la matriz indican los momentos en los que los estados del sistema son similares o idénticos. En práctica, esta matriz se traduce en un gráfico donde los patrones de puntos revelan la dinámica temporal de los datos, ayudando a identificar ciclos, tendencias estacionarias, o cambios estructurales dentro de la serie temporal.\n",
    "\n",
    "El proceso comienza con la selección de un conjunto de datos o trayectoria, seguido de la definición de un umbral de similitud para determinar qué puntos se consideran recurrencias. El resultado es una representación gráfica, a menudo utilizando caracteres ASCII o Unicode para facilitar la visualización en diferentes plataformas sin necesidad de gráficos complejos.\n",
    "\n",
    "Este tipo de análisis es valioso en diversos campos, como la física, la biología y las finanzas, donde se estudian sistemas dinámicos y se desea comprender la naturaleza de las dependencias temporales en los datos.\n",
    "\n",
    "Para más detalles y ejemplos de cómo generar y interpretar Recurrence Plots, puedes consultar fuentes como la documentación de RecurrenceAnalysis.\n",
    "\n",
    "\n",
    "[Julia dynamics](https://juliadynamics.github.io/RecurrenceAnalysis.jl/v2.0/rplots/)\n",
    "[Julia dynamics 2](https://juliadynamics.github.io/DynamicalSystems.jl/v1.5/rqa/rplots/)\n",
    "--> Buscar mejores tutoriales\n",
    "\n"
   ]
  },
  {
   "cell_type": "markdown",
   "id": "3b8ee486-6700-4dea-b75b-6de66fb840c6",
   "metadata": {},
   "source": [
    "### Siguiendo el tutorial de pyts\n",
    "[Johann Faouzi](https://pyts.readthedocs.io/en/stable/auto_examples/image/plot_dataset_rp.html)\n",
    "\n",
    "A recurrence plot is an image obtained from a time series, representing the pairwise Euclidean distances for each value (and more generally for each trajectory) in the time series. The image can be binarized using a threshold. It is implemented as pyts.image.RecurrencePlot.\n",
    "\n",
    "In this example, we consider the training samples of the GunPoint dataset, consisting of 50 univariate time series of length 150. The recurrence plot of each time series is independently computed and the 50 recurrence plots are plotted."
   ]
  },
  {
   "cell_type": "markdown",
   "id": "291e566c-2206-48ea-a919-eb848288a194",
   "metadata": {},
   "source": [
    "#### Install the library"
   ]
  },
  {
   "cell_type": "code",
   "execution_count": 1,
   "id": "6c99e6c4-31a0-49ad-ac96-8a6486388e4f",
   "metadata": {},
   "outputs": [
    {
     "name": "stdout",
     "output_type": "stream",
     "text": [
      "Requirement already satisfied: pyts in /home/macu/env/lib/python3.10/site-packages (0.13.0)\n",
      "Requirement already satisfied: numpy>=1.22.4 in /home/macu/env/lib/python3.10/site-packages (from pyts) (1.26.3)\n",
      "Requirement already satisfied: scipy>=1.8.1 in /home/macu/env/lib/python3.10/site-packages (from pyts) (1.11.4)\n",
      "Requirement already satisfied: scikit-learn>=1.2.0 in /home/macu/env/lib/python3.10/site-packages (from pyts) (1.2.2)\n",
      "Requirement already satisfied: joblib>=1.1.1 in /home/macu/env/lib/python3.10/site-packages (from pyts) (1.3.2)\n",
      "Requirement already satisfied: numba>=0.55.2 in /home/macu/env/lib/python3.10/site-packages (from pyts) (0.58.1)\n",
      "Requirement already satisfied: llvmlite<0.42,>=0.41.0dev0 in /home/macu/env/lib/python3.10/site-packages (from numba>=0.55.2->pyts) (0.41.1)\n",
      "Requirement already satisfied: threadpoolctl>=2.0.0 in /home/macu/env/lib/python3.10/site-packages (from scikit-learn>=1.2.0->pyts) (3.2.0)\n"
     ]
    }
   ],
   "source": [
    "! pip install pyts"
   ]
  },
  {
   "cell_type": "markdown",
   "id": "c6c92191-af51-4374-a531-b67cb232208c",
   "metadata": {},
   "source": [
    "#### Mandatory imports"
   ]
  },
  {
   "cell_type": "code",
   "execution_count": 12,
   "id": "a195b81f-b4b8-42e9-b853-bd98d524c96e",
   "metadata": {},
   "outputs": [],
   "source": [
    "import numpy as np\n",
    "import matplotlib.pyplot as plt\n",
    "from mpl_toolkits.axes_grid1 import ImageGrid\n",
    "from pyts.image import RecurrencePlot\n",
    "from pyts.datasets import load_gunpoint"
   ]
  },
  {
   "cell_type": "markdown",
   "id": "9254566b-3530-43ed-84e1-db9cc7bbe0d8",
   "metadata": {},
   "source": [
    "#### Carga de dataset genérico: GunPoint dataset\n",
    "> Contiene 50 series temporales cortas (longitud 150). "
   ]
  },
  {
   "cell_type": "code",
   "execution_count": 3,
   "id": "ee187185-eb9b-4065-bba4-b6bf0c422b36",
   "metadata": {},
   "outputs": [],
   "source": [
    "from pyts.datasets import load_gunpoint\n",
    "X, _, _, _ = load_gunpoint(return_X_y=True)"
   ]
  },
  {
   "cell_type": "code",
   "execution_count": 4,
   "id": "c71501ad-f21e-446c-8182-31280e67bb7d",
   "metadata": {},
   "outputs": [
    {
     "data": {
      "text/plain": [
       "array([[-0.6478854 , -0.64199155, -0.63818632, ..., -0.64042873,\n",
       "        -0.63866571, -0.63865722],\n",
       "       [-0.64442658, -0.64540093, -0.64705511, ..., -0.6349345 ,\n",
       "        -0.6344968 , -0.63159565],\n",
       "       [-0.77835282, -0.77827907, -0.77715084, ..., -0.70419626,\n",
       "        -0.70760524, -0.7071202 ],\n",
       "       ...,\n",
       "       [-0.77912617, -0.77837863, -0.7757449 , ..., -0.50500603,\n",
       "        -0.50373099, -0.50438486],\n",
       "       [-0.70303339, -0.70261754, -0.70250356, ..., -0.64113375,\n",
       "        -0.64140622, -0.64210896],\n",
       "       [-1.4357199 , -1.4322717 , -1.4329285 , ..., -1.4354619 ,\n",
       "        -1.4352821 , -1.4308845 ]])"
      ]
     },
     "execution_count": 4,
     "metadata": {},
     "output_type": "execute_result"
    }
   ],
   "source": [
    "X"
   ]
  },
  {
   "cell_type": "code",
   "execution_count": 10,
   "id": "70e098b5-8772-40bc-8a02-8496c4e14d03",
   "metadata": {},
   "outputs": [
    {
     "data": {
      "text/plain": [
       "(50, 150)"
      ]
     },
     "execution_count": 10,
     "metadata": {},
     "output_type": "execute_result"
    }
   ],
   "source": [
    "X.shape"
   ]
  },
  {
   "cell_type": "markdown",
   "id": "3253fe13-b1a2-4467-b734-22394157b53b",
   "metadata": {},
   "source": [
    "#### Obtenemos el plot de recurrencia para cada serie"
   ]
  },
  {
   "cell_type": "code",
   "execution_count": 5,
   "id": "2eca0521-990d-4b40-ba6e-a4563aa8f284",
   "metadata": {},
   "outputs": [],
   "source": [
    "rp = RecurrencePlot(threshold='point', percentage=20)\n",
    "X_rp = rp.fit_transform(X)"
   ]
  },
  {
   "cell_type": "code",
   "execution_count": 9,
   "id": "8bae0e26-380c-4b32-a576-fb624fd03e2c",
   "metadata": {},
   "outputs": [
    {
     "name": "stdout",
     "output_type": "stream",
     "text": [
      "[[[1. 1. 1. ... 1. 1. 1.]\n",
      "  [1. 1. 1. ... 1. 1. 1.]\n",
      "  [1. 1. 1. ... 1. 1. 1.]\n",
      "  ...\n",
      "  [1. 1. 1. ... 1. 1. 1.]\n",
      "  [1. 1. 1. ... 1. 1. 1.]\n",
      "  [1. 1. 1. ... 1. 1. 1.]]]\n",
      "(50, 150, 150)\n"
     ]
    }
   ],
   "source": [
    "print(X_rp[:1])\n",
    "print(X_rp.shape)"
   ]
  },
  {
   "cell_type": "code",
   "execution_count": 11,
   "id": "e96fd858-53f4-4c34-a040-aeac5803c7b2",
   "metadata": {},
   "outputs": [
    {
     "data": {
      "image/png": "[encoded data removed]",
      "text/plain": [
       "<Figure size 600x600 with 1 Axes>"
      ]
     },
     "metadata": {},
     "output_type": "display_data"
    }
   ],
   "source": [
    "plt.figure(figsize=(6, 6))\n",
    "plt.imshow(X_rp[0], cmap='binary', origin='lower')\n",
    "plt.title('Recurrence Plot')\n",
    "plt.show()"
   ]
  }
 ],
 "metadata": {
  "kernelspec": {
   "display_name": "Python 3 (ipykernel)",
   "language": "python",
   "name": "python3"
  },
  "language_info": {
   "codemirror_mode": {
    "name": "ipython",
    "version": 3
   },
   "file_extension": ".py",
   "mimetype": "text/x-python",
   "name": "python",
   "nbconvert_exporter": "python",
   "pygments_lexer": "ipython3",
   "version": "3.10.13"
  }
 },
 "nbformat": 4,
 "nbformat_minor": 5
}

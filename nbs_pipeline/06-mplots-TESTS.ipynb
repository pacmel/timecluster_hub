{
 "cells": [
  {
   "cell_type": "markdown",
   "id": "7e5d93f6-1b3a-429d-8ad5-3796f58d4214",
   "metadata": {},
   "source": [
    "# Matrix Profile MPlots\n",
    "> Entendiendo los MPLOTS para intentar la propuesta de Eaonn Keogh\n",
    "> Objetivo: Tener un tab equivalente al de los embeddings en el que en lugar de analizarse el plot de Embeddings se analice un MPlot\n",
    "\n",
    "\n",
    "## Artículos de Eon Keogh en los que se describen los MPlots\n",
    "- [IEEE - Matrix Profile XXVI: Mplots: Scaling Time Series Similarity Matrices to Massive Data](https://ieeexplore.ieee.org/stamp/stamp.jsp?tp=&arnumber=10027730)\n",
    "\n",
    "## Apuntes interesantes de similarity matrix y distance matrix\n",
    "- [Similarity Measures and Dimensionality Reduction Techniques for Time Series Data Mining](https://www.intechopen.com/chapters/39030)\n",
    "\n",
    "## Ejemplos de uso de recurrence plot\n",
    "CUIDADO, no son exactamente lo mismo que los MPlots. Según el artículo de Eaonn, las principales diferencias son: \n",
    "- Los recurrence/dot plots son discretos. Cada celda de la matriz es binaria (1/0). En contraste, los Mplots deben tener valores reales porque queremos conocer grados relativos de similaridad. Incluyen una escala por colores dependiente del grado de similaridad para ser más visuales y concisos.\n",
    "- Por su naturaleza binaria, los dot plots tienden a ser muy dispersos (muchos 0)  => Rara vez la complejidad por espacio de memoria es un problema si se utilizan herramientas como la librería de Rocío ([buscar nombre](https://www.sciencedirect.com/science/article/pii/S1877750318301352). Si no recuerdo mal, está relacionado con CHAMELEON (https://www-users.cse.umn.edu/~hanxx023/dmclass/chameleon.pdf). Efectivamente https://ieeexplore.ieee.org/abstract/document/9150424\n",
    "- Cada celda en un dot plot es el resultado de un test de igualdad comparando dos escalares. Sin embargo, las celdas de Mplot hacen referencia a la comparación en distancia entre dos vectores. Mplots es mucho más pesado de computar que dot plot.\n",
    "  > Me vendría muy bien un ejemplo de cómo shacerlo a mano paso a paso para ver esto con mis propios ojos, aunque sea obvio\n",
    "- Los dot plot solo son útiles para encontrar similitudes. Sin embargo, en los Mplots se busca comparar dos datasets para encontrar tanto similaritudes como violaciones de la conservación (dissimilitudes)\n",
    "\n",
    "\n",
    "Ejemplos:\n",
    "- [Neurociencia PhD](https://www.youtube.com/watch?v=WZ-QLbHkHbc)"
   ]
  },
  {
   "cell_type": "markdown",
   "id": "ef2d5b2c-0183-454f-9457-3b680fa3c7b8",
   "metadata": {},
   "source": [
    "## Tratando de entender las Time Series similarity matrices / recurrence plots\n",
    "\n",
    "Un Time Series Similarity Matrix o Recurrence Plot es una herramienta útil en el análisis de datos de series temporales. Permite visualizar y cuantificar las recurrencias en los datos, es decir, los momentos en los que un sistema o conjunto de datos visita un estado previo o uno muy similar en el espacio de fase.\n",
    "\n",
    "La construcción de un Recurrence Plot implica la creación de una matriz de recurrencia, donde los ejes representan el tiempo y los puntos dentro de la matriz indican los momentos en los que los estados del sistema son similares o idénticos. En práctica, esta matriz se traduce en un gráfico donde los patrones de puntos revelan la dinámica temporal de los datos, ayudando a identificar ciclos, tendencias estacionarias, o cambios estructurales dentro de la serie temporal.\n",
    "\n",
    "El proceso comienza con la selección de un conjunto de datos o trayectoria, seguido de la definición de un umbral de similitud para determinar qué puntos se consideran recurrencias. El resultado es una representación gráfica, a menudo utilizando caracteres ASCII o Unicode para facilitar la visualización en diferentes plataformas sin necesidad de gráficos complejos.\n",
    "\n",
    "Este tipo de análisis es valioso en diversos campos, como la física, la biología y las finanzas, donde se estudian sistemas dinámicos y se desea comprender la naturaleza de las dependencias temporales en los datos.\n",
    "\n",
    "Para más detalles y ejemplos de cómo generar y interpretar Recurrence Plots, puedes consultar fuentes como la documentación de RecurrenceAnalysis.\n",
    "\n",
    "\n",
    "[Julia dynamics](https://juliadynamics.github.io/RecurrenceAnalysis.jl/v2.0/rplots/)\n",
    "[Julia dynamics 2](https://juliadynamics.github.io/DynamicalSystems.jl/v1.5/rqa/rplots/)\n",
    "--> Buscar mejores tutoriales\n",
    "\n"
   ]
  },
  {
   "cell_type": "markdown",
   "id": "3b8ee486-6700-4dea-b75b-6de66fb840c6",
   "metadata": {},
   "source": [
    "### Siguiendo el tutorial de pyts\n",
    "[Johann Faouzi](https://pyts.readthedocs.io/en/stable/auto_examples/image/plot_dataset_rp.html)\n",
    "\n",
    "A recurrence plot is an image obtained from a time series, representing the pairwise Euclidean distances for each value (and more generally for each trajectory) in the time series. The image can be binarized using a threshold. It is implemented as pyts.image.RecurrencePlot.\n",
    "\n",
    "In this example, we consider the training samples of the GunPoint dataset, consisting of 50 univariate time series of length 150. The recurrence plot of each time series is independently computed and the 50 recurrence plots are plotted."
   ]
  },
  {
   "cell_type": "markdown",
   "id": "291e566c-2206-48ea-a919-eb848288a194",
   "metadata": {},
   "source": [
    "#### Install the library"
   ]
  },
  {
   "cell_type": "code",
   "execution_count": null,
   "id": "6c99e6c4-31a0-49ad-ac96-8a6486388e4f",
   "metadata": {},
   "outputs": [],
   "source": [
    "! pip install pyts"
   ]
  },
  {
   "cell_type": "markdown",
   "id": "c6c92191-af51-4374-a531-b67cb232208c",
   "metadata": {},
   "source": [
    "#### Mandatory imports"
   ]
  },
  {
   "cell_type": "code",
   "execution_count": null,
   "id": "a195b81f-b4b8-42e9-b853-bd98d524c96e",
   "metadata": {},
   "outputs": [],
   "source": [
    "import numpy as np\n",
    "import matplotlib.pyplot as plt\n",
    "from mpl_toolkits.axes_grid1 import ImageGrid"
   ]
  },
  {
   "cell_type": "code",
   "execution_count": null,
   "id": "d27c2e64-22f6-4c26-9e96-53dbf7bb8a23",
   "metadata": {},
   "outputs": [],
   "source": [
    "from pyts.image import RecurrencePlot\n",
    "from pyts.datasets import load_gunpoint"
   ]
  },
  {
   "cell_type": "markdown",
   "id": "9254566b-3530-43ed-84e1-db9cc7bbe0d8",
   "metadata": {},
   "source": [
    "#### Carga de dataset genérico: GunPoint dataset\n",
    "> Contiene 50 series temporales cortas (longitud 150). "
   ]
  },
  {
   "cell_type": "code",
   "execution_count": null,
   "id": "ee187185-eb9b-4065-bba4-b6bf0c422b36",
   "metadata": {},
   "outputs": [],
   "source": [
    "from pyts.datasets import load_gunpoint\n",
    "X, _, _, _ = load_gunpoint(return_X_y=True)"
   ]
  },
  {
   "cell_type": "code",
   "execution_count": null,
   "id": "c71501ad-f21e-446c-8182-31280e67bb7d",
   "metadata": {},
   "outputs": [],
   "source": [
    "X"
   ]
  },
  {
   "cell_type": "code",
   "execution_count": null,
   "id": "70e098b5-8772-40bc-8a02-8496c4e14d03",
   "metadata": {},
   "outputs": [],
   "source": [
    "X.shape"
   ]
  },
  {
   "cell_type": "markdown",
   "id": "3253fe13-b1a2-4467-b734-22394157b53b",
   "metadata": {},
   "source": [
    "#### Obtenemos el plot de recurrencia para todas las series temporales"
   ]
  },
  {
   "cell_type": "code",
   "execution_count": null,
   "id": "2eca0521-990d-4b40-ba6e-a4563aa8f284",
   "metadata": {},
   "outputs": [],
   "source": [
    "rp = RecurrencePlot(threshold='point', percentage=20)\n",
    "X_rp = rp.fit_transform(X)"
   ]
  },
  {
   "cell_type": "code",
   "execution_count": null,
   "id": "8bae0e26-380c-4b32-a576-fb624fd03e2c",
   "metadata": {},
   "outputs": [],
   "source": [
    "print(X_rp[:1])\n",
    "print(X_rp.shape)"
   ]
  },
  {
   "cell_type": "markdown",
   "id": "10d0d94e-ac42-4496-ba81-01c39493c350",
   "metadata": {},
   "source": [
    "#### Ejemplo del primer plot"
   ]
  },
  {
   "cell_type": "code",
   "execution_count": null,
   "id": "e96fd858-53f4-4c34-a040-aeac5803c7b2",
   "metadata": {},
   "outputs": [],
   "source": [
    "plt.figure(figsize=(6, 6))\n",
    "plt.imshow(X_rp[0], cmap='binary', origin='lower')\n",
    "plt.title('Recurrence Plot')\n",
    "plt.show()"
   ]
  },
  {
   "cell_type": "markdown",
   "id": "f99df26b-0df1-4eb5-ad0a-8970af246429",
   "metadata": {},
   "source": [
    "#### Mostramos los 50 plots"
   ]
  },
  {
   "cell_type": "code",
   "execution_count": null,
   "id": "3e06fed8-398b-42e9-a467-0eac95caab1c",
   "metadata": {},
   "outputs": [],
   "source": [
    "fig = plt.figure(figsize=(10, 5))\n",
    "\n",
    "grid = ImageGrid(fig, 111, nrows_ncols=(5, 10), axes_pad=0.1, share_all=True)\n",
    "for i, ax in enumerate(grid):\n",
    "    ax.imshow(X_rp[i], cmap='binary', origin='lower')\n",
    "grid[0].get_yaxis().set_ticks([])\n",
    "grid[0].get_xaxis().set_ticks([])\n",
    "\n",
    "fig.suptitle(\n",
    "    \"Recurrence plots for the 50 time series in the 'GunPoint' dataset\",\n",
    "    y=0.92\n",
    ")\n",
    "\n",
    "plt.show()"
   ]
  },
  {
   "cell_type": "markdown",
   "id": "b719d43c-402d-45a2-ad01-9cf2f9a86e89",
   "metadata": {},
   "source": [
    "## Go Stumpy!"
   ]
  },
  {
   "cell_type": "code",
   "execution_count": null,
   "id": "0dfe1d16-1bd0-4e2d-9357-bce3e0db9e16",
   "metadata": {},
   "outputs": [],
   "source": [
    "import numpy as np\n",
    "import matplotlib.pyplot as plt\n",
    "from mpl_toolkits.axes_grid1 import ImageGrid\n",
    "from matplotlib.gridspec import GridSpec"
   ]
  },
  {
   "cell_type": "code",
   "execution_count": null,
   "id": "c83766b3-1f86-4e5c-9292-6d045a8f845f",
   "metadata": {},
   "outputs": [],
   "source": [
    "import stumpy"
   ]
  },
  {
   "cell_type": "markdown",
   "id": "d1558a20-c34b-4654-b697-e65404f2dd13",
   "metadata": {},
   "source": [
    "### Siguiendo el ejemplo del vídeo de stumpy"
   ]
  },
  {
   "cell_type": "code",
   "execution_count": null,
   "id": "d7f026da-43c1-46de-b05a-05e0656230b0",
   "metadata": {},
   "outputs": [],
   "source": [
    "import utils.memory as mem\n",
    "mem.gpu_memory_status()"
   ]
  },
  {
   "cell_type": "markdown",
   "id": "4456b47b-52c7-4929-b039-fe0dc8412948",
   "metadata": {},
   "source": [
    "### Ejemplo del video de Stumpy"
   ]
  },
  {
   "cell_type": "markdown",
   "id": "a18966d2-0e2e-4190-ac17-5096a8173cff",
   "metadata": {},
   "source": [
    "#### Inicializamos los parámetros"
   ]
  },
  {
   "cell_type": "code",
   "execution_count": null,
   "id": "79d7d91b-3e21-4895-8cf7-b6ecf9f198ac",
   "metadata": {},
   "outputs": [],
   "source": [
    "ts = np.random.rand(10000)\n",
    "m = 50\n",
    "mp = stumpy.gpu_stump(ts, m)"
   ]
  },
  {
   "cell_type": "code",
   "execution_count": null,
   "id": "3bf71954-22dc-430f-9e01-5551d41c0b80",
   "metadata": {},
   "outputs": [],
   "source": [
    "mp.shape"
   ]
  },
  {
   "cell_type": "markdown",
   "id": "4b5da6d4-8d82-4e78-b8a2-1d507ae0c6c9",
   "metadata": {},
   "source": [
    "#### Visualizar el MPlot y la serie temporal"
   ]
  },
  {
   "cell_type": "code",
   "execution_count": null,
   "id": "ecb7129c-41ed-4557-8384-1f0089200a8d",
   "metadata": {},
   "outputs": [],
   "source": [
    "fig = plt.figure(figsize=(10, 6))\n",
    "gs = GridSpec(2, 1, height_ratios=[1, 4])\n",
    "# Serie temporal\n",
    "ax1 = fig.add_subplot(gs[0])\n",
    "ax1.plot(ts, label=\"Serie Temporal\")\n",
    "ax1.set_title(\"Serie Temporal\")\n",
    "ax1.legend()\n",
    "# MPlot\n",
    "ax2 = fig.add_subplot(gs[1], sharex=ax1)\n",
    "mp_values = mp[:, 0].astype(float) # Extraer solo los valores del perfil de similitud\n",
    "ax2.imshow(mp_values.reshape(-1, 1).T, aspect='auto', origin='lower', cmap='hot', extent=(0, len(ts), 0, m))\n",
    "ax2.set_title(\"MPlot\")\n",
    "plt.tight_layout()\n",
    "plt.show()"
   ]
  },
  {
   "cell_type": "markdown",
   "id": "3b9df65a-1332-495f-8bdf-e0367ddc51b3",
   "metadata": {},
   "source": [
    "### Ejemplo de STUMPY Basics - Analyzing Motifs and Anomalies with STUMP\n",
    "https://stumpy.readthedocs.io/en/latest/Tutorial_The_Matrix_Profile.html"
   ]
  },
  {
   "cell_type": "code",
   "execution_count": null,
   "id": "5993553f-e454-436a-8580-eac6fca0d857",
   "metadata": {},
   "outputs": [],
   "source": [
    "%matplotlib inline\n",
    "\n",
    "import pandas as pd\n",
    "import stumpy\n",
    "import numpy as np\n",
    "import matplotlib.pyplot as plt\n",
    "import matplotlib.dates as dates\n",
    "from matplotlib.patches import Rectangle\n",
    "import datetime as dt\n",
    "\n",
    "plt.style.use('https://raw.githubusercontent.com/TDAmeritrade/stumpy/main/docs/stumpy.mplstyle')"
   ]
  },
  {
   "cell_type": "markdown",
   "id": "9eb77df6-fa20-4a86-abf4-2dd58d27814b",
   "metadata": {},
   "source": [
    "Load the dataset"
   ]
  },
  {
   "cell_type": "code",
   "execution_count": null,
   "id": "1d0846a2-3039-4587-8d6a-d40aa0757ae4",
   "metadata": {},
   "outputs": [],
   "source": [
    "steam_df = pd.read_csv(\"https://zenodo.org/record/4273921/files/STUMPY_Basics_steamgen.csv?download=1\")\n",
    "steam_df.head()"
   ]
  },
  {
   "cell_type": "code",
   "execution_count": null,
   "id": "2a415279-71cc-4c01-8a09-bd3ecee85fd8",
   "metadata": {},
   "outputs": [],
   "source": [
    "steam_df.shape"
   ]
  },
  {
   "cell_type": "markdown",
   "id": "fac0163d-b87c-4e25-a1c8-4d7ad532c38b",
   "metadata": {},
   "source": [
    "Visualize dataset"
   ]
  },
  {
   "cell_type": "code",
   "execution_count": null,
   "id": "a811de7d-a310-4544-bbdd-1651f25af069",
   "metadata": {},
   "outputs": [],
   "source": [
    "plt.suptitle('Steamgen Dataset', fontsize='30')\n",
    "plt.xlabel('Time', fontsize ='20')\n",
    "plt.ylabel('Steam Flow', fontsize='20')\n",
    "plt.plot(steam_df['steam flow'].values)\n",
    "plt.show()"
   ]
  },
  {
   "cell_type": "markdown",
   "id": "cd1e3a09-0b49-4d6e-997d-81a626e72bd9",
   "metadata": {},
   "source": [
    "Manually find a motif"
   ]
  },
  {
   "cell_type": "code",
   "execution_count": null,
   "id": "fe433084-9fd3-4f6d-8f59-9daf8d18a6fc",
   "metadata": {},
   "outputs": [],
   "source": [
    "m = 640\n",
    "fig, axs = plt.subplots(2)\n",
    "plt.suptitle('Steamgen Dataset', fontsize='30')\n",
    "axs[0].set_ylabel(\"Steam Flow\", fontsize='20')\n",
    "axs[0].plot(steam_df['steam flow'], alpha=0.5, linewidth=1)\n",
    "axs[0].plot(steam_df['steam flow'].iloc[643:643+m])\n",
    "axs[0].plot(steam_df['steam flow'].iloc[8724:8724+m])\n",
    "rect = Rectangle((643, 0), m, 40, facecolor='lightgrey')\n",
    "axs[0].add_patch(rect)\n",
    "rect = Rectangle((8724, 0), m, 40, facecolor='lightgrey')\n",
    "axs[0].add_patch(rect)\n",
    "axs[1].set_xlabel(\"Time\", fontsize='20')\n",
    "axs[1].set_ylabel(\"Steam Flow\", fontsize='20')\n",
    "axs[1].plot(steam_df['steam flow'].values[643:643+m], color='C1')\n",
    "axs[1].plot(steam_df['steam flow'].values[8724:8724+m], color='C2')\n",
    "plt.show()"
   ]
  },
  {
   "cell_type": "markdown",
   "id": "9de82500-8bc6-4553-9340-0a1ad460e1d9",
   "metadata": {},
   "source": [
    "Find a motif using STUMP"
   ]
  },
  {
   "cell_type": "code",
   "execution_count": null,
   "id": "ac3cdf54-4a7e-4b6f-b22f-df5c5b5c5d28",
   "metadata": {},
   "outputs": [],
   "source": [
    "m = 640\n",
    "mp = stumpy.stump(steam_df['steam flow'], m)"
   ]
  },
  {
   "cell_type": "markdown",
   "id": "1c4cba7c-e273-47f7-b695-f4a7e1b0999a",
   "metadata": {},
   "source": [
    "- In this case, based on some domain expertise, we’ve chosen ```m = 640```, which is roughly equivalent to half-hour windows.\n",
    "- And, again, the output of ```stump``` is an array that contains all of the matrix profile values (i.e., z-normalized Euclidean distance to your nearest neighbor) and matrix profile indices in the first and second columns, respectively (we’ll ignore the third and fourth columns for now).\n",
    "- To identify the index location of the motif we’ll need to find the index location where the matrix profile, ```mp[:, 0]```, has the smallest value:"
   ]
  },
  {
   "cell_type": "code",
   "execution_count": null,
   "id": "4a4ed669-ff9a-4724-a087-5341e33651a9",
   "metadata": {},
   "outputs": [],
   "source": [
    "mp.shape"
   ]
  },
  {
   "cell_type": "code",
   "execution_count": null,
   "id": "4282f668-ba67-4be2-a5d5-80d45d05223c",
   "metadata": {},
   "outputs": [],
   "source": [
    "mp"
   ]
  },
  {
   "cell_type": "code",
   "execution_count": null,
   "id": "1278f360-131f-48b5-afb4-33244f19da83",
   "metadata": {},
   "outputs": [],
   "source": [
    "mp[:,0]"
   ]
  },
  {
   "cell_type": "code",
   "execution_count": null,
   "id": "0b386309-ea17-4e43-8264-d748b2c0091a",
   "metadata": {},
   "outputs": [],
   "source": [
    "mp[:,0][0]"
   ]
  },
  {
   "cell_type": "code",
   "execution_count": null,
   "id": "b1074e80-d8ca-46a3-bf80-d8f93e9110b9",
   "metadata": {},
   "outputs": [],
   "source": [
    "motif_idx = np.argsort(mp[:, 0])[0]\n",
    "print(f\"The motif is located at index {motif_idx}\")"
   ]
  },
  {
   "cell_type": "markdown",
   "id": "a4080c71-4869-4c84-b837-e53dba34d97a",
   "metadata": {},
   "source": [
    "With this ```motif_idx information```, we can also identify the location of its nearest neighbor by cross-referencing the matrix profile indices, ```mp[:, 1]:```"
   ]
  },
  {
   "cell_type": "code",
   "execution_count": null,
   "id": "816896e6-5079-4a7e-8ea6-5d54f052b38f",
   "metadata": {},
   "outputs": [],
   "source": [
    "nearest_neighbor_idx = mp[motif_idx, 1]\n",
    "print(f\"The nearest neighbor is located at index {nearest_neighbor_idx}\")"
   ]
  },
  {
   "cell_type": "markdown",
   "id": "6c21fac2-1d5a-46ef-bff9-f27b39598a19",
   "metadata": {},
   "source": [
    "Todo junto"
   ]
  },
  {
   "cell_type": "code",
   "execution_count": null,
   "id": "ed3b5a5f-a38a-4b09-b955-200826cd03fe",
   "metadata": {},
   "outputs": [],
   "source": [
    "fig, axs = plt.subplots(2, sharex=True, gridspec_kw={'hspace': 0})\n",
    "plt.suptitle('Motif (Pattern) Discovery', fontsize='30')\n",
    "\n",
    "axs[0].plot(steam_df['steam flow'].values)\n",
    "axs[0].set_ylabel('Steam Flow', fontsize='20')\n",
    "rect = Rectangle((motif_idx, 0), m, 40, facecolor='lightgrey')\n",
    "axs[0].add_patch(rect)\n",
    "rect = Rectangle((nearest_neighbor_idx, 0), m, 40, facecolor='lightgrey')\n",
    "axs[0].add_patch(rect)\n",
    "axs[1].set_xlabel('Time', fontsize ='20')\n",
    "axs[1].set_ylabel('Matrix Profile', fontsize='20')\n",
    "axs[1].axvline(x=motif_idx, linestyle=\"dashed\")\n",
    "axs[1].axvline(x=nearest_neighbor_idx, linestyle=\"dashed\")\n",
    "axs[1].plot(mp[:, 0])\n",
    "plt.show()"
   ]
  },
  {
   "cell_type": "code",
   "execution_count": null,
   "id": "149dec10-2a2f-4347-84ee-16b0f127782c",
   "metadata": {},
   "outputs": [],
   "source": [
    "mp[motif_idx, 0]"
   ]
  },
  {
   "cell_type": "markdown",
   "id": "2e57fafe-b106-443c-9327-3f3ca8573a6a",
   "metadata": {},
   "source": [
    "What we learn is that the global minima (vertical dashed lines) from the matrix profile correspond to the locations of the two subsequences that make up the motif pair! And the exact z-normalized Euclidean distance between these two subsequences is:"
   ]
  },
  {
   "cell_type": "markdown",
   "id": "78d1e78e-5b05-4fe0-ae44-62e8bf929982",
   "metadata": {},
   "source": [
    "Discord"
   ]
  },
  {
   "cell_type": "code",
   "execution_count": null,
   "id": "dbdb4d25-4dfc-4d59-9054-3a0c86f1f623",
   "metadata": {},
   "outputs": [],
   "source": [
    "discord_idx = np.argsort(mp[:, 0])[-1]\n",
    "print(f\"The discord is located at index {discord_idx}\")"
   ]
  },
  {
   "cell_type": "code",
   "execution_count": null,
   "id": "6ec175d8-51a9-45a6-a230-e535a6de2462",
   "metadata": {},
   "outputs": [],
   "source": []
  },
  {
   "cell_type": "code",
   "execution_count": null,
   "id": "ccededfa-dafd-43fa-bef6-1af6c02b61ce",
   "metadata": {},
   "outputs": [],
   "source": [
    "mp[discord_idx]"
   ]
  },
  {
   "cell_type": "code",
   "execution_count": null,
   "id": "0372970e-dcf4-48c5-83b6-ecf8663a48b0",
   "metadata": {},
   "outputs": [],
   "source": [
    "nearest_neighbor_distance = mp[discord_idx, 0]\n",
    "\n",
    "print(f\"The nearest neighbor subsequence to this discord is {nearest_neighbor_distance} units away\")"
   ]
  },
  {
   "cell_type": "markdown",
   "id": "412edaac-ef34-4a90-8fe5-f7a2f3a4fc12",
   "metadata": {},
   "source": [
    "The subsequence located at this global maximum is also referred to as a discord, novelty, or “potential anomaly”:"
   ]
  },
  {
   "cell_type": "code",
   "execution_count": null,
   "id": "e092263b-d7db-49eb-be9f-55a0869a5cd0",
   "metadata": {},
   "outputs": [],
   "source": [
    "fig, axs = plt.subplots(2, sharex=True, gridspec_kw={'hspace': 0})\n",
    "plt.suptitle('Discord (Anomaly/Novelty) Discovery', fontsize='30')\n",
    "\n",
    "axs[0].plot(steam_df['steam flow'].values)\n",
    "axs[0].set_ylabel('Steam Flow', fontsize='20')\n",
    "rect = Rectangle((discord_idx, 0), m, 40, facecolor='lightgrey')\n",
    "axs[0].add_patch(rect)\n",
    "axs[1].set_xlabel('Time', fontsize ='20')\n",
    "axs[1].set_ylabel('Matrix Profile', fontsize='20')\n",
    "axs[1].axvline(x=discord_idx, linestyle=\"dashed\")\n",
    "axs[1].plot(mp[:, 0])\n",
    "plt.show()"
   ]
  },
  {
   "cell_type": "markdown",
   "id": "fcd3d3a6-44a3-4306-ac76-626896eab56b",
   "metadata": {},
   "source": [
    "Intentando ver la matriz Distance Profile al completo"
   ]
  },
  {
   "cell_type": "code",
   "execution_count": null,
   "id": "138d3175-fb18-4522-a887-c106fe0cab11",
   "metadata": {},
   "outputs": [],
   "source": [
    "m = 640"
   ]
  },
  {
   "cell_type": "code",
   "execution_count": null,
   "id": "56891266-433e-4612-bf4b-4e3511a63a58",
   "metadata": {},
   "outputs": [],
   "source": [
    "steam_flow = steam_df['steam flow'].values\n",
    "#No nans\n",
    "steam_flow = [ 0 if np.isnan(x) else x for x in steam_flow ]"
   ]
  },
  {
   "cell_type": "code",
   "execution_count": null,
   "id": "4aa51592-7856-4f06-88c6-f6300f9efdef",
   "metadata": {},
   "outputs": [],
   "source": [
    "reference_idx = np.random.randint(low=0, high=len(steam_flow) - m)\n",
    "reference_subseq = steam_flow[reference_idx:reference_idx + m]"
   ]
  },
  {
   "cell_type": "code",
   "execution_count": null,
   "id": "6910150e-9afc-475f-9d12-8e8a16a797f0",
   "metadata": {},
   "outputs": [],
   "source": [
    "reference_idx"
   ]
  },
  {
   "cell_type": "code",
   "execution_count": null,
   "id": "eab756f1-7b06-4ce3-83d2-b71878c63fea",
   "metadata": {},
   "outputs": [],
   "source": [
    "#reference_subseq"
   ]
  },
  {
   "cell_type": "code",
   "execution_count": null,
   "id": "892b44d0-e7a2-4291-a250-6904a99307ef",
   "metadata": {},
   "outputs": [],
   "source": [
    "# Calcular el Distance Profile para cada subsecuencia en la serie temporal\n",
    "distance_matrix = np.array([\n",
    "    stumpy.core.mass(reference_subseq, steam_flow[i:i + m]) \n",
    "    for i in range(len(steam_flow) - m + 1)\n",
    "])"
   ]
  },
  {
   "cell_type": "code",
   "execution_count": null,
   "id": "7913dd3e-e5e4-490f-9f34-3d3c81e6fec9",
   "metadata": {},
   "outputs": [],
   "source": [
    "distance_matrix.shape"
   ]
  },
  {
   "cell_type": "code",
   "execution_count": null,
   "id": "273c0d42-1098-470e-8886-1c73f0993655",
   "metadata": {},
   "outputs": [],
   "source": [
    "distance_matrix"
   ]
  },
  {
   "cell_type": "markdown",
   "id": "b50bfa4d-6f41-42a0-89d6-0dbeeb93bdf9",
   "metadata": {},
   "source": [
    "...Y aquí está el problema! Estás cogiendo solo 1 subsequencia! Es un Distance profile, no un Matrix Profile. Además, el Matrix Profile debería tener una fila por cada DP, lo que significa que lo tenemos traspuesto!!! CUIDADO"
   ]
  },
  {
   "cell_type": "code",
   "execution_count": null,
   "id": "7ca06db6-5fb3-41e7-9e97-96c3312154b5",
   "metadata": {},
   "outputs": [],
   "source": [
    "n = len (steam_flow) # Numero de puntos de la serie temporal\n",
    "subsequence_len = 640 # Tamaño ventana\n",
    "m = subsequence_len"
   ]
  },
  {
   "cell_type": "code",
   "execution_count": null,
   "id": "e73e47b3-9ad2-4bef-8678-e724fab4b4dd",
   "metadata": {},
   "outputs": [],
   "source": [
    "subsequence_len"
   ]
  },
  {
   "cell_type": "code",
   "execution_count": null,
   "id": "3f86e942-0b75-4b16-8c7f-31ef8099eb3d",
   "metadata": {},
   "outputs": [],
   "source": [
    "len(steam_flow) - m + 1"
   ]
  },
  {
   "cell_type": "code",
   "execution_count": null,
   "id": "96d7ff71-36fa-490c-b5c1-e2e649798149",
   "metadata": {},
   "outputs": [],
   "source": [
    "# Inicialización de la matriz asociada al MPlot\n",
    "MPlot_matrix = np.empty((n - m + 1, n - m + 1))"
   ]
  },
  {
   "cell_type": "code",
   "execution_count": null,
   "id": "971e9c8e-043a-4a7c-9099-842f1be731e6",
   "metadata": {},
   "outputs": [],
   "source": [
    "# Calcular el Distance Profile para cada subsecuencia en la serie temporal\n",
    "distance_matrix = np.array([\n",
    "    stumpy.core.mass(reference_subseq, steam_flow[i:i + m]) \n",
    "    for i in range(len(steam_flow) - m + 1)\n",
    "])"
   ]
  },
  {
   "cell_type": "code",
   "execution_count": null,
   "id": "57b8d9d0-af96-4c76-988c-83af88264f31",
   "metadata": {},
   "outputs": [],
   "source": [
    "print(steam_flow.shape)\n",
    "print(distance_matrix.shape)\n",
    "print(MPlot_matrix.shape)"
   ]
  },
  {
   "cell_type": "code",
   "execution_count": null,
   "id": "c7e0a935-912d-459a-b19d-fc14016dafd4",
   "metadata": {},
   "outputs": [],
   "source": [
    "#Calculamos el MPlot\n",
    "for i in range(n - m + 1):\n",
    "    ### Calculamos el Distance Profile utilizando el algoritmo MASS\n",
    "    MPlot_matrix[i,:] = stumpy.core.mass(steam_flow[i:i + m], steam_flow)"
   ]
  },
  {
   "cell_type": "code",
   "execution_count": null,
   "id": "6ffdacd2-8195-4a6f-b3fd-a0b2420a2ead",
   "metadata": {},
   "outputs": [],
   "source": [
    "import matplotlib.pyplot as plt\n",
    "from matplotlib.gridspec import GridSpec\n",
    "\n",
    "# Asumiendo que 'ts' es tu serie temporal y 'MPlot_matrix' es la matriz que has calculado\n",
    "# Asegúrate de que 'ts' y 'MPlot_matrix' están definidos en tu entorno de trabajo\n",
    "\n",
    "fig = plt.figure(figsize=(10, 10))\n",
    "gs = GridSpec(2, 1, height_ratios=[1, 4])\n",
    "\n",
    "# Serie temporal\n",
    "ax1 = fig.add_subplot(gs[0])\n",
    "ax1.plot(ts, label=\"Serie Temporal\")\n",
    "ax1.set_title(\"Serie Temporal\")\n",
    "ax1.legend()\n",
    "\n",
    "# MPlot\n",
    "ax2 = fig.add_subplot(gs[1], sharex=ax1)\n",
    "# Utilizar 'imshow' para visualizar la matriz MPlot\n",
    "ax2.imshow(MPlot_matrix, aspect='auto', origin='lower', cmap='hot', extent=(0, len(ts) - m, 0, len(ts) - m))\n",
    "ax2.set_title(\"MPlot\")\n",
    "ax2.set_xlabel('Subsecuencia Inicial')\n",
    "ax2.set_ylabel('Subsecuencia Referencia')\n",
    "\n",
    "plt.tight_layout()\n",
    "plt.show()"
   ]
  },
  {
   "cell_type": "markdown",
   "id": "ed184a89-c67d-4cda-821b-7a26f2dd4ce6",
   "metadata": {},
   "source": [
    "## Intentando downsamplear como hace Eamonn"
   ]
  },
  {
   "cell_type": "code",
   "execution_count": null,
   "id": "15f955ec-b021-4d3f-acb9-c973884f5e53",
   "metadata": {},
   "outputs": [],
   "source": [
    "### He cogido pyts porque ya la tengo, pero hay que mirar librerías"
   ]
  },
  {
   "cell_type": "code",
   "execution_count": null,
   "id": "8e61096c-53be-46d5-ab6d-62989e023119",
   "metadata": {},
   "outputs": [],
   "source": [
    "ts = steam_flow"
   ]
  },
  {
   "cell_type": "code",
   "execution_count": null,
   "id": "c0063354-bc85-459f-a2af-93b3ac075a49",
   "metadata": {},
   "outputs": [],
   "source": [
    "import numpy as np\n",
    "import matplotlib.pyplot as plt\n",
    "from pyts.approximation import PiecewiseAggregateApproximation"
   ]
  },
  {
   "cell_type": "code",
   "execution_count": null,
   "id": "4e9ef120-18a7-4052-940e-90e0b2cae1ff",
   "metadata": {},
   "outputs": [],
   "source": [
    "n_samples, n_timestamps = 1, ts.shape[0]\n",
    "print(n_samples)\n",
    "print(n_timestamps)"
   ]
  },
  {
   "cell_type": "code",
   "execution_count": null,
   "id": "a1f7e9b5-5e99-4d1a-80f8-702cac662071",
   "metadata": {},
   "outputs": [],
   "source": [
    "downsample_factor = 4"
   ]
  },
  {
   "cell_type": "code",
   "execution_count": null,
   "id": "6a8b708f-15cb-4c6d-b07e-935557bf14ea",
   "metadata": {},
   "outputs": [],
   "source": [
    "expected_size = np.floor(n_timestamps/downsample_factor).astype(int)\n",
    "expected_size"
   ]
  },
  {
   "cell_type": "code",
   "execution_count": null,
   "id": "65966a8e-c830-49ee-8d0f-4bf3c38c0073",
   "metadata": {},
   "outputs": [],
   "source": [
    "paa = PiecewiseAggregateApproximation(window_size = downsample_factor) #Creo que es justo lo contrario. Adaptar"
   ]
  },
  {
   "cell_type": "code",
   "execution_count": null,
   "id": "7c4bd5f3-d67f-4495-92d5-09e3b92fd64e",
   "metadata": {},
   "outputs": [],
   "source": [
    "tss = ts.reshape(1,-1)\n",
    "tss.shape"
   ]
  },
  {
   "cell_type": "code",
   "execution_count": null,
   "id": "349f43c8-d3f0-4845-bb2d-469d1e1c818b",
   "metadata": {},
   "outputs": [],
   "source": [
    "tss_downsampled = paa.transform(tss)"
   ]
  },
  {
   "cell_type": "code",
   "execution_count": null,
   "id": "18e448a7-67dc-4987-88a9-215de26a14d5",
   "metadata": {},
   "outputs": [],
   "source": [
    "ts_downsampled = tss_downsampled[0]"
   ]
  },
  {
   "cell_type": "code",
   "execution_count": null,
   "id": "82680be7-38ce-48fc-8bb9-8ae63b45eb87",
   "metadata": {},
   "outputs": [],
   "source": [
    "# Pues parece que está bien. Y tiene sentido. Porque a cada ventana que \n",
    "# avanzamos, quitamos d elementos\n",
    "ts_downsampled.shape "
   ]
  },
  {
   "cell_type": "code",
   "execution_count": null,
   "id": "1a36d29e-eaea-4f28-bbc7-5dbd458b39ae",
   "metadata": {},
   "outputs": [],
   "source": [
    "def distance_matrix (reference_subseq, ts, m):\n",
    "    distance_matrix = np.array([\n",
    "        stumpy.core.mass(reference_subseq, ts[i:i + m]) \n",
    "        for i in range(len(ts) - m + 1)\n",
    "    ])\n",
    "    return distance_matrix"
   ]
  },
  {
   "cell_type": "code",
   "execution_count": null,
   "id": "2ab60cb1-3339-44a6-af91-fdfade5c7184",
   "metadata": {},
   "outputs": [],
   "source": [
    "def mplot_matrix(ts, m): \n",
    "    n = ts.shape[0]\n",
    "    MPlot_matrix = np.empty((n - m + 1, n - m + 1))\n",
    "    for i in range(n - m + 1):\n",
    "        ### Calculamos el Distance Profile utilizando el algoritmo MASS\n",
    "        MPlot_matrix[i,:] = stumpy.core.mass(ts[i:i + m], ts)\n",
    "    return MPlot_matrix"
   ]
  },
  {
   "cell_type": "code",
   "execution_count": null,
   "id": "49988d9d-056d-4ec4-b280-4367812f98e3",
   "metadata": {},
   "outputs": [],
   "source": [
    "tsd_len = ts_downsampled.shape[0]\n",
    "m = 640 #Window size\n",
    "reference_idx = np.random.randint(low=0, high= tsd_len - m)\n",
    "reference_subseq = ts_downsampled[reference_idx:reference_idx + m]\n",
    "#distance_matrix = distance_matrix(reference_subseq, ts_downsampled, m)\n",
    "MPlot_matrix = mplot_matrix(ts_downsampled, m)\n",
    "# Asumiendo que 'ts' es tu serie temporal y 'MPlot_matrix' es la matriz que has calculado\n",
    "# Asegúrate de que 'ts' y 'MPlot_matrix' están definidos en tu entorno de trabajo\n",
    "\n",
    "fig = plt.figure(figsize=(10, 10))\n",
    "gs = GridSpec(2, 1, height_ratios=[1, 4])\n",
    "\n",
    "# Serie temporal\n",
    "ax1 = fig.add_subplot(gs[0])\n",
    "ax1.plot(ts, label=\"Serie Temporal\")\n",
    "ax1.set_title(\"Serie Temporal\")\n",
    "ax1.legend()\n",
    "\n",
    "# MPlot\n",
    "ax2 = fig.add_subplot(gs[1], sharex=ax1)\n",
    "# Utilizar 'imshow' para visualizar la matriz MPlot\n",
    "ax2.imshow(MPlot_matrix, aspect='auto', origin='lower', cmap='hot', extent=(0, len(ts) - m, 0, len(ts) - m))\n",
    "ax2.set_title(\"MPlot\")\n",
    "ax2.set_xlabel('Subsecuencia Inicial')\n",
    "ax2.set_ylabel('Subsecuencia Referencia')\n",
    "\n",
    "plt.tight_layout()\n",
    "plt.show()"
   ]
  },
  {
   "cell_type": "code",
   "execution_count": null,
   "id": "fe8edfb7-f84d-43d5-9fed-6baade70db29",
   "metadata": {},
   "outputs": [],
   "source": [
    "import time"
   ]
  },
  {
   "cell_type": "code",
   "execution_count": null,
   "id": "46442e62-fb0f-4aea-9393-64123e2f5c78",
   "metadata": {},
   "outputs": [],
   "source": [
    "def plot_mplot(ts, MPlot_matrix, m):\n",
    "    fig = plt.figure(figsize=(10, 10))\n",
    "    gs = GridSpec(2, 1, height_ratios=[1, 4])\n",
    "\n",
    "    # Serie temporal\n",
    "    ax1 = fig.add_subplot(gs[0])\n",
    "    ax1.plot(ts, label=\"Serie Temporal\")\n",
    "    ax1.set_title(\"Serie Temporal\")\n",
    "    ax1.legend()\n",
    "\n",
    "    # MPlot\n",
    "    ax2 = fig.add_subplot(gs[1], sharex=ax1)\n",
    "    ax2.imshow(MPlot_matrix, aspect='auto', origin='lower', cmap='hot', extent=(0, len(ts) - m, 0, len(ts) - m))\n",
    "    ax2.set_title(\"MPlot\")\n",
    "    ax2.set_xlabel('Subsecuencia Inicial')\n",
    "    ax2.set_ylabel('Subsecuencia Referencia')\n",
    "\n",
    "    plt.tight_layout()\n",
    "    plt.show()\n",
    "\n",
    "def benchmark_mplot_sizes(ts, min_m, max_m, total_splits):\n",
    "    distance = np.floor((max_m - min_m)/total_splits)\n",
    "    window_sizes = [ int(min_m + (i * distance)) for i in range(total_splits) ]\n",
    "    print(window_sizes)\n",
    "    for m in window_sizes:  # Ajusta el rango y el paso según sea necesario\n",
    "        start_time = time.time()\n",
    "        MPlot_matrix = mplot_matrix(ts, m)\n",
    "        end_time = time.time()\n",
    "        print(f\"Tiempo de ejecución para m = {m}: {end_time - start_time} segundos\")\n",
    "        plot_mplot(ts, MPlot_matrix, m)"
   ]
  },
  {
   "cell_type": "code",
   "execution_count": null,
   "id": "66aa4eb0-04ae-48b7-bfd5-614d91e156f7",
   "metadata": {},
   "outputs": [],
   "source": [
    "benchmark_mplot_sizes(ts, 640, 640*10, 4)"
   ]
  },
  {
   "cell_type": "markdown",
   "id": "2779b2c8-248a-4bcd-98e3-8617834023c0",
   "metadata": {},
   "source": [
    "...hm... No es exactamente el comportamiento que esperaba con el tiempo de ejecución. Sí que me cuadra el efecto en los plots. Cada vez menos nítido. "
   ]
  },
  {
   "cell_type": "markdown",
   "id": "8f4b85ae-2db4-4551-993f-67c93a47df29",
   "metadata": {},
   "source": [
    "### Revisar el código que está 99% chatGPT"
   ]
  },
  {
   "cell_type": "code",
   "execution_count": null,
   "id": "9f2ca2db-2f78-4064-b3b2-aac3b0e3adc8",
   "metadata": {},
   "outputs": [],
   "source": [
    "def moving_mean(x, w):\n",
    "    return np.convolve(x, np.ones(w), 'valid') / w\n",
    "\n",
    "def moving_std(x, w):\n",
    "    return np.sqrt(moving_mean(x**2, w) - moving_mean(x, w)**2)"
   ]
  },
  {
   "cell_type": "code",
   "execution_count": null,
   "id": "94a56c22-fa3d-4ac0-a62f-93fde732a9d9",
   "metadata": {},
   "outputs": [],
   "source": [
    "def splat_check_parameters(\n",
    "    timeSeriesA, \n",
    "    subseqLen, \n",
    "    timeSeriesB=None, \n",
    "    plotting=False, \n",
    "    multiresolution=False, \n",
    "    calibration=None\n",
    "):\n",
    "    if not isinstance(timeSeriesA, np.ndarray) or timeSeriesA.ndim != 1:\n",
    "        raise ValueError('First argument must be a 1D numpy array')\n",
    "    if not (isinstance(subseqLen, int) and 2 <= subseqLen <= len(timeSeriesA)):\n",
    "        raise ValueError('Subsequence length must be an integer value between 2 and the length of the timeSeries')\n",
    "    \n",
    "def splat_resample_timeseries(timeSeriesA, timeSeriesB, selfjoin, max_length):\n",
    "    if len(timeSeriesA) > max_length or (not selfjoin and len(timeSeriesB) > max_length):\n",
    "        paa_factor = math.ceil(len(timeSeriesA) / max_length) if len(timeSeriesA) > max_length else math.ceil(len(timeSeriesB) / max_length)\n",
    "        print(f'Downsampling rate is set to {paa_factor}')\n",
    "    \n",
    "        if paa_factor != 1:\n",
    "            timeSeriesA = pyts.paa(timeSeriesA.reshape(1,-1), math.ceil(len(timeSeriesA) / paa_factor))[0]\n",
    "            subseqLen = math.ceil(subseqLen / paa_factor)\n",
    "            if not selfjoin:\n",
    "                timeSeriesB_newlength = math.floor(len(timeSeriesB) / paa_factor)\n",
    "                timeSeriesB = pyts.paa(timeSeriesB.reshape(1,-1), timeSeriesB_newlength)\n",
    "\n",
    "def splat_ensure_timeSeries_integrity(timeSeriesA, timeSeriesB, selfjoin, subseqLen):\n",
    "    if not selfjoin:\n",
    "        if not isinstance(timeSeriesB,F np.ndarray) or timeSeriesB.ndim != 1:\n",
    "            raise ValueError('Third argument must be a 1D numpy array')\n",
    "        timeSeriesA = timeSeriesA.reshape(-1, 1) if timeSeriesA.shape[0] == 1 else timeSeriesA\n",
    "        timeSeriesB = timeSeriesB.reshape(-1, 1) if timeSeriesB.shape[0] == 1 else timeSeriesB\n",
    "        timeSeries = np.concatenate((timeSeriesA, timeSeriesB), axis=0)\n",
    "        subsequenceCountA = len(timeSeriesA) - subseqLen + 1\n",
    "        subsequenceCountB = len(timeSeriesB) - subseqLen + 1\n",
    "    else:\n",
    "        print('Computing Self-join similarity matrix')\n",
    "        timeSeries = timeSeriesA\n",
    "    return timeSeries\n",
    "\n",
    "def splat_compute_df_dg(timeSeries, subseqLen):\n",
    "    mu = moving_mean(\n",
    "        np.pad(\n",
    "            timeSeries[:,0], (subseqLen//2, subseqLen-1-subseqLen//2), \n",
    "            'edge'\n",
    "        ), \n",
    "        subseqLen\n",
    "    )\n",
    "    invsig = 1. / moving_std(timeSeries.flatten(), subseqLen)\n",
    "    df = np.diff(timeSeries[:, 0], n = subseqLen, prepend = 0)\n",
    "    dg = np.diff(timeSeries[:, 0] - mu, n=subseqLen, prepend = 0)\n",
    "    return df, dg, mu, invsig\n",
    "\n",
    "def splat(\n",
    "    timeSeriesA, \n",
    "    subseqLen, \n",
    "    timeSeriesB=None, \n",
    "    plotting=False, \n",
    "    multiresolution=False, \n",
    "    calibration=None\n",
    "):\n",
    "    splat_check_parameters(timeSeriesA, subseqLen, timeSeriesB, plotting, multiresolution, calibration)\n",
    "    \n",
    "    max_length = np.inf if not multiresolution else 10000 if calibration is None else getPaaFactor(timeSeriesA, subseqLen)\n",
    "    minlag = 0\n",
    "    selfjoin = timeSeriesB is None or np.all(np.isnan(timeSeriesB))\n",
    "    splat_resample_timeseries(timeSeriesA, timeSeriesB, selfjoin, max_length)\n",
    "    timeSeries = splat_ensure_timeSeries_integrity(timeSeriesA, timeSeriesB, selfjoin, subseqLen)\n",
    "    \n",
    "    n = len(timeSeries)\n",
    "    timeSeries = timeSeries.reshape(-1, 1) if timeSeries.ndim == 1 else timeSeries\n",
    "    nanmap = np.isnan(np.convolve(timeSeries[:, 0], np.ones(subseqLen), 'valid'))\n",
    "    timeSeries[np.isnan(timeSeries)] = 0\n",
    "    \n",
    "    df, dg, mu, invsig = splat_compute_df_dg(timeSeries, subseqLen)\n",
    "    \n",
    "    # Cálculo de la matriz de similitud\n",
    "    similarityMatrixLength = n - subseqLen + 1\n",
    "    if selfjoin:\n",
    "        similarityMatrix = np.full((similarityMatrixLength, similarityMatrixLength), np.nan)\n",
    "    else:\n",
    "        similarityMatrix = np.full((subsequenceCountA, subsequenceCountB), np.nan)\n",
    "    \n",
    "    for diag in range(minlag + 1, n - subseqLen + 1):\n",
    "        cov_ = np.sum((timeSeries[diag:diag + subseqLen, 0] - mu[diag]) * (timeSeries[:subseqLen, 0] - mu[:subseqLen]))\n",
    "        for row in range(1, n - subseqLen - diag + 2):\n",
    "            if not selfjoin and row > subsequenceCountA:\n",
    "                break\n",
    "            cov_ += df[row] * dg[row + diag - 1] + df[row + diag - 1] * dg[row]\n",
    "            if selfjoin:\n",
    "                corr_ = cov_ * invsig[row] * invsig[row + diag - 1]\n",
    "                similarityMatrix[row, row + diag - 1] = corr_\n",
    "                similarityMatrix[row + diag - 1, row] = corr_\n",
    "            elif row + diag - 1 < similarityMatrixLength - subsequenceCountB + 1:\n",
    "                continue\n",
    "            else:\n",
    "                corr_ = cov_ * invsig[row] * invsig[row + diag - 1]\n",
    "                col = row + diag - 1 - similarityMatrixLength + subsequenceCountB\n",
    "                similarityMatrix[row, col] = corr_\n",
    "    \n",
    "    "
   ]
  },
  {
   "cell_type": "code",
   "execution_count": null,
   "id": "de500864-2e23-45fc-9243-752a85afa61e",
   "metadata": {},
   "outputs": [],
   "source": [
    "print(ts_downsampled.shape)\n",
    "print(m)"
   ]
  },
  {
   "cell_type": "code",
   "execution_count": null,
   "id": "1d2a9f4b-0c97-449f-8bb9-e28af64ec74e",
   "metadata": {},
   "outputs": [],
   "source": [
    "MPlot_matrix = splat(ts_downsampled, m, plotting=False)"
   ]
  },
  {
   "cell_type": "code",
   "execution_count": null,
   "id": "1e9f42e1-92ca-4cee-bbc7-c00139e60c4a",
   "metadata": {},
   "outputs": [],
   "source": []
  },
  {
   "cell_type": "markdown",
   "id": "363ed017-0451-4f1d-aafa-01b87851cfab",
   "metadata": {},
   "source": [
    "### Ejemplo que usan en el código de MPlots run_splat de Eamonn Keogh"
   ]
  },
  {
   "cell_type": "code",
   "execution_count": null,
   "id": "202476e8-6b6a-4cb0-a238-fda16199aed4",
   "metadata": {},
   "outputs": [],
   "source": [
    "test_sine = np.concatenate([\n",
    "    np.random.randn(600)/5,\n",
    "    np.sin(np.arange(0,10,0.1)),\n",
    "    np.random.randn(800)/5,\n",
    "    np.sin(np.arange(0, 10, 0.1)),\n",
    "    np.random.randn(900)/5,\n",
    "    np.sin(np.arange(0, 10, 0.05)),\n",
    "    np.random.randn(800)/5 \n",
    "]);\n",
    "#Add a little bit of noise\n",
    "test_sine = test_sine + np.random.rand(*test_sine.shape) / 10\n",
    "test_sine.shape"
   ]
  },
  {
   "cell_type": "code",
   "execution_count": null,
   "id": "7a1c129e-7a50-4419-b617-d72a40c7e25b",
   "metadata": {},
   "outputs": [],
   "source": [
    "### Seteamos los parámetros de entrada"
   ]
  },
  {
   "cell_type": "code",
   "execution_count": null,
   "id": "1b1c8006-375a-457d-aaa7-218370003ba5",
   "metadata": {},
   "outputs": [],
   "source": [
    "x = test_sine"
   ]
  },
  {
   "cell_type": "code",
   "execution_count": null,
   "id": "ec40cf43-7ccc-4373-8c2a-d3050ef2ecd1",
   "metadata": {},
   "outputs": [],
   "source": [
    "subsequence_length = 100"
   ]
  },
  {
   "cell_type": "code",
   "execution_count": null,
   "id": "36c60b54-5dde-4f15-a819-e327a1c78e34",
   "metadata": {},
   "outputs": [],
   "source": [
    "timeseriesA = np.tile(x, (9, 1)).T"
   ]
  },
  {
   "cell_type": "code",
   "execution_count": null,
   "id": "8cd0bcfd-e350-49e5-b61e-2d4052ab07a4",
   "metadata": {},
   "outputs": [],
   "source": [
    "# Inicialización a no numérico\n",
    "timeseriesB = np.nan "
   ]
  },
  {
   "cell_type": "code",
   "execution_count": null,
   "id": "140bff9f-6416-41c1-b5b2-b7ee7235c640",
   "metadata": {},
   "outputs": [],
   "source": [
    "timeseriesA"
   ]
  },
  {
   "cell_type": "code",
   "execution_count": null,
   "id": "795dd267-8f2a-4e14-89c6-563353e61626",
   "metadata": {},
   "outputs": [],
   "source": [
    "###"
   ]
  },
  {
   "cell_type": "code",
   "execution_count": null,
   "id": "7f446ed3-b83a-417e-a52e-fac001456049",
   "metadata": {},
   "outputs": [],
   "source": []
  }
 ],
 "metadata": {
  "kernelspec": {
   "display_name": "Python 3 (ipykernel)",
   "language": "python",
   "name": "python3"
  }
 },
 "nbformat": 4,
 "nbformat_minor": 5
}

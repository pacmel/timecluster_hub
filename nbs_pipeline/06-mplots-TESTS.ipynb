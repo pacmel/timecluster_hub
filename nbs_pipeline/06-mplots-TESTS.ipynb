{
 "cells": [
  {
   "cell_type": "markdown",
   "id": "7e5d93f6-1b3a-429d-8ad5-3796f58d4214",
   "metadata": {},
   "source": [
    "# Matrix Profile MPlots\n",
    "> Entendiendo los MPLOTS para intentar la propuesta de Eaonn Keogh\n",
    "> Objetivo: Tener un tab equivalente al de los embeddings en el que en lugar de analizarse el plot de Embeddings se analice un MPlot\n",
    "> "
   ]
  }
 ],
 "metadata": {
  "kernelspec": {
   "display_name": "Python 3 (ipykernel)",
   "language": "python",
   "name": "python3"
  },
  "language_info": {
   "codemirror_mode": {
    "name": "ipython",
    "version": 3
   },
   "file_extension": ".py",
   "mimetype": "text/x-python",
   "name": "python",
   "nbconvert_exporter": "python",
   "pygments_lexer": "ipython3",
   "version": "3.10.13"
  }
 },
 "nbformat": 4,
 "nbformat_minor": 5
}

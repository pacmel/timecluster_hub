{
 "cells": [
  {
   "cell_type": "code",
   "execution_count": null,
   "id": "04dae582-1352-4299-9f34-08ce9d714aa5",
   "metadata": {},
   "outputs": [],
   "source": []
  }
 ],
 "metadata": {
  "kernelspec": {
   "display_name": "Octave",
   "language": "octave",
   "name": "octave"
  }
 },
 "nbformat": 4,
 "nbformat_minor": 5
}

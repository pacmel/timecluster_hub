{
 "cells": [
  {
   "cell_type": "code",
   "execution_count": 14,
   "id": "5666b8b8-e01b-4441-9292-800d843f150e",
   "metadata": {},
   "outputs": [],
   "source": [
    "#Weight & Biases\n",
    "import wandb\n",
    "\n",
    "#Yaml\n",
    "from yaml import load, FullLoader\n",
    "\n",
    "#Embeddings\n",
    "from dvats.all import *\n",
    "from tsai.data.preparation import prepare_forecasting_data\n",
    "from tsai.data.validation import get_forecasting_splits\n",
    "from fastcore.all import *\n",
    "\n",
    "#Dimensionality reduction\n",
    "from tsai.imports import *\n",
    "\n",
    "#Clustering\n",
    "import hdbscan\n",
    "import fastai\n",
    "from fastai.tabular import *\n",
    "import fastcore\n",
    "import fastshap\n",
    "import fastinference\n",
    "import wwf"
   ]
  },
  {
   "cell_type": "code",
   "execution_count": 16,
   "id": "876941a8-f221-4590-b0d0-a91f447fcedb",
   "metadata": {},
   "outputs": [
    {
     "name": "stdout",
     "output_type": "stream",
     "text": [
      "GPU | Used mem: 5937\n",
      "GPU | Used mem: 24576\n",
      "GPU | Memory Usage: [\u001b[94m████----------------\u001b[0m] \u001b[94m24%\u001b[0m\n"
     ]
    },
    {
     "name": "stderr",
     "output_type": "stream",
     "text": [
      "\u001b[34m\u001b[1mwandb\u001b[0m:   1 of 1 files downloaded.  \n",
      "\u001b[34m\u001b[1mwandb\u001b[0m:   1 of 1 files downloaded.  \n"
     ]
    }
   ],
   "source": [
    "check_memory_usage = True\n",
    "if check_memory_usage:\n",
    "    import nbs_pipeline.utils.memory as mem\n",
    "    import torch \n",
    "    gpu_device = torch.cuda.current_device()\n",
    "    mem.gpu_memory_status(gpu_device)\n",
    "#Get W&B API\n",
    "api = wandb.Api()\n",
    "\n",
    "## Buscando una combinación buena\n",
    "cpu_flag = False\n",
    "\n",
    "if cpu_flag:\n",
    "    n_neighbors = 15\n",
    "    min_dist = 0.1\n",
    "else: \n",
    "    n_neighbors = 15 #200\n",
    "    min_dist = 0.1 #0.0001\n",
    "config = AttrDict(\n",
    "    use_wandb = False, # Whether to use or not wandb for experiment tracking\n",
    "    wandb_group = None, # Whether to group this run in a wandb group\n",
    "    wandb_entity = os.environ['WANDB_ENTITY'], # The entity to use for wandb,\n",
    "    wandb_project = os.environ['WANDB_PROJECT'], # The project to use for wandb,\n",
    "    dr_artifact_name = None, # * Set to None for using the default one (encoder validation set)\n",
    "    enc_artifact = 'mi-santamaria/deepvats/mvp-SWV:latest', # Name:version of the encoder artifact\n",
    "    n_neighbors = n_neighbors, #15, #UMAP\n",
    "    min_dist = min_dist, #0.1, #UMAP,\n",
    "    random_state = int(1234), # UMAP\n",
    "    metric = 'euclidean',\n",
    "    cpu = cpu_flag\n",
    ")\n",
    "import os\n",
    "path = os.path.expanduser(\"~/work/nbs_pipeline/\")\n",
    "name=\"to_delete\"\n",
    "runname = name\n",
    "os.environ[\"WANDB_NOTEBOOK_NAME\"] = path+name+\".ipynb\"\n",
    "\n",
    "run_dr = wandb.init(\n",
    "    entity=config.wandb_entity,\n",
    "    project=config.wandb_project if config.use_wandb else 'work-nbs', \n",
    "    group=config.wandb_group,\n",
    "    allow_val_change=True, \n",
    "    job_type='dimensionality_reduction', \n",
    "    mode='online' if config.use_wandb else 'disabled',\n",
    "    anonymous = 'never' if config.use_wandb else 'must',\n",
    "    config=config,\n",
    "    resume = 'allow',\n",
    "    name = runname\n",
    "    #resume=False\n",
    ")\n",
    "config_dr = wandb.config # Object for storing hyperparameters\n",
    "artifacts_gettr = run.use_artifact if config_dr.use_wandb else api.artifact\n",
    "enc_artifact = artifacts_gettr(config.enc_artifact, type='learner')\n",
    "# TODO: This only works when you run it two timeS! WTF?\n",
    "try:\n",
    "    enc_learner = enc_artifact.to_obj()\n",
    "except:\n",
    "    enc_learner = enc_artifact.to_obj()\n",
    "\n",
    "enc_logger = enc_artifact.logged_by()\n",
    "enc_artifact_train = artifacts_gettr(enc_logger.config['train_artifact'], type='dataset')\n",
    "if enc_logger.config['valid_artifact'] is not None:\n",
    "    enc_artifact_valid = artifacts_gettr(enc_logger.config['valid_artifact'], type='dataset')\n",
    "    print(\"enc_artifact_valid:\", enc_artifact_valid.name)\n",
    "    print(\"enc_artifact_train: \", enc_artifact_train.name)\n",
    "\n",
    "\n",
    "if config_dr.dr_artifact_name is not None:\n",
    "    dr_artifact = artifacts_gettr(config_dr.dr_artifact_name)\n",
    "else:\n",
    "    dr_artifact = enc_artifact_train\n",
    "df = dr_artifact.to_df()"
   ]
  },
  {
   "cell_type": "code",
   "execution_count": 18,
   "id": "b451d422-fcd1-424b-87aa-2e2a7d68ac3c",
   "metadata": {},
   "outputs": [
    {
     "data": {
      "text/html": [
       "<div>\n",
       "<style scoped>\n",
       "    .dataframe tbody tr th:only-of-type {\n",
       "        vertical-align: middle;\n",
       "    }\n",
       "\n",
       "    .dataframe tbody tr th {\n",
       "        vertical-align: top;\n",
       "    }\n",
       "\n",
       "    .dataframe thead th {\n",
       "        text-align: right;\n",
       "    }\n",
       "</style>\n",
       "<table border=\"1\" class=\"dataframe\">\n",
       "  <thead>\n",
       "    <tr style=\"text-align: right;\">\n",
       "      <th></th>\n",
       "      <th>0</th>\n",
       "    </tr>\n",
       "  </thead>\n",
       "  <tbody>\n",
       "    <tr>\n",
       "      <th>2019-08-01 00:00:03</th>\n",
       "      <td>0.0</td>\n",
       "    </tr>\n",
       "    <tr>\n",
       "      <th>2019-08-01 00:00:23</th>\n",
       "      <td>0.0</td>\n",
       "    </tr>\n",
       "    <tr>\n",
       "      <th>2019-08-01 00:00:43</th>\n",
       "      <td>0.0</td>\n",
       "    </tr>\n",
       "    <tr>\n",
       "      <th>2019-08-01 00:01:03</th>\n",
       "      <td>0.0</td>\n",
       "    </tr>\n",
       "    <tr>\n",
       "      <th>2019-08-01 00:01:23</th>\n",
       "      <td>0.0</td>\n",
       "    </tr>\n",
       "  </tbody>\n",
       "</table>\n",
       "</div>"
      ],
      "text/plain": [
       "                       0\n",
       "2019-08-01 00:00:03  0.0\n",
       "2019-08-01 00:00:23  0.0\n",
       "2019-08-01 00:00:43  0.0\n",
       "2019-08-01 00:01:03  0.0\n",
       "2019-08-01 00:01:23  0.0"
      ]
     },
     "execution_count": 18,
     "metadata": {},
     "output_type": "execute_result"
    }
   ],
   "source": [
    "df.head()"
   ]
  },
  {
   "cell_type": "code",
   "execution_count": 19,
   "id": "42bcb23b-a1eb-45b7-9209-4e0333c56216",
   "metadata": {},
   "outputs": [
    {
     "data": {
      "text/plain": [
       "0    0.0\n",
       "Name: 2019-08-01 00:03:23, dtype: float64"
      ]
     },
     "execution_count": 19,
     "metadata": {},
     "output_type": "execute_result"
    }
   ],
   "source": [
    "df.iloc[10]"
   ]
  },
  {
   "cell_type": "code",
   "execution_count": 20,
   "id": "3537844e-74b6-4ccf-91af-17bd5137732b",
   "metadata": {},
   "outputs": [
    {
     "data": {
      "text/plain": [
       "<fastai.learner.Learner at 0x7fe7c721da50>"
      ]
     },
     "execution_count": 20,
     "metadata": {},
     "output_type": "execute_result"
    }
   ],
   "source": [
    "enc_learner"
   ]
  },
  {
   "cell_type": "code",
   "execution_count": 22,
   "id": "11fe787a-7910-4eb1-bec7-7e767c06e6e1",
   "metadata": {},
   "outputs": [
    {
     "ename": "AttributeError",
     "evalue": "module 'fastinference' has no attribute 'ShapInterpretation'",
     "output_type": "error",
     "traceback": [
      "\u001b[0;31m---------------------------------------------------------------------------\u001b[0m",
      "\u001b[0;31mAttributeError\u001b[0m                            Traceback (most recent call last)",
      "Cell \u001b[0;32mIn[22], line 1\u001b[0m\n\u001b[0;32m----> 1\u001b[0m exp \u001b[38;5;241m=\u001b[39m \u001b[43mfastinference\u001b[49m\u001b[38;5;241;43m.\u001b[39;49m\u001b[43mShapInterpretation\u001b[49m(learn, df\u001b[38;5;241m.\u001b[39miloc[:\u001b[38;5;241m100\u001b[39m])\n",
      "\u001b[0;31mAttributeError\u001b[0m: module 'fastinference' has no attribute 'ShapInterpretation'"
     ]
    }
   ],
   "source": [
    "exp = fastinference.ShapInterpretation(learn, df.iloc[:100])"
   ]
  }
 ],
 "metadata": {
  "kernelspec": {
   "display_name": "Python 3 (ipykernel)",
   "language": "python",
   "name": "python3"
  },
  "language_info": {
   "codemirror_mode": {
    "name": "ipython",
    "version": 3
   },
   "file_extension": ".py",
   "mimetype": "text/x-python",
   "name": "python",
   "nbconvert_exporter": "python",
   "pygments_lexer": "ipython3",
   "version": "3.10.13"
  }
 },
 "nbformat": 4,
 "nbformat_minor": 5
}

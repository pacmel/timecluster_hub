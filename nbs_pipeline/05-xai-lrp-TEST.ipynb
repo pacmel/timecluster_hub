{
 "cells": [
  {
   "cell_type": "code",
   "execution_count": null,
   "id": "f38bd021-0651-428a-8c30-520dfe1644e3",
   "metadata": {},
   "outputs": [],
   "source": [
    "#Weight & Biases\n",
    "import wandb\n",
    "\n",
    "#Yaml\n",
    "from yaml import load, FullLoader\n",
    "\n",
    "#Embeddings\n",
    "from dvats.all import *\n",
    "from tsai.data.preparation import prepare_forecasting_data\n",
    "from tsai.data.validation import get_forecasting_splits\n",
    "from fastcore.all import *\n",
    "\n",
    "#Dimensionality reduction\n",
    "from tsai.imports import *\n",
    "\n",
    "#Clustering\n",
    "import hdbscan\n",
    "import utils.config as cfg_\n",
    "import time\n",
    "import seaborn as sns"
   ]
  },
  {
   "cell_type": "code",
   "execution_count": null,
   "id": "9b75a1c9-b7a5-400e-beaa-8c1da28397ca",
   "metadata": {},
   "outputs": [],
   "source": [
    "#Get W&B API\n",
    "api = wandb.Api()"
   ]
  },
  {
   "cell_type": "code",
   "execution_count": null,
   "id": "b8db256e-915e-475a-9009-e9b8289e98ed",
   "metadata": {},
   "outputs": [],
   "source": [
    "import os\n",
    "path = os.path.expanduser(\"~/work/nbs_pipeline/\")\n",
    "name=\"05-xai-lrp-TEST\"\n",
    "runname = name\n",
    "os.environ[\"WANDB_NOTEBOOK_NAME\"] = path+name+\".ipynb\""
   ]
  },
  {
   "cell_type": "code",
   "execution_count": null,
   "id": "b83cffe5-ceb0-4e63-9859-9b4a60293b22",
   "metadata": {},
   "outputs": [
    {
     "name": "stdout",
     "output_type": "stream",
     "text": [
      "use_wandb: True\n",
      "wandb_group: None\n",
      "wandb_entity: mi-santamaria\n",
      "wandb_project: deepvats\n",
      "emb_artifact: mi-santamaria/deepvats/embeddings-mvp-SWV:latest\n",
      "job_type: layer_relevance_propagation\n",
      "allow_val_change: True\n"
     ]
    }
   ],
   "source": [
    "config_lrp = cfg_.get_artifact_config_xai_lrp(False)\n",
    "cfg_.show_attrdict(config_lrp)"
   ]
  },
  {
   "cell_type": "code",
   "execution_count": null,
   "id": "ac79f7b3-a4e9-451e-ae8e-8b112c50e445",
   "metadata": {},
   "outputs": [
    {
     "data": {
      "text/plain": [
       "True"
      ]
     },
     "execution_count": null,
     "metadata": {},
     "output_type": "execute_result"
    }
   ],
   "source": [
    "config_lrp.use_wandb"
   ]
  },
  {
   "cell_type": "code",
   "execution_count": null,
   "id": "8910c48a-7935-4d71-9a0d-21558a548eee",
   "metadata": {},
   "outputs": [
    {
     "name": "stderr",
     "output_type": "stream",
     "text": [
      "\u001b[34m\u001b[1mwandb\u001b[0m: Currently logged in as: \u001b[33mmi-santamaria\u001b[0m. Use \u001b[1m`wandb login --relogin`\u001b[0m to force relogin\n"
     ]
    },
    {
     "data": {
      "text/html": [
       "wandb version 0.16.3 is available!  To upgrade, please run:\n",
       " $ pip install wandb --upgrade"
      ],
      "text/plain": [
       "<IPython.core.display.HTML object>"
      ]
     },
     "metadata": {},
     "output_type": "display_data"
    },
    {
     "data": {
      "text/html": [
       "Tracking run with wandb version 0.14.2"
      ],
      "text/plain": [
       "<IPython.core.display.HTML object>"
      ]
     },
     "metadata": {},
     "output_type": "display_data"
    },
    {
     "data": {
      "text/html": [
       "Run data is saved locally in <code>/home/macu/work/wandb/run-20240206_184626-tfsshry0</code>"
      ],
      "text/plain": [
       "<IPython.core.display.HTML object>"
      ]
     },
     "metadata": {},
     "output_type": "display_data"
    },
    {
     "data": {
      "text/html": [
       "Syncing run <strong><a href='https://wandb.ai/mi-santamaria/deepvats/runs/tfsshry0' target=\"_blank\">05-xai-lrp-TEST</a></strong> to <a href='https://wandb.ai/mi-santamaria/deepvats' target=\"_blank\">Weights & Biases</a> (<a href='https://wandb.me/run' target=\"_blank\">docs</a>)<br/>"
      ],
      "text/plain": [
       "<IPython.core.display.HTML object>"
      ]
     },
     "metadata": {},
     "output_type": "display_data"
    },
    {
     "data": {
      "text/html": [
       " View project at <a href='https://wandb.ai/mi-santamaria/deepvats' target=\"_blank\">https://wandb.ai/mi-santamaria/deepvats</a>"
      ],
      "text/plain": [
       "<IPython.core.display.HTML object>"
      ]
     },
     "metadata": {},
     "output_type": "display_data"
    },
    {
     "data": {
      "text/html": [
       " View run at <a href='https://wandb.ai/mi-santamaria/deepvats/runs/tfsshry0' target=\"_blank\">https://wandb.ai/mi-santamaria/deepvats/runs/tfsshry0</a>"
      ],
      "text/plain": [
       "<IPython.core.display.HTML object>"
      ]
     },
     "metadata": {},
     "output_type": "display_data"
    }
   ],
   "source": [
    "run_lrp = wandb.init(\n",
    "    entity           = config_lrp.wandb_entity,\n",
    "    project          = config_lrp.wandb_project if config_lrp.use_wandb else 'work-nbs', \n",
    "    group            = config_lrp.wandb_group,\n",
    "    allow_val_change = config_lrp.allow_val_change, \n",
    "    job_type         = config_lrp.job_type, \n",
    "    mode             = 'online' if config_lrp.use_wandb else 'disabled',\n",
    "    anonymous        = 'never' if config_lrp.use_wandb else 'must',\n",
    "    config           =  config_lrp,\n",
    "    resume           = 'allow',\n",
    "    name = runname\n",
    ")\n",
    "config_lrp = wandb.config # Object for storing hyperparameters"
   ]
  },
  {
   "cell_type": "code",
   "execution_count": null,
   "id": "c76146db-e265-4319-8a9c-5fa20e579cde",
   "metadata": {},
   "outputs": [
    {
     "name": "stdout",
     "output_type": "stream",
     "text": [
      "embeddings-mvp-SWV:v0\n"
     ]
    },
    {
     "name": "stderr",
     "output_type": "stream",
     "text": [
      "\u001b[34m\u001b[1mwandb\u001b[0m:   1 of 1 files downloaded.  \n"
     ]
    }
   ],
   "source": [
    "embs, emb_artifact, emb_config = get_embeddings(config_lrp, run_lrp, api, True)"
   ]
  },
  {
   "cell_type": "code",
   "execution_count": null,
   "id": "12006854-f49a-462f-920b-70895bd95e68",
   "metadata": {},
   "outputs": [
    {
     "data": {
      "text/plain": [
       "(520, 128)"
      ]
     },
     "execution_count": null,
     "metadata": {},
     "output_type": "execute_result"
    }
   ],
   "source": [
    "embs.shape"
   ]
  },
  {
   "cell_type": "code",
   "execution_count": null,
   "id": "092655e2-ff06-495f-b038-22a231febc8d",
   "metadata": {},
   "outputs": [
    {
     "name": "stdout",
     "output_type": "stream",
     "text": [
      "cpu: False\n",
      "input_ar: mi-santamaria/deepvats/toy:v2\n",
      "use_wandb: True\n",
      "wandb_group: embeddings\n",
      "enc_artifact: mi-santamaria/deepvats/mvp-SWV:latest\n",
      "wandb_entity: mi-santamaria\n",
      "wandb_project: deepvats\n"
     ]
    }
   ],
   "source": [
    "cfg_.show_attrdict(emb_config)"
   ]
  },
  {
   "cell_type": "code",
   "execution_count": null,
   "id": "e699da41-f19c-4211-b95d-6f2bb871f505",
   "metadata": {},
   "outputs": [],
   "source": [
    "#| export\n",
    "def get_dataset_old(config, run_dr, config_dr, api, print_flag = False):\n",
    "    # Botch to use artifacts offline\n",
    "    artifacts_gettr = run_dr.use_artifact if config_dr.use_wandb else api.artifact\n",
    "    enc_artifact = artifacts_gettr(config.enc_artifact, type='learner')\n",
    "    if print_flag: print (enc_artifact.name)\n",
    "    ## TODO: This only works when you run it two timeS! WTF?\n",
    "    try:\n",
    "        enc_learner = enc_artifact.to_obj()\n",
    "    except:\n",
    "        enc_learner = enc_artifact.to_obj()\n",
    "    #enc_artifact.metadata\n",
    "    ## Restore artifact\n",
    "    enc_logger = enc_artifact.logged_by()\n",
    "    enc_artifact_train = artifacts_gettr(enc_logger.config['train_artifact'], type='dataset')\n",
    "    if enc_logger.config['valid_artifact'] is not None:\n",
    "        enc_artifact_valid = artifacts_gettr(enc_logger.config['valid_artifact'], type='dataset')\n",
    "        if print_flag: print(\"enc_artifact_valid:\", enc_artifact_valid.name)\n",
    "    if print_flag: print(\"enc_artifact_train: \", enc_artifact_train.name)\n",
    "    if config_dr.dr_artifact is not None:\n",
    "        dr_artifact = artifacts_gettr(config_dr.dr_artifact)\n",
    "    else:\n",
    "        dr_artifact = enc_artifact_train\n",
    "    if print_flag: print(\"DR artifact train: \", dr_artifact.name)\n",
    "    df = dr_artifact.to_df()\n",
    "    if print_flag: display(df.head())\n",
    "    return df, dr_artifact, enc_artifact, enc_learner"
   ]
  },
  {
   "cell_type": "code",
   "execution_count": null,
   "id": "2c894f18-64e9-4abc-af99-fe7853138e4a",
   "metadata": {},
   "outputs": [],
   "source": [
    "#| export\n",
    "def get_dataset(\n",
    "    config_lrp, \n",
    "    config_emb,\n",
    "    config_dr,\n",
    "    run_lrp,\n",
    "    api, \n",
    "    print_flag = False\n",
    "):\n",
    "    # Botch to use artifacts offline\n",
    "    artifacts_gettr = run_lrp.use_artifact if config_lrp.use_wandb else api.artifact\n",
    "    enc_artifact = artifacts_gettr(config_emb['enc_artifact'], type='learner')\n",
    "    if print_flag: print (enc_artifact.name)\n",
    "    ## TODO: This only works when you run it two timeS! WTF?\n",
    "    try:\n",
    "        enc_learner = enc_artifact.to_obj()\n",
    "    except:\n",
    "        enc_learner = enc_artifact.to_obj()\n",
    "    \n",
    "    ## Restore artifact\n",
    "    enc_logger = enc_artifact.logged_by()\n",
    "    enc_artifact_train = artifacts_gettr(enc_logger.config['train_artifact'], type='dataset')\n",
    "    #cfg_.show_attrdict(enc_logger.config)\n",
    "    if enc_logger.config['valid_artifact'] is not None:\n",
    "        enc_artifact_valid = artifacts_gettr(enc_logger.config['valid_artifact'], type='dataset')\n",
    "        if print_flag: print(\"enc_artifact_valid:\", enc_artifact_valid.name)\n",
    "    if print_flag: print(\"enc_artifact_train: \", enc_artifact_train.name)\n",
    "    \n",
    "    if config_dr['dr_artifact'] is not None:\n",
    "        print(\"Is not none\")\n",
    "        dr_artifact = artifacts_gettr(config_dr['enc_artifact'])\n",
    "    else:\n",
    "        dr_artifact = enc_artifact_train\n",
    "    if print_flag: print(\"DR artifact train: \", dr_artifact.name)\n",
    "    if print_flag: print(\"--> DR artifact name\", dr_artifact.name)\n",
    "    dr_artifact\n",
    "    df = dr_artifact.to_df()\n",
    "    if print_flag: print(\"--> DR After to df\", df.shape)\n",
    "    if print_flag: display(df.head())\n",
    "    return df, dr_artifact, enc_artifact, enc_learner"
   ]
  },
  {
   "cell_type": "code",
   "execution_count": null,
   "id": "38ed03f5-0be7-484b-be3b-664cd64e5dfb",
   "metadata": {},
   "outputs": [
    {
     "name": "stdout",
     "output_type": "stream",
     "text": [
      "cpu: False\n",
      "input_ar: mi-santamaria/deepvats/toy:v2\n",
      "use_wandb: True\n",
      "wandb_group: embeddings\n",
      "enc_artifact: mi-santamaria/deepvats/mvp-SWV:latest\n",
      "wandb_entity: mi-santamaria\n",
      "wandb_project: deepvats\n"
     ]
    }
   ],
   "source": [
    "cfg_.show_attrdict(emb_config)"
   ]
  },
  {
   "cell_type": "code",
   "execution_count": null,
   "id": "a793f918-631b-4e74-849d-1b577e60f473",
   "metadata": {},
   "outputs": [],
   "source": [
    "config_dr, _ = cfg_.get_artifact_config_dimensionality_reduction(False)"
   ]
  },
  {
   "cell_type": "code",
   "execution_count": null,
   "id": "a1050df0-7679-4f04-9c03-f4f51f0b3710",
   "metadata": {},
   "outputs": [
    {
     "name": "stdout",
     "output_type": "stream",
     "text": [
      "use_wandb: True\n",
      "wandb_group: None\n",
      "wandb_entity: mi-santamaria\n",
      "wandb_project: deepvats\n",
      "valid_artifact: None\n",
      "train_artifact: mi-santamaria/deepvats/mvp-SWV:latest\n",
      "dr_artifact: None\n",
      "n_neighbors: 15\n",
      "min_dist: 0.1\n",
      "random_state: 1234\n",
      "metric: euclidean\n"
     ]
    }
   ],
   "source": [
    "cfg_.show_attrdict(config_dr)"
   ]
  },
  {
   "cell_type": "code",
   "execution_count": null,
   "id": "06a919ef-ce8e-4fd2-a5a5-fc317039482c",
   "metadata": {},
   "outputs": [
    {
     "name": "stdout",
     "output_type": "stream",
     "text": [
      "mvp-SWV:v66\n"
     ]
    },
    {
     "name": "stderr",
     "output_type": "stream",
     "text": [
      "\u001b[34m\u001b[1mwandb\u001b[0m:   1 of 1 files downloaded.  \n"
     ]
    },
    {
     "name": "stdout",
     "output_type": "stream",
     "text": [
      "enc_artifact_train:  toy:v2\n",
      "DR artifact train:  toy:v2\n",
      "--> DR artifact name toy:v2\n"
     ]
    },
    {
     "name": "stderr",
     "output_type": "stream",
     "text": [
      "\u001b[34m\u001b[1mwandb\u001b[0m:   1 of 1 files downloaded.  \n"
     ]
    },
    {
     "name": "stdout",
     "output_type": "stream",
     "text": [
      "--> DR After to df (550, 3)\n"
     ]
    },
    {
     "data": {
      "text/html": [
       "<div>\n",
       "<style scoped>\n",
       "    .dataframe tbody tr th:only-of-type {\n",
       "        vertical-align: middle;\n",
       "    }\n",
       "\n",
       "    .dataframe tbody tr th {\n",
       "        vertical-align: top;\n",
       "    }\n",
       "\n",
       "    .dataframe thead th {\n",
       "        text-align: right;\n",
       "    }\n",
       "</style>\n",
       "<table border=\"1\" class=\"dataframe\">\n",
       "  <thead>\n",
       "    <tr style=\"text-align: right;\">\n",
       "      <th></th>\n",
       "      <th>T3</th>\n",
       "      <th>T2</th>\n",
       "      <th>T1</th>\n",
       "    </tr>\n",
       "  </thead>\n",
       "  <tbody>\n",
       "    <tr>\n",
       "      <th>1970-01-01 00:00:00</th>\n",
       "      <td>0.741822</td>\n",
       "      <td>0.637180</td>\n",
       "      <td>0.565117</td>\n",
       "    </tr>\n",
       "    <tr>\n",
       "      <th>1970-01-01 00:00:01</th>\n",
       "      <td>0.739731</td>\n",
       "      <td>0.629415</td>\n",
       "      <td>0.493513</td>\n",
       "    </tr>\n",
       "    <tr>\n",
       "      <th>1970-01-01 00:00:02</th>\n",
       "      <td>0.718757</td>\n",
       "      <td>0.539220</td>\n",
       "      <td>0.469350</td>\n",
       "    </tr>\n",
       "    <tr>\n",
       "      <th>1970-01-01 00:00:03</th>\n",
       "      <td>0.730169</td>\n",
       "      <td>0.577670</td>\n",
       "      <td>0.444100</td>\n",
       "    </tr>\n",
       "    <tr>\n",
       "      <th>1970-01-01 00:00:04</th>\n",
       "      <td>0.752406</td>\n",
       "      <td>0.570180</td>\n",
       "      <td>0.373008</td>\n",
       "    </tr>\n",
       "  </tbody>\n",
       "</table>\n",
       "</div>"
      ],
      "text/plain": [
       "                           T3        T2        T1\n",
       "1970-01-01 00:00:00  0.741822  0.637180  0.565117\n",
       "1970-01-01 00:00:01  0.739731  0.629415  0.493513\n",
       "1970-01-01 00:00:02  0.718757  0.539220  0.469350\n",
       "1970-01-01 00:00:03  0.730169  0.577670  0.444100\n",
       "1970-01-01 00:00:04  0.752406  0.570180  0.373008"
      ]
     },
     "metadata": {},
     "output_type": "display_data"
    }
   ],
   "source": [
    "df, dr_artifact, enc_artifact, enc_learner = get_dataset(\n",
    "    config_lrp,\n",
    "    emb_config,\n",
    "    config_dr,\n",
    "    run_lrp,\n",
    "    api, \n",
    "    True\n",
    ")"
   ]
  },
  {
   "cell_type": "code",
   "execution_count": null,
   "id": "70ec1547-2859-4ec1-9af1-67a225ad8501",
   "metadata": {},
   "outputs": [],
   "source": [
    "artifacts_gettr = run_lrp.use_artifact if config_lrp.use_wandb else api.artifact"
   ]
  },
  {
   "cell_type": "code",
   "execution_count": null,
   "id": "3b74184a-e891-42f4-b33a-1b07b6508456",
   "metadata": {},
   "outputs": [],
   "source": [
    "enc_artifact = artifacts_gettr(emb_config['enc_artifact'], type='learner')"
   ]
  },
  {
   "cell_type": "code",
   "execution_count": null,
   "id": "5937891f-fdd5-40f6-8a77-e4674b35f033",
   "metadata": {},
   "outputs": [
    {
     "data": {
      "text/plain": [
       "'mvp-SWV:v66'"
      ]
     },
     "execution_count": null,
     "metadata": {},
     "output_type": "execute_result"
    }
   ],
   "source": [
    "enc_artifact.name"
   ]
  },
  {
   "cell_type": "code",
   "execution_count": null,
   "id": "e6095a88-9bb2-4986-97cb-b0d627699ee2",
   "metadata": {},
   "outputs": [
    {
     "data": {
      "text/plain": [
       "array([[0.33592895, 0.        , 0.18003725, ..., 0.03459276, 2.0539532 ,\n",
       "        0.02495872],\n",
       "       [0.27895513, 0.        , 0.23209466, ..., 0.02376847, 2.166164  ,\n",
       "        0.03464536],\n",
       "       [0.25264975, 0.        , 0.27396208, ..., 0.02094788, 2.2761836 ,\n",
       "        0.0396877 ],\n",
       "       ...,\n",
       "       [0.7967689 , 3.29659   , 3.7586546 , ..., 0.03084148, 0.        ,\n",
       "        6.3082776 ],\n",
       "       [0.79666084, 3.2738378 , 3.7270284 , ..., 0.02614438, 0.        ,\n",
       "        6.2277656 ],\n",
       "       [0.8129102 , 3.2375443 , 3.6983783 , ..., 0.04231085, 0.        ,\n",
       "        6.1111894 ]], dtype=float32)"
      ]
     },
     "execution_count": null,
     "metadata": {},
     "output_type": "execute_result"
    }
   ],
   "source": [
    "embs"
   ]
  },
  {
   "cell_type": "code",
   "execution_count": null,
   "id": "57ffc295-2095-4313-b40b-d96245439ab3",
   "metadata": {},
   "outputs": [
    {
     "data": {
      "text/plain": [
       "({'use_wandb': True,\n",
       "  'wandb_group': None,\n",
       "  'wandb_entity': 'mi-santamaria',\n",
       "  'wandb_project': 'deepvats',\n",
       "  'valid_artifact': None,\n",
       "  'train_artifact': 'mi-santamaria/deepvats/mvp-SWV:latest',\n",
       "  'n_neighbors': 15,\n",
       "  'min_dist': 0.1,\n",
       "  'random_state': 1234,\n",
       "  'metric': 'euclidean'},\n",
       " 'dimensionality_reduction')"
      ]
     },
     "execution_count": null,
     "metadata": {},
     "output_type": "execute_result"
    }
   ],
   "source": [
    "config_dr"
   ]
  },
  {
   "cell_type": "code",
   "execution_count": null,
   "id": "a675efe5-05a6-4420-bbf7-3ab331e5f82c",
   "metadata": {},
   "outputs": [],
   "source": [
    "df, dr_artifact, enc_artifact, enc_learner = get_dataset(\n",
    "    config_dr, \n",
    "    run_lrp, \n",
    "    emb_config, \n",
    "    "
   ]
  },
  {
   "cell_type": "code",
   "execution_count": null,
   "id": "1157bafc-1e46-47ef-81be-590b82fdf88f",
   "metadata": {},
   "outputs": [
    {
     "ename": "NameError",
     "evalue": "name 'artifacts_gettr' is not defined",
     "output_type": "error",
     "traceback": [
      "\u001b[0;31m---------------------------------------------------------------------------\u001b[0m",
      "\u001b[0;31mNameError\u001b[0m                                 Traceback (most recent call last)",
      "Cell \u001b[0;32mIn[10], line 1\u001b[0m\n\u001b[0;32m----> 1\u001b[0m enc_artifact \u001b[38;5;241m=\u001b[39m \u001b[43martifacts_gettr\u001b[49m(emb_config[\u001b[38;5;124m'\u001b[39m\u001b[38;5;124menc_artifact\u001b[39m\u001b[38;5;124m'\u001b[39m], \u001b[38;5;28mtype\u001b[39m\u001b[38;5;241m=\u001b[39m\u001b[38;5;124m'\u001b[39m\u001b[38;5;124mlearner\u001b[39m\u001b[38;5;124m'\u001b[39m)\n",
      "\u001b[0;31mNameError\u001b[0m: name 'artifacts_gettr' is not defined"
     ]
    }
   ],
   "source": [
    "enc_artifact = artifacts_gettr(emb_config['enc_artifact'], type='learner')"
   ]
  },
  {
   "cell_type": "code",
   "execution_count": null,
   "id": "eec64475-fe70-452c-b628-31b5d2a7a4d3",
   "metadata": {},
   "outputs": [],
   "source": []
  },
  {
   "cell_type": "code",
   "execution_count": null,
   "id": "5d4a997c-f494-456f-96e9-c47979d120f7",
   "metadata": {},
   "outputs": [
    {
     "data": {
      "text/plain": [
       "<Artifact QXJ0aWZhY3Q6NzExOTI4MjQ5>"
      ]
     },
     "execution_count": null,
     "metadata": {},
     "output_type": "execute_result"
    }
   ],
   "source": [
    "enc_artifact"
   ]
  },
  {
   "cell_type": "code",
   "execution_count": null,
   "id": "c9e0f8dd-ea76-4dc2-b238-9c4bd00146aa",
   "metadata": {},
   "outputs": [
    {
     "ename": "AttributeError",
     "evalue": "'<Run mi-santamaria/deepvats/ad865x5t (finished)>' object has no attribute 'logged_by'",
     "output_type": "error",
     "traceback": [
      "\u001b[0;31m---------------------------------------------------------------------------\u001b[0m",
      "\u001b[0;31mAttributeError\u001b[0m                            Traceback (most recent call last)",
      "Cell \u001b[0;32mIn[24], line 1\u001b[0m\n\u001b[0;32m----> 1\u001b[0m enc_logger \u001b[38;5;241m=\u001b[39m \u001b[43menc_artifact\u001b[49m\u001b[38;5;241;43m.\u001b[39;49m\u001b[43mlogged_by\u001b[49m()\n",
      "File \u001b[0;32m~/env/lib/python3.10/site-packages/wandb/apis/public.py:1004\u001b[0m, in \u001b[0;36mAttrs.__getattr__\u001b[0;34m(self, name)\u001b[0m\n\u001b[1;32m   1002\u001b[0m     \u001b[38;5;28;01mreturn\u001b[39;00m \u001b[38;5;28mself\u001b[39m\u001b[38;5;241m.\u001b[39m_attrs[name]\n\u001b[1;32m   1003\u001b[0m \u001b[38;5;28;01melse\u001b[39;00m:\n\u001b[0;32m-> 1004\u001b[0m     \u001b[38;5;28;01mraise\u001b[39;00m \u001b[38;5;167;01mAttributeError\u001b[39;00m(\u001b[38;5;124mf\u001b[39m\u001b[38;5;124m\"\u001b[39m\u001b[38;5;132;01m{\u001b[39;00m\u001b[38;5;28mrepr\u001b[39m(\u001b[38;5;28mself\u001b[39m)\u001b[38;5;132;01m!r}\u001b[39;00m\u001b[38;5;124m object has no attribute \u001b[39m\u001b[38;5;132;01m{\u001b[39;00mname\u001b[38;5;132;01m!r}\u001b[39;00m\u001b[38;5;124m\"\u001b[39m)\n",
      "\u001b[0;31mAttributeError\u001b[0m: '<Run mi-santamaria/deepvats/ad865x5t (finished)>' object has no attribute 'logged_by'"
     ]
    }
   ],
   "source": [
    "enc_logger = enc_artifact.logged_by()"
   ]
  },
  {
   "cell_type": "code",
   "execution_count": null,
   "id": "6b04e537-10e8-4142-a2f3-1813125d8d23",
   "metadata": {},
   "outputs": [
    {
     "ename": "NameError",
     "evalue": "name 'enc_learner' is not defined",
     "output_type": "error",
     "traceback": [
      "\u001b[0;31m---------------------------------------------------------------------------\u001b[0m",
      "\u001b[0;31mNameError\u001b[0m                                 Traceback (most recent call last)",
      "Cell \u001b[0;32mIn[23], line 1\u001b[0m\n\u001b[0;32m----> 1\u001b[0m enc_learner \u001b[38;5;241m=\u001b[39m \u001b[43menc_learner\u001b[49m\u001b[38;5;241m.\u001b[39mlogged_by()\n",
      "\u001b[0;31mNameError\u001b[0m: name 'enc_learner' is not defined"
     ]
    }
   ],
   "source": [
    "enc_learner = enc_learner.logged_by()"
   ]
  },
  {
   "cell_type": "code",
   "execution_count": null,
   "id": "f18d22ae-2b38-4fb8-8868-62348385c220",
   "metadata": {},
   "outputs": [],
   "source": [
    "def get_embeddings(config, run_dr, config_dr, api, print_flag = False):\n",
    "    # Botch to use artifacts offline\n",
    "    artifacts_gettr = run_dr.use_artifact if config_dr.use_wandb else api.artifact\n",
    "    enc_artifact = artifacts_gettr(config.emb_artifact, type='object')\n",
    "    if print_flag: print (emb_artifact.name)\n",
    "    ## TODO: This only works when you run it two timeS! WTF?\n",
    "    try:\n",
    "        enc_learner = enc_artifact.to_obj()\n",
    "    except:\n",
    "        enc_learner = enc_artifact.to_obj()\n",
    "    #enc_artifact.metadata\n",
    "    ## Restore artifact\n",
    "    enc_logger = enc_artifact.logged_by()\n",
    "    enc_artifact_train = artifacts_gettr(enc_logger.config['train_artifact'], type='dataset')\n",
    "    if enc_logger.config['valid_artifact'] is not None:\n",
    "        enc_artifact_valid = artifacts_gettr(enc_logger.config['valid_artifact'], type='dataset')\n",
    "        if print_flag: print(\"enc_artifact_valid:\", enc_artifact_valid.name)\n",
    "    if print_flag: print(\"enc_artifact_train: \", enc_artifact_train.name)\n",
    "    if config_dr.dr_artifact is not None:\n",
    "        dr_artifact = artifacts_gettr(config_dr.dr_artifact)\n",
    "    else:\n",
    "        dr_artifact = enc_artifact_train\n",
    "    if print_flag: print(\"DR artifact train: \", dr_artifact.name)\n",
    "    df = dr_artifact.to_df()\n",
    "    if print_flag: display(df.head())\n",
    "    return df, dr_artifact, enc_artifact, enc_learner"
   ]
  }
 ],
 "metadata": {
  "kernelspec": {
   "display_name": "Python 3 (ipykernel)",
   "language": "python",
   "name": "python3"
  }
 },
 "nbformat": 4,
 "nbformat_minor": 5
}

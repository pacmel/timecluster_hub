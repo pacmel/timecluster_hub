{
 "cells": [
  {
   "cell_type": "code",
   "execution_count": null,
   "id": "f38bd021-0651-428a-8c30-520dfe1644e3",
   "metadata": {},
   "outputs": [],
   "source": [
    "#Weight & Biases\n",
    "import wandb\n",
    "\n",
    "#Yaml\n",
    "from yaml import load, FullLoader\n",
    "\n",
    "#Embeddings\n",
    "from dvats.all import *\n",
    "from tsai.data.preparation import prepare_forecasting_data\n",
    "from tsai.data.validation import get_forecasting_splits\n",
    "from fastcore.all import *\n",
    "\n",
    "#Dimensionality reduction\n",
    "from tsai.imports import *\n",
    "\n",
    "#Clustering\n",
    "import hdbscan\n",
    "import utils.config as cfg_\n",
    "import time\n",
    "import seaborn as sns"
   ]
  },
  {
   "cell_type": "code",
   "execution_count": null,
   "id": "9b75a1c9-b7a5-400e-beaa-8c1da28397ca",
   "metadata": {},
   "outputs": [],
   "source": [
    "#Get W&B API\n",
    "api = wandb.Api()"
   ]
  },
  {
   "cell_type": "code",
   "execution_count": null,
   "id": "b8db256e-915e-475a-9009-e9b8289e98ed",
   "metadata": {},
   "outputs": [],
   "source": [
    "import os\n",
    "path = os.path.expanduser(\"~/work/nbs_pipeline/\")\n",
    "name=\"05-xai-lrp-TEST\"\n",
    "runname = name\n",
    "os.environ[\"WANDB_NOTEBOOK_NAME\"] = path+name+\".ipynb\""
   ]
  },
  {
   "cell_type": "code",
   "execution_count": null,
   "id": "b83cffe5-ceb0-4e63-9859-9b4a60293b22",
   "metadata": {},
   "outputs": [],
   "source": [
    "config_lrp = cfg_.get_artifact_config_xai_lrp(False)\n",
    "cfg_.show_attrdict(config_lrp)"
   ]
  },
  {
   "cell_type": "code",
   "execution_count": null,
   "id": "ac79f7b3-a4e9-451e-ae8e-8b112c50e445",
   "metadata": {},
   "outputs": [],
   "source": [
    "config_lrp.use_wandb"
   ]
  },
  {
   "cell_type": "code",
   "execution_count": null,
   "id": "8910c48a-7935-4d71-9a0d-21558a548eee",
   "metadata": {},
   "outputs": [],
   "source": [
    "run_lrp = wandb.init(\n",
    "    entity           = config_lrp.wandb_entity,\n",
    "    project          = config_lrp.wandb_project if config_lrp.use_wandb else 'work-nbs', \n",
    "    group            = config_lrp.wandb_group,\n",
    "    allow_val_change = config_lrp.allow_val_change, \n",
    "    job_type         = config_lrp.job_type, \n",
    "    mode             = 'online' if config_lrp.use_wandb else 'disabled',\n",
    "    anonymous        = 'never' if config_lrp.use_wandb else 'must',\n",
    "    config           =  config_lrp,\n",
    "    resume           = 'allow',\n",
    "    name = runname\n",
    ")\n",
    "config_lrp = wandb.config # Object for storing hyperparameters"
   ]
  },
  {
   "cell_type": "code",
   "execution_count": null,
   "id": "c76146db-e265-4319-8a9c-5fa20e579cde",
   "metadata": {},
   "outputs": [],
   "source": [
    "embs, emb_artifact, emb_config = get_embeddings(config_lrp, run_lrp, api, True)"
   ]
  },
  {
   "cell_type": "code",
   "execution_count": null,
   "id": "12006854-f49a-462f-920b-70895bd95e68",
   "metadata": {},
   "outputs": [],
   "source": [
    "embs.shape"
   ]
  },
  {
   "cell_type": "code",
   "execution_count": null,
   "id": "092655e2-ff06-495f-b038-22a231febc8d",
   "metadata": {},
   "outputs": [],
   "source": [
    "cfg_.show_attrdict(emb_config)"
   ]
  },
  {
   "cell_type": "code",
   "execution_count": null,
   "id": "e699da41-f19c-4211-b95d-6f2bb871f505",
   "metadata": {},
   "outputs": [],
   "source": [
    "#| export\n",
    "def get_dataset_old(config, run_dr, config_dr, api, print_flag = False):\n",
    "    # Botch to use artifacts offline\n",
    "    artifacts_gettr = run_dr.use_artifact if config_dr.use_wandb else api.artifact\n",
    "    enc_artifact = artifacts_gettr(config.enc_artifact, type='learner')\n",
    "    if print_flag: print (enc_artifact.name)\n",
    "    ## TODO: This only works when you run it two timeS! WTF?\n",
    "    try:\n",
    "        enc_learner = enc_artifact.to_obj()\n",
    "    except:\n",
    "        enc_learner = enc_artifact.to_obj()\n",
    "    #enc_artifact.metadata\n",
    "    ## Restore artifact\n",
    "    enc_logger = enc_artifact.logged_by()\n",
    "    enc_artifact_train = artifacts_gettr(enc_logger.config['train_artifact'], type='dataset')\n",
    "    if enc_logger.config['valid_artifact'] is not None:\n",
    "        enc_artifact_valid = artifacts_gettr(enc_logger.config['valid_artifact'], type='dataset')\n",
    "        if print_flag: print(\"enc_artifact_valid:\", enc_artifact_valid.name)\n",
    "    if print_flag: print(\"enc_artifact_train: \", enc_artifact_train.name)\n",
    "    if config_dr.dr_artifact is not None:\n",
    "        dr_artifact = artifacts_gettr(config_dr.dr_artifact)\n",
    "    else:\n",
    "        dr_artifact = enc_artifact_train\n",
    "    if print_flag: print(\"DR artifact train: \", dr_artifact.name)\n",
    "    df = dr_artifact.to_df()\n",
    "    if print_flag: display(df.head())\n",
    "    return df, dr_artifact, enc_artifact, enc_learner"
   ]
  },
  {
   "cell_type": "code",
   "execution_count": null,
   "id": "2c894f18-64e9-4abc-af99-fe7853138e4a",
   "metadata": {},
   "outputs": [],
   "source": [
    "#| export\n",
    "def get_dataset(\n",
    "    config_lrp, \n",
    "    config_emb,\n",
    "    config_dr,\n",
    "    run_lrp,\n",
    "    api, \n",
    "    print_flag = False\n",
    "):\n",
    "    # Botch to use artifacts offline\n",
    "    artifacts_gettr = run_lrp.use_artifact if config_lrp.use_wandb else api.artifact\n",
    "    enc_artifact = artifacts_gettr(config_emb['enc_artifact'], type='learner')\n",
    "    if print_flag: print (enc_artifact.name)\n",
    "    ## TODO: This only works when you run it two timeS! WTF?\n",
    "    try:\n",
    "        enc_learner = enc_artifact.to_obj()\n",
    "    except:\n",
    "        enc_learner = enc_artifact.to_obj()\n",
    "    \n",
    "    ## Restore artifact\n",
    "    enc_logger = enc_artifact.logged_by()\n",
    "    enc_artifact_train = artifacts_gettr(enc_logger.config['train_artifact'], type='dataset')\n",
    "    #cfg_.show_attrdict(enc_logger.config)\n",
    "    if enc_logger.config['valid_artifact'] is not None:\n",
    "        enc_artifact_valid = artifacts_gettr(enc_logger.config['valid_artifact'], type='dataset')\n",
    "        if print_flag: print(\"enc_artifact_valid:\", enc_artifact_valid.name)\n",
    "    if print_flag: print(\"enc_artifact_train: \", enc_artifact_train.name)\n",
    "    \n",
    "    if config_dr['dr_artifact'] is not None:\n",
    "        print(\"Is not none\")\n",
    "        dr_artifact = artifacts_gettr(config_dr['enc_artifact'])\n",
    "    else:\n",
    "        dr_artifact = enc_artifact_train\n",
    "    if print_flag: print(\"DR artifact train: \", dr_artifact.name)\n",
    "    if print_flag: print(\"--> DR artifact name\", dr_artifact.name)\n",
    "    dr_artifact\n",
    "    df = dr_artifact.to_df()\n",
    "    if print_flag: print(\"--> DR After to df\", df.shape)\n",
    "    if print_flag: display(df.head())\n",
    "    return df, dr_artifact, enc_artifact, enc_learner"
   ]
  },
  {
   "cell_type": "code",
   "execution_count": null,
   "id": "38ed03f5-0be7-484b-be3b-664cd64e5dfb",
   "metadata": {},
   "outputs": [],
   "source": [
    "cfg_.show_attrdict(emb_config)"
   ]
  },
  {
   "cell_type": "code",
   "execution_count": null,
   "id": "a793f918-631b-4e74-849d-1b577e60f473",
   "metadata": {},
   "outputs": [],
   "source": [
    "config_dr, _ = cfg_.get_artifact_config_dimensionality_reduction(False)"
   ]
  },
  {
   "cell_type": "code",
   "execution_count": null,
   "id": "a1050df0-7679-4f04-9c03-f4f51f0b3710",
   "metadata": {},
   "outputs": [],
   "source": [
    "cfg_.show_attrdict(config_dr)"
   ]
  },
  {
   "cell_type": "code",
   "execution_count": null,
   "id": "06a919ef-ce8e-4fd2-a5a5-fc317039482c",
   "metadata": {},
   "outputs": [],
   "source": [
    "df, dr_artifact, enc_artifact, enc_learner = get_dataset(\n",
    "    config_lrp,\n",
    "    emb_config,\n",
    "    config_dr,\n",
    "    run_lrp,\n",
    "    api, \n",
    "    True\n",
    ")"
   ]
  },
  {
   "cell_type": "code",
   "execution_count": null,
   "id": "70ec1547-2859-4ec1-9af1-67a225ad8501",
   "metadata": {},
   "outputs": [],
   "source": [
    "artifacts_gettr = run_lrp.use_artifact if config_lrp.use_wandb else api.artifact"
   ]
  },
  {
   "cell_type": "code",
   "execution_count": null,
   "id": "3b74184a-e891-42f4-b33a-1b07b6508456",
   "metadata": {},
   "outputs": [],
   "source": [
    "enc_artifact = artifacts_gettr(emb_config['enc_artifact'], type='learner')"
   ]
  },
  {
   "cell_type": "code",
   "execution_count": null,
   "id": "5937891f-fdd5-40f6-8a77-e4674b35f033",
   "metadata": {},
   "outputs": [],
   "source": [
    "enc_artifact.name"
   ]
  },
  {
   "cell_type": "code",
   "execution_count": null,
   "id": "e6095a88-9bb2-4986-97cb-b0d627699ee2",
   "metadata": {},
   "outputs": [],
   "source": [
    "embs"
   ]
  },
  {
   "cell_type": "code",
   "execution_count": null,
   "id": "57ffc295-2095-4313-b40b-d96245439ab3",
   "metadata": {},
   "outputs": [],
   "source": [
    "config_dr"
   ]
  },
  {
   "cell_type": "code",
   "execution_count": null,
   "id": "a675efe5-05a6-4420-bbf7-3ab331e5f82c",
   "metadata": {},
   "outputs": [],
   "source": [
    "df, dr_artifact, enc_artifact, enc_learner = get_dataset(\n",
    "    config_dr, \n",
    "    run_lrp, \n",
    "    emb_config, \n",
    "    "
   ]
  },
  {
   "cell_type": "code",
   "execution_count": null,
   "id": "1157bafc-1e46-47ef-81be-590b82fdf88f",
   "metadata": {},
   "outputs": [],
   "source": [
    "enc_artifact = artifacts_gettr(emb_config['enc_artifact'], type='learner')"
   ]
  },
  {
   "cell_type": "code",
   "execution_count": null,
   "id": "eec64475-fe70-452c-b628-31b5d2a7a4d3",
   "metadata": {},
   "outputs": [],
   "source": []
  },
  {
   "cell_type": "code",
   "execution_count": null,
   "id": "5d4a997c-f494-456f-96e9-c47979d120f7",
   "metadata": {},
   "outputs": [],
   "source": [
    "enc_artifact"
   ]
  },
  {
   "cell_type": "code",
   "execution_count": null,
   "id": "c9e0f8dd-ea76-4dc2-b238-9c4bd00146aa",
   "metadata": {},
   "outputs": [],
   "source": [
    "enc_logger = enc_artifact.logged_by()"
   ]
  },
  {
   "cell_type": "code",
   "execution_count": null,
   "id": "6b04e537-10e8-4142-a2f3-1813125d8d23",
   "metadata": {},
   "outputs": [],
   "source": [
    "enc_learner = enc_learner.logged_by()"
   ]
  },
  {
   "cell_type": "code",
   "execution_count": null,
   "id": "f18d22ae-2b38-4fb8-8868-62348385c220",
   "metadata": {},
   "outputs": [],
   "source": [
    "def get_embeddings(config, run_dr, config_dr, api, print_flag = False):\n",
    "    # Botch to use artifacts offline\n",
    "    artifacts_gettr = run_dr.use_artifact if config_dr.use_wandb else api.artifact\n",
    "    enc_artifact = artifacts_gettr(config.emb_artifact, type='object')\n",
    "    if print_flag: print (emb_artifact.name)\n",
    "    ## TODO: This only works when you run it two timeS! WTF?\n",
    "    try:\n",
    "        enc_learner = enc_artifact.to_obj()\n",
    "    except:\n",
    "        enc_learner = enc_artifact.to_obj()\n",
    "    #enc_artifact.metadata\n",
    "    ## Restore artifact\n",
    "    enc_logger = enc_artifact.logged_by()\n",
    "    enc_artifact_train = artifacts_gettr(enc_logger.config['train_artifact'], type='dataset')\n",
    "    if enc_logger.config['valid_artifact'] is not None:\n",
    "        enc_artifact_valid = artifacts_gettr(enc_logger.config['valid_artifact'], type='dataset')\n",
    "        if print_flag: print(\"enc_artifact_valid:\", enc_artifact_valid.name)\n",
    "    if print_flag: print(\"enc_artifact_train: \", enc_artifact_train.name)\n",
    "    if config_dr.dr_artifact is not None:\n",
    "        dr_artifact = artifacts_gettr(config_dr.dr_artifact)\n",
    "    else:\n",
    "        dr_artifact = enc_artifact_train\n",
    "    if print_flag: print(\"DR artifact train: \", dr_artifact.name)\n",
    "    df = dr_artifact.to_df()\n",
    "    if print_flag: display(df.head())\n",
    "    return df, dr_artifact, enc_artifact, enc_learner"
   ]
  }
 ],
 "metadata": {
  "kernelspec": {
   "display_name": "Python 3 (ipykernel)",
   "language": "python",
   "name": "python3"
  }
 },
 "nbformat": 4,
 "nbformat_minor": 5
}

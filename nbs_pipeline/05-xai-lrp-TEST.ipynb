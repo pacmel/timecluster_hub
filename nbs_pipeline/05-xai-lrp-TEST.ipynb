{
 "cells": [
  {
   "cell_type": "code",
   "execution_count": 1,
   "id": "f38bd021-0651-428a-8c30-520dfe1644e3",
   "metadata": {},
   "outputs": [],
   "source": [
    "#Weight & Biases\n",
    "import wandb\n",
    "\n",
    "#Yaml\n",
    "from yaml import load, FullLoader\n",
    "\n",
    "#Embeddings\n",
    "from dvats.all import *\n",
    "from tsai.data.preparation import prepare_forecasting_data\n",
    "from tsai.data.validation import get_forecasting_splits\n",
    "from fastcore.all import *\n",
    "\n",
    "#Dimensionality reduction\n",
    "from tsai.imports import *\n",
    "\n",
    "#Clustering\n",
    "import hdbscan\n",
    "import utils.config as cfg_\n",
    "import time\n",
    "import seaborn as sns"
   ]
  },
  {
   "cell_type": "code",
   "execution_count": 2,
   "id": "9b75a1c9-b7a5-400e-beaa-8c1da28397ca",
   "metadata": {},
   "outputs": [],
   "source": [
    "#Get W&B API\n",
    "api = wandb.Api()"
   ]
  },
  {
   "cell_type": "code",
   "execution_count": 3,
   "id": "b8db256e-915e-475a-9009-e9b8289e98ed",
   "metadata": {},
   "outputs": [],
   "source": [
    "import os\n",
    "path = os.path.expanduser(\"~/work/nbs_pipeline/\")\n",
    "name=\"05-xai-lrp-TEST\"\n",
    "runname = name\n",
    "os.environ[\"WANDB_NOTEBOOK_NAME\"] = path+name+\".ipynb\""
   ]
  },
  {
   "cell_type": "code",
   "execution_count": 4,
   "id": "b83cffe5-ceb0-4e63-9859-9b4a60293b22",
   "metadata": {},
   "outputs": [
    {
     "name": "stdout",
     "output_type": "stream",
     "text": [
      "use_wandb: True\n",
      "wandb_group: None\n",
      "wandb_entity: mi-santamaria\n",
      "wandb_project: deepvats\n",
      "valid_artifact: None\n",
      "train_artifact: mi-santamaria/deepvats/mvp-SWV:latest\n",
      "enc_artifact: mi-santamaria/deepvats/mvp-SWV:latest\n",
      "n_neighbors: 15\n",
      "min_dist: 0.1\n",
      "random_state: 1234\n",
      "metric: euclidean\n",
      "cpu_flag: False\n",
      "job_type: layer_relevance_propagation\n",
      "allow_val_change: True\n",
      "dr_artifact: None\n"
     ]
    }
   ],
   "source": [
    "config_lrp = cfg_.get_artifact_config_xai_lrp(False)\n",
    "cfg_.show_attrdict(config_lrp)"
   ]
  },
  {
   "cell_type": "code",
   "execution_count": 5,
   "id": "8910c48a-7935-4d71-9a0d-21558a548eee",
   "metadata": {},
   "outputs": [
    {
     "name": "stderr",
     "output_type": "stream",
     "text": [
      "\u001b[34m\u001b[1mwandb\u001b[0m: Currently logged in as: \u001b[33mmi-santamaria\u001b[0m. Use \u001b[1m`wandb login --relogin`\u001b[0m to force relogin\n"
     ]
    },
    {
     "data": {
      "text/html": [
       "wandb version 0.16.2 is available!  To upgrade, please run:\n",
       " $ pip install wandb --upgrade"
      ],
      "text/plain": [
       "<IPython.core.display.HTML object>"
      ]
     },
     "metadata": {},
     "output_type": "display_data"
    },
    {
     "data": {
      "text/html": [
       "Tracking run with wandb version 0.14.2"
      ],
      "text/plain": [
       "<IPython.core.display.HTML object>"
      ]
     },
     "metadata": {},
     "output_type": "display_data"
    },
    {
     "data": {
      "text/html": [
       "Run data is saved locally in <code>/home/macu/work/wandb/run-20240206_165906-df73masj</code>"
      ],
      "text/plain": [
       "<IPython.core.display.HTML object>"
      ]
     },
     "metadata": {},
     "output_type": "display_data"
    },
    {
     "data": {
      "text/html": [
       "Syncing run <strong><a href='https://wandb.ai/mi-santamaria/deepvats/runs/df73masj' target=\"_blank\">05-xai-lrp-TEST</a></strong> to <a href='https://wandb.ai/mi-santamaria/deepvats' target=\"_blank\">Weights & Biases</a> (<a href='https://wandb.me/run' target=\"_blank\">docs</a>)<br/>"
      ],
      "text/plain": [
       "<IPython.core.display.HTML object>"
      ]
     },
     "metadata": {},
     "output_type": "display_data"
    },
    {
     "data": {
      "text/html": [
       " View project at <a href='https://wandb.ai/mi-santamaria/deepvats' target=\"_blank\">https://wandb.ai/mi-santamaria/deepvats</a>"
      ],
      "text/plain": [
       "<IPython.core.display.HTML object>"
      ]
     },
     "metadata": {},
     "output_type": "display_data"
    },
    {
     "data": {
      "text/html": [
       " View run at <a href='https://wandb.ai/mi-santamaria/deepvats/runs/df73masj' target=\"_blank\">https://wandb.ai/mi-santamaria/deepvats/runs/df73masj</a>"
      ],
      "text/plain": [
       "<IPython.core.display.HTML object>"
      ]
     },
     "metadata": {},
     "output_type": "display_data"
    }
   ],
   "source": [
    "run_dr = wandb.init(\n",
    "    entity           = config_lrp.wandb_entity,\n",
    "    project          = config_lrp.wandb_project if config_lrp.use_wandb else 'work-nbs', \n",
    "    group            = config_lrp.wandb_group,\n",
    "    allow_val_change = config_lrp.allow_val_change, \n",
    "    job_type         = config_lrp.job_type, \n",
    "    mode             = 'online' if config_lrp.use_wandb else 'disabled',\n",
    "    anonymous        = 'never' if config_lrp.use_wandb else 'must',\n",
    "    config           =  config_lrp,\n",
    "    resume           = 'allow',\n",
    "    name = runname\n",
    ")\n",
    "config_dr = wandb.config # Object for storing hyperparameters"
   ]
  },
  {
   "cell_type": "code",
   "execution_count": 7,
   "id": "f30d9ab4-3b5a-424e-96ab-1cdbe8e676e8",
   "metadata": {},
   "outputs": [
    {
     "data": {
      "text/plain": [
       "'mi-santamaria/deepvats/mvp-SWV:latest'"
      ]
     },
     "execution_count": 7,
     "metadata": {},
     "output_type": "execute_result"
    }
   ],
   "source": [
    "config_dr.enc_artifact"
   ]
  },
  {
   "cell_type": "code",
   "execution_count": 8,
   "id": "147299bf-4455-440a-8902-86abbcf23829",
   "metadata": {},
   "outputs": [],
   "source": [
    "config_dr.emb_artifact = 'mi-santamaria/deepvats/embeddings-SWV:latest'"
   ]
  },
  {
   "cell_type": "code",
   "execution_count": 11,
   "id": "946e0128-5f7a-4729-b7fa-e1285ec1c1b3",
   "metadata": {},
   "outputs": [],
   "source": [
    "artifacts_gettr = run_dr.use_artifact if config_dr.use_wandb else api.artifact\n",
    "emb_artifact = artifacts_gettr(config_dr.emb_artifact, type='object')"
   ]
  },
  {
   "cell_type": "code",
   "execution_count": 26,
   "id": "f49dfb95-dd87-411b-8a71-0a1d8985e3f9",
   "metadata": {},
   "outputs": [],
   "source": [
    "emb_config = emb_artifact.logged_by().config"
   ]
  },
  {
   "cell_type": "code",
   "execution_count": 27,
   "id": "092655e2-ff06-495f-b038-22a231febc8d",
   "metadata": {},
   "outputs": [
    {
     "name": "stdout",
     "output_type": "stream",
     "text": [
      "cpu: False\n",
      "input_ar: mi-santamaria/deepvats/toy:v2\n",
      "use_wandb: True\n",
      "wandb_group: embeddings\n",
      "enc_artifact: mi-santamaria/deepvats/mvp-SWV:latest\n",
      "wandb_entity: mi-santamaria\n",
      "wandb_project: deepvats\n"
     ]
    }
   ],
   "source": [
    "cfg_.show_attrdict(emb_config)"
   ]
  },
  {
   "cell_type": "code",
   "execution_count": 30,
   "id": "1157bafc-1e46-47ef-81be-590b82fdf88f",
   "metadata": {},
   "outputs": [],
   "source": [
    "enc_artifact = artifacts_gettr(emb_config['enc_artifact'], type='learner')"
   ]
  },
  {
   "cell_type": "code",
   "execution_count": 31,
   "id": "5d4a997c-f494-456f-96e9-c47979d120f7",
   "metadata": {},
   "outputs": [
    {
     "data": {
      "text/plain": [
       "<Artifact QXJ0aWZhY3Q6NzExOTI4MjQ5>"
      ]
     },
     "execution_count": 31,
     "metadata": {},
     "output_type": "execute_result"
    }
   ],
   "source": [
    "enc_artifact"
   ]
  },
  {
   "cell_type": "code",
   "execution_count": 24,
   "id": "c9e0f8dd-ea76-4dc2-b238-9c4bd00146aa",
   "metadata": {},
   "outputs": [
    {
     "ename": "AttributeError",
     "evalue": "'<Run mi-santamaria/deepvats/ad865x5t (finished)>' object has no attribute 'logged_by'",
     "output_type": "error",
     "traceback": [
      "\u001b[0;31m---------------------------------------------------------------------------\u001b[0m",
      "\u001b[0;31mAttributeError\u001b[0m                            Traceback (most recent call last)",
      "Cell \u001b[0;32mIn[24], line 1\u001b[0m\n\u001b[0;32m----> 1\u001b[0m enc_logger \u001b[38;5;241m=\u001b[39m \u001b[43menc_artifact\u001b[49m\u001b[38;5;241;43m.\u001b[39;49m\u001b[43mlogged_by\u001b[49m()\n",
      "File \u001b[0;32m~/env/lib/python3.10/site-packages/wandb/apis/public.py:1004\u001b[0m, in \u001b[0;36mAttrs.__getattr__\u001b[0;34m(self, name)\u001b[0m\n\u001b[1;32m   1002\u001b[0m     \u001b[38;5;28;01mreturn\u001b[39;00m \u001b[38;5;28mself\u001b[39m\u001b[38;5;241m.\u001b[39m_attrs[name]\n\u001b[1;32m   1003\u001b[0m \u001b[38;5;28;01melse\u001b[39;00m:\n\u001b[0;32m-> 1004\u001b[0m     \u001b[38;5;28;01mraise\u001b[39;00m \u001b[38;5;167;01mAttributeError\u001b[39;00m(\u001b[38;5;124mf\u001b[39m\u001b[38;5;124m\"\u001b[39m\u001b[38;5;132;01m{\u001b[39;00m\u001b[38;5;28mrepr\u001b[39m(\u001b[38;5;28mself\u001b[39m)\u001b[38;5;132;01m!r}\u001b[39;00m\u001b[38;5;124m object has no attribute \u001b[39m\u001b[38;5;132;01m{\u001b[39;00mname\u001b[38;5;132;01m!r}\u001b[39;00m\u001b[38;5;124m\"\u001b[39m)\n",
      "\u001b[0;31mAttributeError\u001b[0m: '<Run mi-santamaria/deepvats/ad865x5t (finished)>' object has no attribute 'logged_by'"
     ]
    }
   ],
   "source": [
    "enc_logger = enc_artifact.logged_by()"
   ]
  },
  {
   "cell_type": "code",
   "execution_count": 23,
   "id": "6b04e537-10e8-4142-a2f3-1813125d8d23",
   "metadata": {},
   "outputs": [
    {
     "ename": "NameError",
     "evalue": "name 'enc_learner' is not defined",
     "output_type": "error",
     "traceback": [
      "\u001b[0;31m---------------------------------------------------------------------------\u001b[0m",
      "\u001b[0;31mNameError\u001b[0m                                 Traceback (most recent call last)",
      "Cell \u001b[0;32mIn[23], line 1\u001b[0m\n\u001b[0;32m----> 1\u001b[0m enc_learner \u001b[38;5;241m=\u001b[39m \u001b[43menc_learner\u001b[49m\u001b[38;5;241m.\u001b[39mlogged_by()\n",
      "\u001b[0;31mNameError\u001b[0m: name 'enc_learner' is not defined"
     ]
    }
   ],
   "source": [
    "enc_learner = enc_learner.logged_by()"
   ]
  },
  {
   "cell_type": "code",
   "execution_count": null,
   "id": "f18d22ae-2b38-4fb8-8868-62348385c220",
   "metadata": {},
   "outputs": [],
   "source": [
    "def get_embeddings(config, run_dr, config_dr, api, print_flag = False):\n",
    "    # Botch to use artifacts offline\n",
    "    artifacts_gettr = run_dr.use_artifact if config_dr.use_wandb else api.artifact\n",
    "    enc_artifact = artifacts_gettr(config.emb_artifact, type='object')\n",
    "    if print_flag: print (emb_artifact.name)\n",
    "    ## TODO: This only works when you run it two timeS! WTF?\n",
    "    try:\n",
    "        enc_learner = enc_artifact.to_obj()\n",
    "    except:\n",
    "        enc_learner = enc_artifact.to_obj()\n",
    "    #enc_artifact.metadata\n",
    "    ## Restore artifact\n",
    "    enc_logger = enc_artifact.logged_by()\n",
    "    enc_artifact_train = artifacts_gettr(enc_logger.config['train_artifact'], type='dataset')\n",
    "    if enc_logger.config['valid_artifact'] is not None:\n",
    "        enc_artifact_valid = artifacts_gettr(enc_logger.config['valid_artifact'], type='dataset')\n",
    "        if print_flag: print(\"enc_artifact_valid:\", enc_artifact_valid.name)\n",
    "    if print_flag: print(\"enc_artifact_train: \", enc_artifact_train.name)\n",
    "    if config_dr.dr_artifact is not None:\n",
    "        dr_artifact = artifacts_gettr(config_dr.dr_artifact)\n",
    "    else:\n",
    "        dr_artifact = enc_artifact_train\n",
    "    if print_flag: print(\"DR artifact train: \", dr_artifact.name)\n",
    "    df = dr_artifact.to_df()\n",
    "    if print_flag: display(df.head())\n",
    "    return df, dr_artifact, enc_artifact, enc_learner"
   ]
  }
 ],
 "metadata": {
  "kernelspec": {
   "display_name": "Python 3 (ipykernel)",
   "language": "python",
   "name": "python3"
  },
  "language_info": {
   "codemirror_mode": {
    "name": "ipython",
    "version": 3
   },
   "file_extension": ".py",
   "mimetype": "text/x-python",
   "name": "python",
   "nbconvert_exporter": "python",
   "pygments_lexer": "ipython3",
   "version": "3.10.13"
  }
 },
 "nbformat": 4,
 "nbformat_minor": 5
}

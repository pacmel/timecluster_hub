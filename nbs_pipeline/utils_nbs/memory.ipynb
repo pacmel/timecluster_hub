{
 "cells": [
  {
   "cell_type": "markdown",
   "id": "e803b210-6b8e-4a1e-8800-2337806372ba",
   "metadata": {},
   "source": [
    "# Memory handling functions"
   ]
  },
  {
   "cell_type": "code",
   "execution_count": 1,
   "id": "720129cb-7a1d-4945-8409-0374435994d9",
   "metadata": {},
   "outputs": [],
   "source": [
    "import subprocess\n",
    "import psutil"
   ]
  },
  {
   "cell_type": "markdown",
   "id": "c0dea860-627f-4114-87ab-31af5782863e",
   "metadata": {},
   "source": [
    "## Check GPU memory usage"
   ]
  },
  {
   "cell_type": "code",
   "execution_count": 2,
   "id": "858513ee-c9be-40d0-a32c-9f368de95b8a",
   "metadata": {},
   "outputs": [],
   "source": [
    "def get_gpu_memory(device=0):\n",
    "    total_memory = subprocess.check_output([\"nvidia-smi\", \"--query-gpu=memory.total\", \"--format=csv,noheader,nounits\", \"--id=\" + str(device)])\n",
    "    total_memory = int(total_memory.decode().split('\\n')[0])\n",
    "    used_memory = subprocess.check_output([\"nvidia-smi\", \"--query-gpu=memory.used\", \"--format=csv,noheader,nounits\",  \"--id=\" + str(device)])\n",
    "    used_memory = int(used_memory.decode().split('\\n')[0])\n",
    "\n",
    "    percentage = round((used_memory / total_memory) * 100)\n",
    "    return used_memory, total_memory, percentage"
   ]
  },
  {
   "cell_type": "code",
   "execution_count": 3,
   "id": "92089555-4e31-4ec9-9b69-d59d1d667564",
   "metadata": {},
   "outputs": [],
   "source": [
    "def color_for_percentage(percentage):\n",
    "    if percentage < 20:\n",
    "        return \"\\033[90m\"  # Gray\n",
    "    elif percentage < 40:\n",
    "        return \"\\033[94m\"  # Blue\n",
    "    elif percentage < 60:\n",
    "        return \"\\033[92m\"  # Green\n",
    "    elif percentage < 80:\n",
    "        return \"\\033[93m\"  # Orange\n",
    "    else:\n",
    "        return \"\\033[91m\"  # Red"
   ]
  },
  {
   "cell_type": "code",
   "execution_count": 4,
   "id": "564346ee-da56-44a4-b7fb-4cd6d3114fe6",
   "metadata": {},
   "outputs": [],
   "source": [
    "def create_bar(percentage, color_code, length=20):\n",
    "    filled_length = int(length * percentage // 100)\n",
    "    bar = \"█\" * filled_length + \"-\" * (length - filled_length)\n",
    "    return color_code + bar + \"\\033[0m\"  # Apply color and reset after bar"
   ]
  },
  {
   "cell_type": "code",
   "execution_count": 5,
   "id": "f68318aa-1245-46c8-9c55-b3c328ad044b",
   "metadata": {},
   "outputs": [],
   "source": [
    "def gpu_memory_status(device=0):\n",
    "    used, total, percentage = get_gpu_memory(device)\n",
    "    color_code = color_for_percentage(percentage)\n",
    "    bar = create_bar(percentage, color_code)\n",
    "    print(f\"GPU | Used mem: {used}\")\n",
    "    print(f\"GPU | Total mem: {total}\")\n",
    "    print(f\"GPU | Memory Usage: [{bar}] {color_code}{percentage}%\\033[0m\")"
   ]
  },
  {
   "cell_type": "code",
   "execution_count": 12,
   "id": "b2c1059f-1be5-4522-87c7-8218004f9813",
   "metadata": {},
   "outputs": [
    {
     "name": "stdout",
     "output_type": "stream",
     "text": [
      "Used mem: 1707\n",
      "Used mem: 24576\n",
      "Memory Usage: [\u001b[90m█-------------------\u001b[0m] \u001b[90m7%\u001b[0m\n"
     ]
    }
   ],
   "source": [
    "#| hide\n",
    "gpu_memory_status()"
   ]
  },
  {
   "cell_type": "markdown",
   "id": "31176b84-e66d-4dda-a987-99e0b1752568",
   "metadata": {},
   "source": [
    "## Check CPU memory usage"
   ]
  },
  {
   "cell_type": "code",
   "execution_count": 6,
   "id": "43e103dc-a69b-403e-b6fd-6a03dbf80352",
   "metadata": {},
   "outputs": [],
   "source": [
    "def get_cpu_memory():\n",
    "    mem = psutil.virtual_memory()\n",
    "    total_memory = mem.total // (1024**2)  # Convertir a MB\n",
    "    used_memory = (mem.total - mem.available) // (1024**2)  # Convertir a MB\n",
    "    percentage = mem.percent\n",
    "    return used_memory, total_memory, percentage"
   ]
  },
  {
   "cell_type": "code",
   "execution_count": 10,
   "id": "9ec29075-d514-4602-8f4e-13cf52116d1a",
   "metadata": {},
   "outputs": [],
   "source": [
    "def cpu_memory_status():\n",
    "    used, total, percentage = get_cpu_memory()\n",
    "    color_code = color_for_percentage(percentage)\n",
    "    bar = create_bar(percentage, color_code)\n",
    "    print(f\"CPU | Used mem: {used}\")\n",
    "    print(f\"CPU | Used mem: {total}\")\n",
    "    print(f\"CPU | Memory Usage: [{bar}] {color_code}{percentage}%\\033[0m\")"
   ]
  },
  {
   "cell_type": "code",
   "execution_count": 11,
   "id": "98ffbfdf-c78e-4905-ad2b-6edaa7d8ebe5",
   "metadata": {},
   "outputs": [
    {
     "name": "stdout",
     "output_type": "stream",
     "text": [
      "Used mem: 65345\n",
      "Used mem: 257575\n",
      "Memory Usage: [\u001b[94m█████---------------\u001b[0m] \u001b[94m25.4%\u001b[0m\n"
     ]
    }
   ],
   "source": [
    "#| hide\n",
    "cpu_memory_status()"
   ]
  }
 ],
 "metadata": {
  "kernelspec": {
   "display_name": "Python 3 (ipykernel)",
   "language": "python",
   "name": "python3"
  },
  "language_info": {
   "codemirror_mode": {
    "name": "ipython",
    "version": 3
   },
   "file_extension": ".py",
   "mimetype": "text/x-python",
   "name": "python",
   "nbconvert_exporter": "python",
   "pygments_lexer": "ipython3",
   "version": "3.10.13"
  }
 },
 "nbformat": 4,
 "nbformat_minor": 5
}

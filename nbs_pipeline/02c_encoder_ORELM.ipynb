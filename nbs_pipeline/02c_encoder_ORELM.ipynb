{
 "cells": [
  {
   "cell_type": "code",
   "execution_count": 1,
   "metadata": {
    "tags": []
   },
   "outputs": [],
   "source": [
    "# This is only needed if the notebook is run in VSCode\n",
    "import nbs_pipeline.utils.vscode  as vs\n",
    "vs.DisplayHandle.update = vs.update_patch"
   ]
  },
  {
   "cell_type": "markdown",
   "metadata": {},
   "source": [
    "\n",
    "# OR-ELM: Online Recurrent Extreme Learning Machine for time-series prediction\n",
    "\n",
    "> This notebook applies visual analytics to [OR_ELM](https://github.com/chickenbestlover/Online-Recurrent-Extreme-Learning-Machine) algorithm"
   ]
  },
  {
   "cell_type": "code",
   "execution_count": 2,
   "metadata": {
    "tags": []
   },
   "outputs": [
    {
     "name": "stdout",
     "output_type": "stream",
     "text": [
      "/home/macu/lib/orelm/\n",
      "El directorio existe: /home/macu/lib/orelm/\n",
      "['/home/macu/work/nbs_pipeline', '/home/macu/env/lib/python310.zip', '/home/macu/env/lib/python3.10', '/home/macu/env/lib/python3.10/lib-dynload', '', '/home/macu/env/lib/python3.10/site-packages', '/home/macu/env/lib/python3.10/site-packages/PyQt5_sip-12.11.0-py3.10-linux-x86_64.egg', '/home/macu/lib/tsai', '/home/macu/work']\n",
      "['/home/macu/work/nbs_pipeline', '/home/macu/env/lib/python310.zip', '/home/macu/env/lib/python3.10', '/home/macu/env/lib/python3.10/lib-dynload', '', '/home/macu/env/lib/python3.10/site-packages', '/home/macu/env/lib/python3.10/site-packages/PyQt5_sip-12.11.0-py3.10-linux-x86_64.egg', '/home/macu/lib/tsai', '/home/macu/work', '/home/macu/lib/orelm/']\n"
     ]
    }
   ],
   "source": [
    "try:\n",
    "    from tsai.all import *\n",
    "except:\n",
    "    from tsai.all import * # TODO: Weird error when loading tsai!from tchub.all import *\n",
    "import wandb\n",
    "wandb_api = wandb.Api()\n",
    "from fastcore.all import *\n",
    "from fastai.callback.wandb import WandbCallback\n",
    "from fastai.callback.schedule import *\n",
    "from dvats.all import *\n",
    "import nbs.orelm_torch as orelm"
   ]
  },
  {
   "cell_type": "markdown",
   "metadata": {},
   "source": [
    "For the experiment tracking and hyperparameter we will use the tool **Weights & Biases**. \n",
    "\n",
    "Before running this notebook, make sure you have the `$WANDB_API_KEY` environment varibale defined with your API_KEY (run in a terminal `echo $WANDB_API_KEY` to see it). If not, run in a terminal `wandb login [API_KEY]`. You can see your API_KEY [here](https://wandb.ai/authorize) or in the settings of your W&B account."
   ]
  },
  {
   "cell_type": "markdown",
   "metadata": {},
   "source": [
    "## Notebook configuration"
   ]
  },
  {
   "cell_type": "code",
   "execution_count": 3,
   "metadata": {},
   "outputs": [
    {
     "name": "stdout",
     "output_type": "stream",
     "text": [
      "Current: /home/macu/work/nbs_pipeline\n",
      "yml: ./config/02c-encoder_orelm.yaml\n",
      "... About to replace includes with content\n",
      "Before configuration reading \n",
      "-include: None\n",
      "-user_preferences:\n",
      "\t-use_wandb: False\n",
      "\t-wdb:\n",
      "\t\t-user: mi-santamaria\n",
      "\t\t-project_name: test-project\n",
      "\t\t-version: 0\n",
      "\t\t-mode: offline\n",
      "\t\t-artifacts_path: ./data/wandb_artifacts\n",
      "\t-data:\n",
      "\t\t-folder: ~/data/\n",
      "\t\t-fname: Semantic_Segmentation_TiltABP\n",
      "\t\t-ftype: .csv\n",
      "\t\t-cols: []\n",
      "\t\t-freq: 1s\n",
      "\t-artifact:\n",
      "\t\t-alias: TiltABP\n",
      "\t-directories:\n",
      "\t\t-tmp: tmp\n",
      "\t\t-data: ~/data/Semantic_Segmentation_TiltABP.csv\n",
      "-data:\n",
      "\t-name: Semantic_Segmentation_TiltABP\n",
      "\t-path: ~/data/Semantic_Segmentation_TiltABP.csv\n",
      "\t-alias: TiltABP\n",
      "\t-cols: []\n",
      "\t-csv_config:\n",
      "\t-date_offset: None\n",
      "\t-date_format: %Y-%m-%d %H:%M:%S\n",
      "\t-freq: 1s\n",
      "\t-joining_train_test: False\n",
      "\t-missing_values:\n",
      "\t\t-technique: None\n",
      "\t\t-constant: None\n",
      "\t-normalize_training: False\n",
      "\t-range_training: None\n",
      "\t-range_testing: None\n",
      "\t-resampling_freq: None\n",
      "\t-start_date: None\n",
      "\t-test_split: None\n",
      "\t-time_col: None\n",
      "-wandb:\n",
      "\t-user: mi-santamaria\n",
      "\t-dir: ~/test-project\n",
      "\t-enabled: False\n",
      "\t-group: None\n",
      "\t-log_learner: False\n",
      "\t-mode: offline\n",
      "\t-project: test-project\n",
      "\t-version: 0\n",
      "\t-artifacts_path: ./data/wandb_artifacts\n",
      "-configuration:\n",
      "\t-job_type: encoder_ORELM\n",
      "\t-alias: TiltABP\n",
      "\t-wandb:\n",
      "\t\t-use: False\n",
      "\t\t-entity: mi-santamaria\n",
      "\t\t-group: None\n",
      "\t\t-project: test-project\n",
      "\t-artifacts:\n",
      "\t\t-train: mi-santamaria/test-project/Semantic_Segmentation_TiltABP:v0\n",
      "\t\t-valid:\n",
      "\t\t\t-data: None\n",
      "\t\t\t-size: 0.1\n",
      "\t-specifications:\n",
      "\t\t-random_seed: 6\n",
      "\t\t-numHiddenNeurons: 23\n",
      "\t\t-activationFunction: sig\n",
      "\t\t-LN: True\n",
      "\t\t-AE: True\n",
      "\t\t-ORTH: True\n",
      "\t\t-weight_forgetting_factors:\n",
      "\t\t\t-input: 1\n",
      "\t\t\t-output: 0.915\n",
      "\t\t-sliding_windows:\n",
      "\t\t\t-stride: 1\n",
      "\t\t\t-size: 32\n",
      "After reading config\n",
      "-job_type: encoder_ORELM\n",
      "-alias: TiltABP\n",
      "-wandb:\n",
      "\t-use: False\n",
      "\t-entity: mi-santamaria\n",
      "\t-group: None\n",
      "\t-project: test-project\n",
      "-artifacts:\n",
      "\t-train: mi-santamaria/test-project/Semantic_Segmentation_TiltABP:v0\n",
      "\t-valid:\n",
      "\t\t-data: None\n",
      "\t\t-size: 0.1\n",
      "-specifications:\n",
      "\t-random_seed: 6\n",
      "\t-numHiddenNeurons: 23\n",
      "\t-activationFunction: sig\n",
      "\t-LN: True\n",
      "\t-AE: True\n",
      "\t-ORTH: True\n",
      "\t-weight_forgetting_factors:\n",
      "\t\t-input: 1\n",
      "\t\t-output: 0.915\n",
      "\t-sliding_windows:\n",
      "\t\t-stride: 1\n",
      "\t\t-size: 32\n"
     ]
    }
   ],
   "source": [
    "import nbs_pipeline.utils.config as cfg\n",
    "config, job_type = cfg.get_artifact_config_ORELM(True)"
   ]
  },
  {
   "cell_type": "code",
   "execution_count": 4,
   "metadata": {},
   "outputs": [
    {
     "name": "stdout",
     "output_type": "stream",
     "text": [
      "Project: test-project\n"
     ]
    },
    {
     "name": "stderr",
     "output_type": "stream",
     "text": [
      "Failed to detect the name of this notebook, you can set it manually with the WANDB_NOTEBOOK_NAME environment variable to enable code saving.\n"
     ]
    }
   ],
   "source": [
    "print(\"Project: \"+config.wandb_project)\n",
    "run = wandb.init(\n",
    "    entity          = config.wandb_entity,\n",
    "    project         = config.wandb_project,\n",
    "    group           = config.wandb_group,\n",
    "    job_type        = job_type,\n",
    "    allow_val_change= True,\n",
    "    mode            = 'online' if config.use_wandb else 'disabled',\n",
    "    config          = config,\n",
    "    resume          = False\n",
    ")\n",
    "config = run.config  # Object for storing hyperparameters\n",
    "# Botch to use artifacts offline\n",
    "artifacts_gettr = run.use_artifact if config.use_wandb else wandb_api.artifact"
   ]
  },
  {
   "cell_type": "markdown",
   "metadata": {},
   "source": [
    "## Loading the datasets\n",
    "\n",
    "To load the dataset we will download a specific dataset artifact from the collection of artifacts\n",
    "stored in the weights and biases (wandb) project associated to this experiment."
   ]
  },
  {
   "cell_type": "markdown",
   "metadata": {},
   "source": [
    "### Sliding window features"
   ]
  },
  {
   "cell_type": "markdown",
   "metadata": {},
   "source": [
    "Define a continuous multivariate time-series data $D$ of dimension $d$ with $n$ time-steps, $D = X_1,X_2,\\dots,X_n$ , where each $X_i = \\{x_i^1,\\dots,x_i^d\\}$ . Let $w$ be the window width, $s$ the stride, and $t$ the start time of a sliding window in the data.\n",
    "\n",
    "Define a new matrix $Z_k$ where each row is a vector of size $w$ of data extracted from the $k^{th}$ dimension.\n",
    "\n",
    "\\begin{aligned}&Z_k(w,s,t)\\\\&\\quad =\\begin{bmatrix} x_{t}^k&\\quad x_{t+1}^k&\\quad \\dots&\\quad x_{t+w-1}^k \\\\ x_{t+s}^k&\\quad x_{t+s+1}^k&\\quad \\dots&\\quad x_{t+s+w-1}^k \\\\ \\vdots&\\quad \\vdots&\\quad \\ddots&\\quad \\vdots \\\\ x_{t+(r-1)s}^k&\\quad x_{t+(r-1)s+1}^k&\\quad \\dots&\\quad x_{t+(r-1)s+w-1}^k \\end{bmatrix} \\end{aligned}\n",
    "\n",
    "where $r$ is the number of desired rows, and $t+(r-1)s+w-1 \\le n$\n"
   ]
  },
  {
   "cell_type": "markdown",
   "metadata": {},
   "source": [
    "$Z$ is a $w \\times s \\times t$ matrix. The first step consists in slicing the original multivariate time series into slices of shape ($w \\times d$), as shown in this figure from the paper.\n",
    "<img src=\"https://i.imgur.com/R9Fx8uO.png\" style=\"width:800px;height:400px\"/>"
   ]
  },
  {
   "cell_type": "markdown",
   "metadata": {},
   "source": [
    "The hyperparameters of this sliding window approach are given values by default here. If the value has been already set previously, that means this notebook is being called from a wandb sweep, and we must use the value that the sweep is bringing."
   ]
  },
  {
   "cell_type": "code",
   "execution_count": 5,
   "metadata": {},
   "outputs": [],
   "source": [
    "sw = SlidingWindow(window_len=config.w, stride=config.stride, get_y=[])"
   ]
  },
  {
   "cell_type": "code",
   "execution_count": 6,
   "metadata": {},
   "outputs": [
    {
     "name": "stderr",
     "output_type": "stream",
     "text": [
      "\u001b[34m\u001b[1mwandb\u001b[0m:   1 of 1 files downloaded.  \n"
     ]
    },
    {
     "data": {
      "text/plain": [
       "((40000, 2), (39969, 2, 32))"
      ]
     },
     "execution_count": 6,
     "metadata": {},
     "output_type": "execute_result"
    }
   ],
   "source": [
    "train_artifact = artifacts_gettr(config.train_artifact)\n",
    "df_train = train_artifact.to_df()\n",
    "X_train, _ = sw(df_train)\n",
    "df_train.shape, X_train.shape"
   ]
  },
  {
   "cell_type": "code",
   "execution_count": 7,
   "metadata": {},
   "outputs": [],
   "source": [
    "if config.valid_artifact:\n",
    "    valid_artifact = artifacts_gettr(config.valid_artifact)\n",
    "    df_val = valid_artifact.to_df()\n",
    "    X_valid, _ = sw(df_val)\n",
    "    df_val.shape, X_valid.shape"
   ]
  },
  {
   "cell_type": "markdown",
   "metadata": {},
   "source": [
    "## TODO: METER EXPLICACIÓN DE OR-ELM\n"
   ]
  },
  {
   "cell_type": "markdown",
   "metadata": {},
   "source": [
    "todo: AQUI VA LA EXPLICACIÓN CON EL EJEMPLO QUE SE META EN EL PAPER"
   ]
  },
  {
   "cell_type": "markdown",
   "metadata": {},
   "source": [
    "### Create the model"
   ]
  },
  {
   "cell_type": "code",
   "execution_count": 8,
   "metadata": {},
   "outputs": [
    {
     "name": "stdout",
     "output_type": "stream",
     "text": [
      "(23, 2)\n",
      "ORELM_torch()\n"
     ]
    }
   ],
   "source": [
    "random.seed = config.random_seed\n",
    "\n",
    "m = orelm.ORELM_torch(\n",
    "    inputs                      = X_train.shape[1],\n",
    "    outputs                     = 1,\n",
    "    numHiddenNeurons            = config.numHiddenNeurons,\n",
    "    activationFunction          = config.activationFunction,\n",
    "    LN                          = config.LN,\n",
    "    AE                          = config.AE,\n",
    "    ORTH                        = config.ORTH,\n",
    "    inputWeightForgettingFactor = config.inputWeightForgettingFactor,\n",
    "    outputWeightForgettingFactor= config.outputWeightForgettingFactor\n",
    ")\n",
    "print(m)"
   ]
  },
  {
   "cell_type": "markdown",
   "metadata": {},
   "source": [
    "Train the model with fastai Learner class, to abstract from Pytorch's training loop"
   ]
  },
  {
   "cell_type": "code",
   "execution_count": 9,
   "metadata": {},
   "outputs": [
    {
     "data": {
      "image/png": "[encoded data removed]",
      "text/plain": [
       "<Figure size 1600x50 with 1 Axes>"
      ]
     },
     "metadata": {},
     "output_type": "display_data"
    },
    {
     "data": {
      "text/plain": [
       "((#35973) [8168,19098,35538,37553,25691,33239,20038,904,17462,24019...],\n",
       " (#3996) [5429,14292,14145,35147,38290,21928,26339,13445,33763,5420...])"
      ]
     },
     "execution_count": 9,
     "metadata": {},
     "output_type": "execute_result"
    }
   ],
   "source": [
    "if config.valid_artifact:\n",
    "    X, y, splits  = combine_split_data(xs=[X_train, X_valid], ys=[X_train, X_valid])\n",
    "else:\n",
    "    X = X_train\n",
    "    y = X_train\n",
    "    splits = get_splits(np.arange(len(X)), valid_size=config.valid_size)\n",
    "splits"
   ]
  },
  {
   "cell_type": "code",
   "execution_count": 10,
   "metadata": {},
   "outputs": [],
   "source": [
    "tfms = [ToFloat(), ToFloat()]\n",
    "batch_tfms = [TSStandardize(by_sample=True)]\n",
    "dls = get_ts_dls(X, y, splits=splits, tfms=tfms, batch_tfms=batch_tfms)\n",
    "dls.dataset[0][0].show(), ToTSTensor()(dls.dataset[0][1]).show()"
   ]
  },
  {
   "cell_type": "markdown",
   "metadata": {},
   "source": [
    "\n",
    "\n",
    "\n",
    "To track the performance of this model fit, go to the project dashboard in Weights & Biases. The link is provided at the beginning of this notebook, after the execution of the function `wandb.init()'' "
   ]
  },
  {
   "cell_type": "markdown",
   "metadata": {},
   "source": [
    "Finally, log the learner to be used by the next notebook in the pipeline"
   ]
  },
  {
   "cell_type": "code",
   "execution_count": null,
   "metadata": {},
   "outputs": [
    {
     "name": "stdout",
     "output_type": "stream",
     "text": [
      "(#35973) [(TSTensor(vars:2, len:32, device=cpu, dtype=torch.float32), tensor([[16412., 16413., 16414., 16415., 16416., 16417., 16418., 16419., 16420.,\n",
      "         16421., 16422., 16423., 16424., 16425., 16426., 16427., 16428., 16429.,\n",
      "         16430., 16431., 16432., 16433., 16434., 16435., 16436., 16437., 16438.,\n",
      "         16439., 16440., 16441., 16442., 16443.],\n",
      "        [ 4452.,  4440.,  4444.,  4424.,  4420.,  4416.,  4404.,  4396.,  4392.,\n",
      "          4388.,  4380.,  4372.,  4380.,  4360.,  4364.,  4352.,  4360.,  4356.,\n",
      "          4348.,  4336.,  4336.,  4340.,  4340.,  4328.,  4328.,  4320.,  4320.,\n",
      "          4312.,  4328.,  4312.,  4320.,  4320.]])), (TSTensor(vars:2, len:32, device=cpu, dtype=torch.float32), tensor([[30076., 30077., 30078., 30079., 30080., 30081., 30082., 30083., 30084.,\n",
      "         30085., 30086., 30087., 30088., 30089., 30090., 30091., 30092., 30093.,\n",
      "         30094., 30095., 30096., 30097., 30098., 30099., 30100., 30101., 30102.,\n",
      "         30103., 30104., 30105., 30106., 30107.],\n",
      "        [ 3212.,  3216.,  3208.,  3204.,  3208.,  3220.,  3212.,  3204.,  3212.,\n",
      "          3208.,  3212.,  3224.,  3240.,  3276.,  3316.,  3352.,  3404.,  3480.,\n",
      "          3564.,  3652.,  3772.,  3912.,  4064.,  4224.,  4376.,  4556.,  4724.,\n",
      "          4868.,  5016.,  5148.,  5260.,  5352.]])), (TSTensor(vars:2, len:32, device=cpu, dtype=torch.float32), tensor([[10894., 10895., 10896., 10897., 10898., 10899., 10900., 10901., 10902.,\n",
      "         10903., 10904., 10905., 10906., 10907., 10908., 10909., 10910., 10911.,\n",
      "         10912., 10913., 10914., 10915., 10916., 10917., 10918., 10919., 10920.,\n",
      "         10921., 10922., 10923., 10924., 10925.],\n",
      "        [ 5792.,  5768.,  5760.,  5764.,  5760.,  5756.,  5752.,  5776.,  5784.,\n",
      "          5804.,  5808.,  5828.,  5836.,  5848.,  5848.,  5840.,  5824.,  5808.,\n",
      "          5800.,  5768.,  5740.,  5680.,  5624.,  5568.,  5528.,  5444.,  5400.,\n",
      "          5356.,  5316.,  5292.,  5264.,  5236.]])), (TSTensor(vars:2, len:32, device=cpu, dtype=torch.float32), tensor([[31795., 31796., 31797., 31798., 31799., 31800., 31801., 31802., 31803.,\n",
      "         31804., 31805., 31806., 31807., 31808., 31809., 31810., 31811., 31812.,\n",
      "         31813., 31814., 31815., 31816., 31817., 31818., 31819., 31820., 31821.,\n",
      "         31822., 31823., 31824., 31825., 31826.],\n",
      "        [ 3640.,  3612.,  3600.,  3568.,  3552.,  3528.,  3516.,  3504.,  3484.,\n",
      "          3468.,  3460.,  3444.,  3436.,  3420.,  3408.,  3388.,  3380.,  3372.,\n",
      "          3388.,  3356.,  3356.,  3340.,  3352.,  3336.,  3328.,  3320.,  3328.,\n",
      "          3316.,  3300.,  3316.,  3304.,  3320.]])), (TSTensor(vars:2, len:32, device=cpu, dtype=torch.float32), tensor([[32601., 32602., 32603., 32604., 32605., 32606., 32607., 32608., 32609.,\n",
      "         32610., 32611., 32612., 32613., 32614., 32615., 32616., 32617., 32618.,\n",
      "         32619., 32620., 32621., 32622., 32623., 32624., 32625., 32626., 32627.,\n",
      "         32628., 32629., 32630., 32631., 32632.],\n",
      "        [ 3428.,  3428.,  3408.,  3408.,  3408.,  3404.,  3404.,  3404.,  3408.,\n",
      "          3396.,  3396.,  3392.,  3400.,  3376.,  3380.,  3388.,  3396.,  3396.,\n",
      "          3392.,  3392.,  3384.,  3392.,  3384.,  3376.,  3380.,  3396.,  3384.,\n",
      "          3388.,  3376.,  3376.,  3368.,  3364.]])), (TSTensor(vars:2, len:32, device=cpu, dtype=torch.float32), tensor([[1651., 1652., 1653., 1654., 1655., 1656., 1657., 1658., 1659., 1660.,\n",
      "         1661., 1662., 1663., 1664., 1665., 1666., 1667., 1668., 1669., 1670.,\n",
      "         1671., 1672., 1673., 1674., 1675., 1676., 1677., 1678., 1679., 1680.,\n",
      "         1681., 1682.],\n",
      "        [5400., 5424., 5440., 5468., 5464., 5500., 5512., 5532., 5552., 5540.,\n",
      "         5548., 5552., 5556., 5548., 5528., 5484., 5444., 5400., 5368., 5316.,\n",
      "         5264., 5240., 5180., 5140., 5108., 5068., 5064., 5056., 5060., 5052.,\n",
      "         5040., 5020.]])), (TSTensor(vars:2, len:32, device=cpu, dtype=torch.float32), tensor([[24944., 24945., 24946., 24947., 24948., 24949., 24950., 24951., 24952.,\n",
      "         24953., 24954., 24955., 24956., 24957., 24958., 24959., 24960., 24961.,\n",
      "         24962., 24963., 24964., 24965., 24966., 24967., 24968., 24969., 24970.,\n",
      "         24971., 24972., 24973., 24974., 24975.],\n",
      "        [ 4900.,  4896.,  4888.,  4892.,  4888.,  4860.,  4832.,  4816.,  4788.,\n",
      "          4744.,  4708.,  4672.,  4624.,  4600.,  4572.,  4532.,  4516.,  4484.,\n",
      "          4468.,  4444.,  4416.,  4420.,  4408.,  4408.,  4400.,  4396.,  4380.,\n",
      "          4376.,  4380.,  4384.,  4376.,  4368.]])), (TSTensor(vars:2, len:32, device=cpu, dtype=torch.float32), tensor([[38400., 38401., 38402., 38403., 38404., 38405., 38406., 38407., 38408.,\n",
      "         38409., 38410., 38411., 38412., 38413., 38414., 38415., 38416., 38417.,\n",
      "         38418., 38419., 38420., 38421., 38422., 38423., 38424., 38425., 38426.,\n",
      "         38427., 38428., 38429., 38430., 38431.],\n",
      "        [ 3360.,  3364.,  3360.,  3344.,  3344.,  3340.,  3340.,  3328.,  3324.,\n",
      "          3324.,  3312.,  3312.,  3304.,  3308.,  3280.,  3272.,  3256.,  3256.,\n",
      "          3272.,  3264.,  3268.,  3264.,  3276.,  3288.,  3320.,  3352.,  3408.,\n",
      "          3468.,  3532.,  3612.,  3700.,  3796.]])), (TSTensor(vars:2, len:32, device=cpu, dtype=torch.float32), tensor([[13341., 13342., 13343., 13344., 13345., 13346., 13347., 13348., 13349.,\n",
      "         13350., 13351., 13352., 13353., 13354., 13355., 13356., 13357., 13358.,\n",
      "         13359., 13360., 13361., 13362., 13363., 13364., 13365., 13366., 13367.,\n",
      "         13368., 13369., 13370., 13371., 13372.],\n",
      "        [ 4420.,  4432.,  4416.,  4412.,  4416.,  4408.,  4408.,  4412.,  4416.,\n",
      "          4400.,  4392.,  4392.,  4376.,  4376.,  4360.,  4352.,  4348.,  4336.,\n",
      "          4328.,  4312.,  4308.,  4308.,  4296.,  4272.,  4260.,  4256.,  4236.,\n",
      "          4220.,  4232.,  4204.,  4196.,  4196.]])), (TSTensor(vars:2, len:32, device=cpu, dtype=torch.float32), tensor([[14823., 14824., 14825., 14826., 14827., 14828., 14829., 14830., 14831.,\n",
      "         14832., 14833., 14834., 14835., 14836., 14837., 14838., 14839., 14840.,\n",
      "         14841., 14842., 14843., 14844., 14845., 14846., 14847., 14848., 14849.,\n",
      "         14850., 14851., 14852., 14853., 14854.],\n",
      "        [ 5200.,  5200.,  5176.,  5152.,  5132.,  5120.,  5100.,  5064.,  5040.,\n",
      "          5004.,  4976.,  4952.,  4920.,  4888.,  4860.,  4844.,  4816.,  4780.,\n",
      "          4760.,  4736.,  4700.,  4692.,  4676.,  4664.,  4640.,  4608.,  4616.,\n",
      "          4604.,  4584.,  4568.,  4564.,  4540.]]))] ...]\n"
     ]
    }
   ],
   "source": [
    "print(dls.dataset)"
   ]
  },
  {
   "cell_type": "markdown",
   "metadata": {},
   "source": [
    "# COPIANDO ORIGINAL ANTES DE TRADUCIR A WANDB (me he hecho un lío)"
   ]
  },
  {
   "cell_type": "code",
   "execution_count": null,
   "metadata": {},
   "outputs": [
    {
     "name": "stdout",
     "output_type": "stream",
     "text": [
      "~/data/speed_6005.csv\n",
      "0       80\n",
      "1       84\n",
      "2       94\n",
      "3       90\n",
      "4       91\n",
      "        ..\n",
      "2494    81\n",
      "2495    89\n",
      "2496    87\n",
      "2497    82\n",
      "2498    83\n",
      "Name: data, Length: 2499, dtype: int64\n"
     ]
    }
   ],
   "source": [
    "dataSet = 'speed_6005'\n",
    "filePath = '~/data/'+dataSet+'.csv'\n",
    "print(filePath)\n",
    "df = pd.read_csv(filePath, header=1, skiprows=[], names=['timestamp', 'data'])\n",
    "df.head(5)\n",
    "print(df['data'])"
   ]
  },
  {
   "cell_type": "code",
   "execution_count": null,
   "metadata": {},
   "outputs": [
    {
     "name": "stdout",
     "output_type": "stream",
     "text": [
      "<class 'pandas.core.frame.DataFrame'>\n",
      "RangeIndex: 2499 entries, 0 to 2498\n",
      "Data columns (total 2 columns):\n",
      " #   Column     Non-Null Count  Dtype \n",
      "---  ------     --------------  ----- \n",
      " 0   timestamp  2499 non-null   object\n",
      " 1   data       2499 non-null   int64 \n",
      "dtypes: int64(1), object(1)\n",
      "memory usage: 39.2+ KB\n",
      "0       80\n",
      "1       84\n",
      "2       94\n",
      "3       90\n",
      "4       91\n",
      "        ..\n",
      "2494    81\n",
      "2495    89\n",
      "2496    87\n",
      "2497    82\n",
      "2498    83\n",
      "Name: data, Length: 2499, dtype: int64\n"
     ]
    }
   ],
   "source": [
    "df.info()\n",
    "print(df['data'])"
   ]
  },
  {
   "cell_type": "code",
   "execution_count": null,
   "metadata": {},
   "outputs": [
    {
     "name": "stdout",
     "output_type": "stream",
     "text": [
      "0       80\n",
      "1       84\n",
      "2       94\n",
      "3       90\n",
      "4       91\n",
      "        ..\n",
      "2494    81\n",
      "2495    89\n",
      "2496    87\n",
      "2497    82\n",
      "2498    83\n",
      "Name: data, Length: 2499, dtype: int64\n"
     ]
    }
   ],
   "source": [
    "df.isnull().sum()\n",
    "print(df['data'])"
   ]
  },
  {
   "cell_type": "code",
   "execution_count": null,
   "metadata": {},
   "outputs": [
    {
     "name": "stdout",
     "output_type": "stream",
     "text": [
      "0       80\n",
      "1       84\n",
      "2       94\n",
      "3       90\n",
      "4       91\n",
      "        ..\n",
      "2494    81\n",
      "2495    89\n",
      "2496    87\n",
      "2497    82\n",
      "2498    83\n",
      "Name: data, Length: 2499, dtype: int64\n",
      "81.90356142456983\n",
      "8.7451068649251\n"
     ]
    },
    {
     "data": {
      "text/html": [
       "<div>\n",
       "<style scoped>\n",
       "    .dataframe tbody tr th:only-of-type {\n",
       "        vertical-align: middle;\n",
       "    }\n",
       "\n",
       "    .dataframe tbody tr th {\n",
       "        vertical-align: top;\n",
       "    }\n",
       "\n",
       "    .dataframe thead th {\n",
       "        text-align: right;\n",
       "    }\n",
       "</style>\n",
       "<table border=\"1\" class=\"dataframe\">\n",
       "  <thead>\n",
       "    <tr style=\"text-align: right;\">\n",
       "      <th></th>\n",
       "      <th>timestamp</th>\n",
       "      <th>data</th>\n",
       "    </tr>\n",
       "  </thead>\n",
       "  <tbody>\n",
       "    <tr>\n",
       "      <th>0</th>\n",
       "      <td>2015-08-31 18:32:00</td>\n",
       "      <td>-0.217672</td>\n",
       "    </tr>\n",
       "    <tr>\n",
       "      <th>1</th>\n",
       "      <td>2015-08-31 18:57:00</td>\n",
       "      <td>0.239727</td>\n",
       "    </tr>\n",
       "    <tr>\n",
       "      <th>2</th>\n",
       "      <td>2015-08-31 19:07:00</td>\n",
       "      <td>1.383224</td>\n",
       "    </tr>\n",
       "    <tr>\n",
       "      <th>3</th>\n",
       "      <td>2015-08-31 19:12:00</td>\n",
       "      <td>0.925825</td>\n",
       "    </tr>\n",
       "    <tr>\n",
       "      <th>4</th>\n",
       "      <td>2015-08-31 19:17:00</td>\n",
       "      <td>1.040175</td>\n",
       "    </tr>\n",
       "  </tbody>\n",
       "</table>\n",
       "</div>"
      ],
      "text/plain": [
       "             timestamp      data\n",
       "0  2015-08-31 18:32:00 -0.217672\n",
       "1  2015-08-31 18:57:00  0.239727\n",
       "2  2015-08-31 19:07:00  1.383224\n",
       "3  2015-08-31 19:12:00  0.925825\n",
       "4  2015-08-31 19:17:00  1.040175"
      ]
     },
     "execution_count": 15,
     "metadata": {},
     "output_type": "execute_result"
    }
   ],
   "source": [
    "# standardize data by subtracting mean and dividing by std\n",
    "print(df['data'])\n",
    "meanSeq     = np.mean(df['data'])\n",
    "print(meanSeq)\n",
    "stdSeq      = np.std(df['data'])\n",
    "print(stdSeq)\n",
    "df['data'] = (df['data'] - meanSeq)/stdSeq\n",
    "df.head()"
   ]
  },
  {
   "cell_type": "code",
   "execution_count": null,
   "metadata": {},
   "outputs": [],
   "source": []
  },
  {
   "cell_type": "markdown",
   "metadata": {},
   "source": [
    "### Prepare input-target pairs"
   ]
  },
  {
   "cell_type": "code",
   "execution_count": null,
   "metadata": {},
   "outputs": [
    {
     "name": "stdout",
     "output_type": "stream",
     "text": [
      "generate time embedded matrix\n",
      "input shape:  (2499, 10)\n",
      "target shape:  (2499, 1)\n",
      "(2499, 10) (2499, 1)\n"
     ]
    }
   ],
   "source": [
    "def getTimeEmbeddedMatrix(sequence, numLags=100, predictionStep=1):\n",
    "  print(\"generate time embedded matrix\")\n",
    "  inDim = numLags\n",
    "  X = np.zeros(shape=(len(sequence), inDim))\n",
    "  T = np.zeros(shape=(len(sequence), 1))\n",
    "  for i in range(numLags-1, len(sequence)-predictionStep):\n",
    "    X[i, :] = np.array(sequence['data'][(i-numLags+1):(i+1)])\n",
    "    T[i, :] = sequence['data'][i+predictionStep]\n",
    "  print('input shape: ',X.shape)\n",
    "  print('target shape: ',T.shape)\n",
    "  return (X, T)\n",
    "\n",
    "(X, T) = getTimeEmbeddedMatrix(df, numLags = 10, predictionStep = 5)\n",
    "print(X.shape, T.shape)"
   ]
  },
  {
   "cell_type": "code",
   "execution_count": null,
   "metadata": {},
   "outputs": [
    {
     "name": "stdout",
     "output_type": "stream",
     "text": [
      "input_weights: (20, 100)\n",
      "hidden_weights: (20, 20)\n",
      "bias: (1, 20)\n",
      "input features: (1, 100)\n",
      "hidden: (1, 20)\n",
      "hidden: (1, 20)\n"
     ]
    }
   ],
   "source": [
    "def linear_recurrent(features, inputW,hiddenW,hiddenA, bias):\n",
    "  V = np.dot(features, np.transpose(inputW)) + np.dot(hiddenA,hiddenW) + bias\n",
    "  return V\n",
    "\n",
    "def layerNormalization(H, scaleFactor=1, biasFactor=0):\n",
    "\n",
    "  H_normalized = (H-H.mean())/(np.sqrt(H.var() + 0.000001))\n",
    "  H_normalized = scaleFactor*H_normalized+biasFactor\n",
    "\n",
    "  return H_normalized\n",
    "\n",
    "inputW = np.random.random((20,100))\n",
    "print('input_weights:',inputW.shape)\n",
    "\n",
    "hiddenW = np.random.random((20,20))\n",
    "print('hidden_weights:',hiddenW.shape)\n",
    "\n",
    "bias = np.random.random((1,20)) * 2 -1\n",
    "print('bias:', bias.shape)\n",
    "\n",
    "features = np.random.random((1,100))\n",
    "print('input features:', features.shape)\n",
    "\n",
    "hiddenA = np.random.random((1,20))\n",
    "\n",
    "hidden = linear_recurrent(features,inputW,hiddenW,hiddenA,bias)\n",
    "print('hidden:',hidden.shape)\n",
    "\n",
    "hidden = layerNormalization(hidden)\n",
    "print('hidden:',hidden.shape)\n"
   ]
  },
  {
   "cell_type": "code",
   "execution_count": null,
   "metadata": {},
   "outputs": [
    {
     "name": "stdout",
     "output_type": "stream",
     "text": [
      " Unknown activation function type\n"
     ]
    },
    {
     "ename": "NotImplementedError",
     "evalue": "",
     "output_type": "error",
     "traceback": [
      "\u001b[0;31m---------------------------------------------------------------------------\u001b[0m",
      "\u001b[0;31mNotImplementedError\u001b[0m                       Traceback (most recent call last)",
      "\u001b[1;32m/home/macu/work/nbs_pipeline/02c_encoder_ORELM.ipynb Celda 35\u001b[0m line \u001b[0;36m1\n\u001b[0;32m----> <a href='vscode-notebook-cell://attached-container%2B7b22636f6e7461696e65724e616d65223a222f64766174732d6a7570797465722d31222c2273657474696e6773223a7b22686f7374223a227373683a2f2f67342e6574736973692e75706d2e6573227d7d/home/macu/work/nbs_pipeline/02c_encoder_ORELM.ipynb#Y102sdnNjb2RlLXJlbW90ZQ%3D%3D?line=0'>1</a>\u001b[0m m\u001b[39m.\u001b[39;49minitializePhase(lamb\u001b[39m=\u001b[39;49m\u001b[39m0.0001\u001b[39;49m)\n",
      "File \u001b[0;32m~/work/nbs/orelm_torch.py:164\u001b[0m, in \u001b[0;36mORELM_torch.initializePhase\u001b[0;34m(self, lamb)\u001b[0m\n\u001b[1;32m    161\u001b[0m \u001b[39mself\u001b[39m\u001b[39m.\u001b[39minputWeights \u001b[39m=\u001b[39m \u001b[39mself\u001b[39m\u001b[39m.\u001b[39minputWeights \u001b[39m*\u001b[39m \u001b[39m2\u001b[39m \u001b[39m-\u001b[39m \u001b[39m1\u001b[39m\n\u001b[1;32m    163\u001b[0m \u001b[39mif\u001b[39;00m \u001b[39mself\u001b[39m\u001b[39m.\u001b[39mAE:\n\u001b[0;32m--> 164\u001b[0m     \u001b[39mself\u001b[39;49m\u001b[39m.\u001b[39;49minputAE\u001b[39m.\u001b[39;49minitializePhase(lamb\u001b[39m=\u001b[39;49m\u001b[39m0.00001\u001b[39;49m)\n\u001b[1;32m    165\u001b[0m     \u001b[39mself\u001b[39m\u001b[39m.\u001b[39mhiddenAE\u001b[39m.\u001b[39minitializePhase(lamb\u001b[39m=\u001b[39m\u001b[39m0.00001\u001b[39m)\n\u001b[1;32m    166\u001b[0m \u001b[39melse\u001b[39;00m:\n\u001b[1;32m    167\u001b[0m     \u001b[39m# randomly initialize the input->hidden connections\u001b[39;00m\n",
      "File \u001b[0;32m~/lib/orelm/algorithms/FOS_ELM.py:120\u001b[0m, in \u001b[0;36mFOSELM.initializePhase\u001b[0;34m(self, lamb)\u001b[0m\n\u001b[1;32m    118\u001b[0m \u001b[39melse\u001b[39;00m:\n\u001b[1;32m    119\u001b[0m   \u001b[39mprint\u001b[39m (\u001b[39m\"\u001b[39m\u001b[39m Unknown activation function type\u001b[39m\u001b[39m\"\u001b[39m)\n\u001b[0;32m--> 120\u001b[0m   \u001b[39mraise\u001b[39;00m \u001b[39mNotImplementedError\u001b[39;00m\n\u001b[1;32m    122\u001b[0m \u001b[39mself\u001b[39m\u001b[39m.\u001b[39mM \u001b[39m=\u001b[39m inv(lamb\u001b[39m*\u001b[39mnp\u001b[39m.\u001b[39meye(\u001b[39mself\u001b[39m\u001b[39m.\u001b[39mnumHiddenNeurons))\n\u001b[1;32m    123\u001b[0m \u001b[39mself\u001b[39m\u001b[39m.\u001b[39mbeta \u001b[39m=\u001b[39m np\u001b[39m.\u001b[39mzeros([\u001b[39mself\u001b[39m\u001b[39m.\u001b[39mnumHiddenNeurons,\u001b[39mself\u001b[39m\u001b[39m.\u001b[39moutputs])\n",
      "\u001b[0;31mNotImplementedError\u001b[0m: "
     ]
    }
   ],
   "source": [
    "m.initializePhase(lamb=0.0001)"
   ]
  },
  {
   "cell_type": "code",
   "execution_count": null,
   "metadata": {
    "tags": []
   },
   "outputs": [
    {
     "data": {
      "text/html": [
       "Waiting for W&B process to finish... <strong style=\"color:green\">(success).</strong>"
      ],
      "text/plain": [
       "<IPython.core.display.HTML object>"
      ]
     },
     "metadata": {},
     "output_type": "display_data"
    },
    {
     "data": {
      "text/html": [
       "<style>\n",
       "    table.wandb td:nth-child(1) { padding: 0 10px; text-align: left ; width: auto;} td:nth-child(2) {text-align: left ; width: 100%}\n",
       "    .wandb-row { display: flex; flex-direction: row; flex-wrap: wrap; justify-content: flex-start; width: 100% }\n",
       "    .wandb-col { display: flex; flex-direction: column; flex-basis: 100%; flex: 1; padding: 10px; }\n",
       "    </style>\n",
       "<div class=\"wandb-row\"><div class=\"wandb-col\"><h3>Run history:</h3><br/><table class=\"wandb\"><tr><td>epoch</td><td>▁▁▁▂▂▂▂▂▂▃▃▃▃▃▃▄▄▄▄▄▅▅▅▅▅▅▆▆▆▆▆▇▇▇▇▇▇███</td></tr><tr><td>eps_0</td><td>▁▁▁▁▁▁▁▁▁▁▁▁▁▁▁▁▁▁▁▁▁▁▁▁▁▁▁▁▁▁▁▁▁▁▁▁▁▁▁▁</td></tr><tr><td>lr_0</td><td>▁▁▂▃▄▅▆▇███████▇▇▇▇▆▆▆▆▅▅▄▄▄▃▃▃▂▂▂▂▁▁▁▁▁</td></tr><tr><td>mom_0</td><td>██▇▆▅▄▃▂▁▁▁▁▁▁▁▂▂▂▂▃▃▃▃▄▄▅▅▅▆▆▆▇▇▇▇█████</td></tr><tr><td>raw_loss</td><td>█▇▅▅▄▄▅▃▅▃▄▂▃▃▄▃▂▃▂▂▂▂▂▃▂▂▂▁▁▁▂▁▁▁▁▁▁▁▁▁</td></tr><tr><td>sqr_mom_0</td><td>▁▁▁▁▁▁▁▁▁▁▁▁▁▁▁▁▁▁▁▁▁▁▁▁▁▁▁▁▁▁▁▁▁▁▁▁▁▁▁▁</td></tr><tr><td>train_loss</td><td>█▆▅▅▄▄▄▃▄▃▃▃▃▃▃▂▃▃▃▂▂▂▂▂▂▂▂▂▂▁▁▁▁▁▁▁▁▁▁▁</td></tr><tr><td>train_samples_per_sec</td><td>▇▇█▅▇██▇▇▇███▇▇▇▇▇████▇▇▇▇▇▇▅▇▆▇▇▇▁▇█▇██</td></tr><tr><td>valid_loss</td><td>█▆▅▅▄▄▄▄▃▃▃▃▄▃▃▂▂▃▂▂▂▂▂▂▂▂▂▁▁▁▁▁▁▁▁▁▁▁▁▁</td></tr><tr><td>wd_0</td><td>▁▁▁▁▁▁▁▁▁▁▁▁▁▁▁▁▁▁▁▁▁▁▁▁▁▁▁▁▁▁▁▁▁▁▁▁▁▁▁▁</td></tr></table><br/></div><div class=\"wandb-col\"><h3>Run summary:</h3><br/><table class=\"wandb\"><tr><td>epoch</td><td>200</td></tr><tr><td>eps_0</td><td>1e-05</td></tr><tr><td>lr_0</td><td>0.0</td></tr><tr><td>mom_0</td><td>0.95</td></tr><tr><td>raw_loss</td><td>4160444.75</td></tr><tr><td>sqr_mom_0</td><td>0.99</td></tr><tr><td>train_loss</td><td>2829263.5</td></tr><tr><td>train_samples_per_sec</td><td>7102.91126</td></tr><tr><td>valid_loss</td><td>3127244.5</td></tr><tr><td>wd_0</td><td>0.01</td></tr></table><br/></div></div>"
      ],
      "text/plain": [
       "<IPython.core.display.HTML object>"
      ]
     },
     "metadata": {},
     "output_type": "display_data"
    },
    {
     "data": {
      "text/html": [
       " View run <strong style=\"color:#cdcd00\">bumbling-spaceship-41</strong> at: <a href='https://wandb.ai/mi-santamaria/test-project/runs/wb6z89m5' target=\"_blank\">https://wandb.ai/mi-santamaria/test-project/runs/wb6z89m5</a><br/>Synced 6 W&B file(s), 0 media file(s), 0 artifact file(s) and 0 other file(s)"
      ],
      "text/plain": [
       "<IPython.core.display.HTML object>"
      ]
     },
     "metadata": {},
     "output_type": "display_data"
    },
    {
     "data": {
      "text/html": [
       "Find logs at: <code>/home/macu/work/wandb/run-20230809_122124-wb6z89m5/logs</code>"
      ],
      "text/plain": [
       "<IPython.core.display.HTML object>"
      ]
     },
     "metadata": {},
     "output_type": "display_data"
    }
   ],
   "source": [
    "run.finish()"
   ]
  }
 ],
 "metadata": {
  "interpreter": {
   "hash": "d45d555be0220b07bf61be557bfa0ebbf7a95015976aec9a23277863e1bd4593"
  },
  "kernelspec": {
   "display_name": "Python 3 (ipykernel)",
   "language": "python",
   "name": "python3"
  },
  "language_info": {
   "codemirror_mode": {
    "name": "ipython",
    "version": 3
   },
   "file_extension": ".py",
   "mimetype": "text/x-python",
   "name": "python",
   "nbconvert_exporter": "python",
   "pygments_lexer": "ipython3",
   "version": "3.10.8"
  }
 },
 "nbformat": 4,
 "nbformat_minor": 4
}

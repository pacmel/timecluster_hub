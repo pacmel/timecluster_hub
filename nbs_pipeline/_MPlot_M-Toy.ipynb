{
 "cells": [
  {
   "cell_type": "markdown",
   "id": "865a98c3-78f4-4f1d-8f8f-262593e04e4d",
   "metadata": {},
   "source": [
    "# MPlot how-to\n",
    "This notebook is a tutorial for the use of the methods defined in nbs\\mplots.ipybn for analyzig MPlots. This tool is introduced by Eamonn Keogh and has a lot of research behind. The code in this notebook is mainly inspired in the XXVI paper:\n",
    "\n",
    "- [IEEE - Matrix Profile XXVI: Mplots: Scaling Time Series Similarity Matrices to Massive Data](https://ieeexplore.ieee.org/stamp/stamp.jsp?tp=&arnumber=10027730)\n",
    "\n",
    "and following the guidelines of the example of use repository \n",
    "\n",
    "- [Zach Zimmerman - mplots-explorer (GitHub)](https://github.com/zpzim/mplot-explorer)\n",
    "\n",
    "It also integrates methods of Stumpy:\n",
    "- [Tutorial: The Matrix Profile](https://stumpy.readthedocs.io/en/latest/Tutorial_The_Matrix_Profile.html#Time-Series-with-Length-n-=-13)\n",
    "\n",
    "Feel free of modifying the parameters and open issue in case of error!"
   ]
  },
  {
   "cell_type": "code",
   "execution_count": 1,
   "id": "16e65b93-a99f-4339-947e-9bb0ec0deade",
   "metadata": {},
   "outputs": [],
   "source": [
    "#| export\n",
    "verbose                       = 1\n",
    "reset_kernel                  = True\n",
    "pre_configured_case           = True\n",
    "case_id                       = 7\n",
    "frequency_factor              = 1\n",
    "frequency_factor_change_alias = True\n",
    "cuda_device                   = 1"
   ]
  },
  {
   "cell_type": "code",
   "execution_count": 2,
   "id": "fd5bcdc2-e76b-4db9-8908-4b1bab13c22a",
   "metadata": {},
   "outputs": [],
   "source": [
    "#| export\n",
    "# This is only needed if the notebook is run in VSCode\n",
    "import sys\n",
    "import dvats.utils as ut\n",
    "if '--vscode' in sys.argv:\n",
    "    print(\"Executing inside vscode\")\n",
    "    ut.DisplayHandle.update = ut.update_patch"
   ]
  },
  {
   "cell_type": "code",
   "execution_count": 3,
   "id": "5be22a52-8d23-4d2a-9bd0-a3142509a67e",
   "metadata": {},
   "outputs": [],
   "source": [
    "#| export\n",
    "import dvats.config as cfg_"
   ]
  },
  {
   "cell_type": "code",
   "execution_count": 4,
   "id": "22c16108-34ca-4b06-85de-818baa4379ef",
   "metadata": {},
   "outputs": [
    {
     "name": "stdout",
     "output_type": "stream",
     "text": [
      "Available datasets: \n",
      "0 - monash_australian_electricity_demand_0\n",
      "1 - monash_solar_4_seconds_0\n",
      "2 - wikipedia_0\n",
      "3 - traffic_san_francisco_0\n",
      "4 - monash_solar_10_minutes_0\n",
      "5 - etth1_0\n",
      "6 - stumpy_abp_0\n",
      "7 - stumpy_toy_0\n"
     ]
    }
   ],
   "source": [
    "cfg_.show_available_configs()"
   ]
  },
  {
   "cell_type": "markdown",
   "id": "174e560e-9013-407f-bcdb-548257d08083",
   "metadata": {},
   "source": [
    "If you don't have the M-toy dataset. Please download it from [zenodo](https://zenodo.org/records/4328047/files/toy.csv). You can check more about it in [Stumpy](https://stumpy.readthedocs.io/en/latest/Tutorial_Multidimensional_Motif_Discovery.html) and see our previous analysis at the [Original DeepVATS paper](https://www.sciencedirect.com/science/article/pii/S0950705123005439)."
   ]
  },
  {
   "cell_type": "markdown",
   "id": "bee9eb35-ebce-412f-b2c9-9eb48cb26fb3",
   "metadata": {},
   "source": [
    "## Main code\n",
    "### Import libraries"
   ]
  },
  {
   "cell_type": "markdown",
   "id": "462c5cb9-4fe7-49f6-b352-062107d6662a",
   "metadata": {},
   "source": [
    "## Main code\n",
    "### Import libraries"
   ]
  },
  {
   "cell_type": "code",
   "execution_count": 5,
   "id": "10305f21-d907-4837-a388-1ac8e632f99a",
   "metadata": {},
   "outputs": [
    {
     "name": "stdout",
     "output_type": "stream",
     "text": [
      "\u001b[?2004l\n",
      "Octave is ready <oct2py.core.Oct2Py object at 0x7f540c9b2410>\n",
      "\u001b[?2004l\n",
      "\u001b[?2004l\n",
      "\u001b[?2004l\n",
      "\u001b[?2004l\n",
      "\u001b[?2004l\n",
      "\u001b[?2004l\n",
      "\u001b[?2004l\n",
      "\u001b[?2004l\n",
      "\u001b[?2004l\n",
      "\u001b[?2004l\n",
      "\u001b[?2004l\n",
      "\u001b[?2004l\n",
      "\u001b[?2004l\n",
      "\u001b[?2004l\n",
      "\u001b[?2004l\n"
     ]
    }
   ],
   "source": [
    "#| export\n",
    "import warnings\n",
    "warnings.filterwarnings(\"ignore\", module=\"umap\")\n",
    "import os\n",
    "import sys\n",
    "sys.path.append(os.path.abspath('..'))\n",
    "from dvats.all import *\n",
    "from fastcore.all import *\n",
    "from tsai.basics import *\n",
    "from tsai.models.InceptionTimePlus import *\n",
    "from tsai.callback.MVP import *\n",
    "import matplotlib.colors as colors\n",
    "from fastai.callback.wandb import WandbCallback\n",
    "from fastai.callback.progress import ShowGraphCallback\n",
    "from fastai.callback.schedule import *\n",
    "from fastai.callback.tracker import EarlyStoppingCallback\n",
    "import wandb"
   ]
  },
  {
   "cell_type": "markdown",
   "id": "81af3a6b-6034-42f3-a327-2fafc92a2add",
   "metadata": {},
   "source": [
    "### Initialize and Configurate Artifact"
   ]
  },
  {
   "cell_type": "markdown",
   "id": "c451210f-d7db-401c-afba-53d47deb6f9c",
   "metadata": {},
   "source": [
    "#### Initialize Weights and Biases"
   ]
  },
  {
   "cell_type": "code",
   "execution_count": 6,
   "id": "c6be6099-87b7-4c4a-8166-0b270cb411b5",
   "metadata": {},
   "outputs": [],
   "source": [
    "#| export\n",
    "wandb_api = wandb.Api()"
   ]
  },
  {
   "cell_type": "markdown",
   "id": "69be6342-8358-4a37-a59f-b16fdd5a5b6e",
   "metadata": {},
   "source": [
    "#### Setup CUDA"
   ]
  },
  {
   "cell_type": "code",
   "execution_count": 7,
   "id": "02ac05bb-233c-44e7-80d9-7803063afaef",
   "metadata": {},
   "outputs": [
    {
     "name": "stdout",
     "output_type": "stream",
     "text": [
      "GPU Device 1\n",
      "Device cuda:1\n",
      "GPU | Used mem: 3\n",
      "GPU | Used mem: 24\n",
      "GPU | Memory Usage: [\u001b[90m██------------------\u001b[0m] \u001b[90m12%\u001b[0m\n"
     ]
    }
   ],
   "source": [
    "#| export\n",
    "device = torch.device(f'cuda:{cuda_device}' if torch.cuda.is_available() else 'cpu')\n",
    "torch.cuda.set_device(device)\n",
    "\n",
    "gpu_device = torch.cuda.current_device()\n",
    "print(\"GPU Device\", gpu_device)\n",
    "print(\"Device\", device)\n",
    "gpu_memory_status(gpu_device)"
   ]
  },
  {
   "cell_type": "markdown",
   "id": "98e54745-39d0-48d1-98c3-2b9149deaca8",
   "metadata": {},
   "source": [
    "### Get configutation from yml\n",
    "> This file used the configuration files './config/base.yml' and './config/06_MPlots.ipynb'"
   ]
  },
  {
   "cell_type": "code",
   "execution_count": 8,
   "id": "8b06fad8-f42e-44a9-9f17-9a1e313b4d29",
   "metadata": {},
   "outputs": [
    {
     "ename": "TypeError",
     "evalue": "force_artifact_config_mvp() got an unexpected keyword argument 'verbose'",
     "output_type": "error",
     "traceback": [
      "\u001b[0;31m---------------------------------------------------------------------------\u001b[0m",
      "\u001b[0;31mTypeError\u001b[0m                                 Traceback (most recent call last)",
      "Cell \u001b[0;32mIn[8], line 4\u001b[0m\n\u001b[1;32m      2\u001b[0m user, project, version, data, config, job_type \u001b[38;5;241m=\u001b[39m cfg_\u001b[38;5;241m.\u001b[39mget_artifact_config_MVP(\u001b[38;5;28;01mFalse\u001b[39;00m)\n\u001b[1;32m      3\u001b[0m \u001b[38;5;28;01mif\u001b[39;00m pre_configured_case: \n\u001b[0;32m----> 4\u001b[0m     \u001b[43mcfg_\u001b[49m\u001b[38;5;241;43m.\u001b[39;49m\u001b[43mforce_artifact_config_mvp\u001b[49m\u001b[43m(\u001b[49m\n\u001b[1;32m      5\u001b[0m \u001b[43m        \u001b[49m\u001b[43mconfig\u001b[49m\u001b[43m \u001b[49m\u001b[38;5;241;43m=\u001b[39;49m\u001b[43m \u001b[49m\u001b[43mconfig\u001b[49m\u001b[43m,\u001b[49m\n\u001b[1;32m      6\u001b[0m \u001b[43m        \u001b[49m\u001b[38;5;28;43mid\u001b[39;49m\u001b[43m \u001b[49m\u001b[38;5;241;43m=\u001b[39;49m\u001b[43m \u001b[49m\u001b[43mcase_id\u001b[49m\u001b[43m,\u001b[49m\n\u001b[1;32m      7\u001b[0m \u001b[43m        \u001b[49m\u001b[43mverbose\u001b[49m\u001b[43m \u001b[49m\u001b[38;5;241;43m=\u001b[39;49m\u001b[43m \u001b[49m\u001b[43mverbose\u001b[49m\u001b[43m,\u001b[49m\u001b[43m \u001b[49m\n\u001b[1;32m      8\u001b[0m \u001b[43m        \u001b[49m\u001b[43mboth\u001b[49m\u001b[43m \u001b[49m\u001b[38;5;241;43m=\u001b[39;49m\u001b[43m \u001b[49m\u001b[43mverbose\u001b[49m\u001b[43m \u001b[49m\u001b[38;5;241;43m>\u001b[39;49m\u001b[43m \u001b[49m\u001b[38;5;241;43m0\u001b[39;49m\u001b[43m,\u001b[49m\n\u001b[1;32m      9\u001b[0m \u001b[43m        \u001b[49m\u001b[43mfrequency_factor\u001b[49m\u001b[43m \u001b[49m\u001b[38;5;241;43m=\u001b[39;49m\u001b[43m \u001b[49m\u001b[43mfrequency_factor\u001b[49m\u001b[43m,\u001b[49m\n\u001b[1;32m     10\u001b[0m \u001b[43m        \u001b[49m\u001b[43mfrequency_factor_change_alias\u001b[49m\u001b[43m \u001b[49m\u001b[38;5;241;43m=\u001b[39;49m\u001b[43m \u001b[49m\u001b[43mfrequency_factor_change_alias\u001b[49m\n\u001b[1;32m     11\u001b[0m \u001b[43m    \u001b[49m\u001b[43m)\u001b[49m\n",
      "\u001b[0;31mTypeError\u001b[0m: force_artifact_config_mvp() got an unexpected keyword argument 'verbose'"
     ]
    }
   ],
   "source": [
    "#| export\n",
    "user, project, version, data, config, job_type = cfg_.get_artifact_config_MVP(False)\n",
    "if pre_configured_case: \n",
    "    cfg_.force_artifact_config_mvp(\n",
    "        config = config,\n",
    "        id = case_id,\n",
    "        verbose = verbose, \n",
    "        both = verbose > 0,\n",
    "        frequency_factor = frequency_factor,\n",
    "        frequency_factor_change_alias = frequency_factor_change_alias\n",
    "    )"
   ]
  },
  {
   "cell_type": "markdown",
   "id": "6d41d07f-8a74-42e8-86d4-7f2fe5bdd3f6",
   "metadata": {},
   "source": [
    "### Setup Weights & biases artiffact"
   ]
  },
  {
   "cell_type": "code",
   "execution_count": null,
   "id": "8f8623ac-a6be-4851-91df-dcc9bf0d3a06",
   "metadata": {},
   "outputs": [],
   "source": [
    "#| export\n",
    "path = os.path.expanduser(\"~/work/nbs_pipeline/\")\n",
    "name=\"06_MPlots\"\n",
    "os.environ[\"WANDB_NOTEBOOK_NAME\"] = path+name+\".ipynb\"\n",
    "runname=name\n",
    "if verbose > 0: print(\"runname: \"+runname)\n",
    "if verbose > 0: cfg_.show_attrdict(config)"
   ]
  },
  {
   "cell_type": "code",
   "execution_count": null,
   "id": "e52584e0-b68b-4719-a111-eda505f3cb51",
   "metadata": {},
   "outputs": [],
   "source": [
    "job_type = 'MPlot'\n",
    "job_type"
   ]
  },
  {
   "cell_type": "markdown",
   "id": "ad73b5e3-adc5-45c0-b7ce-d0c71857e5b6",
   "metadata": {},
   "source": [
    "### Start W&B Run"
   ]
  },
  {
   "cell_type": "code",
   "execution_count": null,
   "id": "740086e3-131c-4f7a-b23d-98f8737c794c",
   "metadata": {},
   "outputs": [],
   "source": [
    "#| export\n",
    "if verbose > 0: print(\"--> Wandb init\")\n",
    "run = wandb.init(\n",
    "    entity           = user,\n",
    "    # work-nbs is a place to log draft runs\n",
    "    project          = project,\n",
    "    group            = config.wandb_group,\n",
    "    job_type         = job_type,\n",
    "    allow_val_change = True,\n",
    "    mode             = config.analysis_mode,\n",
    "    config           = config,\n",
    "    # When use_wandb is false the run is not linked to a personal account\n",
    "    #NOTE: This is not working right now\n",
    "    anonymous        = 'never' if config.use_wandb else 'must', \n",
    "    resume           = False,\n",
    "    name             = runname\n",
    ")\n",
    "if verbose > 0: print(\"Wandb init -->\")\n",
    "config = run.config  # Object for storing hyperparameters\n",
    "artifacts_gettr = run.use_artifact if config.use_wandb else wandb_api.artifact"
   ]
  },
  {
   "cell_type": "markdown",
   "id": "e15ec343-1762-4770-9eec-dce3201c17ca",
   "metadata": {},
   "source": [
    "### Generating the MPlots"
   ]
  },
  {
   "cell_type": "markdown",
   "id": "a29213f5-3457-4094-aa83-a1878b4c84a0",
   "metadata": {},
   "source": [
    "#### Get W&B train artifact\n",
    "Build artifact selector\n",
    "Botch to use artifacts offline"
   ]
  },
  {
   "cell_type": "code",
   "execution_count": null,
   "id": "09ef9889-db9f-4695-9d77-f1dfa8d54f67",
   "metadata": {},
   "outputs": [],
   "source": [
    "#| export\n",
    "config = run.config  # Object for storing hyperparameters\n",
    "if verbose > 0: cfg_.show_attrdict(config)\n",
    "artifacts_gettr = run.use_artifact if config.use_wandb else wandb_api.artifact\n",
    "train_artifact = artifacts_gettr(config.train_artifact)\n",
    "if verbose > 0: print(\"---> W&B Train Artifact\")"
   ]
  },
  {
   "cell_type": "code",
   "execution_count": null,
   "id": "8921c414-d27b-42f9-b789-6343eafa7d85",
   "metadata": {},
   "outputs": [],
   "source": [
    "#| export\n",
    "df_train = train_artifact.to_df()"
   ]
  },
  {
   "cell_type": "code",
   "execution_count": null,
   "id": "2525718f-b88a-4240-9a15-59b9efb879ef",
   "metadata": {},
   "outputs": [],
   "source": [
    "#| export\n",
    "if verbose > 0: \n",
    "    print(df_train.shape)\n",
    "    display(df_train.head)\n",
    "    print(\"df_train ~ \", df_train.shape)\n",
    "    print(\"window_sizes = \", config.mvp_ws)\n",
    "    print(\"wlen = \", config.w)\n",
    "    df_train.head"
   ]
  },
  {
   "cell_type": "code",
   "execution_count": null,
   "id": "d53f894b-9555-422d-926b-01a502200172",
   "metadata": {},
   "outputs": [],
   "source": [
    "import dvats.mplots as mplots"
   ]
  },
  {
   "cell_type": "code",
   "execution_count": null,
   "id": "685df590-ca1d-4038-9997-a60243e9f718",
   "metadata": {},
   "outputs": [],
   "source": [
    "import numpy as np\n",
    "import matplotlib.pyplot as plt\n",
    "from mpl_toolkits.axes_grid1 import ImageGrid\n",
    "from matplotlib.gridspec import GridSpec\n",
    "import pyscamp as scamp\n",
    "import dvats.memory as mem"
   ]
  },
  {
   "cell_type": "code",
   "execution_count": null,
   "id": "11daff99-ddb2-43f2-90e2-676e4696196f",
   "metadata": {},
   "outputs": [],
   "source": [
    "mem.gpu_memory_status()"
   ]
  },
  {
   "cell_type": "code",
   "execution_count": null,
   "id": "04ffc377-82e7-412c-af3f-063728d7fa84",
   "metadata": {},
   "outputs": [],
   "source": [
    "# Allows checking if pyscamp was built with CUDA and has GPU support.\n",
    "has_gpu_support = scamp.gpu_supported()\n",
    "has_gpu_support"
   ]
  },
  {
   "cell_type": "code",
   "execution_count": null,
   "id": "9394d310-305a-4810-8ba4-601a43c9b0cd",
   "metadata": {},
   "outputs": [],
   "source": [
    "ts_step = 1\n",
    "#the most relevant is T3\n",
    "ts = df_train.iloc[:,2].values[::ts_step]\n",
    "print(len(ts))"
   ]
  },
  {
   "cell_type": "code",
   "execution_count": null,
   "id": "32dc3f93-e269-48aa-9144-ee0d9faa7173",
   "metadata": {},
   "outputs": [],
   "source": [
    "#subsequence_len = config.w\n",
    "subsequence_len = 30 #90 --> no sirve de nada\n",
    "print(subsequence_len)"
   ]
  },
  {
   "cell_type": "markdown",
   "id": "19bec365-c5b4-4b83-82a2-698a6ea4875c",
   "metadata": {},
   "source": [
    "#### Compute MPlot"
   ]
  },
  {
   "cell_type": "code",
   "execution_count": null,
   "id": "4f378862-67dd-4a38-8070-f1c8c0594d81",
   "metadata": {},
   "outputs": [],
   "source": [
    "data_MP = mplots.MatrixProfile(\n",
    "    data      = ts, \n",
    "    data_b    = ts, \n",
    "    self_join = False\n",
    ") "
   ]
  },
  {
   "cell_type": "code",
   "execution_count": null,
   "id": "0af43fae-1007-4987-adb0-30a5d012814b",
   "metadata": {},
   "outputs": [],
   "source": [
    "data_MP.provide_lens(1)\n",
    "data_MP.dominant_lens"
   ]
  },
  {
   "cell_type": "code",
   "execution_count": null,
   "id": "d859829d-efb1-4a44-b5e1-410042a84de0",
   "metadata": {},
   "outputs": [],
   "source": [
    "data_MPlot = mplots.MatrixProfilePlot(\n",
    "    DM_AB           = mplots.DistanceMatrix(), \n",
    "    MP_AB           = data_MP,\n",
    "    data            = ts, \n",
    "    data_b          = ts,\n",
    "    subsequence_len = subsequence_len,\n",
    "    self_join       = False\n",
    ")"
   ]
  },
  {
   "cell_type": "code",
   "execution_count": null,
   "id": "0dd847c9-b6d8-4575-8f39-91c7171b9c18",
   "metadata": {},
   "outputs": [],
   "source": [
    "#| hide\n",
    "print(\"MP_AB self_join\", data_MPlot.MP_AB.self_join)\n",
    "print(f\"DM_AB ~ {data_MPlot.DM_AB.shape}\")\n",
    "print(\"MP_AB method:\", data_MPlot.MP_AB.method)\n",
    "print(\"DM_AB method:\", data_MPlot.DM_AB.method)"
   ]
  },
  {
   "cell_type": "code",
   "execution_count": null,
   "id": "09ba36d0-18e4-4b17-bccb-6ef453f12793",
   "metadata": {},
   "outputs": [],
   "source": [
    "mplots.plot_with_dots(\n",
    "    time_series = data_MPlot.data,\n",
    "    title = \"Checking expected motif\", \n",
    "    fontsize = 10, \n",
    "    dots = False, \n",
    "    sequence_flag = False,\n",
    "    figsize = (6,4)\n",
    ")"
   ]
  },
  {
   "cell_type": "code",
   "execution_count": null,
   "id": "233c32f1-3a50-4d74-9859-832de1e03d3e",
   "metadata": {},
   "outputs": [],
   "source": [
    "mp_method = 'stump'\n",
    "dm_method = 'stump'"
   ]
  },
  {
   "cell_type": "code",
   "execution_count": null,
   "id": "030eb8ae-b900-4e9d-9801-fbde932bbde7",
   "metadata": {},
   "outputs": [],
   "source": [
    "# Threshold per method\n",
    "threshold_scamp = 5\n",
    "threshold_stump = 7.6\n",
    "#Select the threshold for the method used for the computation\n",
    "threshold = threshold_stump if data_MPlot.DM_AB.method == 'stump' else threshold_scamp"
   ]
  },
  {
   "cell_type": "code",
   "execution_count": null,
   "id": "ff464a88-8aa3-4712-8c7b-3e54adb89983",
   "metadata": {},
   "outputs": [],
   "source": [
    "data_MPlot.compute(\n",
    "    mp_method           = mp_method, \n",
    "    dm_method           = dm_method,\n",
    "    d                   = mplots.z_normalized_euclidean_distance,\n",
    "    debug               = False,\n",
    "    time_flag           = True,\n",
    "    allow_experimental  = False,\n",
    "    ensure_symetric     = False,\n",
    "    max_points          = 10000,\n",
    "    #nlens              = 5,\n",
    "    subsequence_len     = subsequence_len,\n",
    "    #provide_len        = True,\n",
    "    provide_len         = False,\n",
    "    downsample_flag     = True,\n",
    "    min_lag             = 8,\n",
    "    verbose             = 0,\n",
    "    threads             = 1,\n",
    "    gpus                = [1]\n",
    ")"
   ]
  },
  {
   "cell_type": "code",
   "execution_count": null,
   "id": "453366ff-da84-4e10-a8ca-5937b672d705",
   "metadata": {},
   "outputs": [],
   "source": [
    "n_a = len(data_MPlot.data)\n",
    "n_b = len(data_MPlot.data_b)\n",
    "print(\"-- DM Expected dimensions -- \")\n",
    "print(\"Rows: \", n_b - data_MPlot.subsequence_len + 1)\n",
    "print(\"Columns: \", n_a - data_MPlot.subsequence_len + 1)\n",
    "print(f\"-- Obtained shape when computing using  {data_MPlot.DM_AB.method} --\")\n",
    "print(data_MPlot.DM_AB.shape)\n",
    "print(f\"-- MP dimension using {data_MPlot.MP_AB.method}\")\n",
    "print(len(data_MPlot.MP_AB.distances))\n",
    "print(\"-- DM Values --\")\n",
    "print(data_MPlot.DM_AB.distances)\n",
    "print(\"-- MP values --\")\n",
    "print(data_MPlot.MP_AB.distances)"
   ]
  },
  {
   "cell_type": "code",
   "execution_count": null,
   "id": "7210f70a-087d-4c85-9594-2f8ebc9851b9",
   "metadata": {},
   "outputs": [],
   "source": [
    "data_MPlot.MP_AB.get_anomaly_idx()\n",
    "print(data_MPlot.MP_AB.discord_idx)\n",
    "print(data_MPlot.MP_AB.discord_nearest_neighbor_idx)\n",
    "print(data_MPlot.MP_AB.discord_nearest_neighbor_idx_left)\n",
    "print(data_MPlot.MP_AB.discord_nearest_neighbor_idx_right)"
   ]
  },
  {
   "cell_type": "code",
   "execution_count": null,
   "id": "658d56f0-ee5b-4e55-9030-3a6797e743f0",
   "metadata": {},
   "outputs": [],
   "source": [
    "%matplotlib widget\n",
    "data_MPlot.MP_AB.plot_interactive(\n",
    "    figsize = (8,8),\n",
    "    verbose =  0\n",
    ")"
   ]
  },
  {
   "cell_type": "markdown",
   "id": "fb879627-4890-4b05-aee5-97c2cc3cda88",
   "metadata": {},
   "source": [
    "Looking for approximately this indexes"
   ]
  },
  {
   "cell_type": "code",
   "execution_count": null,
   "id": "b357e42b-dbe9-4fcd-b620-640d52accc75",
   "metadata": {},
   "outputs": [],
   "source": [
    "mplots.plot_subsequence(\n",
    "    TA = ts, \n",
    "    sequence_i = 30*5,\n",
    "    subsequence_len = subsequence_len,\n",
    "    dots = False,\n",
    "    sequence_flag = False,\n",
    "    save_plot = True,\n",
    "    plot_path = \"./images\",\n",
    "    subsequence_color = \"orange\",\n",
    "    sequence_color = 'black'\n",
    ")"
   ]
  },
  {
   "cell_type": "code",
   "execution_count": null,
   "id": "0031c6fc-6892-4fad-a104-a2e566d0c8fb",
   "metadata": {},
   "outputs": [],
   "source": [
    "mplots.plot_subsequence(\n",
    "    TA = ts, \n",
    "    sequence_i = 30*12,\n",
    "    subsequence_len = subsequence_len,\n",
    "    dots = False,\n",
    "    sequence_flag = False,\n",
    "    save_plot = True,\n",
    "    plot_path = \"./images\",\n",
    "    subsequence_color = \"orange\",\n",
    "    sequence_color = \"black\"\n",
    ")"
   ]
  },
  {
   "cell_type": "markdown",
   "id": "66f0ba6b-cfa9-47b3-8ec3-855e98586a7c",
   "metadata": {},
   "source": [
    "what does the MPlot says?"
   ]
  },
  {
   "cell_type": "code",
   "execution_count": null,
   "id": "ab364648-d2b4-4a25-af30-bb001f5237fd",
   "metadata": {},
   "outputs": [],
   "source": [
    "print(\"Threshold: \", threshold)\n",
    "data_MPlot.plot(\n",
    "    ts_name      = 'Variable 0',\n",
    "    figsize      = (8,5),\n",
    "    less_labels  = True,\n",
    "    #r_min        = 0,\n",
    "    #r_max        = 1000,\n",
    "    #c_min        = 4500,\n",
    "    #c_max        = 6000,\n",
    "    dm_filter    = mplots.threshold_interval,\n",
    "    th_min       = 8.5,\n",
    "    th_max       = np.inf,\n",
    "    include_min  = False,\n",
    "    include_max  = True,\n",
    "    gray_color   = False,\n",
    "    plot_mp_flag = False,\n",
    "    verbose      = 1\n",
    ")"
   ]
  },
  {
   "cell_type": "code",
   "execution_count": null,
   "id": "276f4dcf-5947-4245-a26c-3866c3d6ae90",
   "metadata": {},
   "outputs": [],
   "source": [
    "print(\"Threshold: \", threshold)\n",
    "data_MPlot.plot(\n",
    "    ts_name      = 'Variable 0',\n",
    "    figsize      = (8,5),\n",
    "    less_labels  = True,\n",
    "    r_min        = 0,\n",
    "    r_max        = 150,\n",
    "    c_min        = 50,\n",
    "    c_max        = 200,\n",
    "    dm_filter    = mplots.threshold_interval,\n",
    "    th_min       = 7.8,\n",
    "    th_max       = np.inf,\n",
    "    include_min  = False,\n",
    "    include_max  = True,\n",
    "    gray_color   = False,\n",
    "    plot_mp_flag = False,\n",
    "    verbose      = 1\n",
    ")"
   ]
  },
  {
   "cell_type": "code",
   "execution_count": null,
   "id": "2cd7315c-4cb8-4298-884d-41af8510b241",
   "metadata": {},
   "outputs": [],
   "source": [
    "print(\"Threshold: \", threshold)\n",
    "data_MPlot.plot(\n",
    "    ts_name      = 'Variable 0',\n",
    "    figsize      = (8,5),\n",
    "    less_labels  = True,\n",
    "    r_min        = 0,\n",
    "    r_max        = 300,\n",
    "    c_min        = 250,\n",
    "    c_max        = 550,\n",
    "    dm_filter    = mplots.threshold_interval,\n",
    "    th_min       = 7.5,\n",
    "    th_max       = np.inf,\n",
    "    include_min  = True,\n",
    "    include_max  = True,\n",
    "    gray_color   = False,\n",
    "    plot_mp_flag = False,\n",
    "    verbose      = 1\n",
    ")"
   ]
  },
  {
   "cell_type": "code",
   "execution_count": null,
   "id": "3dc416d4-71f4-42ec-a820-b092e066fd5b",
   "metadata": {},
   "outputs": [],
   "source": []
  }
 ],
 "metadata": {
  "kernelspec": {
   "display_name": "Python 3 (ipykernel)",
   "language": "python",
   "name": "python3"
  },
  "language_info": {
   "codemirror_mode": {
    "name": "ipython",
    "version": 3
   },
   "file_extension": ".py",
   "mimetype": "text/x-python",
   "name": "python",
   "nbconvert_exporter": "python",
   "pygments_lexer": "ipython3",
   "version": "3.10.13"
  }
 },
 "nbformat": 4,
 "nbformat_minor": 5
}

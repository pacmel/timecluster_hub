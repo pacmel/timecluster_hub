{
 "cells": [
  {
   "cell_type": "markdown",
   "id": "99cad8a7-e0c4-4636-b046-ea434bba7150",
   "metadata": {},
   "source": [
    "Load & convert from matlab matrix to csv"
   ]
  },
  {
   "cell_type": "code",
   "execution_count": null,
   "id": "1e72a1e8-e671-46fa-beb2-08d07981d642",
   "metadata": {},
   "outputs": [],
   "source": [
    "import pandas as pd\n",
    "from scipy.io import loadmat"
   ]
  },
  {
   "cell_type": "code",
   "execution_count": null,
   "id": "e92670a2-88a1-4c58-bf34-7b67e2eb561b",
   "metadata": {},
   "outputs": [],
   "source": [
    "file_name = \"MP_first_test_penguin_sample\"\n",
    "file_path = \"../../data/\""
   ]
  },
  {
   "cell_type": "code",
   "execution_count": null,
   "id": "33c858ca-6172-4125-9aec-ce8c571cfa94",
   "metadata": {},
   "outputs": [],
   "source": [
    "%ls {file_path}{file_name}.mat"
   ]
  },
  {
   "cell_type": "code",
   "execution_count": null,
   "id": "e8c228a1-37e7-4b62-b869-e85c72f80033",
   "metadata": {},
   "outputs": [],
   "source": [
    "mat = loadmat(file_path+file_name+'.mat')"
   ]
  },
  {
   "cell_type": "code",
   "execution_count": null,
   "id": "96f39946-6f6a-49a4-b5b5-9e0e315ec152",
   "metadata": {},
   "outputs": [],
   "source": [
    "mat"
   ]
  },
  {
   "cell_type": "code",
   "execution_count": null,
   "id": "a928b62e-4089-416c-8d20-360242642f09",
   "metadata": {},
   "outputs": [],
   "source": [
    "data = mat['penguin_sample']"
   ]
  },
  {
   "cell_type": "code",
   "execution_count": null,
   "id": "4dd7e61d-f067-4be8-a89d-b9b9976d5c4f",
   "metadata": {},
   "outputs": [],
   "source": [
    "df = pd.DataFrame(data)"
   ]
  },
  {
   "cell_type": "code",
   "execution_count": null,
   "id": "8390a830-04fe-4e61-a6d1-f052efcabd56",
   "metadata": {},
   "outputs": [],
   "source": [
    "df.head()"
   ]
  },
  {
   "cell_type": "code",
   "execution_count": null,
   "id": "a2ccc7fb-d6d4-4d9f-933e-95aeb334afcd",
   "metadata": {},
   "outputs": [],
   "source": [
    "df.to_csv(file_path + file_name+'.csv', index=False)  # Establece index=False si no quieres guardar el índice."
   ]
  },
  {
   "cell_type": "code",
   "execution_count": null,
   "id": "5a7946fc-a9c5-440f-ae84-cc57e7eb59b5",
   "metadata": {},
   "outputs": [],
   "source": [
    "%ls {file_path}{file_name}.csv"
   ]
  }
 ],
 "metadata": {
  "kernelspec": {
   "display_name": "Python 3 (ipykernel)",
   "language": "python",
   "name": "python3"
  }
 },
 "nbformat": 4,
 "nbformat_minor": 5
}

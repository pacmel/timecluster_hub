{
 "cells": [
  {
   "cell_type": "markdown",
   "id": "99cad8a7-e0c4-4636-b046-ea434bba7150",
   "metadata": {},
   "source": [
    "Load & convert from matlab matrix to csv"
   ]
  },
  {
   "cell_type": "code",
   "execution_count": 1,
   "id": "1e72a1e8-e671-46fa-beb2-08d07981d642",
   "metadata": {},
   "outputs": [],
   "source": [
    "import pandas as pd\n",
    "from scipy.io import loadmat"
   ]
  },
  {
   "cell_type": "code",
   "execution_count": 23,
   "id": "e92670a2-88a1-4c58-bf34-7b67e2eb561b",
   "metadata": {},
   "outputs": [],
   "source": [
    "file_name = \"MP_first_test_penguin_sample\"\n",
    "file_path = \"../../data/\""
   ]
  },
  {
   "cell_type": "code",
   "execution_count": 24,
   "id": "33c858ca-6172-4125-9aec-ce8c571cfa94",
   "metadata": {},
   "outputs": [
    {
     "name": "stdout",
     "output_type": "stream",
     "text": [
      "../../data/MP_first_test_penguin_sample.mat\n"
     ]
    }
   ],
   "source": [
    "%ls {file_path}{file_name}.mat"
   ]
  },
  {
   "cell_type": "code",
   "execution_count": 25,
   "id": "e8c228a1-37e7-4b62-b869-e85c72f80033",
   "metadata": {},
   "outputs": [],
   "source": [
    "mat = loadmat(file_path+file_name+'.mat')"
   ]
  },
  {
   "cell_type": "code",
   "execution_count": 27,
   "id": "96f39946-6f6a-49a4-b5b5-9e0e315ec152",
   "metadata": {},
   "outputs": [
    {
     "data": {
      "text/plain": [
       "{'__header__': b'MATLAB 5.0 MAT-file, Platform: PCWIN64, Created on: Fri Dec 02 16:41:27 2016',\n",
       " '__version__': '1.0',\n",
       " '__globals__': [],\n",
       " 'penguin_sample': array([[0.253906 ],\n",
       "        [0.259033 ],\n",
       "        [0.269287 ],\n",
       "        ...,\n",
       "        [0.0559082],\n",
       "        [0.064209 ],\n",
       "        [0.059082 ]])}"
      ]
     },
     "execution_count": 27,
     "metadata": {},
     "output_type": "execute_result"
    }
   ],
   "source": [
    "mat"
   ]
  },
  {
   "cell_type": "code",
   "execution_count": 28,
   "id": "a928b62e-4089-416c-8d20-360242642f09",
   "metadata": {},
   "outputs": [],
   "source": [
    "data = mat['penguin_sample']"
   ]
  },
  {
   "cell_type": "code",
   "execution_count": 29,
   "id": "4dd7e61d-f067-4be8-a89d-b9b9976d5c4f",
   "metadata": {},
   "outputs": [],
   "source": [
    "df = pd.DataFrame(data)"
   ]
  },
  {
   "cell_type": "code",
   "execution_count": 30,
   "id": "8390a830-04fe-4e61-a6d1-f052efcabd56",
   "metadata": {},
   "outputs": [
    {
     "data": {
      "text/html": [
       "<div>\n",
       "<style scoped>\n",
       "    .dataframe tbody tr th:only-of-type {\n",
       "        vertical-align: middle;\n",
       "    }\n",
       "\n",
       "    .dataframe tbody tr th {\n",
       "        vertical-align: top;\n",
       "    }\n",
       "\n",
       "    .dataframe thead th {\n",
       "        text-align: right;\n",
       "    }\n",
       "</style>\n",
       "<table border=\"1\" class=\"dataframe\">\n",
       "  <thead>\n",
       "    <tr style=\"text-align: right;\">\n",
       "      <th></th>\n",
       "      <th>0</th>\n",
       "    </tr>\n",
       "  </thead>\n",
       "  <tbody>\n",
       "    <tr>\n",
       "      <th>0</th>\n",
       "      <td>0.253906</td>\n",
       "    </tr>\n",
       "    <tr>\n",
       "      <th>1</th>\n",
       "      <td>0.259033</td>\n",
       "    </tr>\n",
       "    <tr>\n",
       "      <th>2</th>\n",
       "      <td>0.269287</td>\n",
       "    </tr>\n",
       "    <tr>\n",
       "      <th>3</th>\n",
       "      <td>0.271240</td>\n",
       "    </tr>\n",
       "    <tr>\n",
       "      <th>4</th>\n",
       "      <td>0.265137</td>\n",
       "    </tr>\n",
       "  </tbody>\n",
       "</table>\n",
       "</div>"
      ],
      "text/plain": [
       "          0\n",
       "0  0.253906\n",
       "1  0.259033\n",
       "2  0.269287\n",
       "3  0.271240\n",
       "4  0.265137"
      ]
     },
     "execution_count": 30,
     "metadata": {},
     "output_type": "execute_result"
    }
   ],
   "source": [
    "df.head()"
   ]
  },
  {
   "cell_type": "code",
   "execution_count": 34,
   "id": "a2ccc7fb-d6d4-4d9f-933e-95aeb334afcd",
   "metadata": {},
   "outputs": [],
   "source": [
    "df.to_csv(file_path + file_name+'.csv', index=False)  # Establece index=False si no quieres guardar el índice."
   ]
  },
  {
   "cell_type": "code",
   "execution_count": 35,
   "id": "5a7946fc-a9c5-440f-ae84-cc57e7eb59b5",
   "metadata": {},
   "outputs": [
    {
     "name": "stdout",
     "output_type": "stream",
     "text": [
      "../../data/MP_first_test_penguin_sample.csv\n"
     ]
    }
   ],
   "source": [
    "%ls {file_path}{file_name}.csv"
   ]
  }
 ],
 "metadata": {
  "kernelspec": {
   "display_name": "Python 3 (ipykernel)",
   "language": "python",
   "name": "python3"
  },
  "language_info": {
   "codemirror_mode": {
    "name": "ipython",
    "version": 3
   },
   "file_extension": ".py",
   "mimetype": "text/x-python",
   "name": "python",
   "nbconvert_exporter": "python",
   "pygments_lexer": "ipython3",
   "version": "3.10.13"
  }
 },
 "nbformat": 4,
 "nbformat_minor": 5
}

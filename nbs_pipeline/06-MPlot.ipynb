{
 "cells": [
  {
   "cell_type": "code",
   "execution_count": 1,
   "id": "c12b2f7b-fd01-4673-8728-14a5b44ef6eb",
   "metadata": {},
   "outputs": [],
   "source": [
    "#| export\n",
    "print_flag                    = True\n",
    "check_memory_usage            = True\n",
    "time_flag                     = True\n",
    "window_size_percentage        = False\n",
    "show_plots                    = True\n",
    "reset_kernel                  = True\n",
    "pre_configured_case           = False\n",
    "case_id                       = 1\n",
    "frequency_factor              = 5\n",
    "frequency_factor_change_alias = True\n",
    "check_parameters              = True\n",
    "cuda_device                   = 2"
   ]
  },
  {
   "cell_type": "markdown",
   "id": "61fa0b7b-fae3-4a3d-8cdf-e22260ecd859",
   "metadata": {},
   "source": [
    "TODO: \n",
    "\n",
    "**Python** [22 mayo]\n",
    "\n",
    "1) [Hecho] **Corregir orientación**. Dar opción a dar la vuelta al eje y del MPlot al plotear (flag show_as_matlab).\n",
    "   - np.flip(axis=0)\n",
    "    \n",
    "3) [Hecho] **Añadir filtros**. Añadir un parámetro filter : Callable en MatrixProfilePlot que por defecto tenga la identidad que permita pasar un filtro a la matriz de distancias antes de plotearla.\n",
    "4) [In progress] **Crear un filtro versátil que permite seguir el enunciado**. Hacer una función de filtro para: Usar un valor threshold_min threshold_max (values) include_threshold_min include_threshold_max (flags) para mostrar sólo las distancias con valor en (threshold_min, threshold_max). Ver cómo gestiona eso imagesc de matlab, que no entiendo por qué a ellos no le sale la línea blanca del exclusion_zone = 8.\n",
    "   (¿Quizá venga bien también en el MatrixProfile?)\n",
    "    Algo pasa que no consigo sacar las líneas \"zebra\" aunque la orientación ya sea la correcta y los índices sean los mismos. Siguientes pasos:\n",
    "    - Revisar qué le pasa a scamp que se queda extraño el resultado\n",
    "    - Revisar que el filtro haga lo que tengo en la cabeza (comprobar con una matriz pequeña)\n",
    "    - Revisar que la distancia que ellos utilizan y que yo le paso a SCAMP es la misma\n",
    "6) **Corregir exclusion_zone**. Revisar que realmente estoy usando bien el exclusion zone. Asegurarme de que no lo aplico dos veces con STUMP. (Y, si lo estoy aplicando dos veces, comprobar indempotencia y me hago un 2 x 1 de saber que lo estoy haciendo bien).\n",
    "7) **Comprobar zoom**. Comprobar que el zoom en la zona del artículo (o, sospecho 5k más a la derecha de lo que aparenta), sale el paso de cebra que busco.\n",
    "\n",
    "**R** (1 semana máximo) [31 mayo]\n",
    "\n",
    "1) **Ubicar**. Añadir UI y SERVER siguiendo la ventana que pinté en la Biblia de los MPlots.\n",
    "2) **Implementar llamada**. Llamar a las funciones con filtros y ver que todo fluye\n",
    "3) **Añadir los 4 plots** (TSA, TSB, MP, MPlot)\n",
    "4) **Añadir interactividad entre los 4 plots**\n",
    "\n",
    "**Back to python** [14 junio]\n",
    "\n",
    "1) Comprobar posibles variables basadas en MatrixProfile o MPlot\n",
    "   Ej. Probar a meter los k puntos más altos o los k puntos más bajos (patterns/discords)\n",
    "3) Ver cómo afectan al entrenamiento del MVP\n",
    "\n",
    "**Paper** [21 junio]\n",
    "\n",
    "Redactar los descubrimientos\n",
    "\n",
    "**Reunión VDM** [Mediados julio]\n",
    "\n",
    "... En los ratos libres habría que arreglar la versión MatrixProfilePlotCached para no recalcular siempre ...\n"
   ]
  },
  {
   "cell_type": "markdown",
   "id": "c9723c9d-6088-452a-9013-03da712570bb",
   "metadata": {},
   "source": [
    "# MPlot"
   ]
  },
  {
   "cell_type": "markdown",
   "id": "236d661a-7ab0-40e4-a3b2-e899880b8394",
   "metadata": {},
   "source": [
    "The MPlot is used to check the distance between subsequence pairs into a time series according to a window size. This notebooks tries to: generate the Mplot for a time series\n"
   ]
  },
  {
   "cell_type": "code",
   "execution_count": 2,
   "id": "3750626c-f7b2-4269-8b7e-533c3928ea81",
   "metadata": {},
   "outputs": [
    {
     "name": "stdout",
     "output_type": "stream",
     "text": [
      "--- Check parameters ---\n",
      " print_flag: True \n",
      " check_memory_usage True \n",
      " time_flag: True \n",
      " window_size_percentage: False \n",
      " show_plots: True \n",
      " reset_kernel: True \n",
      " pre_configured_case: False \n",
      " case_id: 1 \n",
      " frequency_factor: 5 \n",
      " frequency_factor_change_alias True \n",
      " cuda_device 2 \n",
      "\n"
     ]
    }
   ],
   "source": [
    "if check_parameters:\n",
    "    print(\"--- Check parameters ---\")\n",
    "    print(\n",
    "        \" print_flag:\", print_flag, \"\\n\",\n",
    "        \"check_memory_usage\", check_memory_usage, \"\\n\",\n",
    "        \"time_flag:\", time_flag, \"\\n\",\n",
    "        \"window_size_percentage:\" , window_size_percentage, \"\\n\",\n",
    "        \"show_plots:\",show_plots, \"\\n\",\n",
    "        \"reset_kernel:\",reset_kernel, \"\\n\",\n",
    "        \"pre_configured_case:\",pre_configured_case, \"\\n\",\n",
    "        \"case_id:\",case_id, \"\\n\",\n",
    "        \"frequency_factor:\", frequency_factor,  \"\\n\",\n",
    "        \"frequency_factor_change_alias\", frequency_factor_change_alias, \"\\n\",\n",
    "        \"cuda_device\", cuda_device, \"\\n\"\n",
    ")"
   ]
  },
  {
   "cell_type": "markdown",
   "id": "e7d23548-a247-4278-93f3-b8f2bb1e50d6",
   "metadata": {},
   "source": [
    "### VsCode update patch\n",
    "Initial notebook setup when using VSCode."
   ]
  },
  {
   "cell_type": "code",
   "execution_count": 3,
   "id": "6cabd69d-770f-46a7-babd-2ebdc73a62b6",
   "metadata": {},
   "outputs": [],
   "source": [
    "#| export\n",
    "# This is only needed if the notebook is run in VSCode\n",
    "import sys\n",
    "import dvats.utils as ut\n",
    "if '--vscode' in sys.argv:\n",
    "    print(\"Executing inside vscode\")\n",
    "    ut.DisplayHandle.update = ut.update_patch"
   ]
  },
  {
   "cell_type": "markdown",
   "id": "fe63df6f-ddbe-4050-aacd-eb896ba0cd9c",
   "metadata": {},
   "source": [
    "### Debugging variables\n",
    "\n",
    "- `print_flag`. If `True` it adds debbuging messages in those functions that allows so.\n",
    "- `reset_kernel`. If `True` it resets the kernel by the end of the execution. Use only in case that memory management is needed.\n",
    "- `check_memory_usage`. If `True`, it adds some lines for checking the GPU memmory ussage along the execution.\n",
    "- `time_flag`. If `True` it get the execution time along the notebook as well as inside those functions that allows so.\n",
    "- `window_size_percentage`. If `True`, MVP will be used directly with the proposed windows sizes. Otherwise, it will be asumed that they have been taken as absolute values and execution will be take that into account.\n",
    "- `show_plots`. If `True` all plots are shown within the execution of the notebook. Otherwise, none of them will be plotted."
   ]
  },
  {
   "cell_type": "code",
   "execution_count": 4,
   "id": "16cd1c51-5691-4dc2-9299-715bfb219e33",
   "metadata": {},
   "outputs": [],
   "source": [
    "#| export\n",
    "##### ----- This cell should be substituted by input parameters ------ #####\n",
    "##### See _ploomber_engine_example_.ipynb\n",
    "##### Uncomment for direct Notebook execution\n",
    "#print_flag             = True\n",
    "#reset_kernel           = True\n",
    "#check_memory_usage     = True\n",
    "#time_flag              = True\n",
    "#window_size_percentage = True\n",
    "#show_plots             = True"
   ]
  },
  {
   "cell_type": "markdown",
   "id": "449c7be8-d97a-4f41-b975-2b60ee11b99e",
   "metadata": {},
   "source": [
    "## Preconfigurated cases selection\n",
    "- `pre_configured_case`. If `True`, a preconfigured case will be selected, forcing the artifact to get the expected configuration based on the information in `config\\*.yml` and `utils\\config.py`.\n",
    "- `case_id`. If `preconfigured_case` is `True`, it forces to select the configuration of the `case_id` preconfigured samples. The available preconfigured samples are shown in the next cell.\n",
    "- `frequency_factor`. If `pre_configured_case` is `True`, frequency will be resampled by `config.freq*frequency_factor`\n",
    "  `frequency_factor_change_alias`. If `pre_configured_case` is `True` and `frequency_factor != 1` then the dataset alias will be modified for adding the new frequency as suffix."
   ]
  },
  {
   "cell_type": "code",
   "execution_count": 5,
   "id": "5f0e2a08-261e-4233-9cc2-04bca825d263",
   "metadata": {},
   "outputs": [],
   "source": [
    "#| export\n",
    "import dvats.config as cfg_"
   ]
  },
  {
   "cell_type": "code",
   "execution_count": 6,
   "id": "a4399394-a8e1-4d1e-8670-f486945414f6",
   "metadata": {},
   "outputs": [
    {
     "name": "stdout",
     "output_type": "stream",
     "text": [
      "Available datasets: \n",
      "0 - monash_australian_electricity_demand_0\n",
      "1 - monash_solar_4_seconds_0\n",
      "2 - wikipedia_0\n",
      "3 - traffic_san_francisco_0\n",
      "4 - monash_solar_10_minutes_0\n",
      "5 - etth1_0\n",
      "6 - stumpy_abp_0\n",
      "7 - stumpy_toy_0\n"
     ]
    }
   ],
   "source": [
    "#| hide\n",
    "cfg_.show_available_configs()"
   ]
  },
  {
   "cell_type": "code",
   "execution_count": 7,
   "id": "2a17b6fc-86dc-4e3a-90eb-32f79f546535",
   "metadata": {},
   "outputs": [],
   "source": [
    "#| export \n",
    "##### ----- This cell should be substituted by input parameters ------ #####\n",
    "##### See _ploomber_engine_example_.ipynb\n",
    "##### Uncomment for direct Notebook execution\n",
    "#pre_configured_case = False\n",
    "#case_id = None\n",
    "#frequency_factor = 1\n",
    "#frequency_factor_change_alias = True"
   ]
  },
  {
   "cell_type": "markdown",
   "id": "d9fb4ad9-b1ae-4cf3-98a6-ce414a13d797",
   "metadata": {},
   "source": [
    "## Main code\n",
    "### Import libraries"
   ]
  },
  {
   "cell_type": "code",
   "execution_count": 8,
   "id": "3fb77d5c-7eb2-4173-a6cd-1a5dad5f6dc3",
   "metadata": {},
   "outputs": [],
   "source": [
    "#| export\n",
    "import warnings\n",
    "warnings.filterwarnings(\"ignore\", module=\"umap\")\n",
    "import os\n",
    "import sys\n",
    "sys.path.append(os.path.abspath('..'))\n",
    "from dvats.all import *\n",
    "from fastcore.all import *\n",
    "from tsai.basics import *\n",
    "from tsai.models.InceptionTimePlus import *\n",
    "from tsai.callback.MVP import *\n",
    "import matplotlib.colors as colors\n",
    "from fastai.callback.wandb import WandbCallback\n",
    "from fastai.callback.progress import ShowGraphCallback\n",
    "from fastai.callback.schedule import *\n",
    "from fastai.callback.tracker import EarlyStoppingCallback\n",
    "import wandb"
   ]
  },
  {
   "cell_type": "markdown",
   "id": "64484b08-2702-4aab-9b14-89fcc5319c93",
   "metadata": {},
   "source": [
    "### Initialize and Configurate Artifact"
   ]
  },
  {
   "cell_type": "markdown",
   "id": "1c649595-13a3-4721-a66f-a669c6ce66b4",
   "metadata": {},
   "source": [
    "#### Setup CUDA"
   ]
  },
  {
   "cell_type": "code",
   "execution_count": 9,
   "id": "2ab4d0e6-8b39-4a9b-bb3e-72a8c0b487d5",
   "metadata": {},
   "outputs": [],
   "source": [
    "#| export\n",
    "wandb_api = wandb.Api()"
   ]
  },
  {
   "cell_type": "code",
   "execution_count": 10,
   "id": "69c6a833-47d7-4ecf-bf65-105e0c725268",
   "metadata": {},
   "outputs": [
    {
     "name": "stdout",
     "output_type": "stream",
     "text": [
      "GPU Device 2\n",
      "Device cuda:2\n",
      "GPU | Used mem: 521\n",
      "GPU | Used mem: 24576\n",
      "GPU | Memory Usage: [\u001b[90m--------------------\u001b[0m] \u001b[90m2%\u001b[0m\n"
     ]
    }
   ],
   "source": [
    "#| export\n",
    "device = torch.device(f'cuda:{cuda_device}' if torch.cuda.is_available() else 'cpu')\n",
    "torch.cuda.set_device(device)\n",
    "if check_memory_usage:\n",
    "    gpu_device = torch.cuda.current_device()\n",
    "    print(\"GPU Device\", gpu_device)\n",
    "    print(\"Device\", device)\n",
    "    gpu_memory_status(gpu_device)"
   ]
  },
  {
   "cell_type": "markdown",
   "id": "7d0b8347-f4a7-477f-999e-4997299aaf50",
   "metadata": {},
   "source": [
    "### Get configutation from yml\n",
    "> This file used the configuration files './config/base.yml' and './config/06_MPlots.ipynb'\n",
    "\n",
    "TODO: Por ahora está usando solo los datos del base \n",
    " y 02b.yml y definiendo las variables a lo bruto. Está por hacer el definir las cosas en el fichero de configuración."
   ]
  },
  {
   "cell_type": "code",
   "execution_count": 11,
   "id": "90c1e307",
   "metadata": {},
   "outputs": [
    {
     "name": "stdout",
     "output_type": "stream",
     "text": [
      "./work/nbs_pipeline\n",
      "[Errno 2] No such file or directory: './work/nbs_pipeline'\n",
      "/home/macu/work/nbs_pipeline\n"
     ]
    }
   ],
   "source": [
    "# Ensure the correct execution path \n",
    "# Se puede hacer mejor con la ultima versión que hay en master del config.ipybn\n",
    "# En esa versión se permite pasar paths por parámetro a las funciones de configuración\n",
    "# Así no hay por qué forzar aquí path de ejecución\n",
    "# Y se gana, además, bastante versatilidad\n",
    "\n",
    "target_directory = os.path.expanduser(\"./work/nbs_pipeline\")\n",
    "print(target_directory)\n",
    "%cd {target_directory}\n",
    "#! ls"
   ]
  },
  {
   "cell_type": "code",
   "execution_count": 12,
   "id": "f1faab29-03f5-4727-824c-840756817695",
   "metadata": {},
   "outputs": [],
   "source": [
    "#| export\n",
    "user, project, version, data, config, job_type = cfg_.get_artifact_config_MVP(False)\n",
    "if pre_configured_case: \n",
    "    cfg_.force_artifact_config_mvp(\n",
    "        config = config,\n",
    "        id = case_id,\n",
    "        print_flag = print_flag, \n",
    "        both = print_flag,\n",
    "        frequency_factor = frequency_factor,\n",
    "        frequency_factor_change_alias = frequency_factor_change_alias\n",
    "    )"
   ]
  },
  {
   "cell_type": "markdown",
   "id": "597d8ee7-01aa-4a9b-944e-4a894bb1f3f0",
   "metadata": {},
   "source": [
    "### Setup Weights & biases artiffact"
   ]
  },
  {
   "cell_type": "code",
   "execution_count": 13,
   "id": "6de611e9-7cfa-4aba-8359-332d03bce93a",
   "metadata": {},
   "outputs": [
    {
     "name": "stdout",
     "output_type": "stream",
     "text": [
      "runname: 06_MPlots\n",
      "alias: PulsusParadoxus-SP02\n",
      "analysis_mode: online\n",
      "batch_size: 512\n",
      "epochs: 100\n",
      "mask_future: False\n",
      "mask_stateful: True\n",
      "mask_sync: False\n",
      "mvp_ws: (1, 100)\n",
      "norm_by_sample: False\n",
      "norm_use_single_batch: False\n",
      "r: 0.71\n",
      "stride: 900\n",
      "train_artifact: mi-santamaria/deepvats/PulsusParadoxus-SP02:latest\n",
      "valid_artifact: None\n",
      "use_wandb: True\n",
      "valid_size: 0.2\n",
      "w: 100\n",
      "wandb_group: None\n"
     ]
    }
   ],
   "source": [
    "#| export\n",
    "path = os.path.expanduser(\"~/work/nbs_pipeline/\")\n",
    "name=\"06_MPlots\"\n",
    "os.environ[\"WANDB_NOTEBOOK_NAME\"] = path+name+\".ipynb\"\n",
    "runname=name\n",
    "if print_flag: print(\"runname: \"+runname)\n",
    "if print_flag: cfg_.show_attrdict(config)"
   ]
  },
  {
   "cell_type": "code",
   "execution_count": 14,
   "id": "35e2a95d",
   "metadata": {},
   "outputs": [
    {
     "data": {
      "text/plain": [
       "'MPlot'"
      ]
     },
     "execution_count": 14,
     "metadata": {},
     "output_type": "execute_result"
    }
   ],
   "source": [
    "job_type = 'MPlot'\n",
    "job_type"
   ]
  },
  {
   "cell_type": "code",
   "execution_count": 15,
   "id": "81c3b22d-dc40-4e6c-a406-fbe3945f4eb8",
   "metadata": {},
   "outputs": [
    {
     "name": "stderr",
     "output_type": "stream",
     "text": [
      "\u001b[34m\u001b[1mwandb\u001b[0m: \u001b[33mWARNING\u001b[0m WANDB_NOTEBOOK_NAME should be a path to a notebook file, couldn't find /home/macu/work/nbs_pipeline/06_MPlots.ipynb.\n"
     ]
    },
    {
     "name": "stdout",
     "output_type": "stream",
     "text": [
      "--> Wandb init\n"
     ]
    },
    {
     "name": "stderr",
     "output_type": "stream",
     "text": [
      "\u001b[34m\u001b[1mwandb\u001b[0m: Currently logged in as: \u001b[33mmi-santamaria\u001b[0m. Use \u001b[1m`wandb login --relogin`\u001b[0m to force relogin\n"
     ]
    },
    {
     "data": {
      "application/vnd.jupyter.widget-view+json": {
       "model_id": "d9c3fe15779f465598e477e486f1e677",
       "version_major": 2,
       "version_minor": 0
      },
      "text/plain": [
       "VBox(children=(Label(value='Waiting for wandb.init()...\\r'), FloatProgress(value=0.016669457584309082, max=1.0…"
      ]
     },
     "metadata": {},
     "output_type": "display_data"
    },
    {
     "data": {
      "text/html": [
       "wandb version 0.17.0 is available!  To upgrade, please run:\n",
       " $ pip install wandb --upgrade"
      ],
      "text/plain": [
       "<IPython.core.display.HTML object>"
      ]
     },
     "metadata": {},
     "output_type": "display_data"
    },
    {
     "data": {
      "text/html": [
       "Tracking run with wandb version 0.14.2"
      ],
      "text/plain": [
       "<IPython.core.display.HTML object>"
      ]
     },
     "metadata": {},
     "output_type": "display_data"
    },
    {
     "data": {
      "text/html": [
       "Run data is saved locally in <code>/home/macu/work/wandb/run-20240520_103019-0kc1dwqp</code>"
      ],
      "text/plain": [
       "<IPython.core.display.HTML object>"
      ]
     },
     "metadata": {},
     "output_type": "display_data"
    },
    {
     "data": {
      "text/html": [
       "Syncing run <strong><a href='https://wandb.ai/mi-santamaria/deepvats/runs/0kc1dwqp' target=\"_blank\">06_MPlots</a></strong> to <a href='https://wandb.ai/mi-santamaria/deepvats' target=\"_blank\">Weights & Biases</a> (<a href='https://wandb.me/run' target=\"_blank\">docs</a>)<br/>"
      ],
      "text/plain": [
       "<IPython.core.display.HTML object>"
      ]
     },
     "metadata": {},
     "output_type": "display_data"
    },
    {
     "data": {
      "text/html": [
       " View project at <a href='https://wandb.ai/mi-santamaria/deepvats' target=\"_blank\">https://wandb.ai/mi-santamaria/deepvats</a>"
      ],
      "text/plain": [
       "<IPython.core.display.HTML object>"
      ]
     },
     "metadata": {},
     "output_type": "display_data"
    },
    {
     "data": {
      "text/html": [
       " View run at <a href='https://wandb.ai/mi-santamaria/deepvats/runs/0kc1dwqp' target=\"_blank\">https://wandb.ai/mi-santamaria/deepvats/runs/0kc1dwqp</a>"
      ],
      "text/plain": [
       "<IPython.core.display.HTML object>"
      ]
     },
     "metadata": {},
     "output_type": "display_data"
    },
    {
     "name": "stdout",
     "output_type": "stream",
     "text": [
      "Wandb init -->\n"
     ]
    }
   ],
   "source": [
    "#| export\n",
    "if print_flag: print(\"--> Wandb init\")\n",
    "run = wandb.init(\n",
    "    entity           = user,\n",
    "    # work-nbs is a place to log draft runs\n",
    "    project          = project,\n",
    "    group            = config.wandb_group,\n",
    "    job_type         = job_type,\n",
    "    allow_val_change = True,\n",
    "    mode             = config.analysis_mode,\n",
    "    config           = config,\n",
    "    # When use_wandb is false the run is not linked to a personal account\n",
    "    #NOTE: This is not working right now\n",
    "    anonymous        = 'never' if config.use_wandb else 'must', \n",
    "    resume           = False,\n",
    "    name             = runname\n",
    ")\n",
    "if print_flag: print(\"Wandb init -->\")\n",
    "config = run.config  # Object for storing hyperparameters\n",
    "artifacts_gettr = run.use_artifact if config.use_wandb else wandb_api.artifact"
   ]
  },
  {
   "cell_type": "markdown",
   "id": "b57aadd5-5af8-44d2-bb17-49f19f9706a6",
   "metadata": {},
   "source": [
    "### Generating the MPlots"
   ]
  },
  {
   "cell_type": "markdown",
   "id": "fed908fc-c333-49a0-9e5b-147f89c6b675",
   "metadata": {},
   "source": [
    "#### Get W&B train artifact\n",
    "Build artifact selector\n",
    "Botch to use artifacts offline"
   ]
  },
  {
   "cell_type": "code",
   "execution_count": 16,
   "id": "2b21f4e7-401a-423b-8dfb-b69b4a033dce",
   "metadata": {},
   "outputs": [
    {
     "name": "stdout",
     "output_type": "stream",
     "text": [
      "alias: PulsusParadoxus-SP02\n",
      "analysis_mode: online\n",
      "batch_size: 512\n",
      "epochs: 100\n",
      "mask_future: False\n",
      "mask_stateful: True\n",
      "mask_sync: False\n",
      "mvp_ws: [1, 100]\n",
      "norm_by_sample: False\n",
      "norm_use_single_batch: False\n",
      "r: 0.71\n",
      "stride: 900\n",
      "train_artifact: mi-santamaria/deepvats/PulsusParadoxus-SP02:latest\n",
      "valid_artifact: None\n",
      "use_wandb: True\n",
      "valid_size: 0.2\n",
      "w: 100\n",
      "wandb_group: None\n",
      "---> W&B Train Artifact\n"
     ]
    }
   ],
   "source": [
    "#| export\n",
    "config = run.config  # Object for storing hyperparameters\n",
    "if print_flag: cfg_.show_attrdict(config)\n",
    "artifacts_gettr = run.use_artifact if config.use_wandb else wandb_api.artifact\n",
    "train_artifact = artifacts_gettr(config.train_artifact)\n",
    "if print_flag: print(\"---> W&B Train Artifact\")"
   ]
  },
  {
   "cell_type": "code",
   "execution_count": 17,
   "id": "1a6bbfc6-2ea5-42bf-bff3-b883603d2914",
   "metadata": {},
   "outputs": [
    {
     "name": "stderr",
     "output_type": "stream",
     "text": [
      "\u001b[34m\u001b[1mwandb\u001b[0m:   1 of 1 files downloaded.  \n"
     ]
    }
   ],
   "source": [
    "#| export\n",
    "df_train = train_artifact.to_df()"
   ]
  },
  {
   "cell_type": "code",
   "execution_count": 18,
   "id": "c0ff5ff1-8890-4c52-8b0b-ce562e7ddc2a",
   "metadata": {},
   "outputs": [
    {
     "name": "stdout",
     "output_type": "stream",
     "text": [
      "(17520, 1)\n"
     ]
    },
    {
     "data": {
      "text/plain": [
       "<bound method NDFrame.head of                        -1.1938294e+00\n",
       "1970-01-01 00:00:00         -1.193829\n",
       "1970-01-01 00:00:01         -1.193829\n",
       "1970-01-01 00:00:02         -1.262998\n",
       "1970-01-01 00:00:03         -1.286055\n",
       "1970-01-01 00:00:04         -1.286055\n",
       "...                               ...\n",
       "1970-01-01 04:51:55          0.601779\n",
       "1970-01-01 04:51:56          0.475591\n",
       "1970-01-01 04:51:57          0.475591\n",
       "1970-01-01 04:51:58          0.297443\n",
       "1970-01-01 04:51:59          0.119295\n",
       "\n",
       "[17520 rows x 1 columns]>"
      ]
     },
     "metadata": {},
     "output_type": "display_data"
    },
    {
     "name": "stdout",
     "output_type": "stream",
     "text": [
      "df_train ~  (17520, 1)\n",
      "window_sizes =  [1, 100]\n",
      "wlen =  100\n"
     ]
    }
   ],
   "source": [
    "#| export\n",
    "if print_flag: \n",
    "    print(df_train.shape)\n",
    "    display(df_train.head)\n",
    "    print(\"df_train ~ \", df_train.shape)\n",
    "    print(\"window_sizes = \", config.mvp_ws)\n",
    "    print(\"wlen = \", config.w)\n",
    "    df_train.head"
   ]
  },
  {
   "cell_type": "markdown",
   "id": "f2f6d4e1-7de6-48d8-bfd1-7bf89d12fbee",
   "metadata": {},
   "source": [
    "#### Time series data MPlot"
   ]
  },
  {
   "cell_type": "code",
   "execution_count": 19,
   "id": "350b3bfa-2e03-42c6-a4bd-c7b5fdc9cba3",
   "metadata": {},
   "outputs": [
    {
     "name": "stdout",
     "output_type": "stream",
     "text": [
      "\u001b[?2004l\n",
      "\u001b[?2004l\n",
      "\u001b[?2004l\n",
      "\u001b[?2004l\n",
      "\u001b[?2004l\n",
      "\u001b[?2004l\n",
      "\u001b[?2004l\n",
      "\u001b[?2004l\n",
      "\u001b[?2004l\n",
      "\u001b[?2004l\n",
      "\u001b[?2004l\n",
      "\u001b[?2004l\n",
      "\u001b[?2004l\n"
     ]
    }
   ],
   "source": [
    "import dvats.mplots as mplots"
   ]
  },
  {
   "cell_type": "code",
   "execution_count": 20,
   "id": "f206274d-0fbc-4ed6-a08f-38134983433c",
   "metadata": {},
   "outputs": [],
   "source": [
    "import numpy as np\n",
    "import matplotlib.pyplot as plt\n",
    "from mpl_toolkits.axes_grid1 import ImageGrid\n",
    "from matplotlib.gridspec import GridSpec\n",
    "import pyscamp as scamp\n",
    "import dvats.memory as mem"
   ]
  },
  {
   "cell_type": "code",
   "execution_count": 21,
   "id": "62d5c89b-38d8-4343-a892-94e06cf7bffe",
   "metadata": {},
   "outputs": [
    {
     "name": "stdout",
     "output_type": "stream",
     "text": [
      "GPU | Used mem: 902\n",
      "GPU | Used mem: 24576\n",
      "GPU | Memory Usage: [\u001b[90m--------------------\u001b[0m] \u001b[90m4%\u001b[0m\n"
     ]
    }
   ],
   "source": [
    "mem.gpu_memory_status()"
   ]
  },
  {
   "cell_type": "markdown",
   "id": "aa89b265-a4db-4a21-89bd-8c2ba9ab8f7b",
   "metadata": {},
   "source": [
    "#### Initialize parameters"
   ]
  },
  {
   "cell_type": "code",
   "execution_count": 22,
   "id": "8a754ae2-d2ad-4501-8395-2d0e61328994",
   "metadata": {},
   "outputs": [
    {
     "data": {
      "text/plain": [
       "True"
      ]
     },
     "execution_count": 22,
     "metadata": {},
     "output_type": "execute_result"
    }
   ],
   "source": [
    "# Allows checking if pyscamp was built with CUDA and has GPU support.\n",
    "has_gpu_support = scamp.gpu_supported()\n",
    "has_gpu_support"
   ]
  },
  {
   "cell_type": "markdown",
   "id": "9260c230-19e1-4df0-9a8c-299f69a937fd",
   "metadata": {},
   "source": [
    "---> Aquí habrá que haber pasado por parámetro de qué columna se quiere sacar MPlot"
   ]
  },
  {
   "cell_type": "code",
   "execution_count": 23,
   "id": "97a10017-9ead-4fc3-872b-a85430cc9a6a",
   "metadata": {},
   "outputs": [
    {
     "data": {
      "text/plain": [
       "Index(['  -1.1938294e+00'], dtype='object')"
      ]
     },
     "execution_count": 23,
     "metadata": {},
     "output_type": "execute_result"
    }
   ],
   "source": [
    "df_train.columns"
   ]
  },
  {
   "cell_type": "code",
   "execution_count": 24,
   "id": "107544a5-ae5f-441e-9ad9-e8be4b6bc674",
   "metadata": {},
   "outputs": [],
   "source": [
    "# Use step for selecting values in position k*step \n",
    "step = 2\n",
    "ts = df_train.iloc[:, 0].values[::step] #For some reason. Trying to follow MPlot-figures-ref"
   ]
  },
  {
   "cell_type": "markdown",
   "id": "d14fc0c7-a0e1-4fad-b779-0cea8d2c7b89",
   "metadata": {},
   "source": [
    "---> Aquí habrá que haber pasado por parámetro si se quiere usar una w concreta o que se coja la mejor según la transformada de Fourier"
   ]
  },
  {
   "cell_type": "code",
   "execution_count": 25,
   "id": "347c7c00-96bb-4556-986a-afe7e703f586",
   "metadata": {},
   "outputs": [
    {
     "data": {
      "text/plain": [
       "100"
      ]
     },
     "execution_count": 25,
     "metadata": {},
     "output_type": "execute_result"
    }
   ],
   "source": [
    "#Reminder: Mplots works well by getting a w a little bit smaller than the size of your pattern\n",
    "w = config.w\n",
    "w"
   ]
  },
  {
   "cell_type": "markdown",
   "id": "f5cad62c-8f51-4429-9455-8658fdd11f15",
   "metadata": {},
   "source": [
    "#### Computando el MPlot"
   ]
  },
  {
   "cell_type": "code",
   "execution_count": 26,
   "id": "6a84c579-33d0-4a5e-9592-46066eb9f307",
   "metadata": {},
   "outputs": [
    {
     "data": {
      "text/plain": [
       "8760"
      ]
     },
     "execution_count": 26,
     "metadata": {},
     "output_type": "execute_result"
    }
   ],
   "source": [
    "len(ts)"
   ]
  },
  {
   "cell_type": "code",
   "execution_count": 27,
   "id": "8a2a5594-4184-4076-806e-b0e84b927377",
   "metadata": {},
   "outputs": [],
   "source": [
    "data_MPlot = mplots.MatrixProfilePlot(\n",
    "    DM_AB           = mplots.DistanceMatrix(), \n",
    "    MP_AB           = mplots.MatrixProfile(),\n",
    "    data            = ts, \n",
    "    data_b          = ts,\n",
    "    subsequence_len = w,\n",
    "    self_join       = False\n",
    ")"
   ]
  },
  {
   "cell_type": "code",
   "execution_count": 28,
   "id": "9005ae5f",
   "metadata": {},
   "outputs": [
    {
     "name": "stdout",
     "output_type": "stream",
     "text": [
      "MP_AB self_join True\n",
      "DM_AB ~ (0, 0)\n",
      "MP_AB method: naive\n",
      "DM_AB method: naive\n"
     ]
    }
   ],
   "source": [
    "#| hide\n",
    "print(\"MP_AB self_join\", data_MPlot.MP_AB.self_join)\n",
    "print(f\"DM_AB ~ {data_MPlot.DM_AB.shape}\")\n",
    "print(\"MP_AB method:\", data_MPlot.MP_AB.method)\n",
    "print(\"DM_AB method:\", data_MPlot.DM_AB.method)"
   ]
  },
  {
   "cell_type": "code",
   "execution_count": 29,
   "id": "42bf2d00",
   "metadata": {},
   "outputs": [
    {
     "data": {
      "image/png": "[encoded data removed]",
      "text/plain": [
       "<Figure size 1000x500 with 1 Axes>"
      ]
     },
     "metadata": {},
     "output_type": "display_data"
    }
   ],
   "source": [
    "def plot_numpy_array(data, x_label='Index', y_label='Value', title='Plot of NumPy Array', figsize=(10,5)):\n",
    "    \"\"\"\n",
    "    Plots a NumPy array using matplotlib.\n",
    "\n",
    "    Parameters:\n",
    "    - data (numpy.array): The data to plot.\n",
    "    - x_label (str): Label for the X-axis.\n",
    "    - y_label (str): Label for the Y-axis.\n",
    "    - title (str): Title of the plot.\n",
    "    \"\"\"\n",
    "    plt.figure(figsize=figsize)  # Adjust the size of the plot\n",
    "    plt.plot(data, linestyle='-')  # Plot the data\n",
    "    plt.title(title)  # Set the title of the plot\n",
    "    plt.xlabel(x_label)  # Set the X-axis label\n",
    "    plt.ylabel(y_label)  # Set the Y-axis label\n",
    "    plt.grid(True)  # Enable grid for easier reading\n",
    "    plt.show()  # Display the plot\n",
    "\n",
    "#plot_numpy_array(ts[0:27*8], figsize = (10,5))\n",
    "plot_numpy_array(ts[0:2000], figsize = (10,5))\n"
   ]
  },
  {
   "cell_type": "code",
   "execution_count": 30,
   "id": "1cf969d0",
   "metadata": {},
   "outputs": [
    {
     "data": {
      "text/plain": [
       "8760"
      ]
     },
     "execution_count": 30,
     "metadata": {},
     "output_type": "execute_result"
    }
   ],
   "source": [
    "len(data_MPlot.data_b)"
   ]
  },
  {
   "cell_type": "code",
   "execution_count": 31,
   "id": "f5e9b17d",
   "metadata": {},
   "outputs": [],
   "source": [
    "max_points = 5000\n",
    "min_position = 0"
   ]
  },
  {
   "cell_type": "code",
   "execution_count": 32,
   "id": "f8c906bc-612d-4a3f-b5aa-fe842e22789e",
   "metadata": {},
   "outputs": [
    {
     "name": "stdout",
     "output_type": "stream",
     "text": [
      "MatrixProfilePlot | Compute | No range provided\n",
      "MatrixProfilePlot | Compute | Range [0:8760, 0:8760]\n",
      "[ MPlot | Compute ] | -->  Downsample \n",
      "[ MPlot | Compute ] | ---> Downsample TA to 0 : 8760\n",
      "------------------------> Downsample\n",
      "Downsample | N timestamps 8760\n",
      "Downsample | PAA factor: 1\n",
      "Downsample | N segments: 8760\n",
      "Downsample | Final w: 1\n",
      "Downsample | Reminder: 0\n",
      "Downsample | ts_paa~8761\n",
      "Downsample ------------------------>\n",
      "[ MPlot | Compute ] | Downsample TA ~ 8761 ---> \n",
      "[ MPlot | Compute ] |  --> Downsample TB \n",
      "------------------------> Downsample\n",
      "Downsample | N timestamps 8760\n",
      "Downsample | PAA factor: 1\n",
      "Downsample | N segments: 8760\n",
      "Downsample | Final w: 1\n",
      "Downsample | Reminder: 0\n",
      "Downsample | ts_paa~8761\n",
      "Downsample ------------------------>\n",
      "[ MPlot | Compute ] | Downsample TB_paa ~ 8761 ---> \n",
      "[ MPlot | Compute ] |Downsample -->\n",
      "MPlot | Compute | --> Ensure parameters \n",
      "MPlot | Compute | --> provide_len | data ~  (8760,)\n",
      "MPlot | Compute | --> provide_len | Elif provide_len | TB_paa 8761\n",
      "[ MPlot | Compute ] | Ensure Parameters TB_paa ~ 8761 ---> \n",
      "Ensure valid limits | Original [0, 8760]\n",
      "Final [0, 8761]\n",
      "Ensure valid limits | Original [0, 8760]\n",
      "Final [0, 8761]\n",
      "MatrixProfilePlot | Compute | Final Range [0:8761, 0:8761]\n",
      "MPlot | Compute | --> Instantiate DM & MP | TA ~ 8761 | TB ~ 8761\n",
      "MPlot | Compute | ... Checking inicializations ...\n",
      "MP_AB self_join False\n",
      "DM_AB self_join False\n",
      "DM_AB ~ (0, 0)\n",
      "MP_AB method: naive\n",
      "DM_AB method: naive\n",
      "MP_AB data_b ~ 8760\n",
      "DM_AB data_b ~ 8761\n",
      "MPlot | Compute | ... Checking inicializations ...\n",
      "MPlot | Compute | --> Compute MP\n",
      "--> matrix profile\n",
      "[ Matrix Profile | Compute | matrix_profile ] --> scamp\n",
      "--> Scamp\n",
      "Check gpu use\n",
      "True\n",
      "--> data_b provided => Executing abjoin\n",
      "--> data_b provided => Executing abjoin\n",
      "matrix profile 0.2896726131439209 seconds -->\n",
      "MPlot | Compute | --> Compute DM | Allow experimental:  True\n",
      "[ DistanceMatrix | Compute ] | --> AB-join\n",
      "[ DistanceMatrix | Compute ] | reference_seq ~ 8761 | subsequence_len ~ 50 | rows 8712 | columns 8712\n",
      "[ DistanceMatrix | Compute ] | Rows: 8712 Columns: 8712 | distances ~ (8712, 8712)\n",
      "--> Start:  \n",
      "[ Distance Matrix | Compute ] --> Scamp | (8712, 8712)\n",
      "AB-Join and allow experimental\n"
     ]
    },
    {
     "ename": "ValueError",
     "evalue": "Invalid keyword argument specified unknown argument: b",
     "output_type": "error",
     "traceback": [
      "\u001b[0;31m---------------------------------------------------------------------------\u001b[0m",
      "\u001b[0;31mValueError\u001b[0m                                Traceback (most recent call last)",
      "Cell \u001b[0;32mIn[32], line 1\u001b[0m\n\u001b[0;32m----> 1\u001b[0m \u001b[43mdata_MPlot\u001b[49m\u001b[38;5;241;43m.\u001b[39;49m\u001b[43mcompute\u001b[49m\u001b[43m(\u001b[49m\n\u001b[1;32m      2\u001b[0m \u001b[43m    \u001b[49m\u001b[43mmp_method\u001b[49m\u001b[43m           \u001b[49m\u001b[38;5;241;43m=\u001b[39;49m\u001b[43m \u001b[49m\u001b[38;5;124;43m'\u001b[39;49m\u001b[38;5;124;43mscamp\u001b[39;49m\u001b[38;5;124;43m'\u001b[39;49m\u001b[43m,\u001b[49m\u001b[43m \u001b[49m\u001b[38;5;66;43;03m#scamp --> Devuelve siempre 0 en el ejemplo de Pulsus Raxodus | why?\u001b[39;49;00m\n\u001b[1;32m      3\u001b[0m \u001b[43m    \u001b[49m\u001b[43mdm_method\u001b[49m\u001b[43m           \u001b[49m\u001b[38;5;241;43m=\u001b[39;49m\u001b[43m \u001b[49m\u001b[38;5;124;43m'\u001b[39;49m\u001b[38;5;124;43mscamp\u001b[39;49m\u001b[38;5;124;43m'\u001b[39;49m\u001b[43m,\u001b[49m\u001b[43m \u001b[49m\u001b[38;5;66;43;03m#scamp\u001b[39;49;00m\n\u001b[1;32m      4\u001b[0m \u001b[43m    \u001b[49m\u001b[43mprint_flag\u001b[49m\u001b[43m          \u001b[49m\u001b[38;5;241;43m=\u001b[39;49m\u001b[43m \u001b[49m\u001b[38;5;28;43;01mTrue\u001b[39;49;00m\u001b[43m,\u001b[49m\n\u001b[1;32m      5\u001b[0m \u001b[43m    \u001b[49m\u001b[43mdebug\u001b[49m\u001b[43m               \u001b[49m\u001b[38;5;241;43m=\u001b[39;49m\u001b[43m \u001b[49m\u001b[38;5;28;43;01mFalse\u001b[39;49;00m\u001b[43m,\u001b[49m\n\u001b[1;32m      6\u001b[0m \u001b[43m    \u001b[49m\u001b[43mtime_flag\u001b[49m\u001b[43m           \u001b[49m\u001b[38;5;241;43m=\u001b[39;49m\u001b[43m \u001b[49m\u001b[38;5;28;43;01mTrue\u001b[39;49;00m\u001b[43m,\u001b[49m\n\u001b[1;32m      7\u001b[0m \u001b[43m    \u001b[49m\u001b[43mallow_experimental\u001b[49m\u001b[43m  \u001b[49m\u001b[38;5;241;43m=\u001b[39;49m\u001b[43m \u001b[49m\u001b[38;5;28;43;01mTrue\u001b[39;49;00m\u001b[43m,\u001b[49m\u001b[43m \u001b[49m\u001b[38;5;66;43;03m#False\u001b[39;49;00m\n\u001b[1;32m      8\u001b[0m \u001b[43m    \u001b[49m\u001b[43mensure_symetric\u001b[49m\u001b[43m     \u001b[49m\u001b[38;5;241;43m=\u001b[39;49m\u001b[43m \u001b[49m\u001b[38;5;28;43;01mFalse\u001b[39;49;00m\u001b[43m,\u001b[49m\n\u001b[1;32m      9\u001b[0m \u001b[43m    \u001b[49m\u001b[38;5;66;43;03m#x_min               = 200*4,\u001b[39;49;00m\n\u001b[1;32m     10\u001b[0m \u001b[43m    \u001b[49m\u001b[38;5;66;43;03m#x_max               = 200*6,\u001b[39;49;00m\n\u001b[1;32m     11\u001b[0m \u001b[43m    \u001b[49m\u001b[38;5;66;43;03m#y_min               = 0, \u001b[39;49;00m\n\u001b[1;32m     12\u001b[0m \u001b[43m    \u001b[49m\u001b[38;5;66;43;03m#y_max               = 200,\u001b[39;49;00m\n\u001b[1;32m     13\u001b[0m \u001b[43m    \u001b[49m\u001b[43mmax_points\u001b[49m\u001b[43m          \u001b[49m\u001b[38;5;241;43m=\u001b[39;49m\u001b[43m \u001b[49m\u001b[43mmax_points\u001b[49m\u001b[43m,\u001b[49m\n\u001b[1;32m     14\u001b[0m \u001b[43m    \u001b[49m\u001b[38;5;66;43;03m#nlens              = 5,\u001b[39;49;00m\n\u001b[1;32m     15\u001b[0m \u001b[43m    \u001b[49m\u001b[43msubsequence_len\u001b[49m\u001b[43m     \u001b[49m\u001b[38;5;241;43m=\u001b[39;49m\u001b[43m \u001b[49m\u001b[38;5;241;43m50\u001b[39;49m\u001b[43m,\u001b[49m\u001b[43m \u001b[49m\u001b[38;5;66;43;03m#1 heartbeat\u001b[39;49;00m\n\u001b[1;32m     16\u001b[0m \u001b[43m    \u001b[49m\u001b[38;5;66;43;03m#provide_len        = True,\u001b[39;49;00m\n\u001b[1;32m     17\u001b[0m \u001b[43m    \u001b[49m\u001b[43mprovide_len\u001b[49m\u001b[43m         \u001b[49m\u001b[38;5;241;43m=\u001b[39;49m\u001b[43m \u001b[49m\u001b[38;5;28;43;01mFalse\u001b[39;49;00m\u001b[43m,\u001b[49m\n\u001b[1;32m     18\u001b[0m \u001b[43m    \u001b[49m\u001b[43mdownsample_flag\u001b[49m\u001b[43m     \u001b[49m\u001b[38;5;241;43m=\u001b[39;49m\u001b[43m \u001b[49m\u001b[38;5;28;43;01mTrue\u001b[39;49;00m\u001b[43m,\u001b[49m\n\u001b[1;32m     19\u001b[0m \u001b[43m    \u001b[49m\u001b[43mmin_lag\u001b[49m\u001b[43m             \u001b[49m\u001b[38;5;241;43m=\u001b[39;49m\u001b[43m \u001b[49m\u001b[38;5;241;43m8\u001b[39;49m\u001b[43m,\u001b[49m\n\u001b[1;32m     20\u001b[0m \u001b[43m    \u001b[49m\u001b[43mprint_depth\u001b[49m\u001b[43m         \u001b[49m\u001b[38;5;241;43m=\u001b[39;49m\u001b[43m \u001b[49m\u001b[38;5;241;43m2\u001b[39;49m\n\u001b[1;32m     21\u001b[0m \u001b[43m)\u001b[49m\n",
      "File \u001b[0;32m~/work/dvats/mplots.py:2566\u001b[0m, in \u001b[0;36mMatrixProfilePlot.compute\u001b[0;34m(self, dm_method, mp_method, min_lag, print_flag, d, debug, time_flag, allow_experimental, ensure_symetric, provide_len, subsequence_len, nlens, offset, x_min, x_max, y_min, y_max, max_points, show_plots, downsample_flag, include_padding, print_depth)\u001b[0m\n\u001b[1;32m   2563\u001b[0m \u001b[38;5;28;01mif\u001b[39;00m print_flag \u001b[38;5;129;01mand\u001b[39;00m print_depth \u001b[38;5;241m>\u001b[39m \u001b[38;5;241m0\u001b[39m:  \n\u001b[1;32m   2564\u001b[0m     \u001b[38;5;28mprint\u001b[39m(\u001b[38;5;124m\"\u001b[39m\u001b[38;5;124mMPlot | Compute | --> Compute DM | Allow experimental: \u001b[39m\u001b[38;5;124m\"\u001b[39m, allow_experimental)\n\u001b[0;32m-> 2566\u001b[0m \u001b[38;5;28;43mself\u001b[39;49m\u001b[38;5;241;43m.\u001b[39;49m\u001b[43mDM_AB\u001b[49m\u001b[38;5;241;43m.\u001b[39;49m\u001b[43mcompute\u001b[49m\u001b[43m(\u001b[49m\n\u001b[1;32m   2567\u001b[0m \u001b[43m    \u001b[49m\u001b[43mmethod\u001b[49m\u001b[43m              \u001b[49m\u001b[38;5;241;43m=\u001b[39;49m\u001b[43m \u001b[49m\u001b[43mdm_method\u001b[49m\u001b[43m,\u001b[49m\n\u001b[1;32m   2568\u001b[0m \u001b[43m    \u001b[49m\u001b[43mprint_flag\u001b[49m\u001b[43m          \u001b[49m\u001b[38;5;241;43m=\u001b[39;49m\u001b[43m \u001b[49m\u001b[43mprint_flag\u001b[49m\u001b[43m,\u001b[49m\n\u001b[1;32m   2569\u001b[0m \u001b[43m    \u001b[49m\u001b[43mtime_flag\u001b[49m\u001b[43m           \u001b[49m\u001b[38;5;241;43m=\u001b[39;49m\u001b[43m \u001b[49m\u001b[43mtime_flag\u001b[49m\u001b[43m,\u001b[49m\u001b[43m \u001b[49m\n\u001b[1;32m   2570\u001b[0m \u001b[43m    \u001b[49m\u001b[43mallow_experimental\u001b[49m\u001b[43m  \u001b[49m\u001b[38;5;241;43m=\u001b[39;49m\u001b[43m \u001b[49m\u001b[43mallow_experimental\u001b[49m\u001b[43m,\u001b[49m\n\u001b[1;32m   2571\u001b[0m \u001b[43m    \u001b[49m\u001b[43mensure_symetric\u001b[49m\u001b[43m     \u001b[49m\u001b[38;5;241;43m=\u001b[39;49m\u001b[43m \u001b[49m\u001b[43mensure_symetric\u001b[49m\u001b[43m,\u001b[49m\n\u001b[1;32m   2572\u001b[0m \u001b[43m    \u001b[49m\u001b[43mmin_lag\u001b[49m\u001b[43m             \u001b[49m\u001b[38;5;241;43m=\u001b[39;49m\u001b[43m \u001b[49m\u001b[43mmin_lag\u001b[49m\u001b[43m,\u001b[49m\n\u001b[1;32m   2573\u001b[0m \u001b[43m    \u001b[49m\u001b[43mprint_depth\u001b[49m\u001b[43m         \u001b[49m\u001b[38;5;241;43m=\u001b[39;49m\u001b[43m \u001b[49m\u001b[43mprint_depth\u001b[49m\u001b[38;5;241;43m-\u001b[39;49m\u001b[38;5;241;43m1\u001b[39;49m\u001b[43m,\u001b[49m\n\u001b[1;32m   2574\u001b[0m \u001b[43m    \u001b[49m\u001b[43mdebug\u001b[49m\u001b[43m               \u001b[49m\u001b[38;5;241;43m=\u001b[39;49m\u001b[43m \u001b[49m\u001b[43mdebug\u001b[49m\n\u001b[1;32m   2575\u001b[0m \u001b[43m\u001b[49m\u001b[43m)\u001b[49m\n",
      "File \u001b[0;32m~/work/dvats/mplots.py:1337\u001b[0m, in \u001b[0;36mDistanceMatrix.compute\u001b[0;34m(self, method, d, ensure_symetric, mheight, mwidth, min_lag, multiresolution, calibration, piecewise, patch_size, print_flag, plot_flag, time_flag, allow_experimental, parallel, threads, provide_len, nlens, gpus, pearson, print_depth, debug)\u001b[0m\n\u001b[1;32m   1334\u001b[0m         \u001b[38;5;28;01mif\u001b[39;00m mwidth \u001b[38;5;129;01mis\u001b[39;00m \u001b[38;5;28;01mNone\u001b[39;00m:\n\u001b[1;32m   1335\u001b[0m             mwidth \u001b[38;5;241m=\u001b[39m  n \u001b[38;5;241m-\u001b[39m \u001b[38;5;28mself\u001b[39m\u001b[38;5;241m.\u001b[39msubsequence_len \u001b[38;5;241m+\u001b[39m \u001b[38;5;241m1\u001b[39m\n\u001b[0;32m-> 1337\u001b[0m         \u001b[38;5;28mself\u001b[39m\u001b[38;5;241m.\u001b[39mdistances \u001b[38;5;241m=\u001b[39m \u001b[43mscamp\u001b[49m\u001b[38;5;241;43m.\u001b[39;49m\u001b[43mselfjoin_matrix\u001b[49m\u001b[43m(\u001b[49m\n\u001b[1;32m   1338\u001b[0m \u001b[43m            \u001b[49m\u001b[43ma\u001b[49m\u001b[43m       \u001b[49m\u001b[38;5;241;43m=\u001b[39;49m\u001b[43m \u001b[49m\u001b[38;5;28;43mself\u001b[39;49m\u001b[38;5;241;43m.\u001b[39;49m\u001b[43mdata\u001b[49m\u001b[43m,\u001b[49m\u001b[43m \u001b[49m\n\u001b[1;32m   1339\u001b[0m \u001b[43m            \u001b[49m\u001b[43mb\u001b[49m\u001b[43m       \u001b[49m\u001b[38;5;241;43m=\u001b[39;49m\u001b[43m \u001b[49m\u001b[43mreference_seq\u001b[49m\u001b[43m,\u001b[49m\n\u001b[1;32m   1340\u001b[0m \u001b[43m            \u001b[49m\u001b[43mm\u001b[49m\u001b[43m       \u001b[49m\u001b[38;5;241;43m=\u001b[39;49m\u001b[43m \u001b[49m\u001b[38;5;28;43mself\u001b[39;49m\u001b[38;5;241;43m.\u001b[39;49m\u001b[43msubsequence_len\u001b[49m\u001b[43m,\u001b[49m\n\u001b[1;32m   1341\u001b[0m \u001b[43m            \u001b[49m\u001b[43mmheight\u001b[49m\u001b[43m \u001b[49m\u001b[38;5;241;43m=\u001b[39;49m\u001b[43m \u001b[49m\u001b[43mmheight\u001b[49m\u001b[43m,\u001b[49m\n\u001b[1;32m   1342\u001b[0m \u001b[43m            \u001b[49m\u001b[43mmwidth\u001b[49m\u001b[43m  \u001b[49m\u001b[38;5;241;43m=\u001b[39;49m\u001b[43m \u001b[49m\u001b[43mmwidth\u001b[49m\n\u001b[1;32m   1343\u001b[0m \u001b[43m        \u001b[49m\u001b[43m)\u001b[49m\n\u001b[1;32m   1344\u001b[0m \u001b[38;5;28;01melse\u001b[39;00m:\n\u001b[1;32m   1345\u001b[0m     \u001b[38;5;28;01mif\u001b[39;00m print_flag \u001b[38;5;129;01mand\u001b[39;00m print_depth \u001b[38;5;241m>\u001b[39m \u001b[38;5;241m0\u001b[39m: \u001b[38;5;28mprint\u001b[39m(\u001b[38;5;124m\"\u001b[39m\u001b[38;5;124mNot allowing experimental\u001b[39m\u001b[38;5;124m\"\u001b[39m)\n",
      "\u001b[0;31mValueError\u001b[0m: Invalid keyword argument specified unknown argument: b"
     ]
    }
   ],
   "source": [
    "data_MPlot.compute(\n",
    "    mp_method           = 'scamp', #scamp --> Devuelve siempre 0 en el ejemplo de Pulsus Raxodus | why?\n",
    "    dm_method           = 'scamp', #scamp\n",
    "    print_flag          = True,\n",
    "    debug               = False,\n",
    "    time_flag           = True,\n",
    "    allow_experimental  = True, #False\n",
    "    ensure_symetric     = False,\n",
    "    #x_min               = 200*4,\n",
    "    #x_max               = 200*6,\n",
    "    #y_min               = 0, \n",
    "    #y_max               = 200,\n",
    "    max_points          = max_points,\n",
    "    #nlens              = 5,\n",
    "    subsequence_len     = 50, #1 heartbeat\n",
    "    #provide_len        = True,\n",
    "    provide_len         = False,\n",
    "    downsample_flag     = True,\n",
    "    min_lag             = 8,\n",
    "    print_depth         = 2\n",
    ")"
   ]
  },
  {
   "cell_type": "code",
   "execution_count": null,
   "id": "c779064b",
   "metadata": {},
   "outputs": [],
   "source": [
    "print(data_MPlot.DM_AB.shape)\n",
    "print(data_MPlot.DM_AB.method)"
   ]
  },
  {
   "cell_type": "code",
   "execution_count": null,
   "id": "c38adf57",
   "metadata": {},
   "outputs": [],
   "source": [
    "#######\n",
    "## CUIDADO PORQUE SCAMP NO SE DA CUENTA SI LAS GPUS ESTÁN PETADAS, TIRA MILLAS Y SACA TODO EL MP A 0.0\n",
    "#######\n",
    "print(len(ts))\n",
    "print(len(data_MPlot.MP_AB.distances))\n",
    "print(data_MPlot.MP_AB.distances)\n",
    "print(data_MPlot.mp_method)"
   ]
  },
  {
   "cell_type": "code",
   "execution_count": null,
   "id": "6f687fa7-8a3d-4e9d-9919-aec0bd94819c",
   "metadata": {},
   "outputs": [],
   "source": [
    "#| hide\n",
    "print(\"MP_AB self_join\", data_MPlot.MP_AB.self_join)\n",
    "print(\"DM_AB self_join\", data_MPlot.DM_AB.self_join)\n",
    "print(f\"DM_AB ~ {data_MPlot.DM_AB.shape}\")\n",
    "print(\"MP_AB method:\", data_MPlot.MP_AB.method)\n",
    "print(\"DM_AB method:\", data_MPlot.DM_AB.method)"
   ]
  },
  {
   "cell_type": "code",
   "execution_count": null,
   "id": "e2d17b89-164c-41e9-95af-2c33838e6cf4",
   "metadata": {},
   "outputs": [],
   "source": [
    "data_MPlot.DM_AB.distances.shape"
   ]
  },
  {
   "cell_type": "code",
   "execution_count": null,
   "id": "6dfb83a6-f7c5-41be-8012-f02894e8de4b",
   "metadata": {},
   "outputs": [],
   "source": [
    "figsize = (10,10)\n",
    "numerator = np.maximum(len(data_MPlot.DM_AB.distances[0]), 1)\n",
    "print(\"numerator\", numerator)\n",
    "denominator = np.maximum(1, int(figsize[0] * 2))\n",
    "print(\"denominator\", denominator)"
   ]
  },
  {
   "cell_type": "code",
   "execution_count": null,
   "id": "3af48337-1d56-43e8-9cdb-7bdffddb0bc9",
   "metadata": {},
   "outputs": [],
   "source": [
    "x_labels_count = np.maximum(\n",
    "    1, \n",
    "    len(data_MPlot.DM_AB.distances[0]) // np.maximum(1, int(figsize[0] * 2))\n",
    ")\n",
    "start = 0\n",
    "stop = len(data_MPlot.DM_AB.distances[0])\n",
    "step = (stop-start)//x_labels_count\n",
    "step = x_labels_count\n",
    "print(\"start\", start, \"stop\", stop, \"step\", x_labels_count)\n",
    "np.arange(start, stop, step)"
   ]
  },
  {
   "cell_type": "markdown",
   "id": "01c9fa87",
   "metadata": {},
   "source": [
    "Observando en [MPlots-pdf-Catalog](https://drive.google.com/file/d/1fjWUzVQf-8XmS5epDa_ulm4-bDX51Vxv/view) hay un motif de longitud 187 en aproximadamente la posicion:"
   ]
  },
  {
   "cell_type": "code",
   "execution_count": null,
   "id": "bf43b587",
   "metadata": {},
   "outputs": [],
   "source": [
    "fraction = 205000/4\n",
    "print(fraction)\n",
    "approximated_position_in_eamonn_plot = fraction + (2 * fraction / 3)\n",
    "print(f\"Approximated position in eammon's plot {approximated_position_in_eamonn_plot}\")"
   ]
  },
  {
   "cell_type": "code",
   "execution_count": null,
   "id": "e7707f91-e108-46a8-83b6-9711b7ea07f7",
   "metadata": {},
   "outputs": [],
   "source": [
    "205000/5\n",
    "205/60\n",
    "1800/18"
   ]
  },
  {
   "cell_type": "code",
   "execution_count": null,
   "id": "a7c50070-564d-4a67-b0ac-bd1469ffcb15",
   "metadata": {},
   "outputs": [],
   "source": [
    "#plot_numpy_array(ts[81000:102500], figsize = (30,5))\n",
    "#plot_numpy_array(ts[data_MPlot.x_min:data_MPlot.x_max], figsize = (15,5))\n",
    "#plot_numpy_array(ts, figsize = (10,5))\n",
    "plot_numpy_array(ts[0:27*2], figsize = (10,5))"
   ]
  },
  {
   "cell_type": "code",
   "execution_count": null,
   "id": "65d3d8c5",
   "metadata": {},
   "outputs": [],
   "source": [
    "%matplotlib widget\n",
    "#data_MPlot.MP_AB.max_points = 100+data_MPlot.subsequence_len\n",
    "max_points = 3000\n",
    "print(f\"Max points: {max_points}\")\n",
    "data_MPlot.MP_AB.max_points = max_points\n",
    "data_MPlot.MP_AB.plot_interactive(print_flag = True)"
   ]
  },
  {
   "cell_type": "code",
   "execution_count": null,
   "id": "486bee2d-0dbe-4385-9833-025751f61504",
   "metadata": {},
   "outputs": [],
   "source": [
    "print(f\"{data_MPlot.x_min}, {data_MPlot.x_max}\")"
   ]
  },
  {
   "cell_type": "code",
   "execution_count": null,
   "id": "be47e5bb-6fe5-437b-9295-939d49bbb8c1",
   "metadata": {},
   "outputs": [],
   "source": [
    "data_MPlot.DM_AB.distances.shape"
   ]
  },
  {
   "cell_type": "code",
   "execution_count": null,
   "id": "90d03ac1",
   "metadata": {},
   "outputs": [],
   "source": [
    "data_MPlot.x_min"
   ]
  },
  {
   "cell_type": "code",
   "execution_count": null,
   "id": "f14f3fec",
   "metadata": {},
   "outputs": [],
   "source": [
    "xmin = 600\n",
    "xmax = 1200\n",
    "print(\"Original range:\", data_MPlot.x_min, data_MPlot.x_max)\n",
    "xstart = xmin - data_MPlot.x_min\n",
    "xend = np.minimum( xmax - data_MPlot.x_min, data_MPlot.DM_AB.distances.shape[1])\n",
    "print(xstart, xend)"
   ]
  },
  {
   "cell_type": "code",
   "execution_count": null,
   "id": "9196715b-fb10-4632-b9f2-c89265d7912e",
   "metadata": {},
   "outputs": [],
   "source": [
    "data_MPlot.DM_AB.distances.shape"
   ]
  },
  {
   "cell_type": "code",
   "execution_count": null,
   "id": "5cfa3d01",
   "metadata": {},
   "outputs": [],
   "source": [
    "data_MPlot.plot(\n",
    "    ts_name     = 'Variable 0',\n",
    "    figsize     = (10,10),\n",
    "    print_flag  = True,\n",
    "    less_labels = True,\n",
    "    debug_flag  = True,\n",
    "    dm_filter   = mplots.threshold_interval,\n",
    "    th_min      = 7.5,\n",
    "    th_max      = np.inf,\n",
    "    include_min = False,\n",
    "    include_max = False,\n",
    "    MPlot_title = 'Variable 0: MPlot | ' + data_MPlot.DM_AB.method\n",
    ")"
   ]
  },
  {
   "cell_type": "code",
   "execution_count": null,
   "id": "123b6fab-5df8-44f0-9f3a-80b51a9ded06",
   "metadata": {},
   "outputs": [],
   "source": [
    "data_MPlot.plot_as_matlab"
   ]
  },
  {
   "cell_type": "code",
   "execution_count": null,
   "id": "7b512f59",
   "metadata": {},
   "outputs": [],
   "source": [
    "x_min = 10000/step\n",
    "x_max = 12000/step\n",
    "y_min = 0/step\n",
    "y_max = 2000/step\n",
    "\n",
    "\n",
    "print(f\"X({x_min}, {x_max}) Y({y_min}, {y_max})\")"
   ]
  },
  {
   "cell_type": "code",
   "execution_count": null,
   "id": "c2d861df",
   "metadata": {},
   "outputs": [],
   "source": [
    "\"\"\"\n",
    "x_min_zoom = mplots.zoom_index(x_min, len(data_MPlot.data), data_MPlot.x_min, data_MPlot.x_max)\n",
    "x_max_zoom = mplots.zoom_index(x_max, len(data_MPlot.data), data_MPlot.x_min, data_MPlot.x_max)\n",
    "y_min_zoom = mplots.zoom_index(y_min, len(data_MPlot.data_b), data_MPlot.y_min, data_MPlot.y_max)\n",
    "y_max_zoom = mplots.zoom_index(y_max, len(data_MPlot.data_b), data_MPlot.y_min, data_MPlot.y_max)\n",
    "\"\"\"\n",
    "x_min_zoom = mplots.zoom_index(x_min, len(data_MPlot.data), len(data_MPlot.data_paa))\n",
    "x_max_zoom = mplots.zoom_index(x_max, len(data_MPlot.data), len(data_MPlot.data_paa))\n",
    "y_min_zoom = mplots.zoom_index(y_min, len(data_MPlot.data_b), len(data_MPlot.data_b_paa))\n",
    "y_max_zoom = mplots.zoom_index(y_max, len(data_MPlot.data_b), len(data_MPlot.data_b_paa))\n",
    "\n",
    "print(f\"Original limits: X(0, {len(data_MPlot.data)}) Y(0, {len(data_MPlot.data_b)})\")\n",
    "print(f\"Final limits: X({data_MPlot.x_min}, {data_MPlot.x_max}) Y({data_MPlot.y_min}, {data_MPlot.y_max})\")\n",
    "\n",
    "print(f\"X({x_min},{x_max}) Y({y_min},{y_max})\")\n",
    "print(f\"ZX({x_min_zoom}, {x_max_zoom}) ZY({y_min_zoom}, {y_max_zoom})\")\n"
   ]
  },
  {
   "cell_type": "code",
   "execution_count": null,
   "id": "3f5b7dc5",
   "metadata": {},
   "outputs": [],
   "source": [
    "#x   = 12000\n",
    "#zx  = mplots.zoom_index(x, len(data_MPlot.data), data_MPlot.x_min, data_MPlot.x_max)\n",
    "#rzx = mplots.restore_index(zx, data_MPlot.x_min, data_MPlot.x_max, len(data_MPlot.data))\n",
    "#print(f\"X({x}) ZX({zx}) RZX({rzx})\")\n"
   ]
  },
  {
   "cell_type": "code",
   "execution_count": null,
   "id": "800eec81",
   "metadata": {},
   "outputs": [],
   "source": [
    "#### Algo no cuadra con restore index\n",
    "\"\"\" \n",
    "print(mplots.restore_index(x_min_zoom, len(data_MPlot.data), data_MPlot.x_min, data_MPlot.x_max))\n",
    "print(mplots.restore_index(x_max_zoom, len(data_MPlot.data), data_MPlot.x_max, data_MPlot.x_max))\n",
    "print(mplots.restore_index(y_min_zoom, len(data_MPlot.data_b), data_MPlot.y_min, data_MPlot.y_max))\n",
    "print(mplots.restore_index(y_max_zoom, len(data_MPlot.data_b), data_MPlot.y_max, data_MPlot.y_max))\n",
    "\"\"\"\n",
    "print(mplots.restore_index(x_min_zoom, len(data_MPlot.data), len(data_MPlot.data_paa)))\n",
    "print(mplots.restore_index(x_max_zoom, len(data_MPlot.data), len(data_MPlot.data_paa)))\n",
    "print(mplots.restore_index(y_min_zoom, len(data_MPlot.data_b), len(data_MPlot.data_b_paa)))\n",
    "print(mplots.restore_index(y_max_zoom, len(data_MPlot.data_b), len(data_MPlot.data_b_paa)))"
   ]
  },
  {
   "cell_type": "code",
   "execution_count": null,
   "id": "666780c4-bf6a-4b1d-9bdb-35cf4d28c6be",
   "metadata": {},
   "outputs": [],
   "source": [
    "data_MPlot.plot(\n",
    "    ts_name     = 'Variable 0',\n",
    "    figsize     = (10,10),\n",
    "    print_flag  = True,\n",
    "    less_labels = True,\n",
    "    x_min = 5000,\n",
    "    x_max = 6000,\n",
    "    y_min = 0,\n",
    "    y_max = 1000,\n",
    "    dm_filter   = mplots.threshold_interval,\n",
    "    th_min      = 9.9,\n",
    "    th_max      = np.inf,\n",
    "    include_min = False,\n",
    "    include_max = False\n",
    ")"
   ]
  },
  {
   "cell_type": "code",
   "execution_count": null,
   "id": "89d82582-bf11-4b24-aeb7-511c8f8d399f",
   "metadata": {},
   "outputs": [],
   "source": [
    "##... Insectos\n",
    "fraction = 205000/4\n",
    "print(fraction)\n",
    "approximated_position_in_eamonn_plot = fraction + (2 * fraction / 3)\n",
    "print(f\"Approximated position in eammon's plot {approximated_position_in_eamonn_plot}\")"
   ]
  },
  {
   "cell_type": "code",
   "execution_count": null,
   "id": "5c28b48a-44d1-46cf-ba18-93d1f697bd47",
   "metadata": {},
   "outputs": [],
   "source": [
    "data_MPlots.DM_AB.shape"
   ]
  }
 ],
 "metadata": {
  "kernelspec": {
   "display_name": "Python 3 (ipykernel)",
   "language": "python",
   "name": "python3"
  },
  "language_info": {
   "codemirror_mode": {
    "name": "ipython",
    "version": 3
   },
   "file_extension": ".py",
   "mimetype": "text/x-python",
   "name": "python",
   "nbconvert_exporter": "python",
   "pygments_lexer": "ipython3",
   "version": "3.10.13"
  }
 },
 "nbformat": 4,
 "nbformat_minor": 5
}

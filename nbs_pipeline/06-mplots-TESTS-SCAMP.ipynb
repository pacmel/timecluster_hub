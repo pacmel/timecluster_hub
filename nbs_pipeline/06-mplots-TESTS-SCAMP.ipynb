{
 "cells": [
  {
   "cell_type": "markdown",
   "id": "7e5d93f6-1b3a-429d-8ad5-3796f58d4214",
   "metadata": {
    "editable": true,
    "slideshow": {
     "slide_type": ""
    },
    "tags": []
   },
   "source": [
    "# Matrix Profile MPlots\n",
    "> Siguiendo el flujo de 06-mplots-TESTS para intentar usar SCAMP\n",
    "> + info: https://www.cs.ucr.edu/~eamonn/MatrixProfile.html\n",
    ">> Recordar que hay un código que no está en matlab. Pedir a Eamonn cuando esté todo más formado"
   ]
  },
  {
   "cell_type": "markdown",
   "id": "2a166bf5-4e74-4b4a-89fb-5a893216d7de",
   "metadata": {},
   "source": [
    "## INSTALL AND USE SCAMP"
   ]
  },
  {
   "cell_type": "markdown",
   "id": "990b8754-b72e-4433-b678-2cb379a998f1",
   "metadata": {},
   "source": [
    "<div style=\"border:2px solid red; padding:10px;\">\n",
    "    <strong>⚠️ No eres root! </strong> \n",
    "    \n",
    "    Una vez fijadas las librerías, usar una imagen intermedia que incluya las librerías necesarias. \n",
    "    NO modificar la imagen base, porque pesará de manera excesiva y dificulta la vuelta atrás.\n",
    "   El dockerfile debería ser algo tipo Dockerfile.jupyter.mplots\n",
    "    \n",
    "</div>"
   ]
  },
  {
   "cell_type": "markdown",
   "id": "b719d43c-402d-45a2-ad01-9cf2f9a86e89",
   "metadata": {},
   "source": [
    "## Go SCAMP!"
   ]
  },
  {
   "cell_type": "markdown",
   "id": "c6c92191-af51-4374-a531-b67cb232208c",
   "metadata": {},
   "source": [
    "#### Mandatory imports"
   ]
  },
  {
   "cell_type": "code",
   "execution_count": null,
   "id": "0dfe1d16-1bd0-4e2d-9357-bce3e0db9e16",
   "metadata": {
    "editable": true,
    "slideshow": {
     "slide_type": ""
    },
    "tags": []
   },
   "outputs": [],
   "source": [
    "import numpy as np\n",
    "import matplotlib.pyplot as plt\n",
    "from mpl_toolkits.axes_grid1 import ImageGrid\n",
    "from matplotlib.gridspec import GridSpec\n",
    "import pyscamp as scamp"
   ]
  },
  {
   "cell_type": "markdown",
   "id": "073b58aa-0971-43ea-9911-e7502665dfe5",
   "metadata": {},
   "source": [
    "### Siguiendo el ejemplo del vídeo de stumpy"
   ]
  },
  {
   "cell_type": "code",
   "execution_count": null,
   "id": "d7f026da-43c1-46de-b05a-05e0656230b0",
   "metadata": {
    "editable": true,
    "slideshow": {
     "slide_type": ""
    },
    "tags": []
   },
   "outputs": [],
   "source": [
    "import dvats.memory as mem\n",
    "mem.gpu_memory_status()"
   ]
  },
  {
   "cell_type": "markdown",
   "id": "4456b47b-52c7-4929-b039-fe0dc8412948",
   "metadata": {},
   "source": [
    "### Ejemplo del video de Stumpy"
   ]
  },
  {
   "cell_type": "markdown",
   "id": "a18966d2-0e2e-4190-ac17-5096a8173cff",
   "metadata": {},
   "source": [
    "#### Inicializamos los parámetros"
   ]
  },
  {
   "cell_type": "code",
   "execution_count": null,
   "id": "fd9aa0bf-8e61-4fdf-b057-a987c1df254c",
   "metadata": {
    "editable": true,
    "slideshow": {
     "slide_type": ""
    },
    "tags": []
   },
   "outputs": [],
   "source": [
    "# Allows checking if pyscamp was built with CUDA and has GPU support.\n",
    "has_gpu_support = scamp.gpu_supported()\n",
    "has_gpu_support"
   ]
  },
  {
   "cell_type": "code",
   "execution_count": null,
   "id": "deb8285c-70b7-4e9f-8e5f-99d1f16acef1",
   "metadata": {
    "editable": true,
    "slideshow": {
     "slide_type": ""
    },
    "tags": []
   },
   "outputs": [],
   "source": [
    "ts = np.random.rand(10000)\n",
    "m = 50"
   ]
  },
  {
   "cell_type": "code",
   "execution_count": null,
   "id": "f8f0a7fa-4a3b-4c7d-a07c-103385ab4e9b",
   "metadata": {
    "editable": true,
    "slideshow": {
     "slide_type": ""
    },
    "tags": []
   },
   "outputs": [],
   "source": [
    "print(\"Ts ~ \", ts.shape)\n",
    "print(\"Expected mp length: \", int(np.floor(ts.shape[0]-m+1)))"
   ]
  },
  {
   "cell_type": "code",
   "execution_count": null,
   "id": "79d7d91b-3e21-4895-8cf7-b6ecf9f198ac",
   "metadata": {
    "editable": true,
    "slideshow": {
     "slide_type": ""
    },
    "tags": []
   },
   "outputs": [],
   "source": [
    "# Self join \n",
    "mp, index = scamp.selfjoin(ts, m)"
   ]
  },
  {
   "cell_type": "code",
   "execution_count": null,
   "id": "85c899fe-8fd9-488b-aeba-93ef84fdd6e0",
   "metadata": {},
   "outputs": [],
   "source": [
    "mp.shape"
   ]
  },
  {
   "cell_type": "code",
   "execution_count": null,
   "id": "13108d1c-743f-41b4-880d-4e267d8b9aec",
   "metadata": {},
   "outputs": [],
   "source": [
    "index.shape"
   ]
  },
  {
   "cell_type": "code",
   "execution_count": null,
   "id": "44774c07-23d1-43d4-b447-4413676ce512",
   "metadata": {},
   "outputs": [],
   "source": [
    "# AB join using 4 threads, outputting pearson correlation.\n",
    "ts2 = np.random.rand(10000)\n",
    "profile, index2 = scamp.abjoin(ts, ts2, m, pearson=True, threads=4)"
   ]
  },
  {
   "cell_type": "code",
   "execution_count": null,
   "id": "7840d30d-179c-424c-999c-8d624b6fb9d8",
   "metadata": {},
   "outputs": [],
   "source": [
    "print(\"profile ~ \", profile.shape)"
   ]
  },
  {
   "cell_type": "markdown",
   "id": "4b5da6d4-8d82-4e78-b8a2-1d507ae0c6c9",
   "metadata": {},
   "source": [
    "#### Visualizar el MPlot y la serie temporal"
   ]
  },
  {
   "cell_type": "code",
   "execution_count": null,
   "id": "ecb7129c-41ed-4557-8384-1f0089200a8d",
   "metadata": {},
   "outputs": [],
   "source": [
    "fig = plt.figure(figsize=(10, 6))\n",
    "gs = GridSpec(2, 1, height_ratios=[1, 4])\n",
    "# Serie temporal\n",
    "ax1 = fig.add_subplot(gs[0])\n",
    "ax1.plot(ts, label=\"Serie Temporal\")\n",
    "ax1.set_title(\"Serie Temporal\")\n",
    "ax1.legend()\n",
    "# MPlot\n",
    "ax2 = fig.add_subplot(gs[1], sharex=ax1)\n",
    "mp_values = mp.astype(float) # Extraer solo los valores del perfil de similitud\n",
    "ax2.imshow(mp_values.reshape(-1, 1).T, aspect='auto', origin='lower', cmap='hot', extent=(0, len(ts), 0, m))\n",
    "ax2.set_title(\"MPlot\")\n",
    "plt.tight_layout()\n",
    "plt.show()"
   ]
  },
  {
   "cell_type": "markdown",
   "id": "3b9df65a-1332-495f-8bdf-e0367ddc51b3",
   "metadata": {},
   "source": [
    "### Ejemplo de STUMPY Basics - Analyzing Motifs and Anomalies with STUMP\n",
    "https://stumpy.readthedocs.io/en/latest/Tutorial_The_Matrix_Profile.html"
   ]
  },
  {
   "cell_type": "code",
   "execution_count": null,
   "id": "5993553f-e454-436a-8580-eac6fca0d857",
   "metadata": {},
   "outputs": [],
   "source": [
    "%matplotlib inline\n",
    "\n",
    "import pandas as pd\n",
    "import numpy as np\n",
    "import matplotlib.pyplot as plt\n",
    "import matplotlib.dates as dates\n",
    "from matplotlib.patches import Rectangle\n",
    "import datetime as dt\n",
    "\n",
    "plt.style.use('https://raw.githubusercontent.com/TDAmeritrade/stumpy/main/docs/stumpy.mplstyle')"
   ]
  },
  {
   "cell_type": "markdown",
   "id": "9eb77df6-fa20-4a86-abf4-2dd58d27814b",
   "metadata": {},
   "source": [
    "Load the dataset"
   ]
  },
  {
   "cell_type": "code",
   "execution_count": null,
   "id": "1d0846a2-3039-4587-8d6a-d40aa0757ae4",
   "metadata": {},
   "outputs": [],
   "source": [
    "steam_df = pd.read_csv(\"https://zenodo.org/record/4273921/files/STUMPY_Basics_steamgen.csv?download=1\")\n",
    "steam_df.head()"
   ]
  },
  {
   "cell_type": "code",
   "execution_count": null,
   "id": "2a415279-71cc-4c01-8a09-bd3ecee85fd8",
   "metadata": {},
   "outputs": [],
   "source": [
    "steam_df.shape"
   ]
  },
  {
   "cell_type": "markdown",
   "id": "fac0163d-b87c-4e25-a1c8-4d7ad532c38b",
   "metadata": {},
   "source": [
    "Visualize dataset"
   ]
  },
  {
   "cell_type": "code",
   "execution_count": null,
   "id": "a811de7d-a310-4544-bbdd-1651f25af069",
   "metadata": {},
   "outputs": [],
   "source": [
    "plt.suptitle('Steamgen Dataset', fontsize='30')\n",
    "plt.xlabel('Time', fontsize ='20')\n",
    "plt.ylabel('Steam Flow', fontsize='20')\n",
    "plt.plot(steam_df['steam flow'].values)\n",
    "plt.show()"
   ]
  },
  {
   "cell_type": "markdown",
   "id": "cd1e3a09-0b49-4d6e-997d-81a626e72bd9",
   "metadata": {},
   "source": [
    "Manually find a motif"
   ]
  },
  {
   "cell_type": "code",
   "execution_count": null,
   "id": "fe433084-9fd3-4f6d-8f59-9daf8d18a6fc",
   "metadata": {},
   "outputs": [],
   "source": [
    "m = 640\n",
    "fig, axs = plt.subplots(2)\n",
    "plt.suptitle('Steamgen Dataset', fontsize='30')\n",
    "axs[0].set_ylabel(\"Steam Flow\", fontsize='20')\n",
    "axs[0].plot(steam_df['steam flow'], alpha=0.5, linewidth=1)\n",
    "axs[0].plot(steam_df['steam flow'].iloc[643:643+m])\n",
    "axs[0].plot(steam_df['steam flow'].iloc[8724:8724+m])\n",
    "rect = Rectangle((643, 0), m, 40, facecolor='lightgrey')\n",
    "axs[0].add_patch(rect)\n",
    "rect = Rectangle((8724, 0), m, 40, facecolor='lightgrey')\n",
    "axs[0].add_patch(rect)\n",
    "axs[1].set_xlabel(\"Time\", fontsize='20')\n",
    "axs[1].set_ylabel(\"Steam Flow\", fontsize='20')\n",
    "axs[1].plot(steam_df['steam flow'].values[643:643+m], color='C1')\n",
    "axs[1].plot(steam_df['steam flow'].values[8724:8724+m], color='C2')\n",
    "plt.show()"
   ]
  },
  {
   "cell_type": "markdown",
   "id": "9de82500-8bc6-4553-9340-0a1ad460e1d9",
   "metadata": {},
   "source": [
    "Find a motif using SCAMP"
   ]
  },
  {
   "cell_type": "code",
   "execution_count": null,
   "id": "ac3cdf54-4a7e-4b6f-b22f-df5c5b5c5d28",
   "metadata": {},
   "outputs": [],
   "source": [
    "m = 640\n",
    "mp, index = scamp.selfjoin(steam_df['steam flow'], m)"
   ]
  },
  {
   "cell_type": "markdown",
   "id": "1c4cba7c-e273-47f7-b695-f4a7e1b0999a",
   "metadata": {},
   "source": [
    "- In this case, based on some domain expertise, we’ve chosen ```m = 640```, which is roughly equivalent to half-hour windows.\n",
    "- And, again, the output of ```scamp.selfjoin``` is an array that contains all of the matrix profile values (i.e., z-normalized Euclidean distance to your nearest neighbor). The matrix profile indices are saved in the index array.\n",
    "- To identify the index location of the motif we’ll need to find the index location where the matrix profile, ```mp[:, 0]```, has the smallest value:"
   ]
  },
  {
   "cell_type": "code",
   "execution_count": null,
   "id": "4a4ed669-ff9a-4724-a087-5341e33651a9",
   "metadata": {},
   "outputs": [],
   "source": [
    "mp"
   ]
  },
  {
   "cell_type": "code",
   "execution_count": null,
   "id": "4282f668-ba67-4be2-a5d5-80d45d05223c",
   "metadata": {},
   "outputs": [],
   "source": [
    "index.shape"
   ]
  },
  {
   "cell_type": "code",
   "execution_count": null,
   "id": "0b386309-ea17-4e43-8264-d748b2c0091a",
   "metadata": {},
   "outputs": [],
   "source": [
    "mp[:][0]"
   ]
  },
  {
   "cell_type": "code",
   "execution_count": null,
   "id": "b1074e80-d8ca-46a3-bf80-d8f93e9110b9",
   "metadata": {},
   "outputs": [],
   "source": [
    "motif_idx = np.argsort(mp)[0]\n",
    "print(f\"The motif is located at index {motif_idx}\")"
   ]
  },
  {
   "cell_type": "markdown",
   "id": "a4080c71-4869-4c84-b837-e53dba34d97a",
   "metadata": {},
   "source": [
    "With this ```motif_idx information```, we can also identify the location of its nearest neighbor by cross-referencing the matrix profile indices, ```mp[:, 1]:```"
   ]
  },
  {
   "cell_type": "code",
   "execution_count": null,
   "id": "816896e6-5079-4a7e-8ea6-5d54f052b38f",
   "metadata": {},
   "outputs": [],
   "source": [
    "nearest_neighbor_idx = index[motif_idx]\n",
    "print(f\"The nearest neighbor is located at index {nearest_neighbor_idx}\")"
   ]
  },
  {
   "cell_type": "markdown",
   "id": "6c21fac2-1d5a-46ef-bff9-f27b39598a19",
   "metadata": {},
   "source": [
    "Todo junto"
   ]
  },
  {
   "cell_type": "code",
   "execution_count": null,
   "id": "ed3b5a5f-a38a-4b09-b955-200826cd03fe",
   "metadata": {},
   "outputs": [],
   "source": [
    "fig, axs = plt.subplots(2, sharex=True, gridspec_kw={'hspace': 0})\n",
    "plt.suptitle('Motif (Pattern) Discovery', fontsize='30')\n",
    "\n",
    "axs[0].plot(steam_df['steam flow'].values)\n",
    "axs[0].set_ylabel('Steam Flow', fontsize='20')\n",
    "rect = Rectangle((motif_idx, 0), m, 40, facecolor='lightgrey')\n",
    "axs[0].add_patch(rect)\n",
    "rect = Rectangle((nearest_neighbor_idx, 0), m, 40, facecolor='lightgrey')\n",
    "axs[0].add_patch(rect)\n",
    "axs[1].set_xlabel('Time', fontsize ='20')\n",
    "axs[1].set_ylabel('Matrix Profile', fontsize='20')\n",
    "axs[1].axvline(x=motif_idx, linestyle=\"dashed\")\n",
    "axs[1].axvline(x=nearest_neighbor_idx, linestyle=\"dashed\")\n",
    "axs[1].plot(mp)\n",
    "plt.show()"
   ]
  },
  {
   "cell_type": "markdown",
   "id": "2e57fafe-b106-443c-9327-3f3ca8573a6a",
   "metadata": {},
   "source": [
    "What we learn is that the global minima (vertical dashed lines) from the matrix profile correspond to the locations of the two subsequences that make up the motif pair! And the exact z-normalized Euclidean distance between these two subsequences is:"
   ]
  },
  {
   "cell_type": "code",
   "execution_count": null,
   "id": "149dec10-2a2f-4347-84ee-16b0f127782c",
   "metadata": {},
   "outputs": [],
   "source": [
    "mp[motif_idx]"
   ]
  },
  {
   "cell_type": "markdown",
   "id": "78d1e78e-5b05-4fe0-ae44-62e8bf929982",
   "metadata": {},
   "source": [
    "Discord"
   ]
  },
  {
   "cell_type": "code",
   "execution_count": null,
   "id": "dbdb4d25-4dfc-4d59-9054-3a0c86f1f623",
   "metadata": {},
   "outputs": [],
   "source": [
    "discord_idx = np.argsort(mp)[-1]\n",
    "print(f\"The discord is located at index {discord_idx}\")"
   ]
  },
  {
   "cell_type": "code",
   "execution_count": null,
   "id": "ccededfa-dafd-43fa-bef6-1af6c02b61ce",
   "metadata": {},
   "outputs": [],
   "source": [
    "mp[discord_idx]"
   ]
  },
  {
   "cell_type": "code",
   "execution_count": null,
   "id": "0372970e-dcf4-48c5-83b6-ecf8663a48b0",
   "metadata": {},
   "outputs": [],
   "source": [
    "nearest_neighbor_distance = index[discord_idx]\n",
    "\n",
    "print(f\"The nearest neighbor subsequence to this discord is {nearest_neighbor_distance} units away\")"
   ]
  },
  {
   "cell_type": "markdown",
   "id": "412edaac-ef34-4a90-8fe5-f7a2f3a4fc12",
   "metadata": {},
   "source": [
    "The subsequence located at this global maximum is also referred to as a discord, novelty, or “potential anomaly”:"
   ]
  },
  {
   "cell_type": "code",
   "execution_count": null,
   "id": "e092263b-d7db-49eb-be9f-55a0869a5cd0",
   "metadata": {},
   "outputs": [],
   "source": [
    "fig, axs = plt.subplots(2, sharex=True, gridspec_kw={'hspace': 0})\n",
    "plt.suptitle('Discord (Anomaly/Novelty) Discovery', fontsize='30')\n",
    "\n",
    "axs[0].plot(steam_df['steam flow'].values)\n",
    "axs[0].set_ylabel('Steam Flow', fontsize='20')\n",
    "rect = Rectangle((discord_idx, 0), m, 40, facecolor='lightgrey')\n",
    "axs[0].add_patch(rect)\n",
    "axs[1].set_xlabel('Time', fontsize ='20')\n",
    "axs[1].set_ylabel('Matrix Profile', fontsize='20')\n",
    "axs[1].axvline(x=discord_idx, linestyle=\"dashed\")\n",
    "axs[1].plot(mp)\n",
    "plt.show()"
   ]
  },
  {
   "cell_type": "markdown",
   "id": "fcd3d3a6-44a3-4306-ac76-626896eab56b",
   "metadata": {},
   "source": [
    "Intentando ver la matriz Distance Profile al completo"
   ]
  },
  {
   "cell_type": "code",
   "execution_count": null,
   "id": "138d3175-fb18-4522-a887-c106fe0cab11",
   "metadata": {},
   "outputs": [],
   "source": [
    "m = 640"
   ]
  },
  {
   "cell_type": "code",
   "execution_count": null,
   "id": "56891266-433e-4612-bf4b-4e3511a63a58",
   "metadata": {},
   "outputs": [],
   "source": [
    "steam_flow = steam_df['steam flow'].values\n",
    "#No nans\n",
    "steam_flow = [ 0 if np.isnan(x) else x for x in steam_flow ]"
   ]
  },
  {
   "cell_type": "code",
   "execution_count": null,
   "id": "4aa51592-7856-4f06-88c6-f6300f9efdef",
   "metadata": {},
   "outputs": [],
   "source": [
    "reference_idx = np.random.randint(low=0, high=len(steam_flow) - m)\n",
    "reference_subseq = steam_flow[reference_idx:reference_idx + m]"
   ]
  },
  {
   "cell_type": "code",
   "execution_count": null,
   "id": "f43637c1-0e6a-4ce2-bf88-bf87addccec4",
   "metadata": {},
   "outputs": [],
   "source": [
    "reference_idx"
   ]
  },
  {
   "cell_type": "code",
   "execution_count": null,
   "id": "892b44d0-e7a2-4291-a250-6904a99307ef",
   "metadata": {},
   "outputs": [],
   "source": [
    "# Calcular el Distance Profile para cada subsecuencia en la serie temporal\n",
    "distance_matrix = np.array([\n",
    "    scamp.abjoin(reference_subseq, steam_flow[i:i + m], m)[0]\n",
    "    for i in range(len(steam_flow) - m + 1)\n",
    "])"
   ]
  },
  {
   "cell_type": "code",
   "execution_count": null,
   "id": "7913dd3e-e5e4-490f-9f34-3d3c81e6fec9",
   "metadata": {},
   "outputs": [],
   "source": [
    "distance_matrix.shape"
   ]
  },
  {
   "cell_type": "code",
   "execution_count": null,
   "id": "76408d23-e92f-42a8-b2ed-e3874a4c516a",
   "metadata": {},
   "outputs": [],
   "source": [
    "distance_matrix"
   ]
  },
  {
   "cell_type": "markdown",
   "id": "b50bfa4d-6f41-42a0-89d6-0dbeeb93bdf9",
   "metadata": {},
   "source": [
    "...Y aquí está el problema! Estás cogiendo solo 1 subsequencia! Es un Distance profile, no un Matrix Profile. Además, el Matrix Profile debería tener una fila por cada DP, lo que significa que lo tenemos traspuesto!!! CUIDADO"
   ]
  },
  {
   "cell_type": "code",
   "execution_count": null,
   "id": "7ca06db6-5fb3-41e7-9e97-96c3312154b5",
   "metadata": {},
   "outputs": [],
   "source": [
    "n = len (steam_flow) # Numero de puntos de la serie temporal\n",
    "subsequence_len = 640 # Tamaño ventana\n",
    "m = subsequence_len"
   ]
  },
  {
   "cell_type": "code",
   "execution_count": null,
   "id": "e73e47b3-9ad2-4bef-8678-e724fab4b4dd",
   "metadata": {},
   "outputs": [],
   "source": [
    "subsequence_len"
   ]
  },
  {
   "cell_type": "code",
   "execution_count": null,
   "id": "3f86e942-0b75-4b16-8c7f-31ef8099eb3d",
   "metadata": {},
   "outputs": [],
   "source": [
    "len(steam_flow) - m + 1"
   ]
  },
  {
   "cell_type": "code",
   "execution_count": null,
   "id": "96d7ff71-36fa-490c-b5c1-e2e649798149",
   "metadata": {},
   "outputs": [],
   "source": [
    "# Inicialización de la matriz asociada al MPlot\n",
    "MPlot_matrix = np.empty((n - m + 1, n - m + 1))"
   ]
  },
  {
   "cell_type": "code",
   "execution_count": null,
   "id": "971e9c8e-043a-4a7c-9099-842f1be731e6",
   "metadata": {},
   "outputs": [],
   "source": [
    "# Calcular el Distance Profile para cada subsecuencia en la serie temporal\n",
    "distance_matrix = np.array([\n",
    "    stumpy.core.mass(\n",
    "        reference_subseq, steam_flow[i:i + m]) \n",
    "    for i in range(len(steam_flow) - m + 1)\n",
    "])"
   ]
  },
  {
   "cell_type": "code",
   "execution_count": null,
   "id": "57b8d9d0-af96-4c76-988c-83af88264f31",
   "metadata": {},
   "outputs": [],
   "source": [
    "print(steam_flow.shape)\n",
    "print(distance_matrix.shape)\n",
    "print(MPlot_matrix.shape)"
   ]
  },
  {
   "cell_type": "code",
   "execution_count": null,
   "id": "c7e0a935-912d-459a-b19d-fc14016dafd4",
   "metadata": {},
   "outputs": [],
   "source": [
    "#Calculamos el MPlot\n",
    "for i in range(n - m + 1):\n",
    "    ### Calculamos el Distance Profile utilizando el algoritmo MASS\n",
    "    MPlot_matrix[i,:] = stumpy.core.mass(steam_flow[i:i + m], steam_flow)"
   ]
  },
  {
   "cell_type": "code",
   "execution_count": null,
   "id": "6ffdacd2-8195-4a6f-b3fd-a0b2420a2ead",
   "metadata": {},
   "outputs": [],
   "source": [
    "import matplotlib.pyplot as plt\n",
    "from matplotlib.gridspec import GridSpec\n",
    "\n",
    "# Asumiendo que 'ts' es tu serie temporal y 'MPlot_matrix' es la matriz que has calculado\n",
    "# Asegúrate de que 'ts' y 'MPlot_matrix' están definidos en tu entorno de trabajo\n",
    "\n",
    "fig = plt.figure(figsize=(10, 10))\n",
    "gs = GridSpec(2, 1, height_ratios=[1, 4])\n",
    "\n",
    "# Serie temporal\n",
    "ax1 = fig.add_subplot(gs[0])\n",
    "ax1.plot(ts, label=\"Serie Temporal\")\n",
    "ax1.set_title(\"Serie Temporal\")\n",
    "ax1.legend()\n",
    "\n",
    "# MPlot\n",
    "ax2 = fig.add_subplot(gs[1], sharex=ax1)\n",
    "# Utilizar 'imshow' para visualizar la matriz MPlot\n",
    "ax2.imshow(MPlot_matrix, aspect='auto', origin='lower', cmap='hot', extent=(0, len(ts) - m, 0, len(ts) - m))\n",
    "ax2.set_title(\"MPlot\")\n",
    "ax2.set_xlabel('Subsecuencia Inicial')\n",
    "ax2.set_ylabel('Subsecuencia Referencia')\n",
    "\n",
    "plt.tight_layout()\n",
    "plt.show()"
   ]
  },
  {
   "cell_type": "markdown",
   "id": "ed184a89-c67d-4cda-821b-7a26f2dd4ce6",
   "metadata": {},
   "source": [
    "## Intentando downsamplear como hace Eamonn"
   ]
  },
  {
   "cell_type": "code",
   "execution_count": null,
   "id": "15f955ec-b021-4d3f-acb9-c973884f5e53",
   "metadata": {},
   "outputs": [],
   "source": [
    "### He cogido pyts porque ya la tengo, pero hay que mirar librerías"
   ]
  },
  {
   "cell_type": "code",
   "execution_count": null,
   "id": "8e61096c-53be-46d5-ab6d-62989e023119",
   "metadata": {},
   "outputs": [],
   "source": [
    "ts = steam_flow"
   ]
  },
  {
   "cell_type": "code",
   "execution_count": null,
   "id": "c0063354-bc85-459f-a2af-93b3ac075a49",
   "metadata": {},
   "outputs": [],
   "source": [
    "import numpy as np\n",
    "import matplotlib.pyplot as plt\n",
    "from pyts.approximation import PiecewiseAggregateApproximation"
   ]
  },
  {
   "cell_type": "code",
   "execution_count": null,
   "id": "4e9ef120-18a7-4052-940e-90e0b2cae1ff",
   "metadata": {},
   "outputs": [],
   "source": [
    "n_samples, n_timestamps = 1, ts.shape[0]\n",
    "print(n_samples)\n",
    "print(n_timestamps)"
   ]
  },
  {
   "cell_type": "code",
   "execution_count": null,
   "id": "a1f7e9b5-5e99-4d1a-80f8-702cac662071",
   "metadata": {},
   "outputs": [],
   "source": [
    "downsample_factor = 4"
   ]
  },
  {
   "cell_type": "code",
   "execution_count": null,
   "id": "6a8b708f-15cb-4c6d-b07e-935557bf14ea",
   "metadata": {},
   "outputs": [],
   "source": [
    "expected_size = np.floor(n_timestamps/downsample_factor).astype(int)\n",
    "expected_size"
   ]
  },
  {
   "cell_type": "code",
   "execution_count": null,
   "id": "65966a8e-c830-49ee-8d0f-4bf3c38c0073",
   "metadata": {},
   "outputs": [],
   "source": [
    "paa = PiecewiseAggregateApproximation(window_size = downsample_factor) #Creo que es justo lo contrario. Adaptar"
   ]
  },
  {
   "cell_type": "code",
   "execution_count": null,
   "id": "7c4bd5f3-d67f-4495-92d5-09e3b92fd64e",
   "metadata": {},
   "outputs": [],
   "source": [
    "tss = ts.reshape(1,-1)\n",
    "tss.shape"
   ]
  },
  {
   "cell_type": "code",
   "execution_count": null,
   "id": "349f43c8-d3f0-4845-bb2d-469d1e1c818b",
   "metadata": {},
   "outputs": [],
   "source": [
    "tss_downsampled = paa.transform(tss)"
   ]
  },
  {
   "cell_type": "code",
   "execution_count": null,
   "id": "18e448a7-67dc-4987-88a9-215de26a14d5",
   "metadata": {},
   "outputs": [],
   "source": [
    "ts_downsampled = tss_downsampled[0]"
   ]
  },
  {
   "cell_type": "code",
   "execution_count": null,
   "id": "82680be7-38ce-48fc-8bb9-8ae63b45eb87",
   "metadata": {},
   "outputs": [],
   "source": [
    "# Pues parece que está bien. Y tiene sentido. Porque a cada ventana que \n",
    "# avanzamos, quitamos d elementos\n",
    "ts_downsampled.shape "
   ]
  },
  {
   "cell_type": "code",
   "execution_count": null,
   "id": "1a36d29e-eaea-4f28-bbc7-5dbd458b39ae",
   "metadata": {},
   "outputs": [],
   "source": [
    "def distance_matrix (reference_subseq, ts, m):\n",
    "    distance_matrix = np.array([\n",
    "        stumpy.core.mass(reference_subseq, ts[i:i + m]) \n",
    "        for i in range(len(ts) - m + 1)\n",
    "    ])\n",
    "    return distance_matrix"
   ]
  },
  {
   "cell_type": "code",
   "execution_count": null,
   "id": "2ab60cb1-3339-44a6-af91-fdfade5c7184",
   "metadata": {},
   "outputs": [],
   "source": [
    "def mplot_matrix(ts, m): \n",
    "    n = ts.shape[0]\n",
    "    MPlot_matrix = np.empty((n - m + 1, n - m + 1))\n",
    "    for i in range(n - m + 1):\n",
    "        ### Calculamos el Distance Profile utilizando el algoritmo MASS\n",
    "        MPlot_matrix[i,:] = stumpy.core.mass(ts[i:i + m], ts)\n",
    "    return MPlot_matrix"
   ]
  },
  {
   "cell_type": "code",
   "execution_count": null,
   "id": "49988d9d-056d-4ec4-b280-4367812f98e3",
   "metadata": {},
   "outputs": [],
   "source": [
    "tsd_len = ts_downsampled.shape[0]\n",
    "m = 640 #Window size\n",
    "reference_idx = np.random.randint(low=0, high= tsd_len - m)\n",
    "reference_subseq = ts_downsampled[reference_idx:reference_idx + m]\n",
    "#distance_matrix = distance_matrix(reference_subseq, ts_downsampled, m)\n",
    "MPlot_matrix = mplot_matrix(ts_downsampled, m)\n",
    "# Asumiendo que 'ts' es tu serie temporal y 'MPlot_matrix' es la matriz que has calculado\n",
    "# Asegúrate de que 'ts' y 'MPlot_matrix' están definidos en tu entorno de trabajo\n",
    "\n",
    "fig = plt.figure(figsize=(10, 10))\n",
    "gs = GridSpec(2, 1, height_ratios=[1, 4])\n",
    "\n",
    "# Serie temporal\n",
    "ax1 = fig.add_subplot(gs[0])\n",
    "ax1.plot(ts, label=\"Serie Temporal\")\n",
    "ax1.set_title(\"Serie Temporal\")\n",
    "ax1.legend()\n",
    "\n",
    "# MPlot\n",
    "ax2 = fig.add_subplot(gs[1], sharex=ax1)\n",
    "# Utilizar 'imshow' para visualizar la matriz MPlot\n",
    "ax2.imshow(MPlot_matrix, aspect='auto', origin='lower', cmap='hot', extent=(0, len(ts) - m, 0, len(ts) - m))\n",
    "ax2.set_title(\"MPlot\")\n",
    "ax2.set_xlabel('Subsecuencia Inicial')\n",
    "ax2.set_ylabel('Subsecuencia Referencia')\n",
    "\n",
    "plt.tight_layout()\n",
    "plt.show()"
   ]
  },
  {
   "cell_type": "code",
   "execution_count": null,
   "id": "fe8edfb7-f84d-43d5-9fed-6baade70db29",
   "metadata": {},
   "outputs": [],
   "source": [
    "import time"
   ]
  },
  {
   "cell_type": "code",
   "execution_count": null,
   "id": "46442e62-fb0f-4aea-9393-64123e2f5c78",
   "metadata": {},
   "outputs": [],
   "source": [
    "def plot_mplot(ts, MPlot_matrix, m):\n",
    "    fig = plt.figure(figsize=(10, 10))\n",
    "    gs = GridSpec(2, 1, height_ratios=[1, 4])\n",
    "\n",
    "    # Serie temporal\n",
    "    ax1 = fig.add_subplot(gs[0])\n",
    "    ax1.plot(ts, label=\"Serie Temporal\")\n",
    "    ax1.set_title(\"Serie Temporal\")\n",
    "    ax1.legend()\n",
    "\n",
    "    # MPlot\n",
    "    ax2 = fig.add_subplot(gs[1], sharex=ax1)\n",
    "    ax2.imshow(MPlot_matrix, aspect='auto', origin='lower', cmap='hot', extent=(0, len(ts) - m, 0, len(ts) - m))\n",
    "    ax2.set_title(\"MPlot\")\n",
    "    ax2.set_xlabel('Subsecuencia Inicial')\n",
    "    ax2.set_ylabel('Subsecuencia Referencia')\n",
    "\n",
    "    plt.tight_layout()\n",
    "    plt.show()\n",
    "\n",
    "def benchmark_mplot_sizes(ts, min_m, max_m, total_splits):\n",
    "    distance = np.floor((max_m - min_m)/total_splits)\n",
    "    window_sizes = [ int(min_m + (i * distance)) for i in range(total_splits) ]\n",
    "    print(window_sizes)\n",
    "    for m in window_sizes:  # Ajusta el rango y el paso según sea necesario\n",
    "        start_time = time.time()\n",
    "        MPlot_matrix = mplot_matrix(ts, m)\n",
    "        end_time = time.time()\n",
    "        print(f\"Tiempo de ejecución para m = {m}: {end_time - start_time} segundos\")\n",
    "        plot_mplot(ts, MPlot_matrix, m)"
   ]
  },
  {
   "cell_type": "code",
   "execution_count": null,
   "id": "66aa4eb0-04ae-48b7-bfd5-614d91e156f7",
   "metadata": {},
   "outputs": [],
   "source": [
    "benchmark_mplot_sizes(ts, 640, 640*10, 4)"
   ]
  },
  {
   "cell_type": "markdown",
   "id": "2779b2c8-248a-4bcd-98e3-8617834023c0",
   "metadata": {},
   "source": [
    "...hm... No es exactamente el comportamiento que esperaba con el tiempo de ejecución. Sí que me cuadra el efecto en los plots. Cada vez menos nítido. "
   ]
  },
  {
   "cell_type": "markdown",
   "id": "8f4b85ae-2db4-4551-993f-67c93a47df29",
   "metadata": {},
   "source": [
    "### Revisar el código que está 99% chatGPT"
   ]
  },
  {
   "cell_type": "code",
   "execution_count": null,
   "id": "9f2ca2db-2f78-4064-b3b2-aac3b0e3adc8",
   "metadata": {},
   "outputs": [],
   "source": [
    "def moving_mean(x, w):\n",
    "    return np.convolve(x, np.ones(w), 'valid') / w\n",
    "\n",
    "def moving_std(x, w):\n",
    "    return np.sqrt(moving_mean(x**2, w) - moving_mean(x, w)**2)"
   ]
  },
  {
   "cell_type": "code",
   "execution_count": null,
   "id": "94a56c22-fa3d-4ac0-a62f-93fde732a9d9",
   "metadata": {},
   "outputs": [],
   "source": [
    "def splat_check_parameters(\n",
    "    timeSeriesA, \n",
    "    subseqLen, \n",
    "    timeSeriesB=None, \n",
    "    plotting=False, \n",
    "    multiresolution=False, \n",
    "    calibration=None\n",
    "):\n",
    "    if not isinstance(timeSeriesA, np.ndarray) or timeSeriesA.ndim != 1:\n",
    "        raise ValueError('First argument must be a 1D numpy array')\n",
    "    if not (isinstance(subseqLen, int) and 2 <= subseqLen <= len(timeSeriesA)):\n",
    "        raise ValueError('Subsequence length must be an integer value between 2 and the length of the timeSeries')\n",
    "    \n",
    "def splat_resample_timeseries(timeSeriesA, timeSeriesB, selfjoin, max_length):\n",
    "    if len(timeSeriesA) > max_length or (not selfjoin and len(timeSeriesB) > max_length):\n",
    "        paa_factor = math.ceil(len(timeSeriesA) / max_length) if len(timeSeriesA) > max_length else math.ceil(len(timeSeriesB) / max_length)\n",
    "        print(f'Downsampling rate is set to {paa_factor}')\n",
    "    \n",
    "        if paa_factor != 1:\n",
    "            timeSeriesA = pyts.paa(timeSeriesA.reshape(1,-1), math.ceil(len(timeSeriesA) / paa_factor))[0]\n",
    "            subseqLen = math.ceil(subseqLen / paa_factor)\n",
    "            if not selfjoin:\n",
    "                timeSeriesB_newlength = math.floor(len(timeSeriesB) / paa_factor)\n",
    "                timeSeriesB = pyts.paa(timeSeriesB.reshape(1,-1), timeSeriesB_newlength)\n",
    "\n",
    "def splat_ensure_timeSeries_integrity(timeSeriesA, timeSeriesB, selfjoin, subseqLen):\n",
    "    if not selfjoin:\n",
    "        if not isinstance(timeSeriesB, np.ndarray) or timeSeriesB.ndim != 1:\n",
    "            raise ValueError('Third argument must be a 1D numpy array')\n",
    "        timeSeriesA = timeSeriesA.reshape(-1, 1) if timeSeriesA.shape[0] == 1 else timeSeriesA\n",
    "        timeSeriesB = timeSeriesB.reshape(-1, 1) if timeSeriesB.shape[0] == 1 else timeSeriesB\n",
    "        timeSeries = np.concatenate((timeSeriesA, timeSeriesB), axis=0)\n",
    "        subsequenceCountA = len(timeSeriesA) - subseqLen + 1\n",
    "        subsequenceCountB = len(timeSeriesB) - subseqLen + 1\n",
    "    else:\n",
    "        print('Computing Self-join similarity matrix')\n",
    "        timeSeries = timeSeriesA\n",
    "    return timeSeries\n",
    "\n",
    "def splat_compute_df_dg(timeSeries, subseqLen):\n",
    "    mu = moving_mean(\n",
    "        np.pad(\n",
    "            timeSeries[:,0], (subseqLen//2, subseqLen-1-subseqLen//2), \n",
    "            'edge'\n",
    "        ), \n",
    "        subseqLen\n",
    "    )\n",
    "    invsig = 1. / moving_std(timeSeries.flatten(), subseqLen)\n",
    "    df = np.diff(timeSeries[:, 0], n = subseqLen, prepend = 0)\n",
    "    dg = np.diff(timeSeries[:, 0] - mu, n=subseqLen, prepend = 0)\n",
    "    return df, dg, mu, invsig\n",
    "\n",
    "def splat(\n",
    "    timeSeriesA, \n",
    "    subseqLen, \n",
    "    timeSeriesB=None, \n",
    "    plotting=False, \n",
    "    multiresolution=False, \n",
    "    calibration=None\n",
    "):\n",
    "    splat_check_parameters(timeSeriesA, subseqLen, timeSeriesB, plotting, multiresolution, calibration)\n",
    "    \n",
    "    max_length = np.inf if not multiresolution else 10000 if calibration is None else getPaaFactor(timeSeriesA, subseqLen)\n",
    "    minlag = 0\n",
    "    selfjoin = timeSeriesB is None or np.all(np.isnan(timeSeriesB))\n",
    "    splat_resample_timeseries(timeSeriesA, timeSeriesB, selfjoin, max_length)\n",
    "    timeSeries = splat_ensure_timeSeries_integrity(timeSeriesA, timeSeriesB, selfjoin, subseqLen)\n",
    "    \n",
    "    n = len(timeSeries)\n",
    "    timeSeries = timeSeries.reshape(-1, 1) if timeSeries.ndim == 1 else timeSeries\n",
    "    nanmap = np.isnan(np.convolve(timeSeries[:, 0], np.ones(subseqLen), 'valid'))\n",
    "    timeSeries[np.isnan(timeSeries)] = 0\n",
    "    \n",
    "    df, dg, mu, invsig = splat_compute_df_dg(timeSeries, subseqLen)\n",
    "    \n",
    "    # Cálculo de la matriz de similitud\n",
    "    similarityMatrixLength = n - subseqLen + 1\n",
    "    if selfjoin:\n",
    "        similarityMatrix = np.full((similarityMatrixLength, similarityMatrixLength), np.nan)\n",
    "    else:\n",
    "        similarityMatrix = np.full((subsequenceCountA, subsequenceCountB), np.nan)\n",
    "    \n",
    "    for diag in range(minlag + 1, n - subseqLen + 1):\n",
    "        cov_ = np.sum((timeSeries[diag:diag + subseqLen, 0] - mu[diag]) * (timeSeries[:subseqLen, 0] - mu[:subseqLen]))\n",
    "        for row in range(1, n - subseqLen - diag + 2):\n",
    "            if not selfjoin and row > subsequenceCountA:\n",
    "                break\n",
    "            cov_ += df[row] * dg[row + diag - 1] + df[row + diag - 1] * dg[row]\n",
    "            if selfjoin:\n",
    "                corr_ = cov_ * invsig[row] * invsig[row + diag - 1]\n",
    "                similarityMatrix[row, row + diag - 1] = corr_\n",
    "                similarityMatrix[row + diag - 1, row] = corr_\n",
    "            elif row + diag - 1 < similarityMatrixLength - subsequenceCountB + 1:\n",
    "                continue\n",
    "            else:\n",
    "                corr_ = cov_ * invsig[row] * invsig[row + diag - 1]\n",
    "                col = row + diag - 1 - similarityMatrixLength + subsequenceCountB\n",
    "                similarityMatrix[row, col] = corr_\n",
    "    \n",
    "    "
   ]
  },
  {
   "cell_type": "code",
   "execution_count": null,
   "id": "de500864-2e23-45fc-9243-752a85afa61e",
   "metadata": {},
   "outputs": [],
   "source": [
    "print(ts_downsampled.shape)\n",
    "print(m)"
   ]
  },
  {
   "cell_type": "code",
   "execution_count": null,
   "id": "1d2a9f4b-0c97-449f-8bb9-e28af64ec74e",
   "metadata": {},
   "outputs": [],
   "source": [
    "MPlot_matrix = splat(ts_downsampled, m, plotting=False)"
   ]
  },
  {
   "cell_type": "code",
   "execution_count": null,
   "id": "1e9f42e1-92ca-4cee-bbc7-c00139e60c4a",
   "metadata": {},
   "outputs": [],
   "source": []
  },
  {
   "cell_type": "markdown",
   "id": "363ed017-0451-4f1d-aafa-01b87851cfab",
   "metadata": {},
   "source": [
    "### Ejemplo que usan en el código de MPlots run_splat de Eamonn Keogh"
   ]
  },
  {
   "cell_type": "code",
   "execution_count": null,
   "id": "202476e8-6b6a-4cb0-a238-fda16199aed4",
   "metadata": {},
   "outputs": [],
   "source": [
    "test_sine = np.concatenate([\n",
    "    np.random.randn(600)/5,\n",
    "    np.sin(np.arange(0,10,0.1)),\n",
    "    np.random.randn(800)/5,\n",
    "    np.sin(np.arange(0, 10, 0.1)),\n",
    "    np.random.randn(900)/5,\n",
    "    np.sin(np.arange(0, 10, 0.05)),\n",
    "    np.random.randn(800)/5 \n",
    "]);\n",
    "#Add a little bit of noise\n",
    "test_sine = test_sine + np.random.rand(*test_sine.shape) / 10\n",
    "test_sine.shape"
   ]
  },
  {
   "cell_type": "code",
   "execution_count": null,
   "id": "7a1c129e-7a50-4419-b617-d72a40c7e25b",
   "metadata": {},
   "outputs": [],
   "source": [
    "### Seteamos los parámetros de entrada"
   ]
  },
  {
   "cell_type": "code",
   "execution_count": null,
   "id": "1b1c8006-375a-457d-aaa7-218370003ba5",
   "metadata": {},
   "outputs": [],
   "source": [
    "x = test_sine"
   ]
  },
  {
   "cell_type": "code",
   "execution_count": null,
   "id": "ec40cf43-7ccc-4373-8c2a-d3050ef2ecd1",
   "metadata": {},
   "outputs": [],
   "source": [
    "subsequence_length = 100"
   ]
  },
  {
   "cell_type": "code",
   "execution_count": null,
   "id": "36c60b54-5dde-4f15-a819-e327a1c78e34",
   "metadata": {},
   "outputs": [],
   "source": [
    "timeseriesA = np.tile(x, (9, 1)).T"
   ]
  },
  {
   "cell_type": "code",
   "execution_count": null,
   "id": "8cd0bcfd-e350-49e5-b61e-2d4052ab07a4",
   "metadata": {},
   "outputs": [],
   "source": [
    "# Inicialización a no numérico\n",
    "timeseriesB = np.nan "
   ]
  },
  {
   "cell_type": "code",
   "execution_count": null,
   "id": "140bff9f-6416-41c1-b5b2-b7ee7235c640",
   "metadata": {},
   "outputs": [],
   "source": [
    "timeseriesA"
   ]
  },
  {
   "cell_type": "code",
   "execution_count": null,
   "id": "795dd267-8f2a-4e14-89c6-563353e61626",
   "metadata": {},
   "outputs": [],
   "source": [
    "###"
   ]
  },
  {
   "cell_type": "code",
   "execution_count": null,
   "id": "7f446ed3-b83a-417e-a52e-fac001456049",
   "metadata": {},
   "outputs": [],
   "source": []
  }
 ],
 "metadata": {
  "kernelspec": {
   "display_name": "Python 3 (ipykernel)",
   "language": "python",
   "name": "python3"
  },
  "language_info": {
   "codemirror_mode": {
    "name": "ipython",
    "version": 3
   },
   "file_extension": ".py",
   "mimetype": "text/x-python",
   "name": "python",
   "nbconvert_exporter": "python",
   "pygments_lexer": "ipython3",
   "version": "3.10.13"
  }
 },
 "nbformat": 4,
 "nbformat_minor": 5
}

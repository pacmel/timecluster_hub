{
 "cells": [
  {
   "cell_type": "code",
   "execution_count": 1,
   "id": "e57c60c4-28a3-4239-b5eb-636084b8fd0a",
   "metadata": {},
   "outputs": [
    {
     "name": "stdout",
     "output_type": "stream",
     "text": [
      "cuda-toolkit              11.6.0                        0    nvidia\n"
     ]
    }
   ],
   "source": [
    "! conda list | grep cuda-toolk"
   ]
  },
  {
   "cell_type": "code",
   "execution_count": 2,
   "id": "84444e81-3b88-471e-a6dd-f0c5ef8b5872",
   "metadata": {},
   "outputs": [
    {
     "name": "stdout",
     "output_type": "stream",
     "text": [
      "ffmpeg                    4.3                  hf484d3e_0    pytorch\n",
      "pytorch                   1.13.0          py3.10_cuda11.7_cudnn8.5.0_0    pytorch\n",
      "pytorch-cuda              11.7                 h778d358_5    pytorch\n",
      "pytorch-mutex             1.0                        cuda    pytorch\n",
      "torchvision               0.14.0              py310_cu117    pytorch\n"
     ]
    }
   ],
   "source": [
    "! conda list | grep pytorch"
   ]
  },
  {
   "cell_type": "code",
   "execution_count": 3,
   "id": "daa56025-cc91-4542-b0d6-dd942cbaf942",
   "metadata": {},
   "outputs": [
    {
     "name": "stdout",
     "output_type": "stream",
     "text": [
      "pytorch                   1.13.0          py3.10_cuda11.7_cudnn8.5.0_0    pytorch\n"
     ]
    }
   ],
   "source": [
    "! conda list | grep cudnn"
   ]
  },
  {
   "cell_type": "code",
   "execution_count": 4,
   "id": "445a6e9c-018a-4349-aead-caa5496ca662",
   "metadata": {},
   "outputs": [
    {
     "name": "stdout",
     "output_type": "stream",
     "text": [
      "False\n"
     ]
    }
   ],
   "source": [
    "import os\n",
    "LD_LIBRARY_PATH='/home/macu/miniconda3/envs/projects/lib/'\n",
    "print(os.path.exists(os.path.join(LD_LIBRARY_PATH, \"libcudart.so.11.0\")))"
   ]
  },
  {
   "cell_type": "code",
   "execution_count": 5,
   "id": "98debef5-dc0a-40eb-bbc1-142d435f7562",
   "metadata": {},
   "outputs": [
    {
     "name": "stdout",
     "output_type": "stream",
     "text": [
      "Torch version 1.13.0\n",
      "Cuda version: 11.7\n",
      "Número de GPUs: 3\n",
      "['sm_37', 'sm_50', 'sm_60', 'sm_61', 'sm_70', 'sm_75', 'sm_80', 'sm_86', 'compute_37']\n",
      "Dispositivo 0 : NVIDIA GeForce RTX 3090\n",
      "Dispositivo 1 : NVIDIA GeForce RTX 3090\n",
      "Dispositivo 2 : NVIDIA GeForce RTX 3090\n"
     ]
    }
   ],
   "source": [
    "## \n",
    "import torch\n",
    "print(\"Torch version\", torch.__version__)\n",
    "if (torch.cuda.is_available()):\n",
    "    print(\"Cuda version:\", torch.version.cuda )\n",
    "    print(\"Número de GPUs:\", torch.cuda.device_count())\n",
    "    print(torch.cuda.get_arch_list())\n",
    "else:\n",
    "    print(\"No cuda available\")\n",
    "\n",
    "for i in range(torch.cuda.device_count()):\n",
    "        print(\"Dispositivo\", i, \":\", torch.cuda.get_device_name(i))\n"
   ]
  },
  {
   "cell_type": "code",
   "execution_count": 6,
   "id": "d8bcdafd-3b84-4b45-801d-99dc9b97bb5b",
   "metadata": {},
   "outputs": [
    {
     "name": "stdout",
     "output_type": "stream",
     "text": [
      "cuda-toolkit              11.6.0                        0    nvidia\n",
      "cuda-tools                11.7.1                        0    nvidia\n"
     ]
    }
   ],
   "source": [
    "! conda list | grep cuda-tool\n"
   ]
  },
  {
   "cell_type": "code",
   "execution_count": 7,
   "id": "103cdb29-35e8-44bf-8507-43e9724fd242",
   "metadata": {},
   "outputs": [
    {
     "name": "stdout",
     "output_type": "stream",
     "text": [
      "tsai                      0.3.9                      py_0    timeseriesai\n"
     ]
    }
   ],
   "source": [
    "! conda list | grep tsai"
   ]
  },
  {
   "cell_type": "code",
   "execution_count": null,
   "id": "e407aa5b-4dc3-4bd1-8e03-87e9bc5652d6",
   "metadata": {},
   "outputs": [],
   "source": []
  },
  {
   "cell_type": "code",
   "execution_count": 8,
   "id": "bfbe3741-bf66-4581-9cbb-f87413c8a00d",
   "metadata": {},
   "outputs": [
    {
     "name": "stdout",
     "output_type": "stream",
     "text": [
      "ffmpeg                    4.3                  hf484d3e_0    pytorch\n",
      "pytorch                   1.13.0          py3.10_cuda11.7_cudnn8.5.0_0    pytorch\n",
      "pytorch-cuda              11.7                 h778d358_5    pytorch\n",
      "pytorch-mutex             1.0                        cuda    pytorch\n",
      "torchvision               0.14.0              py310_cu117    pytorch\n"
     ]
    }
   ],
   "source": [
    "! conda list | grep pytorch"
   ]
  },
  {
   "cell_type": "code",
   "execution_count": 9,
   "id": "390361e4-6194-44ad-8326-0333d71c8b15",
   "metadata": {},
   "outputs": [],
   "source": [
    "import cudf"
   ]
  },
  {
   "cell_type": "code",
   "execution_count": 10,
   "id": "0ca3a1a9-9453-4297-a8ff-ed45b0569c8f",
   "metadata": {},
   "outputs": [],
   "source": [
    "!conda search pytorch -c pytorch --info | grep cuda12.0"
   ]
  },
  {
   "cell_type": "code",
   "execution_count": 11,
   "id": "0689592a-0cf3-4152-9a75-dcd6f918991d",
   "metadata": {},
   "outputs": [
    {
     "name": "stdout",
     "output_type": "stream",
     "text": [
      "Mon May  6 16:57:14 2024       \n",
      "+---------------------------------------------------------------------------------------+\n",
      "| NVIDIA-SMI 535.171.04             Driver Version: 535.171.04   CUDA Version: 12.2     |\n",
      "|-----------------------------------------+----------------------+----------------------+\n",
      "| GPU  Name                 Persistence-M | Bus-Id        Disp.A | Volatile Uncorr. ECC |\n",
      "| Fan  Temp   Perf          Pwr:Usage/Cap |         Memory-Usage | GPU-Util  Compute M. |\n",
      "|                                         |                      |               MIG M. |\n",
      "|=========================================+======================+======================|\n",
      "|   0  NVIDIA GeForce RTX 3090        Off | 00000000:18:00.0 Off |                  N/A |\n",
      "| 63%   65C    P2             315W / 350W |   2631MiB / 24576MiB |     88%      Default |\n",
      "|                                         |                      |                  N/A |\n",
      "+-----------------------------------------+----------------------+----------------------+\n",
      "|   1  NVIDIA GeForce RTX 3090        Off | 00000000:1C:00.0 Off |                  N/A |\n",
      "| 30%   31C    P8              23W / 350W |      3MiB / 24576MiB |      0%      Default |\n",
      "|                                         |                      |                  N/A |\n",
      "+-----------------------------------------+----------------------+----------------------+\n",
      "|   2  NVIDIA GeForce RTX 3090        Off | 00000000:99:00.0 Off |                  N/A |\n",
      "| 30%   30C    P8              25W / 350W |      3MiB / 24576MiB |      0%      Default |\n",
      "|                                         |                      |                  N/A |\n",
      "+-----------------------------------------+----------------------+----------------------+\n",
      "                                                                                         \n",
      "+---------------------------------------------------------------------------------------+\n",
      "| Processes:                                                                            |\n",
      "|  GPU   GI   CI        PID   Type   Process name                            GPU Memory |\n",
      "|        ID   ID                                                             Usage      |\n",
      "|=======================================================================================|\n",
      "+---------------------------------------------------------------------------------------+\n"
     ]
    }
   ],
   "source": [
    "! nvidia-smi"
   ]
  }
 ],
 "metadata": {
  "kernelspec": {
   "display_name": "Python 3 (ipykernel)",
   "language": "python",
   "name": "python3"
  },
  "language_info": {
   "codemirror_mode": {
    "name": "ipython",
    "version": 3
   },
   "file_extension": ".py",
   "mimetype": "text/x-python",
   "name": "python",
   "nbconvert_exporter": "python",
   "pygments_lexer": "ipython3",
   "version": "3.10.13"
  }
 },
 "nbformat": 4,
 "nbformat_minor": 5
}

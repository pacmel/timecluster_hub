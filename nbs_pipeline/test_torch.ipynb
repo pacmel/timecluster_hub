{
 "cells": [
  {
   "cell_type": "code",
   "execution_count": null,
   "id": "e57c60c4-28a3-4239-b5eb-636084b8fd0a",
   "metadata": {},
   "outputs": [
    {
     "name": "stdout",
     "output_type": "stream",
     "text": [
      "cuda-toolkit              11.6.0                        0    nvidia\n"
     ]
    }
   ],
   "source": [
    "! conda list | grep cuda-toolk"
   ]
  },
  {
   "cell_type": "code",
   "execution_count": null,
   "id": "84444e81-3b88-471e-a6dd-f0c5ef8b5872",
   "metadata": {},
   "outputs": [
    {
     "name": "stdout",
     "output_type": "stream",
     "text": [
      "ffmpeg                    4.3                  hf484d3e_0    pytorch\n",
      "pytorch                   1.13.0          py3.10_cuda11.7_cudnn8.5.0_0    pytorch\n",
      "pytorch-cuda              11.7                 h778d358_5    pytorch\n",
      "pytorch-mutex             1.0                        cuda    pytorch\n",
      "torchvision               0.14.0              py310_cu117    pytorch\n"
     ]
    }
   ],
   "source": [
    "! conda list | grep pytorch"
   ]
  },
  {
   "cell_type": "code",
   "execution_count": null,
   "id": "daa56025-cc91-4542-b0d6-dd942cbaf942",
   "metadata": {},
   "outputs": [
    {
     "name": "stdout",
     "output_type": "stream",
     "text": [
      "pytorch                   1.13.0          py3.10_cuda11.7_cudnn8.5.0_0    pytorch\n"
     ]
    }
   ],
   "source": [
    "! conda list | grep cudnn"
   ]
  },
  {
   "cell_type": "code",
   "execution_count": null,
   "id": "445a6e9c-018a-4349-aead-caa5496ca662",
   "metadata": {},
   "outputs": [
    {
     "name": "stdout",
     "output_type": "stream",
     "text": [
      "False\n"
     ]
    }
   ],
   "source": [
    "import os\n",
    "LD_LIBRARY_PATH='/home/macu/miniconda3/envs/projects/lib/'\n",
    "print(os.path.exists(os.path.join(LD_LIBRARY_PATH, \"libcudart.so.11.0\")))"
   ]
  },
  {
   "cell_type": "code",
   "execution_count": null,
   "id": "98debef5-dc0a-40eb-bbc1-142d435f7562",
   "metadata": {},
   "outputs": [
    {
     "name": "stdout",
     "output_type": "stream",
     "text": [
      "Torch version 1.13.0\n",
      "Cuda version: 11.7\n",
      "Número de GPUs: 3\n",
      "['sm_37', 'sm_50', 'sm_60', 'sm_61', 'sm_70', 'sm_75', 'sm_80', 'sm_86', 'compute_37']\n",
      "Dispositivo 0 : NVIDIA GeForce RTX 3090\n",
      "Dispositivo 1 : NVIDIA GeForce RTX 3090\n",
      "Dispositivo 2 : NVIDIA GeForce RTX 3090\n"
     ]
    }
   ],
   "source": [
    "## \n",
    "import torch\n",
    "print(\"Torch version\", torch.__version__)\n",
    "if (torch.cuda.is_available()):\n",
    "    print(\"Cuda version:\", torch.version.cuda )\n",
    "    print(\"Número de GPUs:\", torch.cuda.device_count())\n",
    "    print(torch.cuda.get_arch_list())\n",
    "else:\n",
    "    print(\"No cuda available\")\n",
    "\n",
    "for i in range(torch.cuda.device_count()):\n",
    "        print(\"Dispositivo\", i, \":\", torch.cuda.get_device_name(i))\n"
   ]
  },
  {
   "cell_type": "code",
   "execution_count": null,
   "id": "d8bcdafd-3b84-4b45-801d-99dc9b97bb5b",
   "metadata": {},
   "outputs": [
    {
     "name": "stdout",
     "output_type": "stream",
     "text": [
      "cuda-toolkit              11.6.0                        0    nvidia\n",
      "cuda-tools                11.7.1                        0    nvidia\n"
     ]
    }
   ],
   "source": [
    "! conda list | grep cuda-tool\n"
   ]
  },
  {
   "cell_type": "code",
   "execution_count": null,
   "id": "103cdb29-35e8-44bf-8507-43e9724fd242",
   "metadata": {},
   "outputs": [
    {
     "name": "stdout",
     "output_type": "stream",
     "text": [
      "tsai                      0.3.7                      py_0    timeseriesai\n"
     ]
    }
   ],
   "source": [
    "! conda list | grep tsai"
   ]
  },
  {
   "cell_type": "code",
   "execution_count": null,
   "id": "e407aa5b-4dc3-4bd1-8e03-87e9bc5652d6",
   "metadata": {},
   "outputs": [],
   "source": []
  },
  {
   "cell_type": "code",
   "execution_count": null,
   "id": "bfbe3741-bf66-4581-9cbb-f87413c8a00d",
   "metadata": {},
   "outputs": [
    {
     "name": "stdout",
     "output_type": "stream",
     "text": [
      "ffmpeg                    4.3                  hf484d3e_0    pytorch\n",
      "pytorch                   1.13.0          py3.10_cuda11.7_cudnn8.5.0_0    pytorch\n",
      "pytorch-cuda              11.7                 h778d358_5    pytorch\n",
      "pytorch-mutex             1.0                        cuda    pytorch\n",
      "torchvision               0.14.0              py310_cu117    pytorch\n"
     ]
    }
   ],
   "source": [
    "! conda list | grep pytorch"
   ]
  },
  {
   "cell_type": "code",
   "execution_count": null,
   "id": "390361e4-6194-44ad-8326-0333d71c8b15",
   "metadata": {},
   "outputs": [],
   "source": [
    "import cudf"
   ]
  },
  {
   "cell_type": "code",
   "execution_count": null,
   "id": "0ca3a1a9-9453-4297-a8ff-ed45b0569c8f",
   "metadata": {},
   "outputs": [],
   "source": [
    "!conda search pytorch -c pytorch --info | grep cuda12.0"
   ]
  },
  {
   "cell_type": "code",
   "execution_count": 2,
   "id": "18d3f5f3-a1d4-4443-b891-310a026601b0",
   "metadata": {},
   "outputs": [
    {
     "name": "stdout",
     "output_type": "stream",
     "text": [
      "Prueba 2 de que solo se commitea lo que no es output desde dentro del docker\n"
     ]
    }
   ],
   "source": [
    "print(\"Prueba 2 de que solo se commitea lo que no es output desde dentro del docker\")"
   ]
  },
  {
   "cell_type": "code",
   "execution_count": 4,
   "id": "9d27d380-3249-4abf-8e79-e7e9c6a5b599",
   "metadata": {},
   "outputs": [
    {
     "name": "stdout",
     "output_type": "stream",
     "text": [
      "Prueba 2 de que solo se commitea lo que no es output desde fuera del docker\n"
     ]
    }
   ],
   "source": [
    "print(\"Prueba 2 de que solo se commitea lo que no es output desde fuera del docker\")"
   ]
  }
 ],
 "metadata": {
  "kernelspec": {
   "display_name": "Python 3 (ipykernel)",
   "language": "python",
   "name": "python3"
  },
  "language_info": {
   "codemirror_mode": {
    "name": "ipython",
    "version": 3
   },
   "file_extension": ".py",
   "mimetype": "text/x-python",
   "name": "python",
   "nbconvert_exporter": "python",
   "pygments_lexer": "ipython3",
   "version": "3.10.13"
  }
 },
 "nbformat": 4,
 "nbformat_minor": 5
}

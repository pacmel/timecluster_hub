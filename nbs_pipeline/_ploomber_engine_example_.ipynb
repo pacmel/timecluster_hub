{
 "cells": [
  {
   "cell_type": "markdown",
   "id": "f91d54a1-e0b9-47be-9383-3d21bb7c0f86",
   "metadata": {},
   "source": [
    "# Ploomber-engine execution example\n",
    "This notebook shows an example of use of ploomber engine for deepVATS' pipeline.\n",
    "Before executing, please be sure you have created '~/work/nbs_pipeline/output' folder"
   ]
  },
  {
   "cell_type": "markdown",
   "id": "ff70e2b6-d67a-4372-9ef8-7dc3d963d368",
   "metadata": {},
   "source": [
    "## Check & import libraries"
   ]
  },
  {
   "cell_type": "code",
   "execution_count": 1,
   "id": "6821ee98-217e-47ca-874f-72169c009ca1",
   "metadata": {},
   "outputs": [
    {
     "name": "stdout",
     "output_type": "stream",
     "text": [
      "# conda environments:\n",
      "#\n",
      "base                     /usr/local/share/miniconda3\n",
      "env                   *  /usr/local/share/miniconda3/envs/env\n",
      "\n"
     ]
    }
   ],
   "source": [
    "! conda info --envs"
   ]
  },
  {
   "cell_type": "code",
   "execution_count": 2,
   "id": "a6dce6ab-c5e1-4e9e-a220-a50ae195c18f",
   "metadata": {},
   "outputs": [
    {
     "name": "stdout",
     "output_type": "stream",
     "text": [
      "# packages in environment at /usr/local/share/miniconda3/envs/env:\n",
      "#\n",
      "# Name                    Version                   Build  Channel\n",
      "brotli-python             1.0.9           py310hd8f1fbe_9    conda-forge\n",
      "cuda-python               11.8.3          py310hf9913ef_0    nvidia\n",
      "gitpython                 3.1.42             pyhd8ed1ab_0    conda-forge\n",
      "ipython                   8.16.1             pyh0d859eb_0    conda-forge\n",
      "ipython_genutils          0.2.0                      py_1    conda-forge\n",
      "msgpack-python            1.0.7           py310hd41b1e2_0    conda-forge\n",
      "python                    3.10.13         hd12c33a_0_cpython    conda-forge\n",
      "python-dateutil           2.8.2              pyhd8ed1ab_0    conda-forge\n",
      "python-fastjsonschema     2.19.1             pyhd8ed1ab_0    conda-forge\n",
      "python-json-logger        2.0.7              pyhd8ed1ab_0    conda-forge\n",
      "python_abi                3.10                    4_cp310    conda-forge\n",
      "types-python-dateutil     2.8.19.20240106    pyhd8ed1ab_0    conda-forge\n",
      "xeus-python               0.15.10         py310hd41b1e2_1    conda-forge\n",
      "xeus-python-shell         0.5.0              pyhd8ed1ab_0    conda-forge\n",
      "xeus-python-shell-raw     0.5.0              pyhd8ed1ab_0    conda-forge\n"
     ]
    }
   ],
   "source": [
    "! conda list python"
   ]
  },
  {
   "cell_type": "code",
   "execution_count": 3,
   "id": "29251880-4fd0-4ef3-996d-efff44ba93db",
   "metadata": {},
   "outputs": [
    {
     "name": "stdout",
     "output_type": "stream",
     "text": [
      "# packages in environment at /usr/local/share/miniconda3/envs/env:\n",
      "#\n",
      "# Name                    Version                   Build  Channel\n",
      "ploomber-core             0.2.25             pyhd8ed1ab_0    conda-forge\n",
      "ploomber-engine           0.0.31             pyhd8ed1ab_0    conda-forge\n"
     ]
    }
   ],
   "source": [
    "! conda list ploo"
   ]
  },
  {
   "cell_type": "code",
   "execution_count": 4,
   "id": "9ebb78a8-f85d-4a71-b634-cb0049e8acb2",
   "metadata": {},
   "outputs": [],
   "source": [
    "#-- For setting up the parameters\n",
    "import os\n",
    "import torch\n",
    "from typing import Tuple, Dict\n",
    "\n",
    "#-- Specific\n",
    "from ploomber_engine import execute_notebook"
   ]
  },
  {
   "cell_type": "markdown",
   "id": "e58f9fcf-1afc-401e-a9ab-59859253b48d",
   "metadata": {},
   "source": [
    "## Basic function definitions for automatic setting up of the parameters and the notebook filenames "
   ]
  },
  {
   "cell_type": "markdown",
   "id": "e6388823-0492-448c-8c59-e461949108dc",
   "metadata": {},
   "source": [
    "Parameters can also be setted up into the pipeline.yml file: [Ploomber's User Guide](https://docs.ploomber.io/en/latest/user-guide/parametrized.html). TODO: check"
   ]
  },
  {
   "cell_type": "code",
   "execution_count": 5,
   "id": "13f5b868-bf8c-450d-9b2b-4c12aa025187",
   "metadata": {},
   "outputs": [],
   "source": [
    "from dvats import config as cfg_"
   ]
  },
  {
   "cell_type": "code",
   "execution_count": 6,
   "id": "9f9a7232-978e-4ceb-8b2f-7121724757dc",
   "metadata": {},
   "outputs": [
    {
     "name": "stdout",
     "output_type": "stream",
     "text": [
      "Available datasets: \n",
      "0 - monash_australian_electricity_demand_0\n",
      "1 - monash_solar_4_seconds_0\n",
      "2 - wikipedia_0\n",
      "3 - traffic_san_francisco_0\n",
      "4 - monash_solar_10_minutes_0\n",
      "5 - etth1_0\n",
      "6 - stumpy_abp_0\n",
      "7 - stumpy_toy_0\n"
     ]
    }
   ],
   "source": [
    "cfg_.show_available_configs()"
   ]
  },
  {
   "cell_type": "code",
   "execution_count": 7,
   "id": "bd4ac0b5-b867-49ea-a983-5a4bb5cb3e3a",
   "metadata": {
    "editable": true,
    "slideshow": {
     "slide_type": ""
    },
    "tags": []
   },
   "outputs": [],
   "source": [
    "def get_parameters(nb_id : int ) -> Tuple[ str, Dict ]:\n",
    "    pre_configured_case = True\n",
    "    case_id             = 7\n",
    "    frequency_factor    = 1\n",
    "    frequency_factor_change_alias = True\n",
    "    match nb_id:\n",
    "        case 1:\n",
    "            filename = \"01_dataset_artifact\"\n",
    "            parameters = {\n",
    "              'verbose'                       : 0,\n",
    "              'show_plots'                    : False,\n",
    "              'reset_kernel'                  : False,\n",
    "              'pre_configured_case'           : pre_configured_case,\n",
    "              'case_id'                       : case_id,\n",
    "              'frequency_factor'              : frequency_factor,\n",
    "              'frequency_factor_change_alias' : frequency_factor_change_alias,\n",
    "              'cuda_device'                   : 1 #torch.cuda.current_device()\n",
    "            }\n",
    "        case 2: \n",
    "            filename   = \"02b_encoder_MVP\"\n",
    "            parameters = {\n",
    "              'verbose'                       : 0,\n",
    "              'check_memory_usage'            : False,\n",
    "              'time_flag'                     : False,\n",
    "              'window_size_percentage'        : None,\n",
    "              'show_plots'                    : False,\n",
    "              'reset_kernel'                  : False,\n",
    "              'pre_configured_case'           : pre_configured_case,\n",
    "              'case_id'                       : case_id,\n",
    "              'frequency_factor'              : frequency_factor,\n",
    "              'frequency_factor_change_alias' : frequency_factor_change_alias,\n",
    "              'cuda_device'                   : 1 #torch.cuda.current_device()\n",
    "            }\n",
    "        case _:\n",
    "            print(\"Invalid configuration\")\n",
    "            filename = \"\"\n",
    "            parameters = {}\n",
    "    return filename,parameters"
   ]
  },
  {
   "cell_type": "code",
   "execution_count": 8,
   "id": "12e3a2a8-d568-455a-bab5-103c4e600f9b",
   "metadata": {},
   "outputs": [],
   "source": [
    "def get_input_output(\n",
    "    nb_id   : int, \n",
    "    inpath  : str = '~/work/nbs_pipeline',\n",
    "    outpath : str = '~/work/nbs_pipeline/output'\n",
    ") -> Tuple[ str, str, Dict ]:\n",
    "    filename,parameters = get_parameters(nb_id)\n",
    "    print(filename)\n",
    "    print(parameters)\n",
    "    inbpath    = os.path.expanduser(inpath)\n",
    "    onbpath    = os.path.expanduser(outpath)\n",
    "    extension  = \".ipynb\"\n",
    "    reportname = filename+\"-output\"\n",
    "    inputnb    = inbpath+\"/\"+filename+extension\n",
    "    outputnb   = onbpath+\"/\"+reportname+extension\n",
    "    print(f\"Executing {inputnb} into {outputnb}\")\n",
    "    return inputnb, outputnb, parameters"
   ]
  },
  {
   "cell_type": "markdown",
   "id": "60c624fc-c1bf-446f-9b3c-0a2ab43fd142",
   "metadata": {},
   "source": [
    "## Executing the pipeline"
   ]
  },
  {
   "cell_type": "code",
   "execution_count": 9,
   "id": "9e79ee35-6d17-49bb-86df-7945e151c07b",
   "metadata": {},
   "outputs": [],
   "source": [
    "#? execute_notebook"
   ]
  },
  {
   "cell_type": "code",
   "execution_count": 10,
   "id": "a19d2372-ed01-4b16-b263-05b15d192d1d",
   "metadata": {},
   "outputs": [],
   "source": [
    "execute_1 = True\n",
    "execute_2 = True"
   ]
  },
  {
   "cell_type": "markdown",
   "id": "dd76e2bf-8ce5-439b-ad1d-09bda962f79e",
   "metadata": {},
   "source": [
    "### Execute notebook 01"
   ]
  },
  {
   "cell_type": "code",
   "execution_count": 11,
   "id": "e44f66e3-91c0-4820-abfe-56c4dedcd86b",
   "metadata": {
    "editable": true,
    "slideshow": {
     "slide_type": ""
    },
    "tags": []
   },
   "outputs": [
    {
     "name": "stdout",
     "output_type": "stream",
     "text": [
      "01_dataset_artifact\n",
      "{'verbose': 0, 'show_plots': False, 'reset_kernel': False, 'pre_configured_case': True, 'case_id': 7, 'frequency_factor': 1, 'frequency_factor_change_alias': True, 'cuda_device': 1}\n",
      "Executing /home/macu/work/nbs_pipeline/01_dataset_artifact.ipynb into /home/macu/work/nbs_pipeline/output/01_dataset_artifact-output.ipynb\n"
     ]
    },
    {
     "name": "stderr",
     "output_type": "stream",
     "text": [
      "Executing cell: 25:  43%|█████████▉             | 25/58 [00:00<00:00, 45.73it/s]wandb: Currently logged in as: mi-santamaria. Use `wandb login --relogin` to force relogin\n",
      "Executing cell: 30: 100%|███████████████████████| 58/58 [00:21<00:00,  2.67it/s]\n"
     ]
    }
   ],
   "source": [
    "if execute_1:\n",
    "    inputnb, outputnb, parameters = get_input_output(1)\n",
    "    _ = execute_notebook(\n",
    "        input_path          = inputnb,\n",
    "        output_path         = outputnb,\n",
    "        log_output          = False,\n",
    "        progress_bar        = True,   \n",
    "        parameters          = parameters,\n",
    "        remove_tagged_cells = ['skip', 'hide']\n",
    "    )"
   ]
  },
  {
   "cell_type": "markdown",
   "id": "ced05e34-197d-4bbb-97d6-3ce5aae04867",
   "metadata": {
    "editable": true,
    "slideshow": {
     "slide_type": ""
    },
    "tags": []
   },
   "source": [
    "### Execute notebook 02b"
   ]
  },
  {
   "cell_type": "code",
   "execution_count": 12,
   "id": "98a23721-98ff-4466-8c6c-2a18d1baf865",
   "metadata": {
    "editable": true,
    "slideshow": {
     "slide_type": ""
    },
    "tags": []
   },
   "outputs": [
    {
     "name": "stdout",
     "output_type": "stream",
     "text": [
      "02b_encoder_MVP\n",
      "{'verbose': 0, 'check_memory_usage': False, 'time_flag': False, 'window_size_percentage': None, 'show_plots': False, 'reset_kernel': False, 'pre_configured_case': True, 'case_id': 7, 'frequency_factor': 1, 'frequency_factor_change_alias': True, 'cuda_device': 1}\n",
      "Executing /home/macu/work/nbs_pipeline/02b_encoder_MVP.ipynb into /home/macu/work/nbs_pipeline/output/02b_encoder_MVP-output.ipynb\n"
     ]
    },
    {
     "name": "stderr",
     "output_type": "stream",
     "text": [
      "Executing cell: 17:  40%|█████████▏             | 28/70 [00:51<01:10,  1.69s/it]wandb:   1 of 1 files downloaded.  \n",
      "Executing cell: 37: 100%|███████████████████████| 70/70 [01:27<00:00,  1.25s/it]\n"
     ]
    }
   ],
   "source": [
    "if execute_2:\n",
    "    inputnb, outputnb, parameters = get_input_output(2)\n",
    "    _ = execute_notebook(\n",
    "        input_path          = inputnb,\n",
    "        output_path         = outputnb,\n",
    "        log_output          = False,\n",
    "        progress_bar        = True,   \n",
    "        parameters          = parameters,\n",
    "        remove_tagged_cells = ['skip', 'hide']\n",
    "    )"
   ]
  }
 ],
 "metadata": {
  "kernelspec": {
   "display_name": "Python 3 (ipykernel)",
   "language": "python",
   "name": "python3"
  },
  "language_info": {
   "codemirror_mode": {
    "name": "ipython",
    "version": 3
   },
   "file_extension": ".py",
   "mimetype": "text/x-python",
   "name": "python",
   "nbconvert_exporter": "python",
   "pygments_lexer": "ipython3",
   "version": "3.10.13"
  }
 },
 "nbformat": 4,
 "nbformat_minor": 5
}

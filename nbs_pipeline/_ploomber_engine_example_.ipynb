{
 "cells": [
  {
   "cell_type": "markdown",
   "id": "f91d54a1-e0b9-47be-9383-3d21bb7c0f86",
   "metadata": {},
   "source": [
    "# Ploomber-engine execution example\n",
    "This notebook shows an example of use of ploomber engine for deepVATS' pipeline.\n",
    "Before executing, please be sure you have created '~/work/nbs_pipeline/output' folder"
   ]
  },
  {
   "cell_type": "markdown",
   "id": "ff70e2b6-d67a-4372-9ef8-7dc3d963d368",
   "metadata": {},
   "source": [
    "## Check & import libraries"
   ]
  },
  {
   "cell_type": "code",
   "execution_count": 1,
   "id": "6821ee98-217e-47ca-874f-72169c009ca1",
   "metadata": {},
   "outputs": [
    {
     "name": "stdout",
     "output_type": "stream",
     "text": []
    },
    {
     "name": "stdout",
     "output_type": "stream",
     "text": []
    },
    {
     "name": "stdout",
     "output_type": "stream",
     "text": []
    },
    {
     "name": "stdout",
     "output_type": "stream",
     "text": []
    },
    {
     "name": "stdout",
     "output_type": "stream",
     "text": []
    },
    {
     "name": "stdout",
     "output_type": "stream",
     "text": []
    },
    {
     "name": "stdout",
     "output_type": "stream",
     "text": []
    },
    {
     "name": "stdout",
     "output_type": "stream",
     "text": []
    },
    {
     "name": "stdout",
     "output_type": "stream",
     "text": []
    },
    {
     "name": "stdout",
     "output_type": "stream",
     "text": []
    },
    {
     "name": "stdout",
     "output_type": "stream",
     "text": []
    },
    {
     "name": "stdout",
     "output_type": "stream",
     "text": []
    },
    {
     "name": "stdout",
     "output_type": "stream",
     "text": []
    },
    {
     "name": "stdout",
     "output_type": "stream",
     "text": []
    },
    {
     "name": "stdout",
     "output_type": "stream",
     "text": [
      "# conda environments:\n",
      "#\n",
      "base                     /usr/local/share/miniconda3\n",
      "env                      /usr/local/share/miniconda3/envs/env\n",
      "\n"
     ]
    }
   ],
   "source": [
    "! conda info --envs"
   ]
  },
  {
   "cell_type": "code",
   "execution_count": 2,
   "id": "a6dce6ab-c5e1-4e9e-a220-a50ae195c18f",
   "metadata": {},
   "outputs": [
    {
     "name": "stdout",
     "output_type": "stream",
     "text": []
    },
    {
     "name": "stdout",
     "output_type": "stream",
     "text": []
    },
    {
     "name": "stdout",
     "output_type": "stream",
     "text": []
    },
    {
     "name": "stdout",
     "output_type": "stream",
     "text": []
    },
    {
     "name": "stdout",
     "output_type": "stream",
     "text": []
    },
    {
     "name": "stdout",
     "output_type": "stream",
     "text": []
    },
    {
     "name": "stdout",
     "output_type": "stream",
     "text": []
    },
    {
     "name": "stdout",
     "output_type": "stream",
     "text": []
    },
    {
     "name": "stdout",
     "output_type": "stream",
     "text": [
      "# packages in environment at /usr/local/share/miniconda3:\n",
      "#\n",
      "# Name                    Version                   Build  Channel\n",
      "python                    3.8.19               h955ad1f_0  \n",
      "python_abi                3.8                      2_cp38    conda-forge\n"
     ]
    }
   ],
   "source": [
    "! conda list python"
   ]
  },
  {
   "cell_type": "code",
   "execution_count": 3,
   "id": "29251880-4fd0-4ef3-996d-efff44ba93db",
   "metadata": {},
   "outputs": [
    {
     "name": "stdout",
     "output_type": "stream",
     "text": []
    },
    {
     "name": "stdout",
     "output_type": "stream",
     "text": []
    },
    {
     "name": "stdout",
     "output_type": "stream",
     "text": []
    },
    {
     "name": "stdout",
     "output_type": "stream",
     "text": []
    },
    {
     "name": "stdout",
     "output_type": "stream",
     "text": []
    },
    {
     "name": "stdout",
     "output_type": "stream",
     "text": []
    },
    {
     "name": "stdout",
     "output_type": "stream",
     "text": []
    },
    {
     "name": "stdout",
     "output_type": "stream",
     "text": []
    },
    {
     "name": "stdout",
     "output_type": "stream",
     "text": [
      "# packages in environment at /usr/local/share/miniconda3:\n",
      "#\n",
      "# Name                    Version                   Build  Channel\n"
     ]
    }
   ],
   "source": [
    "! conda list ploo"
   ]
  },
  {
   "cell_type": "code",
   "execution_count": 4,
   "id": "9ebb78a8-f85d-4a71-b634-cb0049e8acb2",
   "metadata": {},
   "outputs": [],
   "source": [
    "#-- For setting up the parameters\n",
    "import os\n",
    "import torch\n",
    "from typing import Tuple, Dict\n",
    "\n",
    "#-- Specific\n",
    "from ploomber_engine import execute_notebook"
   ]
  },
  {
   "cell_type": "markdown",
   "id": "e58f9fcf-1afc-401e-a9ab-59859253b48d",
   "metadata": {},
   "source": [
    "## Basic function definitions for automatic setting up of the parameters and the notebook filenames "
   ]
  },
  {
   "cell_type": "markdown",
   "id": "e6388823-0492-448c-8c59-e461949108dc",
   "metadata": {},
   "source": [
    "Parameters can also be setted up into the pipeline.yml file: [Ploomber's User Guide](https://docs.ploomber.io/en/latest/user-guide/parametrized.html). TODO: check"
   ]
  },
  {
   "cell_type": "code",
   "execution_count": 5,
   "id": "bd4ac0b5-b867-49ea-a983-5a4bb5cb3e3a",
   "metadata": {},
   "outputs": [],
   "source": [
    "def get_parameters(nb_id : int ) -> Tuple[ str, Dict ]:\n",
    "    match nb_id:\n",
    "        case 1:\n",
    "            filename = \"01_dataset_artifact\"\n",
    "            parameters = parameters_01 = {\n",
    "              'print_flag'                    : False,\n",
    "              'show_plots'                    : False,\n",
    "              'reset_kernel'                  : False,\n",
    "              'pre_configured_case'           : True,\n",
    "              'case_id'                       : 7,\n",
    "              'frequency_factor'              : 1,\n",
    "              'frequency_factor_change_alias' : True,\n",
    "              'cuda_device'                   : 1 #torch.cuda.current_device()\n",
    "            }\n",
    "        case 2: \n",
    "            filename   = \"02b_encoder_MVP\"\n",
    "            parameters = parameters_02 = {\n",
    "              'print_flag'                    : False,\n",
    "              'check_memory_usage'            : False,\n",
    "              'time_flag'                     : False,\n",
    "              'window_size_percentage'        : None,\n",
    "              'show_plots'                    : False,\n",
    "              'reset_kernel'                  : False,\n",
    "              'pre_configured_case'           : True,\n",
    "              'case_id'                       : 7,\n",
    "              'frequency_factor'              : 1,\n",
    "              'frequency_factor_change_alias' : True,\n",
    "              'cuda_device'                   : 1 #torch.cuda.current_device()\n",
    "            }\n",
    "        case _:\n",
    "            print(\"Invalid configuration\")\n",
    "            filename = \"\"\n",
    "            parameters = {}\n",
    "    return filename,parameters"
   ]
  },
  {
   "cell_type": "code",
   "execution_count": 6,
   "id": "12e3a2a8-d568-455a-bab5-103c4e600f9b",
   "metadata": {},
   "outputs": [],
   "source": [
    "def get_input_output(nb_id: int) -> Tuple[ str, str, Dict ]:\n",
    "    filename,parameters = get_parameters(nb_id)\n",
    "    print(filename)\n",
    "    print(parameters)\n",
    "    inbpath    = os.path.expanduser('~/work/nbs_pipeline')\n",
    "    onbpath    = os.path.expanduser('~/work/nbs_pipeline/output')\n",
    "    extension  = \".ipynb\"\n",
    "    reportname = filename+\"-output\"\n",
    "    inputnb    = inbpath+\"/\"+filename+extension\n",
    "    outputnb   = onbpath+\"/\"+reportname+extension\n",
    "    print(f\"Executing {inputnb} into {outputnb}\")\n",
    "    return inputnb, outputnb, parameters"
   ]
  },
  {
   "cell_type": "markdown",
   "id": "60c624fc-c1bf-446f-9b3c-0a2ab43fd142",
   "metadata": {},
   "source": [
    "## Executing the pipeline"
   ]
  },
  {
   "cell_type": "code",
   "execution_count": 7,
   "id": "9e79ee35-6d17-49bb-86df-7945e151c07b",
   "metadata": {},
   "outputs": [],
   "source": [
    "#? execute_notebook"
   ]
  },
  {
   "cell_type": "markdown",
   "id": "dd76e2bf-8ce5-439b-ad1d-09bda962f79e",
   "metadata": {},
   "source": [
    "### Execute notebook 01"
   ]
  },
  {
   "cell_type": "code",
   "execution_count": 8,
   "id": "e44f66e3-91c0-4820-abfe-56c4dedcd86b",
   "metadata": {},
   "outputs": [
    {
     "name": "stdout",
     "output_type": "stream",
     "text": [
      "01_dataset_artifact\n",
      "{'print_flag': False, 'show_plots': False, 'reset_kernel': False, 'pre_configured_case': True, 'case_id': 7, 'frequency_factor': 1, 'frequency_factor_change_alias': True, 'cuda_device': 1}\n",
      "Executing /home/macu/work/nbs_pipeline/01_dataset_artifact.ipynb into /home/macu/work/nbs_pipeline/output/01_dataset_artifact-output.ipynb\n"
     ]
    },
    {
     "name": "stderr",
     "output_type": "stream",
     "text": [
      "Executing cell: 28:  22%|##2       | 13/59 [00:01<00:03, 12.33it/s]wandb: Currently logged in as: mi-santamaria. Use `wandb login --relogin` to force relogin\n",
      "Executing cell: 31: 100%|##########| 59/59 [00:07<00:00,  7.42it/s]\n"
     ]
    }
   ],
   "source": [
    "inputnb, outputnb, parameters = get_input_output(1)\n",
    "_ = execute_notebook(\n",
    "    input_path          = inputnb,\n",
    "    output_path         = outputnb,\n",
    "    log_output          = False,\n",
    "    progress_bar        = True,   \n",
    "    parameters          = parameters,\n",
    "    remove_tagged_cells = ['skip', 'hide']\n",
    ")"
   ]
  },
  {
   "cell_type": "markdown",
   "id": "ced05e34-197d-4bbb-97d6-3ce5aae04867",
   "metadata": {},
   "source": [
    "### Execute notebook 02b"
   ]
  },
  {
   "cell_type": "code",
   "execution_count": 9,
   "id": "98a23721-98ff-4466-8c6c-2a18d1baf865",
   "metadata": {},
   "outputs": [
    {
     "name": "stdout",
     "output_type": "stream",
     "text": [
      "02b_encoder_MVP\n",
      "{'print_flag': False, 'check_memory_usage': False, 'time_flag': False, 'window_size_percentage': None, 'show_plots': False, 'reset_kernel': False, 'pre_configured_case': True, 'case_id': 7, 'frequency_factor': 1, 'frequency_factor_change_alias': True, 'cuda_device': 1}\n",
      "Executing /home/macu/work/nbs_pipeline/02b_encoder_MVP.ipynb into /home/macu/work/nbs_pipeline/output/02b_encoder_MVP-output.ipynb\n"
     ]
    },
    {
     "name": "stderr",
     "output_type": "stream",
     "text": [
      "Executing cell: 18:  37%|###7      | 30/81 [00:05<00:09,  5.38it/s]wandb:   1 of 1 files downloaded.  \n",
      "Executing cell: 48: 100%|##########| 81/81 [00:17<00:00,  4.76it/s]\n"
     ]
    }
   ],
   "source": [
    "inputnb, outputnb, parameters = get_input_output(2)\n",
    "_ = execute_notebook(\n",
    "    input_path          = inputnb,\n",
    "    output_path         = outputnb,\n",
    "    log_output          = False,\n",
    "    progress_bar        = True,   \n",
    "    parameters          = parameters,\n",
    "    remove_tagged_cells = ['skip', 'hide']\n",
    ")"
   ]
  }
 ],
 "metadata": {
  "kernelspec": {
   "display_name": "Python 3.10 (XPython)",
   "language": "python",
   "name": "xpython"
  },
  "language_info": {
   "file_extension": ".py",
   "mimetype": "text/x-python",
   "name": "python",
   "version": "3.10.12"
  }
 },
 "nbformat": 4,
 "nbformat_minor": 5
}

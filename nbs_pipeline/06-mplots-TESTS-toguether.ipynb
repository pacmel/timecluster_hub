{
 "cells": [
  {
   "cell_type": "code",
   "execution_count": null,
   "id": "1c031fae-dd0b-493c-a5b0-f5bd7cb976ea",
   "metadata": {},
   "outputs": [],
   "source": [
    "import numpy as np\n",
    "import matplotlib.pyplot as plt\n",
    "from mpl_toolkits.axes_grid1 import ImageGrid\n",
    "from matplotlib.gridspec import GridSpec\n",
    "import pyscamp as scamp\n",
    "import stumpy as stump\n",
    "import utils.memory as mem"
   ]
  },
  {
   "cell_type": "code",
   "execution_count": null,
   "id": "3f16bc7a-c377-472c-ba1f-70b3feb140a0",
   "metadata": {},
   "outputs": [],
   "source": [
    "#Common\n",
    "ts = np.random.rand(10000)\n",
    "m = 50"
   ]
  },
  {
   "cell_type": "code",
   "execution_count": null,
   "id": "e7778c48-0419-4691-984d-af77fa6bb7a5",
   "metadata": {},
   "outputs": [],
   "source": [
    "print(\"Ts ~ \", ts.shape)\n",
    "print(\"Expected mp length: \", int(np.floor(ts.shape[0]-m+1)))"
   ]
  },
  {
   "cell_type": "code",
   "execution_count": null,
   "id": "878efe3b-9990-45f1-94db-31ca78e2b224",
   "metadata": {},
   "outputs": [],
   "source": [
    "#SCAMP Prev\n",
    "# Allows checking if pyscamp was built with CUDA and has GPU support.\n",
    "has_gpu_support = scamp.gpu_supported()\n",
    "has_gpu_support"
   ]
  },
  {
   "cell_type": "code",
   "execution_count": null,
   "id": "ab4c75a0-7edb-41c9-b1d9-9b571aa47fbb",
   "metadata": {},
   "outputs": [],
   "source": [
    "mp_stumpy = stump.gpu_stump(ts, m)"
   ]
  },
  {
   "cell_type": "code",
   "execution_count": null,
   "id": "2e8344f4-fecb-4a35-96bc-546e4d9ab6a7",
   "metadata": {},
   "outputs": [],
   "source": [
    "mp_scamp, index_scamp = scamp.selfjoin(ts, m)"
   ]
  },
  {
   "cell_type": "code",
   "execution_count": null,
   "id": "b2918706-2988-4a07-bf19-8cb7d87f48b4",
   "metadata": {},
   "outputs": [],
   "source": [
    "def plot_mps(ts, mp_stumpy, mp_scamp):\n",
    "    fig = plt.figure(figsize=(10, 6))\n",
    "    gs = GridSpec(3, 1, height_ratios=[1, 4, 4])\n",
    "    # Serie temporal\n",
    "    ax1 = fig.add_subplot(gs[0])\n",
    "    ax1.plot(ts, label=\"Serie Temporal\")\n",
    "    ax1.set_title(\"Serie Temporal\")\n",
    "    ax1.legend()\n",
    "    # MPlot\n",
    "    ax2 = fig.add_subplot(gs[1], sharex=ax1)\n",
    "    mp_values = mp_stumpy[:, 0].astype(float) # Extraer solo los valores del perfil de similitud\n",
    "    ax2.imshow(mp_values.reshape(-1, 1).T, aspect='auto', origin='lower', cmap='hot', extent=(0, len(ts), 0, m))\n",
    "    ax2.set_title(\"MPlot - Stumpy\")\n",
    "    \n",
    "    ax3 = fig.add_subplot(gs[2], sharex=ax1)\n",
    "    mp_values = mp_scamp.astype(float) # Extraer solo los valores del perfil de similitud\n",
    "    ax3.imshow(mp_values.reshape(-1, 1).T, aspect='auto', origin='lower', cmap='hot', extent=(0, len(ts), 0, m))\n",
    "    ax3.set_title(\"MPlot - Scamp\")\n",
    "\n",
    "    plt.tight_layout()\n",
    "    plt.show()\n",
    "plot_mps(ts, mp_stumpy, mp_scamp)"
   ]
  },
  {
   "cell_type": "markdown",
   "id": "872b408d-4c0b-44eb-8f6a-2bc301f05a1d",
   "metadata": {},
   "source": [
    "### Ejemplo de STUMPY Basics - Analyzing Motifs and Anomalies with STUMP and SCAMP\n",
    "https://stumpy.readthedocs.io/en/latest/Tutorial_The_Matrix_Profile.html"
   ]
  },
  {
   "cell_type": "code",
   "execution_count": null,
   "id": "ffddb34c-e541-4faf-a422-4b3d1eeb772c",
   "metadata": {},
   "outputs": [],
   "source": [
    "%matplotlib inline\n",
    "\n",
    "import pandas as pd\n",
    "import numpy as np\n",
    "import matplotlib.pyplot as plt\n",
    "import matplotlib.dates as dates\n",
    "from matplotlib.patches import Rectangle\n",
    "import datetime as dt\n",
    "\n",
    "plt.style.use('https://raw.githubusercontent.com/TDAmeritrade/stumpy/main/docs/stumpy.mplstyle')"
   ]
  },
  {
   "cell_type": "code",
   "execution_count": null,
   "id": "16ebc649-b9bf-4057-9ef3-1022a8263792",
   "metadata": {},
   "outputs": [],
   "source": [
    "steam_df = pd.read_csv(\"https://zenodo.org/record/4273921/files/STUMPY_Basics_steamgen.csv?download=1\")\n",
    "steam_df.head()"
   ]
  },
  {
   "cell_type": "code",
   "execution_count": null,
   "id": "a02001f2-d9a6-4c06-9490-60beb73d7787",
   "metadata": {},
   "outputs": [],
   "source": [
    "plt.suptitle('Steamgen Dataset', fontsize='30')\n",
    "plt.xlabel('Time', fontsize ='20')\n",
    "plt.ylabel('Steam Flow', fontsize='20')\n",
    "plt.plot(steam_df['steam flow'].values)\n",
    "plt.show()"
   ]
  },
  {
   "cell_type": "code",
   "execution_count": null,
   "id": "2075e703-d178-413a-9ec7-22fc7746c70c",
   "metadata": {},
   "outputs": [],
   "source": [
    "m = 640\n",
    "fig, axs = plt.subplots(2)\n",
    "plt.suptitle('Steamgen Dataset', fontsize='30')\n",
    "axs[0].set_ylabel(\"Steam Flow\", fontsize='20')\n",
    "axs[0].plot(steam_df['steam flow'], alpha=0.5, linewidth=1)\n",
    "axs[0].plot(steam_df['steam flow'].iloc[643:643+m])\n",
    "axs[0].plot(steam_df['steam flow'].iloc[8724:8724+m])\n",
    "rect = Rectangle((643, 0), m, 40, facecolor='lightgrey')\n",
    "axs[0].add_patch(rect)\n",
    "rect = Rectangle((8724, 0), m, 40, facecolor='lightgrey')\n",
    "axs[0].add_patch(rect)\n",
    "axs[1].set_xlabel(\"Time\", fontsize='20')\n",
    "axs[1].set_ylabel(\"Steam Flow\", fontsize='20')\n",
    "axs[1].plot(steam_df['steam flow'].values[643:643+m], color='C1')\n",
    "axs[1].plot(steam_df['steam flow'].values[8724:8724+m], color='C2')\n",
    "plt.show()"
   ]
  },
  {
   "cell_type": "code",
   "execution_count": null,
   "id": "effe070c-965f-4512-9d84-21d7ae17ca6e",
   "metadata": {},
   "outputs": [],
   "source": [
    "m = 640\n",
    "ts = steam_df['steam flow']\n",
    "mp_scamp, index_scamp = scamp.selfjoin(ts, m)\n",
    "mp_stumpy = stump.gpu_stump(ts, m)"
   ]
  },
  {
   "cell_type": "code",
   "execution_count": null,
   "id": "77b4c230-7642-47f0-a6e1-2a76d3d5f482",
   "metadata": {},
   "outputs": [],
   "source": [
    "plot_mps(ts , mp_stumpy, mp_scamp)"
   ]
  },
  {
   "cell_type": "code",
   "execution_count": null,
   "id": "e1f6b1e7-6234-4ab1-bb08-5e453ea51f82",
   "metadata": {},
   "outputs": [],
   "source": [
    "print(\"Ts ~ \", ts.shape)\n",
    "print(\"Expected mp length: \", int(np.floor(ts.shape[0]-m+1)))\n",
    "print(\"mp_stumpy ~\", mp_stumpy.shape)\n",
    "print(\"mp_scamp ~\", mp_scamp.shape)\n",
    "print(\"mp_index ~\", index_scamp.shape)\n",
    "print(mp_stumpy[:, 0])\n",
    "print(mp_scamp)"
   ]
  },
  {
   "cell_type": "code",
   "execution_count": null,
   "id": "b893910e-4689-4701-9945-2fa15d63d843",
   "metadata": {},
   "outputs": [],
   "source": [
    "mp_stumpy_sorted = np.argsort(mp_stumpy[:,0])\n",
    "mp_stumpy_sorted"
   ]
  },
  {
   "cell_type": "code",
   "execution_count": null,
   "id": "210ecbfa-a358-4876-842e-926b9e99202f",
   "metadata": {},
   "outputs": [],
   "source": [
    "mp_scamp_sorted = np.argsort(mp_scamp)\n",
    "mp_scamp_sorted"
   ]
  },
  {
   "cell_type": "code",
   "execution_count": null,
   "id": "dcfea9ca-8080-4280-80ba-c87e459343d5",
   "metadata": {},
   "outputs": [],
   "source": [
    "motif_idx_stumpy = mp_stumpy_sorted[0]\n",
    "motif_idx_scamp = mp_scamp_sorted[0]\n",
    "print(f\"The motif (according to stumpy) is located at index {motif_idx_stumpy}\")\n",
    "print(f\"The motif (according to scamp) is located at index {motif_idx_scamp}\")"
   ]
  },
  {
   "cell_type": "markdown",
   "id": "fcb048d3-3f07-4add-97d4-7a47af800cef",
   "metadata": {},
   "source": [
    "### --> Tiene sentido que haya salido diferente por tema de decimales... \n",
    "> ¿Serán vecinos?"
   ]
  },
  {
   "cell_type": "code",
   "execution_count": null,
   "id": "267131e3-b195-4969-bced-e5dbdb835069",
   "metadata": {},
   "outputs": [],
   "source": [
    "nearest_neighbor_idx_stumpy = mp_stumpy[motif_idx_stumpy, 1]\n",
    "nearest_neighbor_idx_scamp = index_scamp[motif_idx_scamp]\n",
    "print(f\"The nearest neighbor (stumpy) is located at index {nearest_neighbor_idx_stumpy}\")\n",
    "print(f\"The nearest neighbor (scamp) is located at index {nearest_neighbor_idx_scamp}\")"
   ]
  },
  {
   "cell_type": "markdown",
   "id": "e8898208-4e45-4dd3-a71d-73a43bf9371e",
   "metadata": {},
   "source": [
    "¡Son los vecinos más cercanos en ambos casos!\n",
    "De hecho, si imprimimos los valores, la z-distancia euclídea es la misma hasta donde podemos ver..."
   ]
  },
  {
   "cell_type": "code",
   "execution_count": null,
   "id": "8d0bf953-a609-4e88-ba99-38ec8ec6d09b",
   "metadata": {},
   "outputs": [],
   "source": [
    "print(mp_stumpy[:,0][643])\n",
    "print(mp_stumpy[:,0][8724])\n",
    "print(mp_scamp[8724])\n",
    "print(mp_scamp[643])"
   ]
  },
  {
   "cell_type": "code",
   "execution_count": null,
   "id": "e61cb841-e380-4c64-8c91-fec1f6483ecd",
   "metadata": {},
   "outputs": [],
   "source": [
    "mp_stumpy[:,1][643]"
   ]
  },
  {
   "cell_type": "code",
   "execution_count": null,
   "id": "7c3146b8-f94d-4219-88bf-c32ed021881a",
   "metadata": {},
   "outputs": [],
   "source": [
    "ts_name = 'Steam Flow'\n",
    "def plt_motifs(ts, mp, ts_name, algorithm, motif_idx, nearest_neighbor_idx):\n",
    "    fig, axs = plt.subplots(2, sharex=True, gridspec_kw={'hspace': 0})\n",
    "    plt.suptitle('Motif (Pattern) Discovery | ' + algorithm , fontsize='30')\n",
    "\n",
    "    axs[0].plot(ts.values)\n",
    "    axs[0].set_ylabel(ts_name, fontsize='20')\n",
    "    rect = Rectangle((motif_idx, 0), m, 40, facecolor='lightgrey')\n",
    "    axs[0].add_patch(rect)\n",
    "    rect = Rectangle((nearest_neighbor_idx, 0), m, 40, facecolor='lightgrey')\n",
    "    axs[0].add_patch(rect)\n",
    "    axs[1].set_xlabel('Time', fontsize ='20')\n",
    "    axs[1].set_ylabel('Matrix Profile', fontsize='20')\n",
    "    axs[1].axvline(x=motif_idx, linestyle=\"dashed\", color = \"black\")\n",
    "    axs[1].axvline(x=nearest_neighbor_idx, linestyle=\"dashed\", color=\"red\")\n",
    "    axs[1].plot(mp)\n",
    "    plt.show()\n",
    "plt_motifs(ts, mp_stumpy[:,0], ts_name, \"Stumpy\", motif_idx_stumpy, nearest_neighbor_idx_stumpy)\n",
    "plt_motifs(ts, mp_scamp, ts_name, \"Stumpy\", motif_idx_scamp, nearest_neighbor_idx_scamp)"
   ]
  },
  {
   "cell_type": "markdown",
   "id": "fa33bc06-d13e-49d0-9aed-dee2add193dd",
   "metadata": {},
   "source": [
    "## Discord"
   ]
  },
  {
   "cell_type": "code",
   "execution_count": null,
   "id": "fa898ef5-399b-46d9-bdaa-835bd868ad33",
   "metadata": {},
   "outputs": [],
   "source": [
    "discord_idx_stumpy = mp_stumpy_sorted[-1]\n",
    "discord_idx_scamp = mp_scamp_sorted[-1]\n",
    "print(f\"Stumpy: The discord is located at index {discord_idx_scamp}\")\n",
    "print(f\"Scamp: The discord is located at index {discord_idx_scamp}\")"
   ]
  },
  {
   "cell_type": "code",
   "execution_count": null,
   "id": "61016b5c-c891-4750-8cde-87d6d88a16c2",
   "metadata": {},
   "outputs": [],
   "source": [
    "print(\"Stumpy | Discord: \", mp_stumpy[discord_idx_stumpy])\n",
    "print(\"Scamp |  Discord: [\", \n",
    "      mp_scamp[discord_idx_scamp], index_scamp[discord_idx_scamp], \"]\")"
   ]
  },
  {
   "cell_type": "markdown",
   "id": "8dc96979-846b-4f2b-877f-aa76b0c5ff58",
   "metadata": {},
   "source": [
    "The subsequence located at this global maximum is also referred to as a discord, novelty, or “potential anomaly”:"
   ]
  },
  {
   "cell_type": "code",
   "execution_count": null,
   "id": "2c42bc82-4e00-4e63-bcb7-f5066c10a2b4",
   "metadata": {},
   "outputs": [],
   "source": [
    "def plot_discord(ts, mp, ts_name, algorithm, discord_idx):\n",
    "    fig, axs = plt.subplots(2, sharex=True, gridspec_kw={'hspace': 0})\n",
    "    plt.suptitle('Discord (Anomaly/Novelty) Discovery | '+ algorithm, fontsize='30')\n",
    "\n",
    "    axs[0].plot(ts.values)\n",
    "    axs[0].set_ylabel(ts_name, fontsize='20')\n",
    "    rect = Rectangle((discord_idx, 0), m, 40, facecolor='lightgrey')\n",
    "    axs[0].add_patch(rect)\n",
    "    axs[1].set_xlabel('Time', fontsize ='20')\n",
    "    axs[1].set_ylabel('Matrix Profile', fontsize='20')\n",
    "    axs[1].axvline(x=discord_idx, linestyle=\"dashed\")\n",
    "    axs[1].plot(mp)\n",
    "    plt.show()\n",
    "plot_discord(ts, mp_stumpy[:,0], ts_name, \"Stumpy\", discord_idx_stumpy)\n",
    "plot_discord(ts, mp_scamp, ts_name, \"Scamp\", discord_idx_scamp)"
   ]
  },
  {
   "cell_type": "markdown",
   "id": "bc34a008-5d8f-4028-80bf-b9844e59d0de",
   "metadata": {},
   "source": [
    "Intentando ver la matriz Distance Profile al completo"
   ]
  },
  {
   "cell_type": "code",
   "execution_count": null,
   "id": "c4c3467f-af66-4b01-a0b7-a51f8df4c2cf",
   "metadata": {},
   "outputs": [],
   "source": [
    "steam_flow = steam_df['steam flow'].values\n",
    "#No nans\n",
    "steam_flow = [ 0 if np.isnan(x) else x for x in steam_flow ]"
   ]
  },
  {
   "cell_type": "markdown",
   "id": "93e55d95-65e7-4f19-9dc3-2cd86995aa2a",
   "metadata": {},
   "source": [
    "Cogiendo Distance Matrix al completo"
   ]
  },
  {
   "cell_type": "code",
   "execution_count": null,
   "id": "cc95d839-5e92-41c4-8d29-47cb59963ea5",
   "metadata": {},
   "outputs": [],
   "source": [
    "m = 640"
   ]
  },
  {
   "cell_type": "code",
   "execution_count": null,
   "id": "8aaeaaa9-b9f6-421d-9dea-0837f6164bbf",
   "metadata": {},
   "outputs": [],
   "source": [
    "steam_flow = steam_df['steam flow'].values\n",
    "#No nans\n",
    "steam_flow = [ 0 if np.isnan(x) else x for x in steam_flow ]"
   ]
  },
  {
   "cell_type": "code",
   "execution_count": null,
   "id": "9b30fbd7-771e-46eb-95c4-1fce82edcc71",
   "metadata": {},
   "outputs": [],
   "source": [
    "n = len(steam_flow) \n",
    "subsequence_len = m\n",
    "print(\"Expected: \", len(steam_flow) - m + 1)"
   ]
  },
  {
   "cell_type": "code",
   "execution_count": null,
   "id": "9a3b6ea6-a846-40bc-b2ae-15223778c4f8",
   "metadata": {},
   "outputs": [],
   "source": [
    "MPlot_matrix_stumpy = np.empty((n - m + 1, n - m + 1))\n",
    "MPlot_matrix_scamp = np.empty((n - m + 1, n - m + 1))"
   ]
  },
  {
   "cell_type": "code",
   "execution_count": null,
   "id": "e8f67014-26a8-4b7d-a8d8-ff1ef8def3cc",
   "metadata": {},
   "outputs": [],
   "source": [
    "reference_idx = np.random.randint(low=0, high=len(steam_flow) - m)\n",
    "reference_subseq = steam_flow[reference_idx:reference_idx + m]"
   ]
  },
  {
   "cell_type": "code",
   "execution_count": null,
   "id": "5e97d517-a9d1-4ddc-bc45-2f436a80c901",
   "metadata": {},
   "outputs": [],
   "source": [
    "# Calcular el Distance Profile para cada subsecuencia en la serie temporal\n",
    "distance_matrix_stumpy = np.array([\n",
    "    stump.core.mass(reference_subseq, steam_flow[i:i + m]) \n",
    "    for i in range(len(steam_flow) - m + 1)\n",
    "])\n",
    "\n",
    "distance_matrix_scamp = np.array([\n",
    "    scamp.abjoin(reference_subseq, steam_flow[i:i + m], m)[0]\n",
    "    for i in range(len(steam_flow) - m + 1)\n",
    "])"
   ]
  },
  {
   "cell_type": "code",
   "execution_count": null,
   "id": "4cb9511c-3612-4da8-b362-ef146fdf3523",
   "metadata": {},
   "outputs": [],
   "source": [
    "print(len(steam_flow))\n",
    "print(distance_matrix_stumpy.shape)\n",
    "print(distance_matrix_scamp.shape)\n",
    "print(MPlot_matrix_stumpy.shape)\n",
    "print(MPlot_matrix_scamp.shape)"
   ]
  },
  {
   "cell_type": "code",
   "execution_count": null,
   "id": "b31fbc13-e8b2-4679-ba33-a8a3ef889d4d",
   "metadata": {},
   "outputs": [],
   "source": [
    "#Calculamos el MPlot\n",
    "for i in range(n - m + 1):\n",
    "    ### Calculamos el Distance Profile utilizando el algoritmo MASS / Scamp\n",
    "    MPlot_matrix_stumpy[i,:] = stump.core.mass(steam_flow[i:i + m], steam_flow)"
   ]
  },
  {
   "cell_type": "code",
   "execution_count": null,
   "id": "b34c3729-8a6a-451e-bea5-5db21e989fbd",
   "metadata": {},
   "outputs": [],
   "source": [
    "def plot_mp(ts, ts_name, MPlot_matrix, algorithm):\n",
    "    fig = plt.figure(figsize=(10, 10))\n",
    "    gs = GridSpec(2, 1, height_ratios=[1, 4])\n",
    "\n",
    "    # Serie temporal\n",
    "    ax1 = fig.add_subplot(gs[0])\n",
    "    ax1.plot(ts, label=\"Serie Temporal\")\n",
    "    ax1.set_title(ts_name + \" | \" +  algorithm)\n",
    "    ax1.legend()\n",
    "\n",
    "    # MPlot\n",
    "    ax2 = fig.add_subplot(gs[1], sharex=ax1)\n",
    "    # Utilizar 'imshow' para visualizar la matriz MPlot\n",
    "    ax2.imshow(MPlot_matrix, aspect='auto', origin='lower', cmap='hot', extent=(0, len(ts) - m, 0, len(ts) - m))\n",
    "    ax2.set_title(\"MPlot\")\n",
    "    ax2.set_xlabel('Subsecuencia Inicial')\n",
    "    ax2.set_ylabel('Subsecuencia Referencia')\n",
    "\n",
    "    plt.tight_layout()\n",
    "    plt.show()"
   ]
  },
  {
   "cell_type": "code",
   "execution_count": null,
   "id": "a1454e50-ed78-4ce1-9c70-b457ea5b5cbc",
   "metadata": {},
   "outputs": [],
   "source": [
    "plot_mp(steam_flow, ts_name, MPlot_matrix_stumpy, \"Stumpy\")"
   ]
  },
  {
   "cell_type": "code",
   "execution_count": null,
   "id": "05e0afdd-97d7-4e1e-99c5-4675892a6aaa",
   "metadata": {},
   "outputs": [],
   "source": [
    "mp_scamp, _ = scamp.selfjoin(ts, m)"
   ]
  },
  {
   "cell_type": "code",
   "execution_count": null,
   "id": "8704f66f-9145-4098-9470-53c5bff9fb77",
   "metadata": {},
   "outputs": [],
   "source": [
    "mp_scamp.shape"
   ]
  },
  {
   "cell_type": "code",
   "execution_count": null,
   "id": "303a616e-6139-4421-9077-2e51ebf767a5",
   "metadata": {},
   "outputs": [],
   "source": [
    "#https://scamp-docs.readthedocs.io/en/latest/pyscamp/_generate/pyscamp.selfjoin_matrix.htm"
   ]
  },
  {
   "cell_type": "code",
   "execution_count": null,
   "id": "f02aceba-8f1c-42dd-8ab1-977a704078c3",
   "metadata": {},
   "outputs": [],
   "source": [
    "ts.shape"
   ]
  },
  {
   "cell_type": "code",
   "execution_count": null,
   "id": "5bca2916-1743-4249-b92e-dd5c3c250ae1",
   "metadata": {},
   "outputs": [],
   "source": [
    "MPlot_matrix_stumpy.shape"
   ]
  },
  {
   "cell_type": "code",
   "execution_count": null,
   "id": "6bd36fd1-a701-4f19-9cbb-25e0b615bca2",
   "metadata": {},
   "outputs": [],
   "source": [
    "MPlot_matrix_stumpy"
   ]
  },
  {
   "cell_type": "code",
   "execution_count": null,
   "id": "3fcd5c0d-2a18-4c12-8dfe-3a8d223f7fdb",
   "metadata": {},
   "outputs": [],
   "source": [
    "print(np.isnan(steam_flow).any())"
   ]
  },
  {
   "cell_type": "code",
   "execution_count": null,
   "id": "021cf502-f6c8-42b2-a6ce-5670a06204ca",
   "metadata": {},
   "outputs": [],
   "source": []
  },
  {
   "cell_type": "code",
   "execution_count": null,
   "id": "c50fe7cd-3dd8-4ef4-a151-ce7d3bd42456",
   "metadata": {},
   "outputs": [],
   "source": []
  },
  {
   "cell_type": "code",
   "execution_count": null,
   "id": "e98605db-4285-4723-8f1d-2fcc68c88a76",
   "metadata": {},
   "outputs": [],
   "source": [
    "# MPlot_matrix_stumpy[i,:] = stump.core.mass(steam_flow[i:i + m], steam_flow)\n",
    "MPlot_matrix_scamp = scamp.selfjoin_matrix(\n",
    "    steam_flow, \n",
    "    m, \n",
    "    gpus=[],\n",
    "    mheight = n - m + 1, \n",
    "    mwidth = n - m + 1,\n",
    "    verbose = True,\n",
    "    pearson = False\n",
    ")"
   ]
  },
  {
   "cell_type": "code",
   "execution_count": null,
   "id": "52469832-3535-452b-bd84-e5d913205b9e",
   "metadata": {},
   "outputs": [],
   "source": [
    "MPlot_matrix_scamp.shape"
   ]
  },
  {
   "cell_type": "code",
   "execution_count": null,
   "id": "80b68f1e-8012-4fa8-802a-6928b1dffe52",
   "metadata": {},
   "outputs": [],
   "source": [
    "MPlot_matrix_scamp"
   ]
  },
  {
   "cell_type": "code",
   "execution_count": null,
   "id": "74e7f3ff-aedf-4467-b4eb-18d3c85ae4cf",
   "metadata": {},
   "outputs": [],
   "source": [
    "plot_mp(steam_flow, ts_name, MPlot_matrix_scamp, \"Scamp\")"
   ]
  }
 ],
 "metadata": {
  "kernelspec": {
   "display_name": "Python 3 (ipykernel)",
   "language": "python",
   "name": "python3"
  }
 },
 "nbformat": 4,
 "nbformat_minor": 5
}

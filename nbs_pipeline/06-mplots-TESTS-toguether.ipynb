{
 "cells": [
  {
   "cell_type": "markdown",
   "id": "b9444fb0-1a18-4fb9-8367-68e1de98e6f9",
   "metadata": {},
   "source": [
    "# MPlots\n",
    "Jugando con los MatrixProfile & MPlots comenzando con el tutorial de Stumpy\n",
    "https://stumpy.readthedocs.io/en/latest/Tutorial_The_Matrix_Profile.html"
   ]
  },
  {
   "cell_type": "code",
   "execution_count": 1,
   "id": "1c031fae-dd0b-493c-a5b0-f5bd7cb976ea",
   "metadata": {},
   "outputs": [
    {
     "ename": "KeyboardInterrupt",
     "evalue": "",
     "output_type": "error",
     "traceback": [
      "\u001b[0;31m---------------------------------------------------------------------------\u001b[0m",
      "\u001b[0;31mKeyboardInterrupt\u001b[0m                         Traceback (most recent call last)",
      "Cell \u001b[0;32mIn[1], line 3\u001b[0m\n\u001b[1;32m      1\u001b[0m \u001b[38;5;28;01mimport\u001b[39;00m \u001b[38;5;21;01mnumpy\u001b[39;00m \u001b[38;5;28;01mas\u001b[39;00m \u001b[38;5;21;01mnp\u001b[39;00m\n\u001b[1;32m      2\u001b[0m \u001b[38;5;28;01mimport\u001b[39;00m \u001b[38;5;21;01mdvats\u001b[39;00m\u001b[38;5;21;01m.\u001b[39;00m\u001b[38;5;21;01mmemory\u001b[39;00m \u001b[38;5;28;01mas\u001b[39;00m \u001b[38;5;21;01mmem\u001b[39;00m\n\u001b[0;32m----> 3\u001b[0m \u001b[38;5;28;01mimport\u001b[39;00m \u001b[38;5;21;01mdvats\u001b[39;00m\u001b[38;5;21;01m.\u001b[39;00m\u001b[38;5;21;01mmplots\u001b[39;00m \u001b[38;5;28;01mas\u001b[39;00m \u001b[38;5;21;01mmp\u001b[39;00m\n",
      "File \u001b[0;32m~/work/dvats/mplots.py:11\u001b[0m\n\u001b[1;32m      8\u001b[0m \u001b[38;5;66;03m# %% ../nbs/mplots.ipynb 4\u001b[39;00m\n\u001b[1;32m      9\u001b[0m \u001b[38;5;66;03m## -- Matrix profile\u001b[39;00m\n\u001b[1;32m     10\u001b[0m \u001b[38;5;28;01mimport\u001b[39;00m \u001b[38;5;21;01mpyscamp\u001b[39;00m \u001b[38;5;28;01mas\u001b[39;00m \u001b[38;5;21;01mscamp\u001b[39;00m\n\u001b[0;32m---> 11\u001b[0m \u001b[38;5;28;01mimport\u001b[39;00m \u001b[38;5;21;01mstumpy\u001b[39;00m \u001b[38;5;28;01mas\u001b[39;00m \u001b[38;5;21;01mstump\u001b[39;00m \n\u001b[1;32m     12\u001b[0m \u001b[38;5;66;03m## -- Utilities\u001b[39;00m\n\u001b[1;32m     13\u001b[0m \u001b[38;5;28;01mimport\u001b[39;00m \u001b[38;5;21;01mdvats\u001b[39;00m\u001b[38;5;21;01m.\u001b[39;00m\u001b[38;5;21;01mmemory\u001b[39;00m \u001b[38;5;28;01mas\u001b[39;00m \u001b[38;5;21;01mmem\u001b[39;00m\n",
      "File \u001b[0;32m/usr/local/share/miniconda3/envs/env/lib/python3.10/site-packages/stumpy/__init__.py:35\u001b[0m\n\u001b[1;32m     32\u001b[0m \u001b[38;5;28;01mfrom\u001b[39;00m \u001b[38;5;21;01m.\u001b[39;00m\u001b[38;5;21;01mstumpi\u001b[39;00m \u001b[38;5;28;01mimport\u001b[39;00m stumpi  \u001b[38;5;66;03m# noqa: F401\u001b[39;00m\n\u001b[1;32m     34\u001b[0m \u001b[38;5;28;01mif\u001b[39;00m cuda\u001b[38;5;241m.\u001b[39mis_available():\n\u001b[0;32m---> 35\u001b[0m     \u001b[38;5;28;01mfrom\u001b[39;00m \u001b[38;5;21;01m.\u001b[39;00m\u001b[38;5;21;01mgpu_aamp\u001b[39;00m \u001b[38;5;28;01mimport\u001b[39;00m gpu_aamp  \u001b[38;5;66;03m# noqa: F401\u001b[39;00m\n\u001b[1;32m     36\u001b[0m     \u001b[38;5;28;01mfrom\u001b[39;00m \u001b[38;5;21;01m.\u001b[39;00m\u001b[38;5;21;01mgpu_aamp_ostinato\u001b[39;00m \u001b[38;5;28;01mimport\u001b[39;00m gpu_aamp_ostinato  \u001b[38;5;66;03m# noqa: F401\u001b[39;00m\n\u001b[1;32m     37\u001b[0m     \u001b[38;5;28;01mfrom\u001b[39;00m \u001b[38;5;21;01m.\u001b[39;00m\u001b[38;5;21;01mgpu_aamp_stimp\u001b[39;00m \u001b[38;5;28;01mimport\u001b[39;00m gpu_aamp_stimp  \u001b[38;5;66;03m# noqa: F401\u001b[39;00m\n",
      "File \u001b[0;32m/usr/local/share/miniconda3/envs/env/lib/python3.10/site-packages/stumpy/gpu_aamp.py:19\u001b[0m\n\u001b[1;32m      9\u001b[0m \u001b[38;5;28;01mfrom\u001b[39;00m \u001b[38;5;21;01mnumba\u001b[39;00m \u001b[38;5;28;01mimport\u001b[39;00m cuda\n\u001b[1;32m     11\u001b[0m \u001b[38;5;28;01mfrom\u001b[39;00m \u001b[38;5;21;01m.\u001b[39;00m \u001b[38;5;28;01mimport\u001b[39;00m config, core\n\u001b[1;32m     14\u001b[0m \u001b[38;5;129;43m@cuda\u001b[39;49m\u001b[38;5;241;43m.\u001b[39;49m\u001b[43mjit\u001b[49m\u001b[43m(\u001b[49m\n\u001b[1;32m     15\u001b[0m \u001b[43m    \u001b[49m\u001b[38;5;124;43m\"\u001b[39;49m\u001b[38;5;124;43m(i8, f8[:], f8[:], i8, f8, f8[:], f8[:], f8[:], b1[:], b1[:],\u001b[39;49m\u001b[38;5;124;43m\"\u001b[39;49m\n\u001b[1;32m     16\u001b[0m \u001b[43m    \u001b[49m\u001b[38;5;124;43m\"\u001b[39;49m\u001b[38;5;124;43mi8, b1, i8, f8[:, :], f8[:], f8[:], i8[:, :], i8[:], i8[:], b1,\u001b[39;49m\u001b[38;5;124;43m\"\u001b[39;49m\n\u001b[1;32m     17\u001b[0m \u001b[43m    \u001b[49m\u001b[38;5;124;43m\"\u001b[39;49m\u001b[38;5;124;43mi8[:], i8, i8)\u001b[39;49m\u001b[38;5;124;43m\"\u001b[39;49m\n\u001b[1;32m     18\u001b[0m \u001b[43m)\u001b[49m\n\u001b[0;32m---> 19\u001b[0m \u001b[38;5;28;43;01mdef\u001b[39;49;00m\u001b[43m \u001b[49m\u001b[38;5;21;43m_compute_and_update_PI_kernel\u001b[39;49m\u001b[43m(\u001b[49m\n\u001b[1;32m     20\u001b[0m \u001b[43m    \u001b[49m\u001b[43midx\u001b[49m\u001b[43m,\u001b[49m\n\u001b[1;32m     21\u001b[0m \u001b[43m    \u001b[49m\u001b[43mT_A\u001b[49m\u001b[43m,\u001b[49m\n\u001b[1;32m     22\u001b[0m \u001b[43m    \u001b[49m\u001b[43mT_B\u001b[49m\u001b[43m,\u001b[49m\n\u001b[1;32m     23\u001b[0m \u001b[43m    \u001b[49m\u001b[43mm\u001b[49m\u001b[43m,\u001b[49m\n\u001b[1;32m     24\u001b[0m \u001b[43m    \u001b[49m\u001b[43mp\u001b[49m\u001b[43m,\u001b[49m\n\u001b[1;32m     25\u001b[0m \u001b[43m    \u001b[49m\u001b[43mp_norm_even\u001b[49m\u001b[43m,\u001b[49m\n\u001b[1;32m     26\u001b[0m \u001b[43m    \u001b[49m\u001b[43mp_norm_odd\u001b[49m\u001b[43m,\u001b[49m\n\u001b[1;32m     27\u001b[0m \u001b[43m    \u001b[49m\u001b[43mp_norm_first\u001b[49m\u001b[43m,\u001b[49m\n\u001b[1;32m     28\u001b[0m \u001b[43m    \u001b[49m\u001b[43mT_A_subseq_isfinite\u001b[49m\u001b[43m,\u001b[49m\n\u001b[1;32m     29\u001b[0m \u001b[43m    \u001b[49m\u001b[43mT_B_subseq_isfinite\u001b[49m\u001b[43m,\u001b[49m\n\u001b[1;32m     30\u001b[0m \u001b[43m    \u001b[49m\u001b[43mw\u001b[49m\u001b[43m,\u001b[49m\n\u001b[1;32m     31\u001b[0m \u001b[43m    \u001b[49m\u001b[43mignore_trivial\u001b[49m\u001b[43m,\u001b[49m\n\u001b[1;32m     32\u001b[0m \u001b[43m    \u001b[49m\u001b[43mexcl_zone\u001b[49m\u001b[43m,\u001b[49m\n\u001b[1;32m     33\u001b[0m \u001b[43m    \u001b[49m\u001b[43mprofile\u001b[49m\u001b[43m,\u001b[49m\n\u001b[1;32m     34\u001b[0m \u001b[43m    \u001b[49m\u001b[43mprofile_L\u001b[49m\u001b[43m,\u001b[49m\n\u001b[1;32m     35\u001b[0m \u001b[43m    \u001b[49m\u001b[43mprofile_R\u001b[49m\u001b[43m,\u001b[49m\n\u001b[1;32m     36\u001b[0m \u001b[43m    \u001b[49m\u001b[43mindices\u001b[49m\u001b[43m,\u001b[49m\n\u001b[1;32m     37\u001b[0m \u001b[43m    \u001b[49m\u001b[43mindices_L\u001b[49m\u001b[43m,\u001b[49m\n\u001b[1;32m     38\u001b[0m \u001b[43m    \u001b[49m\u001b[43mindices_R\u001b[49m\u001b[43m,\u001b[49m\n\u001b[1;32m     39\u001b[0m \u001b[43m    \u001b[49m\u001b[43mcompute_p_norm\u001b[49m\u001b[43m,\u001b[49m\n\u001b[1;32m     40\u001b[0m \u001b[43m    \u001b[49m\u001b[43mbfs\u001b[49m\u001b[43m,\u001b[49m\n\u001b[1;32m     41\u001b[0m \u001b[43m    \u001b[49m\u001b[43mnlevel\u001b[49m\u001b[43m,\u001b[49m\n\u001b[1;32m     42\u001b[0m \u001b[43m    \u001b[49m\u001b[43mk\u001b[49m\u001b[43m,\u001b[49m\n\u001b[1;32m     43\u001b[0m \u001b[43m)\u001b[49m\u001b[43m:\u001b[49m\n\u001b[1;32m     44\u001b[0m \u001b[38;5;250;43m    \u001b[39;49m\u001b[38;5;124;43;03m\"\"\"\u001b[39;49;00m\n\u001b[1;32m     45\u001b[0m \u001b[38;5;124;43;03m    A Numba CUDA kernel to update the non-normalized (i.e., without z-normalization)\u001b[39;49;00m\n\u001b[1;32m     46\u001b[0m \u001b[38;5;124;43;03m    matrix profile and matrix profile indices\u001b[39;49;00m\n\u001b[0;32m   (...)\u001b[0m\n\u001b[1;32m    146\u001b[0m \u001b[38;5;124;43;03m    See Table II, Figure 5, and Figure 6\u001b[39;49;00m\n\u001b[1;32m    147\u001b[0m \u001b[38;5;124;43;03m    \"\"\"\u001b[39;49;00m\n\u001b[1;32m    148\u001b[0m \u001b[43m    \u001b[49m\u001b[43mstart\u001b[49m\u001b[43m \u001b[49m\u001b[38;5;241;43m=\u001b[39;49m\u001b[43m \u001b[49m\u001b[43mcuda\u001b[49m\u001b[38;5;241;43m.\u001b[39;49m\u001b[43mgrid\u001b[49m\u001b[43m(\u001b[49m\u001b[38;5;241;43m1\u001b[39;49m\u001b[43m)\u001b[49m\n",
      "File \u001b[0;32m/usr/local/share/miniconda3/envs/env/lib/python3.10/site-packages/numba/cuda/decorators.py:133\u001b[0m, in \u001b[0;36mjit.<locals>._jit\u001b[0;34m(func)\u001b[0m\n\u001b[1;32m    131\u001b[0m             disp\u001b[38;5;241m.\u001b[39mcompile_device(argtypes, restype)\n\u001b[1;32m    132\u001b[0m     \u001b[38;5;28;01melse\u001b[39;00m:\n\u001b[0;32m--> 133\u001b[0m         \u001b[43mdisp\u001b[49m\u001b[38;5;241;43m.\u001b[39;49m\u001b[43mcompile\u001b[49m\u001b[43m(\u001b[49m\u001b[43margtypes\u001b[49m\u001b[43m)\u001b[49m\n\u001b[1;32m    135\u001b[0m disp\u001b[38;5;241m.\u001b[39m_specialized \u001b[38;5;241m=\u001b[39m specialized\n\u001b[1;32m    136\u001b[0m disp\u001b[38;5;241m.\u001b[39mdisable_compile()\n",
      "File \u001b[0;32m/usr/local/share/miniconda3/envs/env/lib/python3.10/site-packages/numba/cuda/dispatcher.py:924\u001b[0m, in \u001b[0;36mCUDADispatcher.compile\u001b[0;34m(self, sig)\u001b[0m\n\u001b[1;32m    921\u001b[0m \u001b[38;5;28;01mif\u001b[39;00m \u001b[38;5;129;01mnot\u001b[39;00m \u001b[38;5;28mself\u001b[39m\u001b[38;5;241m.\u001b[39m_can_compile:\n\u001b[1;32m    922\u001b[0m     \u001b[38;5;28;01mraise\u001b[39;00m \u001b[38;5;167;01mRuntimeError\u001b[39;00m(\u001b[38;5;124m\"\u001b[39m\u001b[38;5;124mCompilation disabled\u001b[39m\u001b[38;5;124m\"\u001b[39m)\n\u001b[0;32m--> 924\u001b[0m kernel \u001b[38;5;241m=\u001b[39m \u001b[43m_Kernel\u001b[49m\u001b[43m(\u001b[49m\u001b[38;5;28;43mself\u001b[39;49m\u001b[38;5;241;43m.\u001b[39;49m\u001b[43mpy_func\u001b[49m\u001b[43m,\u001b[49m\u001b[43m \u001b[49m\u001b[43margtypes\u001b[49m\u001b[43m,\u001b[49m\u001b[43m \u001b[49m\u001b[38;5;241;43m*\u001b[39;49m\u001b[38;5;241;43m*\u001b[39;49m\u001b[38;5;28;43mself\u001b[39;49m\u001b[38;5;241;43m.\u001b[39;49m\u001b[43mtargetoptions\u001b[49m\u001b[43m)\u001b[49m\n\u001b[1;32m    925\u001b[0m \u001b[38;5;66;03m# We call bind to force codegen, so that there is a cubin to cache\u001b[39;00m\n\u001b[1;32m    926\u001b[0m kernel\u001b[38;5;241m.\u001b[39mbind()\n",
      "File \u001b[0;32m/usr/local/share/miniconda3/envs/env/lib/python3.10/site-packages/numba/core/compiler_lock.py:35\u001b[0m, in \u001b[0;36m_CompilerLock.__call__.<locals>._acquire_compile_lock\u001b[0;34m(*args, **kwargs)\u001b[0m\n\u001b[1;32m     32\u001b[0m \u001b[38;5;129m@functools\u001b[39m\u001b[38;5;241m.\u001b[39mwraps(func)\n\u001b[1;32m     33\u001b[0m \u001b[38;5;28;01mdef\u001b[39;00m \u001b[38;5;21m_acquire_compile_lock\u001b[39m(\u001b[38;5;241m*\u001b[39margs, \u001b[38;5;241m*\u001b[39m\u001b[38;5;241m*\u001b[39mkwargs):\n\u001b[1;32m     34\u001b[0m     \u001b[38;5;28;01mwith\u001b[39;00m \u001b[38;5;28mself\u001b[39m:\n\u001b[0;32m---> 35\u001b[0m         \u001b[38;5;28;01mreturn\u001b[39;00m \u001b[43mfunc\u001b[49m\u001b[43m(\u001b[49m\u001b[38;5;241;43m*\u001b[39;49m\u001b[43margs\u001b[49m\u001b[43m,\u001b[49m\u001b[43m \u001b[49m\u001b[38;5;241;43m*\u001b[39;49m\u001b[38;5;241;43m*\u001b[39;49m\u001b[43mkwargs\u001b[49m\u001b[43m)\u001b[49m\n",
      "File \u001b[0;32m/usr/local/share/miniconda3/envs/env/lib/python3.10/site-packages/numba/cuda/dispatcher.py:83\u001b[0m, in \u001b[0;36m_Kernel.__init__\u001b[0;34m(self, py_func, argtypes, link, debug, lineinfo, inline, fastmath, extensions, max_registers, opt, device)\u001b[0m\n\u001b[1;32m     77\u001b[0m nvvm_options \u001b[38;5;241m=\u001b[39m {\n\u001b[1;32m     78\u001b[0m     \u001b[38;5;124m'\u001b[39m\u001b[38;5;124mfastmath\u001b[39m\u001b[38;5;124m'\u001b[39m: fastmath,\n\u001b[1;32m     79\u001b[0m     \u001b[38;5;124m'\u001b[39m\u001b[38;5;124mopt\u001b[39m\u001b[38;5;124m'\u001b[39m: \u001b[38;5;241m3\u001b[39m \u001b[38;5;28;01mif\u001b[39;00m opt \u001b[38;5;28;01melse\u001b[39;00m \u001b[38;5;241m0\u001b[39m\n\u001b[1;32m     80\u001b[0m }\n\u001b[1;32m     82\u001b[0m cc \u001b[38;5;241m=\u001b[39m get_current_device()\u001b[38;5;241m.\u001b[39mcompute_capability\n\u001b[0;32m---> 83\u001b[0m cres \u001b[38;5;241m=\u001b[39m \u001b[43mcompile_cuda\u001b[49m\u001b[43m(\u001b[49m\u001b[38;5;28;43mself\u001b[39;49m\u001b[38;5;241;43m.\u001b[39;49m\u001b[43mpy_func\u001b[49m\u001b[43m,\u001b[49m\u001b[43m \u001b[49m\u001b[43mtypes\u001b[49m\u001b[38;5;241;43m.\u001b[39;49m\u001b[43mvoid\u001b[49m\u001b[43m,\u001b[49m\u001b[43m \u001b[49m\u001b[38;5;28;43mself\u001b[39;49m\u001b[38;5;241;43m.\u001b[39;49m\u001b[43margtypes\u001b[49m\u001b[43m,\u001b[49m\n\u001b[1;32m     84\u001b[0m \u001b[43m                    \u001b[49m\u001b[43mdebug\u001b[49m\u001b[38;5;241;43m=\u001b[39;49m\u001b[38;5;28;43mself\u001b[39;49m\u001b[38;5;241;43m.\u001b[39;49m\u001b[43mdebug\u001b[49m\u001b[43m,\u001b[49m\n\u001b[1;32m     85\u001b[0m \u001b[43m                    \u001b[49m\u001b[43mlineinfo\u001b[49m\u001b[38;5;241;43m=\u001b[39;49m\u001b[43mlineinfo\u001b[49m\u001b[43m,\u001b[49m\n\u001b[1;32m     86\u001b[0m \u001b[43m                    \u001b[49m\u001b[43minline\u001b[49m\u001b[38;5;241;43m=\u001b[39;49m\u001b[43minline\u001b[49m\u001b[43m,\u001b[49m\n\u001b[1;32m     87\u001b[0m \u001b[43m                    \u001b[49m\u001b[43mfastmath\u001b[49m\u001b[38;5;241;43m=\u001b[39;49m\u001b[43mfastmath\u001b[49m\u001b[43m,\u001b[49m\n\u001b[1;32m     88\u001b[0m \u001b[43m                    \u001b[49m\u001b[43mnvvm_options\u001b[49m\u001b[38;5;241;43m=\u001b[39;49m\u001b[43mnvvm_options\u001b[49m\u001b[43m,\u001b[49m\n\u001b[1;32m     89\u001b[0m \u001b[43m                    \u001b[49m\u001b[43mcc\u001b[49m\u001b[38;5;241;43m=\u001b[39;49m\u001b[43mcc\u001b[49m\u001b[43m)\u001b[49m\n\u001b[1;32m     90\u001b[0m tgt_ctx \u001b[38;5;241m=\u001b[39m cres\u001b[38;5;241m.\u001b[39mtarget_context\n\u001b[1;32m     91\u001b[0m code \u001b[38;5;241m=\u001b[39m \u001b[38;5;28mself\u001b[39m\u001b[38;5;241m.\u001b[39mpy_func\u001b[38;5;241m.\u001b[39m\u001b[38;5;18m__code__\u001b[39m\n",
      "File \u001b[0;32m/usr/local/share/miniconda3/envs/env/lib/python3.10/site-packages/numba/core/compiler_lock.py:35\u001b[0m, in \u001b[0;36m_CompilerLock.__call__.<locals>._acquire_compile_lock\u001b[0;34m(*args, **kwargs)\u001b[0m\n\u001b[1;32m     32\u001b[0m \u001b[38;5;129m@functools\u001b[39m\u001b[38;5;241m.\u001b[39mwraps(func)\n\u001b[1;32m     33\u001b[0m \u001b[38;5;28;01mdef\u001b[39;00m \u001b[38;5;21m_acquire_compile_lock\u001b[39m(\u001b[38;5;241m*\u001b[39margs, \u001b[38;5;241m*\u001b[39m\u001b[38;5;241m*\u001b[39mkwargs):\n\u001b[1;32m     34\u001b[0m     \u001b[38;5;28;01mwith\u001b[39;00m \u001b[38;5;28mself\u001b[39m:\n\u001b[0;32m---> 35\u001b[0m         \u001b[38;5;28;01mreturn\u001b[39;00m \u001b[43mfunc\u001b[49m\u001b[43m(\u001b[49m\u001b[38;5;241;43m*\u001b[39;49m\u001b[43margs\u001b[49m\u001b[43m,\u001b[49m\u001b[43m \u001b[49m\u001b[38;5;241;43m*\u001b[39;49m\u001b[38;5;241;43m*\u001b[39;49m\u001b[43mkwargs\u001b[49m\u001b[43m)\u001b[49m\n",
      "File \u001b[0;32m/usr/local/share/miniconda3/envs/env/lib/python3.10/site-packages/numba/cuda/compiler.py:196\u001b[0m, in \u001b[0;36mcompile_cuda\u001b[0;34m(pyfunc, return_type, args, debug, lineinfo, inline, fastmath, nvvm_options, cc)\u001b[0m\n\u001b[1;32m    194\u001b[0m \u001b[38;5;28;01mfrom\u001b[39;00m \u001b[38;5;21;01mnumba\u001b[39;00m\u001b[38;5;21;01m.\u001b[39;00m\u001b[38;5;21;01mcore\u001b[39;00m\u001b[38;5;21;01m.\u001b[39;00m\u001b[38;5;21;01mtarget_extension\u001b[39;00m \u001b[38;5;28;01mimport\u001b[39;00m target_override\n\u001b[1;32m    195\u001b[0m \u001b[38;5;28;01mwith\u001b[39;00m target_override(\u001b[38;5;124m'\u001b[39m\u001b[38;5;124mcuda\u001b[39m\u001b[38;5;124m'\u001b[39m):\n\u001b[0;32m--> 196\u001b[0m     cres \u001b[38;5;241m=\u001b[39m \u001b[43mcompiler\u001b[49m\u001b[38;5;241;43m.\u001b[39;49m\u001b[43mcompile_extra\u001b[49m\u001b[43m(\u001b[49m\u001b[43mtypingctx\u001b[49m\u001b[38;5;241;43m=\u001b[39;49m\u001b[43mtypingctx\u001b[49m\u001b[43m,\u001b[49m\n\u001b[1;32m    197\u001b[0m \u001b[43m                                  \u001b[49m\u001b[43mtargetctx\u001b[49m\u001b[38;5;241;43m=\u001b[39;49m\u001b[43mtargetctx\u001b[49m\u001b[43m,\u001b[49m\n\u001b[1;32m    198\u001b[0m \u001b[43m                                  \u001b[49m\u001b[43mfunc\u001b[49m\u001b[38;5;241;43m=\u001b[39;49m\u001b[43mpyfunc\u001b[49m\u001b[43m,\u001b[49m\n\u001b[1;32m    199\u001b[0m \u001b[43m                                  \u001b[49m\u001b[43margs\u001b[49m\u001b[38;5;241;43m=\u001b[39;49m\u001b[43margs\u001b[49m\u001b[43m,\u001b[49m\n\u001b[1;32m    200\u001b[0m \u001b[43m                                  \u001b[49m\u001b[43mreturn_type\u001b[49m\u001b[38;5;241;43m=\u001b[39;49m\u001b[43mreturn_type\u001b[49m\u001b[43m,\u001b[49m\n\u001b[1;32m    201\u001b[0m \u001b[43m                                  \u001b[49m\u001b[43mflags\u001b[49m\u001b[38;5;241;43m=\u001b[39;49m\u001b[43mflags\u001b[49m\u001b[43m,\u001b[49m\n\u001b[1;32m    202\u001b[0m \u001b[43m                                  \u001b[49m\u001b[38;5;28;43mlocals\u001b[39;49m\u001b[38;5;241;43m=\u001b[39;49m\u001b[43m{\u001b[49m\u001b[43m}\u001b[49m\u001b[43m,\u001b[49m\n\u001b[1;32m    203\u001b[0m \u001b[43m                                  \u001b[49m\u001b[43mpipeline_class\u001b[49m\u001b[38;5;241;43m=\u001b[39;49m\u001b[43mCUDACompiler\u001b[49m\u001b[43m)\u001b[49m\n\u001b[1;32m    205\u001b[0m library \u001b[38;5;241m=\u001b[39m cres\u001b[38;5;241m.\u001b[39mlibrary\n\u001b[1;32m    206\u001b[0m library\u001b[38;5;241m.\u001b[39mfinalize()\n",
      "File \u001b[0;32m/usr/local/share/miniconda3/envs/env/lib/python3.10/site-packages/numba/core/compiler.py:751\u001b[0m, in \u001b[0;36mcompile_extra\u001b[0;34m(typingctx, targetctx, func, args, return_type, flags, locals, library, pipeline_class)\u001b[0m\n\u001b[1;32m    727\u001b[0m \u001b[38;5;250m\u001b[39m\u001b[38;5;124;03m\"\"\"Compiler entry point\u001b[39;00m\n\u001b[1;32m    728\u001b[0m \n\u001b[1;32m    729\u001b[0m \u001b[38;5;124;03mParameter\u001b[39;00m\n\u001b[0;32m   (...)\u001b[0m\n\u001b[1;32m    747\u001b[0m \u001b[38;5;124;03m    compiler pipeline\u001b[39;00m\n\u001b[1;32m    748\u001b[0m \u001b[38;5;124;03m\"\"\"\u001b[39;00m\n\u001b[1;32m    749\u001b[0m pipeline \u001b[38;5;241m=\u001b[39m pipeline_class(typingctx, targetctx, library,\n\u001b[1;32m    750\u001b[0m                           args, return_type, flags, \u001b[38;5;28mlocals\u001b[39m)\n\u001b[0;32m--> 751\u001b[0m \u001b[38;5;28;01mreturn\u001b[39;00m \u001b[43mpipeline\u001b[49m\u001b[38;5;241;43m.\u001b[39;49m\u001b[43mcompile_extra\u001b[49m\u001b[43m(\u001b[49m\u001b[43mfunc\u001b[49m\u001b[43m)\u001b[49m\n",
      "File \u001b[0;32m/usr/local/share/miniconda3/envs/env/lib/python3.10/site-packages/numba/core/compiler.py:445\u001b[0m, in \u001b[0;36mCompilerBase.compile_extra\u001b[0;34m(self, func)\u001b[0m\n\u001b[1;32m    443\u001b[0m \u001b[38;5;28mself\u001b[39m\u001b[38;5;241m.\u001b[39mstate\u001b[38;5;241m.\u001b[39mlifted \u001b[38;5;241m=\u001b[39m ()\n\u001b[1;32m    444\u001b[0m \u001b[38;5;28mself\u001b[39m\u001b[38;5;241m.\u001b[39mstate\u001b[38;5;241m.\u001b[39mlifted_from \u001b[38;5;241m=\u001b[39m \u001b[38;5;28;01mNone\u001b[39;00m\n\u001b[0;32m--> 445\u001b[0m \u001b[38;5;28;01mreturn\u001b[39;00m \u001b[38;5;28;43mself\u001b[39;49m\u001b[38;5;241;43m.\u001b[39;49m\u001b[43m_compile_bytecode\u001b[49m\u001b[43m(\u001b[49m\u001b[43m)\u001b[49m\n",
      "File \u001b[0;32m/usr/local/share/miniconda3/envs/env/lib/python3.10/site-packages/numba/core/compiler.py:513\u001b[0m, in \u001b[0;36mCompilerBase._compile_bytecode\u001b[0;34m(self)\u001b[0m\n\u001b[1;32m    509\u001b[0m \u001b[38;5;250m\u001b[39m\u001b[38;5;124;03m\"\"\"\u001b[39;00m\n\u001b[1;32m    510\u001b[0m \u001b[38;5;124;03mPopulate and run pipeline for bytecode input\u001b[39;00m\n\u001b[1;32m    511\u001b[0m \u001b[38;5;124;03m\"\"\"\u001b[39;00m\n\u001b[1;32m    512\u001b[0m \u001b[38;5;28;01massert\u001b[39;00m \u001b[38;5;28mself\u001b[39m\u001b[38;5;241m.\u001b[39mstate\u001b[38;5;241m.\u001b[39mfunc_ir \u001b[38;5;129;01mis\u001b[39;00m \u001b[38;5;28;01mNone\u001b[39;00m\n\u001b[0;32m--> 513\u001b[0m \u001b[38;5;28;01mreturn\u001b[39;00m \u001b[38;5;28;43mself\u001b[39;49m\u001b[38;5;241;43m.\u001b[39;49m\u001b[43m_compile_core\u001b[49m\u001b[43m(\u001b[49m\u001b[43m)\u001b[49m\n",
      "File \u001b[0;32m/usr/local/share/miniconda3/envs/env/lib/python3.10/site-packages/numba/core/compiler.py:479\u001b[0m, in \u001b[0;36mCompilerBase._compile_core\u001b[0;34m(self)\u001b[0m\n\u001b[1;32m    477\u001b[0m res \u001b[38;5;241m=\u001b[39m \u001b[38;5;28;01mNone\u001b[39;00m\n\u001b[1;32m    478\u001b[0m \u001b[38;5;28;01mtry\u001b[39;00m:\n\u001b[0;32m--> 479\u001b[0m     \u001b[43mpm\u001b[49m\u001b[38;5;241;43m.\u001b[39;49m\u001b[43mrun\u001b[49m\u001b[43m(\u001b[49m\u001b[38;5;28;43mself\u001b[39;49m\u001b[38;5;241;43m.\u001b[39;49m\u001b[43mstate\u001b[49m\u001b[43m)\u001b[49m\n\u001b[1;32m    480\u001b[0m     \u001b[38;5;28;01mif\u001b[39;00m \u001b[38;5;28mself\u001b[39m\u001b[38;5;241m.\u001b[39mstate\u001b[38;5;241m.\u001b[39mcr \u001b[38;5;129;01mis\u001b[39;00m \u001b[38;5;129;01mnot\u001b[39;00m \u001b[38;5;28;01mNone\u001b[39;00m:\n\u001b[1;32m    481\u001b[0m         \u001b[38;5;28;01mbreak\u001b[39;00m\n",
      "File \u001b[0;32m/usr/local/share/miniconda3/envs/env/lib/python3.10/site-packages/numba/core/compiler_machinery.py:356\u001b[0m, in \u001b[0;36mPassManager.run\u001b[0;34m(self, state)\u001b[0m\n\u001b[1;32m    354\u001b[0m pass_inst \u001b[38;5;241m=\u001b[39m _pass_registry\u001b[38;5;241m.\u001b[39mget(pss)\u001b[38;5;241m.\u001b[39mpass_inst\n\u001b[1;32m    355\u001b[0m \u001b[38;5;28;01mif\u001b[39;00m \u001b[38;5;28misinstance\u001b[39m(pass_inst, CompilerPass):\n\u001b[0;32m--> 356\u001b[0m     \u001b[38;5;28;43mself\u001b[39;49m\u001b[38;5;241;43m.\u001b[39;49m\u001b[43m_runPass\u001b[49m\u001b[43m(\u001b[49m\u001b[43midx\u001b[49m\u001b[43m,\u001b[49m\u001b[43m \u001b[49m\u001b[43mpass_inst\u001b[49m\u001b[43m,\u001b[49m\u001b[43m \u001b[49m\u001b[43mstate\u001b[49m\u001b[43m)\u001b[49m\n\u001b[1;32m    357\u001b[0m \u001b[38;5;28;01melse\u001b[39;00m:\n\u001b[1;32m    358\u001b[0m     \u001b[38;5;28;01mraise\u001b[39;00m \u001b[38;5;167;01mBaseException\u001b[39;00m(\u001b[38;5;124m\"\u001b[39m\u001b[38;5;124mLegacy pass in use\u001b[39m\u001b[38;5;124m\"\u001b[39m)\n",
      "File \u001b[0;32m/usr/local/share/miniconda3/envs/env/lib/python3.10/site-packages/numba/core/compiler_lock.py:35\u001b[0m, in \u001b[0;36m_CompilerLock.__call__.<locals>._acquire_compile_lock\u001b[0;34m(*args, **kwargs)\u001b[0m\n\u001b[1;32m     32\u001b[0m \u001b[38;5;129m@functools\u001b[39m\u001b[38;5;241m.\u001b[39mwraps(func)\n\u001b[1;32m     33\u001b[0m \u001b[38;5;28;01mdef\u001b[39;00m \u001b[38;5;21m_acquire_compile_lock\u001b[39m(\u001b[38;5;241m*\u001b[39margs, \u001b[38;5;241m*\u001b[39m\u001b[38;5;241m*\u001b[39mkwargs):\n\u001b[1;32m     34\u001b[0m     \u001b[38;5;28;01mwith\u001b[39;00m \u001b[38;5;28mself\u001b[39m:\n\u001b[0;32m---> 35\u001b[0m         \u001b[38;5;28;01mreturn\u001b[39;00m \u001b[43mfunc\u001b[49m\u001b[43m(\u001b[49m\u001b[38;5;241;43m*\u001b[39;49m\u001b[43margs\u001b[49m\u001b[43m,\u001b[49m\u001b[43m \u001b[49m\u001b[38;5;241;43m*\u001b[39;49m\u001b[38;5;241;43m*\u001b[39;49m\u001b[43mkwargs\u001b[49m\u001b[43m)\u001b[49m\n",
      "File \u001b[0;32m/usr/local/share/miniconda3/envs/env/lib/python3.10/site-packages/numba/core/compiler_machinery.py:311\u001b[0m, in \u001b[0;36mPassManager._runPass\u001b[0;34m(self, index, pss, internal_state)\u001b[0m\n\u001b[1;32m    309\u001b[0m     mutated \u001b[38;5;241m|\u001b[39m\u001b[38;5;241m=\u001b[39m check(pss\u001b[38;5;241m.\u001b[39mrun_initialization, internal_state)\n\u001b[1;32m    310\u001b[0m \u001b[38;5;28;01mwith\u001b[39;00m SimpleTimer() \u001b[38;5;28;01mas\u001b[39;00m pass_time:\n\u001b[0;32m--> 311\u001b[0m     mutated \u001b[38;5;241m|\u001b[39m\u001b[38;5;241m=\u001b[39m \u001b[43mcheck\u001b[49m\u001b[43m(\u001b[49m\u001b[43mpss\u001b[49m\u001b[38;5;241;43m.\u001b[39;49m\u001b[43mrun_pass\u001b[49m\u001b[43m,\u001b[49m\u001b[43m \u001b[49m\u001b[43minternal_state\u001b[49m\u001b[43m)\u001b[49m\n\u001b[1;32m    312\u001b[0m \u001b[38;5;28;01mwith\u001b[39;00m SimpleTimer() \u001b[38;5;28;01mas\u001b[39;00m finalize_time:\n\u001b[1;32m    313\u001b[0m     mutated \u001b[38;5;241m|\u001b[39m\u001b[38;5;241m=\u001b[39m check(pss\u001b[38;5;241m.\u001b[39mrun_finalizer, internal_state)\n",
      "File \u001b[0;32m/usr/local/share/miniconda3/envs/env/lib/python3.10/site-packages/numba/core/compiler_machinery.py:273\u001b[0m, in \u001b[0;36mPassManager._runPass.<locals>.check\u001b[0;34m(func, compiler_state)\u001b[0m\n\u001b[1;32m    272\u001b[0m \u001b[38;5;28;01mdef\u001b[39;00m \u001b[38;5;21mcheck\u001b[39m(func, compiler_state):\n\u001b[0;32m--> 273\u001b[0m     mangled \u001b[38;5;241m=\u001b[39m \u001b[43mfunc\u001b[49m\u001b[43m(\u001b[49m\u001b[43mcompiler_state\u001b[49m\u001b[43m)\u001b[49m\n\u001b[1;32m    274\u001b[0m     \u001b[38;5;28;01mif\u001b[39;00m mangled \u001b[38;5;129;01mnot\u001b[39;00m \u001b[38;5;129;01min\u001b[39;00m (\u001b[38;5;28;01mTrue\u001b[39;00m, \u001b[38;5;28;01mFalse\u001b[39;00m):\n\u001b[1;32m    275\u001b[0m         msg \u001b[38;5;241m=\u001b[39m (\u001b[38;5;124m\"\u001b[39m\u001b[38;5;124mCompilerPass implementations should return True/False. \u001b[39m\u001b[38;5;124m\"\u001b[39m\n\u001b[1;32m    276\u001b[0m                \u001b[38;5;124m\"\u001b[39m\u001b[38;5;124mCompilerPass with name \u001b[39m\u001b[38;5;124m'\u001b[39m\u001b[38;5;132;01m%s\u001b[39;00m\u001b[38;5;124m'\u001b[39m\u001b[38;5;124m did not.\u001b[39m\u001b[38;5;124m\"\u001b[39m)\n",
      "File \u001b[0;32m/usr/local/share/miniconda3/envs/env/lib/python3.10/site-packages/numba/core/typed_passes.py:466\u001b[0m, in \u001b[0;36mBaseNativeLowering.run_pass\u001b[0;34m(self, state)\u001b[0m\n\u001b[1;32m    459\u001b[0m fndesc \u001b[38;5;241m=\u001b[39m \\\n\u001b[1;32m    460\u001b[0m     funcdesc\u001b[38;5;241m.\u001b[39mPythonFunctionDescriptor\u001b[38;5;241m.\u001b[39mfrom_specialized_function(\n\u001b[1;32m    461\u001b[0m         interp, typemap, restype, calltypes,\n\u001b[1;32m    462\u001b[0m         mangler\u001b[38;5;241m=\u001b[39mtargetctx\u001b[38;5;241m.\u001b[39mmangler, inline\u001b[38;5;241m=\u001b[39mflags\u001b[38;5;241m.\u001b[39mforceinline,\n\u001b[1;32m    463\u001b[0m         noalias\u001b[38;5;241m=\u001b[39mflags\u001b[38;5;241m.\u001b[39mnoalias, abi_tags\u001b[38;5;241m=\u001b[39m[flags\u001b[38;5;241m.\u001b[39mget_mangle_string()])\n\u001b[1;32m    465\u001b[0m \u001b[38;5;28;01mwith\u001b[39;00m targetctx\u001b[38;5;241m.\u001b[39mpush_code_library(library):\n\u001b[0;32m--> 466\u001b[0m     lower \u001b[38;5;241m=\u001b[39m \u001b[38;5;28;43mself\u001b[39;49m\u001b[38;5;241;43m.\u001b[39;49m\u001b[43mlowering_class\u001b[49m\u001b[43m(\u001b[49m\u001b[43mtargetctx\u001b[49m\u001b[43m,\u001b[49m\u001b[43m \u001b[49m\u001b[43mlibrary\u001b[49m\u001b[43m,\u001b[49m\u001b[43m \u001b[49m\u001b[43mfndesc\u001b[49m\u001b[43m,\u001b[49m\u001b[43m \u001b[49m\u001b[43minterp\u001b[49m\u001b[43m,\u001b[49m\n\u001b[1;32m    467\u001b[0m \u001b[43m                                \u001b[49m\u001b[43mmetadata\u001b[49m\u001b[38;5;241;43m=\u001b[39;49m\u001b[43mmetadata\u001b[49m\u001b[43m)\u001b[49m\n\u001b[1;32m    468\u001b[0m     lower\u001b[38;5;241m.\u001b[39mlower()\n\u001b[1;32m    469\u001b[0m     \u001b[38;5;28;01mif\u001b[39;00m \u001b[38;5;129;01mnot\u001b[39;00m flags\u001b[38;5;241m.\u001b[39mno_cpython_wrapper:\n",
      "File \u001b[0;32m/usr/local/share/miniconda3/envs/env/lib/python3.10/site-packages/numba/core/lowering.py:73\u001b[0m, in \u001b[0;36mBaseLower.__init__\u001b[0;34m(self, context, library, fndesc, func_ir, metadata)\u001b[0m\n\u001b[1;32m     67\u001b[0m \u001b[38;5;28mself\u001b[39m\u001b[38;5;241m.\u001b[39mdebuginfo \u001b[38;5;241m=\u001b[39m dibuildercls(module\u001b[38;5;241m=\u001b[39m\u001b[38;5;28mself\u001b[39m\u001b[38;5;241m.\u001b[39mmodule,\n\u001b[1;32m     68\u001b[0m                               filepath\u001b[38;5;241m=\u001b[39mfunc_ir\u001b[38;5;241m.\u001b[39mloc\u001b[38;5;241m.\u001b[39mfilename,\n\u001b[1;32m     69\u001b[0m                               cgctx\u001b[38;5;241m=\u001b[39mcontext,\n\u001b[1;32m     70\u001b[0m                               directives_only\u001b[38;5;241m=\u001b[39mdirectives_only)\n\u001b[1;32m     72\u001b[0m \u001b[38;5;66;03m# Subclass initialization\u001b[39;00m\n\u001b[0;32m---> 73\u001b[0m \u001b[38;5;28;43mself\u001b[39;49m\u001b[38;5;241;43m.\u001b[39;49m\u001b[43minit\u001b[49m\u001b[43m(\u001b[49m\u001b[43m)\u001b[49m\n",
      "File \u001b[0;32m/usr/local/share/miniconda3/envs/env/lib/python3.10/site-packages/numba/core/lowering.py:345\u001b[0m, in \u001b[0;36mLower.init\u001b[0;34m(self)\u001b[0m\n\u001b[1;32m    343\u001b[0m \u001b[38;5;28msuper\u001b[39m()\u001b[38;5;241m.\u001b[39minit()\n\u001b[1;32m    344\u001b[0m \u001b[38;5;66;03m# find all singly assigned variables\u001b[39;00m\n\u001b[0;32m--> 345\u001b[0m \u001b[38;5;28;43mself\u001b[39;49m\u001b[38;5;241;43m.\u001b[39;49m\u001b[43m_find_singly_assigned_variable\u001b[49m\u001b[43m(\u001b[49m\u001b[43m)\u001b[49m\n",
      "File \u001b[0;32m/usr/local/share/miniconda3/envs/env/lib/python3.10/site-packages/numba/core/lowering.py:389\u001b[0m, in \u001b[0;36mLower._find_singly_assigned_variable\u001b[0;34m(self)\u001b[0m\n\u001b[1;32m    387\u001b[0m [defblk] \u001b[38;5;241m=\u001b[39m var_assign_map[var]\n\u001b[1;32m    388\u001b[0m assign_stmts \u001b[38;5;241m=\u001b[39m \u001b[38;5;28mself\u001b[39m\u001b[38;5;241m.\u001b[39mblocks[defblk]\u001b[38;5;241m.\u001b[39mfind_insts(ir\u001b[38;5;241m.\u001b[39mAssign)\n\u001b[0;32m--> 389\u001b[0m assigns \u001b[38;5;241m=\u001b[39m [stmt \u001b[38;5;28;01mfor\u001b[39;00m stmt \u001b[38;5;129;01min\u001b[39;00m assign_stmts\n\u001b[1;32m    390\u001b[0m            \u001b[38;5;28;01mif\u001b[39;00m stmt\u001b[38;5;241m.\u001b[39mtarget\u001b[38;5;241m.\u001b[39mname \u001b[38;5;241m==\u001b[39m var]\n\u001b[1;32m    391\u001b[0m \u001b[38;5;28;01mif\u001b[39;00m \u001b[38;5;28mlen\u001b[39m(assigns) \u001b[38;5;241m==\u001b[39m \u001b[38;5;241m1\u001b[39m:\n\u001b[1;32m    392\u001b[0m     sav\u001b[38;5;241m.\u001b[39madd(var)\n",
      "File \u001b[0;32m/usr/local/share/miniconda3/envs/env/lib/python3.10/site-packages/numba/core/lowering.py:390\u001b[0m, in \u001b[0;36m<listcomp>\u001b[0;34m(.0)\u001b[0m\n\u001b[1;32m    387\u001b[0m [defblk] \u001b[38;5;241m=\u001b[39m var_assign_map[var]\n\u001b[1;32m    388\u001b[0m assign_stmts \u001b[38;5;241m=\u001b[39m \u001b[38;5;28mself\u001b[39m\u001b[38;5;241m.\u001b[39mblocks[defblk]\u001b[38;5;241m.\u001b[39mfind_insts(ir\u001b[38;5;241m.\u001b[39mAssign)\n\u001b[1;32m    389\u001b[0m assigns \u001b[38;5;241m=\u001b[39m [stmt \u001b[38;5;28;01mfor\u001b[39;00m stmt \u001b[38;5;129;01min\u001b[39;00m assign_stmts\n\u001b[0;32m--> 390\u001b[0m            \u001b[38;5;28;01mif\u001b[39;00m stmt\u001b[38;5;241m.\u001b[39mtarget\u001b[38;5;241m.\u001b[39mname \u001b[38;5;241m==\u001b[39m var]\n\u001b[1;32m    391\u001b[0m \u001b[38;5;28;01mif\u001b[39;00m \u001b[38;5;28mlen\u001b[39m(assigns) \u001b[38;5;241m==\u001b[39m \u001b[38;5;241m1\u001b[39m:\n\u001b[1;32m    392\u001b[0m     sav\u001b[38;5;241m.\u001b[39madd(var)\n",
      "\u001b[0;31mKeyboardInterrupt\u001b[0m: "
     ]
    }
   ],
   "source": [
    "import numpy as np\n",
    "import dvats.memory as mem\n",
    "import dvats.mplots as mp"
   ]
  },
  {
   "cell_type": "code",
   "execution_count": null,
   "id": "54254d00-ffde-4c42-9831-9bf352a8fc52",
   "metadata": {},
   "outputs": [],
   "source": [
    "mps = mp.MatrixProfiles()"
   ]
  },
  {
   "cell_type": "code",
   "execution_count": null,
   "id": "3f16bc7a-c377-472c-ba1f-70b3feb140a0",
   "metadata": {},
   "outputs": [],
   "source": [
    "#Common\n",
    "mps.data = np.random.rand(10000)\n",
    "mps.subsequence_len = 50\n",
    "print(\"Ts ~ \", mps.data.shape)\n",
    "print(\"Expected mp length: \", int(np.floor(mps.data.shape[0]-mps.subsequence_len+1)))"
   ]
  },
  {
   "cell_type": "code",
   "execution_count": null,
   "id": "f12d0db2-176e-48e8-8a1d-28aedf18efe5",
   "metadata": {},
   "outputs": [],
   "source": [
    "# Compute & Save Matrix Profile using both stumpy.stump & scamp\n",
    "mps.compute('stump',  True, True, True)\n",
    "print(\"Total MPs: \", len(mps.matrix_profiles))\n",
    "print(mps.matrix_profiles[0])\n",
    "mps.compute('scamp',  True, True, True)\n",
    "print(\"Total MPs: \", len(mps.matrix_profiles))\n",
    "print(mps.matrix_profiles[1])"
   ]
  },
  {
   "cell_type": "code",
   "execution_count": null,
   "id": "988b98ad-01a3-4018-a44e-5ff8f8e57d11",
   "metadata": {},
   "outputs": [],
   "source": [
    "mps.plot([])"
   ]
  },
  {
   "cell_type": "markdown",
   "id": "872b408d-4c0b-44eb-8f6a-2bc301f05a1d",
   "metadata": {},
   "source": [
    "### Ejemplo de STUMPY Basics - Analyzing Motifs and Anomalies with STUMP and SCAMP\n",
    "https://stumpy.readthedocs.io/en/latest/Tutorial_The_Matrix_Profile.html"
   ]
  },
  {
   "cell_type": "code",
   "execution_count": null,
   "id": "ffddb34c-e541-4faf-a422-4b3d1eeb772c",
   "metadata": {},
   "outputs": [],
   "source": [
    "%matplotlib inline\n",
    "\n",
    "import pandas as pd\n",
    "import numpy as np\n",
    "import matplotlib.pyplot as plt\n",
    "import matplotlib.dates as dates\n",
    "from matplotlib.patches import Rectangle\n",
    "import datetime as dt\n",
    "\n",
    "plt.style.use('https://raw.githubusercontent.com/TDAmeritrade/stumpy/main/docs/stumpy.mplstyle')"
   ]
  },
  {
   "cell_type": "code",
   "execution_count": null,
   "id": "16ebc649-b9bf-4057-9ef3-1022a8263792",
   "metadata": {},
   "outputs": [],
   "source": [
    "steam_df = pd.read_csv(\"https://zenodo.org/record/4273921/files/STUMPY_Basics_steamgen.csv?download=1\")\n",
    "steam_df.head()"
   ]
  },
  {
   "cell_type": "code",
   "execution_count": null,
   "id": "8ad3034f-d903-461d-a43f-0e94f5df06d8",
   "metadata": {},
   "outputs": [],
   "source": [
    "mp.plot_dataFrame('Steamgen Dataset', steam_df, [3])"
   ]
  },
  {
   "cell_type": "code",
   "execution_count": null,
   "id": "983c2b2e-d71c-4c41-ab6d-0136070da722",
   "metadata": {},
   "outputs": [],
   "source": [
    "mp.plot_dataFrame_compareSubsequences('Steamgen Dataset', steam_df, 3, 640, 643, 8724)"
   ]
  },
  {
   "cell_type": "code",
   "execution_count": null,
   "id": "63eb4a72-7413-43ce-ad74-469e0915603d",
   "metadata": {},
   "outputs": [],
   "source": [
    "steam_mps = mp.MatrixProfiles()\n",
    "steam_mps.subsequence_len = 640\n",
    "steam_mps.data = steam_df['steam flow']\n",
    "steam_mps.compute('stump', print_flag = False, debug = False, timed = True)\n",
    "steam_mps.compute('scamp', print_flag = False, debug = False, timed = True)"
   ]
  },
  {
   "cell_type": "code",
   "execution_count": null,
   "id": "77b4c230-7642-47f0-a6e1-2a76d3d5f482",
   "metadata": {},
   "outputs": [],
   "source": [
    "steam_mps.plot()"
   ]
  },
  {
   "cell_type": "code",
   "execution_count": null,
   "id": "e1f6b1e7-6234-4ab1-bb08-5e453ea51f82",
   "metadata": {},
   "outputs": [],
   "source": [
    "print(\"Ts ~ \", steam_mps.data.shape)\n",
    "print(\"Expected mp length: \", int(np.floor(steam_mps.data.shape[0]-steam_mps.subsequence_len+1)))\n",
    "print(\"mp_stumpy ~\", steam_mps.matrix_profiles[0].matrix_profile.shape)\n",
    "print(\"mp_scamp ~\", steam_mps.matrix_profiles[1].matrix_profile.shape)\n",
    "print(steam_mps.matrix_profiles[0])\n",
    "print(steam_mps.matrix_profiles[1])"
   ]
  },
  {
   "cell_type": "code",
   "execution_count": null,
   "id": "b893910e-4689-4701-9945-2fa15d63d843",
   "metadata": {},
   "outputs": [],
   "source": [
    "stumpy_idxs = steam_mps.get_motif_idx(0)\n",
    "scamp_idxs = steam_mps.get_motif_idx(1)"
   ]
  },
  {
   "cell_type": "code",
   "execution_count": null,
   "id": "dcfea9ca-8080-4280-80ba-c87e459343d5",
   "metadata": {},
   "outputs": [],
   "source": [
    "print(f\"The motif (according to stumpy) is located at index {stumpy_idxs[0]}\")\n",
    "print(f\"The motif (according to scamp) is located at index {scamp_idxs[0]}\")"
   ]
  },
  {
   "cell_type": "markdown",
   "id": "fcb048d3-3f07-4add-97d4-7a47af800cef",
   "metadata": {},
   "source": [
    "### --> Tiene sentido que haya salido diferente por tema de decimales... \n",
    "> ¿Serán vecinos?"
   ]
  },
  {
   "cell_type": "code",
   "execution_count": null,
   "id": "267131e3-b195-4969-bced-e5dbdb835069",
   "metadata": {},
   "outputs": [],
   "source": [
    "print(f\"The nearest neighbor (stumpy) is located at index {stumpy_idxs[1]}\")\n",
    "print(f\"The nearest neighbor (scamp) is located at index {scamp_idxs[1]}\")"
   ]
  },
  {
   "cell_type": "markdown",
   "id": "e8898208-4e45-4dd3-a71d-73a43bf9371e",
   "metadata": {},
   "source": [
    "¡Son los vecinos más cercanos en ambos casos!\n",
    "De hecho, si imprimimos los valores, la z-distancia euclídea es la misma hasta donde podemos ver..."
   ]
  },
  {
   "cell_type": "code",
   "execution_count": null,
   "id": "8d0bf953-a609-4e88-ba99-38ec8ec6d09b",
   "metadata": {},
   "outputs": [],
   "source": [
    "print( steam_mps.matrix_profiles[1].matrix_profile[stumpy_idxs[0]])\n",
    "print( steam_mps.matrix_profiles[1].matrix_profile[stumpy_idxs[1]])\n",
    "print( steam_mps.matrix_profiles[0].matrix_profile[scamp_idxs[0]])\n",
    "print( steam_mps.matrix_profiles[0].matrix_profile[scamp_idxs[1]])"
   ]
  },
  {
   "cell_type": "code",
   "execution_count": null,
   "id": "3e75f35b-66cc-403d-ae13-eb824caaf437",
   "metadata": {},
   "outputs": [],
   "source": [
    "steam_mps.plot_motif('Steam flow', 0, stumpy_idxs[0], stumpy_idxs[1], '30', '10')\n",
    "steam_mps.plot_motif('Steam flow', 1, stumpy_idxs[0], stumpy_idxs[1], '30', '10')"
   ]
  },
  {
   "cell_type": "markdown",
   "id": "fa33bc06-d13e-49d0-9aed-dee2add193dd",
   "metadata": {},
   "source": [
    "## Discord / Anomaly"
   ]
  },
  {
   "cell_type": "code",
   "execution_count": null,
   "id": "fa898ef5-399b-46d9-bdaa-835bd868ad33",
   "metadata": {},
   "outputs": [],
   "source": [
    "#mp_stumpy_sorted = np.argsort( steam_mps.matrix_profiles[0].matrix_profile )\n",
    "#mp_scamp_sorted =  np.argsort( steam_mps.matrix_profiles[1].matrix_profile )\n",
    "\n",
    "#discord_idx_stumpy = mp_stumpy_sorted[-1]\n",
    "\n",
    "#discord_idx_scamp = mp_scamp_sorted[-1]\n",
    "#print( steam_mps.matrix_profiles[1].matrix_profile[stumpy_idxs[0]])\n",
    "steam_mps.get_anomaly_idx(0)\n",
    "steam_mps.get_anomaly_idx(1)\n",
    "discord_idx_stumpy = steam_mps.matrix_profiles[0].discord_idx\n",
    "discord_idx_scamp = steam_mps.matrix_profiles[1].discord_idx\n",
    "print(f\"Stumpy: The discord is located at index {discord_idx_stumpy}\")\n",
    "print(f\"Scamp: The discord is located at index {discord_idx_scamp}\")"
   ]
  },
  {
   "cell_type": "code",
   "execution_count": null,
   "id": "61016b5c-c891-4750-8cde-87d6d88a16c2",
   "metadata": {},
   "outputs": [],
   "source": [
    "print(\"Stumpy | Discord: [\", steam_mps.matrix_profiles[0].matrix_profile[discord_idx_stumpy],\",\", steam_mps.matrix_profiles[0].index[discord_idx_stumpy], \"]\")\n",
    "print(\"Scamp |  Discord: [\", steam_mps.matrix_profiles[1].matrix_profile[discord_idx_scamp], \",\",steam_mps.matrix_profiles[1].index[discord_idx_scamp], \"]\")"
   ]
  },
  {
   "cell_type": "markdown",
   "id": "8dc96979-846b-4f2b-877f-aa76b0c5ff58",
   "metadata": {},
   "source": [
    "The subsequence located at this global maximum is also referred to as a discord, novelty, or “potential anomaly”:"
   ]
  },
  {
   "cell_type": "code",
   "execution_count": null,
   "id": "ef0bed1b-12aa-47b6-bf5c-d8b3aa493b72",
   "metadata": {},
   "outputs": [],
   "source": [
    "steam_mps.plot_motif(\n",
    "    'Steam Flow', \n",
    "    0, \n",
    "    steam_mps.matrix_profiles[0].discord_idx, \n",
    "    steam_mps.matrix_profiles[0].discord_nearest_neighbor_idx, \n",
    "    '20',\n",
    "    '15'\n",
    ")"
   ]
  },
  {
   "cell_type": "code",
   "execution_count": null,
   "id": "8eb3d0e5-251f-4c35-9d14-b948a3e4c24c",
   "metadata": {},
   "outputs": [],
   "source": [
    "steam_mps.plot_motif(\n",
    "    'Steam Flow', \n",
    "    1, \n",
    "    steam_mps.matrix_profiles[1].discord_idx, \n",
    "    steam_mps.matrix_profiles[1].discord_nearest_neighbor_idx, \n",
    "    '20',\n",
    "    '15'\n",
    ")"
   ]
  },
  {
   "cell_type": "code",
   "execution_count": null,
   "id": "ea81eb69-61fb-415f-a7bc-ab91b9e450f0",
   "metadata": {},
   "outputs": [],
   "source": [
    "steam_mps.plot_motif(\n",
    "    'Steam Flow', \n",
    "    0, \n",
    "    steam_mps.matrix_profiles[0].discord_idx, \n",
    "    steam_mps.matrix_profiles[0].discord_nearest_neighbor_idx_left, \n",
    "    '20',\n",
    "    '15'\n",
    ")"
   ]
  },
  {
   "cell_type": "markdown",
   "id": "bc34a008-5d8f-4028-80bf-b9844e59d0de",
   "metadata": {},
   "source": [
    "Intentando ver la matriz Distance Profile al completo"
   ]
  },
  {
   "cell_type": "code",
   "execution_count": null,
   "id": "c4c3467f-af66-4b01-a0b7-a51f8df4c2cf",
   "metadata": {},
   "outputs": [],
   "source": [
    "steam_flow = steam_df['steam flow'].values\n",
    "#No nans\n",
    "steam_flow = [ 0 if np.isnan(x) else x for x in steam_flow ]"
   ]
  },
  {
   "cell_type": "markdown",
   "id": "93e55d95-65e7-4f19-9dc3-2cd86995aa2a",
   "metadata": {},
   "source": [
    "## Cogiendo Distance Matrix al completo \n",
    "> En busca del MPlot"
   ]
  },
  {
   "cell_type": "code",
   "execution_count": null,
   "id": "63f46966-58ad-4794-b709-16e1a25a2004",
   "metadata": {},
   "outputs": [],
   "source": [
    "steam_mps.data\n",
    "steam_mps.subsequence_len\n",
    "# Ensure no nans \n",
    "steam_mps.data = [ 0 if np.isnan(x) else x for x in steam_mps.data ]"
   ]
  },
  {
   "cell_type": "code",
   "execution_count": null,
   "id": "9b30fbd7-771e-46eb-95c4-1fce82edcc71",
   "metadata": {},
   "outputs": [],
   "source": [
    "#n = len(steam_flow) \n",
    "#subsequence_len = m\n",
    "#print(\"Expected: \", len(steam_flow) - m + 1)"
   ]
  },
  {
   "cell_type": "code",
   "execution_count": null,
   "id": "9a3b6ea6-a846-40bc-b2ae-15223778c4f8",
   "metadata": {},
   "outputs": [],
   "source": [
    "#MPlot_matrix_stumpy = np.empty((n - m + 1, n - m + 1))\n",
    "#MPlot_matrix_scamp = np.empty((n - m + 1, n - m + 1))"
   ]
  },
  {
   "cell_type": "code",
   "execution_count": null,
   "id": "830c0fbf-de29-4a41-9e62-71d88afc436f",
   "metadata": {},
   "outputs": [],
   "source": [
    "mplot_stumpy = mp.MatrixProfilePlot(data = steam_mps.data, subsequence_len = steam_mps.subsequence_len)\n",
    "mplot_scamp  = mp.MatrixProfilePlot(data = steam_mps.data, subsequence_len = steam_mps.subsequence_len)"
   ]
  },
  {
   "cell_type": "code",
   "execution_count": null,
   "id": "e8f67014-26a8-4b7d-a8d8-ff1ef8def3cc",
   "metadata": {},
   "outputs": [],
   "source": [
    "reference_idx = np.random.randint(low=0, high=len(steam_flow) - steam_mps.subsequence_len)\n",
    "reference_subseq = steam_flow[reference_idx:reference_idx + steam_mps.subsequence_len]"
   ]
  },
  {
   "cell_type": "markdown",
   "id": "9d487fda-ba67-454b-a9ec-4d5991de72c9",
   "metadata": {},
   "source": [
    "### Calcular el Distance Profile para cada subsecuencia en la serie temporal respecto a la secuencia de referencia"
   ]
  },
  {
   "cell_type": "code",
   "execution_count": null,
   "id": "252bae79-74d0-4e69-8240-bc2be537a528",
   "metadata": {},
   "outputs": [],
   "source": [
    "mplot_stumpy.compute_similarity_matrix(\n",
    "    subsequence_len = mplot_stumpy.subsequence_len,\n",
    "    reference_seq   = reference_subseq,\n",
    "    method          = 'stump',\n",
    "    timed           = True,\n",
    "    print_flag      = True\n",
    ")"
   ]
  },
  {
   "cell_type": "code",
   "execution_count": null,
   "id": "c8ce118e-bb3a-45e4-b0dd-34bd9d21d463",
   "metadata": {},
   "outputs": [],
   "source": [
    "mplot_scamp.compute_similarity_matrix(\n",
    "    subsequence_len = mplot_stumpy.subsequence_len,\n",
    "    reference_seq   = reference_subseq,\n",
    "    method          = 'scamp',\n",
    "    timed           = True,\n",
    "    print_flag      = True\n",
    ")"
   ]
  },
  {
   "cell_type": "code",
   "execution_count": null,
   "id": "4d5f6884-28f4-4ed5-ab09-b945d2f7f434",
   "metadata": {},
   "outputs": [],
   "source": [
    "mplot_stumpy.plot('Steam flow', \"Stumpy\")\n",
    "mplot_scamp.plot('Steam flow', \"Scamp\")"
   ]
  },
  {
   "cell_type": "markdown",
   "id": "47f834fd-58a9-427f-9f46-627b57dcce35",
   "metadata": {},
   "source": [
    "### Calcular el Distance Profile para cada subsecuencia en la serie temporal al completo"
   ]
  },
  {
   "cell_type": "code",
   "execution_count": null,
   "id": "bf1b2464-ef0f-4447-bcbe-f30511569342",
   "metadata": {},
   "outputs": [],
   "source": [
    "mplot_stumpy.compute_similarity_matrix(\n",
    "    subsequence_len = mplot_stumpy.subsequence_len,\n",
    "    #reference_seq   = reference_subseq,\n",
    "    reference_seq   = None,\n",
    "    method          = 'stump',\n",
    "    timed           = True,\n",
    "    print_flag      = True\n",
    ")"
   ]
  },
  {
   "cell_type": "code",
   "execution_count": null,
   "id": "a1454e50-ed78-4ce1-9c70-b457ea5b5cbc",
   "metadata": {},
   "outputs": [],
   "source": [
    "mplot_stumpy.plot('Steam flow', \"Stumpy\")"
   ]
  },
  {
   "cell_type": "code",
   "execution_count": null,
   "id": "484435e1-1a5d-48b8-b22d-203f20aee816",
   "metadata": {},
   "outputs": [],
   "source": [
    "mplot_scamp.compute_similarity_matrix(\n",
    "    subsequence_len = mplot_stumpy.subsequence_len,\n",
    "    reference_seq   = None, #reference_subseq,\n",
    "    method          = 'scamp',\n",
    "    timed           = True,\n",
    "    print_flag      = True\n",
    ")"
   ]
  },
  {
   "cell_type": "code",
   "execution_count": null,
   "id": "4cb9511c-3612-4da8-b362-ef146fdf3523",
   "metadata": {},
   "outputs": [],
   "source": [
    "print(len(steam_flow))\n",
    "print(mplot_stumpy.similarity_matrix.shape)\n",
    "print(mplot_scamp.similarity_matrix.shape)"
   ]
  },
  {
   "cell_type": "code",
   "execution_count": null,
   "id": "f0926cec-c6e7-47dd-8f8a-199bbe82f97b",
   "metadata": {},
   "outputs": [],
   "source": [
    "mplot_scamp.plot('Steam flow', \"Scamp\")"
   ]
  }
 ],
 "metadata": {
  "kernelspec": {
   "display_name": "Python 3 (ipykernel)",
   "language": "python",
   "name": "python3"
  },
  "language_info": {
   "codemirror_mode": {
    "name": "ipython",
    "version": 3
   },
   "file_extension": ".py",
   "mimetype": "text/x-python",
   "name": "python",
   "nbconvert_exporter": "python",
   "pygments_lexer": "ipython3",
   "version": "3.10.13"
  }
 },
 "nbformat": 4,
 "nbformat_minor": 5
}

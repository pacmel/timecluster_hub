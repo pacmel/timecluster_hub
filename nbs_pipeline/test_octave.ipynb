{
 "cells": [
  {
   "cell_type": "markdown",
   "id": "933d9c9e-f200-4f8b-86db-66a84a162b14",
   "metadata": {},
   "source": [
    "# Executing Matlab code using Octave through python"
   ]
  },
  {
   "cell_type": "code",
   "execution_count": 4,
   "id": "0f7df14b-d06d-4db1-a97d-a8e42564f1fd",
   "metadata": {},
   "outputs": [
    {
     "name": "stdout",
     "output_type": "stream",
     "text": [
      "# packages in environment at /usr/local/share/miniconda3/envs/env:\n",
      "#\n",
      "# Name                    Version                   Build  Channel\n",
      "octave                    7.3.0                h4bc5dab_3    conda-forge\n"
     ]
    }
   ],
   "source": [
    "! conda list octave"
   ]
  },
  {
   "cell_type": "code",
   "execution_count": 5,
   "id": "bb69c2ea-5b70-4ccf-af5d-c98a5a87c5b8",
   "metadata": {},
   "outputs": [],
   "source": [
    "import subprocess"
   ]
  },
  {
   "cell_type": "code",
   "execution_count": 9,
   "id": "231bae9b-500a-421c-998e-33ae8c7dcb19",
   "metadata": {},
   "outputs": [],
   "source": [
    "import oct2py as octpy"
   ]
  },
  {
   "cell_type": "code",
   "execution_count": 10,
   "id": "62c0c06b-0147-4218-9e35-546e2865049c",
   "metadata": {},
   "outputs": [
    {
     "ename": "Oct2PyError",
     "evalue": "End Of File (EOF). Exception style platform.\n<pexpect.pty_spawn.spawn object at 0x7fb0a6fd3a00>\ncommand: /usr/local/share/miniconda3/envs/env/bin/octave\nargs: [b'/usr/local/share/miniconda3/envs/env/bin/octave', b'--interactive', b'--quiet', b'--no-init-file']\nbuffer (last 100 chars): ''\nbefore (last 100 chars): 'le loading shared libraries: libGL.so.1: cannot open shared object file: No such file or directory\\r\\n'\nafter: <class 'pexpect.exceptions.EOF'>\nmatch: None\nmatch_index: None\nexitstatus: 127\nflag_eof: True\npid: 394\nchild_fd: 61\nclosed: False\ntimeout: 30\ndelimiter: <class 'pexpect.exceptions.EOF'>\nlogfile: None\nlogfile_read: None\nlogfile_send: None\nmaxread: 2000\nignorecase: False\nsearchwindowsize: None\ndelaybeforesend: 0.05\ndelayafterclose: 0.1\ndelayafterterminate: 0.1\nsearcher: searcher_re:\n    0: re.compile('octave.*>')",
     "output_type": "error",
     "traceback": [
      "\u001b[0;31m---------------------------------------------------------------------------\u001b[0m",
      "\u001b[0;31mOct2PyError\u001b[0m                               Traceback (most recent call last)",
      "Cell \u001b[0;32mIn[10], line 2\u001b[0m\n\u001b[1;32m      1\u001b[0m \u001b[38;5;66;03m# Crear una instancia de Oct2Py\u001b[39;00m\n\u001b[0;32m----> 2\u001b[0m \u001b[38;5;28;01mwith\u001b[39;00m \u001b[43moctpy\u001b[49m\u001b[38;5;241;43m.\u001b[39;49m\u001b[43mOct2Py\u001b[49m\u001b[43m(\u001b[49m\u001b[43m)\u001b[49m \u001b[38;5;28;01mas\u001b[39;00m oc:\n\u001b[1;32m      3\u001b[0m     \u001b[38;5;66;03m# Ejecutar un comando de Octave directamente\u001b[39;00m\n\u001b[1;32m      4\u001b[0m     oc\u001b[38;5;241m.\u001b[39meval(\u001b[38;5;124m'\u001b[39m\u001b[38;5;124mdisp(\u001b[39m\u001b[38;5;124m\"\u001b[39m\u001b[38;5;124m¡Hola, Mundo!\u001b[39m\u001b[38;5;124m\"\u001b[39m\u001b[38;5;124m)\u001b[39m\u001b[38;5;124m'\u001b[39m)\n",
      "File \u001b[0;32m/usr/local/share/miniconda3/envs/env/lib/python3.10/site-packages/oct2py/core.py:88\u001b[0m, in \u001b[0;36mOct2Py.__init__\u001b[0;34m(self, logger, timeout, oned_as, temp_dir, convert_to_float, backend)\u001b[0m\n\u001b[1;32m     86\u001b[0m \u001b[38;5;28mself\u001b[39m\u001b[38;5;241m.\u001b[39m_user_classes \u001b[38;5;241m=\u001b[39m {}\n\u001b[1;32m     87\u001b[0m \u001b[38;5;28mself\u001b[39m\u001b[38;5;241m.\u001b[39m_function_ptrs \u001b[38;5;241m=\u001b[39m {}\n\u001b[0;32m---> 88\u001b[0m \u001b[38;5;28;43mself\u001b[39;49m\u001b[38;5;241;43m.\u001b[39;49m\u001b[43mrestart\u001b[49m\u001b[43m(\u001b[49m\u001b[43m)\u001b[49m\n",
      "File \u001b[0;32m/usr/local/share/miniconda3/envs/env/lib/python3.10/site-packages/oct2py/core.py:574\u001b[0m, in \u001b[0;36mOct2Py.restart\u001b[0;34m(self)\u001b[0m\n\u001b[1;32m    572\u001b[0m     \u001b[38;5;28mself\u001b[39m\u001b[38;5;241m.\u001b[39m_engine \u001b[38;5;241m=\u001b[39m OctaveEngine(stdin_handler\u001b[38;5;241m=\u001b[39m\u001b[38;5;28mself\u001b[39m\u001b[38;5;241m.\u001b[39m_handle_stdin, logger\u001b[38;5;241m=\u001b[39m\u001b[38;5;28mself\u001b[39m\u001b[38;5;241m.\u001b[39mlogger)\n\u001b[1;32m    573\u001b[0m \u001b[38;5;28;01mexcept\u001b[39;00m \u001b[38;5;167;01mException\u001b[39;00m \u001b[38;5;28;01mas\u001b[39;00m e:\n\u001b[0;32m--> 574\u001b[0m     \u001b[38;5;28;01mraise\u001b[39;00m Oct2PyError(\u001b[38;5;28mstr\u001b[39m(e)) \u001b[38;5;28;01mfrom\u001b[39;00m \u001b[38;5;28;01mNone\u001b[39;00m\n\u001b[1;32m    576\u001b[0m \u001b[38;5;66;03m# Add local Octave scripts.\u001b[39;00m\n\u001b[1;32m    577\u001b[0m \u001b[38;5;28mself\u001b[39m\u001b[38;5;241m.\u001b[39m_engine\u001b[38;5;241m.\u001b[39meval(\u001b[38;5;124m'\u001b[39m\u001b[38;5;124maddpath(\u001b[39m\u001b[38;5;124m\"\u001b[39m\u001b[38;5;132;01m%s\u001b[39;00m\u001b[38;5;124m\"\u001b[39m\u001b[38;5;124m);\u001b[39m\u001b[38;5;124m'\u001b[39m \u001b[38;5;241m%\u001b[39m HERE\u001b[38;5;241m.\u001b[39mreplace(osp\u001b[38;5;241m.\u001b[39msep, \u001b[38;5;124m\"\u001b[39m\u001b[38;5;124m/\u001b[39m\u001b[38;5;124m\"\u001b[39m))\n",
      "\u001b[0;31mOct2PyError\u001b[0m: End Of File (EOF). Exception style platform.\n<pexpect.pty_spawn.spawn object at 0x7fb0a6fd3a00>\ncommand: /usr/local/share/miniconda3/envs/env/bin/octave\nargs: [b'/usr/local/share/miniconda3/envs/env/bin/octave', b'--interactive', b'--quiet', b'--no-init-file']\nbuffer (last 100 chars): ''\nbefore (last 100 chars): 'le loading shared libraries: libGL.so.1: cannot open shared object file: No such file or directory\\r\\n'\nafter: <class 'pexpect.exceptions.EOF'>\nmatch: None\nmatch_index: None\nexitstatus: 127\nflag_eof: True\npid: 394\nchild_fd: 61\nclosed: False\ntimeout: 30\ndelimiter: <class 'pexpect.exceptions.EOF'>\nlogfile: None\nlogfile_read: None\nlogfile_send: None\nmaxread: 2000\nignorecase: False\nsearchwindowsize: None\ndelaybeforesend: 0.05\ndelayafterclose: 0.1\ndelayafterterminate: 0.1\nsearcher: searcher_re:\n    0: re.compile('octave.*>')"
     ]
    }
   ],
   "source": [
    "# Crear una instancia de Oct2Py\n",
    "with octpy.Oct2Py() as oc:\n",
    "    # Ejecutar un comando de Octave directamente\n",
    "    oc.eval('disp(\"¡Hola, Mundo!\")')"
   ]
  },
  {
   "cell_type": "code",
   "execution_count": 6,
   "id": "55011aeb-e10f-4a1d-9b83-17cc679b20dc",
   "metadata": {},
   "outputs": [],
   "source": [
    "# Comando para ejecutar el script de Octave\n",
    "# Asegúrate de que la ruta al script de Octave sea accesible desde donde estás ejecutando este script de Python\n",
    "command = [\"octave-cli\", \"hello_world.m\"]"
   ]
  },
  {
   "cell_type": "code",
   "execution_count": 7,
   "id": "fcd09bf7-5352-4c74-a608-a6cd193f280b",
   "metadata": {},
   "outputs": [
    {
     "name": "stdout",
     "output_type": "stream",
     "text": [
      "Salida estándar:\n",
      "\n",
      "Error estándar:\n",
      "octave-cli: error while loading shared libraries: libGL.so.1: cannot open shared object file: No such file or directory\n",
      "\n"
     ]
    }
   ],
   "source": [
    "\n",
    "# Ejecuta el comando y captura la salida\n",
    "result = subprocess.run(command, capture_output=True, text=True)\n",
    "\n",
    "# Imprime la salida estándar (incluyendo \"Hola Mundo\")\n",
    "print(\"Salida estándar:\")\n",
    "print(result.stdout)\n",
    "# Imprime el error estándar si existe alguno\n",
    "if result.stderr:\n",
    "    print(\"Error estándar:\")\n",
    "    print(result.stderr)\n"
   ]
  }
 ],
 "metadata": {
  "kernelspec": {
   "display_name": "Python 3 (ipykernel)",
   "language": "python",
   "name": "python3"
  },
  "language_info": {
   "codemirror_mode": {
    "name": "ipython",
    "version": 3
   },
   "file_extension": ".py",
   "mimetype": "text/x-python",
   "name": "python",
   "nbconvert_exporter": "python",
   "pygments_lexer": "ipython3",
   "version": "3.10.13"
  }
 },
 "nbformat": 4,
 "nbformat_minor": 5
}

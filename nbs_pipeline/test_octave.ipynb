{
 "cells": [
  {
   "cell_type": "markdown",
   "id": "933d9c9e-f200-4f8b-86db-66a84a162b14",
   "metadata": {},
   "source": [
    "# Executing Matlab code using Octave through python\n",
    "## Libraries\n",
    "For executing this mini-tutorial you need to have installed the following libraries:"
   ]
  },
  {
   "cell_type": "code",
   "execution_count": 1,
   "id": "0f7df14b-d06d-4db1-a97d-a8e42564f1fd",
   "metadata": {},
   "outputs": [
    {
     "name": "stdout",
     "output_type": "stream",
     "text": [
      "# packages in environment at /usr/local/share/miniconda3/envs/env:\n",
      "#\n",
      "# Name                    Version                   Build  Channel\n",
      "octave                    7.3.0                h4bc5dab_3    conda-forge\n",
      "octave_kernel             0.35.1             pyhd8ed1ab_0    conda-forge\n"
     ]
    }
   ],
   "source": [
    "! conda list octave"
   ]
  },
  {
   "cell_type": "code",
   "execution_count": 2,
   "id": "23dd745b-dcb3-49fa-8b05-a42a19966060",
   "metadata": {},
   "outputs": [
    {
     "name": "stdout",
     "output_type": "stream",
     "text": [
      "# packages in environment at /usr/local/share/miniconda3/envs/env:\n",
      "#\n",
      "# Name                    Version                   Build  Channel\n",
      "oct2py                    5.6.1              pyhc1e730c_0    conda-forge\n"
     ]
    }
   ],
   "source": [
    "! conda list oct2py"
   ]
  },
  {
   "cell_type": "code",
   "execution_count": 3,
   "id": "e3c75596-5266-4187-87ee-2c4872263079",
   "metadata": {},
   "outputs": [],
   "source": [
    "import subprocess\n",
    "import oct2py as ocpy\n",
    "from oct2py import octave as oc\n",
    "import os"
   ]
  },
  {
   "cell_type": "markdown",
   "id": "18663354-7263-4508-b464-80ec18f3584d",
   "metadata": {},
   "source": [
    "## Executing matlab/octave functions\n",
    "Now you can execute matlab/octave as follows"
   ]
  },
  {
   "cell_type": "markdown",
   "id": "5ca69566-69e7-4184-b1f8-5922cd1208c4",
   "metadata": {},
   "source": [
    "### Option 1: OctPy()\n",
    "\n",
    "Create an explicit instance of Oct2py given by the module oct2py. This allows more control within the Octave instance and how to interact with it.\n"
   ]
  },
  {
   "cell_type": "code",
   "execution_count": 4,
   "id": "bb69c2ea-5b70-4ccf-af5d-c98a5a87c5b8",
   "metadata": {},
   "outputs": [
    {
     "name": "stdout",
     "output_type": "stream",
     "text": [
      "\u001b[?2004l\n",
      "[[0. 0. 0.]\n",
      " [0. 0. 0.]\n",
      " [0. 0. 0.]]\n",
      "float64\n"
     ]
    }
   ],
   "source": [
    "# Instantiate octave executor\n",
    "o2p= ocpy.Oct2Py()\n",
    "# Run octave basic function\n",
    "x = o2p.zeros(3, 3)\n",
    "# Print the result\n",
    "print(x)\n",
    "# print result type\n",
    "print(x.dtype)"
   ]
  },
  {
   "cell_type": "markdown",
   "id": "9c6e2feb-f286-4e12-9dc4-8203d719c1eb",
   "metadata": {},
   "source": [
    "### Option 2: octave\n",
    "Uses a default Octave instanced given by oct2py. This allows to call simple Octave functions in a direct and simpler way without the explicit creation of a Oct2py instance. "
   ]
  },
  {
   "cell_type": "code",
   "execution_count": 5,
   "id": "750b5c79-2302-485e-8b1d-77c7a4e3c4c1",
   "metadata": {},
   "outputs": [
    {
     "name": "stdout",
     "output_type": "stream",
     "text": [
      "\u001b[?2004l\n",
      "[[0. 0. 0.]\n",
      " [0. 0. 0.]\n",
      " [0. 0. 0.]]\n",
      "float64\n"
     ]
    }
   ],
   "source": [
    "# Run octave basic function\n",
    "x = ocpy.octave.zeros(3, 3)\n",
    "# Print the result\n",
    "print(x)\n",
    "# print result type\n",
    "print(x.dtype)"
   ]
  },
  {
   "cell_type": "markdown",
   "id": "e57e688e-80b6-49e3-9e1e-f627feea73e8",
   "metadata": {},
   "source": [
    "Each of the options has advantages and this advantages:\n",
    "\n",
    "|                          | Predefined Instance (`oct2py.octave`) | Custom Instance (`oct2py.Oct2Py()`) |\n",
    "|--------------------------|---------------------------------------|------------------------------------|\n",
    "| **Advantages**           | - Simplicity                         | - Full control over the instance   |\n",
    "|                          | - Less code                          | - Ability to have multiple         |\n",
    "|                          |                                       |   instances                        |\n",
    "|                          | - Quick usage                        | - Isolation of Octave environment  |\n",
    "|                          |                                       | - Customization of parameters      |\n",
    "| **Disadvantages**        | - Less control over the instance     | - More code and complexity         |\n",
    "|                          |   of Octave                          |                                    |\n",
    "\n",
    "\n",
    "In concret:\n",
    "\n",
    "|                                    | Predefined Instance (`oct2py.octave`)                   | Custom Instance (`oct2py.Oct2Py()`)                      |\n",
    "|------------------------------------|---------------------------------------------------------|----------------------------------------------------------|\n",
    "| **Allows Configuration**           | No                                                      | Yes                                                      |\n",
    "| **Allows Path Configuration**      | No                                                      | Yes                                                      |\n",
    "| **Allows Environment Isolation**   | No (Shares environment with other code)                | Yes (Environment is isolated)                             |\n",
    "| **Allows Multiple Instances**      | No (Single shared instance)                            | Yes (Multiple instances can be created)                  |\n",
    "| **Allows Customization**           | Limited                                                 | Extensive                                                |\n",
    "| **Allows Running Simple Functions**| Yes                                                     | Yes                                                      |\n",
    "| **Allows Running Complex Scripts** | Yes                                                     | Yes                                                      |\n",
    "| **Allows Passing Data**            | Yes                                                     | Yes                                                      |\n",
    "| **Allows Returning Data**          | Yes                                                     | Yes                                                      |\n"
   ]
  },
  {
   "cell_type": "markdown",
   "id": "33a9adfe-a0b6-443b-8b0a-c608c94b7e69",
   "metadata": {},
   "source": [
    "... So ... let's see what happens if I want to execute a .m file"
   ]
  },
  {
   "cell_type": "markdown",
   "id": "78afb12a-228a-43ce-8d54-043d9423a837",
   "metadata": {},
   "source": [
    "## Execute matlab/octave files from python\n",
    "### Option 1: Oct2py()\n",
    "This is the content in the file \"hola_mundo.m\" so we can check the result is the same"
   ]
  },
  {
   "cell_type": "code",
   "execution_count": 6,
   "id": "0650dc48-689a-48c7-b94b-1973248f79d6",
   "metadata": {},
   "outputs": [
    {
     "name": "stdout",
     "output_type": "stream",
     "text": [
      "\u001b[?2004l\n",
      "\u001b[?2004l\n",
      "\u001b[?2004l\n",
      "Hola mundo\n",
      "\n"
     ]
    }
   ],
   "source": [
    "print(o2p.disp('Hola mundo'))"
   ]
  },
  {
   "cell_type": "markdown",
   "id": "853b5b27-5517-4064-9b82-dbc4da7d97e5",
   "metadata": {},
   "source": [
    "If we do is as a donkey..."
   ]
  },
  {
   "cell_type": "code",
   "execution_count": 7,
   "id": "2b3a24fe-570e-4acc-a5a4-a822e0db3cc0",
   "metadata": {},
   "outputs": [
    {
     "name": "stdout",
     "output_type": "stream",
     "text": [
      "\u001b[?2004l\n",
      "\u001b[?2004l\n",
      "\u001b[?2004l\n",
      "Hola Mundo\n"
     ]
    }
   ],
   "source": [
    "o2p.source('./octave-tests/hola_mundo.m')"
   ]
  },
  {
   "cell_type": "markdown",
   "id": "df153b82-c232-4c19-9125-f98d94253b94",
   "metadata": {},
   "source": [
    "But we are not donkeys! We are pro 😎\n",
    "\n",
    "So... let's try to add the path to octave loads path"
   ]
  },
  {
   "cell_type": "code",
   "execution_count": 8,
   "id": "b622b61c-c2da-436f-8281-2e04d1bad5ae",
   "metadata": {},
   "outputs": [
    {
     "name": "stdout",
     "output_type": "stream",
     "text": [
      "MP_first_test_penguin_sample.mat  hola_mundo.m\tinteractiveMatrixProfileVer3.m\n"
     ]
    }
   ],
   "source": [
    "! ls octave-tests"
   ]
  },
  {
   "cell_type": "code",
   "execution_count": 9,
   "id": "34a5660d-6e93-43be-9990-3bd38b46770d",
   "metadata": {},
   "outputs": [
    {
     "name": "stdout",
     "output_type": "stream",
     "text": [
      "/home/macu/work/nbs_pipeline/octave-tests/\n",
      "/home/macu/work/nbs_pipeline\n",
      "\u001b[?2004l\n",
      "\u001b[?2004l\n",
      "\u001b[?2004l\n",
      "\u001b[?2004l\n",
      "\u001b[?2004l\n",
      "\u001b[?2004l\n",
      "Path correctly added to octave instance.\n"
     ]
    }
   ],
   "source": [
    "current_path = os.getcwd()\n",
    "path2add = current_path + \"/octave-tests/\"\n",
    "\n",
    "print(path2add)\n",
    "print(current_path)\n",
    "\n",
    "o2p.addpath(path2add)  # doctest: +SKIP\n",
    "\n",
    "if os.path.exists(path2add):\n",
    "    o2p.addpath(path2add)\n",
    "    print(\"Path correctly added to octave instance.\")\n",
    "else:\n",
    "    print(\"The path is not available\")\n"
   ]
  },
  {
   "cell_type": "code",
   "execution_count": 10,
   "id": "271d72c8-c48d-443b-af3d-0462c995fe37",
   "metadata": {},
   "outputs": [
    {
     "name": "stdout",
     "output_type": "stream",
     "text": [
      "MP_first_test_penguin_sample.mat  hola_mundo.m\tinteractiveMatrixProfileVer3.m\n"
     ]
    }
   ],
   "source": [
    "! ls {path2add}"
   ]
  },
  {
   "cell_type": "code",
   "execution_count": 11,
   "id": "e3be631f-7745-4ef7-a7b8-7ed93b4bf930",
   "metadata": {},
   "outputs": [
    {
     "name": "stdout",
     "output_type": "stream",
     "text": [
      "\u001b[?2004l\n",
      "\u001b[?2004l\n",
      "\u001b[?2004l\n",
      ".\n",
      "..\n",
      ".ipynb_checkpoints\n",
      "MP_first_test_penguin_sample.mat\n",
      "hola_mundo.m\n",
      "interactiveMatrixProfileVer3.m\n"
     ]
    }
   ],
   "source": [
    "listing = o2p.dir(path2add)\n",
    "myfile = \"\"\n",
    "for file in listing:\n",
    "    print(file.name);\n",
    "    if file.name == \"hola_mundo.m\":\n",
    "        myfile = file"
   ]
  },
  {
   "cell_type": "code",
   "execution_count": 12,
   "id": "cfa15af6-70b7-4587-91e5-46c9b34a13bf",
   "metadata": {},
   "outputs": [
    {
     "name": "stdout",
     "output_type": "stream",
     "text": [
      "\u001b[?2004l\n",
      "\u001b[?2004l\n",
      "\u001b[?2004l\n"
     ]
    },
    {
     "ename": "Oct2PyError",
     "evalue": "Octave evaluation error:\nerror: source: error sourcing file '/home/macu/work/nbs_pipeline/hola_mundo.m'",
     "output_type": "error",
     "traceback": [
      "\u001b[0;31m---------------------------------------------------------------------------\u001b[0m",
      "\u001b[0;31mOct2PyError\u001b[0m                               Traceback (most recent call last)",
      "Cell \u001b[0;32mIn[12], line 1\u001b[0m\n\u001b[0;32m----> 1\u001b[0m \u001b[43mo2p\u001b[49m\u001b[38;5;241;43m.\u001b[39;49m\u001b[43msource\u001b[49m\u001b[43m(\u001b[49m\u001b[43mmyfile\u001b[49m\u001b[38;5;241;43m.\u001b[39;49m\u001b[43mname\u001b[49m\u001b[43m)\u001b[49m\n",
      "File \u001b[0;32m/usr/local/share/miniconda3/envs/env/lib/python3.10/site-packages/oct2py/dynamic.py:111\u001b[0m, in \u001b[0;36mOctaveFunctionPtr.__call__\u001b[0;34m(self, *inputs, **kwargs)\u001b[0m\n\u001b[1;32m    107\u001b[0m     warnings\u001b[38;5;241m.\u001b[39mwarn(\u001b[38;5;124m\"\u001b[39m\u001b[38;5;124mKey - value pairs are deprecated, use `func_args`\u001b[39m\u001b[38;5;124m\"\u001b[39m, stacklevel\u001b[38;5;241m=\u001b[39m\u001b[38;5;241m2\u001b[39m)\n\u001b[1;32m    109\u001b[0m inputs \u001b[38;5;241m+\u001b[39m\u001b[38;5;241m=\u001b[39m \u001b[38;5;28mtuple\u001b[39m(item \u001b[38;5;28;01mfor\u001b[39;00m pair \u001b[38;5;129;01min\u001b[39;00m extras\u001b[38;5;241m.\u001b[39mitems() \u001b[38;5;28;01mfor\u001b[39;00m item \u001b[38;5;129;01min\u001b[39;00m pair)\n\u001b[0;32m--> 111\u001b[0m \u001b[38;5;28;01mreturn\u001b[39;00m \u001b[38;5;28;43mself\u001b[39;49m\u001b[38;5;241;43m.\u001b[39;49m\u001b[43m_ref\u001b[49m\u001b[43m(\u001b[49m\u001b[43m)\u001b[49m\u001b[38;5;241;43m.\u001b[39;49m\u001b[43mfeval\u001b[49m\u001b[43m(\u001b[49m\u001b[38;5;28;43mself\u001b[39;49m\u001b[38;5;241;43m.\u001b[39;49m\u001b[43mname\u001b[49m\u001b[43m,\u001b[49m\u001b[43m \u001b[49m\u001b[38;5;241;43m*\u001b[39;49m\u001b[43minputs\u001b[49m\u001b[43m,\u001b[49m\u001b[43m \u001b[49m\u001b[38;5;241;43m*\u001b[39;49m\u001b[38;5;241;43m*\u001b[39;49m\u001b[43mkwargs\u001b[49m\u001b[43m)\u001b[49m\n",
      "File \u001b[0;32m/usr/local/share/miniconda3/envs/env/lib/python3.10/site-packages/oct2py/core.py:403\u001b[0m, in \u001b[0;36mOct2Py.feval\u001b[0;34m(self, func_path, *func_args, **kwargs)\u001b[0m\n\u001b[1;32m    400\u001b[0m \u001b[38;5;28;01mif\u001b[39;00m \u001b[38;5;129;01mnot\u001b[39;00m stream_handler:\n\u001b[1;32m    401\u001b[0m     stream_handler \u001b[38;5;241m=\u001b[39m \u001b[38;5;28mself\u001b[39m\u001b[38;5;241m.\u001b[39mlogger\u001b[38;5;241m.\u001b[39minfo \u001b[38;5;28;01mif\u001b[39;00m verbose \u001b[38;5;28;01melse\u001b[39;00m \u001b[38;5;28mself\u001b[39m\u001b[38;5;241m.\u001b[39mlogger\u001b[38;5;241m.\u001b[39mdebug\n\u001b[0;32m--> 403\u001b[0m \u001b[38;5;28;01mreturn\u001b[39;00m \u001b[38;5;28;43mself\u001b[39;49m\u001b[38;5;241;43m.\u001b[39;49m\u001b[43m_feval\u001b[49m\u001b[43m(\u001b[49m\n\u001b[1;32m    404\u001b[0m \u001b[43m    \u001b[49m\u001b[43mfunc_name\u001b[49m\u001b[43m,\u001b[49m\n\u001b[1;32m    405\u001b[0m \u001b[43m    \u001b[49m\u001b[43mfunc_args\u001b[49m\u001b[43m,\u001b[49m\n\u001b[1;32m    406\u001b[0m \u001b[43m    \u001b[49m\u001b[43mdname\u001b[49m\u001b[38;5;241;43m=\u001b[39;49m\u001b[43mdname\u001b[49m\u001b[43m,\u001b[49m\n\u001b[1;32m    407\u001b[0m \u001b[43m    \u001b[49m\u001b[43mnout\u001b[49m\u001b[38;5;241;43m=\u001b[39;49m\u001b[43mnout\u001b[49m\u001b[43m,\u001b[49m\n\u001b[1;32m    408\u001b[0m \u001b[43m    \u001b[49m\u001b[43mtimeout\u001b[49m\u001b[38;5;241;43m=\u001b[39;49m\u001b[43mtimeout\u001b[49m\u001b[43m,\u001b[49m\n\u001b[1;32m    409\u001b[0m \u001b[43m    \u001b[49m\u001b[43mstream_handler\u001b[49m\u001b[38;5;241;43m=\u001b[39;49m\u001b[43mstream_handler\u001b[49m\u001b[43m,\u001b[49m\n\u001b[1;32m    410\u001b[0m \u001b[43m    \u001b[49m\u001b[43mstore_as\u001b[49m\u001b[38;5;241;43m=\u001b[39;49m\u001b[43mstore_as\u001b[49m\u001b[43m,\u001b[49m\n\u001b[1;32m    411\u001b[0m \u001b[43m    \u001b[49m\u001b[43mplot_dir\u001b[49m\u001b[38;5;241;43m=\u001b[39;49m\u001b[43mplot_dir\u001b[49m\u001b[43m,\u001b[49m\n\u001b[1;32m    412\u001b[0m \u001b[43m\u001b[49m\u001b[43m)\u001b[49m\n",
      "File \u001b[0;32m/usr/local/share/miniconda3/envs/env/lib/python3.10/site-packages/oct2py/core.py:648\u001b[0m, in \u001b[0;36mOct2Py._feval\u001b[0;34m(self, func_name, func_args, dname, nout, timeout, stream_handler, store_as, plot_dir)\u001b[0m\n\u001b[1;32m    646\u001b[0m \u001b[38;5;28;01mif\u001b[39;00m resp[\u001b[38;5;124m\"\u001b[39m\u001b[38;5;124merr\u001b[39m\u001b[38;5;124m\"\u001b[39m]:\n\u001b[1;32m    647\u001b[0m     msg \u001b[38;5;241m=\u001b[39m \u001b[38;5;28mself\u001b[39m\u001b[38;5;241m.\u001b[39m_parse_error(resp[\u001b[38;5;124m\"\u001b[39m\u001b[38;5;124merr\u001b[39m\u001b[38;5;124m\"\u001b[39m])\n\u001b[0;32m--> 648\u001b[0m     \u001b[38;5;28;01mraise\u001b[39;00m Oct2PyError(msg)\n\u001b[1;32m    650\u001b[0m result \u001b[38;5;241m=\u001b[39m resp[\u001b[38;5;124m\"\u001b[39m\u001b[38;5;124mresult\u001b[39m\u001b[38;5;124m\"\u001b[39m]\u001b[38;5;241m.\u001b[39mravel()\u001b[38;5;241m.\u001b[39mtolist()\n\u001b[1;32m    651\u001b[0m \u001b[38;5;28;01mif\u001b[39;00m \u001b[38;5;28misinstance\u001b[39m(result, \u001b[38;5;28mlist\u001b[39m) \u001b[38;5;129;01mand\u001b[39;00m \u001b[38;5;28mlen\u001b[39m(result) \u001b[38;5;241m==\u001b[39m \u001b[38;5;241m1\u001b[39m:\n",
      "\u001b[0;31mOct2PyError\u001b[0m: Octave evaluation error:\nerror: source: error sourcing file '/home/macu/work/nbs_pipeline/hola_mundo.m'"
     ]
    }
   ],
   "source": [
    "o2p.source(myfile.name)"
   ]
  },
  {
   "cell_type": "markdown",
   "id": "2d40912f-c8a0-438c-87eb-a86bff1df00b",
   "metadata": {},
   "source": [
    "Maybe not that pro...\n",
    "\n",
    "Let's change matlab execution dir"
   ]
  },
  {
   "cell_type": "code",
   "execution_count": null,
   "id": "5b0a2ef4-faf2-466b-8cbc-767cfa26fa76",
   "metadata": {},
   "outputs": [],
   "source": [
    "print(path2add)\n",
    "print(o2p.cd(path2add))"
   ]
  },
  {
   "cell_type": "code",
   "execution_count": null,
   "id": "e54373f9-8694-4ea8-babd-ebc598672384",
   "metadata": {},
   "outputs": [],
   "source": [
    "o2p.source(myfile.name)"
   ]
  },
  {
   "cell_type": "markdown",
   "id": "ee370d65-ed4d-4a21-9e76-bc3e37d1f957",
   "metadata": {},
   "source": [
    "Now yes!! And still python and notebook in the correct place?"
   ]
  },
  {
   "cell_type": "code",
   "execution_count": null,
   "id": "fb0732c7-f16d-4cd1-a0cc-fc271c31bf4f",
   "metadata": {},
   "outputs": [],
   "source": [
    "os.getcwd()\n",
    "! dir"
   ]
  },
  {
   "cell_type": "markdown",
   "id": "53dd8123-ac08-4a25-bc95-666ecb88cc45",
   "metadata": {},
   "source": [
    "Yes! So... We can setup the octove work path without modyfing python and console paths => We can have our matlab functions in a folder and call them without any hedeaches."
   ]
  },
  {
   "cell_type": "markdown",
   "id": "bed766db-062f-40fb-849b-75404777612b",
   "metadata": {},
   "source": [
    "### Option 2: octave\n",
    "Now let's see if ChatGPT lied to us when saying octove instance couldn't modify the load path."
   ]
  },
  {
   "cell_type": "code",
   "execution_count": null,
   "id": "539168b8-109b-4c43-8ec0-b10e841a402c",
   "metadata": {},
   "outputs": [],
   "source": [
    "print(ocpy.octave.disp('Hola mundo'))\n",
    "ocpy.octave.source('./octave-tests/hola_mundo.m')"
   ]
  },
  {
   "cell_type": "code",
   "execution_count": null,
   "id": "3a6a2667-b6f1-4cb0-8983-9b42c7f4db85",
   "metadata": {},
   "outputs": [],
   "source": [
    "# Setup the path\n",
    "current_path = os.getcwd()\n",
    "path2add = current_path + \"/octave-tests/\"\n",
    "\n",
    "print(\"add:\", path2add)\n",
    "print(\"current:\", current_path)\n",
    "\n",
    "print(\"--> Add path\")\n",
    "ocpy.octave.addpath(path2add)  # doctest: +SKIP\n"
   ]
  },
  {
   "cell_type": "code",
   "execution_count": null,
   "id": "0c4b311f-6cd6-4fbe-aba0-ecae920f1fca",
   "metadata": {},
   "outputs": [],
   "source": [
    "print(\"--> Show final octave path\")\n",
    "print(ocpy.octave.disp(ocpy.octave.path()))"
   ]
  },
  {
   "cell_type": "code",
   "execution_count": null,
   "id": "d279aaea-9bca-4fe9-85c4-e504651b91fa",
   "metadata": {},
   "outputs": [],
   "source": [
    "print(ocpy.octave.source(\"hola_mundo.m\"))"
   ]
  },
  {
   "cell_type": "code",
   "execution_count": null,
   "id": "9c576a70-6a78-4464-8e28-4262c3d321b5",
   "metadata": {},
   "outputs": [],
   "source": [
    "print(path2add)\n",
    "print(ocpy.octave.cd(path2add))\n",
    "ocpy.octave.source(\"hola_mundo.m\")"
   ]
  },
  {
   "cell_type": "markdown",
   "id": "ad5181b8-d63b-46c7-8823-b8c4a08218f4",
   "metadata": {},
   "source": [
    "## Conclusions\n",
    "ChatGPT lied to us! \n",
    "The load path can also be changued in the default 'octove' instance. \n",
    "\n",
    "Thus, the easier way to get the job done is: "
   ]
  },
  {
   "cell_type": "markdown",
   "id": "e4c2d051-cda6-44bf-aace-84c7fcecf1af",
   "metadata": {},
   "source": [
    "1) Import the libraries"
   ]
  },
  {
   "cell_type": "code",
   "execution_count": null,
   "id": "9f34bbc1-b389-4d5d-bab2-0d71d1876978",
   "metadata": {},
   "outputs": [],
   "source": [
    "import subprocess\n",
    "import os\n",
    "from oct2py import octave"
   ]
  },
  {
   "cell_type": "markdown",
   "id": "8a254770-157a-4f97-85de-81aac07f7b46",
   "metadata": {},
   "source": [
    "2) Build and add your .m files path"
   ]
  },
  {
   "cell_type": "code",
   "execution_count": null,
   "id": "b1aca3dd-9fb8-453f-b077-9395eef2fb0e",
   "metadata": {},
   "outputs": [],
   "source": [
    "current_path = os.getcwd()\n",
    "path2add = current_path + \"/octave-tests/\"\n",
    "print(path2add)\n",
    "\n",
    "if os.path.exists(path2add):\n",
    "    octave.addpath(path2add)\n",
    "    print(\"Path correctly added to octave instance.\")\n",
    "else:\n",
    "    print(\"The path is not available\")"
   ]
  },
  {
   "cell_type": "markdown",
   "id": "f137da35-0172-413c-bb09-18cbaf1b174b",
   "metadata": {},
   "source": [
    "3) Move to the path and execute your .m file!"
   ]
  },
  {
   "cell_type": "code",
   "execution_count": null,
   "id": "e7b4d671-e87e-4374-a56c-72f86e70e8cb",
   "metadata": {},
   "outputs": [],
   "source": [
    "print(octave.cd(path2add))\n",
    "octave.source(\"hola_mundo.m\")"
   ]
  },
  {
   "cell_type": "markdown",
   "id": "44db3ae1-06c0-4a32-8683-e1b1e0161192",
   "metadata": {},
   "source": [
    "4) And don't worry! The rest of the jupyter notebook will keep in its place"
   ]
  },
  {
   "cell_type": "code",
   "execution_count": null,
   "id": "962a7d94-9580-45f3-99d6-d1fc85c45093",
   "metadata": {},
   "outputs": [],
   "source": [
    "print(\"---> Python is here\")\n",
    "print(os.getcwd())\n",
    "print(\"---> Console too!\")\n",
    "! pwd"
   ]
  },
  {
   "cell_type": "markdown",
   "id": "d65728b1-0106-41e9-8ac4-d195599ebdf2",
   "metadata": {},
   "source": [
    "## ... And can I exec Eamonn Matrix Profile examples?"
   ]
  },
  {
   "cell_type": "code",
   "execution_count": null,
   "id": "d53caf74-6b75-435d-96c2-bc8cc79fc519",
   "metadata": {},
   "outputs": [],
   "source": [
    "filename = 'interactiveMatrixProfileVer3'\n",
    "! ls octave-tests/{filename}.m"
   ]
  },
  {
   "cell_type": "code",
   "execution_count": null,
   "id": "93c1f763-e145-4714-9235-f1f24f3801c9",
   "metadata": {},
   "outputs": [],
   "source": [
    "import numpy as np\n",
    "import dvats.memory as mem\n",
    "import dvats.mplots as mp"
   ]
  },
  {
   "cell_type": "code",
   "execution_count": null,
   "id": "b911f8d7-f97b-44bb-a411-8d404b5f4a8e",
   "metadata": {},
   "outputs": [],
   "source": [
    "! wget https://www.cs.ucr.edu/~eamonn/MP_first_test_penguin_sample.mat"
   ]
  },
  {
   "cell_type": "code",
   "execution_count": null,
   "id": "fde10ad3-8de5-40ff-9805-9c537c6b910d",
   "metadata": {},
   "outputs": [],
   "source": [
    "filename = 'MP_first_test_penguin_sample.mat'\n",
    "! mv {filename} octave-tests/{filename}"
   ]
  },
  {
   "cell_type": "code",
   "execution_count": null,
   "id": "8851d37f-cdc5-4718-9973-4c1fca1014fd",
   "metadata": {},
   "outputs": [],
   "source": [
    "ls octave-tests/{filename}"
   ]
  },
  {
   "cell_type": "code",
   "execution_count": null,
   "id": "08a45e45-9b90-476c-bdfa-3b8dad4e04fe",
   "metadata": {},
   "outputs": [],
   "source": [
    "## -- Classes & types\n",
    "from dataclasses import dataclass, field\n",
    "from typing import List\n",
    "import warnings "
   ]
  },
  {
   "cell_type": "markdown",
   "id": "8f6eb69b-9597-4c80-ac91-2f6436df7555",
   "metadata": {},
   "source": [
    "... Necesitamos hacer un equivalente al smooth de matlab.... \n",
    "\n",
    "Check... [Matlab: smoothing-data ](https://es.mathworks.com/help/curvefit/smoothing-data.html)\n",
    "Following [StackOverflow: Matlabs smooth implementation n point moving average in numpy python](https://stackoverflow.com/questions/40443020/matlabs-smooth-implementation-n-point-moving-average-in-numpy-python)"
   ]
  },
  {
   "cell_type": "code",
   "execution_count": null,
   "id": "27c2b90d-c2be-4607-85b0-949a04bbce07",
   "metadata": {},
   "outputs": [],
   "source": [
    "@dataclass\n",
    "class MatlabMatrix: \n",
    "    filename : str = \"\"\n",
    "    matname : str = \"\"\n",
    "    data : List [ float ] = None\n",
    "    data_dict : dict = field (default_factory = dict)\n",
    "    smoothing_window_len : int = None\n",
    "    \n",
    "    def load(self, numcol : int, print_flag : bool = False):\n",
    "        self.dict = octave.load(self.filename)\n",
    "        data = self.dict[self.matname]\n",
    "        if print_flag: print(data.dtype)\n",
    "        self.data = np.array(data[:,numcol])\n",
    "        return self.data\n",
    "    def smooth(self, window_len=11, print_flag = False):\n",
    "        # window_len: smoothing window size needs, which must be odd number,\n",
    "        # Step 1: Apply the moving average to the main part of the data using convolution\n",
    "        self.smoothing_window_len = window_len\n",
    "        if self.smoothing_window_len % 2 == 0:\n",
    "            warnings.warn(\"Window len must be odd! Adding 1 to your length.\")\n",
    "            self.smoothing_window_len += 1\n",
    "        if print_flag: print(\"---> About to get out0\")\n",
    "        out0 = np.convolve(\n",
    "            self.data, \n",
    "            np.ones(self.smoothing_window_len, dtype=int),\n",
    "            'valid'\n",
    "        ) / self.smoothing_window_len\n",
    "    \n",
    "        # Step 2: Handle the beginning of the array (start)\n",
    "        # Use cumulative sum and then average it by the increasing window size\n",
    "    \n",
    "        if print_flag : \n",
    "            print(\"out0 ~\", out0.shape)\n",
    "            print(\"---> About to get start\")\n",
    "    \n",
    "        r = np.arange(1, self.smoothing_window_len-1, 2)\n",
    "    \n",
    "        if print_flag: print(\"r\", r)\n",
    "    \n",
    "        start = np.cumsum(self.data[:self.smoothing_window_len-1])[::2] / r\n",
    "    \n",
    "        if print_flag:\n",
    "            print(\"start\", start)\n",
    "            print(\"---> About to get stop\")\n",
    "    \n",
    "        # Step 3: Handle the end of the array (stop)\n",
    "        # Reverse the array, use cumulative sum, and then average it by the increasing window size\n",
    "    \n",
    "        stop = (np.cumsum(self.data[:-self.smoothing_window_len:-1])[::2] / r)[::-1]\n",
    "\n",
    "        if print_flag: \n",
    "            print(\"stop\", stop)\n",
    "    \n",
    "        # Step 4: Combine the start, middle, and end parts together\n",
    "        return np.concatenate((start, out0, stop))\n",
    "\n"
   ]
  },
  {
   "cell_type": "code",
   "execution_count": null,
   "id": "371ad41a-b980-4b28-8364-f62ce4e95f0c",
   "metadata": {},
   "outputs": [],
   "source": []
  },
  {
   "cell_type": "code",
   "execution_count": null,
   "id": "3b4ca252-6547-4460-8ecc-8c863cedfe5a",
   "metadata": {},
   "outputs": [],
   "source": [
    "penguins_sample = MatlabMatrix(filename = 'MP_first_test_penguin_sample', matname = 'penguin_sample')\n",
    "penguins_sample.load( numcol = 0, print_flag = True )"
   ]
  },
  {
   "cell_type": "code",
   "execution_count": null,
   "id": "625469d2-900f-49af-99f8-e2abaef899b4",
   "metadata": {},
   "outputs": [],
   "source": [
    "len(penguins_sample.data)"
   ]
  },
  {
   "cell_type": "code",
   "execution_count": null,
   "id": "4087ee84-fbd4-4fc0-b72d-e69eb9380084",
   "metadata": {},
   "outputs": [],
   "source": [
    "subsequence_len = 800"
   ]
  },
  {
   "cell_type": "code",
   "execution_count": null,
   "id": "ba063d6c-6370-4263-af35-249115aa9265",
   "metadata": {},
   "outputs": [],
   "source": [
    "#octave.register_graphics_toolkit('fltk')"
   ]
  },
  {
   "cell_type": "code",
   "execution_count": null,
   "id": "11be6903-0e3e-449a-98fa-62cd126d8b52",
   "metadata": {},
   "outputs": [],
   "source": [
    "octave.available_graphics_toolkits()"
   ]
  },
  {
   "cell_type": "code",
   "execution_count": null,
   "id": "d21d9634-776c-4af3-9b45-9f9b17082fb5",
   "metadata": {},
   "outputs": [],
   "source": [
    "octave.graphics_toolkit('gnuplot')"
   ]
  },
  {
   "cell_type": "code",
   "execution_count": null,
   "id": "fdcddcd6-c716-4ae6-afbe-68073ed5cd1e",
   "metadata": {},
   "outputs": [],
   "source": [
    "subsequence_len = 800"
   ]
  },
  {
   "cell_type": "code",
   "execution_count": null,
   "id": "7648a069-f115-4d3f-abe7-5a2a267ecb5c",
   "metadata": {},
   "outputs": [],
   "source": [
    "len(penguins_sample.data)"
   ]
  },
  {
   "cell_type": "code",
   "execution_count": null,
   "id": "f3401c7a-8865-4269-9929-227864a8e956",
   "metadata": {},
   "outputs": [],
   "source": [
    "penguins_sample.smooth(window_len = 10, print_flag = True)\n",
    "[mp, p_index, motif_index, discord_index] = octave.interactiveMatrixProfileVer3(\n",
    "    penguins_sample.data,\n",
    "    subsequence_len\n",
    ");"
   ]
  },
  {
   "cell_type": "markdown",
   "id": "170b3eb0-8365-4ea7-8dd7-d737cb49bdde",
   "metadata": {},
   "source": [
    "> Trial following Melvin's tutorial [GitHub](https://melvincabatuan.github.io/Basic-Octave-Tutorial-in-Notebook/)"
   ]
  },
  {
   "cell_type": "code",
   "execution_count": null,
   "id": "4019b622-1742-483e-be07-518114a6b68a",
   "metadata": {},
   "outputs": [],
   "source": [
    "%load_ext oct2py.ipython"
   ]
  },
  {
   "cell_type": "code",
   "execution_count": null,
   "id": "4086eb8c-ba99-4870-a864-435620043d47",
   "metadata": {},
   "outputs": [],
   "source": []
  },
  {
   "cell_type": "code",
   "execution_count": null,
   "id": "0db68f4c-06f0-4b90-8e11-bf0ccd0bc29c",
   "metadata": {},
   "outputs": [],
   "source": [
    "%octave ver"
   ]
  },
  {
   "cell_type": "code",
   "execution_count": null,
   "id": "de07bdf4-97f7-42ae-8ac2-0df83a0d1597",
   "metadata": {},
   "outputs": [],
   "source": [
    "x = %octave [1 2; 3 4];\n",
    "x"
   ]
  },
  {
   "cell_type": "code",
   "execution_count": null,
   "id": "c1799e16-a5b4-4398-abfd-b95ddfcef4d2",
   "metadata": {},
   "outputs": [],
   "source": [
    "%octave available_graphics_toolkits()"
   ]
  },
  {
   "cell_type": "code",
   "execution_count": null,
   "id": "2ac5548c-6b9f-4f42-9004-e68b20f2bc87",
   "metadata": {},
   "outputs": [],
   "source": [
    "%%octave -f svg\n",
    "t = linspace(-10, 10, 1000)"
   ]
  },
  {
   "cell_type": "code",
   "execution_count": null,
   "id": "1584c57c-7b4b-41eb-8cf3-60174b7daccd",
   "metadata": {},
   "outputs": [],
   "source": [
    "%reload_ext oct2py.ipython"
   ]
  },
  {
   "cell_type": "code",
   "execution_count": null,
   "id": "a8155e77-65d7-429b-aa11-e04a96725f4c",
   "metadata": {},
   "outputs": [],
   "source": [
    "%%octave -f svg\n",
    "graphics_toolkit('gnuplot');\n",
    "plot(t,sin(t))"
   ]
  }
 ],
 "metadata": {
  "kernelspec": {
   "display_name": "Python 3 (ipykernel)",
   "language": "python",
   "name": "python3"
  },
  "language_info": {
   "codemirror_mode": {
    "name": "ipython",
    "version": 3
   },
   "file_extension": ".py",
   "mimetype": "text/x-python",
   "name": "python",
   "nbconvert_exporter": "python",
   "pygments_lexer": "ipython3",
   "version": "3.10.13"
  }
 },
 "nbformat": 4,
 "nbformat_minor": 5
}

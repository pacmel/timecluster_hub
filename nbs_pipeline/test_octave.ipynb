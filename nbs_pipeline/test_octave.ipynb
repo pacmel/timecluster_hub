{
 "cells": [
  {
   "cell_type": "markdown",
   "id": "933d9c9e-f200-4f8b-86db-66a84a162b14",
   "metadata": {},
   "source": [
    "# Executing Matlab code using Octave through python"
   ]
  },
  {
   "cell_type": "code",
   "execution_count": 5,
   "id": "bb69c2ea-5b70-4ccf-af5d-c98a5a87c5b8",
   "metadata": {},
   "outputs": [],
   "source": [
    "import subprocess"
   ]
  },
  {
   "cell_type": "code",
   "execution_count": 6,
   "id": "55011aeb-e10f-4a1d-9b83-17cc679b20dc",
   "metadata": {},
   "outputs": [],
   "source": [
    "# Comando para ejecutar el script de Octave\n",
    "# Asegúrate de que la ruta al script de Octave sea accesible desde donde estás ejecutando este script de Python\n",
    "command = [\"octave-cli\", \"hello_world.m\"]"
   ]
  },
  {
   "cell_type": "code",
   "execution_count": 7,
   "id": "fcd09bf7-5352-4c74-a608-a6cd193f280b",
   "metadata": {},
   "outputs": [
    {
     "name": "stdout",
     "output_type": "stream",
     "text": [
      "Salida estándar:\n",
      "\n",
      "Error estándar:\n",
      "octave-cli: error while loading shared libraries: libGL.so.1: cannot open shared object file: No such file or directory\n",
      "\n"
     ]
    }
   ],
   "source": [
    "\n",
    "# Ejecuta el comando y captura la salida\n",
    "result = subprocess.run(command, capture_output=True, text=True)\n",
    "\n",
    "# Imprime la salida estándar (incluyendo \"Hola Mundo\")\n",
    "print(\"Salida estándar:\")\n",
    "print(result.stdout)\n",
    "# Imprime el error estándar si existe alguno\n",
    "if result.stderr:\n",
    "    print(\"Error estándar:\")\n",
    "    print(result.stderr)\n"
   ]
  }
 ],
 "metadata": {
  "kernelspec": {
   "display_name": "Python 3 (ipykernel)",
   "language": "python",
   "name": "python3"
  },
  "language_info": {
   "codemirror_mode": {
    "name": "ipython",
    "version": 3
   },
   "file_extension": ".py",
   "mimetype": "text/x-python",
   "name": "python",
   "nbconvert_exporter": "python",
   "pygments_lexer": "ipython3",
   "version": "3.10.13"
  }
 },
 "nbformat": 4,
 "nbformat_minor": 5
}

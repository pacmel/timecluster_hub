{
 "cells": [
  {
   "cell_type": "markdown",
   "id": "122a4c18-39d1-4479-8398-38afc4dc77b6",
   "metadata": {},
   "source": [
    "# Notebook para \"jugar\" con los pasos de xai-LRP antes de dejar los definitivos\n",
    "> No mergear con master..."
   ]
  },
  {
   "cell_type": "markdown",
   "id": "3d21e8f9-282d-4d48-85e8-84364940c64c",
   "metadata": {},
   "source": [
    "### Enlace video de Eamonn de Motifs & Matrix Profiling\n",
    "- Video: [youtube - Eamonn](https://www.youtube.com/watch?v=BYjOp2NoDdc)\n",
    "- Slides: [dropbox](https://www.dropbox.com/s/i38eyidz1qo9pi3/Motifs.pptx?dl=0)\n",
    "- Video [youtube-Stumpy](https://www.youtube.com/watch?v=T9_z7EpA8QM)\n",
    "- Documentation ["
   ]
  },
  {
   "cell_type": "code",
   "execution_count": null,
   "id": "ed4b9186-a071-4ca4-a957-7640a8cca132",
   "metadata": {},
   "outputs": [],
   "source": [
    "#Weight & Biases\n",
    "import wandb\n",
    "\n",
    "#Yaml\n",
    "from yaml import load, FullLoader\n",
    "\n",
    "#Embeddings\n",
    "from dvats.all import *\n",
    "from tsai.data.preparation import prepare_forecasting_data\n",
    "from tsai.data.validation import get_forecasting_splits\n",
    "from fastcore.all import *\n",
    "\n",
    "#Dimensionality reduction\n",
    "from tsai.imports import *\n",
    "\n",
    "#Clustering\n",
    "import hdbscan\n",
    "import os\n",
    "import seaborn as sns\n"
   ]
  },
  {
   "cell_type": "code",
   "execution_count": null,
   "id": "718bb8cc-8411-47f5-9519-a0599188fb43",
   "metadata": {},
   "outputs": [],
   "source": [
    "check_memory_usage = True"
   ]
  },
  {
   "cell_type": "code",
   "execution_count": null,
   "id": "35c9f098-6ec4-4697-9472-7ba3fd8d904a",
   "metadata": {},
   "outputs": [],
   "source": [
    "import utils.config as cfg_"
   ]
  },
  {
   "cell_type": "code",
   "execution_count": null,
   "id": "a51252c1-d435-475c-9d40-5bebaef18726",
   "metadata": {},
   "outputs": [],
   "source": [
    "config = cfg_.get_artifact_config_xai_lrp(False)"
   ]
  },
  {
   "cell_type": "code",
   "execution_count": null,
   "id": "02966562-97c7-46cc-b3ee-08343e9214da",
   "metadata": {},
   "outputs": [],
   "source": [
    "cfg_.show_attrdict(config)"
   ]
  },
  {
   "cell_type": "code",
   "execution_count": null,
   "id": "adf4d8a2-76c4-4760-97de-2e1091e1b6b8",
   "metadata": {},
   "outputs": [],
   "source": [
    "api = wandb.Api()"
   ]
  },
  {
   "cell_type": "code",
   "execution_count": null,
   "id": "7a55177a-90f2-4db2-9064-047513d99781",
   "metadata": {},
   "outputs": [],
   "source": [
    "import os\n",
    "path = os.path.expanduser(\"~/work/nbs_pipeline/\")\n",
    "name=\"05-xai-lrp_\"\n",
    "runname = name\n",
    "os.environ[\"WANDB_NOTEBOOK_NAME\"] = path+name+\".ipynb\""
   ]
  },
  {
   "cell_type": "code",
   "execution_count": null,
   "id": "1e0d9cea-b9ec-4556-ad0a-e66f7b0b99a1",
   "metadata": {},
   "outputs": [],
   "source": [
    "run_dr = wandb.init(\n",
    "    entity           = config.wandb_entity,\n",
    "    project          = config.wandb_project if config.use_wandb else 'work-nbs', \n",
    "    group            = config.wandb_group,\n",
    "    allow_val_change = config.allow_val_change, \n",
    "    job_type         = config.job_type, \n",
    "    mode             = 'online' if config.use_wandb else 'disabled',\n",
    "    anonymous        = 'never' if config.use_wandb else 'must',\n",
    "    config           =  config,\n",
    "    resume           = 'allow',\n",
    "    name = runname\n",
    ")\n",
    "config_dr = wandb.config # Object for storing hyperparameters"
   ]
  },
  {
   "cell_type": "code",
   "execution_count": null,
   "id": "0aa1b4d9-0163-4787-86e9-44a7987a6700",
   "metadata": {},
   "outputs": [],
   "source": [
    "df, df_config, enc_artifact, enc_learner = get_dataset(config, run_dr, config_dr, True)"
   ]
  },
  {
   "cell_type": "code",
   "execution_count": null,
   "id": "d6d17831-8959-4293-b9bd-faad6c327e67",
   "metadata": {},
   "outputs": [],
   "source": [
    "show_time_series_flag = False\n",
    "if show_time_series_flag:\n",
    "    # Show time series plot\n",
    "    fig, ax = plt.subplots(1, figsize=(15,5), )\n",
    "    cmap = matplotlib.colormaps.get_cmap('viridis')\n",
    "    df.plot(color=cmap(0.05), ax=ax) # or use colormap=cmap\n",
    "    # rect = Rectangle((5000, -4.2), 3000, 8.4, facecolor='lightgrey', alpha=0.5)\n",
    "    # ax.add_patch(rect)\n",
    "    plt.tight_layout()\n",
    "    plt.legend()\n",
    "    plt.show()"
   ]
  },
  {
   "cell_type": "code",
   "execution_count": null,
   "id": "ee5f6c07-ba32-4b2d-95c6-b498b01804ef",
   "metadata": {},
   "outputs": [],
   "source": [
    "w = enc_artifact.metadata['w']\n",
    "t_start = time.time()\n",
    "enc_input, _ = prepare_forecasting_data(df, fcst_history = w)\n",
    "t_end = time.time()\n",
    "t = t_end - t_start\n",
    "print(\"SW start | \" , t_start, \" | end \", t_end, \"total (secs): \", t)\n",
    "print(enc_input.shape)"
   ]
  },
  {
   "cell_type": "code",
   "execution_count": null,
   "id": "69e50460-00cf-4fad-90cc-6dc83d1d6d90",
   "metadata": {},
   "outputs": [],
   "source": [
    "stride = df_config['stride']\n",
    "batch_size = df_config['batch_size']\n",
    "\n",
    "##### Check de toy ####\n",
    "stride = 5\n",
    "####"
   ]
  },
  {
   "cell_type": "code",
   "execution_count": null,
   "id": "115fb9b0-19bd-44f9-a42f-a89a81b332dc",
   "metadata": {},
   "outputs": [],
   "source": [
    "print(stride)\n",
    "print(batch_size)\n",
    "print(enc_input.shape)\n",
    "print(enc_artifact.name)"
   ]
  },
  {
   "cell_type": "code",
   "execution_count": null,
   "id": "245b0441-a2ad-4f5e-bd52-4a5d00818c4d",
   "metadata": {},
   "outputs": [],
   "source": [
    "chunk_max = 10000000\n",
    "shape = enc_input.shape\n",
    "chunk_size_ = min(shape[1]*shape[2],chunk_max/(shape[1]*shape[2]))\n",
    "N = max(3200,np.floor(chunk_size_/32))\n",
    "chunk_size = N*32\n",
    "chunk_size"
   ]
  },
  {
   "cell_type": "code",
   "execution_count": null,
   "id": "7fe3584d-8551-445e-8fd0-64a9039bee79",
   "metadata": {},
   "outputs": [],
   "source": [
    "t_start = time.time()\n",
    "embs = get_enc_embs_set_stride_set_batch_size(\n",
    "    enc_input, \n",
    "    enc_learner, \n",
    "    stride     = stride,\n",
    "    batch_size = batch_size,\n",
    "    cpu        = config.cpu_flag,\n",
    "    to_numpy   = True, \n",
    "    print_flag = False,\n",
    "    time_flag  = True,\n",
    "    chunk_size = chunk_size\n",
    ")\n",
    "t_end = time.time()\n",
    "t = t_end-t_start\n",
    "print(\"GE start | \" , t_start, \" | end \", t_end, \"total (secs): \", t)"
   ]
  },
  {
   "cell_type": "code",
   "execution_count": null,
   "id": "166412ee-4e20-4ee4-9356-0b6b68965b2c",
   "metadata": {},
   "outputs": [],
   "source": [
    "embs.shape"
   ]
  },
  {
   "cell_type": "code",
   "execution_count": null,
   "id": "71af7ebc-1305-4c8e-acf3-caf07cc8eabb",
   "metadata": {},
   "outputs": [],
   "source": [
    "#Ensure no nan ((Intento de Macu. La celda de comentada abajo es la original. Pero falla por Nan con sunspot))\n",
    "embs_no_nan = embs[~np.isnan(embs).any(axis=1)]\n",
    "embs_no_nan.shape"
   ]
  },
  {
   "cell_type": "code",
   "execution_count": null,
   "id": "5e642741-95ba-415f-9800-cbd95d6d71f6",
   "metadata": {},
   "outputs": [],
   "source": [
    "prjs = get_prjs(embs_no_nan, config_dr, config, False)"
   ]
  },
  {
   "cell_type": "code",
   "execution_count": null,
   "id": "940d48e4-82f2-488f-9942-0c70b20ebeea",
   "metadata": {},
   "outputs": [],
   "source": [
    "# Define HDBSCAN parameters\n",
    "hdbscan_kwargs = {\n",
    "    'min_cluster_size' : 7, #100, #100,\n",
    "    'min_samples' : 3,\n",
    "    'cluster_selection_epsilon' : 0.0001,\n",
    "}\n",
    "metric_kwargs = {\n",
    "    'metric' : 'euclidean' #'jaccard'\n",
    "}"
   ]
  },
  {
   "cell_type": "code",
   "execution_count": null,
   "id": "be00dce5-d476-43e7-8175-dfb8c856581c",
   "metadata": {},
   "outputs": [],
   "source": [
    "# Create clusters using HDBSCAN\n",
    "clusters = hdbscan.HDBSCAN(**hdbscan_kwargs, **metric_kwargs).fit(prjs)\n",
    "clusters_labels = clusters.labels_\n",
    "list(Counter(clusters_labels).items())"
   ]
  },
  {
   "cell_type": "code",
   "execution_count": null,
   "id": "6f2daf80-7fdb-41ce-adba-bfa41b8862da",
   "metadata": {},
   "outputs": [],
   "source": [
    "score = cluster_score(prjs, clusters_labels, True)"
   ]
  },
  {
   "cell_type": "code",
   "execution_count": null,
   "id": "bab86d17-1a05-47ed-b58f-fef6f9e41e62",
   "metadata": {},
   "outputs": [],
   "source": [
    "# Testing artifact structure \n",
    "test_eq_type(type(clusters_labels), np.ndarray)\n",
    "test_eq(clusters_labels.size, prjs.shape[0])"
   ]
  },
  {
   "cell_type": "code",
   "execution_count": null,
   "id": "647e87a7-1119-47f3-8231-42cb4bafe1c7",
   "metadata": {},
   "outputs": [],
   "source": [
    "# Create and log 'clusters_labels' artifact\n",
    "clusters_ar = ReferenceArtifact(obj=clusters_labels, name='clusters_labels')\n",
    "clusters_ar.metadata, clusters_ar.manifest.entries.values()"
   ]
  },
  {
   "cell_type": "code",
   "execution_count": null,
   "id": "eb1cfe10-ef06-4fad-ba76-efd9a0ae2580",
   "metadata": {},
   "outputs": [],
   "source": [
    "# Create clusters using HDBSCAN\n",
    "clusters = hdbscan.HDBSCAN(**hdbscan_kwargs, **metric_kwargs).fit(prjs)\n",
    "clusters_labels = clusters.labels_\n",
    "list(Counter(clusters_labels).items())"
   ]
  },
  {
   "cell_type": "markdown",
   "id": "58a5a381-f902-46a6-9c13-e3dbfc453bd8",
   "metadata": {},
   "source": [
    "## Anomalies simple detector: dynamic plot for determining wether a window of time series is anomalous"
   ]
  },
  {
   "cell_type": "code",
   "execution_count": null,
   "id": "0ea5b4a5-750d-461b-acf7-7c6171a21330",
   "metadata": {},
   "outputs": [],
   "source": [
    "#anomaly_scores = detector(prjs_umap, clusters_labels)\n",
    "anomaly_scores = detector(prjs, clusters.labels_)"
   ]
  },
  {
   "cell_type": "code",
   "execution_count": null,
   "id": "3a6ea1b6-25a4-4c39-88ac-7922a0dcd684",
   "metadata": {},
   "outputs": [],
   "source": [
    "plot_anomaly_scores_distribution(anomaly_scores)"
   ]
  },
  {
   "cell_type": "code",
   "execution_count": null,
   "id": "c4c06313-f1bd-4aeb-b92a-49aef48a0261",
   "metadata": {},
   "outputs": [],
   "source": [
    "print(anomaly_scores.shape)\n",
    "print(\"min \", np.min(anomaly_scores))\n",
    "print(\"max \", np.max(anomaly_scores))\n",
    "anomaly_scores_mean = np.mean(anomaly_scores)\n",
    "print(\"media \", anomaly_scores_mean)\n",
    "anomaly_scores_std = np.std(anomaly_scores)\n",
    "print(\"std \", anomaly_scores_std)"
   ]
  },
  {
   "cell_type": "code",
   "execution_count": null,
   "id": "ed456ee1-d82a-4203-8b55-ebcfedcbf2bf",
   "metadata": {},
   "outputs": [],
   "source": [
    "threshold = pd.Series(clusters.outlier_scores_).quantile(0.9)"
   ]
  },
  {
   "cell_type": "code",
   "execution_count": null,
   "id": "cbc7e485-34bc-4450-be76-7dbb95388116",
   "metadata": {},
   "outputs": [],
   "source": [
    "import ipywidgets as widgets"
   ]
  },
  {
   "cell_type": "code",
   "execution_count": null,
   "id": "4d42509b-40e6-4e58-86e5-454dbf85893f",
   "metadata": {},
   "outputs": [],
   "source": [
    "fig_size = (7,7)\n",
    "plot_clusters_with_anomalies_interactive_plot(threshold, prjs, clusters_labels, anomaly_scores, fig_size)"
   ]
  },
  {
   "cell_type": "code",
   "execution_count": null,
   "id": "e8af2d56-d7e1-4fbd-a022-32c2eed68cb8",
   "metadata": {},
   "outputs": [],
   "source": []
  },
  {
   "cell_type": "markdown",
   "id": "297ebfd2-08a1-49ef-8312-6ab0d8582fa1",
   "metadata": {},
   "source": [
    "#### Using quartiles for the scores"
   ]
  },
  {
   "cell_type": "code",
   "execution_count": null,
   "id": "3a1fc872-40ab-413b-a81e-f83e320856a8",
   "metadata": {},
   "outputs": [],
   "source": [
    "def detect_anomalies_using_iqr(scores):\n",
    "    # First and third quartiles\n",
    "    Q1 = np.percentile(scores, 25)\n",
    "    Q3 = np.percentile(scores, 75)\n",
    "    # IQR range\n",
    "    IQR = Q3 - Q1\n",
    "    \n",
    "    #Limits for anomalies\n",
    "    factor = 1.5\n",
    "    lower_bound = Q1 - (factor * IQR)\n",
    "    upper_bound = Q3 + (factor * IQR)\n",
    "    \n",
    "    # Get anomalies\n",
    "    anomalies = (scores < lower_bound) | (scores > upper_bound)\n",
    "    \n",
    "    return anomalies, lower_bound, upper_bound"
   ]
  },
  {
   "cell_type": "code",
   "execution_count": null,
   "id": "87ecb134-f687-4c3b-b1ab-af4a96f57931",
   "metadata": {},
   "outputs": [],
   "source": [
    "anomalies, lower_bound, upper_bound = detect_anomalies_using_iqr(anomaly_scores)\n",
    "\n",
    "print(\"Lower Bound for Anomalies:\", lower_bound)\n",
    "print(\"Upper Bound for Anomalies:\", upper_bound)"
   ]
  },
  {
   "cell_type": "code",
   "execution_count": null,
   "id": "eec52ad5-9413-4373-970b-b02054498903",
   "metadata": {},
   "outputs": [],
   "source": [
    "def plot_data_with_anomalies(data, anomalies):\n",
    "    plt.scatter(data[:, 0], data[:, 1], color='blue', label='Normal Data')\n",
    "    plt.scatter(data[anomalies, 0], data[anomalies, 1], color='red', label='Anomalies')\n",
    "    plt.title('Data with Anomalies highlighted')\n",
    "    plt.xlabel('Feature 1')\n",
    "    plt.ylabel('Feature 2')\n",
    "    plt.legend()\n",
    "    plt.show()"
   ]
  },
  {
   "cell_type": "code",
   "execution_count": null,
   "id": "3e8aed9a-13c9-4eb9-9924-96bfa1d00a7b",
   "metadata": {},
   "outputs": [],
   "source": [
    "plot_data_with_anomalies(prjs, anomalies)"
   ]
  }
 ],
 "metadata": {
  "kernelspec": {
   "display_name": "Python 3 (ipykernel)",
   "language": "python",
   "name": "python3"
  }
 },
 "nbformat": 4,
 "nbformat_minor": 5
}

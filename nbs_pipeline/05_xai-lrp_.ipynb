{
 "cells": [
  {
   "cell_type": "markdown",
   "id": "122a4c18-39d1-4479-8398-38afc4dc77b6",
   "metadata": {},
   "source": [
    "# Notebook para \"jugar\" con los pasos de xai-LRP antes de dejar los definitivos\n",
    "> No mergear con master..."
   ]
  },
  {
   "cell_type": "markdown",
   "id": "3d21e8f9-282d-4d48-85e8-84364940c64c",
   "metadata": {},
   "source": [
    "### Enlace video de Eamonn de Motifs & Matrix Profiling\n",
    "- Video: [youtube](https://www.youtube.com/watch?v=BYjOp2NoDdc)\n",
    "- Slides: [dropbox](https://www.dropbox.com/s/i38eyidz1qo9pi3/Motifs.pptx?dl=0)"
   ]
  },
  {
   "cell_type": "code",
   "execution_count": 2,
   "id": "ed4b9186-a071-4ca4-a957-7640a8cca132",
   "metadata": {},
   "outputs": [],
   "source": [
    "#Weight & Biases\n",
    "import wandb\n",
    "\n",
    "#Yaml\n",
    "from yaml import load, FullLoader\n",
    "\n",
    "#Embeddings\n",
    "from dvats.all import *\n",
    "from tsai.data.preparation import prepare_forecasting_data\n",
    "from tsai.data.validation import get_forecasting_splits\n",
    "from fastcore.all import *\n",
    "\n",
    "#Dimensionality reduction\n",
    "from tsai.imports import *\n",
    "\n",
    "#Clustering\n",
    "import hdbscan"
   ]
  },
  {
   "cell_type": "code",
   "execution_count": 3,
   "id": "718bb8cc-8411-47f5-9519-a0599188fb43",
   "metadata": {},
   "outputs": [],
   "source": [
    "check_memory_usage = True"
   ]
  },
  {
   "cell_type": "code",
   "execution_count": 4,
   "id": "35c9f098-6ec4-4697-9472-7ba3fd8d904a",
   "metadata": {},
   "outputs": [],
   "source": [
    "import utils.config as cfg_"
   ]
  },
  {
   "cell_type": "code",
   "execution_count": 5,
   "id": "bdc41381-b2d1-4302-b500-b5b61281dbb4",
   "metadata": {},
   "outputs": [
    {
     "name": "stdout",
     "output_type": "stream",
     "text": [
      "./config/05-xai_lrp.yaml\n"
     ]
    }
   ],
   "source": [
    "! ls './config/05'*"
   ]
  },
  {
   "cell_type": "code",
   "execution_count": 6,
   "id": "a51252c1-d435-475c-9d40-5bebaef18726",
   "metadata": {},
   "outputs": [],
   "source": [
    "config = cfg_.get_artifact_config_xai_lrp(False)"
   ]
  },
  {
   "cell_type": "code",
   "execution_count": 7,
   "id": "02966562-97c7-46cc-b3ee-08343e9214da",
   "metadata": {},
   "outputs": [
    {
     "name": "stdout",
     "output_type": "stream",
     "text": [
      "use_wandb: True\n",
      "wandb_group: None\n",
      "wandb_entity: mi-santamaria\n",
      "wandb_project: deepvats\n",
      "valid_artifact: None\n",
      "train_artifact: mi-santamaria/deepvats/mvp-SWV:latest\n",
      "n_neighbors: 15\n",
      "min_dist: 0.1\n",
      "random_state: 1234\n",
      "metric: euclidean\n",
      "cpu_flag: True\n",
      "job_type: layer_relevance_propagation\n",
      "allow_val_change: <function true at 0x7fdfe047ecb0>\n"
     ]
    }
   ],
   "source": [
    "cfg_.show_attrdict(config)"
   ]
  }
 ],
 "metadata": {
  "kernelspec": {
   "display_name": "Python 3 (ipykernel)",
   "language": "python",
   "name": "python3"
  },
  "language_info": {
   "codemirror_mode": {
    "name": "ipython",
    "version": 3
   },
   "file_extension": ".py",
   "mimetype": "text/x-python",
   "name": "python",
   "nbconvert_exporter": "python",
   "pygments_lexer": "ipython3",
   "version": "3.10.13"
  }
 },
 "nbformat": 4,
 "nbformat_minor": 5
}

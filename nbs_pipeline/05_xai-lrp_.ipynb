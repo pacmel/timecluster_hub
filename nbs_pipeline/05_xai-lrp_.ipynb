{
 "cells": [
  {
   "cell_type": "markdown",
   "id": "122a4c18-39d1-4479-8398-38afc4dc77b6",
   "metadata": {},
   "source": [
    "# Notebook para \"jugar\" con los pasos de xai-LRP antes de dejar los definitivos\n",
    "> No mergear con master..."
   ]
  },
  {
   "cell_type": "markdown",
   "id": "3d21e8f9-282d-4d48-85e8-84364940c64c",
   "metadata": {},
   "source": [
    "### Enlace video de Eamonn de Motifs & Matrix Profiling\n",
    "- Video: [youtube](https://www.youtube.com/watch?v=BYjOp2NoDdc)\n",
    "- Slides: [dropbox](https://www.dropbox.com/s/i38eyidz1qo9pi3/Motifs.pptx?dl=0)"
   ]
  },
  {
   "cell_type": "code",
   "execution_count": 1,
   "id": "ed4b9186-a071-4ca4-a957-7640a8cca132",
   "metadata": {},
   "outputs": [],
   "source": [
    "#Weight & Biases\n",
    "import wandb\n",
    "\n",
    "#Yaml\n",
    "from yaml import load, FullLoader\n",
    "\n",
    "#Embeddings\n",
    "from dvats.all import *\n",
    "from tsai.data.preparation import prepare_forecasting_data\n",
    "from tsai.data.validation import get_forecasting_splits\n",
    "from fastcore.all import *\n",
    "\n",
    "#Dimensionality reduction\n",
    "from tsai.imports import *\n",
    "\n",
    "#Clustering\n",
    "import hdbscan\n",
    "import os\n",
    "import seaborn as sns\n"
   ]
  },
  {
   "cell_type": "code",
   "execution_count": 2,
   "id": "718bb8cc-8411-47f5-9519-a0599188fb43",
   "metadata": {},
   "outputs": [],
   "source": [
    "check_memory_usage = True"
   ]
  },
  {
   "cell_type": "code",
   "execution_count": 3,
   "id": "35c9f098-6ec4-4697-9472-7ba3fd8d904a",
   "metadata": {},
   "outputs": [],
   "source": [
    "import utils.config as cfg_"
   ]
  },
  {
   "cell_type": "code",
   "execution_count": 4,
   "id": "a51252c1-d435-475c-9d40-5bebaef18726",
   "metadata": {},
   "outputs": [],
   "source": [
    "config = cfg_.get_artifact_config_xai_lrp(False)"
   ]
  },
  {
   "cell_type": "code",
   "execution_count": 5,
   "id": "02966562-97c7-46cc-b3ee-08343e9214da",
   "metadata": {},
   "outputs": [
    {
     "name": "stdout",
     "output_type": "stream",
     "text": [
      "use_wandb: True\n",
      "wandb_group: None\n",
      "wandb_entity: mi-santamaria\n",
      "wandb_project: deepvats\n",
      "valid_artifact: None\n",
      "train_artifact: mi-santamaria/deepvats/mvp-SWV:latest\n",
      "enc_artifact: mi-santamaria/deepvats/mvp-SWV:latest\n",
      "n_neighbors: 15\n",
      "min_dist: 0.1\n",
      "random_state: 1234\n",
      "metric: euclidean\n",
      "cpu_flag: False\n",
      "job_type: layer_relevance_propagation\n",
      "allow_val_change: True\n",
      "dr_artifact: None\n"
     ]
    }
   ],
   "source": [
    "cfg_.show_attrdict(config)"
   ]
  },
  {
   "cell_type": "code",
   "execution_count": 6,
   "id": "adf4d8a2-76c4-4760-97de-2e1091e1b6b8",
   "metadata": {},
   "outputs": [],
   "source": [
    "api = wandb.Api()"
   ]
  },
  {
   "cell_type": "code",
   "execution_count": 7,
   "id": "7a55177a-90f2-4db2-9064-047513d99781",
   "metadata": {},
   "outputs": [],
   "source": [
    "import os\n",
    "path = os.path.expanduser(\"~/work/nbs_pipeline/\")\n",
    "name=\"05-xai-lrp_\"\n",
    "runname = name\n",
    "os.environ[\"WANDB_NOTEBOOK_NAME\"] = path+name+\".ipynb\""
   ]
  },
  {
   "cell_type": "code",
   "execution_count": 8,
   "id": "1e0d9cea-b9ec-4556-ad0a-e66f7b0b99a1",
   "metadata": {},
   "outputs": [
    {
     "name": "stderr",
     "output_type": "stream",
     "text": [
      "\u001b[34m\u001b[1mwandb\u001b[0m: \u001b[33mWARNING\u001b[0m WANDB_NOTEBOOK_NAME should be a path to a notebook file, couldn't find /home/macu/work/nbs_pipeline/05-xai-lrp_.ipynb.\n",
      "\u001b[34m\u001b[1mwandb\u001b[0m: Currently logged in as: \u001b[33mmi-santamaria\u001b[0m. Use \u001b[1m`wandb login --relogin`\u001b[0m to force relogin\n"
     ]
    },
    {
     "data": {
      "text/html": [
       "wandb version 0.16.2 is available!  To upgrade, please run:\n",
       " $ pip install wandb --upgrade"
      ],
      "text/plain": [
       "<IPython.core.display.HTML object>"
      ]
     },
     "metadata": {},
     "output_type": "display_data"
    },
    {
     "data": {
      "text/html": [
       "Tracking run with wandb version 0.14.2"
      ],
      "text/plain": [
       "<IPython.core.display.HTML object>"
      ]
     },
     "metadata": {},
     "output_type": "display_data"
    },
    {
     "data": {
      "text/html": [
       "Run data is saved locally in <code>/home/macu/work/wandb/run-20240205_160743-jntaikun</code>"
      ],
      "text/plain": [
       "<IPython.core.display.HTML object>"
      ]
     },
     "metadata": {},
     "output_type": "display_data"
    },
    {
     "data": {
      "text/html": [
       "Syncing run <strong><a href='https://wandb.ai/mi-santamaria/deepvats/runs/jntaikun' target=\"_blank\">05-xai-lrp_</a></strong> to <a href='https://wandb.ai/mi-santamaria/deepvats' target=\"_blank\">Weights & Biases</a> (<a href='https://wandb.me/run' target=\"_blank\">docs</a>)<br/>"
      ],
      "text/plain": [
       "<IPython.core.display.HTML object>"
      ]
     },
     "metadata": {},
     "output_type": "display_data"
    },
    {
     "data": {
      "text/html": [
       " View project at <a href='https://wandb.ai/mi-santamaria/deepvats' target=\"_blank\">https://wandb.ai/mi-santamaria/deepvats</a>"
      ],
      "text/plain": [
       "<IPython.core.display.HTML object>"
      ]
     },
     "metadata": {},
     "output_type": "display_data"
    },
    {
     "data": {
      "text/html": [
       " View run at <a href='https://wandb.ai/mi-santamaria/deepvats/runs/jntaikun' target=\"_blank\">https://wandb.ai/mi-santamaria/deepvats/runs/jntaikun</a>"
      ],
      "text/plain": [
       "<IPython.core.display.HTML object>"
      ]
     },
     "metadata": {},
     "output_type": "display_data"
    }
   ],
   "source": [
    "run_dr = wandb.init(\n",
    "    entity           = config.wandb_entity,\n",
    "    project          = config.wandb_project if config.use_wandb else 'work-nbs', \n",
    "    group            = config.wandb_group,\n",
    "    allow_val_change = config.allow_val_change, \n",
    "    job_type         = config.job_type, \n",
    "    mode             = 'online' if config.use_wandb else 'disabled',\n",
    "    anonymous        = 'never' if config.use_wandb else 'must',\n",
    "    config           =  config,\n",
    "    resume           = 'allow',\n",
    "    name = runname\n",
    ")\n",
    "config_dr = wandb.config # Object for storing hyperparameters"
   ]
  },
  {
   "cell_type": "code",
   "execution_count": 9,
   "id": "0aa1b4d9-0163-4787-86e9-44a7987a6700",
   "metadata": {},
   "outputs": [
    {
     "name": "stdout",
     "output_type": "stream",
     "text": [
      "mvp-SWV:v66\n"
     ]
    },
    {
     "name": "stderr",
     "output_type": "stream",
     "text": [
      "\u001b[34m\u001b[1mwandb\u001b[0m:   1 of 1 files downloaded.  \n"
     ]
    },
    {
     "name": "stdout",
     "output_type": "stream",
     "text": [
      "enc_artifact_train:  toy:v2\n",
      "DR artifact train:  toy:v2\n"
     ]
    },
    {
     "name": "stderr",
     "output_type": "stream",
     "text": [
      "\u001b[34m\u001b[1mwandb\u001b[0m:   1 of 1 files downloaded.  \n"
     ]
    },
    {
     "data": {
      "text/html": [
       "<div>\n",
       "<style scoped>\n",
       "    .dataframe tbody tr th:only-of-type {\n",
       "        vertical-align: middle;\n",
       "    }\n",
       "\n",
       "    .dataframe tbody tr th {\n",
       "        vertical-align: top;\n",
       "    }\n",
       "\n",
       "    .dataframe thead th {\n",
       "        text-align: right;\n",
       "    }\n",
       "</style>\n",
       "<table border=\"1\" class=\"dataframe\">\n",
       "  <thead>\n",
       "    <tr style=\"text-align: right;\">\n",
       "      <th></th>\n",
       "      <th>T3</th>\n",
       "      <th>T2</th>\n",
       "      <th>T1</th>\n",
       "    </tr>\n",
       "  </thead>\n",
       "  <tbody>\n",
       "    <tr>\n",
       "      <th>1970-01-01 00:00:00</th>\n",
       "      <td>0.741822</td>\n",
       "      <td>0.637180</td>\n",
       "      <td>0.565117</td>\n",
       "    </tr>\n",
       "    <tr>\n",
       "      <th>1970-01-01 00:00:01</th>\n",
       "      <td>0.739731</td>\n",
       "      <td>0.629415</td>\n",
       "      <td>0.493513</td>\n",
       "    </tr>\n",
       "    <tr>\n",
       "      <th>1970-01-01 00:00:02</th>\n",
       "      <td>0.718757</td>\n",
       "      <td>0.539220</td>\n",
       "      <td>0.469350</td>\n",
       "    </tr>\n",
       "    <tr>\n",
       "      <th>1970-01-01 00:00:03</th>\n",
       "      <td>0.730169</td>\n",
       "      <td>0.577670</td>\n",
       "      <td>0.444100</td>\n",
       "    </tr>\n",
       "    <tr>\n",
       "      <th>1970-01-01 00:00:04</th>\n",
       "      <td>0.752406</td>\n",
       "      <td>0.570180</td>\n",
       "      <td>0.373008</td>\n",
       "    </tr>\n",
       "  </tbody>\n",
       "</table>\n",
       "</div>"
      ],
      "text/plain": [
       "                           T3        T2        T1\n",
       "1970-01-01 00:00:00  0.741822  0.637180  0.565117\n",
       "1970-01-01 00:00:01  0.739731  0.629415  0.493513\n",
       "1970-01-01 00:00:02  0.718757  0.539220  0.469350\n",
       "1970-01-01 00:00:03  0.730169  0.577670  0.444100\n",
       "1970-01-01 00:00:04  0.752406  0.570180  0.373008"
      ]
     },
     "metadata": {},
     "output_type": "display_data"
    }
   ],
   "source": [
    "df, df_config, enc_artifact, enc_learner = get_dataset(config, run_dr, config_dr, True)"
   ]
  },
  {
   "cell_type": "code",
   "execution_count": 10,
   "id": "d6d17831-8959-4293-b9bd-faad6c327e67",
   "metadata": {},
   "outputs": [],
   "source": [
    "show_time_series_flag = False\n",
    "if show_time_series_flag:\n",
    "    # Show time series plot\n",
    "    fig, ax = plt.subplots(1, figsize=(15,5), )\n",
    "    cmap = matplotlib.colormaps.get_cmap('viridis')\n",
    "    df.plot(color=cmap(0.05), ax=ax) # or use colormap=cmap\n",
    "    # rect = Rectangle((5000, -4.2), 3000, 8.4, facecolor='lightgrey', alpha=0.5)\n",
    "    # ax.add_patch(rect)\n",
    "    plt.tight_layout()\n",
    "    plt.legend()\n",
    "    plt.show()"
   ]
  },
  {
   "cell_type": "code",
   "execution_count": 11,
   "id": "ee5f6c07-ba32-4b2d-95c6-b498b01804ef",
   "metadata": {},
   "outputs": [
    {
     "name": "stdout",
     "output_type": "stream",
     "text": [
      "SW start |  1707149275.4529903  | end  1707149275.453492 total (secs):  0.0005016326904296875\n",
      "(520, 3, 30)\n"
     ]
    }
   ],
   "source": [
    "w = enc_artifact.metadata['w']\n",
    "t_start = time.time()\n",
    "enc_input, _ = prepare_forecasting_data(df, fcst_history = w)\n",
    "t_end = time.time()\n",
    "t = t_end - t_start\n",
    "print(\"SW start | \" , t_start, \" | end \", t_end, \"total (secs): \", t)\n",
    "print(enc_input.shape)"
   ]
  },
  {
   "cell_type": "code",
   "execution_count": 12,
   "id": "69e50460-00cf-4fad-90cc-6dc83d1d6d90",
   "metadata": {},
   "outputs": [],
   "source": [
    "stride = df_config['stride']\n",
    "batch_size = df_config['batch_size']\n",
    "\n",
    "##### Check de toy ####\n",
    "stride = 5\n",
    "####"
   ]
  },
  {
   "cell_type": "code",
   "execution_count": 13,
   "id": "115fb9b0-19bd-44f9-a42f-a89a81b332dc",
   "metadata": {},
   "outputs": [
    {
     "name": "stdout",
     "output_type": "stream",
     "text": [
      "5\n",
      "None\n",
      "(520, 3, 30)\n",
      "mvp-SWV:v66\n"
     ]
    }
   ],
   "source": [
    "print(stride)\n",
    "print(batch_size)\n",
    "print(enc_input.shape)\n",
    "print(enc_artifact.name)"
   ]
  },
  {
   "cell_type": "code",
   "execution_count": 14,
   "id": "245b0441-a2ad-4f5e-bd52-4a5d00818c4d",
   "metadata": {},
   "outputs": [
    {
     "data": {
      "text/plain": [
       "102400"
      ]
     },
     "execution_count": 14,
     "metadata": {},
     "output_type": "execute_result"
    }
   ],
   "source": [
    "chunk_max = 10000000\n",
    "shape = enc_input.shape\n",
    "chunk_size_ = min(shape[1]*shape[2],chunk_max/(shape[1]*shape[2]))\n",
    "N = max(3200,np.floor(chunk_size_/32))\n",
    "chunk_size = N*32\n",
    "chunk_size"
   ]
  },
  {
   "cell_type": "code",
   "execution_count": 15,
   "id": "7fe3584d-8551-445e-8fd0-64a9039bee79",
   "metadata": {},
   "outputs": [
    {
     "name": "stdout",
     "output_type": "stream",
     "text": [
      "get_enc_embs_set_stride_set_batch_size 1.8158948421478271 seconds\n",
      "GE start |  1707149275.5057397  | end  1707149277.3247843 total (secs):  1.819044589996338\n"
     ]
    }
   ],
   "source": [
    "t_start = time.time()\n",
    "embs = get_enc_embs_set_stride_set_batch_size(\n",
    "    enc_input, \n",
    "    enc_learner, \n",
    "    stride     = stride,\n",
    "    batch_size = batch_size,\n",
    "    cpu        = config.cpu_flag,\n",
    "    to_numpy   = True, \n",
    "    print_flag = False,\n",
    "    time_flag  = True,\n",
    "    chunk_size = chunk_size\n",
    ")\n",
    "t_end = time.time()\n",
    "t = t_end-t_start\n",
    "print(\"GE start | \" , t_start, \" | end \", t_end, \"total (secs): \", t)"
   ]
  },
  {
   "cell_type": "code",
   "execution_count": 16,
   "id": "166412ee-4e20-4ee4-9356-0b6b68965b2c",
   "metadata": {},
   "outputs": [
    {
     "data": {
      "text/plain": [
       "(104, 128)"
      ]
     },
     "execution_count": 16,
     "metadata": {},
     "output_type": "execute_result"
    }
   ],
   "source": [
    "embs.shape"
   ]
  },
  {
   "cell_type": "code",
   "execution_count": 17,
   "id": "71af7ebc-1305-4c8e-acf3-caf07cc8eabb",
   "metadata": {},
   "outputs": [
    {
     "data": {
      "text/plain": [
       "(104, 128)"
      ]
     },
     "execution_count": 17,
     "metadata": {},
     "output_type": "execute_result"
    }
   ],
   "source": [
    "#Ensure no nan ((Intento de Macu. La celda de comentada abajo es la original. Pero falla por Nan con sunspot))\n",
    "embs_no_nan = embs[~np.isnan(embs).any(axis=1)]\n",
    "embs_no_nan.shape"
   ]
  },
  {
   "cell_type": "code",
   "execution_count": 18,
   "id": "5e642741-95ba-415f-9800-cbd95d6d71f6",
   "metadata": {},
   "outputs": [
    {
     "name": "stdout",
     "output_type": "stream",
     "text": [
      "[I] [16:07:57.367201] Unused keyword parameter: print_flag during cuML estimator initialization\n",
      "[I] [16:07:57.367871] Unused keyword parameter: n_neighbors during cuML estimator initialization\n",
      "[I] [16:07:57.368003] Unused keyword parameter: min_dist during cuML estimator initialization\n",
      "[I] [16:07:57.368130] Unused keyword parameter: metric during cuML estimator initialization\n",
      "[I] [16:07:57.368252] Unused keyword parameter: a during cuML estimator initialization\n",
      "[I] [16:07:57.368378] Unused keyword parameter: b during cuML estimator initialization\n",
      "[I] [16:07:57.368499] Unused keyword parameter: target_metric during cuML estimator initialization\n",
      "[I] [16:07:57.368618] Unused keyword parameter: target_n_neighbors during cuML estimator initialization\n",
      "[I] [16:07:57.368739] Unused keyword parameter: n_epochs during cuML estimator initialization\n",
      "[I] [16:07:57.368861] Unused keyword parameter: init during cuML estimator initialization\n",
      "[I] [16:07:57.368979] Unused keyword parameter: hash_input during cuML estimator initialization\n",
      "[W] [16:07:57.369496] Warning(`fit`): As of v0.16, PCA invoked without an n_components argument defauts to using min(n_samples, n_features) rather than 1\n",
      "GPU | Used mem: 11694\n",
      "GPU | Used mem: 24576\n",
      "GPU | Memory Usage: [\u001b[92m█████████-----------\u001b[0m] \u001b[92m48%\u001b[0m\n",
      "-- cuml.UMAP -- False\n",
      "GPU | Used mem: 11694\n",
      "GPU | Used mem: 24576\n",
      "GPU | Memory Usage: [\u001b[92m█████████-----------\u001b[0m] \u001b[92m48%\u001b[0m\n"
     ]
    }
   ],
   "source": [
    "prjs = get_prjs(embs_no_nan, config_dr, config, False)"
   ]
  },
  {
   "cell_type": "code",
   "execution_count": 19,
   "id": "940d48e4-82f2-488f-9942-0c70b20ebeea",
   "metadata": {},
   "outputs": [],
   "source": [
    "# Define HDBSCAN parameters\n",
    "hdbscan_kwargs = {\n",
    "    'min_cluster_size' : 7, #100, #100,\n",
    "    'min_samples' : 3,\n",
    "    'cluster_selection_epsilon' : 0.0001,\n",
    "}\n",
    "metric_kwargs = {\n",
    "    'metric' : 'euclidean' #'jaccard'\n",
    "}"
   ]
  },
  {
   "cell_type": "code",
   "execution_count": 20,
   "id": "be00dce5-d476-43e7-8175-dfb8c856581c",
   "metadata": {},
   "outputs": [
    {
     "data": {
      "text/plain": [
       "[(5, 9), (3, 20), (1, 15), (2, 9), (-1, 2), (0, 22), (6, 13), (4, 14)]"
      ]
     },
     "execution_count": 20,
     "metadata": {},
     "output_type": "execute_result"
    }
   ],
   "source": [
    "# Create clusters using HDBSCAN\n",
    "clusters = hdbscan.HDBSCAN(**hdbscan_kwargs, **metric_kwargs).fit(prjs)\n",
    "clusters_labels = clusters.labels_\n",
    "list(Counter(clusters_labels).items())"
   ]
  },
  {
   "cell_type": "code",
   "execution_count": 21,
   "id": "6f2daf80-7fdb-41ce-adba-bfa41b8862da",
   "metadata": {},
   "outputs": [
    {
     "name": "stdout",
     "output_type": "stream",
     "text": [
      "Silhouette_score: 0.5959915\n"
     ]
    }
   ],
   "source": [
    "score = cluster_score(prjs, clusters_labels, True)"
   ]
  },
  {
   "cell_type": "code",
   "execution_count": 22,
   "id": "bab86d17-1a05-47ed-b58f-fef6f9e41e62",
   "metadata": {},
   "outputs": [],
   "source": [
    "# Testing artifact structure \n",
    "test_eq_type(type(clusters_labels), np.ndarray)\n",
    "test_eq(clusters_labels.size, prjs.shape[0])"
   ]
  },
  {
   "cell_type": "code",
   "execution_count": 23,
   "id": "647e87a7-1119-47f3-8231-42cb4bafe1c7",
   "metadata": {},
   "outputs": [
    {
     "data": {
      "text/plain": [
       "({'ref': {'hash': '-5973073902057433261', 'type': \"<class 'numpy.ndarray'>\"}},\n",
       " dict_values([ArtifactManifestEntry(path='-5973073902057433261', digest='IXr4cLYR5IigmGfuSyIFlA==', ref='file:///home/macu/data/wandb_artifacts/-5973073902057433261', birth_artifact_id=None, size=982, extra={}, local_path=None)]))"
      ]
     },
     "execution_count": 23,
     "metadata": {},
     "output_type": "execute_result"
    }
   ],
   "source": [
    "# Create and log 'clusters_labels' artifact\n",
    "clusters_ar = ReferenceArtifact(obj=clusters_labels, name='clusters_labels')\n",
    "clusters_ar.metadata, clusters_ar.manifest.entries.values()"
   ]
  },
  {
   "cell_type": "code",
   "execution_count": 24,
   "id": "eb1cfe10-ef06-4fad-ba76-efd9a0ae2580",
   "metadata": {},
   "outputs": [
    {
     "data": {
      "text/plain": [
       "[(5, 9), (3, 20), (1, 15), (2, 9), (-1, 2), (0, 22), (6, 13), (4, 14)]"
      ]
     },
     "execution_count": 24,
     "metadata": {},
     "output_type": "execute_result"
    }
   ],
   "source": [
    "# Create clusters using HDBSCAN\n",
    "clusters = hdbscan.HDBSCAN(**hdbscan_kwargs, **metric_kwargs).fit(prjs)\n",
    "clusters_labels = clusters.labels_\n",
    "list(Counter(clusters_labels).items())"
   ]
  },
  {
   "cell_type": "markdown",
   "id": "58a5a381-f902-46a6-9c13-e3dbfc453bd8",
   "metadata": {},
   "source": [
    "## Anomalies simple detector: dynamic plot for determining wether a window of time series is anomalous"
   ]
  },
  {
   "cell_type": "code",
   "execution_count": 25,
   "id": "0ea5b4a5-750d-461b-acf7-7c6171a21330",
   "metadata": {},
   "outputs": [],
   "source": [
    "#anomaly_scores = detector(prjs_umap, clusters_labels)\n",
    "anomaly_scores = detector(prjs, clusters.labels_)"
   ]
  },
  {
   "cell_type": "code",
   "execution_count": 26,
   "id": "3a6ea1b6-25a4-4c39-88ac-7922a0dcd684",
   "metadata": {},
   "outputs": [
    {
     "data": {
      "image/png": "[encoded data removed]",
      "text/plain": [
       "<Figure size 1000x600 with 1 Axes>"
      ]
     },
     "metadata": {},
     "output_type": "display_data"
    }
   ],
   "source": [
    "plot_anomaly_scores_distribution(anomaly_scores)"
   ]
  },
  {
   "cell_type": "code",
   "execution_count": 27,
   "id": "c4c06313-f1bd-4aeb-b92a-49aef48a0261",
   "metadata": {},
   "outputs": [
    {
     "name": "stdout",
     "output_type": "stream",
     "text": [
      "(104,)\n",
      "min  0.26189974\n",
      "max  2.3245554\n",
      "media  1.2941792\n",
      "std  0.57017577\n"
     ]
    }
   ],
   "source": [
    "print(anomaly_scores.shape)\n",
    "print(\"min \", np.min(anomaly_scores))\n",
    "print(\"max \", np.max(anomaly_scores))\n",
    "anomaly_scores_mean = np.mean(anomaly_scores)\n",
    "print(\"media \", anomaly_scores_mean)\n",
    "anomaly_scores_std = np.std(anomaly_scores)\n",
    "print(\"std \", anomaly_scores_std)"
   ]
  },
  {
   "cell_type": "code",
   "execution_count": 28,
   "id": "ed456ee1-d82a-4203-8b55-ebcfedcbf2bf",
   "metadata": {},
   "outputs": [],
   "source": [
    "threshold = pd.Series(clusters.outlier_scores_).quantile(0.9)"
   ]
  },
  {
   "cell_type": "code",
   "execution_count": 29,
   "id": "cbc7e485-34bc-4450-be76-7dbb95388116",
   "metadata": {},
   "outputs": [],
   "source": [
    "import ipywidgets as widgets"
   ]
  },
  {
   "cell_type": "code",
   "execution_count": 32,
   "id": "4d42509b-40e6-4e58-86e5-454dbf85893f",
   "metadata": {},
   "outputs": [
    {
     "data": {
      "application/vnd.jupyter.widget-view+json": {
       "model_id": "5001661c5f1946b885c2f27444d6f957",
       "version_major": 2,
       "version_minor": 0
      },
      "text/plain": [
       "interactive(children=(FloatSlider(value=2.0, description='Threshold', max=3.0, min=1.0, step=0.01), Output()),…"
      ]
     },
     "metadata": {},
     "output_type": "display_data"
    }
   ],
   "source": [
    "fig_size = (7,7)\n",
    "plot_clusters_with_anomalies_interactive_plot(threshold, prjs, clusters_labels, anomaly_scores, fig_size)"
   ]
  }
 ],
 "metadata": {
  "kernelspec": {
   "display_name": "Python 3 (ipykernel)",
   "language": "python",
   "name": "python3"
  },
  "language_info": {
   "codemirror_mode": {
    "name": "ipython",
    "version": 3
   },
   "file_extension": ".py",
   "mimetype": "text/x-python",
   "name": "python",
   "nbconvert_exporter": "python",
   "pygments_lexer": "ipython3",
   "version": "3.10.13"
  }
 },
 "nbformat": 4,
 "nbformat_minor": 5
}

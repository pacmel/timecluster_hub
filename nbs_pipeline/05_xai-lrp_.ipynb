{
 "cells": [
  {
   "cell_type": "markdown",
   "id": "122a4c18-39d1-4479-8398-38afc4dc77b6",
   "metadata": {},
   "source": [
    "# Notebook para \"jugar\" con los pasos de xai-LRP antes de dejar los definitivos\n",
    "> No mergear con master..."
   ]
  },
  {
   "cell_type": "markdown",
   "id": "3d21e8f9-282d-4d48-85e8-84364940c64c",
   "metadata": {},
   "source": [
    "### Enlace video ¿de Eamonn? de Motifs & Matrix Profiling\n",
    "- Video: [youtube](https://www.youtube.com/watch?v=BYjOp2NoDdc)\n",
    "- Slides: [dropbox](https://www.dropbox.com/s/i38eyidz1qo9pi3/Motifs.pptx?dl=0)"
   ]
  },
  {
   "cell_type": "code",
   "execution_count": 1,
   "id": "ed4b9186-a071-4ca4-a957-7640a8cca132",
   "metadata": {},
   "outputs": [],
   "source": [
    "#Weight & Biases\n",
    "import wandb\n",
    "\n",
    "#Yaml\n",
    "from yaml import load, FullLoader\n",
    "\n",
    "#Embeddings\n",
    "from dvats.all import *\n",
    "from tsai.data.preparation import prepare_forecasting_data\n",
    "from tsai.data.validation import get_forecasting_splits\n",
    "from fastcore.all import *\n",
    "\n",
    "#Dimensionality reduction\n",
    "from tsai.imports import *\n",
    "\n",
    "#Clustering\n",
    "import hdbscan"
   ]
  },
  {
   "cell_type": "code",
   "execution_count": 2,
   "id": "718bb8cc-8411-47f5-9519-a0599188fb43",
   "metadata": {},
   "outputs": [],
   "source": [
    "check_memory_usage = True"
   ]
  },
  {
   "cell_type": "code",
   "execution_count": 3,
   "id": "35c9f098-6ec4-4697-9472-7ba3fd8d904a",
   "metadata": {},
   "outputs": [],
   "source": [
    "import utils.config as cfg_"
   ]
  },
  {
   "cell_type": "code",
   "execution_count": 4,
   "id": "a51252c1-d435-475c-9d40-5bebaef18726",
   "metadata": {},
   "outputs": [
    {
     "ename": "NameError",
     "evalue": "name 'get_artifact_config_xai_lrp' is not defined",
     "output_type": "error",
     "traceback": [
      "\u001b[0;31m---------------------------------------------------------------------------\u001b[0m",
      "\u001b[0;31mNameError\u001b[0m                                 Traceback (most recent call last)",
      "Cell \u001b[0;32mIn[4], line 1\u001b[0m\n\u001b[0;32m----> 1\u001b[0m \u001b[43mget_artifact_config_xai_lrp\u001b[49m(\u001b[38;5;28;01mTrue\u001b[39;00m)\n",
      "\u001b[0;31mNameError\u001b[0m: name 'get_artifact_config_xai_lrp' is not defined"
     ]
    }
   ],
   "source": [
    "get_artifact_config_xai_lrp(True)"
   ]
  }
 ],
 "metadata": {
  "kernelspec": {
   "display_name": "Python 3 (ipykernel)",
   "language": "python",
   "name": "python3"
  },
  "language_info": {
   "codemirror_mode": {
    "name": "ipython",
    "version": 3
   },
   "file_extension": ".py",
   "mimetype": "text/x-python",
   "name": "python",
   "nbconvert_exporter": "python",
   "pygments_lexer": "ipython3",
   "version": "3.10.13"
  }
 },
 "nbformat": 4,
 "nbformat_minor": 5
}

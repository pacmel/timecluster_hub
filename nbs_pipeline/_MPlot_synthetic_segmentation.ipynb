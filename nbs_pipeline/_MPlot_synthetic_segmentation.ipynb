{
 "cells": [
  {
   "cell_type": "markdown",
   "id": "c9723c9d-6088-452a-9013-03da712570bb",
   "metadata": {
    "editable": true,
    "slideshow": {
     "slide_type": ""
    },
    "tags": []
   },
   "source": [
    "# MPlot tutorial"
   ]
  },
  {
   "cell_type": "markdown",
   "id": "236d661a-7ab0-40e4-a3b2-e899880b8394",
   "metadata": {
    "editable": true,
    "slideshow": {
     "slide_type": ""
    },
    "tags": []
   },
   "source": [
    "The MPlot is used to check the distance between subsequence pairs into a time series according to a window size. This notebooks is a tutorial of how to use the different methods defined in mplots.ipyn for the specific case of 'PulsusParadoxus'.\n",
    "\n",
    "## What is an MPlot?\n",
    "MPlots were introduced by Eamonn Keogh and has a lot of research behind. The code in this notebook is mainly inspired in the XXVI paper:\n",
    "\n",
    "- [IEEE - Matrix Profile XXVI: Mplots: Scaling Time Series Similarity Matrices to Massive Data](https://ieeexplore.ieee.org/stamp/stamp.jsp?tp=&arnumber=10027730)\n",
    "\n",
    "and following the guidelines of the example of use repository \n",
    "\n",
    "- [Zach Zimmerman - mplots-explorer (GitHub)](https://github.com/zpzim/mplot-explorer)\n",
    "\n",
    "It also integrates methods of Stumpy:\n",
    "- [Tutorial: The Matrix Profile](https://stumpy.readthedocs.io/en/latest/Tutorial_The_Matrix_Profile.html#Time-Series-with-Length-n-=-13)\n",
    "\n",
    "Feel free of modifying the parameters and open issue in case of error!\n",
    "\n",
    "\n",
    "**Note**\n",
    "\n",
    "For the example in this notebook, the instructions in [Introducing Mplots: Scaling Time Series Recurrence Plots to Massive Datasets](https://web.archive.org/web/20240125145941id_/https://assets.researchsquare.com/files/rs-3651179/v1_covered_ef5f7e93-ace3-4376-b6f6-3021b43d586c.pdf?c=1701243102) have been followed. You can check more examples in [MPlots-pdf-Catalog](https://drive.google.com/file/d/1fjWUzVQf-8XmS5epDa_ulm4-bDX51Vxv/view). You will also find lots more datasets at his GoogleDrive. [This powerpoint](https://www.slideserve.com/mickie/ucr-time-series-semantic-segmentation-archive-powerpoint-ppt-presentation) explains the content of some of them in a simple way, including the Pulsus Paradoxus dataset."
   ]
  },
  {
   "cell_type": "markdown",
   "id": "1c1becd1-ed48-4225-b6b7-cbdb2ed10c48",
   "metadata": {},
   "source": [
    "## Notebook configuration\n",
    "### Parameters\n",
    "\n",
    "The parameters in this notebook are only some of the input parameters you can define for the *06-Mplot* notebook. In that notebook the configuration parameters are included in the first cell and fully explained as needed. \n",
    "\n",
    "Here you got:\n",
    "\n",
    "- `verbose`. If `> 0` it adds debbuging messages in those functions that allows so.\n",
    "- `reset_kernel`. If `True` it resets the kernel by the end of the execution. Use only in case that memory management is needed.\n",
    "- `check_memory_usage`. If `True`, it adds some lines for checking the GPU memmory ussage along the execution.\n",
    "- `time_flag`. If `True` it get the execution time along the notebook as well as inside those functions that allows so.\n",
    "- `cuda_device`. Integer used to define the GPU machine to be used for computation. Please ensure it is an id number valid for the built docker (check your .env file to know the valid ids)\n",
    "- `execute_01`. Put this flag to true in case you have never executed the 01_<> notebook for the PulsusParadoxus dataset. Please change it to false one the celss in the section `Execute '1` have already been executed. It does not take very long, but it is some time ;)."
   ]
  },
  {
   "cell_type": "code",
   "execution_count": 1,
   "id": "c12b2f7b-fd01-4673-8728-14a5b44ef6eb",
   "metadata": {
    "editable": true,
    "slideshow": {
     "slide_type": ""
    },
    "tags": []
   },
   "outputs": [],
   "source": [
    "#| export\n",
    "# Configuration paramaters\n",
    "verbose                       = 1\n",
    "reset_kernel                  = False\n",
    "check_memory_usage            = True\n",
    "time_flag                     = True\n",
    "cuda_device                   = 1"
   ]
  },
  {
   "cell_type": "code",
   "execution_count": 2,
   "id": "3750626c-f7b2-4269-8b7e-533c3928ea81",
   "metadata": {},
   "outputs": [
    {
     "name": "stdout",
     "output_type": "stream",
     "text": [
      "--- Check parameters ---\n",
      "verbose (for printing or not messages): 1 \n",
      " check_memory_usage (for evaluating the current gpu memor status) True \n",
      " time_flag: True \n",
      " reset_kernel: False \n",
      " cuda_device 1 \n",
      "\n"
     ]
    }
   ],
   "source": [
    "print(\"--- Check parameters ---\")\n",
    "print(\n",
    "    \"verbose (for printing or not messages):\", verbose, \"\\n\",\n",
    "    \"check_memory_usage (for evaluating the current gpu memor status)\", check_memory_usage, \"\\n\",\n",
    "    \"time_flag:\", time_flag, \"\\n\",\n",
    "    \"reset_kernel:\",reset_kernel, \"\\n\",\n",
    "    \"cuda_device\", cuda_device, \"\\n\"\n",
    ")"
   ]
  },
  {
   "cell_type": "markdown",
   "id": "e7d23548-a247-4278-93f3-b8f2bb1e50d6",
   "metadata": {},
   "source": [
    "### VsCode update patch\n",
    "Initial notebook setup when using VSCode."
   ]
  },
  {
   "cell_type": "code",
   "execution_count": 3,
   "id": "6cabd69d-770f-46a7-babd-2ebdc73a62b6",
   "metadata": {},
   "outputs": [],
   "source": [
    "#| export\n",
    "# This is only needed if the notebook is run in VSCode\n",
    "import sys\n",
    "import dvats.utils as ut\n",
    "if '--vscode' in sys.argv:\n",
    "    print(\"Executing inside vscode\")\n",
    "    ut.DisplayHandle.update = ut.update_patch"
   ]
  },
  {
   "cell_type": "markdown",
   "id": "d9fb4ad9-b1ae-4cf3-98a6-ce414a13d797",
   "metadata": {},
   "source": [
    "## Import libraries"
   ]
  },
  {
   "cell_type": "code",
   "execution_count": 4,
   "id": "3fb77d5c-7eb2-4173-a6cd-1a5dad5f6dc3",
   "metadata": {
    "editable": true,
    "slideshow": {
     "slide_type": ""
    },
    "tags": []
   },
   "outputs": [
    {
     "name": "stdout",
     "output_type": "stream",
     "text": [
      "\u001b[?2004l\n",
      "Octave is ready <oct2py.core.Oct2Py object at 0x7f16d3bf45b0>\n",
      "\u001b[?2004l\n",
      "\u001b[?2004l\n",
      "\u001b[?2004l\n",
      "\u001b[?2004l\n",
      "\u001b[?2004l\n",
      "\u001b[?2004l\n",
      "\u001b[?2004l\n",
      "\u001b[?2004l\n",
      "\u001b[?2004l\n",
      "\u001b[?2004l\n",
      "\u001b[?2004l\n",
      "\u001b[?2004l\n",
      "\u001b[?2004l\n",
      "\u001b[?2004l\n",
      "\u001b[?2004l\n"
     ]
    }
   ],
   "source": [
    "#| export\n",
    "import warnings\n",
    "warnings.filterwarnings(\"ignore\", module=\"umap\")\n",
    "warnings.simplefilter('always', UserWarning)\n",
    "import os\n",
    "import sys\n",
    "sys.path.append(os.path.abspath('..'))\n",
    "import dvats.config as cfg_\n",
    "import dvats.mplots as mplots\n",
    "from dvats.all import *\n",
    "from fastcore.all import *\n",
    "from tsai.basics import *\n",
    "from tsai.models.InceptionTimePlus import *\n",
    "from tsai.callback.MVP import *\n",
    "import matplotlib.colors as colors\n",
    "from fastai.callback.wandb import WandbCallback\n",
    "from fastai.callback.progress import ShowGraphCallback\n",
    "from fastai.callback.schedule import *\n",
    "from fastai.callback.tracker import EarlyStoppingCallback\n",
    "import wandb"
   ]
  },
  {
   "cell_type": "markdown",
   "id": "fe79122a-d5c0-4cf4-98ec-d35bfb4a585b",
   "metadata": {},
   "source": [
    "## Generate & Train S3"
   ]
  },
  {
   "cell_type": "code",
   "execution_count": 5,
   "id": "ebb986c8-5af7-43f4-98f4-117cf17bf137",
   "metadata": {
    "editable": true,
    "slideshow": {
     "slide_type": ""
    },
    "tags": []
   },
   "outputs": [],
   "source": [
    "#-- For setting up the parameters\n",
    "import os\n",
    "import torch\n",
    "from typing import Tuple, Dict\n",
    "\n",
    "#-- Specific\n",
    "from ploomber_engine import execute_notebook"
   ]
  },
  {
   "cell_type": "markdown",
   "id": "580f0e64-6bad-40b6-bee5-e25a419f1458",
   "metadata": {},
   "source": [
    "##### Ensure the correct configuration for ploomber engine execution"
   ]
  },
  {
   "cell_type": "code",
   "execution_count": 6,
   "id": "97a22ee6-1abe-428d-8b12-c2e818c1e799",
   "metadata": {
    "editable": true,
    "slideshow": {
     "slide_type": ""
    },
    "tags": []
   },
   "outputs": [],
   "source": [
    "def get_parameters(nb_id : int ) -> Tuple[ str, Dict ]:\n",
    "    inpath = '~/work/nbs_pipeline'\n",
    "    outpath = '~/work/nbs_pipeline/output'\n",
    "    match nb_id:\n",
    "        case 1:\n",
    "            filename = \"01_dataset_artifact\"\n",
    "            parameters = parameters_01 = {\n",
    "              'verbose'                       : 0,\n",
    "              'show_plots'                    : False,\n",
    "              'reset_kernel'                  : False,\n",
    "              'pre_configured_case'           : False,\n",
    "              'case_id'                       : 7,\n",
    "              'frequency_factor'              : 1,\n",
    "              'frequency_factor_change_alias' : True,\n",
    "              'cuda_device'                   : 1 #torch.cuda.current_device()\n",
    "            }\n",
    "        case 2: \n",
    "            filename   = \"02b_encoder_MVP\"\n",
    "            parameters = parameters_02 = {\n",
    "              'verbose'                       : 0,\n",
    "              'check_memory_usage'            : False,\n",
    "              'time_flag'                     : False,\n",
    "              'window_size_percentage'        : None,\n",
    "              'show_plots'                    : False,\n",
    "              'reset_kernel'                  : False,\n",
    "              'pre_configured_case'           : False,\n",
    "              'case_id'                       : 7,\n",
    "              'frequency_factor'              : 1,\n",
    "              'frequency_factor_change_alias' : True,\n",
    "              'cuda_device'                   : 1 #torch.cuda.current_device()\n",
    "            }\n",
    "        case 10:\n",
    "            filename   = \"_synthetic_data\"\n",
    "            inpath     = \"~/work/nbs\"\n",
    "            parameters = {}\n",
    "            \n",
    "        case _:\n",
    "            print(\"Invalid configuration\")\n",
    "            filename = \"\"\n",
    "            inpath = \"\"\n",
    "            outpath = \"\"\n",
    "            parameters = {}\n",
    "    return filename,parameters, inpath, outpath"
   ]
  },
  {
   "cell_type": "code",
   "execution_count": 7,
   "id": "8d199890-18ed-47c5-9cb8-7d646f82c180",
   "metadata": {
    "editable": true,
    "slideshow": {
     "slide_type": ""
    },
    "tags": []
   },
   "outputs": [],
   "source": [
    "def get_input_output(\n",
    "    nb_id   : int\n",
    ") -> Tuple[ str, str, Dict ]:\n",
    "    filename,parameter, inpath, outpath = get_parameters(nb_id)\n",
    "    inbpath    = os.path.expanduser(inpath)\n",
    "    onbpath    = os.path.expanduser(outpath)\n",
    "    extension  = \".ipynb\"\n",
    "    reportname = filename+\"-output\"\n",
    "    inputnb    = inbpath+\"/\"+filename+extension\n",
    "    outputnb   = onbpath+\"/\"+reportname+extension\n",
    "    print(f\"Executing {inputnb} into {outputnb}\")\n",
    "    return parameter, inputnb, outputnb"
   ]
  },
  {
   "cell_type": "code",
   "execution_count": 8,
   "id": "fceb9276-ee51-4e6a-bd7c-c7a5615da4d3",
   "metadata": {
    "editable": true,
    "slideshow": {
     "slide_type": ""
    },
    "tags": []
   },
   "outputs": [],
   "source": [
    "# Put to true when you need to restore S3 or whatever\n",
    "generate_S3 = False\n",
    "execute_01  = True\n",
    "execute_02  = True"
   ]
  },
  {
   "cell_type": "markdown",
   "id": "8dea0062-5e53-4db1-96d5-ddedddbe76ab",
   "metadata": {
    "editable": true,
    "slideshow": {
     "slide_type": ""
    },
    "tags": []
   },
   "source": [
    "##### Generate S3"
   ]
  },
  {
   "cell_type": "code",
   "execution_count": 9,
   "id": "eb393b76-1b7e-4eaf-bf27-8834ff340ffa",
   "metadata": {
    "editable": true,
    "slideshow": {
     "slide_type": ""
    },
    "tags": []
   },
   "outputs": [],
   "source": [
    "if generate_S3:\n",
    "    parameters, inputnb, outputnb = get_input_output(10)\n",
    "    print(parameters)\n",
    "    print(inputnb)\n",
    "    print(outputnb)\n",
    "    _ = execute_notebook(\n",
    "        input_path          = inputnb,\n",
    "        output_path         = outputnb,\n",
    "        log_output          = False,\n",
    "        progress_bar        = True,   \n",
    "        parameters          = parameters,\n",
    "        remove_tagged_cells = ['skip', 'hide']\n",
    "    )"
   ]
  },
  {
   "cell_type": "markdown",
   "id": "34a5fa2e-e573-4051-9041-9db6066b6267",
   "metadata": {
    "editable": true,
    "slideshow": {
     "slide_type": ""
    },
    "tags": []
   },
   "source": [
    "##### Execute 01: Load artifact to W&B"
   ]
  },
  {
   "cell_type": "code",
   "execution_count": 10,
   "id": "880f8e83-c7fd-491b-aa2e-bd5cef67aab8",
   "metadata": {
    "editable": true,
    "slideshow": {
     "slide_type": ""
    },
    "tags": []
   },
   "outputs": [
    {
     "name": "stdout",
     "output_type": "stream",
     "text": [
      "Executing /home/macu/work/nbs_pipeline/01_dataset_artifact.ipynb into /home/macu/work/nbs_pipeline/output/01_dataset_artifact-output.ipynb\n"
     ]
    },
    {
     "name": "stderr",
     "output_type": "stream",
     "text": [
      "Executing cell: 29:  74%|█████████████████      | 46/62 [00:06<00:01,  8.42it/s]wandb: Currently logged in as: mi-santamaria. Use `wandb login --relogin` to force relogin\n",
      "Executing cell: 34: 100%|███████████████████████| 62/62 [00:27<00:00,  2.29it/s]\n"
     ]
    }
   ],
   "source": [
    "if execute_01:\n",
    "    warnings.simplefilter('ignore', UserWarning)\n",
    "    parameters, inputnb, outputnb = get_input_output(1)\n",
    "    _ = execute_notebook(\n",
    "        input_path          = inputnb,\n",
    "        output_path         = outputnb,\n",
    "        log_output          = False,\n",
    "        progress_bar        = True,   \n",
    "        parameters          = parameters,\n",
    "        remove_tagged_cells = ['skip', 'hide']\n",
    "    )\n",
    "    warnings.simplefilter('always', UserWarning)"
   ]
  },
  {
   "cell_type": "markdown",
   "id": "e44d6887-6a65-40a3-a5cf-847672460cb4",
   "metadata": {
    "editable": true,
    "slideshow": {
     "slide_type": ""
    },
    "tags": []
   },
   "source": [
    "##### Execute 02: Train MTSAE"
   ]
  },
  {
   "cell_type": "code",
   "execution_count": null,
   "id": "bbec1a03-f523-4c09-81c3-af6155a768a5",
   "metadata": {
    "editable": true,
    "slideshow": {
     "slide_type": ""
    },
    "tags": []
   },
   "outputs": [
    {
     "name": "stdout",
     "output_type": "stream",
     "text": [
      "Executing /home/macu/work/nbs_pipeline/02b_encoder_MVP.ipynb into /home/macu/work/nbs_pipeline/output/02b_encoder_MVP-output.ipynb\n"
     ]
    },
    {
     "name": "stderr",
     "output_type": "stream",
     "text": [
      "Executing cell: 17:  34%|███████▊               | 28/83 [00:13<00:32,  1.69it/s]wandb:   1 of 1 files downloaded.  \n",
      "Executing cell: 42:  82%|██████████████████▊    | 68/83 [00:52<00:04,  3.11it/s]"
     ]
    }
   ],
   "source": [
    "if execute_02:\n",
    "    warnings.simplefilter('ignore', UserWarning)\n",
    "    parameters, inputnb, outputnb = get_input_output(2)\n",
    "    _ = execute_notebook(\n",
    "        input_path          = inputnb,\n",
    "        output_path         = outputnb,\n",
    "        log_output          = False,\n",
    "        progress_bar        = True,   \n",
    "        parameters          = parameters,\n",
    "        remove_tagged_cells = ['skip', 'hide']\n",
    "    )\n",
    "    warnings.simplefilter('always', UserWarning)"
   ]
  },
  {
   "cell_type": "markdown",
   "id": "64484b08-2702-4aab-9b14-89fcc5319c93",
   "metadata": {},
   "source": [
    "## Initialize and Configurate Artifact"
   ]
  },
  {
   "cell_type": "markdown",
   "id": "d55e0638-4408-4bdc-994e-8d83851cf098",
   "metadata": {},
   "source": [
    "<div style=\"background-color: yellow; color: red; padding: 15px; border-radius: 5px; border: 2px solid red; display: flex; align-items: center; margin: 20px 0;\">\n",
    "    <span style=\"font-size: 30px; font-weight: bold; margin-right: 10px;\">&#9888;</span>\n",
    "    <div>\n",
    "        <strong>Warning:</strong>&nbsp;&nbsp;The following cells can be skipped as they are configuration cells. Continue until the next warning.\n",
    "    </div>\n",
    "</div>"
   ]
  },
  {
   "cell_type": "markdown",
   "id": "1c649595-13a3-4721-a66f-a669c6ce66b4",
   "metadata": {},
   "source": [
    "### Initialize Weights and Biases"
   ]
  },
  {
   "cell_type": "code",
   "execution_count": null,
   "id": "2ab4d0e6-8b39-4a9b-bb3e-72a8c0b487d5",
   "metadata": {
    "editable": true,
    "slideshow": {
     "slide_type": ""
    },
    "tags": []
   },
   "outputs": [],
   "source": [
    "#| export\n",
    "wandb_api = wandb.Api()"
   ]
  },
  {
   "cell_type": "markdown",
   "id": "b9017ea3-597a-4996-8efa-02718e1e07a8",
   "metadata": {},
   "source": [
    "### Setup CUDA"
   ]
  },
  {
   "cell_type": "code",
   "execution_count": null,
   "id": "69c6a833-47d7-4ecf-bf65-105e0c725268",
   "metadata": {
    "editable": true,
    "slideshow": {
     "slide_type": ""
    },
    "tags": []
   },
   "outputs": [],
   "source": [
    "#| export\n",
    "warnings.filterwarnings(\"ignore\", module=\"wandb\")\n",
    "device = torch.device(f'cuda:{cuda_device}' if torch.cuda.is_available() else 'cpu')\n",
    "torch.cuda.set_device(device)\n",
    "if check_memory_usage:\n",
    "    gpu_device = torch.cuda.current_device()\n",
    "    print(\"GPU Device\", gpu_device)\n",
    "    print(\"Device\", device)\n",
    "    gpu_memory_status(gpu_device)"
   ]
  },
  {
   "cell_type": "markdown",
   "id": "7d0b8347-f4a7-477f-999e-4997299aaf50",
   "metadata": {},
   "source": [
    "### Get configutation from yml\n",
    "> This file used the configuration files './config/base.yml'"
   ]
  },
  {
   "cell_type": "code",
   "execution_count": null,
   "id": "90c1e307",
   "metadata": {
    "editable": true,
    "slideshow": {
     "slide_type": ""
    },
    "tags": []
   },
   "outputs": [],
   "source": [
    "# Ensure the correct execution path \n",
    "# Se puede hacer mejor con la ultima versión que hay en master del config.ipybn\n",
    "# En esa versión se permite pasar paths por parámetro a las funciones de configuración\n",
    "# Así no hay por qué forzar aquí path de ejecución\n",
    "# Y se gana, además, bastante versatilidad\n",
    "\n",
    "target_directory = os.path.expanduser(\"./work/nbs_pipeline\")\n",
    "print(target_directory)\n",
    "%cd {target_directory}\n",
    "#! ls"
   ]
  },
  {
   "cell_type": "code",
   "execution_count": null,
   "id": "f1faab29-03f5-4727-824c-840756817695",
   "metadata": {
    "editable": true,
    "slideshow": {
     "slide_type": ""
    },
    "tags": []
   },
   "outputs": [],
   "source": [
    "#| export\n",
    "user, project, version, data, config, job_type = cfg_.get_artifact_config_MVP(False)"
   ]
  },
  {
   "cell_type": "markdown",
   "id": "597d8ee7-01aa-4a9b-944e-4a894bb1f3f0",
   "metadata": {},
   "source": [
    "### Setup Weights & biases artiffact"
   ]
  },
  {
   "cell_type": "code",
   "execution_count": null,
   "id": "6de611e9-7cfa-4aba-8359-332d03bce93a",
   "metadata": {
    "editable": true,
    "slideshow": {
     "slide_type": ""
    },
    "tags": []
   },
   "outputs": [],
   "source": [
    "#| export\n",
    "path = os.path.expanduser(\"~/work/nbs_pipeline/\")\n",
    "name=\"_MPlot_S3\"\n",
    "os.environ[\"WANDB_NOTEBOOK_NAME\"] = path+name+\".ipynb\"\n",
    "runname=name\n",
    "if verbose > 0: print(\"runname: \"+runname)\n",
    "if verbose > 0: cfg_.show_attrdict(config)"
   ]
  },
  {
   "cell_type": "code",
   "execution_count": null,
   "id": "35e2a95d",
   "metadata": {
    "editable": true,
    "slideshow": {
     "slide_type": ""
    },
    "tags": []
   },
   "outputs": [],
   "source": [
    "job_type = 'MPlot'\n",
    "job_type"
   ]
  },
  {
   "cell_type": "markdown",
   "id": "e57c5463-e713-4ee6-873f-2b7eb311ad59",
   "metadata": {},
   "source": [
    "## Start W&B Run"
   ]
  },
  {
   "cell_type": "code",
   "execution_count": null,
   "id": "81c3b22d-dc40-4e6c-a406-fbe3945f4eb8",
   "metadata": {
    "editable": true,
    "slideshow": {
     "slide_type": ""
    },
    "tags": []
   },
   "outputs": [],
   "source": [
    "#| export\n",
    "if verbose > 0: print(\"--> Wandb init\")\n",
    "run = wandb.init(\n",
    "    entity           = user,\n",
    "    # work-nbs is a place to log draft runs\n",
    "    project          = project,\n",
    "    group            = config.wandb_group,\n",
    "    job_type         = job_type,\n",
    "    allow_val_change = True,\n",
    "    mode             = config.analysis_mode,\n",
    "    config           = config,\n",
    "    # When use_wandb is false the run is not linked to a personal account\n",
    "    #NOTE: This is not working right now\n",
    "    anonymous        = 'never' if config.use_wandb else 'must', \n",
    "    resume           = False,\n",
    "    name             = runname\n",
    ")\n",
    "if verbose > 0: print(\"Wandb init -->\")\n",
    "config = run.config  # Object for storing hyperparameters\n",
    "artifacts_gettr = run.use_artifact if config.use_wandb else wandb_api.artifact"
   ]
  },
  {
   "cell_type": "markdown",
   "id": "f1c0fcbd-ac53-4fad-bb6c-4fd5834734e6",
   "metadata": {},
   "source": [
    "<div style=\"background-color: yellow; color: red; padding: 15px; border-radius: 5px; border: 2px solid red; display: flex; align-items: center; margin: 20px 0;\">\n",
    "    <span style=\"font-size: 30px; font-weight: bold; margin-right: 10px;\">&#9888;</span>\n",
    "    <div>\n",
    "        <strong>Warning:</strong>&nbsp;&nbsp;End of the skippable cells.\n",
    "    </div>\n",
    "</div>"
   ]
  },
  {
   "cell_type": "markdown",
   "id": "b57aadd5-5af8-44d2-bb17-49f19f9706a6",
   "metadata": {},
   "source": [
    "## Get the time series data\n",
    "### Get W&B train artifact"
   ]
  },
  {
   "cell_type": "code",
   "execution_count": null,
   "id": "2b21f4e7-401a-423b-8dfb-b69b4a033dce",
   "metadata": {
    "editable": true,
    "slideshow": {
     "slide_type": ""
    },
    "tags": []
   },
   "outputs": [],
   "source": [
    "#| export\n",
    "config = run.config  # Object for storing hyperparameters\n",
    "if verbose > 0: cfg_.show_attrdict(config)\n",
    "artifacts_gettr = run.use_artifact if config.use_wandb else wandb_api.artifact\n",
    "train_artifact = artifacts_gettr(config.train_artifact)\n",
    "if verbose > 0: print(\"---> W&B Train Artifact\")"
   ]
  },
  {
   "cell_type": "markdown",
   "id": "ec23fce3-0059-4e16-a38d-9d4f3dea0086",
   "metadata": {},
   "source": [
    "### Transform to dataframe"
   ]
  },
  {
   "cell_type": "code",
   "execution_count": null,
   "id": "1a6bbfc6-2ea5-42bf-bff3-b883603d2914",
   "metadata": {
    "editable": true,
    "slideshow": {
     "slide_type": ""
    },
    "tags": []
   },
   "outputs": [],
   "source": [
    "#| export\n",
    "df_train = train_artifact.to_df()"
   ]
  },
  {
   "cell_type": "code",
   "execution_count": null,
   "id": "c0ff5ff1-8890-4c52-8b0b-ce562e7ddc2a",
   "metadata": {
    "editable": true,
    "slideshow": {
     "slide_type": ""
    },
    "tags": []
   },
   "outputs": [],
   "source": [
    "#| export\n",
    "if verbose > 0: \n",
    "    print(df_train.shape)\n",
    "    display(df_train.head)\n",
    "    print(\"df_train ~ \", df_train.shape)\n",
    "    print(\"window_sizes = \", config.mvp_ws)\n",
    "    print(\"wlen = \", config.w)\n",
    "    df_train.head"
   ]
  },
  {
   "cell_type": "markdown",
   "id": "f2f6d4e1-7de6-48d8-bfd1-7bf89d12fbee",
   "metadata": {},
   "source": [
    "## Check the MatrixProfile"
   ]
  },
  {
   "cell_type": "code",
   "execution_count": null,
   "id": "62d5c89b-38d8-4343-a892-94e06cf7bffe",
   "metadata": {
    "editable": true,
    "slideshow": {
     "slide_type": ""
    },
    "tags": []
   },
   "outputs": [],
   "source": [
    "if check_memory_usage:\n",
    "    gpu_device = torch.cuda.current_device()\n",
    "    print(\"GPU Device\", gpu_device)\n",
    "    print(\"Device\", device)\n",
    "    gpu_memory_status(gpu_device)"
   ]
  },
  {
   "cell_type": "markdown",
   "id": "aa89b265-a4db-4a21-89bd-8c2ba9ab8f7b",
   "metadata": {},
   "source": [
    "### Initialize parameters"
   ]
  },
  {
   "cell_type": "code",
   "execution_count": null,
   "id": "8a754ae2-d2ad-4501-8395-2d0e61328994",
   "metadata": {
    "editable": true,
    "slideshow": {
     "slide_type": ""
    },
    "tags": []
   },
   "outputs": [],
   "source": [
    "# Allows checking if pyscamp was built with CUDA and has GPU support.\n",
    "has_gpu_support = dvats.mplots.scamp.gpu_supported()\n",
    "has_gpu_support"
   ]
  },
  {
   "cell_type": "markdown",
   "id": "9260c230-19e1-4df0-9a8c-299f69a937fd",
   "metadata": {},
   "source": [
    "---> Aquí habrá que haber pasado por parámetro de qué columna se quiere sacar MPlot"
   ]
  },
  {
   "cell_type": "markdown",
   "id": "259c52ee-4471-4f50-8dc4-5f94feb9a19a",
   "metadata": {},
   "source": [
    "### Get the time series data"
   ]
  },
  {
   "cell_type": "code",
   "execution_count": null,
   "id": "107544a5-ae5f-441e-9ad9-e8be4b6bc674",
   "metadata": {
    "editable": true,
    "slideshow": {
     "slide_type": ""
    },
    "tags": []
   },
   "outputs": [],
   "source": [
    "# Use step for selecting values in position k*step \n",
    "ts_step = 1\n",
    "ts_resampled = df_train.resample('15T').mean()\n",
    "ts_resampled = ts_resampled.fillna(0)\n",
    "ts = ts_resampled.iloc[:, 0].values\n",
    "ts"
   ]
  },
  {
   "cell_type": "code",
   "execution_count": null,
   "id": "79629e47-a608-4653-9c76-8137c1082eda",
   "metadata": {
    "editable": true,
    "slideshow": {
     "slide_type": ""
    },
    "tags": []
   },
   "outputs": [],
   "source": [
    "%matplotlib inline\n",
    "plt.close(\"all\")\n",
    "mplots.plot_with_dots(\n",
    "    time_series = ts, \n",
    "    title = \"S3\", \n",
    "    fontsize = 10, \n",
    "    dots = False, \n",
    "    sequence_flag = False,\n",
    "    figsize = (20,6)\n",
    ")"
   ]
  },
  {
   "cell_type": "markdown",
   "id": "17c9dbe2-fa16-47e5-990f-4a4f2b9408cd",
   "metadata": {
    "editable": true,
    "slideshow": {
     "slide_type": ""
    },
    "tags": []
   },
   "source": [
    "### Build the MatrixProfile object"
   ]
  },
  {
   "cell_type": "code",
   "execution_count": null,
   "id": "72deb710-f1e2-4b1a-9108-0dc0af71a084",
   "metadata": {
    "editable": true,
    "slideshow": {
     "slide_type": ""
    },
    "tags": []
   },
   "outputs": [],
   "source": [
    "pulsus_mp = mplots.MatrixProfile(\n",
    "    data      = ts, \n",
    "    data_b    = ts, \n",
    "    self_join = False\n",
    ") #Some error in naive, use it like this"
   ]
  },
  {
   "cell_type": "code",
   "execution_count": null,
   "id": "34a8ca81-be54-4694-b78f-f6d052d518a0",
   "metadata": {
    "editable": true,
    "slideshow": {
     "slide_type": ""
    },
    "tags": []
   },
   "outputs": [],
   "source": [
    "print(len(ts))\n",
    "x = len(ts)/20\n",
    "print(x)\n"
   ]
  },
  {
   "cell_type": "markdown",
   "id": "d75729b0-ac6b-48f9-b1b0-7d219367f88e",
   "metadata": {
    "editable": true,
    "slideshow": {
     "slide_type": ""
    },
    "tags": []
   },
   "source": [
    "### Choose window length\n",
    "Eamon et all use ''approximately 1 pulsus'': m = 50. \n",
    "Let's see what does Fourier transform detect"
   ]
  },
  {
   "cell_type": "code",
   "execution_count": null,
   "id": "264f4532-ac05-4659-a853-7d7cbbe75761",
   "metadata": {
    "editable": true,
    "slideshow": {
     "slide_type": ""
    },
    "tags": []
   },
   "outputs": [],
   "source": [
    "pulsus_mp.provide_lens(1)\n",
    "pulsus_mp.dominant_lens"
   ]
  },
  {
   "cell_type": "code",
   "execution_count": null,
   "id": "298206d4-072e-45e8-a9ed-01d93f5affc8",
   "metadata": {
    "editable": true,
    "slideshow": {
     "slide_type": ""
    },
    "tags": []
   },
   "outputs": [],
   "source": [
    "m = 96 #pulsus_mp.dominant_lens[0]"
   ]
  },
  {
   "cell_type": "code",
   "execution_count": null,
   "id": "13a04fe5-3426-49ba-b632-227f74bee6e5",
   "metadata": {
    "editable": true,
    "slideshow": {
     "slide_type": ""
    },
    "tags": []
   },
   "outputs": [],
   "source": [
    "mplots.plot_subsequence(\n",
    "    TA = ts[:100], \n",
    "    sequence_i = 0,\n",
    "    subsequence_len = m,\n",
    "    dots = False,\n",
    "    sequence_flag = False,\n",
    "    save_plot = True,\n",
    "    plot_path = \"./images\"\n",
    ")"
   ]
  },
  {
   "cell_type": "markdown",
   "id": "1256c260-7584-4fa4-8241-82cb51912b04",
   "metadata": {},
   "source": [
    "And what happens if we use the double?"
   ]
  },
  {
   "cell_type": "code",
   "execution_count": null,
   "id": "97b4f17d-ddfb-4d4b-8bb7-5fbd8275aba9",
   "metadata": {
    "editable": true,
    "slideshow": {
     "slide_type": ""
    },
    "tags": []
   },
   "outputs": [],
   "source": [
    "mplots.plot_subsequence(\n",
    "    TA = ts, \n",
    "    sequence_i = 0,\n",
    "    subsequence_len = m,\n",
    "    dots = False,\n",
    "    sequence_flag = False,\n",
    "    save_plot = True,\n",
    "    plot_path = \"./images\"\n",
    ")\n",
    "mplots.plot_subsequence(\n",
    "    TA = ts, \n",
    "    sequence_i = m+1,\n",
    "    subsequence_len = m,\n",
    "    dots = False,\n",
    "    sequence_flag = False,\n",
    "    save_plot = True,\n",
    "    plot_path = \"./images\"\n",
    ")\n",
    "mplots.plot_subsequence(\n",
    "    TA = ts, \n",
    "    sequence_i = 2*m+1,\n",
    "    subsequence_len = m,\n",
    "    dots = False,\n",
    "    sequence_flag = False,\n",
    "    save_plot = True,\n",
    "    plot_path = \"./images\"\n",
    ")"
   ]
  },
  {
   "cell_type": "markdown",
   "id": "9963bd94-5b01-45e9-bf5b-4f9db54ebb49",
   "metadata": {},
   "source": [
    "This value seems to correspond to that idea of getting 'one pulsus' as subsequence length"
   ]
  },
  {
   "cell_type": "markdown",
   "id": "1f1be524-863e-454c-ae05-d78794222624",
   "metadata": {},
   "source": [
    "### Compute the Matrix Profile"
   ]
  },
  {
   "cell_type": "code",
   "execution_count": null,
   "id": "cfd9862c-bd9e-4530-9d19-08ae1d883b05",
   "metadata": {
    "editable": true,
    "slideshow": {
     "slide_type": ""
    },
    "tags": []
   },
   "outputs": [],
   "source": [
    "pulsus_mp.subsequence_len = m"
   ]
  },
  {
   "cell_type": "code",
   "execution_count": null,
   "id": "68dc79b3-29c8-4eac-b51f-20cddd00e898",
   "metadata": {
    "editable": true,
    "slideshow": {
     "slide_type": ""
    },
    "tags": []
   },
   "outputs": [],
   "source": [
    "pulsus_mp.compute(\n",
    "    verbose = 1, \n",
    "    d = mplots.z_normalized_euclidean_distance, \n",
    "    method = 'stump'\n",
    ")"
   ]
  },
  {
   "cell_type": "code",
   "execution_count": null,
   "id": "098debfc-31d7-47ba-bea0-9662a0b82061",
   "metadata": {
    "editable": true,
    "slideshow": {
     "slide_type": ""
    },
    "tags": []
   },
   "outputs": [],
   "source": [
    "len(pulsus_mp.index)"
   ]
  },
  {
   "cell_type": "markdown",
   "id": "7cd1cb2c-5f79-4847-8c54-45bef2a2728f",
   "metadata": {},
   "source": [
    "### Visualization of the matrix profile"
   ]
  },
  {
   "cell_type": "markdown",
   "id": "7ecd48e1-c3f0-4512-94f0-16d9e1915860",
   "metadata": {},
   "source": [
    "With the interactive plot we can visually check the motif and anomaly indexes.\n",
    "The previous and next buttons can be used for going subsequence by subsequence whereas the Motif and Discord buttons show the associated subsequences."
   ]
  },
  {
   "cell_type": "code",
   "execution_count": null,
   "id": "083367e0-ab3c-473d-bfe4-092971730f26",
   "metadata": {
    "editable": true,
    "slideshow": {
     "slide_type": ""
    },
    "tags": []
   },
   "outputs": [],
   "source": [
    "%matplotlib widget\n",
    "pulsus_mp.plot_interactive(\n",
    "    figsize = (8,8),\n",
    "    verbose =  0\n",
    ")"
   ]
  },
  {
   "cell_type": "markdown",
   "id": "8d51ce6c-c00e-448b-aae9-36012013847c",
   "metadata": {},
   "source": [
    "### Direct computation & related metadata"
   ]
  },
  {
   "cell_type": "markdown",
   "id": "f8d3a8c9-a491-4c1e-ba86-00476103c5cb",
   "metadata": {},
   "source": [
    "#### Motif"
   ]
  },
  {
   "cell_type": "code",
   "execution_count": null,
   "id": "ca9b81ed-f56f-460f-99ee-d81347b4ffd4",
   "metadata": {
    "editable": true,
    "slideshow": {
     "slide_type": ""
    },
    "tags": []
   },
   "outputs": [],
   "source": [
    "pulsus_mp.get_motif_idx(verbose = verbose)"
   ]
  },
  {
   "cell_type": "code",
   "execution_count": null,
   "id": "31f4aa86-1567-4537-a8f8-938547be6666",
   "metadata": {
    "editable": true,
    "slideshow": {
     "slide_type": ""
    },
    "tags": []
   },
   "outputs": [],
   "source": [
    "print(pulsus_mp.motif_idx)\n",
    "print(pulsus_mp.motif_nearest_neighbor_idx)\n",
    "print(pulsus_mp.motif_nearest_neighbor_idx_left)\n",
    "print(pulsus_mp.motif_nearest_neighbor_idx_right)\n"
   ]
  },
  {
   "cell_type": "markdown",
   "id": "1b7dd01a-b650-4d9c-9f5a-dac369185035",
   "metadata": {},
   "source": [
    "#### Discord/Anomaly"
   ]
  },
  {
   "cell_type": "code",
   "execution_count": null,
   "id": "c12a3b5f-1e4d-4f5a-951c-fc12e36d588b",
   "metadata": {
    "editable": true,
    "slideshow": {
     "slide_type": ""
    },
    "tags": []
   },
   "outputs": [],
   "source": [
    "pulsus_mp.get_anomaly_idx(verbose = verbose)"
   ]
  },
  {
   "cell_type": "code",
   "execution_count": null,
   "id": "87e0c048-f3fd-4a8b-9303-b88af120c025",
   "metadata": {
    "editable": true,
    "slideshow": {
     "slide_type": ""
    },
    "tags": []
   },
   "outputs": [],
   "source": [
    "print(pulsus_mp.discord_idx)\n",
    "print(pulsus_mp.discord_nearest_neighbor_idx)\n",
    "print(pulsus_mp.discord_nearest_neighbor_idx_left)\n",
    "print(pulsus_mp.discord_nearest_neighbor_idx_right)"
   ]
  },
  {
   "cell_type": "markdown",
   "id": "f5cad62c-8f51-4429-9455-8658fdd11f15",
   "metadata": {},
   "source": [
    "## Check the MPlot"
   ]
  },
  {
   "cell_type": "markdown",
   "id": "bed80fb8-29aa-460a-8338-d5b2ca5c9d43",
   "metadata": {},
   "source": [
    "### Build the MatrixProfilePlot object"
   ]
  },
  {
   "cell_type": "code",
   "execution_count": null,
   "id": "8a2a5594-4184-4076-806e-b0e84b927377",
   "metadata": {
    "editable": true,
    "slideshow": {
     "slide_type": ""
    },
    "tags": []
   },
   "outputs": [],
   "source": [
    "data_MPlot = mplots.MatrixProfilePlot(\n",
    "    DM_AB           = mplots.DistanceMatrix(), \n",
    "    MP_AB           = mplots.MatrixProfile(),\n",
    "    data            = ts, \n",
    "    data_b          = ts,\n",
    "    subsequence_len = pulsus_mp.subsequence_len,\n",
    "    self_join       = False\n",
    ")"
   ]
  },
  {
   "cell_type": "code",
   "execution_count": null,
   "id": "9005ae5f",
   "metadata": {
    "editable": true,
    "slideshow": {
     "slide_type": ""
    },
    "tags": []
   },
   "outputs": [],
   "source": [
    "#| hide\n",
    "print(\"MP_AB self_join\", data_MPlot.MP_AB.self_join)\n",
    "print(f\"DM_AB ~ {data_MPlot.DM_AB.shape}\")\n",
    "print(\"MP_AB method:\", data_MPlot.MP_AB.method)\n",
    "print(\"DM_AB method:\", data_MPlot.DM_AB.method)"
   ]
  },
  {
   "cell_type": "markdown",
   "id": "deecb847-4174-4cf4-af78-ae47bc713999",
   "metadata": {},
   "source": [
    "### Compute the Similarity Matrix"
   ]
  },
  {
   "cell_type": "code",
   "execution_count": null,
   "id": "74a60899-3cac-4e55-b8ca-111242628b9e",
   "metadata": {
    "editable": true,
    "slideshow": {
     "slide_type": ""
    },
    "tags": []
   },
   "outputs": [],
   "source": [
    "data_MPlot.subsequence_len"
   ]
  },
  {
   "cell_type": "code",
   "execution_count": null,
   "id": "2e461b05-2574-466e-a52b-03ece596cca6",
   "metadata": {
    "editable": true,
    "slideshow": {
     "slide_type": ""
    },
    "tags": []
   },
   "outputs": [],
   "source": [
    "# z-normalized euclidean distance\n",
    "from scipy.stats import zscore\n",
    "from scipy.spatial.distance import euclidean\n",
    "from scipy.spatial.distance import correlation\n",
    "from scipy.spatial.distance import cityblock\n",
    "def zeuclidean(u,v): return euclidean(zscore(u), zscore(v));\n",
    "def distance(u,v):\n",
    "    #-- euclidean\n",
    "    #return euclidean(u,v)\n",
    "    #-- z_normalized euclidean\n",
    "    #return zeuclidean(u,v)\n",
    "    #-- Pearson correlation\n",
    "    #return correlation(u,v)\n",
    "    return cityblock(u,v)"
   ]
  },
  {
   "cell_type": "code",
   "execution_count": null,
   "id": "d4ae99db-0dd4-4218-964e-80ac660e1d21",
   "metadata": {
    "editable": true,
    "slideshow": {
     "slide_type": ""
    },
    "tags": []
   },
   "outputs": [],
   "source": [
    "mplots.plot_subsequence(\n",
    "    TA = ts, \n",
    "    sequence_i = 0,\n",
    "    subsequence_len = m,\n",
    "    dots = False,\n",
    "    sequence_flag = False,\n",
    "    save_plot = True,\n",
    "    plot_path = \"./images\"\n",
    ")\n",
    "mplots.plot_subsequence(\n",
    "    TA = ts, \n",
    "    sequence_i = m,\n",
    "    subsequence_len = m,\n",
    "    dots = False,\n",
    "    sequence_flag = False,\n",
    "    save_plot = True,\n",
    "    plot_path = \"./images\"\n",
    ")\n",
    "mplots.plot_subsequence(\n",
    "    TA = ts, \n",
    "    sequence_i = 10*m,\n",
    "    subsequence_len = m,\n",
    "    dots = False,\n",
    "    sequence_flag = False,\n",
    "    save_plot = True,\n",
    "    plot_path = \"./images\"\n",
    ")"
   ]
  },
  {
   "cell_type": "code",
   "execution_count": null,
   "id": "6129f7a2-4f5b-4e95-8e61-8b4f129ecdd9",
   "metadata": {},
   "outputs": [],
   "source": [
    "print(euclidean(ts[0:m], ts[m:m+m]))\n",
    "print(euclidean(ts[m:m+m], ts[10*m:10*m+m]))\n",
    "print(euclidean(ts[0:m], ts[10*m:10*m+m]))"
   ]
  },
  {
   "cell_type": "code",
   "execution_count": null,
   "id": "e45c04ff-f7a3-4587-9859-4bec634f263d",
   "metadata": {
    "editable": true,
    "slideshow": {
     "slide_type": ""
    },
    "tags": []
   },
   "outputs": [],
   "source": [
    "print(zeuclidean(ts[0:m], ts[m:m+m]))\n",
    "print(zeuclidean(ts[m:m+m], ts[10*m:10*m+m]))\n",
    "print(zeuclidean(ts[0:m], ts[10*m:10*m+m]))"
   ]
  },
  {
   "cell_type": "code",
   "execution_count": null,
   "id": "c17f08c6-c416-4a56-a43a-9ee36a552fe6",
   "metadata": {},
   "outputs": [],
   "source": [
    "print(correlation(ts[0:m], ts[m:m+m]))\n",
    "print(correlation(ts[m:m+m], ts[10*m:10*m+m]))\n",
    "print(correlation(ts[0:m], ts[10*m:10*m+m]))"
   ]
  },
  {
   "cell_type": "code",
   "execution_count": null,
   "id": "c39e8517-72c4-4df6-8d02-eec71a319b8b",
   "metadata": {},
   "outputs": [],
   "source": [
    "print(cityblock(ts[0:m], ts[m:m+m]))\n",
    "print(cityblock(ts[m:m+m], ts[10*m:10*m+m]))\n",
    "print(cityblock(ts[0:m], ts[10*m:10*m+m]))"
   ]
  },
  {
   "cell_type": "markdown",
   "id": "1d1de432-d8fc-4158-b14f-e51df74a4f1e",
   "metadata": {},
   "source": [
    "Para tendencias parece que mejor la euclidiana o la correlation"
   ]
  },
  {
   "cell_type": "markdown",
   "id": "f069744b-5017-4946-adeb-b81022640bbc",
   "metadata": {},
   "source": [
    "z-euclidean mata las tendencias\n",
    "SCAMP no permite modificar la ditancia\n",
    "Probando con:\n",
    "- stump y euclidean\n",
    "- Naive y distancia manhattan (cityblock)\n",
    "- Naive y distancia específica"
   ]
  },
  {
   "cell_type": "code",
   "execution_count": null,
   "id": "f8c906bc-612d-4a3f-b5aa-fe842e22789e",
   "metadata": {
    "editable": true,
    "slideshow": {
     "slide_type": ""
    },
    "tags": []
   },
   "outputs": [],
   "source": [
    "data_MPlot.compute(\n",
    "    mp_method           = 'stump', \n",
    "    dm_method           = 'stump',\n",
    "    d                   = euclidean,\n",
    "    debug               = False,\n",
    "    time_flag           = True,\n",
    "    allow_experimental  = False,\n",
    "    ensure_symetric     = False,\n",
    "    max_points          = 10000,\n",
    "    #nlens              = 5,\n",
    "    provide_len         = False,\n",
    "    subsequence_len     = data_MPlot.subsequence_len, #Revisar por qué no pilla bien coger el subsequence_len de los atributos\n",
    "    downsample_flag     = False,\n",
    "    min_lag             = 4,\n",
    "    verbose             = 0,\n",
    "    threads             = 1,\n",
    "    gpus                = [1]\n",
    ")"
   ]
  },
  {
   "cell_type": "markdown",
   "id": "ece5c4ed-b2aa-4eea-b7de-cc0bddcc8886",
   "metadata": {},
   "source": [
    "### Check the obtained values"
   ]
  },
  {
   "cell_type": "code",
   "execution_count": null,
   "id": "17f908f2-9c1c-4b36-b9b2-f41eea31e6ff",
   "metadata": {
    "editable": true,
    "slideshow": {
     "slide_type": ""
    },
    "tags": []
   },
   "outputs": [],
   "source": [
    "print(data_MPlot.subsequence_len)"
   ]
  },
  {
   "cell_type": "code",
   "execution_count": null,
   "id": "1df6ae9a-6f45-4519-8e53-cc8af899c60b",
   "metadata": {
    "editable": true,
    "slideshow": {
     "slide_type": ""
    },
    "tags": []
   },
   "outputs": [],
   "source": [
    "n_a = len(data_MPlot.data)\n",
    "n_b = len(data_MPlot.data_b)\n",
    "print(\"-- DM Expected dimensions -- \")\n",
    "print(\"Rows: \", n_b - data_MPlot.subsequence_len + 1)\n",
    "print(\"Columns: \", n_a - data_MPlot.subsequence_len + 1)\n",
    "print(f\"-- Obtained shape when computing using  {data_MPlot.DM_AB.method} --\")\n",
    "print(data_MPlot.DM_AB.shape)\n",
    "print(f\"-- MP dimension using {data_MPlot.MP_AB.method}\")\n",
    "print(len(data_MPlot.MP_AB.distances))\n",
    "print(\"-- DM Values --\")\n",
    "print(data_MPlot.DM_AB.distances)\n",
    "print(\"-- MP values --\")\n",
    "print(data_MPlot.MP_AB.distances)"
   ]
  },
  {
   "cell_type": "markdown",
   "id": "8b5d856e-74a3-4d71-92ca-e3284ae1be58",
   "metadata": {},
   "source": [
    "### Visualize the plot"
   ]
  },
  {
   "cell_type": "markdown",
   "id": "b1ec4d01-a5d6-4d32-8ce6-e2183a491e49",
   "metadata": {
    "editable": true,
    "slideshow": {
     "slide_type": ""
    },
    "tags": []
   },
   "source": [
    "##### Motif found by MP"
   ]
  },
  {
   "cell_type": "code",
   "execution_count": null,
   "id": "949ee519-0413-4e18-a436-71c8e077e61f",
   "metadata": {
    "editable": true,
    "slideshow": {
     "slide_type": ""
    },
    "tags": []
   },
   "outputs": [],
   "source": [
    "print(\"Motif found using MP\")\n",
    "data_MPlot.MP_AB.get_motif_idx()\n",
    "print(data_MPlot.MP_AB.motif_idx)\n",
    "\n",
    "init = data_MPlot.MP_AB.motif_idx - m\n",
    "final = init+3*m\n",
    "print(f\"Plotted: ts[{init},{final}] => {data_MPlot.MP_AB.motif_idx} subsequence index changes to {data_MPlot.MP_AB.motif_idx-init}\")\n",
    "\n",
    "mplots.plot_subsequence(\n",
    "    TA = ts[init:final],\n",
    "    sequence_i = data_MPlot.MP_AB.motif_idx-init,\n",
    "    subsequence_len = m,\n",
    "    dots = False,\n",
    "    sequence_flag = False,\n",
    "    save_plot = True,\n",
    "    plot_path = \"./images\",\n",
    "    subsequence_color = \"orange\"\n",
    ")\n"
   ]
  },
  {
   "cell_type": "code",
   "execution_count": null,
   "id": "65d3d8c5",
   "metadata": {
    "editable": true,
    "slideshow": {
     "slide_type": ""
    },
    "tags": []
   },
   "outputs": [],
   "source": [
    "%matplotlib widget\n",
    "# Max points to plot\n",
    "data_MPlot.MP_AB.max_points = 3000\n",
    "data_MPlot.MP_AB.plot_interactive(verbose = 1, figsize=(8,7))"
   ]
  },
  {
   "cell_type": "markdown",
   "id": "fe90a870-9a31-4ec4-a1cc-2bbf591f3cb2",
   "metadata": {
    "editable": true,
    "slideshow": {
     "slide_type": ""
    },
    "tags": []
   },
   "source": [
    "#### Setting up a threshold\n",
    "\n",
    "It has been checked that, at least for pulsus raxodus, STUMP separates more the distances than SCAMP, so the proposed thresholds show similar plots for the specific case."
   ]
  },
  {
   "cell_type": "code",
   "execution_count": null,
   "id": "069a47f6-186a-41e7-8c7e-5fc1fcec778b",
   "metadata": {
    "editable": true,
    "slideshow": {
     "slide_type": ""
    },
    "tags": []
   },
   "outputs": [],
   "source": [
    "# Threshold per method\n",
    "threshold_scamp = 10\n",
    "threshold_stump = 7.5\n",
    "# Select the threshold for the method used for the computation\n",
    "threshold = threshold_stump if data_MPlot.DM_AB.method == 'stump' else threshold_scamp"
   ]
  },
  {
   "cell_type": "markdown",
   "id": "f8a3e178-ccb0-4457-8ff7-63a8b610a53c",
   "metadata": {},
   "source": [
    "#### Visualizing the MPlot in gray scale"
   ]
  },
  {
   "cell_type": "markdown",
   "id": "c1487e2e-10e8-45f7-90b6-fbc26230fad3",
   "metadata": {
    "editable": true,
    "slideshow": {
     "slide_type": ""
    },
    "tags": []
   },
   "source": [
    "<div style=\"background-color: yellow; color: red; padding: 15px; border-radius: 5px; border: 2px solid red; display: flex; align-items: center; margin: 20px 0;\">\n",
    "    <span style=\"font-size: 30px; font-weight: bold; margin-right: 10px;\">&#9888;</span>\n",
    "    <div>\n",
    "        <strong>Warning:</strong>&nbsp;&nbsp;TODO: check, the gray_color flag is in the opposite way... \n",
    "    </div>\n",
    "</div>"
   ]
  },
  {
   "cell_type": "markdown",
   "id": "898900f8-ba24-4f53-a686-0f1be393c9e3",
   "metadata": {
    "editable": true,
    "slideshow": {
     "slide_type": ""
    },
    "tags": []
   },
   "source": [
    "- El patrón es el mismo, cada vez un poco más para arriba\n",
    "- Eso significa que la distancia debe ser cada vez un poco mayor entre unos y otros (en este caso de manera constante)\n",
    "- Si miro una fila/columna de la matriz de similitud, debería ser cada número (saltando de m en m) un poco mayor que el siguiente\n",
    "- En los colores se debería ver cada vez más distancia entre unos y otros. "
   ]
  },
  {
   "cell_type": "code",
   "execution_count": null,
   "id": "319878d9-90b9-48d4-9552-bf8dccc0cc3f",
   "metadata": {
    "editable": true,
    "slideshow": {
     "slide_type": ""
    },
    "tags": []
   },
   "outputs": [],
   "source": [
    "print(data_MPlot.DM_AB.distances[0][0:m+1])\n",
    "print(data_MPlot.DM_AB.distances[0][m:2*m+1])\n",
    "total = len(data_MPlot.DM_AB.distances[0])\n",
    "print(data_MPlot.DM_AB.distances[0][total:total-m+1])\n"
   ]
  },
  {
   "cell_type": "code",
   "execution_count": null,
   "id": "5cfa3d01",
   "metadata": {
    "editable": true,
    "slideshow": {
     "slide_type": ""
    },
    "tags": []
   },
   "outputs": [],
   "source": [
    "print(f\"Threshold: {threshold} | Mehod: {data_MPlot.DM_AB.method}\")\n",
    "\n",
    "data_MPlot.plot(\n",
    "    ts_name     = 'Variable 0',\n",
    "    figsize     = (7,5),\n",
    "    less_labels = True,\n",
    "    # debug_flag  = False,\n",
    "    dm_filter   = mplots.threshold_interval,\n",
    "    th_min      = -np.inf,\n",
    "    th_max      = np.inf,\n",
    "    include_min = True,\n",
    "    include_max = True,\n",
    "    MPlot_title = 'S3: MPlot | ' + data_MPlot.DM_AB.method,\n",
    "    plot_mp_flag= False,\n",
    "    gray_color  = True,\n",
    "    verbose     = 0\n",
    ")"
   ]
  },
  {
   "cell_type": "markdown",
   "id": "befcedd4-c066-4bc8-9d42-1be34a9cf9d5",
   "metadata": {},
   "source": [
    "#### Tratando de definir una distancia buena para ver tendencias"
   ]
  },
  {
   "cell_type": "markdown",
   "id": "cd56e589-645a-4ede-8f8d-9c769bd2d369",
   "metadata": {},
   "source": [
    "##### CityBlock"
   ]
  },
  {
   "cell_type": "code",
   "execution_count": null,
   "id": "69496085-4ec5-41d0-94e4-456d5469a289",
   "metadata": {},
   "outputs": [],
   "source": [
    "def manhattan(\n",
    "    vector_a    = np.array([0]),\n",
    "    vector_b    = np.array([0]), \n",
    "    verbose     = 0,\n",
    "    time_flag   = False\n",
    "):\n",
    "    t = 0\n",
    "    if time_flag: \n",
    "        timer = dvats.utils.Time()\n",
    "        timer.start()\n",
    "        \n",
    "    if verbose > 0: \n",
    "        print(f\"Vectors: a: {vector_a} b: {vector_b}\")\n",
    "    distance = cityblock(vector_a, vector_b)\n",
    "    if time_flag:\n",
    "        timer.end()\n",
    "        t = timer.duration()\n",
    "    return distance, t"
   ]
  },
  {
   "cell_type": "code",
   "execution_count": null,
   "id": "249774c0-15cc-4a83-8190-4aafe6796ddf",
   "metadata": {},
   "outputs": [],
   "source": [
    "data_MPlot_trend_manhattan = mplots.MatrixProfilePlot(\n",
    "    DM_AB           = mplots.DistanceMatrix(), \n",
    "    MP_AB           = mplots.MatrixProfile(),\n",
    "    data            = ts, \n",
    "    data_b          = ts,\n",
    "    subsequence_len = pulsus_mp.subsequence_len,\n",
    "    self_join       = False\n",
    ")"
   ]
  },
  {
   "cell_type": "markdown",
   "id": "8242d6b3-2f45-4831-88be-03a2e5ce69cc",
   "metadata": {},
   "source": [
    "##### Trying to be able to detect both up and down trends"
   ]
  },
  {
   "cell_type": "code",
   "execution_count": null,
   "id": "ab6519c7-f400-438e-a21f-d5283a0abc76",
   "metadata": {},
   "outputs": [],
   "source": [
    "plt.close(\"all\")\n",
    "mplots.plot_with_dots(\n",
    "    time_series = ts[::-1], \n",
    "    title = \"S3[::-1]\", \n",
    "    fontsize = 10, \n",
    "    dots = False, \n",
    "    sequence_flag = False,\n",
    "    figsize = (20,6)\n",
    ")\n",
    "mplots.plot_subsequence(\n",
    "    TA = ts[::-1], \n",
    "    sequence_i = m+1,\n",
    "    subsequence_len = m,\n",
    "    dots = False,\n",
    "    sequence_flag = False,\n",
    "    save_plot = True,\n",
    "    plot_path = \"./images\"\n",
    ")\n",
    "mplots.plot_subsequence(\n",
    "    TA = ts[::-1], \n",
    "    sequence_i = 2*m+1,\n",
    "    subsequence_len = m,\n",
    "    dots = False,\n",
    "    sequence_flag = False,\n",
    "    save_plot = True,\n",
    "    plot_path = \"./images\"\n",
    ")"
   ]
  },
  {
   "cell_type": "code",
   "execution_count": null,
   "id": "c6895ea8-59c8-4195-9adc-e2cdf10ff718",
   "metadata": {},
   "outputs": [],
   "source": [
    "ts_ = ts[::-1]\n",
    "print(\"Euclidean\")\n",
    "print(euclidean(ts_[0:m], ts_[m:m+m]))\n",
    "print(euclidean(ts_[m:m+m], ts_[10*m:10*m+m]))\n",
    "print(euclidean(ts_[0:m], ts_[10*m:10*m+m]))"
   ]
  },
  {
   "cell_type": "code",
   "execution_count": null,
   "id": "707b0a5e",
   "metadata": {},
   "outputs": [],
   "source": [
    "def height_distance(#The no-distance with sign\n",
    "    vector_a    = np.array([0]),\n",
    "    vector_b    = np.array([0]),\n",
    "    verbose     = 0,\n",
    "    time_flag   = False\n",
    "): \n",
    "    t = 0\n",
    "    if time_flag:\n",
    "        timer = dvats.utils.Time()\n",
    "        timer.start()\n",
    "    if verbose > 0:\n",
    "        print(f\"Vectors: a: {vector_a} b: {vector_b}\")\n",
    "    mean_u      = vector_a.mean()\n",
    "    mean_v      = vector_b.mean()\n",
    "    no_distance = mean_u -mean_v\n",
    "    if time_flag: \n",
    "        timer.end()\n",
    "        t = timer.duration()\n",
    "    return no_distance, t"
   ]
  },
  {
   "cell_type": "code",
   "execution_count": null,
   "id": "9c0e2b1e-ed8c-4489-8757-6ef1b8be9e5d",
   "metadata": {},
   "outputs": [],
   "source": [
    "print(\"Height TS_\")\n",
    "print(height_distance(vector_a = ts_[0:m], vector_b = ts_[m:m+m], verbose = 1, time_flag = True))\n",
    "print(height_distance(ts_[m:m+m], ts_[10*m:10*m+m]))\n",
    "print(height_distance(ts_[0:m], ts_[10*m:10*m+m]))"
   ]
  },
  {
   "cell_type": "code",
   "execution_count": null,
   "id": "d36e9be7-5737-44e5-9a93-65f295159917",
   "metadata": {},
   "outputs": [],
   "source": [
    "print(\"Height TS\")\n",
    "print(height_distance(ts[0:m], ts[m:m+m]))\n",
    "print(height_distance(ts[m:m+m], ts[10*m:10*m+m]))\n",
    "print(height_distance(ts[0:m], ts[10*m:10*m+m]))"
   ]
  },
  {
   "cell_type": "code",
   "execution_count": null,
   "id": "99976e0f-71c9-4ae9-8df4-668c12c51017",
   "metadata": {},
   "outputs": [],
   "source": [
    "data_MPlot_trend = mplots.MatrixProfilePlot(\n",
    "    DM_AB           = mplots.DistanceMatrix(), \n",
    "    MP_AB           = mplots.MatrixProfile(),\n",
    "    data            = ts, \n",
    "    data_b          = ts,\n",
    "    subsequence_len = pulsus_mp.subsequence_len,\n",
    "    self_join       = False\n",
    ")"
   ]
  },
  {
   "cell_type": "code",
   "execution_count": null,
   "id": "c38ee5eb-bd67-40ac-8987-fb6c95419bf6",
   "metadata": {},
   "outputs": [],
   "source": [
    "data_MPlot_trend.compute(\n",
    "    mp_method           = 'stump', \n",
    "    dm_method           = 'naive',\n",
    "    d                   = height_distance,\n",
    "    debug               = False,\n",
    "    time_flag           = True,\n",
    "    allow_experimental  = False,\n",
    "    ensure_symetric     = False,\n",
    "    max_points          = 10000,\n",
    "    #nlens              = 5,\n",
    "    provide_len         = False,\n",
    "    subsequence_len     = data_MPlot.subsequence_len, #Revisar por qué no pilla bien coger el subsequence_len de los atributos\n",
    "    downsample_flag     = False,\n",
    "    min_lag             = 4,\n",
    "    verbose             = 0,\n",
    "    threads             = 1,\n",
    "    gpus                = [1]\n",
    ")"
   ]
  },
  {
   "cell_type": "code",
   "execution_count": null,
   "id": "e3dd89e2-99e0-47a4-bce7-e8f5b7c7b438",
   "metadata": {},
   "outputs": [],
   "source": [
    "data_MPlot_trend.DM_AB.distances"
   ]
  },
  {
   "cell_type": "code",
   "execution_count": null,
   "id": "577bad6a-0aeb-4f21-acac-515377007b6e",
   "metadata": {},
   "outputs": [],
   "source": [
    "print(f\"Threshold: {threshold} | Mehod: {data_MPlot.DM_AB.method}\")\n",
    "\n",
    "data_MPlot_trend.plot(\n",
    "    ts_name     = 'Variable 0',\n",
    "    figsize     = (7,5),\n",
    "    less_labels = True,\n",
    "    # debug_flag  = False,\n",
    "    dm_filter   = mplots.threshold_interval,\n",
    "    th_min      = -np.inf,\n",
    "    th_max      = np.inf,\n",
    "    include_min = True,\n",
    "    include_max = True,\n",
    "    MPlot_title = 'S3: MPlot | ' + data_MPlot.DM_AB.method,\n",
    "    plot_mp_flag= False,\n",
    "    gray_color  = True,\n",
    "    verbose     = 0\n",
    ")"
   ]
  },
  {
   "cell_type": "markdown",
   "id": "89b3410f-9c86-4c6e-858b-1ad77b9e1e1d",
   "metadata": {},
   "source": [
    "Comprobando tendencia a la baja"
   ]
  },
  {
   "cell_type": "code",
   "execution_count": null,
   "id": "58a9a7ca-7a98-4df1-8409-2316cd554a1e",
   "metadata": {},
   "outputs": [],
   "source": [
    "data_MPlot_trend_down = mplots.MatrixProfilePlot(\n",
    "    DM_AB           = mplots.DistanceMatrix(), \n",
    "    MP_AB           = mplots.MatrixProfile(),\n",
    "    data            = ts[::-1], \n",
    "    data_b          = ts[::-1],\n",
    "    subsequence_len = pulsus_mp.subsequence_len,\n",
    "    self_join       = False\n",
    ")"
   ]
  },
  {
   "cell_type": "code",
   "execution_count": null,
   "id": "156652ac-6788-48ed-aca7-8cc59593bd79",
   "metadata": {},
   "outputs": [],
   "source": [
    "data_MPlot_trend_down.compute(\n",
    "    mp_method           = 'stump', \n",
    "    dm_method           = 'naive',\n",
    "    d                   = height_distance,\n",
    "    debug               = False,\n",
    "    time_flag           = True,\n",
    "    allow_experimental  = False,\n",
    "    ensure_symetric     = False,\n",
    "    max_points          = 10000,\n",
    "    #nlens              = 5,\n",
    "    provide_len         = False,\n",
    "    subsequence_len     = data_MPlot.subsequence_len, #Revisar por qué no pilla bien coger el subsequence_len de los atributos\n",
    "    downsample_flag     = False,\n",
    "    min_lag             = 4,\n",
    "    verbose             = 0,\n",
    "    threads             = 1,\n",
    "    gpus                = [1]\n",
    ")"
   ]
  },
  {
   "cell_type": "code",
   "execution_count": null,
   "id": "0f083fd6-82c8-4c73-beb5-ec4eccc978d7",
   "metadata": {},
   "outputs": [],
   "source": [
    "data_MPlot_trend_down.DM_AB.distances"
   ]
  },
  {
   "cell_type": "code",
   "execution_count": null,
   "id": "b91b9bee-1303-434c-a5a8-03f73bd611ad",
   "metadata": {},
   "outputs": [],
   "source": [
    "print(f\"Threshold: {threshold} | Mehod: {data_MPlot.DM_AB.method}\")\n",
    "\n",
    "data_MPlot_trend_down.plot(\n",
    "    ts_name     = 'Variable 0',\n",
    "    figsize     = (7,5),\n",
    "    verbose     = 0,\n",
    "    less_labels = True,\n",
    "    # debug_flag  = False,\n",
    "    dm_filter   = mplots.threshold_interval,\n",
    "    th_min      = -np.inf,\n",
    "    th_max      = np.inf,\n",
    "    include_min = True,\n",
    "    include_max = True,\n",
    "    MPlot_title = 'S3: MPlot | ' + data_MPlot.DM_AB.method,\n",
    "    plot_mp_flag= False,\n",
    "    gray_color  = True\n",
    ")"
   ]
  },
  {
   "cell_type": "code",
   "execution_count": null,
   "id": "7c23edbd-1444-47fd-b313-8957dac7512b",
   "metadata": {
    "editable": true,
    "slideshow": {
     "slide_type": ""
    },
    "tags": []
   },
   "outputs": [],
   "source": [
    "run.finish()\n",
    "if reset_kernel:\n",
    "    os._exit(00)"
   ]
  }
 ],
 "metadata": {
  "kernelspec": {
   "display_name": "Python 3 (ipykernel)",
   "language": "python",
   "name": "python3"
  },
  "language_info": {
   "codemirror_mode": {
    "name": "ipython",
    "version": 3
   },
   "file_extension": ".py",
   "mimetype": "text/x-python",
   "name": "python",
   "nbconvert_exporter": "python",
   "pygments_lexer": "ipython3",
   "version": "3.10.13"
  }
 },
 "nbformat": 4,
 "nbformat_minor": 5
}

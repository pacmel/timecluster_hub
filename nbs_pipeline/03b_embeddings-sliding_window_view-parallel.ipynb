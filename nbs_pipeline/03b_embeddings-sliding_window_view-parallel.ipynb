{
 "cells": [
  {
   "cell_type": "markdown",
   "id": "9de2cd87-7d93-45ec-bd92-d97a85cf73b3",
   "metadata": {},
   "source": [
    "# Getting the embeddings\n",
    "\n",
    "This notebook gets the embeddings (or latent space) from a multivariate time series \n",
    "given by a encoder (e.g., autoencoder)\n",
    "\n",
    "> It uses sliding window view instead of sliding window for splitting the dataset."
   ]
  },
  {
   "cell_type": "markdown",
   "id": "227ff845-6fde-4168-9416-9a2c25a3fcb4",
   "metadata": {},
   "source": [
    "## Set-up\n",
    "Initial notebook setup and specific debugging and pre-configured cases selection.\n",
    "### VsCode update patch\n",
    "Initial notebook setup when using VSCode."
   ]
  },
  {
   "cell_type": "code",
   "execution_count": 1,
   "id": "16cbc1c7-f7a3-45bd-8bbb-afa3f5616a93",
   "metadata": {},
   "outputs": [],
   "source": [
    "# This is only needed if the notebook is run in VSCode\n",
    "import sys\n",
    "if '--vscode' in sys.argv:\n",
    "    print(\"Executing inside vscode\")\n",
    "    import nbs_pipeline.utils.vscode  as vs\n",
    "    vs.DisplayHandle.update = vs.update_patch"
   ]
  },
  {
   "cell_type": "markdown",
   "id": "394271bc-8f31-4260-859c-786f3eb0d57c",
   "metadata": {},
   "source": [
    "### Debugging variables\n",
    "\n",
    "- `print_flag`. If `True` it adds debbuging messages in those functions that allows so (eg. `get_enc_embeddings`)\n",
    "- `reset_kernel`. If `True` it resets the kernel by the end of the execution. Use only in case that memory management is needed.\n",
    "- `check_memory_usage`. If `True`, it adds some lines for checking the GPU memmory ussage along the execution.\n",
    "- `time_flag`. If `True` it get the execution time along the notebook as well as inside those functions that allows so (eg. `get_enc_embeddings`)"
   ]
  },
  {
   "cell_type": "code",
   "execution_count": 2,
   "id": "ebec64d9-8de6-4dbd-be65-f1b5aa166ec6",
   "metadata": {},
   "outputs": [],
   "source": [
    "print_flag = False\n",
    "reset_kernel = True\n",
    "check_memory_usage = True\n",
    "time_flag = True"
   ]
  },
  {
   "cell_type": "markdown",
   "id": "9f6709aa-8cfe-4676-8abc-59e81caa4532",
   "metadata": {},
   "source": [
    "## Main code\n",
    "### Import libraries"
   ]
  },
  {
   "cell_type": "code",
   "execution_count": 3,
   "id": "8db2cd5f-dd8d-42a3-bdc1-afc12ff80afb",
   "metadata": {},
   "outputs": [
    {
     "name": "stderr",
     "output_type": "stream",
     "text": [
      "/home/macu/env/lib/python3.10/site-packages/torchvision/io/image.py:13: UserWarning: Failed to load image Python extension: '/home/macu/env/lib/python3.10/site-packages/torchvision/image.so: undefined symbol: _ZNK3c107SymBool10guard_boolEPKcl'If you don't plan on using image functionality from `torchvision.io`, you can ignore this warning. Otherwise, there might be something wrong with your environment. Did you have `libjpeg` or `libpng` installed before building `torchvision` from source?\n",
      "  warn(\n"
     ]
    },
    {
     "name": "stdout",
     "output_type": "stream",
     "text": [
      "Used mem: 1972\n",
      "Used mem: 24576\n",
      "Memory Usage: [\u001b[90m█-------------------\u001b[0m] \u001b[90m8%\u001b[0m\n",
      "Used mem: 38445\n",
      "Used mem: 257575\n",
      "Memory Usage: [\u001b[90m██------------------\u001b[0m] \u001b[90m14.9%\u001b[0m\n"
     ]
    }
   ],
   "source": [
    "from dvats.all import *\n",
    "from tsai.data.preparation import prepare_forecasting_data\n",
    "from tsai.data.validation import get_forecasting_splits\n",
    "from fastcore.all import *\n",
    "import wandb\n",
    "from yaml import load, FullLoader\n",
    "if check_memory_usage:\n",
    "    import nbs_pipeline.utils.memory as mem\n",
    "    import torch \n",
    "import utils.config as cfg"
   ]
  },
  {
   "cell_type": "markdown",
   "id": "5fba1425-cc65-4145-bb2a-b563b7259ab6",
   "metadata": {},
   "source": [
    "### Initialize and Configurate Artifact"
   ]
  },
  {
   "cell_type": "code",
   "execution_count": 4,
   "id": "f7b3b099-266c-4879-bfc9-73f611e062ab",
   "metadata": {},
   "outputs": [],
   "source": [
    "wandb_api = wandb.Api()"
   ]
  },
  {
   "cell_type": "code",
   "execution_count": 5,
   "id": "5c01b778-d932-4b0e-ba07-135d0f03c587",
   "metadata": {},
   "outputs": [
    {
     "name": "stdout",
     "output_type": "stream",
     "text": [
      "Used mem: 1972\n",
      "Used mem: 24576\n",
      "Memory Usage: [\u001b[90m█-------------------\u001b[0m] \u001b[90m8%\u001b[0m\n"
     ]
    }
   ],
   "source": [
    "if check_memory_usage:\n",
    "    gpu_device = torch.cuda.current_device()\n",
    "    mem.gpu_memory_status(gpu_device)"
   ]
  },
  {
   "cell_type": "markdown",
   "id": "f280e30d-8195-4f39-898a-495d9253778b",
   "metadata": {},
   "source": [
    "#### Get configuration parameters from yml\n",
    "> Configuration parameters are obtained from 'config\\03-embeddings.yaml'"
   ]
  },
  {
   "cell_type": "code",
   "execution_count": 6,
   "id": "47519e96-4dd2-4096-8189-d735f88155ea",
   "metadata": {},
   "outputs": [],
   "source": [
    "config, job_type = cfg.get_artifact_config_embeddings(print_flag = print_flag)\n",
    "if print_flag: cfg.show_attrdict(config)"
   ]
  },
  {
   "cell_type": "markdown",
   "id": "e7fe624f-f4ff-4310-9d3c-23099381ed91",
   "metadata": {},
   "source": [
    "### Setup W&B artifact"
   ]
  },
  {
   "cell_type": "code",
   "execution_count": 7,
   "id": "67704d38",
   "metadata": {},
   "outputs": [
    {
     "name": "stdout",
     "output_type": "stream",
     "text": [
      "runname: 03b_embeddings-sliding_window_view\n"
     ]
    }
   ],
   "source": [
    "import os\n",
    "path = os.path.expanduser(\"~/work/nbs_pipeline/\")\n",
    "name=\"03b_embeddings-sliding_window_view\"\n",
    "os.environ[\"WANDB_NOTEBOOK_NAME\"] = path+name+\".ipynb\"\n",
    "runname=name\n",
    "print(\"runname: \"+runname)"
   ]
  },
  {
   "cell_type": "code",
   "execution_count": 8,
   "id": "fa46f602-bbf9-4d2d-ae68-771adae56199",
   "metadata": {},
   "outputs": [
    {
     "name": "stderr",
     "output_type": "stream",
     "text": [
      "wandb: Currently logged in as: mi-santamaria. Use `wandb login --relogin` to force relogin\n"
     ]
    },
    {
     "data": {
      "text/html": [
       "wandb version 0.16.1 is available!  To upgrade, please run:\n",
       " $ pip install wandb --upgrade"
      ],
      "text/plain": [
       "<IPython.core.display.HTML object>"
      ]
     },
     "metadata": {},
     "output_type": "display_data"
    },
    {
     "data": {
      "text/html": [
       "Tracking run with wandb version 0.14.2"
      ],
      "text/plain": [
       "<IPython.core.display.HTML object>"
      ]
     },
     "metadata": {},
     "output_type": "display_data"
    },
    {
     "data": {
      "text/html": [
       "Run data is saved locally in <code>/home/macu/work/wandb/run-20231226_155726-6mz5tdn9</code>"
      ],
      "text/plain": [
       "<IPython.core.display.HTML object>"
      ]
     },
     "metadata": {},
     "output_type": "display_data"
    },
    {
     "data": {
      "text/html": [
       "Syncing run <strong><a href='https://wandb.ai/mi-santamaria/deepvats/runs/6mz5tdn9' target=\"_blank\">03b_embeddings-sliding_window_view</a></strong> to <a href='https://wandb.ai/mi-santamaria/deepvats' target=\"_blank\">Weights & Biases</a> (<a href='https://wandb.me/run' target=\"_blank\">docs</a>)<br/>"
      ],
      "text/plain": [
       "<IPython.core.display.HTML object>"
      ]
     },
     "metadata": {},
     "output_type": "display_data"
    },
    {
     "data": {
      "text/html": [
       " View project at <a href='https://wandb.ai/mi-santamaria/deepvats' target=\"_blank\">https://wandb.ai/mi-santamaria/deepvats</a>"
      ],
      "text/plain": [
       "<IPython.core.display.HTML object>"
      ]
     },
     "metadata": {},
     "output_type": "display_data"
    },
    {
     "data": {
      "text/html": [
       " View run at <a href='https://wandb.ai/mi-santamaria/deepvats/runs/6mz5tdn9' target=\"_blank\">https://wandb.ai/mi-santamaria/deepvats/runs/6mz5tdn9</a>"
      ],
      "text/plain": [
       "<IPython.core.display.HTML object>"
      ]
     },
     "metadata": {},
     "output_type": "display_data"
    },
    {
     "name": "stdout",
     "output_type": "stream",
     "text": [
      "'stream.Stream' object attribute 'write' is read-only\n"
     ]
    }
   ],
   "source": [
    "run = wandb.init(\n",
    "    entity      = config.wandb_entity,\n",
    "    project     = config.wandb_project if config.use_wandb else 'work-nbs', \n",
    "    group       = config.wandb_group,\n",
    "    job_type    = job_type,\n",
    "    mode        = 'online' if config.use_wandb else 'disabled',\n",
    "    anonymous   = 'never' if config.use_wandb else 'must',\n",
    "    config      = config,\n",
    "    resume      = 'allow',\n",
    "    name        = runname\n",
    ")"
   ]
  },
  {
   "cell_type": "markdown",
   "id": "e4b68a48-1629-4ad4-940b-2abc310ad942",
   "metadata": {},
   "source": [
    "### Get trained model artifact"
   ]
  },
  {
   "cell_type": "markdown",
   "id": "9fa21e68-a1fd-4bf5-b3fc-84f5295f4ad1",
   "metadata": {},
   "source": [
    "##### Build artifact selector\n",
    "Botch to use artifacts offline"
   ]
  },
  {
   "cell_type": "code",
   "execution_count": 9,
   "id": "26dac90a-ed13-4f50-b95e-fc78c635e5ef",
   "metadata": {},
   "outputs": [],
   "source": [
    "artifacts_gettr = run.use_artifact if config.use_wandb else wandb_api.artifact"
   ]
  },
  {
   "cell_type": "markdown",
   "id": "08922829-19f7-4cdc-97b1-86f5a3b4f3d2",
   "metadata": {},
   "source": [
    "##### Get the model from W&B\n",
    "Restore the encoder model and its associated configuration"
   ]
  },
  {
   "cell_type": "code",
   "execution_count": 10,
   "id": "8e978658-78de-4dff-9679-d2ed1453dec0",
   "metadata": {},
   "outputs": [],
   "source": [
    "enc_artifact = artifacts_gettr(config.enc_artifact, type='learner')"
   ]
  },
  {
   "cell_type": "code",
   "execution_count": 11,
   "id": "0e2e9d57-f7c8-402d-b5eb-2158acd78199",
   "metadata": {},
   "outputs": [],
   "source": [
    "if print_flag: enc_artifact.metadata"
   ]
  },
  {
   "cell_type": "code",
   "execution_count": 12,
   "id": "84140812-334b-4c7f-984d-2c34d8064d6c",
   "metadata": {},
   "outputs": [
    {
     "name": "stdout",
     "output_type": "stream",
     "text": [
      "enc_artifact: mvp-SWV:v35\n"
     ]
    }
   ],
   "source": [
    "print(\"enc_artifact: \"+enc_artifact.name)"
   ]
  },
  {
   "cell_type": "code",
   "execution_count": 13,
   "id": "c7fbe313-d3b6-4793-aaf3-34d4b858065c",
   "metadata": {},
   "outputs": [
    {
     "name": "stderr",
     "output_type": "stream",
     "text": [
      "wandb:   1 of 1 files downloaded.  \n"
     ]
    }
   ],
   "source": [
    "# TODO: This only works when you run it two timeS! WTF?\n",
    "try:\n",
    "    enc_learner = enc_artifact.to_obj()\n",
    "except:\n",
    "    enc_learner = enc_artifact.to_obj()"
   ]
  },
  {
   "cell_type": "markdown",
   "id": "e0cb98d5-9ba2-4cc9-a033-91282bdab376",
   "metadata": {},
   "source": [
    "## Get dataset artifact from W&B\n",
    "### Restore the dataset artifact used for training the encoder. \n",
    "> Even if we do not compute the dimensionality reduction over this dataset, we need to know the metadata of the encoder training set, to check that it matches with the dataset that we want to reduce."
   ]
  },
  {
   "cell_type": "code",
   "execution_count": 14,
   "id": "4335e626-5faa-4d27-845c-015f23ab9375",
   "metadata": {},
   "outputs": [
    {
     "data": {
      "text/plain": [
       "'solar_4_seconds-1m:v0'"
      ]
     },
     "execution_count": 14,
     "metadata": {},
     "output_type": "execute_result"
    }
   ],
   "source": [
    "enc_run = enc_artifact.logged_by()\n",
    "enc_artifact_train = artifacts_gettr(enc_run.config['train_artifact'], type='dataset')\n",
    "enc_artifact_train.name"
   ]
  },
  {
   "cell_type": "markdown",
   "id": "d918829a-dd1f-4ddb-915c-cebf41665160",
   "metadata": {},
   "source": [
    "### Specify the dataset artifact that we want to get the embeddings from\n",
    "> If no artifact is defined, the artifact to reduce will be the one used for validate the encoder."
   ]
  },
  {
   "cell_type": "code",
   "execution_count": 15,
   "id": "59ff4ef9-cabd-41cb-84c8-ec86cadf5848",
   "metadata": {},
   "outputs": [
    {
     "data": {
      "text/plain": [
       "'solar_4_seconds-1m:v0'"
      ]
     },
     "execution_count": 15,
     "metadata": {},
     "output_type": "execute_result"
    }
   ],
   "source": [
    "input_ar_name = ifnone(\n",
    "    config.input_ar, \n",
    "    f'{enc_artifact_train.entity}/{enc_artifact_train.project}/{enc_artifact_train.name}'\n",
    ")\n",
    "wandb.config.update({'input_ar': input_ar_name}, allow_val_change=True)\n",
    "input_ar = artifacts_gettr(input_ar_name)\n",
    "input_ar.name"
   ]
  },
  {
   "cell_type": "code",
   "execution_count": 16,
   "id": "a84cf086-f6ee-4f04-a234-581a738fc338",
   "metadata": {},
   "outputs": [
    {
     "name": "stderr",
     "output_type": "stream",
     "text": [
      "wandb:   1 of 1 files downloaded.  \n"
     ]
    }
   ],
   "source": [
    "df = input_ar.to_df()\n",
    "\n",
    "if print_flag: \n",
    "    display(df.head())\n",
    "    print(\"df ~ \", df.shape)"
   ]
  },
  {
   "cell_type": "markdown",
   "id": "4747bdf8-9c9a-40c5-9845-80875866dcf0",
   "metadata": {},
   "source": [
    "### Split data with Sliding Window"
   ]
  },
  {
   "cell_type": "code",
   "execution_count": 17,
   "id": "9726a55d-2cd2-4f35-a3d8-c6c24a169cac",
   "metadata": {},
   "outputs": [],
   "source": [
    "import time"
   ]
  },
  {
   "cell_type": "code",
   "execution_count": 18,
   "id": "80dd2226-1a8e-41f7-9569-862a4ddbc8ae",
   "metadata": {},
   "outputs": [],
   "source": [
    "w = enc_run.config['w']\n",
    "if print_flag: print(w)"
   ]
  },
  {
   "cell_type": "code",
   "execution_count": 19,
   "id": "c8ae7f00-78fb-4ab1-98e4-fb48bf61777a",
   "metadata": {},
   "outputs": [
    {
     "name": "stdout",
     "output_type": "stream",
     "text": [
      "Used mem: 1972\n",
      "Used mem: 24576\n",
      "Memory Usage: [\u001b[90m█-------------------\u001b[0m] \u001b[90m8%\u001b[0m\n"
     ]
    }
   ],
   "source": [
    "if check_memory_usage: mem.gpu_memory_status(gpu_device)"
   ]
  },
  {
   "cell_type": "code",
   "execution_count": 20,
   "id": "96f2e07c-b3fd-4593-89a2-9a956278102e",
   "metadata": {},
   "outputs": [
    {
     "data": {
      "text/plain": [
       "pandas.core.frame.DataFrame"
      ]
     },
     "execution_count": 20,
     "metadata": {},
     "output_type": "execute_result"
    }
   ],
   "source": [
    "type(df)"
   ]
  },
  {
   "cell_type": "code",
   "execution_count": 21,
   "id": "49908f03-6875-4e27-8050-09af41dc62bc",
   "metadata": {},
   "outputs": [
    {
     "name": "stdout",
     "output_type": "stream",
     "text": [
      "SW start |  1703606257.0344324  | end  1703606257.0353668 total (secs):  0.0009343624114990234\n"
     ]
    }
   ],
   "source": [
    "if time_flag: t_start = time.time()\n",
    "\n",
    "enc_input, _ = prepare_forecasting_data(df, fcst_history = w)\n",
    "\n",
    "if time_flag: \n",
    "    t_end = time.time()\n",
    "    t = t_end - t_start\n",
    "    print(\"SW start | \" , t_start, \" | end \", t_end, \"total (secs): \", t)\n",
    "\n",
    "if print_flag: print(enc_input.shape)"
   ]
  },
  {
   "cell_type": "code",
   "execution_count": 22,
   "id": "9088fc92-21fe-4132-85b3-a3ec68e6946c",
   "metadata": {},
   "outputs": [
    {
     "name": "stdout",
     "output_type": "stream",
     "text": [
      "Used mem: 1972\n",
      "Used mem: 24576\n",
      "Memory Usage: [\u001b[90m█-------------------\u001b[0m] \u001b[90m8%\u001b[0m\n"
     ]
    }
   ],
   "source": [
    "if check_memory_usage: mem.gpu_memory_status(gpu_device)"
   ]
  },
  {
   "cell_type": "markdown",
   "id": "6cae88e0",
   "metadata": {},
   "source": [
    "### Get embedings"
   ]
  },
  {
   "cell_type": "code",
   "execution_count": 23,
   "id": "488abe17-a776-4708-bfca-333e3a346673",
   "metadata": {},
   "outputs": [],
   "source": [
    "stride = enc_run.config['stride']\n",
    "batch_size = enc_run.config['batch_size']\n",
    "#enc_learner.dls.bs = enc_run.config['batch_size']"
   ]
  },
  {
   "cell_type": "code",
   "execution_count": 24,
   "id": "106b3380-485b-4da3-adaa-4186fcad3d42",
   "metadata": {},
   "outputs": [],
   "source": [
    "if print_flag:\n",
    "    print(stride)\n",
    "    print(batch_size)\n",
    "    print(enc_input.shape)\n",
    "    print(enc_artifact.name)"
   ]
  },
  {
   "cell_type": "code",
   "execution_count": 25,
   "id": "390a8682-0868-4bc4-81e1-28162c654f78",
   "metadata": {},
   "outputs": [
    {
     "name": "stdout",
     "output_type": "stream",
     "text": [
      "(492249, 1, 900)\n"
     ]
    }
   ],
   "source": [
    "print(enc_input.shape)"
   ]
  },
  {
   "cell_type": "code",
   "execution_count": 26,
   "id": "a274710e-02cd-41c7-be3d-a2173cd9417a",
   "metadata": {},
   "outputs": [
    {
     "name": "stdout",
     "output_type": "stream",
     "text": [
      "Used mem: 1972\n",
      "Used mem: 24576\n",
      "Memory Usage: [\u001b[90m█-------------------\u001b[0m] \u001b[90m8%\u001b[0m\n"
     ]
    }
   ],
   "source": [
    "if check_memory_usage: mem.gpu_memory_status(gpu_device)"
   ]
  },
  {
   "cell_type": "code",
   "execution_count": 27,
   "id": "08bfd363-3c5d-4f4d-a7e7-cb65c8bd9f3d",
   "metadata": {
    "editable": true,
    "slideshow": {
     "slide_type": ""
    },
    "tags": []
   },
   "outputs": [
    {
     "ename": "<class 'NameError'>",
     "evalue": "name 'get_enc_embs_set_stride_set_batch_size_parallel' is not defined",
     "output_type": "error",
     "traceback": [
      "\u001b[0;31m\u001b[0m",
      "\u001b[0;31mNameError\u001b[0mTraceback (most recent call last)",
      "Cell \u001b[0;32mIn[27], line 3\u001b[0m\n\u001b[1;32m      1\u001b[0m \u001b[38;5;28;01mif\u001b[39;00m time_flag: t_start \u001b[38;5;241m=\u001b[39m time\u001b[38;5;241m.\u001b[39mtime()\n\u001b[0;32m----> 3\u001b[0m embs \u001b[38;5;241m=\u001b[39m get_enc_embs_set_stride_set_batch_size_parallel(\n\u001b[1;32m      4\u001b[0m     X \u001b[38;5;241m=\u001b[39m enc_input, \n\u001b[1;32m      5\u001b[0m     enc_learn \u001b[38;5;241m=\u001b[39m enc_learner, \n\u001b[1;32m      6\u001b[0m     stride \u001b[38;5;241m=\u001b[39m stride, \n\u001b[1;32m      7\u001b[0m     batch_size \u001b[38;5;241m=\u001b[39m batch_size, \n\u001b[1;32m      8\u001b[0m     cpu\u001b[38;5;241m=\u001b[39mconfig\u001b[38;5;241m.\u001b[39mcpu, \n\u001b[1;32m      9\u001b[0m     to_numpy\u001b[38;5;241m=\u001b[39m\u001b[38;5;28;01mTrue\u001b[39;00m, \n\u001b[1;32m     10\u001b[0m     print_flag \u001b[38;5;241m=\u001b[39m print_flag,\n\u001b[1;32m     11\u001b[0m     time_flag \u001b[38;5;241m=\u001b[39m time_flag,\n\u001b[1;32m     12\u001b[0m     chunk_size \u001b[38;5;241m=\u001b[39m \u001b[38;5;241m1000\u001b[39m,\n\u001b[1;32m     13\u001b[0m     check_memory_usage \u001b[38;5;241m=\u001b[39m check_memory_usage\n\u001b[1;32m     14\u001b[0m )\n\u001b[1;32m     15\u001b[0m \u001b[38;5;28;01mif\u001b[39;00m time_flag:\n\u001b[1;32m     16\u001b[0m     t_end \u001b[38;5;241m=\u001b[39m time\u001b[38;5;241m.\u001b[39mtime()\n",
      "\u001b[0;31mNameError\u001b[0m: name 'get_enc_embs_set_stride_set_batch_size_parallel' is not defined"
     ]
    }
   ],
   "source": [
    "if time_flag: t_start = time.time()\n",
    "\n",
    "embs = get_enc_embs_set_stride_set_batch_size_parallel(\n",
    "    X = enc_input, \n",
    "    enc_learn = enc_learner, \n",
    "    stride = stride, \n",
    "    batch_size = batch_size, \n",
    "    cpu=config.cpu, \n",
    "    to_numpy=True, \n",
    "    print_flag = print_flag,\n",
    "    time_flag = time_flag,\n",
    "    chunk_size = 1000,\n",
    "    check_memory_usage = check_memory_usage\n",
    ")\n",
    "if time_flag:\n",
    "    t_end = time.time()\n",
    "    t = t_end - t_start\n",
    "    print(\"GE start | \" , t_start, \" | end \", t_end, \"total (secs): \", t)"
   ]
  },
  {
   "cell_type": "code",
   "execution_count": null,
   "id": "cf2fdba7-565e-467a-b0e2-6794a5e9ca58",
   "metadata": {},
   "outputs": [],
   "source": [
    "%debug"
   ]
  },
  {
   "cell_type": "code",
   "execution_count": null,
   "id": "ff104cf8-3d50-423b-bffd-0586d6ce569a",
   "metadata": {},
   "outputs": [],
   "source": [
    "if check_memory_usage: mem.gpu_memory_status(gpu_device)"
   ]
  },
  {
   "cell_type": "code",
   "execution_count": null,
   "id": "3393cc12-f6c2-4bdc-adba-662689a9c979",
   "metadata": {},
   "outputs": [],
   "source": [
    "if config.use_wandb: \n",
    "    run.log_artifact(ReferenceArtifact(embs, 'embeddings-SWV', metadata=dict(run.config)), \n",
    "                     aliases=f'run-{run.project}-{run.id}')"
   ]
  },
  {
   "cell_type": "code",
   "execution_count": null,
   "id": "2de38c4f-a266-45b5-a99f-0964f5a55113",
   "metadata": {},
   "outputs": [],
   "source": [
    "run.finish()"
   ]
  },
  {
   "cell_type": "markdown",
   "id": "de79d3e7-78e3-40f4-a2c6-eac8e5a1adda",
   "metadata": {},
   "source": [
    "## Final checks"
   ]
  },
  {
   "cell_type": "markdown",
   "id": "0946f97e-cd22-4a06-b05f-54a247c48207",
   "metadata": {},
   "source": [
    "### Check num_inputs = embs\n",
    "num_inputs = len(enc_input[::stride]) = enc_input.shape[0]/stride + 1 if extra block = ceil(enc_input.shape[0]/stride\n",
    "\n",
    "num_embs = embs.shape[0]"
   ]
  },
  {
   "cell_type": "code",
   "execution_count": null,
   "id": "5b1f0cf3-9a20-486e-b6a3-5d83cae69786",
   "metadata": {},
   "outputs": [],
   "source": [
    "#Dimensions check\n",
    "num_inputs = np.ceil(enc_input.shape[0]/stride)\n",
    "num_embs = embs.shape[0]\n",
    "test_eq(num_inputs, num_embs )\n",
    "print(num_inputs, num_embs)"
   ]
  },
  {
   "cell_type": "markdown",
   "id": "8341e153-e413-4bf6-9bc3-d920f91db121",
   "metadata": {},
   "source": [
    "# Free GPU"
   ]
  },
  {
   "cell_type": "code",
   "execution_count": null,
   "id": "cfe6b9db-6b15-4b4e-b13e-e2f5ef185d1d",
   "metadata": {},
   "outputs": [],
   "source": [
    "if check_memory_usage: mem.gpu_memory_status(gpu_device)"
   ]
  },
  {
   "cell_type": "code",
   "execution_count": null,
   "id": "0de48956-6661-4d28-91e4-85f11350a142",
   "metadata": {},
   "outputs": [],
   "source": [
    "print(\"Execution ended\")\n",
    "if reset_kernel:\n",
    "    import os\n",
    "    os._exit(00)"
   ]
  }
 ],
 "metadata": {
  "kernelspec": {
   "display_name": "Python 3.10 (XPython)",
   "language": "python",
   "name": "xpython"
  },
  "language_info": {
   "file_extension": ".py",
   "mimetype": "text/x-python",
   "name": "python",
   "version": "3.10.12"
  }
 },
 "nbformat": 4,
 "nbformat_minor": 5
}

{
 "cells": [
  {
   "cell_type": "code",
   "execution_count": 29,
   "id": "4c75b6e2-1bfc-46b2-b536-4c3e15bf07fd",
   "metadata": {},
   "outputs": [],
   "source": [
    "from tsai.data.core import TSTensor\n",
    "from tsai.data.preprocessing  import TSRollingMean\n",
    "import torch \n",
    "import numpy as np\n",
    "from fastai.test_utils import test_eq"
   ]
  },
  {
   "cell_type": "markdown",
   "id": "e25ff45f-4aaa-454b-b1ad-d98b1c316e63",
   "metadata": {},
   "source": [
    "# Basic example without NaNs"
   ]
  },
  {
   "cell_type": "code",
   "execution_count": 17,
   "id": "faf592b7-59b5-421c-a93f-c7685ebfadfa",
   "metadata": {},
   "outputs": [
    {
     "name": "stdout",
     "output_type": "stream",
     "text": [
      "TSTensor(samples:1, vars:1, len:22, device=cpu, dtype=torch.int64)\n",
      "torch.Size([1, 2, 22])\n",
      "tensor([[[211.0000, 191.0000, 176.0000, 167.0000, 188.0000, 212.0000, 207.0000,\n",
      "          293.0000, 295.0000, 372.0000, 427.0000, 417.0000, 415.0000, 484.0000,\n",
      "          442.0000, 502.0000, 571.0000, 638.0000, 689.0000, 742.0000, 738.0000,\n",
      "          799.0000],\n",
      "         [211.0000, 201.0000, 192.6667, 186.2500, 186.6000, 190.8333, 193.1429,\n",
      "          204.8571, 219.7143, 247.7143, 284.8571, 317.5714, 346.5714, 386.1429,\n",
      "          407.4286, 437.0000, 465.4286, 495.5714, 534.4286, 581.1429, 617.4286,\n",
      "          668.4286]]])\n"
     ]
    }
   ],
   "source": [
    "def rolling_means_example1():\n",
    "    arr = [[[\n",
    "            211, 191, 176, 167, 188, 212, 207, 293, 295, 372, 427, 417, 415, 484, \n",
    "            442, 502, 571, 638, 689, 742, 738, 799\n",
    "          ]]]\n",
    "    t = TSTensor(arr)\n",
    "    print(t)\n",
    "    enc_t = TSRollingMean(sel_vars=[0], window=7)(t)\n",
    "    print(enc_t.shape)\n",
    "    print(enc_t.data)\n",
    "rolling_means_example1()"
   ]
  },
  {
   "cell_type": "markdown",
   "id": "6725a1c6-01e4-4bd4-9dfe-e37ab9fcfb47",
   "metadata": {},
   "source": [
    "Calcula la media desde max(0, pos - window) hasta pos"
   ]
  },
  {
   "cell_type": "code",
   "execution_count": 4,
   "id": "85befa6a-a3ca-4f0e-8872-364a9d78c312",
   "metadata": {},
   "outputs": [
    {
     "data": {
      "text/plain": [
       "201.0"
      ]
     },
     "execution_count": 4,
     "metadata": {},
     "output_type": "execute_result"
    }
   ],
   "source": [
    "(211+191)/2"
   ]
  },
  {
   "cell_type": "code",
   "execution_count": 5,
   "id": "47e1ed54-6f87-48ef-84fe-9b66108a8ef1",
   "metadata": {},
   "outputs": [
    {
     "data": {
      "text/plain": [
       "192.66666666666666"
      ]
     },
     "execution_count": 5,
     "metadata": {},
     "output_type": "execute_result"
    }
   ],
   "source": [
    "(211+191+176)/3"
   ]
  },
  {
   "cell_type": "code",
   "execution_count": 6,
   "id": "5f539127-0463-4647-b03c-952ae839d373",
   "metadata": {},
   "outputs": [
    {
     "data": {
      "text/plain": [
       "193.14285714285714"
      ]
     },
     "execution_count": 6,
     "metadata": {},
     "output_type": "execute_result"
    }
   ],
   "source": [
    "(211+191+176+167+188+212+207)/7"
   ]
  },
  {
   "cell_type": "code",
   "execution_count": 7,
   "id": "c4a7937c-c3b3-423e-95ee-c3107f1e5e6a",
   "metadata": {},
   "outputs": [
    {
     "data": {
      "text/plain": [
       "204.85714285714286"
      ]
     },
     "execution_count": 7,
     "metadata": {},
     "output_type": "execute_result"
    }
   ],
   "source": [
    "(191+176+167+188+212+207+293)/7"
   ]
  },
  {
   "cell_type": "markdown",
   "id": "f9145593-1934-475a-9bff-f1949c21feee",
   "metadata": {},
   "source": [
    "# Same example with some Nans, window = 1"
   ]
  },
  {
   "cell_type": "code",
   "execution_count": 30,
   "id": "e09e1865-9cab-4474-93d5-ca96ec153407",
   "metadata": {},
   "outputs": [
    {
     "name": "stdout",
     "output_type": "stream",
     "text": [
      "[[[211, 191, nan, 167, 188, nan, 207, 293, 295, 372, 427, 417, 415, 484, 442, 502, 571, nan, 689, nan, 738, 799]]]\n",
      "tensor([[[211., 191.,  nan, 167., 188.,  nan, 207., 293., 295., 372., 427.,\n",
      "          417., 415., 484., 442., 502., 571.,  nan, 689.,  nan, 738., 799.]]])\n",
      "torch.Size([1, 1, 22])\n",
      "tensor([[[211., 191., 191., 167., 188., 188., 207., 293., 295., 372., 427.,\n",
      "          417., 415., 484., 442., 502., 571., 571., 689., 689., 738., 799.],\n",
      "         [211., 191., 191., 167., 188., 188., 207., 293., 295., 372., 427.,\n",
      "          417., 415., 484., 442., 502., 571., 571., 689., 689., 738., 799.]]])\n",
      "torch.Size([1, 2, 22])\n"
     ]
    }
   ],
   "source": [
    "def rolling_means_example2():\n",
    "    arr = [[[\n",
    "            211, 191, np.nan, 167, 188, np.nan, 207, 293, 295, 372, 427, 417, 415, 484, \n",
    "            442, 502, 571, np.nan, 689, np.nan, 738, 799\n",
    "          ]]]\n",
    "    print(arr)\n",
    "    t = TSTensor(arr)\n",
    "    print(t.data)\n",
    "    print(t.shape)\n",
    "    enc_t = TSRollingMean(sel_vars=[0], window=1)(t)\n",
    "    print(enc_t.data)\n",
    "    print(enc_t.shape)\n",
    "rolling_means_example2()"
   ]
  },
  {
   "cell_type": "markdown",
   "id": "0c8de29e-1199-40fd-8b5b-4969fdec2c17",
   "metadata": {},
   "source": [
    "See that nans have been filled up by the inmediate previous numeric value. The same happens if we come back to window = 7. "
   ]
  },
  {
   "cell_type": "code",
   "execution_count": 31,
   "id": "950a3633-8129-4505-b760-2929a0f9d2b2",
   "metadata": {},
   "outputs": [
    {
     "name": "stdout",
     "output_type": "stream",
     "text": [
      "[[[211, 191, nan, 167, 188, nan, 207, 293, 295, 372, 427, 417, 415, 484, 442, 502, 571, nan, 689, nan, 738, 799]]]\n",
      "tensor([[[211., 191.,  nan, 167., 188.,  nan, 207., 293., 295., 372., 427.,\n",
      "          417., 415., 484., 442., 502., 571.,  nan, 689.,  nan, 738., 799.]]])\n",
      "torch.Size([1, 1, 22])\n",
      "tensor([[[211.0000, 191.0000, 191.0000, 167.0000, 188.0000, 188.0000, 207.0000,\n",
      "          293.0000, 295.0000, 372.0000, 427.0000, 417.0000, 415.0000, 484.0000,\n",
      "          442.0000, 502.0000, 571.0000, 571.0000, 689.0000, 689.0000, 738.0000,\n",
      "          799.0000],\n",
      "         [211.0000, 201.0000, 197.6667, 190.0000, 189.6000, 189.3333, 191.8571,\n",
      "          203.5714, 218.4286, 244.2857, 281.4286, 314.1429, 346.5714, 386.1429,\n",
      "          407.4286, 437.0000, 465.4286, 486.0000, 524.8571, 564.0000, 600.2857,\n",
      "          651.2857]]])\n",
      "torch.Size([1, 2, 22])\n"
     ]
    }
   ],
   "source": [
    "def rolling_means_example3():\n",
    "    arr = [[[\n",
    "            211, 191, np.nan, 167, 188, np.nan, 207, 293, 295, 372, 427, 417, 415, 484, \n",
    "            442, 502, 571, np.nan, 689, np.nan, 738, 799\n",
    "          ]]]\n",
    "    print(arr)\n",
    "    t = TSTensor(arr)\n",
    "    print(t.data)\n",
    "    print(t.shape)\n",
    "    enc_t = TSRollingMean(sel_vars=[0], window=7)(t)\n",
    "    print(enc_t.data)\n",
    "    print(enc_t.shape)\n",
    "rolling_means_example3()"
   ]
  },
  {
   "cell_type": "markdown",
   "id": "7b0fcb82-7df1-49cf-95ed-4b5d773a2e40",
   "metadata": {},
   "source": [
    "## Ejemplo de la página web de TSAI\n",
    "> Observa que si lo que es Nan son los primeros valores, se rellenan en función del valor numérico inmediatamente posterior. "
   ]
  },
  {
   "cell_type": "code",
   "execution_count": 34,
   "id": "cda728d2-47db-4aab-b228-5cd51276380b",
   "metadata": {},
   "outputs": [
    {
     "name": "stdout",
     "output_type": "stream",
     "text": [
      "tensor([[[   nan,    nan, 0.0100, 0.3162, 0.1992, 0.1408,    nan, 0.3045],\n",
      "         [0.0657, 0.0416,    nan,    nan,    nan, 0.1085, 0.3925, 0.5477],\n",
      "         [   nan, 0.4750,    nan,    nan, 0.5741,    nan, 0.5674, 0.3548]]])\n",
      "torch.Size([1, 3, 8])\n",
      "--> Rolling mean vars 0,2 | w = 3 <--\n",
      "torch.Size([1, 5, 8])\n",
      "tensor([[[0.0100, 0.0100, 0.0100, 0.3162, 0.1992, 0.1408, 0.1408, 0.3045],\n",
      "         [0.0657, 0.0416,    nan,    nan,    nan, 0.1085, 0.3925, 0.5477],\n",
      "         [0.4750, 0.4750, 0.4750, 0.4750, 0.5741, 0.5741, 0.5674, 0.3548],\n",
      "         [0.0100, 0.0100, 0.0100, 0.1121, 0.1751, 0.2187, 0.1603, 0.1954],\n",
      "         [0.4750, 0.4750, 0.4750, 0.4750, 0.5080, 0.5411, 0.5719, 0.4988]]])\n"
     ]
    }
   ],
   "source": [
    "def tsai_example_1():        \n",
    "    bs, c_in, seq_len = 1,3,8\n",
    "    t = TSTensor(torch.rand(bs, c_in, seq_len))\n",
    "    t[t > .6] = np.nan\n",
    "    print(t.data)\n",
    "    print(t.shape)\n",
    "    print(\"--> Rolling mean vars 0,2 | w = 3 <--\")\n",
    "    enc_t = TSRollingMean(sel_vars=[0,2], window=3)(t)\n",
    "    print(enc_t.shape)\n",
    "    print(enc_t.data)\n",
    "    \n",
    "tsai_example_1()"
   ]
  },
  {
   "cell_type": "code",
   "execution_count": 36,
   "id": "584ada00-bc11-470a-aa23-a10ec8ae92f9",
   "metadata": {},
   "outputs": [
    {
     "data": {
      "text/plain": [
       "0.11206666666666666"
      ]
     },
     "execution_count": 36,
     "metadata": {},
     "output_type": "execute_result"
    }
   ],
   "source": [
    "(0.3162+0.01+0.01)/3"
   ]
  },
  {
   "cell_type": "markdown",
   "id": "2f849aba-1377-45bd-8c49-427f905d7735",
   "metadata": {},
   "source": [
    "Observa que, por defecto, replace = False y se añade una variable extra por cada rolling mean calculada. Si quieres sustituir la variable original por la media en cuestión, basta con poner replace a True"
   ]
  },
  {
   "cell_type": "code",
   "execution_count": 38,
   "id": "53ffce07-a7e5-4931-b8fa-3794dc802648",
   "metadata": {},
   "outputs": [
    {
     "name": "stdout",
     "output_type": "stream",
     "text": [
      "tensor([[[0.1753,    nan,    nan, 0.1087,    nan, 0.5195,    nan,    nan],\n",
      "         [   nan,    nan, 0.2085,    nan, 0.2067,    nan, 0.1996, 0.4179],\n",
      "         [0.0807,    nan, 0.5955,    nan,    nan, 0.0918, 0.1510, 0.2600]]])\n",
      "torch.Size([1, 3, 8])\n",
      "--> Rolling mean vars default | w = 3 | replace = True => no debe añadir más columnas <--\n",
      "tensor([[[0.1753, 0.1753, 0.1753, 0.1531, 0.1309, 0.2456, 0.3826, 0.5195],\n",
      "         [0.2085, 0.2085, 0.2085, 0.2085, 0.2079, 0.2073, 0.2043, 0.2747],\n",
      "         [0.0807, 0.0807, 0.2523, 0.4239, 0.5955, 0.4276, 0.2794, 0.1676]]])\n"
     ]
    }
   ],
   "source": [
    "def tsai_example_2():        \n",
    "    bs, c_in, seq_len = 1,3,8\n",
    "    t = TSTensor(torch.rand(bs, c_in, seq_len))\n",
    "    t[t > .6] = np.nan\n",
    "    print(t.data)\n",
    "    print(t.shape)\n",
    "\n",
    "    print(\"--> Rolling mean vars default | w = 3 | replace = True => no debe añadir más columnas <--\")\n",
    "    enc_t = TSRollingMean(window=3, replace=True)(t)\n",
    "    test_eq(enc_t.shape[1], 3)\n",
    "    print(enc_t.data)\n",
    "\n",
    "tsai_example_2()"
   ]
  }
 ],
 "metadata": {
  "kernelspec": {
   "display_name": "Python 3 (ipykernel)",
   "language": "python",
   "name": "python3"
  },
  "language_info": {
   "codemirror_mode": {
    "name": "ipython",
    "version": 3
   },
   "file_extension": ".py",
   "mimetype": "text/x-python",
   "name": "python",
   "nbconvert_exporter": "python",
   "pygments_lexer": "ipython3",
   "version": "3.10.13"
  }
 },
 "nbformat": 4,
 "nbformat_minor": 5
}

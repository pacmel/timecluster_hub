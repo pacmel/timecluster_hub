{
 "cells": [
  {
   "cell_type": "code",
   "execution_count": null,
   "id": "4c75b6e2-1bfc-46b2-b536-4c3e15bf07fd",
   "metadata": {},
   "outputs": [],
   "source": [
    "from tsai.data.core import TSTensor\n",
    "from tsai.data.preprocessing  import TSRollingMean\n",
    "import torch \n",
    "import numpy as np\n",
    "from fastai.test_utils import test_eq"
   ]
  },
  {
   "cell_type": "markdown",
   "id": "e25ff45f-4aaa-454b-b1ad-d98b1c316e63",
   "metadata": {},
   "source": [
    "# Basic example without NaNs"
   ]
  },
  {
   "cell_type": "code",
   "execution_count": null,
   "id": "faf592b7-59b5-421c-a93f-c7685ebfadfa",
   "metadata": {},
   "outputs": [],
   "source": [
    "def rolling_means_example1(print_flag = True):\n",
    "    arr = [[[\n",
    "            211, 191, 176, 167, 188, 212, 207, 293, 295, 372, 427, 417, 415, 484, \n",
    "            442, 502, 571, 638, 689, 742, 738, 799\n",
    "          ]]]\n",
    "    t = TSTensor(arr)\n",
    "    if print_flag: \n",
    "        print(t)\n",
    "        print(t.shape)\n",
    "    enc_t = TSRollingMean(sel_vars=[0], window=7)(t)\n",
    "    if print_flag: \n",
    "        print(enc_t.shape)\n",
    "        print(enc_t.data)\n",
    "rolling_means_example1(True)"
   ]
  },
  {
   "cell_type": "markdown",
   "id": "6725a1c6-01e4-4bd4-9dfe-e37ab9fcfb47",
   "metadata": {},
   "source": [
    "Calcula la media desde max(0, pos - window) hasta pos"
   ]
  },
  {
   "cell_type": "code",
   "execution_count": null,
   "id": "85befa6a-a3ca-4f0e-8872-364a9d78c312",
   "metadata": {},
   "outputs": [],
   "source": [
    "(211+191)/2"
   ]
  },
  {
   "cell_type": "code",
   "execution_count": null,
   "id": "47e1ed54-6f87-48ef-84fe-9b66108a8ef1",
   "metadata": {},
   "outputs": [],
   "source": [
    "(211+191+176)/3"
   ]
  },
  {
   "cell_type": "code",
   "execution_count": null,
   "id": "5f539127-0463-4647-b03c-952ae839d373",
   "metadata": {},
   "outputs": [],
   "source": [
    "(211+191+176+167+188+212+207)/7"
   ]
  },
  {
   "cell_type": "code",
   "execution_count": null,
   "id": "c4a7937c-c3b3-423e-95ee-c3107f1e5e6a",
   "metadata": {},
   "outputs": [],
   "source": [
    "(191+176+167+188+212+207+293)/7"
   ]
  },
  {
   "cell_type": "markdown",
   "id": "f9145593-1934-475a-9bff-f1949c21feee",
   "metadata": {},
   "source": [
    "# Same example with some Nans, window = 1"
   ]
  },
  {
   "cell_type": "code",
   "execution_count": null,
   "id": "e09e1865-9cab-4474-93d5-ca96ec153407",
   "metadata": {},
   "outputs": [],
   "source": [
    "def rolling_means_example2():\n",
    "    arr = [[[\n",
    "            211, 191, np.nan, 167, 188, np.nan, 207, 293, 295, 372, 427, 417, 415, 484, \n",
    "            442, 502, 571, np.nan, 689, np.nan, 738, 799\n",
    "          ]]]\n",
    "    print(arr)\n",
    "    t = TSTensor(arr)\n",
    "    print(t.data)\n",
    "    print(t.shape)\n",
    "    enc_t = TSRollingMean(sel_vars=[0], window=1)(t)\n",
    "    print(enc_t.data)\n",
    "    print(enc_t.shape)\n",
    "rolling_means_example2()"
   ]
  },
  {
   "cell_type": "markdown",
   "id": "0c8de29e-1199-40fd-8b5b-4969fdec2c17",
   "metadata": {},
   "source": [
    "See that nans have been filled up by the inmediate previous numeric value. The same happens if we come back to window = 7. "
   ]
  },
  {
   "cell_type": "code",
   "execution_count": null,
   "id": "950a3633-8129-4505-b760-2929a0f9d2b2",
   "metadata": {},
   "outputs": [],
   "source": [
    "def rolling_means_example3():\n",
    "    arr = [[[\n",
    "            211, 191, np.nan, 167, 188, np.nan, 207, 293, 295, 372, 427, 417, 415, 484, \n",
    "            442, 502, 571, np.nan, 689, np.nan, 738, 799\n",
    "          ]]]\n",
    "    print(arr)\n",
    "    t = TSTensor(arr)\n",
    "    print(t.data)\n",
    "    print(t.shape)\n",
    "    enc_t = TSRollingMean(sel_vars=[0], window=7)(t)\n",
    "    print(enc_t.data)\n",
    "    print(enc_t.shape)\n",
    "rolling_means_example3()"
   ]
  },
  {
   "cell_type": "markdown",
   "id": "7b0fcb82-7df1-49cf-95ed-4b5d773a2e40",
   "metadata": {},
   "source": [
    "## Ejemplo de la página web de TSAI\n",
    "> Observa que si lo que es Nan son los primeros valores, se rellenan en función del valor numérico inmediatamente posterior. "
   ]
  },
  {
   "cell_type": "code",
   "execution_count": null,
   "id": "cda728d2-47db-4aab-b228-5cd51276380b",
   "metadata": {},
   "outputs": [],
   "source": [
    "def tsai_example_1():        \n",
    "    bs, c_in, seq_len = 1,3,8\n",
    "    t = TSTensor(torch.rand(bs, c_in, seq_len))\n",
    "    t[t > .6] = np.nan\n",
    "    print(t.data)\n",
    "    print(t.shape)\n",
    "    print(\"--> Rolling mean vars 0,2 | w = 3 <--\")\n",
    "    enc_t = TSRollingMean(sel_vars=[0,2], window=3)(t)\n",
    "    print(enc_t.shape)\n",
    "    print(enc_t.data)\n",
    "    \n",
    "tsai_example_1()"
   ]
  },
  {
   "cell_type": "code",
   "execution_count": null,
   "id": "584ada00-bc11-470a-aa23-a10ec8ae92f9",
   "metadata": {},
   "outputs": [],
   "source": [
    "(0.3162+0.01+0.01)/3"
   ]
  },
  {
   "cell_type": "markdown",
   "id": "2f849aba-1377-45bd-8c49-427f905d7735",
   "metadata": {},
   "source": [
    "Observa que, por defecto, replace = False y se añade una variable extra por cada rolling mean calculada. Si quieres sustituir la variable original por la media en cuestión, basta con poner replace a True"
   ]
  },
  {
   "cell_type": "code",
   "execution_count": null,
   "id": "53ffce07-a7e5-4931-b8fa-3794dc802648",
   "metadata": {},
   "outputs": [],
   "source": [
    "def tsai_example_2():        \n",
    "    bs, c_in, seq_len = 1,3,8\n",
    "    t = TSTensor(torch.rand(bs, c_in, seq_len))\n",
    "    t[t > .6] = np.nan\n",
    "    print(t.data)\n",
    "    print(t.shape)\n",
    "\n",
    "    print(\"--> Rolling mean vars default | w = 3 | replace = True => no debe añadir más columnas <--\")\n",
    "    enc_t = TSRollingMean(window=3, replace=True)(t)\n",
    "    test_eq(enc_t.shape[1], 3)\n",
    "    print(enc_t.data)\n",
    "\n",
    "tsai_example_2()"
   ]
  }
 ],
 "metadata": {
  "kernelspec": {
   "display_name": "Python 3 (ipykernel)",
   "language": "python",
   "name": "python3"
  }
 },
 "nbformat": 4,
 "nbformat_minor": 5
}

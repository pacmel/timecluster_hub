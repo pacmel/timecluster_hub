{
 "cells": [
  {
   "cell_type": "code",
   "execution_count": 1,
   "id": "57c906cd-4833-458a-88ff-af7a551bc31f",
   "metadata": {},
   "outputs": [],
   "source": [
    "#| export\n",
    "verbose                       = 1\n",
    "check_memory_usage            = True\n",
    "time_flag                     = True\n",
    "window_size_percentage        = False\n",
    "show_plots                    = True\n",
    "reset_kernel                  = False\n",
    "pre_configured_case           = True\n",
    "case_id                       = 1\n",
    "frequency_factor              = 15\n",
    "frequency_factor_change_alias = True\n",
    "check_parameters              = True\n",
    "cuda_device                   = 0"
   ]
  },
  {
   "cell_type": "code",
   "execution_count": 2,
   "id": "801e0641-5490-46dd-8470-7bab43339c7f",
   "metadata": {},
   "outputs": [],
   "source": [
    "#| export\n",
    "# This is only needed if the notebook is run in VSCode\n",
    "import sys\n",
    "import dvats.utils as ut\n",
    "if '--vscode' in sys.argv:\n",
    "    print(\"Executing inside vscode\")\n",
    "    ut.DisplayHandle.update = ut.update_patch"
   ]
  },
  {
   "cell_type": "code",
   "execution_count": 3,
   "id": "276ae120-4c1b-4dcd-8412-2cf591565bf4",
   "metadata": {},
   "outputs": [],
   "source": [
    "#| export\n",
    "import dvats.config as cfg_"
   ]
  },
  {
   "cell_type": "code",
   "execution_count": 4,
   "id": "1a1d0dbb-8db3-44ba-bffc-687d78e9b674",
   "metadata": {},
   "outputs": [
    {
     "name": "stdout",
     "output_type": "stream",
     "text": [
      "\u001b[?2004l\n",
      "Octave is ready <oct2py.core.Oct2Py object at 0x7f38b5f2e5f0>\n",
      "\u001b[?2004l\n",
      "\u001b[?2004l\n",
      "\u001b[?2004l\n",
      "\u001b[?2004l\n",
      "\u001b[?2004l\n",
      "\u001b[?2004l\n",
      "\u001b[?2004l\n",
      "\u001b[?2004l\n",
      "\u001b[?2004l\n",
      "\u001b[?2004l\n",
      "\u001b[?2004l\n",
      "\u001b[?2004l\n",
      "\u001b[?2004l\n",
      "\u001b[?2004l\n",
      "\u001b[?2004l\n"
     ]
    }
   ],
   "source": [
    "#| export\n",
    "import warnings\n",
    "warnings.filterwarnings(\"ignore\", module=\"umap\")\n",
    "import os\n",
    "import sys\n",
    "sys.path.append(os.path.abspath('..'))\n",
    "from dvats.all import *\n",
    "from fastcore.all import *\n",
    "from tsai.basics import *\n",
    "from tsai.models.InceptionTimePlus import *\n",
    "from tsai.callback.MVP import *\n",
    "import matplotlib.colors as colors\n",
    "from fastai.callback.wandb import WandbCallback\n",
    "from fastai.callback.progress import ShowGraphCallback\n",
    "from fastai.callback.schedule import *\n",
    "from fastai.callback.tracker import EarlyStoppingCallback\n",
    "import wandb"
   ]
  },
  {
   "cell_type": "code",
   "execution_count": 5,
   "id": "ede55872-2ad5-41b1-8a6c-dddf512fe684",
   "metadata": {},
   "outputs": [],
   "source": [
    "#| export\n",
    "wandb_api = wandb.Api()"
   ]
  },
  {
   "cell_type": "code",
   "execution_count": 6,
   "id": "80f999d5-324a-4a43-85b0-df5bae394bc7",
   "metadata": {},
   "outputs": [
    {
     "name": "stdout",
     "output_type": "stream",
     "text": [
      "GPU Device 0\n",
      "Device cuda:0\n",
      "GPU | Used mem: 0\n",
      "GPU | Used mem: 24\n",
      "GPU | Memory Usage: [\u001b[90m--------------------\u001b[0m] \u001b[90m0%\u001b[0m\n"
     ]
    }
   ],
   "source": [
    "#| export\n",
    "device = torch.device(f'cuda:{cuda_device}' if torch.cuda.is_available() else 'cpu')\n",
    "torch.cuda.set_device(device)\n",
    "if check_memory_usage:\n",
    "    gpu_device = torch.cuda.current_device()\n",
    "    print(\"GPU Device\", gpu_device)\n",
    "    print(\"Device\", device)\n",
    "    gpu_memory_status(gpu_device)"
   ]
  },
  {
   "cell_type": "code",
   "execution_count": 7,
   "id": "e817c3a9-4985-43fd-ae3f-3ed6b7652de8",
   "metadata": {},
   "outputs": [
    {
     "name": "stdout",
     "output_type": "stream",
     "text": [
      "/home/macu/work/nbs_pipeline\n",
      "/home/macu/work/nbs_pipeline\n"
     ]
    }
   ],
   "source": [
    "target_directory = os.path.expanduser(\"~/work/nbs_pipeline\")\n",
    "print(target_directory)\n",
    "%cd {target_directory}"
   ]
  },
  {
   "cell_type": "code",
   "execution_count": 8,
   "id": "39dbd4a2-4f2d-4266-be2d-99becc59a605",
   "metadata": {},
   "outputs": [
    {
     "name": "stdout",
     "output_type": "stream",
     "text": [
      "\u001b[93m\u001b[1mdata_fpath is missing in original dict | ~/data/solar_4_seconds_dataset.tsf \u001b[0m\n",
      "analysis_mode: online\u001b[0m\n",
      "\u001b[93m\u001b[1mnorm_use_by_single_batch is missing in original dict | (False,) \u001b[0m\n",
      "mask_sync: False\u001b[0m\n",
      "wandb_group: None\u001b[0m\n",
      "batch_size: 512\u001b[0m\n",
      "\u001b[94mtrain_artifact: mi-santamaria/deepvats/Synthetic_Segmentation_I:latest\u001b[0m -> mi-santamaria/deepvats/solar_4_seconds-1m:latest\u001b[0m\n",
      "mask_stateful: True\u001b[0m\n",
      "\u001b[94mstride: 9\u001b[0m -> 1\u001b[0m\n",
      "\u001b[94mmvp_ws: (25, 50)\u001b[0m -> [450, 900]\u001b[0m\n",
      "\u001b[94mw: 50\u001b[0m -> 900\u001b[0m\n",
      "valid_size: 0.2\u001b[0m\n",
      "valid_artifact: None\u001b[0m\n",
      "r: 0.71\u001b[0m\n",
      "\u001b[93m\u001b[1martifact_name is missing in original dict | solar_4_seconds-1m \u001b[0m\n",
      "\u001b[93m\u001b[1mcsv_config is missing in original dict | {} \u001b[0m\n",
      "use_wandb: True\u001b[0m\n",
      "\u001b[93m\u001b[1mresampling_freq is missing in original dict | 1T \u001b[0m\n",
      "\u001b[93m\u001b[1mdata_cols is missing in original dict | [] \u001b[0m\n",
      "norm_use_single_batch: False\u001b[0m\n",
      "\u001b[94malias: Synthetic_Segmentation_I\u001b[0m -> solar_4_seconds\u001b[0m\n",
      "\u001b[93m\u001b[1mfreq is missing in original dict | 4s \u001b[0m\n",
      "mask_future: False\u001b[0m\n",
      "norm_by_sample: False\u001b[0m\n",
      "\u001b[93m\u001b[1mtime_col is missing in original dict | None \u001b[0m\n",
      "epochs: 100\u001b[0m\n"
     ]
    }
   ],
   "source": [
    "#| export\n",
    "user, project, version, data, config, job_type = cfg_.get_artifact_config_MVP(False)\n",
    "if pre_configured_case: \n",
    "    cfg_.force_artifact_config_mvp(\n",
    "        config = config,\n",
    "        id = case_id,\n",
    "        verbose = verbose, \n",
    "        both = verbose > 0,\n",
    "        frequency_factor = frequency_factor,\n",
    "        frequency_factor_change_alias = frequency_factor_change_alias\n",
    "    )"
   ]
  },
  {
   "cell_type": "code",
   "execution_count": 9,
   "id": "fd2db06c-1079-4524-a593-cdbae6dcac82",
   "metadata": {},
   "outputs": [
    {
     "name": "stdout",
     "output_type": "stream",
     "text": [
      "runname: 06_MPlots\n",
      "alias: solar_4_seconds\n",
      "analysis_mode: online\n",
      "batch_size: 512\n",
      "epochs: 100\n",
      "mask_future: False\n",
      "mask_stateful: True\n",
      "mask_sync: False\n",
      "mvp_ws: [450, 900]\n",
      "norm_by_sample: False\n",
      "norm_use_single_batch: False\n",
      "r: 0.71\n",
      "stride: 1\n",
      "train_artifact: mi-santamaria/deepvats/solar_4_seconds-1m:latest\n",
      "valid_artifact: None\n",
      "use_wandb: True\n",
      "valid_size: 0.2\n",
      "w: 900\n",
      "wandb_group: None\n",
      "artifact_name: solar_4_seconds-1m\n",
      "data_cols: []\n",
      "data_fpath: ~/data/solar_4_seconds_dataset.tsf\n",
      "freq: 4s\n",
      "time_col: None\n",
      "csv_config: {}\n",
      "resampling_freq: 1T\n",
      "norm_use_by_single_batch: (False,)\n"
     ]
    }
   ],
   "source": [
    "#| export\n",
    "path = os.path.expanduser(\"~/work/nbs_pipeline/\")\n",
    "name=\"06_MPlots\"\n",
    "os.environ[\"WANDB_NOTEBOOK_NAME\"] = path+name+\".ipynb\"\n",
    "runname=name\n",
    "if verbose > 0: print(\"runname: \"+runname)\n",
    "if verbose > 0: cfg_.show_attrdict(config)"
   ]
  },
  {
   "cell_type": "code",
   "execution_count": 10,
   "id": "c1826f82-9635-42ae-8c33-c0dde5df3757",
   "metadata": {},
   "outputs": [
    {
     "name": "stdout",
     "output_type": "stream",
     "text": [
      "--> Wandb init\n"
     ]
    },
    {
     "name": "stderr",
     "output_type": "stream",
     "text": [
      "\u001b[34m\u001b[1mwandb\u001b[0m: \u001b[33mWARNING\u001b[0m WANDB_NOTEBOOK_NAME should be a path to a notebook file, couldn't find /home/macu/work/nbs_pipeline/06_MPlots.ipynb.\n",
      "\u001b[34m\u001b[1mwandb\u001b[0m: Currently logged in as: \u001b[33mmi-santamaria\u001b[0m. Use \u001b[1m`wandb login --relogin`\u001b[0m to force relogin\n"
     ]
    },
    {
     "data": {
      "text/html": [
       "wandb version 0.17.6 is available!  To upgrade, please run:\n",
       " $ pip install wandb --upgrade"
      ],
      "text/plain": [
       "<IPython.core.display.HTML object>"
      ]
     },
     "metadata": {},
     "output_type": "display_data"
    },
    {
     "data": {
      "text/html": [
       "Tracking run with wandb version 0.14.2"
      ],
      "text/plain": [
       "<IPython.core.display.HTML object>"
      ]
     },
     "metadata": {},
     "output_type": "display_data"
    },
    {
     "data": {
      "text/html": [
       "Run data is saved locally in <code>/home/macu/work/wandb/run-20240808_170850-o2mr101p</code>"
      ],
      "text/plain": [
       "<IPython.core.display.HTML object>"
      ]
     },
     "metadata": {},
     "output_type": "display_data"
    },
    {
     "data": {
      "text/html": [
       "Syncing run <strong><a href='https://wandb.ai/mi-santamaria/deepvats/runs/o2mr101p' target=\"_blank\">06_MPlots</a></strong> to <a href='https://wandb.ai/mi-santamaria/deepvats' target=\"_blank\">Weights & Biases</a> (<a href='https://wandb.me/run' target=\"_blank\">docs</a>)<br/>"
      ],
      "text/plain": [
       "<IPython.core.display.HTML object>"
      ]
     },
     "metadata": {},
     "output_type": "display_data"
    },
    {
     "data": {
      "text/html": [
       " View project at <a href='https://wandb.ai/mi-santamaria/deepvats' target=\"_blank\">https://wandb.ai/mi-santamaria/deepvats</a>"
      ],
      "text/plain": [
       "<IPython.core.display.HTML object>"
      ]
     },
     "metadata": {},
     "output_type": "display_data"
    },
    {
     "data": {
      "text/html": [
       " View run at <a href='https://wandb.ai/mi-santamaria/deepvats/runs/o2mr101p' target=\"_blank\">https://wandb.ai/mi-santamaria/deepvats/runs/o2mr101p</a>"
      ],
      "text/plain": [
       "<IPython.core.display.HTML object>"
      ]
     },
     "metadata": {},
     "output_type": "display_data"
    },
    {
     "name": "stdout",
     "output_type": "stream",
     "text": [
      "Wandb init -->\n"
     ]
    }
   ],
   "source": [
    "#| export\n",
    "if verbose > 0: print(\"--> Wandb init\")\n",
    "run = wandb.init(\n",
    "    entity           = user,\n",
    "    # work-nbs is a place to log draft runs\n",
    "    project          = project,\n",
    "    group            = config.wandb_group,\n",
    "    job_type         = job_type,\n",
    "    allow_val_change = True,\n",
    "    mode             = config.analysis_mode,\n",
    "    config           = config,\n",
    "    # When use_wandb is false the run is not linked to a personal account\n",
    "    #NOTE: This is not working right now\n",
    "    anonymous        = 'never' if config.use_wandb else 'must', \n",
    "    resume           = False,\n",
    "    name             = runname\n",
    ")\n",
    "if verbose > 0: print(\"Wandb init -->\")\n",
    "config = run.config  # Object for storing hyperparameters\n",
    "artifacts_gettr = run.use_artifact if config.use_wandb else wandb_api.artifact"
   ]
  },
  {
   "cell_type": "code",
   "execution_count": 11,
   "id": "2de0f9a3-d4d7-4f81-b81b-b81f9ab1a6a8",
   "metadata": {},
   "outputs": [
    {
     "name": "stdout",
     "output_type": "stream",
     "text": [
      "alias: solar_4_seconds\n",
      "analysis_mode: online\n",
      "batch_size: 512\n",
      "epochs: 100\n",
      "mask_future: False\n",
      "mask_stateful: True\n",
      "mask_sync: False\n",
      "mvp_ws: [450, 900]\n",
      "norm_by_sample: False\n",
      "norm_use_single_batch: False\n",
      "r: 0.71\n",
      "stride: 1\n",
      "train_artifact: mi-santamaria/deepvats/solar_4_seconds-1m:latest\n",
      "valid_artifact: None\n",
      "use_wandb: True\n",
      "valid_size: 0.2\n",
      "w: 900\n",
      "wandb_group: None\n",
      "artifact_name: solar_4_seconds-1m\n",
      "data_cols: []\n",
      "data_fpath: ~/data/solar_4_seconds_dataset.tsf\n",
      "freq: 4s\n",
      "time_col: None\n",
      "csv_config: {}\n",
      "resampling_freq: 1T\n",
      "norm_use_by_single_batch: [False]\n",
      "---> W&B Train Artifact\n"
     ]
    }
   ],
   "source": [
    "#| export\n",
    "config = run.config  # Object for storing hyperparameters\n",
    "if verbose > 0: cfg_.show_attrdict(config)\n",
    "artifacts_gettr = run.use_artifact if config.use_wandb else wandb_api.artifact\n",
    "train_artifact = artifacts_gettr(config.train_artifact)\n",
    "if verbose > 0: print(\"---> W&B Train Artifact\")"
   ]
  },
  {
   "cell_type": "code",
   "execution_count": 12,
   "id": "472f56d3-4bb3-4b6d-8b62-4b3295f4bf66",
   "metadata": {},
   "outputs": [
    {
     "name": "stderr",
     "output_type": "stream",
     "text": [
      "\u001b[34m\u001b[1mwandb\u001b[0m:   1 of 1 files downloaded.  \n"
     ]
    }
   ],
   "source": [
    "#| export\n",
    "df_train = train_artifact.to_df()"
   ]
  },
  {
   "cell_type": "code",
   "execution_count": 13,
   "id": "1fedfbe1-bf44-482f-82eb-3ab913d68f76",
   "metadata": {},
   "outputs": [
    {
     "name": "stdout",
     "output_type": "stream",
     "text": [
      "(493149, 1)\n"
     ]
    },
    {
     "data": {
      "text/plain": [
       "<bound method NDFrame.head of                        0\n",
       "2019-08-01 00:00:03  0.0\n",
       "2019-08-01 00:01:03  0.0\n",
       "2019-08-01 00:02:03  0.0\n",
       "2019-08-01 00:03:03  0.0\n",
       "2019-08-01 00:04:03  0.0\n",
       "...                  ...\n",
       "2020-07-08 11:04:03  0.0\n",
       "2020-07-08 11:05:03  0.0\n",
       "2020-07-08 11:06:03  0.0\n",
       "2020-07-08 11:07:03  0.0\n",
       "2020-07-08 11:08:03  0.0\n",
       "\n",
       "[493149 rows x 1 columns]>"
      ]
     },
     "metadata": {},
     "output_type": "display_data"
    },
    {
     "name": "stdout",
     "output_type": "stream",
     "text": [
      "df_train ~  (493149, 1)\n",
      "window_sizes =  [450, 900]\n",
      "wlen =  900\n"
     ]
    }
   ],
   "source": [
    "#| export\n",
    "if verbose > 0: \n",
    "    print(df_train.shape)\n",
    "    display(df_train.head)\n",
    "    print(\"df_train ~ \", df_train.shape)\n",
    "    print(\"window_sizes = \", config.mvp_ws)\n",
    "    print(\"wlen = \", config.w)\n",
    "    df_train.head"
   ]
  },
  {
   "cell_type": "code",
   "execution_count": 14,
   "id": "e1c3f99e-dd08-4e19-8df9-24d1fdd374e2",
   "metadata": {},
   "outputs": [],
   "source": [
    "import dvats.mplots as mplots\n",
    "import numpy as np\n",
    "import matplotlib.pyplot as plt\n",
    "from mpl_toolkits.axes_grid1 import ImageGrid\n",
    "from matplotlib.gridspec import GridSpec\n",
    "import pyscamp as scamp\n",
    "import dvats.memory as mem"
   ]
  },
  {
   "cell_type": "code",
   "execution_count": 15,
   "id": "d2f89d30-55c7-491d-a699-8e74afe68a37",
   "metadata": {},
   "outputs": [
    {
     "name": "stdout",
     "output_type": "stream",
     "text": [
      "GPU | Used mem: 0\n",
      "GPU | Used mem: 24\n",
      "GPU | Memory Usage: [\u001b[90m--------------------\u001b[0m] \u001b[90m0%\u001b[0m\n"
     ]
    }
   ],
   "source": [
    "mem.gpu_memory_status()"
   ]
  },
  {
   "cell_type": "code",
   "execution_count": 16,
   "id": "954bf089-dadb-41fb-90f9-c7f996443a45",
   "metadata": {},
   "outputs": [
    {
     "data": {
      "text/plain": [
       "True"
      ]
     },
     "execution_count": 16,
     "metadata": {},
     "output_type": "execute_result"
    }
   ],
   "source": [
    "# Allows checking if pyscamp was built with CUDA and has GPU support.\n",
    "has_gpu_support = scamp.gpu_supported()\n",
    "has_gpu_support"
   ]
  },
  {
   "cell_type": "code",
   "execution_count": 17,
   "id": "a0c0656a-503c-497a-a315-08625ede9955",
   "metadata": {},
   "outputs": [
    {
     "data": {
      "text/plain": [
       "Int64Index([0], dtype='int64')"
      ]
     },
     "execution_count": 17,
     "metadata": {},
     "output_type": "execute_result"
    }
   ],
   "source": [
    "df_train.columns"
   ]
  },
  {
   "cell_type": "code",
   "execution_count": 18,
   "id": "083ed3ee-e36d-4611-887a-baf957c2ad30",
   "metadata": {},
   "outputs": [],
   "source": [
    "# Use step for selecting values in position k*step \n",
    "ts_step = 1\n",
    "ts = df_train.iloc[:, 0].values[::ts_step] #For some reason. Trying to follow MPlot-figures-ref"
   ]
  },
  {
   "cell_type": "code",
   "execution_count": 19,
   "id": "a4e1fbd9-5dc1-4643-b9aa-ef6c55c60299",
   "metadata": {},
   "outputs": [],
   "source": [
    "w = config.w"
   ]
  },
  {
   "cell_type": "code",
   "execution_count": 20,
   "id": "9cc71ac4-1c99-42be-8123-e01d37531724",
   "metadata": {},
   "outputs": [],
   "source": [
    "data_MPlot = mplots.MatrixProfilePlot(\n",
    "    DM_AB           = mplots.DistanceMatrix(), \n",
    "    MP_AB           = mplots.MatrixProfile(),\n",
    "    data            = ts, \n",
    "    data_b          = ts,\n",
    "    subsequence_len = w,\n",
    "    self_join       = False\n",
    ")"
   ]
  },
  {
   "cell_type": "code",
   "execution_count": 21,
   "id": "5fec2b2d-0361-4077-a279-65158da7465a",
   "metadata": {},
   "outputs": [
    {
     "data": {
      "text/plain": [
       "(493149,)"
      ]
     },
     "execution_count": 21,
     "metadata": {},
     "output_type": "execute_result"
    }
   ],
   "source": [
    "data_MPlot.data.shape"
   ]
  },
  {
   "cell_type": "code",
   "execution_count": 22,
   "id": "923f32d4-3071-4ed2-ad3a-7cfd286c2680",
   "metadata": {},
   "outputs": [],
   "source": [
    "from dvats import utils as ut"
   ]
  },
  {
   "cell_type": "code",
   "execution_count": 23,
   "id": "c2452560-111e-4cb8-8d9a-a215db0c6001",
   "metadata": {},
   "outputs": [
    {
     "data": {
      "text/plain": [
       "'patata'"
      ]
     },
     "execution_count": 23,
     "metadata": {},
     "output_type": "execute_result"
    }
   ],
   "source": [
    "def patata():\n",
    "    t = None\n",
    "    function = ut.funcname()\n",
    "    t = ut.Time( function = function ) \n",
    "    t.start()\n",
    "    return function\n",
    "patata()"
   ]
  },
  {
   "cell_type": "code",
   "execution_count": 24,
   "id": "cada1680-adcb-40f0-90c8-3ccae80dc5c6",
   "metadata": {},
   "outputs": [
    {
     "data": {
      "text/plain": [
       "900"
      ]
     },
     "execution_count": 24,
     "metadata": {},
     "output_type": "execute_result"
    }
   ],
   "source": [
    "data_MPlot.subsequence_len"
   ]
  },
  {
   "cell_type": "code",
   "execution_count": 25,
   "id": "614c3040-2f2d-4155-9b83-24b194c599c1",
   "metadata": {},
   "outputs": [
    {
     "data": {
      "text/plain": [
       "8219"
      ]
     },
     "execution_count": 25,
     "metadata": {},
     "output_type": "execute_result"
    }
   ],
   "source": [
    "7397222//900"
   ]
  },
  {
   "cell_type": "code",
   "execution_count": 26,
   "id": "95cb5b8c-5d1c-47d9-8f7a-b833f8165c99",
   "metadata": {},
   "outputs": [
    {
     "name": "stdout",
     "output_type": "stream",
     "text": [
      "[ MatrixProfilePlot | Compute ]\n",
      "[ MatrixProfilePlot | Compute ] | Distance: z_normalized_euclidean_distance\n",
      "[ MatrixProfilePlot | Compute ] | Downsample? TA: True TB: True\n",
      "[ MatrixProfilePlot | Compute ] | points? TA: 5000 - 10000\n",
      "[ MatrixProfilePlot | Compute ] | points? TB: 5000 - 10000\n",
      "[ MatrixProfilePlot | Compute ] Timer\n",
      "[ MatrixProfilePlot | Compute ] | Timer for compute\n",
      "[ MatrixProfilePlot | Compute ] | Timer Start\n",
      "[ MatrixProfilePlot | Compute ] | Setup dm method\n",
      "[ MatrixProfilePlot | Compute ] | Setup mp method\n",
      "[ MatrixProfilePlot | Compute ] DM method: scamp MP method stump_gpu\n",
      "MatrixProfilePlot | Compute | No range provided\n",
      "MatrixProfilePlot | Compute | Range [0:493149, 0:493149]\n",
      "[ MPlot | Compute ] | -->  Downsample TA\n",
      "[ MPlot | Compute ] | ---> Downsample TA to 0 : 493149\n",
      "[ Downsample | Position ] Before | Pos (0, 493149)\n",
      "[ Downsample | Position ] After | Pos (0, 493149)\n",
      "[ Downsample | downsample_propose_crop ] Max points: 10000\n",
      "[ Downsample | downsample_propose_crop ] Min points: 5000\n",
      "[ Downsample | downsample_propose_crop ] N timestamps 493149\n",
      "[ Downsample | downsample_propose_crop ] PAA factor: 49\n",
      "[ Downsample | downsample_propose_crop ] allow_crop: True\n",
      "[ Downsample | downsample_propose_crop ] N: 493149\n",
      "[ Downsample | downsample_propose_crop ] potential_segments: 10064\n",
      "Verbose: 1\n",
      "Downsample Propose Crop | Prev N: 493149\n",
      "Verbose:  0\n",
      "Downsample Propose Crop | Post N: 493149 | Largest Divisor: 5541\n",
      "[ Downsample | downsample_propose_crop ] Allow crop => change n_timestamp | Before 493149\n",
      "[ Downsample | downsample_propose_crop ] Allow crop => change n_timestamp | After 493149\n",
      "[ Downsample | downsample_propose_crop --> ] | N segments: 5541 | Data ~ (493149,)\n",
      "[ Downsample | downsample_propose_crop --> ] | N = 493149 | n_timestamps = 493149 | min_position 0 | max_position 493149\n",
      "Downsample | ts_paa~5542\n",
      "Downsample ------------------------>\n",
      "[ MPlot | Compute ] | Downsample TA ~ 5542 ---> \n",
      "[ MPlot | Compute ] | -->  Downsample TB\n",
      "[ MPlot | Compute ] |  --> Downsample TB \n",
      "[ Downsample | Position ] Before | Pos (0, 493149)\n",
      "[ Downsample | Position ] After | Pos (0, 493149)\n",
      "[ Downsample | downsample_propose_crop ] Max points: 10000\n",
      "[ Downsample | downsample_propose_crop ] Min points: 5000\n",
      "[ Downsample | downsample_propose_crop ] N timestamps 493149\n",
      "[ Downsample | downsample_propose_crop ] PAA factor: 49\n",
      "[ Downsample | downsample_propose_crop ] allow_crop: True\n",
      "[ Downsample | downsample_propose_crop ] N: 493149\n",
      "[ Downsample | downsample_propose_crop ] potential_segments: 10064\n",
      "Verbose: 1\n",
      "Downsample Propose Crop | Prev N: 493149\n",
      "Verbose:  0\n",
      "Downsample Propose Crop | Post N: 493149 | Largest Divisor: 5541\n",
      "[ Downsample | downsample_propose_crop ] Allow crop => change n_timestamp | Before 493149\n",
      "[ Downsample | downsample_propose_crop ] Allow crop => change n_timestamp | After 493149\n",
      "[ Downsample | downsample_propose_crop --> ] | N segments: 5541 | Data ~ (493149,)\n",
      "[ Downsample | downsample_propose_crop --> ] | N = 493149 | n_timestamps = 493149 | min_position 0 | max_position 493149\n",
      "Downsample | ts_paa~5542\n",
      "Downsample ------------------------>\n",
      "[ MPlot | Compute ] | Downsample TB_paa ~ 5542 ---> \n",
      "[ MPlot | Compute ] |Downsample -->\n",
      "MPlot | Compute | --> Ensure parameters \n",
      "MPlot | Compute | --> provide_len \n",
      "MPlot | Compute | --> provide_len ... 3 ...\n",
      "[ MPlot | Compute ] | Ensure Parameters TB_paa ~ 5542 ---> \n",
      "Ensure valid limits | Original [0, 493149]\n",
      "Final [0, 5542]\n",
      "Ensure valid limits | Original [0, 493149]\n",
      "Final [0, 5542]\n",
      "MatrixProfilePlot | Compute | Final Range [0:5542, 0:5542]\n",
      "MPlot | Compute | --> Instantiate DM & MP | TA ~ 5542 | TB ~ 5542\n",
      "MPlot | Compute | ... Checking inicializations ...\n",
      "MP_AB self_join False\n",
      "DM_AB self_join False\n",
      "DM_AB ~ (0, 0)\n",
      "MP_AB method: naive\n",
      "DM_AB method: naive\n",
      "MP_AB data_b ~ 5542\n",
      "DM_AB data_b ~ 5542\n",
      "MPlot | Compute | ... Checking inicializations ...\n",
      "MPlot | Compute | --> Compute MP\n",
      "[ Matrix Profile ] Compute | subsequence_len: 900\n",
      "--> matrix profile\n",
      "--> Stump (GPU)\n",
      "TB provided [0. 0. 0. ... 0. 0. 0.]\n",
      "matrix profile 3.6653387546539307 seconds -->\n",
      "MPlot | Compute | --> Compute DM | Allow experimental:  True\n",
      "DistanceMatrix | Distance: z_normalized_euclidean_distance\n",
      "time_flag: True\n",
      "[ DistanceMatrix | Compute ] | --> AB-join\n",
      "[ DistanceMatrix | Compute ] | reference_seq ~ 5542 | subsequence_len ~ 900 | rows 4643 | columns 4643\n",
      "[ DistanceMatrix | Compute ] | Rows: 4643 Columns: 4643 | distances ~ (4643, 4643)\n",
      "--> Start:  \n",
      "[ DistanceMatrix | Compute ] | --> scamp (4643, 4643)\n",
      "[ DistanceMatrix | Compute ] | Scamp | Allow experimental\n",
      "[ DistanceMatrix | Compute ] | Scamp | Allow experimental | AB-join\n",
      "[ DistanceMatrix | Compute ] | Scamp | Allow experimental | AB-join | About to compute 4643x4643\n",
      "[ Distance Matrix | Compute ] Scamp --> | (4643, 4643)\n",
      "[ DistanceMatrix | Compute ] | --> Apply exclusion zone\n",
      "[ DistanceMatrix | Compute ] | Apply exclusion zone -->\n",
      "[] Start: 1723136949.2281027 | End: 1723136949.8952708 | Duration: 0.667168140411377 seconds\n",
      "matrix profile 0.667168140411377 seconds -->\n",
      "[compute] Start: 1723136944.8985116 | End: 1723136949.8956685 | Duration: 4.997156858444214 seconds\n",
      "MPlot | Compute | Compute DM -->\n"
     ]
    }
   ],
   "source": [
    "data_MPlot.compute(\n",
    "    mp_method           = 'stump_gpu', \n",
    "    #mp_method           = \"scamp_naive\" --> Devuelve siempre 0 en el ejemplo de Pulsus Raxodus | why?\n",
    "    dm_method           = 'scamp',\n",
    "    #dm_method           = 'scamp',\n",
    "    debug               = False,\n",
    "    time_flag           = True,\n",
    "    allow_experimental  = True,\n",
    "    ensure_symetric     = False,\n",
    "    min_points          = 5000,\n",
    "    max_points          = 10000,\n",
    "    subsequence_len     = w,\n",
    "    provide_len         = False,\n",
    "    downsample_flag     = True,\n",
    "    min_lag             = 8,\n",
    "    verbose             = 3,\n",
    "    threads             = 1,\n",
    "    gpus                = [1]\n",
    ")"
   ]
  },
  {
   "cell_type": "code",
   "execution_count": 27,
   "id": "2146be02-2d36-4ef8-ae02-0c09ac38b1d7",
   "metadata": {},
   "outputs": [
    {
     "name": "stdout",
     "output_type": "stream",
     "text": [
      "[ MatrixProfilePlot | Compute ]\n",
      "[ MatrixProfilePlot | Compute ] | Distance: z_normalized_euclidean_distance\n",
      "[ MatrixProfilePlot | Compute ] | Downsample? TA: False TB: False\n",
      "[ MatrixProfilePlot | Compute ] | points? TA: 1 - 10000\n",
      "[ MatrixProfilePlot | Compute ] | points? TB: 1 - 10000\n",
      "[ MatrixProfilePlot | Compute ] Timer\n",
      "[ MatrixProfilePlot | Compute ] | Timer for compute\n",
      "[ MatrixProfilePlot | Compute ] | Timer Start\n",
      "[ MatrixProfilePlot | Compute ] | Setup dm method\n",
      "[ MatrixProfilePlot | Compute ] | Setup mp method\n",
      "[ MatrixProfilePlot | Compute ] DM method: scamp MP method stump_gpu\n",
      "MatrixProfilePlot | Compute | No range provided\n",
      "MatrixProfilePlot | Compute | Range [0:493149, 0:493149]\n",
      "MPlot | Compute | Do not downsample => use original TA time series\n",
      "MPlot | Compute | Do not downsample => use original TB time series\n",
      "MPlot | Compute | --> Ensure parameters \n",
      "MPlot | Compute | --> provide_len \n",
      "MPlot | Compute | --> provide_len ... 3 ...\n",
      "[ MPlot | Compute ] | Ensure Parameters TB_paa ~ 493149 ---> \n",
      "Ensure valid limits | Original [0, 493149]\n",
      "Final [0, 493149]\n",
      "Ensure valid limits | Original [0, 493149]\n",
      "Final [0, 493149]\n",
      "MatrixProfilePlot | Compute | Final Range [0:493149, 0:493149]\n",
      "MPlot | Compute | --> Instantiate DM & MP | TA ~ 493149 | TB ~ 493149\n",
      "MPlot | Compute | ... Checking inicializations ...\n",
      "MP_AB self_join False\n",
      "DM_AB self_join False\n",
      "DM_AB ~ (0, 0)\n",
      "MP_AB method: naive\n",
      "DM_AB method: naive\n",
      "MP_AB data_b ~ 493149\n",
      "DM_AB data_b ~ 493149\n",
      "MPlot | Compute | ... Checking inicializations ...\n",
      "MPlot | Compute | --> Compute MP\n",
      "MPlot | Compute | --> Compute DM | Allow experimental:  False\n",
      "DistanceMatrix | Distance: z_normalized_euclidean_distance\n",
      "time_flag: True\n",
      "[ DistanceMatrix | Compute ] | --> AB-join\n",
      "[ DistanceMatrix | Compute ] | reference_seq ~ 493149 | subsequence_len ~ 900 | rows 492250 | columns 492250\n"
     ]
    },
    {
     "ename": "MemoryError",
     "evalue": "Unable to allocate 1.76 TiB for an array with shape (492250, 492250) and data type float64",
     "output_type": "error",
     "traceback": [
      "\u001b[0;31m---------------------------------------------------------------------------\u001b[0m",
      "\u001b[0;31mMemoryError\u001b[0m                               Traceback (most recent call last)",
      "Cell \u001b[0;32mIn[27], line 2\u001b[0m\n\u001b[1;32m      1\u001b[0m \u001b[38;5;66;03m#Crashes\u001b[39;00m\n\u001b[0;32m----> 2\u001b[0m \u001b[43mdata_MPlot\u001b[49m\u001b[38;5;241;43m.\u001b[39;49m\u001b[43mcompute\u001b[49m\u001b[43m(\u001b[49m\n\u001b[1;32m      3\u001b[0m \u001b[43m    \u001b[49m\u001b[43mmp_method\u001b[49m\u001b[43m           \u001b[49m\u001b[38;5;241;43m=\u001b[39;49m\u001b[43m \u001b[49m\u001b[38;5;124;43m'\u001b[39;49m\u001b[38;5;124;43mstump_gpu\u001b[39;49m\u001b[38;5;124;43m'\u001b[39;49m\u001b[43m,\u001b[49m\u001b[43m \u001b[49m\n\u001b[1;32m      4\u001b[0m \u001b[43m    \u001b[49m\u001b[38;5;66;43;03m#mp_method           = \"scamp_naive\" --> Devuelve siempre 0 en el ejemplo de Pulsus Raxodus | why?\u001b[39;49;00m\n\u001b[1;32m      5\u001b[0m \u001b[43m    \u001b[49m\u001b[43mdm_method\u001b[49m\u001b[43m           \u001b[49m\u001b[38;5;241;43m=\u001b[39;49m\u001b[43m \u001b[49m\u001b[38;5;124;43m'\u001b[39;49m\u001b[38;5;124;43mscamp\u001b[39;49m\u001b[38;5;124;43m'\u001b[39;49m\u001b[43m,\u001b[49m\n\u001b[1;32m      6\u001b[0m \u001b[43m    \u001b[49m\u001b[38;5;66;43;03m#dm_method           = 'scamp',\u001b[39;49;00m\n\u001b[1;32m      7\u001b[0m \u001b[43m    \u001b[49m\u001b[43mdebug\u001b[49m\u001b[43m               \u001b[49m\u001b[38;5;241;43m=\u001b[39;49m\u001b[43m \u001b[49m\u001b[38;5;28;43;01mFalse\u001b[39;49;00m\u001b[43m,\u001b[49m\n\u001b[1;32m      8\u001b[0m \u001b[43m    \u001b[49m\u001b[43mtime_flag\u001b[49m\u001b[43m           \u001b[49m\u001b[38;5;241;43m=\u001b[39;49m\u001b[43m \u001b[49m\u001b[38;5;28;43;01mTrue\u001b[39;49;00m\u001b[43m,\u001b[49m\n\u001b[1;32m      9\u001b[0m \u001b[43m    \u001b[49m\u001b[43mallow_experimental\u001b[49m\u001b[43m  \u001b[49m\u001b[38;5;241;43m=\u001b[39;49m\u001b[43m \u001b[49m\u001b[38;5;28;43;01mFalse\u001b[39;49;00m\u001b[43m,\u001b[49m\u001b[43m \u001b[49m\u001b[38;5;66;43;03m# Falla con allow experimental\u001b[39;49;00m\n\u001b[1;32m     10\u001b[0m \u001b[43m    \u001b[49m\u001b[43mensure_symetric\u001b[49m\u001b[43m     \u001b[49m\u001b[38;5;241;43m=\u001b[39;49m\u001b[43m \u001b[49m\u001b[38;5;28;43;01mFalse\u001b[39;49;00m\u001b[43m,\u001b[49m\n\u001b[1;32m     11\u001b[0m \u001b[43m    \u001b[49m\u001b[43msubsequence_len\u001b[49m\u001b[43m     \u001b[49m\u001b[38;5;241;43m=\u001b[39;49m\u001b[43m \u001b[49m\u001b[43mw\u001b[49m\u001b[43m,\u001b[49m\u001b[43m \u001b[49m\n\u001b[1;32m     12\u001b[0m \u001b[43m    \u001b[49m\u001b[43mprovide_len\u001b[49m\u001b[43m         \u001b[49m\u001b[38;5;241;43m=\u001b[39;49m\u001b[43m \u001b[49m\u001b[38;5;28;43;01mFalse\u001b[39;49;00m\u001b[43m,\u001b[49m\n\u001b[1;32m     13\u001b[0m \u001b[43m    \u001b[49m\u001b[43mdownsample_flag\u001b[49m\u001b[43m     \u001b[49m\u001b[38;5;241;43m=\u001b[39;49m\u001b[43m \u001b[49m\u001b[38;5;28;43;01mFalse\u001b[39;49;00m\u001b[43m,\u001b[49m\n\u001b[1;32m     14\u001b[0m \u001b[43m    \u001b[49m\u001b[43mmin_lag\u001b[49m\u001b[43m             \u001b[49m\u001b[38;5;241;43m=\u001b[39;49m\u001b[43m \u001b[49m\u001b[38;5;241;43m8\u001b[39;49m\u001b[43m,\u001b[49m\n\u001b[1;32m     15\u001b[0m \u001b[43m    \u001b[49m\u001b[43mverbose\u001b[49m\u001b[43m             \u001b[49m\u001b[38;5;241;43m=\u001b[39;49m\u001b[43m \u001b[49m\u001b[38;5;241;43m3\u001b[39;49m\u001b[43m,\u001b[49m\n\u001b[1;32m     16\u001b[0m \u001b[43m    \u001b[49m\u001b[43mthreads\u001b[49m\u001b[43m             \u001b[49m\u001b[38;5;241;43m=\u001b[39;49m\u001b[43m \u001b[49m\u001b[38;5;241;43m1\u001b[39;49m\u001b[43m,\u001b[49m\n\u001b[1;32m     17\u001b[0m \u001b[43m    \u001b[49m\u001b[43mgpus\u001b[49m\u001b[43m                \u001b[49m\u001b[38;5;241;43m=\u001b[39;49m\u001b[43m \u001b[49m\u001b[43m[\u001b[49m\u001b[38;5;241;43m1\u001b[39;49m\u001b[43m]\u001b[49m\u001b[43m,\u001b[49m\n\u001b[1;32m     18\u001b[0m \u001b[43m    \u001b[49m\u001b[43mcompute_mp\u001b[49m\u001b[43m          \u001b[49m\u001b[38;5;241;43m=\u001b[39;49m\u001b[43m \u001b[49m\u001b[38;5;28;43;01mFalse\u001b[39;49;00m\n\u001b[1;32m     19\u001b[0m \u001b[43m)\u001b[49m\n",
      "File \u001b[0;32m~/work/dvats/mplots.py:2691\u001b[0m, in \u001b[0;36mMatrixProfilePlot.compute\u001b[0;34m(self, dm_method, mp_method, min_lag, verbose, d, debug, time_flag, allow_experimental, ensure_symetric, provide_len, subsequence_len, nlens, offset, r_min, r_max, c_min, c_max, min_points, max_points, show_plots, downsample_flag, include_padding, threads, gpus, min_points_a, min_points_b, max_points_a, max_points_b, downsample_flag_a, downsample_flag_b, compute_mp)\u001b[0m\n\u001b[1;32m   2688\u001b[0m \u001b[38;5;28mself\u001b[39m\u001b[38;5;241m.\u001b[39mDM_AB\u001b[38;5;241m.\u001b[39mc_min \u001b[38;5;241m=\u001b[39m \u001b[38;5;28mself\u001b[39m\u001b[38;5;241m.\u001b[39mc_min \n\u001b[1;32m   2689\u001b[0m \u001b[38;5;28mself\u001b[39m\u001b[38;5;241m.\u001b[39mDM_AB\u001b[38;5;241m.\u001b[39mc_max \u001b[38;5;241m=\u001b[39m \u001b[38;5;28mself\u001b[39m\u001b[38;5;241m.\u001b[39mc_max\n\u001b[0;32m-> 2691\u001b[0m \u001b[38;5;28;43mself\u001b[39;49m\u001b[38;5;241;43m.\u001b[39;49m\u001b[43mDM_AB\u001b[49m\u001b[38;5;241;43m.\u001b[39;49m\u001b[43mcompute\u001b[49m\u001b[43m(\u001b[49m\n\u001b[1;32m   2692\u001b[0m \u001b[43m    \u001b[49m\u001b[43mmethod\u001b[49m\u001b[43m              \u001b[49m\u001b[38;5;241;43m=\u001b[39;49m\u001b[43m \u001b[49m\u001b[43mdm_method\u001b[49m\u001b[43m,\u001b[49m\n\u001b[1;32m   2693\u001b[0m \u001b[43m    \u001b[49m\u001b[43md\u001b[49m\u001b[43m                   \u001b[49m\u001b[38;5;241;43m=\u001b[39;49m\u001b[43m \u001b[49m\u001b[43md\u001b[49m\u001b[43m,\u001b[49m\n\u001b[1;32m   2694\u001b[0m \u001b[43m    \u001b[49m\u001b[43mtime_flag\u001b[49m\u001b[43m           \u001b[49m\u001b[38;5;241;43m=\u001b[39;49m\u001b[43m \u001b[49m\u001b[43mtime_flag\u001b[49m\u001b[43m,\u001b[49m\u001b[43m \u001b[49m\n\u001b[1;32m   2695\u001b[0m \u001b[43m    \u001b[49m\u001b[43mallow_experimental\u001b[49m\u001b[43m  \u001b[49m\u001b[38;5;241;43m=\u001b[39;49m\u001b[43m \u001b[49m\u001b[43mallow_experimental\u001b[49m\u001b[43m,\u001b[49m\n\u001b[1;32m   2696\u001b[0m \u001b[43m    \u001b[49m\u001b[43mensure_symetric\u001b[49m\u001b[43m     \u001b[49m\u001b[38;5;241;43m=\u001b[39;49m\u001b[43m \u001b[49m\u001b[43mensure_symetric\u001b[49m\u001b[43m,\u001b[49m\n\u001b[1;32m   2697\u001b[0m \u001b[43m    \u001b[49m\u001b[43mmin_lag\u001b[49m\u001b[43m             \u001b[49m\u001b[38;5;241;43m=\u001b[39;49m\u001b[43m \u001b[49m\u001b[43mmin_lag\u001b[49m\u001b[43m,\u001b[49m\n\u001b[1;32m   2698\u001b[0m \u001b[43m    \u001b[49m\u001b[43mverbose\u001b[49m\u001b[43m             \u001b[49m\u001b[38;5;241;43m=\u001b[39;49m\u001b[43m \u001b[49m\u001b[43mverbose\u001b[49m\u001b[38;5;241;43m-\u001b[39;49m\u001b[38;5;241;43m1\u001b[39;49m\n\u001b[1;32m   2699\u001b[0m \u001b[43m\u001b[49m\u001b[43m)\u001b[49m\n\u001b[1;32m   2701\u001b[0m \u001b[38;5;28;01mif\u001b[39;00m time_flag: \n\u001b[1;32m   2702\u001b[0m     t\u001b[38;5;241m.\u001b[39mend()\n",
      "File \u001b[0;32m~/work/dvats/mplots.py:1128\u001b[0m, in \u001b[0;36mDistanceMatrix.compute\u001b[0;34m(self, method, d, ensure_symetric, mheight, mwidth, min_lag, multiresolution, calibration, piecewise, patch_size, plot_flag, time_flag, allow_experimental, parallel, threads, provide_len, nlens, gpus, pearson, verbose)\u001b[0m\n\u001b[1;32m   1125\u001b[0m     \u001b[38;5;28mprint\u001b[39m(\u001b[38;5;124mf\u001b[39m\u001b[38;5;124m\"\u001b[39m\u001b[38;5;124m[ DistanceMatrix | Compute ] | reference_seq ~ \u001b[39m\u001b[38;5;132;01m{\u001b[39;00m\u001b[38;5;28mlen\u001b[39m(reference_seq)\u001b[38;5;132;01m}\u001b[39;00m\u001b[38;5;124m | subsequence_len ~ \u001b[39m\u001b[38;5;132;01m{\u001b[39;00m\u001b[38;5;28mself\u001b[39m\u001b[38;5;241m.\u001b[39msubsequence_len\u001b[38;5;132;01m}\u001b[39;00m\u001b[38;5;124m | rows \u001b[39m\u001b[38;5;132;01m{\u001b[39;00mrows\u001b[38;5;132;01m}\u001b[39;00m\u001b[38;5;124m | columns \u001b[39m\u001b[38;5;132;01m{\u001b[39;00mcolumns\u001b[38;5;132;01m}\u001b[39;00m\u001b[38;5;124m\"\u001b[39m)\n\u001b[1;32m   1126\u001b[0m     sys\u001b[38;5;241m.\u001b[39mstdout\u001b[38;5;241m.\u001b[39mflush()    \n\u001b[0;32m-> 1128\u001b[0m \u001b[38;5;28mself\u001b[39m\u001b[38;5;241m.\u001b[39mdistances \u001b[38;5;241m=\u001b[39m \u001b[43mnp\u001b[49m\u001b[38;5;241;43m.\u001b[39;49m\u001b[43mempty\u001b[49m\u001b[43m(\u001b[49m\u001b[43m(\u001b[49m\u001b[43mrows\u001b[49m\u001b[43m,\u001b[49m\u001b[43m \u001b[49m\u001b[43mcolumns\u001b[49m\u001b[43m)\u001b[49m\u001b[43m)\u001b[49m\n\u001b[1;32m   1130\u001b[0m \u001b[38;5;28;01mif\u001b[39;00m verbose \u001b[38;5;241m>\u001b[39m \u001b[38;5;241m0\u001b[39m: \n\u001b[1;32m   1131\u001b[0m     \u001b[38;5;28mprint\u001b[39m(\u001b[38;5;124mf\u001b[39m\u001b[38;5;124m\"\u001b[39m\u001b[38;5;124m[ DistanceMatrix | Compute ] | Rows: \u001b[39m\u001b[38;5;132;01m{\u001b[39;00mrows\u001b[38;5;132;01m}\u001b[39;00m\u001b[38;5;124m Columns: \u001b[39m\u001b[38;5;132;01m{\u001b[39;00mcolumns\u001b[38;5;132;01m}\u001b[39;00m\u001b[38;5;124m | distances ~ \u001b[39m\u001b[38;5;132;01m{\u001b[39;00m\u001b[38;5;28mself\u001b[39m\u001b[38;5;241m.\u001b[39mdistances\u001b[38;5;241m.\u001b[39mshape\u001b[38;5;132;01m}\u001b[39;00m\u001b[38;5;124m\"\u001b[39m)\n",
      "\u001b[0;31mMemoryError\u001b[0m: Unable to allocate 1.76 TiB for an array with shape (492250, 492250) and data type float64"
     ]
    }
   ],
   "source": [
    "#Crashes\n",
    "data_MPlot.compute(\n",
    "    mp_method           = 'stump_gpu', \n",
    "    #mp_method           = \"scamp_naive\" --> Devuelve siempre 0 en el ejemplo de Pulsus Raxodus | why?\n",
    "    dm_method           = 'scamp',\n",
    "    #dm_method           = 'scamp',\n",
    "    debug               = False,\n",
    "    time_flag           = True,\n",
    "    allow_experimental  = False, # Falla con allow experimental\n",
    "    ensure_symetric     = False,\n",
    "    subsequence_len     = w, \n",
    "    provide_len         = False,\n",
    "    downsample_flag     = False,\n",
    "    min_lag             = 8,\n",
    "    verbose             = 3,\n",
    "    threads             = 1,\n",
    "    gpus                = [1],\n",
    "    compute_mp          = False\n",
    ")"
   ]
  },
  {
   "cell_type": "code",
   "execution_count": null,
   "id": "b5b39242-a533-4091-a709-d0363e59c7a4",
   "metadata": {},
   "outputs": [],
   "source": [
    "\"\"\"\n",
    "data_MPlot.compute(\n",
    "    mp_method           = 'stump_gpu', \n",
    "    #mp_method           = \"scamp_naive\" --> Devuelve siempre 0 en el ejemplo de Pulsus Raxodus | why?\n",
    "    dm_method           = 'stump',\n",
    "    #dm_method           = 'scamp',\n",
    "    debug               = False,\n",
    "    time_flag           = True,\n",
    "    allow_experimental  = True,\n",
    "    ensure_symetric     = False,\n",
    "    max_points          = 10000,\n",
    "    subsequence_len     = w, #1 heartbeat\n",
    "    provide_len         = False,\n",
    "    downsample_flag     = True,\n",
    "    min_lag             = 8,\n",
    "    verbose             = verbose,\n",
    "    threads             = 1,\n",
    "    gpus                = [1]\n",
    ")\n",
    "\"\"\""
   ]
  },
  {
   "cell_type": "code",
   "execution_count": null,
   "id": "39972dff-b0d3-4415-b6ca-ac2d732e3f41",
   "metadata": {},
   "outputs": [],
   "source": [
    "\"\"\"\n",
    "data_MPlot.compute(\n",
    "    mp_method           = 'stump_gpu', \n",
    "    #mp_method           = \"scamp_naive\" --> Devuelve siempre 0 en el ejemplo de Pulsus Raxodus | why?\n",
    "    dm_method           = 'stump',\n",
    "    #dm_method           = 'scamp',\n",
    "    debug               = False,\n",
    "    time_flag           = True,\n",
    "    allow_experimental  = True,\n",
    "    ensure_symetric     = False,\n",
    "    max_points          = np.inf,\n",
    "    subsequence_len     = w, #1 heartbeat\n",
    "    provide_len         = False,\n",
    "    downsample_flag     = False,\n",
    "    min_lag             = 8,\n",
    "    verbose             = verbose,\n",
    "    threads             = 1,\n",
    "    gpus                = [1]\n",
    ")\n",
    "\"\"\""
   ]
  },
  {
   "cell_type": "code",
   "execution_count": null,
   "id": "f97da3f0-f3ef-4ca2-aaa7-b188606d3fca",
   "metadata": {},
   "outputs": [],
   "source": [
    "run.finish()"
   ]
  }
 ],
 "metadata": {
  "kernelspec": {
   "display_name": "Python 3 (ipykernel)",
   "language": "python",
   "name": "python3"
  },
  "language_info": {
   "codemirror_mode": {
    "name": "ipython",
    "version": 3
   },
   "file_extension": ".py",
   "mimetype": "text/x-python",
   "name": "python",
   "nbconvert_exporter": "python",
   "pygments_lexer": "ipython3",
   "version": "3.10.13"
  }
 },
 "nbformat": 4,
 "nbformat_minor": 5
}
